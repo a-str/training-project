{
 "cells": [
  {
   "cell_type": "markdown",
   "metadata": {},
   "source": [
    "# Актуализация показателей кредитного скорринга\n",
    "\n",
    "Исследовать показатели заёмщиков для актуализации системы кредитного скорринга физических лиц. Определить как влияют параметры клиентов на наличие просроченной задолженности."
   ]
  },
  {
   "cell_type": "markdown",
   "metadata": {},
   "source": [
    "##  Импорт и изучение данных"
   ]
  },
  {
   "cell_type": "code",
   "execution_count": 1,
   "metadata": {},
   "outputs": [],
   "source": [
    "# Импортируем необходимые библиотеки и загрузим исходные данные для анализа\n",
    "import pandas as pd\n",
    "from pymystem3 import Mystem\n",
    "m = Mystem()\n",
    "df = pd.read_csv('/datasets/data.csv')"
   ]
  },
  {
   "cell_type": "code",
   "execution_count": 2,
   "metadata": {},
   "outputs": [
    {
     "data": {
      "text/html": [
       "<div>\n",
       "<style scoped>\n",
       "    .dataframe tbody tr th:only-of-type {\n",
       "        vertical-align: middle;\n",
       "    }\n",
       "\n",
       "    .dataframe tbody tr th {\n",
       "        vertical-align: top;\n",
       "    }\n",
       "\n",
       "    .dataframe thead th {\n",
       "        text-align: right;\n",
       "    }\n",
       "</style>\n",
       "<table border=\"1\" class=\"dataframe\">\n",
       "  <thead>\n",
       "    <tr style=\"text-align: right;\">\n",
       "      <th></th>\n",
       "      <th>children</th>\n",
       "      <th>days_employed</th>\n",
       "      <th>dob_years</th>\n",
       "      <th>education</th>\n",
       "      <th>education_id</th>\n",
       "      <th>family_status</th>\n",
       "      <th>family_status_id</th>\n",
       "      <th>gender</th>\n",
       "      <th>income_type</th>\n",
       "      <th>debt</th>\n",
       "      <th>total_income</th>\n",
       "      <th>purpose</th>\n",
       "    </tr>\n",
       "  </thead>\n",
       "  <tbody>\n",
       "    <tr>\n",
       "      <td>0</td>\n",
       "      <td>1</td>\n",
       "      <td>-8437.673028</td>\n",
       "      <td>42</td>\n",
       "      <td>высшее</td>\n",
       "      <td>0</td>\n",
       "      <td>женат / замужем</td>\n",
       "      <td>0</td>\n",
       "      <td>F</td>\n",
       "      <td>сотрудник</td>\n",
       "      <td>0</td>\n",
       "      <td>253875.639453</td>\n",
       "      <td>покупка жилья</td>\n",
       "    </tr>\n",
       "    <tr>\n",
       "      <td>1</td>\n",
       "      <td>1</td>\n",
       "      <td>-4024.803754</td>\n",
       "      <td>36</td>\n",
       "      <td>среднее</td>\n",
       "      <td>1</td>\n",
       "      <td>женат / замужем</td>\n",
       "      <td>0</td>\n",
       "      <td>F</td>\n",
       "      <td>сотрудник</td>\n",
       "      <td>0</td>\n",
       "      <td>112080.014102</td>\n",
       "      <td>приобретение автомобиля</td>\n",
       "    </tr>\n",
       "    <tr>\n",
       "      <td>2</td>\n",
       "      <td>0</td>\n",
       "      <td>-5623.422610</td>\n",
       "      <td>33</td>\n",
       "      <td>Среднее</td>\n",
       "      <td>1</td>\n",
       "      <td>женат / замужем</td>\n",
       "      <td>0</td>\n",
       "      <td>M</td>\n",
       "      <td>сотрудник</td>\n",
       "      <td>0</td>\n",
       "      <td>145885.952297</td>\n",
       "      <td>покупка жилья</td>\n",
       "    </tr>\n",
       "    <tr>\n",
       "      <td>3</td>\n",
       "      <td>3</td>\n",
       "      <td>-4124.747207</td>\n",
       "      <td>32</td>\n",
       "      <td>среднее</td>\n",
       "      <td>1</td>\n",
       "      <td>женат / замужем</td>\n",
       "      <td>0</td>\n",
       "      <td>M</td>\n",
       "      <td>сотрудник</td>\n",
       "      <td>0</td>\n",
       "      <td>267628.550329</td>\n",
       "      <td>дополнительное образование</td>\n",
       "    </tr>\n",
       "    <tr>\n",
       "      <td>4</td>\n",
       "      <td>0</td>\n",
       "      <td>340266.072047</td>\n",
       "      <td>53</td>\n",
       "      <td>среднее</td>\n",
       "      <td>1</td>\n",
       "      <td>гражданский брак</td>\n",
       "      <td>1</td>\n",
       "      <td>F</td>\n",
       "      <td>пенсионер</td>\n",
       "      <td>0</td>\n",
       "      <td>158616.077870</td>\n",
       "      <td>сыграть свадьбу</td>\n",
       "    </tr>\n",
       "    <tr>\n",
       "      <td>5</td>\n",
       "      <td>0</td>\n",
       "      <td>-926.185831</td>\n",
       "      <td>27</td>\n",
       "      <td>высшее</td>\n",
       "      <td>0</td>\n",
       "      <td>гражданский брак</td>\n",
       "      <td>1</td>\n",
       "      <td>M</td>\n",
       "      <td>компаньон</td>\n",
       "      <td>0</td>\n",
       "      <td>255763.565419</td>\n",
       "      <td>покупка жилья</td>\n",
       "    </tr>\n",
       "    <tr>\n",
       "      <td>6</td>\n",
       "      <td>0</td>\n",
       "      <td>-2879.202052</td>\n",
       "      <td>43</td>\n",
       "      <td>высшее</td>\n",
       "      <td>0</td>\n",
       "      <td>женат / замужем</td>\n",
       "      <td>0</td>\n",
       "      <td>F</td>\n",
       "      <td>компаньон</td>\n",
       "      <td>0</td>\n",
       "      <td>240525.971920</td>\n",
       "      <td>операции с жильем</td>\n",
       "    </tr>\n",
       "    <tr>\n",
       "      <td>7</td>\n",
       "      <td>0</td>\n",
       "      <td>-152.779569</td>\n",
       "      <td>50</td>\n",
       "      <td>СРЕДНЕЕ</td>\n",
       "      <td>1</td>\n",
       "      <td>женат / замужем</td>\n",
       "      <td>0</td>\n",
       "      <td>M</td>\n",
       "      <td>сотрудник</td>\n",
       "      <td>0</td>\n",
       "      <td>135823.934197</td>\n",
       "      <td>образование</td>\n",
       "    </tr>\n",
       "    <tr>\n",
       "      <td>8</td>\n",
       "      <td>2</td>\n",
       "      <td>-6929.865299</td>\n",
       "      <td>35</td>\n",
       "      <td>ВЫСШЕЕ</td>\n",
       "      <td>0</td>\n",
       "      <td>гражданский брак</td>\n",
       "      <td>1</td>\n",
       "      <td>F</td>\n",
       "      <td>сотрудник</td>\n",
       "      <td>0</td>\n",
       "      <td>95856.832424</td>\n",
       "      <td>на проведение свадьбы</td>\n",
       "    </tr>\n",
       "    <tr>\n",
       "      <td>9</td>\n",
       "      <td>0</td>\n",
       "      <td>-2188.756445</td>\n",
       "      <td>41</td>\n",
       "      <td>среднее</td>\n",
       "      <td>1</td>\n",
       "      <td>женат / замужем</td>\n",
       "      <td>0</td>\n",
       "      <td>M</td>\n",
       "      <td>сотрудник</td>\n",
       "      <td>0</td>\n",
       "      <td>144425.938277</td>\n",
       "      <td>покупка жилья для семьи</td>\n",
       "    </tr>\n",
       "  </tbody>\n",
       "</table>\n",
       "</div>"
      ],
      "text/plain": [
       "   children  days_employed  dob_years education  education_id  \\\n",
       "0         1   -8437.673028         42    высшее             0   \n",
       "1         1   -4024.803754         36   среднее             1   \n",
       "2         0   -5623.422610         33   Среднее             1   \n",
       "3         3   -4124.747207         32   среднее             1   \n",
       "4         0  340266.072047         53   среднее             1   \n",
       "5         0    -926.185831         27    высшее             0   \n",
       "6         0   -2879.202052         43    высшее             0   \n",
       "7         0    -152.779569         50   СРЕДНЕЕ             1   \n",
       "8         2   -6929.865299         35    ВЫСШЕЕ             0   \n",
       "9         0   -2188.756445         41   среднее             1   \n",
       "\n",
       "      family_status  family_status_id gender income_type  debt   total_income  \\\n",
       "0   женат / замужем                 0      F   сотрудник     0  253875.639453   \n",
       "1   женат / замужем                 0      F   сотрудник     0  112080.014102   \n",
       "2   женат / замужем                 0      M   сотрудник     0  145885.952297   \n",
       "3   женат / замужем                 0      M   сотрудник     0  267628.550329   \n",
       "4  гражданский брак                 1      F   пенсионер     0  158616.077870   \n",
       "5  гражданский брак                 1      M   компаньон     0  255763.565419   \n",
       "6   женат / замужем                 0      F   компаньон     0  240525.971920   \n",
       "7   женат / замужем                 0      M   сотрудник     0  135823.934197   \n",
       "8  гражданский брак                 1      F   сотрудник     0   95856.832424   \n",
       "9   женат / замужем                 0      M   сотрудник     0  144425.938277   \n",
       "\n",
       "                      purpose  \n",
       "0               покупка жилья  \n",
       "1     приобретение автомобиля  \n",
       "2               покупка жилья  \n",
       "3  дополнительное образование  \n",
       "4             сыграть свадьбу  \n",
       "5               покупка жилья  \n",
       "6           операции с жильем  \n",
       "7                 образование  \n",
       "8       на проведение свадьбы  \n",
       "9     покупка жилья для семьи  "
      ]
     },
     "execution_count": 2,
     "metadata": {},
     "output_type": "execute_result"
    }
   ],
   "source": [
    "# выведем на экран первые 10 строк таблицы\n",
    "df.head(10)"
   ]
  },
  {
   "cell_type": "code",
   "execution_count": 3,
   "metadata": {},
   "outputs": [
    {
     "name": "stdout",
     "output_type": "stream",
     "text": [
      "<class 'pandas.core.frame.DataFrame'>\n",
      "RangeIndex: 21525 entries, 0 to 21524\n",
      "Data columns (total 12 columns):\n",
      "children            21525 non-null int64\n",
      "days_employed       19351 non-null float64\n",
      "dob_years           21525 non-null int64\n",
      "education           21525 non-null object\n",
      "education_id        21525 non-null int64\n",
      "family_status       21525 non-null object\n",
      "family_status_id    21525 non-null int64\n",
      "gender              21525 non-null object\n",
      "income_type         21525 non-null object\n",
      "debt                21525 non-null int64\n",
      "total_income        19351 non-null float64\n",
      "purpose             21525 non-null object\n",
      "dtypes: float64(2), int64(5), object(5)\n",
      "memory usage: 2.0+ MB\n"
     ]
    }
   ],
   "source": [
    "# получим общую информацию о данных в таблице df\n",
    "df.info()"
   ]
  },
  {
   "cell_type": "markdown",
   "metadata": {},
   "source": [
    "Видим несоответствие типа данных в колонках `days_employed` и `total_income`  - float64, вместо int64. Данные в `days_employed` содержат как положительные, так и отрицательные значения, а также явно ошибочные значения в 5-ой строке (стаж не может быть порядка тысячи лет).\n",
    "\n",
    "Также видим наличие неявных дубликатов в столбце `education`.\n",
    "\n",
    "Количество значений в столбцах различается. Значит, в данных есть пропущенные значения."
   ]
  },
  {
   "cell_type": "markdown",
   "metadata": {},
   "source": [
    "**Вывод**"
   ]
  },
  {
   "cell_type": "markdown",
   "metadata": {},
   "source": [
    "В каждой строке таблицы — данные о ранее выданном заемщику кредите. Часть колонок описывает заемщика: пол, возраст, образование, трудовой стаж, семейное положение, количество детей, ежемесячный доход. Остальные данные рассказывают о кредите: цель получения кредита, наличие задолженностей по возврату кредита.\n",
    "\n",
    "Предварительно можно утверждать, что, данных достаточно для проверки гипотез. Но встречаются пропуски и дубликаты в данных. В колонке days_employed данные явно ошибочны - но это не страшно, т.к. они не входят в программу анализа.\n",
    "\n",
    "Чтобы двигаться дальше, устраним проблемы в анализируемых данных."
   ]
  },
  {
   "cell_type": "markdown",
   "metadata": {},
   "source": [
    "## Предобработка данных"
   ]
  },
  {
   "cell_type": "markdown",
   "metadata": {},
   "source": [
    "### Обработка пропусков"
   ]
  },
  {
   "cell_type": "code",
   "execution_count": 4,
   "metadata": {},
   "outputs": [
    {
     "data": {
      "text/plain": [
       "children               0\n",
       "days_employed       2174\n",
       "dob_years              0\n",
       "education              0\n",
       "education_id           0\n",
       "family_status          0\n",
       "family_status_id       0\n",
       "gender                 0\n",
       "income_type            0\n",
       "debt                   0\n",
       "total_income        2174\n",
       "purpose                0\n",
       "dtype: int64"
      ]
     },
     "execution_count": 4,
     "metadata": {},
     "output_type": "execute_result"
    }
   ],
   "source": [
    "# подсчёт явных пропусков\n",
    "df.isna().sum()"
   ]
  },
  {
   "cell_type": "markdown",
   "metadata": {},
   "source": [
    "Не все пропущенные значения влияют на исследование. Так в days_employed пропуски не важны для работы. Достаточно заменить их медианными значениями характерными для анализируемых группы заещиков.\n",
    "\n",
    "Но пропуски в total_income будут влиять на расчет зависимости между уровнем дохода и возвратом кредита в срок. Учитывая, что количество таких пропусков порядка 1% от набора данных - принебрежем данным влиянием и заменим их медианным значением."
   ]
  },
  {
   "cell_type": "code",
   "execution_count": 5,
   "metadata": {},
   "outputs": [
    {
     "data": {
      "text/plain": [
       "0"
      ]
     },
     "execution_count": 5,
     "metadata": {},
     "output_type": "execute_result"
    }
   ],
   "source": [
    "# проверка отстутствия выхода за границы диаппазона отрицательных значений в 'days_employed' - в пределах возраста заемщика \n",
    "df_temp = df.query('(days_employed < 0)&(days_employed / 365 >= dob_years)')\n",
    "len(df_temp)"
   ]
  },
  {
   "cell_type": "markdown",
   "metadata": {},
   "source": [
    "Видим, что значения соответствуют интервалу возраста заемщика в днях"
   ]
  },
  {
   "cell_type": "code",
   "execution_count": 6,
   "metadata": {},
   "outputs": [
    {
     "data": {
      "text/plain": [
       "3445"
      ]
     },
     "execution_count": 6,
     "metadata": {},
     "output_type": "execute_result"
    }
   ],
   "source": [
    "# проверка отстутствия выхода за границы диаппазона положительных значений в 'days_employed' - пределах возраста заемщика\n",
    "df_temp = df.query('(days_employed > 0)&(days_employed / 365 >= dob_years)')\n",
    "len(df_temp)"
   ]
  },
  {
   "cell_type": "markdown",
   "metadata": {},
   "source": [
    "Видим, что значения выходят за значения интервала возраста заемщика в днях. Проверим гипотезу, что значения приведены в часах."
   ]
  },
  {
   "cell_type": "code",
   "execution_count": 7,
   "metadata": {},
   "outputs": [
    {
     "data": {
      "text/html": [
       "<div>\n",
       "<style scoped>\n",
       "    .dataframe tbody tr th:only-of-type {\n",
       "        vertical-align: middle;\n",
       "    }\n",
       "\n",
       "    .dataframe tbody tr th {\n",
       "        vertical-align: top;\n",
       "    }\n",
       "\n",
       "    .dataframe thead th {\n",
       "        text-align: right;\n",
       "    }\n",
       "</style>\n",
       "<table border=\"1\" class=\"dataframe\">\n",
       "  <thead>\n",
       "    <tr style=\"text-align: right;\">\n",
       "      <th></th>\n",
       "      <th>children</th>\n",
       "      <th>days_employed</th>\n",
       "      <th>dob_years</th>\n",
       "      <th>education</th>\n",
       "      <th>education_id</th>\n",
       "      <th>family_status</th>\n",
       "      <th>family_status_id</th>\n",
       "      <th>gender</th>\n",
       "      <th>income_type</th>\n",
       "      <th>debt</th>\n",
       "      <th>total_income</th>\n",
       "      <th>purpose</th>\n",
       "    </tr>\n",
       "  </thead>\n",
       "  <tbody>\n",
       "    <tr>\n",
       "      <td>99</td>\n",
       "      <td>0</td>\n",
       "      <td>346541.618895</td>\n",
       "      <td>0</td>\n",
       "      <td>Среднее</td>\n",
       "      <td>1</td>\n",
       "      <td>женат / замужем</td>\n",
       "      <td>0</td>\n",
       "      <td>F</td>\n",
       "      <td>пенсионер</td>\n",
       "      <td>0</td>\n",
       "      <td>71291.522491</td>\n",
       "      <td>автомобиль</td>\n",
       "    </tr>\n",
       "    <tr>\n",
       "      <td>157</td>\n",
       "      <td>0</td>\n",
       "      <td>348414.028009</td>\n",
       "      <td>38</td>\n",
       "      <td>среднее</td>\n",
       "      <td>1</td>\n",
       "      <td>женат / замужем</td>\n",
       "      <td>0</td>\n",
       "      <td>F</td>\n",
       "      <td>пенсионер</td>\n",
       "      <td>1</td>\n",
       "      <td>113560.650035</td>\n",
       "      <td>сделка с автомобилем</td>\n",
       "    </tr>\n",
       "    <tr>\n",
       "      <td>578</td>\n",
       "      <td>0</td>\n",
       "      <td>397856.565013</td>\n",
       "      <td>0</td>\n",
       "      <td>среднее</td>\n",
       "      <td>1</td>\n",
       "      <td>женат / замужем</td>\n",
       "      <td>0</td>\n",
       "      <td>F</td>\n",
       "      <td>пенсионер</td>\n",
       "      <td>0</td>\n",
       "      <td>97620.687042</td>\n",
       "      <td>строительство собственной недвижимости</td>\n",
       "    </tr>\n",
       "    <tr>\n",
       "      <td>751</td>\n",
       "      <td>0</td>\n",
       "      <td>390755.464054</td>\n",
       "      <td>41</td>\n",
       "      <td>среднее</td>\n",
       "      <td>1</td>\n",
       "      <td>женат / замужем</td>\n",
       "      <td>0</td>\n",
       "      <td>M</td>\n",
       "      <td>пенсионер</td>\n",
       "      <td>0</td>\n",
       "      <td>151898.693438</td>\n",
       "      <td>операции со своей недвижимостью</td>\n",
       "    </tr>\n",
       "    <tr>\n",
       "      <td>776</td>\n",
       "      <td>0</td>\n",
       "      <td>365336.560325</td>\n",
       "      <td>38</td>\n",
       "      <td>среднее</td>\n",
       "      <td>1</td>\n",
       "      <td>женат / замужем</td>\n",
       "      <td>0</td>\n",
       "      <td>F</td>\n",
       "      <td>пенсионер</td>\n",
       "      <td>0</td>\n",
       "      <td>73859.425084</td>\n",
       "      <td>покупка недвижимости</td>\n",
       "    </tr>\n",
       "    <tr>\n",
       "      <td>1175</td>\n",
       "      <td>0</td>\n",
       "      <td>370879.508002</td>\n",
       "      <td>0</td>\n",
       "      <td>среднее</td>\n",
       "      <td>1</td>\n",
       "      <td>женат / замужем</td>\n",
       "      <td>0</td>\n",
       "      <td>F</td>\n",
       "      <td>пенсионер</td>\n",
       "      <td>0</td>\n",
       "      <td>313949.845188</td>\n",
       "      <td>получение дополнительного образования</td>\n",
       "    </tr>\n",
       "    <tr>\n",
       "      <td>1242</td>\n",
       "      <td>0</td>\n",
       "      <td>334764.259831</td>\n",
       "      <td>22</td>\n",
       "      <td>Среднее</td>\n",
       "      <td>1</td>\n",
       "      <td>Не женат / не замужем</td>\n",
       "      <td>4</td>\n",
       "      <td>F</td>\n",
       "      <td>пенсионер</td>\n",
       "      <td>0</td>\n",
       "      <td>89368.600062</td>\n",
       "      <td>получение высшего образования</td>\n",
       "    </tr>\n",
       "    <tr>\n",
       "      <td>1383</td>\n",
       "      <td>0</td>\n",
       "      <td>353802.811675</td>\n",
       "      <td>37</td>\n",
       "      <td>среднее</td>\n",
       "      <td>1</td>\n",
       "      <td>вдовец / вдова</td>\n",
       "      <td>2</td>\n",
       "      <td>F</td>\n",
       "      <td>пенсионер</td>\n",
       "      <td>0</td>\n",
       "      <td>216452.226085</td>\n",
       "      <td>строительство недвижимости</td>\n",
       "    </tr>\n",
       "    <tr>\n",
       "      <td>1446</td>\n",
       "      <td>0</td>\n",
       "      <td>338939.641634</td>\n",
       "      <td>37</td>\n",
       "      <td>СРЕДНЕЕ</td>\n",
       "      <td>1</td>\n",
       "      <td>гражданский брак</td>\n",
       "      <td>1</td>\n",
       "      <td>M</td>\n",
       "      <td>пенсионер</td>\n",
       "      <td>0</td>\n",
       "      <td>148657.128499</td>\n",
       "      <td>свадьба</td>\n",
       "    </tr>\n",
       "    <tr>\n",
       "      <td>1637</td>\n",
       "      <td>0</td>\n",
       "      <td>399260.448516</td>\n",
       "      <td>39</td>\n",
       "      <td>среднее</td>\n",
       "      <td>1</td>\n",
       "      <td>женат / замужем</td>\n",
       "      <td>0</td>\n",
       "      <td>M</td>\n",
       "      <td>пенсионер</td>\n",
       "      <td>0</td>\n",
       "      <td>211513.978152</td>\n",
       "      <td>операции с недвижимостью</td>\n",
       "    </tr>\n",
       "  </tbody>\n",
       "</table>\n",
       "</div>"
      ],
      "text/plain": [
       "      children  days_employed  dob_years education  education_id  \\\n",
       "99           0  346541.618895          0   Среднее             1   \n",
       "157          0  348414.028009         38   среднее             1   \n",
       "578          0  397856.565013          0   среднее             1   \n",
       "751          0  390755.464054         41   среднее             1   \n",
       "776          0  365336.560325         38   среднее             1   \n",
       "1175         0  370879.508002          0   среднее             1   \n",
       "1242         0  334764.259831         22   Среднее             1   \n",
       "1383         0  353802.811675         37   среднее             1   \n",
       "1446         0  338939.641634         37   СРЕДНЕЕ             1   \n",
       "1637         0  399260.448516         39   среднее             1   \n",
       "\n",
       "              family_status  family_status_id gender income_type  debt  \\\n",
       "99          женат / замужем                 0      F   пенсионер     0   \n",
       "157         женат / замужем                 0      F   пенсионер     1   \n",
       "578         женат / замужем                 0      F   пенсионер     0   \n",
       "751         женат / замужем                 0      M   пенсионер     0   \n",
       "776         женат / замужем                 0      F   пенсионер     0   \n",
       "1175        женат / замужем                 0      F   пенсионер     0   \n",
       "1242  Не женат / не замужем                 4      F   пенсионер     0   \n",
       "1383         вдовец / вдова                 2      F   пенсионер     0   \n",
       "1446       гражданский брак                 1      M   пенсионер     0   \n",
       "1637        женат / замужем                 0      M   пенсионер     0   \n",
       "\n",
       "       total_income                                 purpose  \n",
       "99     71291.522491                              автомобиль  \n",
       "157   113560.650035                    сделка с автомобилем  \n",
       "578    97620.687042  строительство собственной недвижимости  \n",
       "751   151898.693438         операции со своей недвижимостью  \n",
       "776    73859.425084                    покупка недвижимости  \n",
       "1175  313949.845188   получение дополнительного образования  \n",
       "1242   89368.600062           получение высшего образования  \n",
       "1383  216452.226085              строительство недвижимости  \n",
       "1446  148657.128499                                 свадьба  \n",
       "1637  211513.978152                операции с недвижимостью  "
      ]
     },
     "execution_count": 7,
     "metadata": {},
     "output_type": "execute_result"
    }
   ],
   "source": [
    "# проверка положительных значений в 'days_employed' на условие значений в часах\n",
    "df_temp = df.query('(days_employed > 0)&(days_employed / 365 / 24 >= dob_years)')\n",
    "df_temp.head(10)"
   ]
  },
  {
   "cell_type": "markdown",
   "metadata": {},
   "source": [
    "Видим, что данные приведены не в часах - указанное количество больше чем число прожитых клиентом часов. Можно отметить, что заещики в выборке имеют статус пенсионера и безработного - проверим гипотезу о расчете стажа при нулевой дате первого трудоустройства в анкете, что при подсчете стажа может указывать на период с 01.01.1970 по дату заполнения анеты. В этом случае расхождения в стаже заемщиков в выборке могут объясняться разными датами заполнения анкеты."
   ]
  },
  {
   "cell_type": "code",
   "execution_count": 8,
   "metadata": {},
   "outputs": [
    {
     "name": "stdout",
     "output_type": "stream",
     "text": [
      "Расчетный год заполнения анкеты заемщиком index=1242: 2008\n"
     ]
    }
   ],
   "source": [
    "# проверка положительных значений в 'days_employed' на условие значений в часах с даты старта UTC, на примере строки 1242\n",
    "print(f'Расчетный год заполнения анкеты заемщиком index=1242: {int(1970+334764/365/24)}')"
   ]
  },
  {
   "cell_type": "markdown",
   "metadata": {},
   "source": [
    "Произведенный расчет не опроверг гипотезу об отсутствии значений даты трудоустройства в анкете заемщика. Таким образом, можем принять гипотезу в качестве рабочей и произвести замену положительных значений стажа на отрицательные медианные для групп по `income_type`"
   ]
  },
  {
   "cell_type": "code",
   "execution_count": 9,
   "metadata": {},
   "outputs": [
    {
     "name": "stdout",
     "output_type": "stream",
     "text": [
      "сотрудник : медианный стаж = -1574.2028211070851\n",
      "пенсионер : медианный стаж = nan\n",
      "компаньон : медианный стаж = -1547.3822226779334\n",
      "госслужащий : медианный стаж = -2689.3683533043886\n",
      "безработный : медианный стаж = nan\n",
      "предприниматель : медианный стаж = -520.8480834953765\n",
      "студент : медианный стаж = -578.7515535382181\n",
      "в декрете : медианный стаж = -3296.7599620220594\n"
     ]
    }
   ],
   "source": [
    "# замена пропущенных и положительных значений в 'days_employed' на медианное значение отрицательных значенй для группировки по `income_type`\n",
    "for status in df['income_type'].unique():\n",
    "    median = df.query('days_employed < 0').loc[df['income_type'] == status, 'days_employed'].median()\n",
    "    print(status, ': медианный стаж =', median)\n",
    "    df.loc[(df['income_type'] == status)&(df['days_employed'] > 0), 'days_employed'] = median\n",
    "    df.loc[(df['income_type'] == status)&(df['days_employed'].isna()), 'days_employed'] = median"
   ]
  },
  {
   "cell_type": "markdown",
   "metadata": {},
   "source": [
    "Видим, что у категорий заемщиков \"пенсионер\" и \"безработный\" отстутствует стаж. Заменим стаж для данных категорий на медианный стаж всех категорий заемщиков."
   ]
  },
  {
   "cell_type": "code",
   "execution_count": 10,
   "metadata": {},
   "outputs": [
    {
     "name": "stdout",
     "output_type": "stream",
     "text": [
      "пенсионер : медианный стаж = -1574.2028211070851\n",
      "безработный : медианный стаж = -1574.2028211070851\n"
     ]
    }
   ],
   "source": [
    "# замена стажа пенсионера и безработного медианным стажем всех заемщиков\n",
    "for status_free in ['пенсионер', 'безработный']:\n",
    "    median = df.loc[df['days_employed'] < 0, 'days_employed'].median()\n",
    "    print(status_free, ': медианный стаж =', median)\n",
    "    df.loc[(df['income_type'] == status_free)&(df['days_employed'] > 0), 'days_employed'] = median\n",
    "    df.loc[(df['income_type'] == status_free)&(df['days_employed'].isna()), 'days_employed'] = median"
   ]
  },
  {
   "cell_type": "code",
   "execution_count": 11,
   "metadata": {},
   "outputs": [
    {
     "data": {
      "text/plain": [
       "0"
      ]
     },
     "execution_count": 11,
     "metadata": {},
     "output_type": "execute_result"
    }
   ],
   "source": [
    "# проверка отстутсвия положительных значений в 'days_employed' на условие значений в часах\n",
    "df_temp = df.query('days_employed > 0')\n",
    "len(df_temp)"
   ]
  },
  {
   "cell_type": "markdown",
   "metadata": {},
   "source": [
    "Пропущенные значения в графе 'total_income' заменим на медианные значения дла соответствующей категории замщиков."
   ]
  },
  {
   "cell_type": "code",
   "execution_count": 12,
   "metadata": {},
   "outputs": [],
   "source": [
    "# замена пропущенных значений в 'total_income' на медианное значение для группировки по `income_type`\n",
    "# df['total_income'] = df['total_income'].fillna(df['total_income'].median())\n",
    "for status in df['income_type'].unique():\n",
    "    median = df.loc[df['income_type'] == status, 'total_income'].median()\n",
    "    df.loc[(df['income_type'] == status)&(df['total_income'].isna()), 'total_income'] = median"
   ]
  },
  {
   "cell_type": "markdown",
   "metadata": {},
   "source": [
    "Заменим пропущенные значения в 'total_income' на медианное значение для группировки по `income_type` + 'education' + 'dob_years'."
   ]
  },
  {
   "cell_type": "code",
   "execution_count": 13,
   "metadata": {},
   "outputs": [
    {
     "data": {
      "text/html": [
       "<div>\n",
       "<style scoped>\n",
       "    .dataframe tbody tr th:only-of-type {\n",
       "        vertical-align: middle;\n",
       "    }\n",
       "\n",
       "    .dataframe tbody tr th {\n",
       "        vertical-align: top;\n",
       "    }\n",
       "\n",
       "    .dataframe thead th {\n",
       "        text-align: right;\n",
       "    }\n",
       "</style>\n",
       "<table border=\"1\" class=\"dataframe\">\n",
       "  <thead>\n",
       "    <tr style=\"text-align: right;\">\n",
       "      <th></th>\n",
       "      <th></th>\n",
       "      <th></th>\n",
       "      <th>total_income</th>\n",
       "    </tr>\n",
       "    <tr>\n",
       "      <th>income_type</th>\n",
       "      <th>education</th>\n",
       "      <th>dob_years</th>\n",
       "      <th></th>\n",
       "    </tr>\n",
       "  </thead>\n",
       "  <tbody>\n",
       "    <tr>\n",
       "      <td rowspan=\"2\" valign=\"top\">безработный</td>\n",
       "      <td>Высшее</td>\n",
       "      <td>45</td>\n",
       "      <td>202722.511368</td>\n",
       "    </tr>\n",
       "    <tr>\n",
       "      <td>среднее</td>\n",
       "      <td>31</td>\n",
       "      <td>59956.991984</td>\n",
       "    </tr>\n",
       "    <tr>\n",
       "      <td>в декрете</td>\n",
       "      <td>СРЕДНЕЕ</td>\n",
       "      <td>39</td>\n",
       "      <td>53829.130729</td>\n",
       "    </tr>\n",
       "    <tr>\n",
       "      <td rowspan=\"2\" valign=\"top\">госслужащий</td>\n",
       "      <td rowspan=\"2\" valign=\"top\">ВЫСШЕЕ</td>\n",
       "      <td>21</td>\n",
       "      <td>349229.424952</td>\n",
       "    </tr>\n",
       "    <tr>\n",
       "      <td>24</td>\n",
       "      <td>175195.751491</td>\n",
       "    </tr>\n",
       "    <tr>\n",
       "      <td>...</td>\n",
       "      <td>...</td>\n",
       "      <td>...</td>\n",
       "      <td>...</td>\n",
       "    </tr>\n",
       "    <tr>\n",
       "      <td rowspan=\"4\" valign=\"top\">сотрудник</td>\n",
       "      <td rowspan=\"2\" valign=\"top\">среднее</td>\n",
       "      <td>71</td>\n",
       "      <td>154130.628685</td>\n",
       "    </tr>\n",
       "    <tr>\n",
       "      <td>74</td>\n",
       "      <td>98945.906177</td>\n",
       "    </tr>\n",
       "    <tr>\n",
       "      <td rowspan=\"2\" valign=\"top\">ученая степень</td>\n",
       "      <td>37</td>\n",
       "      <td>115949.039788</td>\n",
       "    </tr>\n",
       "    <tr>\n",
       "      <td>58</td>\n",
       "      <td>268411.214536</td>\n",
       "    </tr>\n",
       "    <tr>\n",
       "      <td>студент</td>\n",
       "      <td>высшее</td>\n",
       "      <td>22</td>\n",
       "      <td>98201.625314</td>\n",
       "    </tr>\n",
       "  </tbody>\n",
       "</table>\n",
       "<p>1226 rows × 1 columns</p>\n",
       "</div>"
      ],
      "text/plain": [
       "                                       total_income\n",
       "income_type education      dob_years               \n",
       "безработный Высшее         45         202722.511368\n",
       "            среднее        31          59956.991984\n",
       "в декрете   СРЕДНЕЕ        39          53829.130729\n",
       "госслужащий ВЫСШЕЕ         21         349229.424952\n",
       "                           24         175195.751491\n",
       "...                                             ...\n",
       "сотрудник   среднее        71         154130.628685\n",
       "                           74          98945.906177\n",
       "            ученая степень 37         115949.039788\n",
       "                           58         268411.214536\n",
       "студент     высшее         22          98201.625314\n",
       "\n",
       "[1226 rows x 1 columns]"
      ]
     },
     "execution_count": 13,
     "metadata": {},
     "output_type": "execute_result"
    }
   ],
   "source": [
    "# составим сводную таблицу для расчета пропущенных значений в колонке `total_income`\n",
    "svod_3 = pd.pivot_table(df, index=['income_type', 'education', 'dob_years'], aggfunc={'total_income':'median'})\n",
    "svod_3"
   ]
  },
  {
   "cell_type": "code",
   "execution_count": 15,
   "metadata": {},
   "outputs": [
    {
     "data": {
      "text/plain": [
       "children            0\n",
       "days_employed       0\n",
       "dob_years           0\n",
       "education           0\n",
       "education_id        0\n",
       "family_status       0\n",
       "family_status_id    0\n",
       "gender              0\n",
       "income_type         0\n",
       "debt                0\n",
       "total_income        0\n",
       "purpose             0\n",
       "dtype: int64"
      ]
     },
     "execution_count": 15,
     "metadata": {},
     "output_type": "execute_result"
    }
   ],
   "source": [
    "# проверка отстуствия пропусков\n",
    "df.isna().sum()"
   ]
  },
  {
   "cell_type": "code",
   "execution_count": 16,
   "metadata": {
    "scrolled": true
   },
   "outputs": [
    {
     "data": {
      "text/plain": [
       "array([ 0, 19, 20, 21, 22, 23, 24, 25, 26, 27, 28, 29, 30, 31, 32, 33, 34,\n",
       "       35, 36, 37, 38, 39, 40, 41, 42, 43, 44, 45, 46, 47, 48, 49, 50, 51,\n",
       "       52, 53, 54, 55, 56, 57, 58, 59, 60, 61, 62, 63, 64, 65, 66, 67, 68,\n",
       "       69, 70, 71, 72, 73, 74, 75])"
      ]
     },
     "execution_count": 16,
     "metadata": {},
     "output_type": "execute_result"
    }
   ],
   "source": [
    "b"
   ]
  },
  {
   "cell_type": "code",
   "execution_count": 61,
   "metadata": {},
   "outputs": [
    {
     "data": {
      "text/plain": [
       "101"
      ]
     },
     "execution_count": 61,
     "metadata": {},
     "output_type": "execute_result"
    }
   ],
   "source": [
    "# подсчет количества выявленных заемщиков с нулевым стажем\n",
    "df[df['dob_years'] == 0]['dob_years'].count()"
   ]
  },
  {
   "cell_type": "code",
   "execution_count": 77,
   "metadata": {},
   "outputs": [
    {
     "data": {
      "text/plain": [
       "0"
      ]
     },
     "execution_count": 77,
     "metadata": {},
     "output_type": "execute_result"
    }
   ],
   "source": [
    "# данный показатель не повлияет существенно на результат исследования,\n",
    "# поэтому заменим значения 0 в 'dob_years' на медианное значение показателя для группировки по `income_type`\n",
    "for status in df['income_type'].unique():\n",
    "    median = df.loc[(df['income_type'] == status)&(df['dob_years'] != 0), 'dob_years'].median()\n",
    "    df.loc[(df['income_type'] == status)&(df['dob_years'] == 0), 'dob_years'] = median\n",
    "    \n",
    "df[df['dob_years'] == 0]['dob_years'].count()"
   ]
  },
  {
   "cell_type": "markdown",
   "metadata": {},
   "source": [
    "**Вывод**"
   ]
  },
  {
   "cell_type": "markdown",
   "metadata": {},
   "source": [
    "Все явные и неявные пропуски были выявлены и заменены медианными и средними значениями. Пропуски данных в `days_employed` вероятно обусловлены отстутствием данных о трудоустройстве у пенсионеров и безработных замещиков. Пропуски данных в `total_income` вероятно обусловленых отстутствием дохода в анкете, т.к. данные замщики относятся к безработным и пенсионерам."
   ]
  },
  {
   "cell_type": "markdown",
   "metadata": {},
   "source": [
    "### Изменение типов данных"
   ]
  },
  {
   "cell_type": "markdown",
   "metadata": {},
   "source": [
    "Приведем данные по стажу, возрасту и доходу заемщика к целым числам - данной точности достаточно для анализа."
   ]
  },
  {
   "cell_type": "code",
   "execution_count": 81,
   "metadata": {},
   "outputs": [],
   "source": [
    "# изменение типа данных методом astype() в `total_income` на целочисленный и `days_employed` на целочисленный по модулю\n",
    "df['total_income'] = df['total_income'].astype('int64')\n",
    "df['days_employed'] = df['days_employed'].astype('int64').abs()\n",
    "df['dob_years'] = df['dob_years'].astype('int64')"
   ]
  },
  {
   "cell_type": "code",
   "execution_count": 82,
   "metadata": {},
   "outputs": [
    {
     "name": "stdout",
     "output_type": "stream",
     "text": [
      "<class 'pandas.core.frame.DataFrame'>\n",
      "RangeIndex: 21454 entries, 0 to 21453\n",
      "Data columns (total 15 columns):\n",
      "children            21454 non-null int64\n",
      "days_employed       21454 non-null int64\n",
      "dob_years           21454 non-null int64\n",
      "education           21454 non-null object\n",
      "education_id        21454 non-null int64\n",
      "family_status       21454 non-null object\n",
      "family_status_id    21454 non-null int64\n",
      "gender              21454 non-null object\n",
      "income_type         21454 non-null object\n",
      "debt                21454 non-null int64\n",
      "total_income        21454 non-null int64\n",
      "purpose             21454 non-null object\n",
      "purpose_extract     21454 non-null object\n",
      "income_type_id      21454 non-null int64\n",
      "total_income_q      21454 non-null category\n",
      "dtypes: category(1), int64(8), object(6)\n",
      "memory usage: 2.3+ MB\n"
     ]
    }
   ],
   "source": [
    "# проверка изменения типа данных\n",
    "df.info()"
   ]
  },
  {
   "cell_type": "markdown",
   "metadata": {},
   "source": [
    "**Вывод**"
   ]
  },
  {
   "cell_type": "markdown",
   "metadata": {},
   "source": [
    "Вещественный тип данных заменен на целочисленный по модулю значения. Приведение к модулю потребовалось в связи с вероятной  ошибкой в расчете стажа - из меньшей даты была вычтена большая."
   ]
  },
  {
   "cell_type": "markdown",
   "metadata": {},
   "source": [
    "### Обработка дубликатов"
   ]
  },
  {
   "cell_type": "markdown",
   "metadata": {},
   "source": [
    "Проверим и удалим явные дубликаты."
   ]
  },
  {
   "cell_type": "code",
   "execution_count": 23,
   "metadata": {},
   "outputs": [
    {
     "data": {
      "text/plain": [
       "54"
      ]
     },
     "execution_count": 23,
     "metadata": {},
     "output_type": "execute_result"
    }
   ],
   "source": [
    "# подсчет явных дубликатов\n",
    "df.duplicated().sum()"
   ]
  },
  {
   "cell_type": "code",
   "execution_count": 24,
   "metadata": {},
   "outputs": [],
   "source": [
    "# приведение данных в `education` к нижнему регистру\n",
    "df['education'] = df['education'].str.lower()"
   ]
  },
  {
   "cell_type": "code",
   "execution_count": 25,
   "metadata": {},
   "outputs": [],
   "source": [
    "# удаление явных дубликатов сторок методом drop_duplicates()\n",
    "df = df.drop_duplicates().reset_index(drop=True)"
   ]
  },
  {
   "cell_type": "code",
   "execution_count": 26,
   "metadata": {},
   "outputs": [
    {
     "data": {
      "text/plain": [
       "0"
      ]
     },
     "execution_count": 26,
     "metadata": {},
     "output_type": "execute_result"
    }
   ],
   "source": [
    "# проверка отсутствия явных дубликатов\n",
    "df.duplicated().sum()"
   ]
  },
  {
   "cell_type": "markdown",
   "metadata": {},
   "source": [
    "Проверим и удалим неявные дубликаты."
   ]
  },
  {
   "cell_type": "code",
   "execution_count": 27,
   "metadata": {},
   "outputs": [
    {
     "data": {
      "text/plain": [
       "array(['высшее', 'начальное', 'неоконченное высшее', 'среднее',\n",
       "       'ученая степень'], dtype=object)"
      ]
     },
     "execution_count": 27,
     "metadata": {},
     "output_type": "execute_result"
    }
   ],
   "source": [
    "# проверка неявных дубликатов в `education` через проверку уникальных значений\n",
    "df['education'].sort_values().unique()"
   ]
  },
  {
   "cell_type": "code",
   "execution_count": 28,
   "metadata": {
    "scrolled": true
   },
   "outputs": [
    {
     "data": {
      "text/plain": [
       "array(['высшее', 'начальное', 'неоконченное высшее', 'среднее',\n",
       "       'ученая степень'], dtype=object)"
      ]
     },
     "execution_count": 28,
     "metadata": {},
     "output_type": "execute_result"
    }
   ],
   "source": [
    "# проверка отсутствия неявных дубликатов в `education` через проверку уникальных значений\n",
    "df['education'].sort_values().unique()"
   ]
  },
  {
   "cell_type": "code",
   "execution_count": 29,
   "metadata": {},
   "outputs": [
    {
     "data": {
      "text/plain": [
       "array(['Не женат / не замужем', 'в разводе', 'вдовец / вдова',\n",
       "       'гражданский брак', 'женат / замужем'], dtype=object)"
      ]
     },
     "execution_count": 29,
     "metadata": {},
     "output_type": "execute_result"
    }
   ],
   "source": [
    "# проверка неявных дубликатов в `family_status` через проверку уникальных значений\n",
    "df['family_status'].sort_values().unique()"
   ]
  },
  {
   "cell_type": "code",
   "execution_count": 30,
   "metadata": {},
   "outputs": [],
   "source": [
    "# приведение формата значений в `family_status` к нижнему регистру\n",
    "df['family_status'] = df['family_status'].str.lower()"
   ]
  },
  {
   "cell_type": "code",
   "execution_count": 31,
   "metadata": {},
   "outputs": [
    {
     "data": {
      "text/plain": [
       "array(['безработный', 'в декрете', 'госслужащий', 'компаньон',\n",
       "       'пенсионер', 'предприниматель', 'сотрудник', 'студент'],\n",
       "      dtype=object)"
      ]
     },
     "execution_count": 31,
     "metadata": {},
     "output_type": "execute_result"
    }
   ],
   "source": [
    "# проверка неявных дубликатов в `income_type` через проверку уникальных значений\n",
    "df['income_type'].sort_values().unique()\n"
   ]
  },
  {
   "cell_type": "code",
   "execution_count": 32,
   "metadata": {},
   "outputs": [
    {
     "data": {
      "text/plain": [
       "array([-1,  0,  1,  2,  3,  4,  5, 20])"
      ]
     },
     "execution_count": 32,
     "metadata": {},
     "output_type": "execute_result"
    }
   ],
   "source": [
    "# проверка неявных дубликатов в `children` через проверку уникальных значений\n",
    "df['children'].sort_values().unique()"
   ]
  },
  {
   "cell_type": "code",
   "execution_count": 33,
   "metadata": {},
   "outputs": [],
   "source": [
    "# удаление неявных дубликатов в `children` через удаление вероятной опечатки в виде знака \"-\" \n",
    "df['children'] = df['children'].replace(-1, 1)"
   ]
  },
  {
   "cell_type": "code",
   "execution_count": 34,
   "metadata": {},
   "outputs": [
    {
     "data": {
      "text/plain": [
       "array([ 0,  1,  2,  3,  4,  5, 20])"
      ]
     },
     "execution_count": 34,
     "metadata": {},
     "output_type": "execute_result"
    }
   ],
   "source": [
    "# проверка удаления неявных дубликатов в `children` через проверку уникальных значений\n",
    "df['children'].sort_values().unique()"
   ]
  },
  {
   "cell_type": "markdown",
   "metadata": {},
   "source": [
    "Проверим уникальные значения в столбце 'purpose'"
   ]
  },
  {
   "cell_type": "code",
   "execution_count": 35,
   "metadata": {},
   "outputs": [
    {
     "data": {
      "text/plain": [
       "array(['покупка жилья', 'приобретение автомобиля',\n",
       "       'дополнительное образование', 'сыграть свадьбу',\n",
       "       'операции с жильем', 'образование', 'на проведение свадьбы',\n",
       "       'покупка жилья для семьи', 'покупка недвижимости',\n",
       "       'покупка коммерческой недвижимости', 'покупка жилой недвижимости',\n",
       "       'строительство собственной недвижимости', 'недвижимость',\n",
       "       'строительство недвижимости', 'на покупку подержанного автомобиля',\n",
       "       'на покупку своего автомобиля',\n",
       "       'операции с коммерческой недвижимостью',\n",
       "       'строительство жилой недвижимости', 'жилье',\n",
       "       'операции со своей недвижимостью', 'автомобили',\n",
       "       'заняться образованием', 'сделка с подержанным автомобилем',\n",
       "       'получение образования', 'автомобиль', 'свадьба',\n",
       "       'получение дополнительного образования', 'покупка своего жилья',\n",
       "       'операции с недвижимостью', 'получение высшего образования',\n",
       "       'свой автомобиль', 'сделка с автомобилем',\n",
       "       'профильное образование', 'высшее образование',\n",
       "       'покупка жилья для сдачи', 'на покупку автомобиля', 'ремонт жилью',\n",
       "       'заняться высшим образованием'], dtype=object)"
      ]
     },
     "execution_count": 35,
     "metadata": {},
     "output_type": "execute_result"
    }
   ],
   "source": [
    "purpose_uniq = df['purpose'].unique()\n",
    "purpose_uniq"
   ]
  },
  {
   "cell_type": "markdown",
   "metadata": {},
   "source": [
    "**Вывод**"
   ]
  },
  {
   "cell_type": "markdown",
   "metadata": {},
   "source": [
    "Явные и неявные дубликаты выявлены и устранены. Возможная причина неявных дубликатов - ошибки ручного набора значений.\n",
    "Также присутствует большое количество неявных дубликатов в столбце purpose. Для их устранения выделим леммы в значениях столбца."
   ]
  },
  {
   "cell_type": "markdown",
   "metadata": {},
   "source": [
    "### Лемматизация"
   ]
  },
  {
   "cell_type": "code",
   "execution_count": 36,
   "metadata": {},
   "outputs": [
    {
     "data": {
      "text/plain": [
       "[['покупка', ' ', 'жилье', '\\n'],\n",
       " ['приобретение', ' ', 'автомобиль', '\\n'],\n",
       " ['дополнительный', ' ', 'образование', '\\n'],\n",
       " ['сыграть', ' ', 'свадьба', '\\n'],\n",
       " ['операция', ' ', 'с', ' ', 'жилье', '\\n'],\n",
       " ['образование', '\\n'],\n",
       " ['на', ' ', 'проведение', ' ', 'свадьба', '\\n'],\n",
       " ['покупка', ' ', 'жилье', ' ', 'для', ' ', 'семья', '\\n'],\n",
       " ['покупка', ' ', 'недвижимость', '\\n'],\n",
       " ['покупка', ' ', 'коммерческий', ' ', 'недвижимость', '\\n'],\n",
       " ['покупка', ' ', 'жилой', ' ', 'недвижимость', '\\n'],\n",
       " ['строительство', ' ', 'собственный', ' ', 'недвижимость', '\\n'],\n",
       " ['недвижимость', '\\n'],\n",
       " ['строительство', ' ', 'недвижимость', '\\n'],\n",
       " ['на', ' ', 'покупка', ' ', 'подержать', ' ', 'автомобиль', '\\n'],\n",
       " ['на', ' ', 'покупка', ' ', 'свой', ' ', 'автомобиль', '\\n'],\n",
       " ['операция', ' ', 'с', ' ', 'коммерческий', ' ', 'недвижимость', '\\n'],\n",
       " ['строительство', ' ', 'жилой', ' ', 'недвижимость', '\\n'],\n",
       " ['жилье', '\\n'],\n",
       " ['операция', ' ', 'со', ' ', 'свой', ' ', 'недвижимость', '\\n'],\n",
       " ['автомобиль', '\\n'],\n",
       " ['заниматься', ' ', 'образование', '\\n'],\n",
       " ['сделка', ' ', 'с', ' ', 'подержанный', ' ', 'автомобиль', '\\n'],\n",
       " ['получение', ' ', 'образование', '\\n'],\n",
       " ['автомобиль', '\\n'],\n",
       " ['свадьба', '\\n'],\n",
       " ['получение', ' ', 'дополнительный', ' ', 'образование', '\\n'],\n",
       " ['покупка', ' ', 'свой', ' ', 'жилье', '\\n'],\n",
       " ['операция', ' ', 'с', ' ', 'недвижимость', '\\n'],\n",
       " ['получение', ' ', 'высокий', ' ', 'образование', '\\n'],\n",
       " ['свой', ' ', 'автомобиль', '\\n'],\n",
       " ['сделка', ' ', 'с', ' ', 'автомобиль', '\\n'],\n",
       " ['профильный', ' ', 'образование', '\\n'],\n",
       " ['высокий', ' ', 'образование', '\\n'],\n",
       " ['покупка', ' ', 'жилье', ' ', 'для', ' ', 'сдача', '\\n'],\n",
       " ['на', ' ', 'покупка', ' ', 'автомобиль', '\\n'],\n",
       " ['ремонт', ' ', 'жилье', '\\n'],\n",
       " ['заниматься', ' ', 'высокий', ' ', 'образование', '\\n']]"
      ]
     },
     "execution_count": 36,
     "metadata": {},
     "output_type": "execute_result"
    }
   ],
   "source": [
    "lemma_list = []\n",
    "\n",
    "for aim in purpose_uniq:\n",
    "    lemma = m.lemmatize(aim)\n",
    "    lemma_list.append(lemma)\n",
    "lemma_list"
   ]
  },
  {
   "cell_type": "code",
   "execution_count": 37,
   "metadata": {},
   "outputs": [],
   "source": [
    "# составим список уникальных слов, хотя бы одно из которых присутствует в каждом списке `lemma_list`\n",
    "purpose_lemma = ['жилье', 'недвижимость', 'автомобиль', 'образование', 'свадьба']"
   ]
  },
  {
   "cell_type": "markdown",
   "metadata": {},
   "source": [
    "Добавим столбец 'purpose_extract' с найденными уникальными словами, характеризующими цель кредита"
   ]
  },
  {
   "cell_type": "code",
   "execution_count": 38,
   "metadata": {},
   "outputs": [],
   "source": [
    "# функция подбора уникального значения\n",
    "def purpose_extract(purpose):\n",
    "    purpose_lemmas =  ' '.join(m.lemmatize(purpose))\n",
    "    if 'жилье' in purpose_lemmas:\n",
    "        return 'жилье'\n",
    "    if  'недвижимость' in purpose_lemmas:\n",
    "        return 'недвижимость'\n",
    "    if  'автомобиль' in purpose_lemmas:\n",
    "        return 'автомобиль'\n",
    "    if  'образование' in purpose_lemmas:\n",
    "        return 'образование'\n",
    "    if  'свадьба' in purpose_lemmas:\n",
    "        return 'свадьба'  \n",
    "#     for aim_lemma in purpose_lemma:\n",
    "#         if aim_lemma in purpose_lemmas:\n",
    "#             return aim_lemma"
   ]
  },
  {
   "cell_type": "code",
   "execution_count": 39,
   "metadata": {},
   "outputs": [],
   "source": [
    "df['purpose_extract'] = df['purpose'].apply(purpose_extract)"
   ]
  },
  {
   "cell_type": "code",
   "execution_count": 40,
   "metadata": {},
   "outputs": [
    {
     "data": {
      "text/html": [
       "<div>\n",
       "<style scoped>\n",
       "    .dataframe tbody tr th:only-of-type {\n",
       "        vertical-align: middle;\n",
       "    }\n",
       "\n",
       "    .dataframe tbody tr th {\n",
       "        vertical-align: top;\n",
       "    }\n",
       "\n",
       "    .dataframe thead th {\n",
       "        text-align: right;\n",
       "    }\n",
       "</style>\n",
       "<table border=\"1\" class=\"dataframe\">\n",
       "  <thead>\n",
       "    <tr style=\"text-align: right;\">\n",
       "      <th></th>\n",
       "      <th>children</th>\n",
       "      <th>days_employed</th>\n",
       "      <th>dob_years</th>\n",
       "      <th>education</th>\n",
       "      <th>education_id</th>\n",
       "      <th>family_status</th>\n",
       "      <th>family_status_id</th>\n",
       "      <th>gender</th>\n",
       "      <th>income_type</th>\n",
       "      <th>debt</th>\n",
       "      <th>total_income</th>\n",
       "      <th>purpose</th>\n",
       "      <th>purpose_extract</th>\n",
       "    </tr>\n",
       "  </thead>\n",
       "  <tbody>\n",
       "    <tr>\n",
       "      <td>0</td>\n",
       "      <td>1</td>\n",
       "      <td>8437</td>\n",
       "      <td>42.0</td>\n",
       "      <td>высшее</td>\n",
       "      <td>0</td>\n",
       "      <td>женат / замужем</td>\n",
       "      <td>0</td>\n",
       "      <td>F</td>\n",
       "      <td>сотрудник</td>\n",
       "      <td>0</td>\n",
       "      <td>253875</td>\n",
       "      <td>покупка жилья</td>\n",
       "      <td>жилье</td>\n",
       "    </tr>\n",
       "    <tr>\n",
       "      <td>1</td>\n",
       "      <td>1</td>\n",
       "      <td>4024</td>\n",
       "      <td>36.0</td>\n",
       "      <td>среднее</td>\n",
       "      <td>1</td>\n",
       "      <td>женат / замужем</td>\n",
       "      <td>0</td>\n",
       "      <td>F</td>\n",
       "      <td>сотрудник</td>\n",
       "      <td>0</td>\n",
       "      <td>112080</td>\n",
       "      <td>приобретение автомобиля</td>\n",
       "      <td>автомобиль</td>\n",
       "    </tr>\n",
       "    <tr>\n",
       "      <td>2</td>\n",
       "      <td>0</td>\n",
       "      <td>5623</td>\n",
       "      <td>33.0</td>\n",
       "      <td>среднее</td>\n",
       "      <td>1</td>\n",
       "      <td>женат / замужем</td>\n",
       "      <td>0</td>\n",
       "      <td>M</td>\n",
       "      <td>сотрудник</td>\n",
       "      <td>0</td>\n",
       "      <td>145885</td>\n",
       "      <td>покупка жилья</td>\n",
       "      <td>жилье</td>\n",
       "    </tr>\n",
       "    <tr>\n",
       "      <td>3</td>\n",
       "      <td>3</td>\n",
       "      <td>4124</td>\n",
       "      <td>32.0</td>\n",
       "      <td>среднее</td>\n",
       "      <td>1</td>\n",
       "      <td>женат / замужем</td>\n",
       "      <td>0</td>\n",
       "      <td>M</td>\n",
       "      <td>сотрудник</td>\n",
       "      <td>0</td>\n",
       "      <td>267628</td>\n",
       "      <td>дополнительное образование</td>\n",
       "      <td>образование</td>\n",
       "    </tr>\n",
       "    <tr>\n",
       "      <td>4</td>\n",
       "      <td>0</td>\n",
       "      <td>1574</td>\n",
       "      <td>53.0</td>\n",
       "      <td>среднее</td>\n",
       "      <td>1</td>\n",
       "      <td>гражданский брак</td>\n",
       "      <td>1</td>\n",
       "      <td>F</td>\n",
       "      <td>пенсионер</td>\n",
       "      <td>0</td>\n",
       "      <td>158616</td>\n",
       "      <td>сыграть свадьбу</td>\n",
       "      <td>свадьба</td>\n",
       "    </tr>\n",
       "    <tr>\n",
       "      <td>5</td>\n",
       "      <td>0</td>\n",
       "      <td>926</td>\n",
       "      <td>27.0</td>\n",
       "      <td>высшее</td>\n",
       "      <td>0</td>\n",
       "      <td>гражданский брак</td>\n",
       "      <td>1</td>\n",
       "      <td>M</td>\n",
       "      <td>компаньон</td>\n",
       "      <td>0</td>\n",
       "      <td>255763</td>\n",
       "      <td>покупка жилья</td>\n",
       "      <td>жилье</td>\n",
       "    </tr>\n",
       "    <tr>\n",
       "      <td>6</td>\n",
       "      <td>0</td>\n",
       "      <td>2879</td>\n",
       "      <td>43.0</td>\n",
       "      <td>высшее</td>\n",
       "      <td>0</td>\n",
       "      <td>женат / замужем</td>\n",
       "      <td>0</td>\n",
       "      <td>F</td>\n",
       "      <td>компаньон</td>\n",
       "      <td>0</td>\n",
       "      <td>240525</td>\n",
       "      <td>операции с жильем</td>\n",
       "      <td>жилье</td>\n",
       "    </tr>\n",
       "    <tr>\n",
       "      <td>7</td>\n",
       "      <td>0</td>\n",
       "      <td>152</td>\n",
       "      <td>50.0</td>\n",
       "      <td>среднее</td>\n",
       "      <td>1</td>\n",
       "      <td>женат / замужем</td>\n",
       "      <td>0</td>\n",
       "      <td>M</td>\n",
       "      <td>сотрудник</td>\n",
       "      <td>0</td>\n",
       "      <td>135823</td>\n",
       "      <td>образование</td>\n",
       "      <td>образование</td>\n",
       "    </tr>\n",
       "    <tr>\n",
       "      <td>8</td>\n",
       "      <td>2</td>\n",
       "      <td>6929</td>\n",
       "      <td>35.0</td>\n",
       "      <td>высшее</td>\n",
       "      <td>0</td>\n",
       "      <td>гражданский брак</td>\n",
       "      <td>1</td>\n",
       "      <td>F</td>\n",
       "      <td>сотрудник</td>\n",
       "      <td>0</td>\n",
       "      <td>95856</td>\n",
       "      <td>на проведение свадьбы</td>\n",
       "      <td>свадьба</td>\n",
       "    </tr>\n",
       "    <tr>\n",
       "      <td>9</td>\n",
       "      <td>0</td>\n",
       "      <td>2188</td>\n",
       "      <td>41.0</td>\n",
       "      <td>среднее</td>\n",
       "      <td>1</td>\n",
       "      <td>женат / замужем</td>\n",
       "      <td>0</td>\n",
       "      <td>M</td>\n",
       "      <td>сотрудник</td>\n",
       "      <td>0</td>\n",
       "      <td>144425</td>\n",
       "      <td>покупка жилья для семьи</td>\n",
       "      <td>жилье</td>\n",
       "    </tr>\n",
       "  </tbody>\n",
       "</table>\n",
       "</div>"
      ],
      "text/plain": [
       "   children  days_employed  dob_years education  education_id  \\\n",
       "0         1           8437       42.0    высшее             0   \n",
       "1         1           4024       36.0   среднее             1   \n",
       "2         0           5623       33.0   среднее             1   \n",
       "3         3           4124       32.0   среднее             1   \n",
       "4         0           1574       53.0   среднее             1   \n",
       "5         0            926       27.0    высшее             0   \n",
       "6         0           2879       43.0    высшее             0   \n",
       "7         0            152       50.0   среднее             1   \n",
       "8         2           6929       35.0    высшее             0   \n",
       "9         0           2188       41.0   среднее             1   \n",
       "\n",
       "      family_status  family_status_id gender income_type  debt  total_income  \\\n",
       "0   женат / замужем                 0      F   сотрудник     0        253875   \n",
       "1   женат / замужем                 0      F   сотрудник     0        112080   \n",
       "2   женат / замужем                 0      M   сотрудник     0        145885   \n",
       "3   женат / замужем                 0      M   сотрудник     0        267628   \n",
       "4  гражданский брак                 1      F   пенсионер     0        158616   \n",
       "5  гражданский брак                 1      M   компаньон     0        255763   \n",
       "6   женат / замужем                 0      F   компаньон     0        240525   \n",
       "7   женат / замужем                 0      M   сотрудник     0        135823   \n",
       "8  гражданский брак                 1      F   сотрудник     0         95856   \n",
       "9   женат / замужем                 0      M   сотрудник     0        144425   \n",
       "\n",
       "                      purpose purpose_extract  \n",
       "0               покупка жилья           жилье  \n",
       "1     приобретение автомобиля      автомобиль  \n",
       "2               покупка жилья           жилье  \n",
       "3  дополнительное образование     образование  \n",
       "4             сыграть свадьбу         свадьба  \n",
       "5               покупка жилья           жилье  \n",
       "6           операции с жильем           жилье  \n",
       "7                 образование     образование  \n",
       "8       на проведение свадьбы         свадьба  \n",
       "9     покупка жилья для семьи           жилье  "
      ]
     },
     "execution_count": 40,
     "metadata": {},
     "output_type": "execute_result"
    }
   ],
   "source": [
    "# проверка добавления столбца\n",
    "df.head(10)"
   ]
  },
  {
   "cell_type": "code",
   "execution_count": 41,
   "metadata": {},
   "outputs": [],
   "source": [
    "# объединим синонимы целей кредита 'жилье' и 'недвижимость', заменив на 'недвижимость'\n",
    "df['purpose_extract'] = df['purpose_extract'].replace(to_replace='жилье', value='недвижимость')"
   ]
  },
  {
   "cell_type": "code",
   "execution_count": 42,
   "metadata": {},
   "outputs": [
    {
     "data": {
      "text/html": [
       "<div>\n",
       "<style scoped>\n",
       "    .dataframe tbody tr th:only-of-type {\n",
       "        vertical-align: middle;\n",
       "    }\n",
       "\n",
       "    .dataframe tbody tr th {\n",
       "        vertical-align: top;\n",
       "    }\n",
       "\n",
       "    .dataframe thead th {\n",
       "        text-align: right;\n",
       "    }\n",
       "</style>\n",
       "<table border=\"1\" class=\"dataframe\">\n",
       "  <thead>\n",
       "    <tr style=\"text-align: right;\">\n",
       "      <th></th>\n",
       "      <th>children</th>\n",
       "      <th>days_employed</th>\n",
       "      <th>dob_years</th>\n",
       "      <th>education</th>\n",
       "      <th>education_id</th>\n",
       "      <th>family_status</th>\n",
       "      <th>family_status_id</th>\n",
       "      <th>gender</th>\n",
       "      <th>income_type</th>\n",
       "      <th>debt</th>\n",
       "      <th>total_income</th>\n",
       "      <th>purpose</th>\n",
       "      <th>purpose_extract</th>\n",
       "    </tr>\n",
       "  </thead>\n",
       "  <tbody>\n",
       "    <tr>\n",
       "      <td>0</td>\n",
       "      <td>1</td>\n",
       "      <td>8437</td>\n",
       "      <td>42.0</td>\n",
       "      <td>высшее</td>\n",
       "      <td>0</td>\n",
       "      <td>женат / замужем</td>\n",
       "      <td>0</td>\n",
       "      <td>F</td>\n",
       "      <td>сотрудник</td>\n",
       "      <td>0</td>\n",
       "      <td>253875</td>\n",
       "      <td>покупка жилья</td>\n",
       "      <td>недвижимость</td>\n",
       "    </tr>\n",
       "    <tr>\n",
       "      <td>1</td>\n",
       "      <td>1</td>\n",
       "      <td>4024</td>\n",
       "      <td>36.0</td>\n",
       "      <td>среднее</td>\n",
       "      <td>1</td>\n",
       "      <td>женат / замужем</td>\n",
       "      <td>0</td>\n",
       "      <td>F</td>\n",
       "      <td>сотрудник</td>\n",
       "      <td>0</td>\n",
       "      <td>112080</td>\n",
       "      <td>приобретение автомобиля</td>\n",
       "      <td>автомобиль</td>\n",
       "    </tr>\n",
       "    <tr>\n",
       "      <td>2</td>\n",
       "      <td>0</td>\n",
       "      <td>5623</td>\n",
       "      <td>33.0</td>\n",
       "      <td>среднее</td>\n",
       "      <td>1</td>\n",
       "      <td>женат / замужем</td>\n",
       "      <td>0</td>\n",
       "      <td>M</td>\n",
       "      <td>сотрудник</td>\n",
       "      <td>0</td>\n",
       "      <td>145885</td>\n",
       "      <td>покупка жилья</td>\n",
       "      <td>недвижимость</td>\n",
       "    </tr>\n",
       "    <tr>\n",
       "      <td>3</td>\n",
       "      <td>3</td>\n",
       "      <td>4124</td>\n",
       "      <td>32.0</td>\n",
       "      <td>среднее</td>\n",
       "      <td>1</td>\n",
       "      <td>женат / замужем</td>\n",
       "      <td>0</td>\n",
       "      <td>M</td>\n",
       "      <td>сотрудник</td>\n",
       "      <td>0</td>\n",
       "      <td>267628</td>\n",
       "      <td>дополнительное образование</td>\n",
       "      <td>образование</td>\n",
       "    </tr>\n",
       "    <tr>\n",
       "      <td>4</td>\n",
       "      <td>0</td>\n",
       "      <td>1574</td>\n",
       "      <td>53.0</td>\n",
       "      <td>среднее</td>\n",
       "      <td>1</td>\n",
       "      <td>гражданский брак</td>\n",
       "      <td>1</td>\n",
       "      <td>F</td>\n",
       "      <td>пенсионер</td>\n",
       "      <td>0</td>\n",
       "      <td>158616</td>\n",
       "      <td>сыграть свадьбу</td>\n",
       "      <td>свадьба</td>\n",
       "    </tr>\n",
       "    <tr>\n",
       "      <td>5</td>\n",
       "      <td>0</td>\n",
       "      <td>926</td>\n",
       "      <td>27.0</td>\n",
       "      <td>высшее</td>\n",
       "      <td>0</td>\n",
       "      <td>гражданский брак</td>\n",
       "      <td>1</td>\n",
       "      <td>M</td>\n",
       "      <td>компаньон</td>\n",
       "      <td>0</td>\n",
       "      <td>255763</td>\n",
       "      <td>покупка жилья</td>\n",
       "      <td>недвижимость</td>\n",
       "    </tr>\n",
       "    <tr>\n",
       "      <td>6</td>\n",
       "      <td>0</td>\n",
       "      <td>2879</td>\n",
       "      <td>43.0</td>\n",
       "      <td>высшее</td>\n",
       "      <td>0</td>\n",
       "      <td>женат / замужем</td>\n",
       "      <td>0</td>\n",
       "      <td>F</td>\n",
       "      <td>компаньон</td>\n",
       "      <td>0</td>\n",
       "      <td>240525</td>\n",
       "      <td>операции с жильем</td>\n",
       "      <td>недвижимость</td>\n",
       "    </tr>\n",
       "    <tr>\n",
       "      <td>7</td>\n",
       "      <td>0</td>\n",
       "      <td>152</td>\n",
       "      <td>50.0</td>\n",
       "      <td>среднее</td>\n",
       "      <td>1</td>\n",
       "      <td>женат / замужем</td>\n",
       "      <td>0</td>\n",
       "      <td>M</td>\n",
       "      <td>сотрудник</td>\n",
       "      <td>0</td>\n",
       "      <td>135823</td>\n",
       "      <td>образование</td>\n",
       "      <td>образование</td>\n",
       "    </tr>\n",
       "    <tr>\n",
       "      <td>8</td>\n",
       "      <td>2</td>\n",
       "      <td>6929</td>\n",
       "      <td>35.0</td>\n",
       "      <td>высшее</td>\n",
       "      <td>0</td>\n",
       "      <td>гражданский брак</td>\n",
       "      <td>1</td>\n",
       "      <td>F</td>\n",
       "      <td>сотрудник</td>\n",
       "      <td>0</td>\n",
       "      <td>95856</td>\n",
       "      <td>на проведение свадьбы</td>\n",
       "      <td>свадьба</td>\n",
       "    </tr>\n",
       "    <tr>\n",
       "      <td>9</td>\n",
       "      <td>0</td>\n",
       "      <td>2188</td>\n",
       "      <td>41.0</td>\n",
       "      <td>среднее</td>\n",
       "      <td>1</td>\n",
       "      <td>женат / замужем</td>\n",
       "      <td>0</td>\n",
       "      <td>M</td>\n",
       "      <td>сотрудник</td>\n",
       "      <td>0</td>\n",
       "      <td>144425</td>\n",
       "      <td>покупка жилья для семьи</td>\n",
       "      <td>недвижимость</td>\n",
       "    </tr>\n",
       "  </tbody>\n",
       "</table>\n",
       "</div>"
      ],
      "text/plain": [
       "   children  days_employed  dob_years education  education_id  \\\n",
       "0         1           8437       42.0    высшее             0   \n",
       "1         1           4024       36.0   среднее             1   \n",
       "2         0           5623       33.0   среднее             1   \n",
       "3         3           4124       32.0   среднее             1   \n",
       "4         0           1574       53.0   среднее             1   \n",
       "5         0            926       27.0    высшее             0   \n",
       "6         0           2879       43.0    высшее             0   \n",
       "7         0            152       50.0   среднее             1   \n",
       "8         2           6929       35.0    высшее             0   \n",
       "9         0           2188       41.0   среднее             1   \n",
       "\n",
       "      family_status  family_status_id gender income_type  debt  total_income  \\\n",
       "0   женат / замужем                 0      F   сотрудник     0        253875   \n",
       "1   женат / замужем                 0      F   сотрудник     0        112080   \n",
       "2   женат / замужем                 0      M   сотрудник     0        145885   \n",
       "3   женат / замужем                 0      M   сотрудник     0        267628   \n",
       "4  гражданский брак                 1      F   пенсионер     0        158616   \n",
       "5  гражданский брак                 1      M   компаньон     0        255763   \n",
       "6   женат / замужем                 0      F   компаньон     0        240525   \n",
       "7   женат / замужем                 0      M   сотрудник     0        135823   \n",
       "8  гражданский брак                 1      F   сотрудник     0         95856   \n",
       "9   женат / замужем                 0      M   сотрудник     0        144425   \n",
       "\n",
       "                      purpose purpose_extract  \n",
       "0               покупка жилья    недвижимость  \n",
       "1     приобретение автомобиля      автомобиль  \n",
       "2               покупка жилья    недвижимость  \n",
       "3  дополнительное образование     образование  \n",
       "4             сыграть свадьбу         свадьба  \n",
       "5               покупка жилья    недвижимость  \n",
       "6           операции с жильем    недвижимость  \n",
       "7                 образование     образование  \n",
       "8       на проведение свадьбы         свадьба  \n",
       "9     покупка жилья для семьи    недвижимость  "
      ]
     },
     "execution_count": 42,
     "metadata": {},
     "output_type": "execute_result"
    }
   ],
   "source": [
    "# проверка замены знанчения  жилье' на 'недвижимость' в 'purpose_extract'\n",
    "df.head(10)"
   ]
  },
  {
   "cell_type": "markdown",
   "metadata": {},
   "source": [
    "**Вывод**"
   ]
  },
  {
   "cell_type": "markdown",
   "metadata": {},
   "source": [
    "Выделены 4 унифицированные цели кредитования для всех заемщиков - недвижимость, автомобиль, образование, свадьба."
   ]
  },
  {
   "cell_type": "markdown",
   "metadata": {},
   "source": [
    "### Категоризация данных"
   ]
  },
  {
   "cell_type": "markdown",
   "metadata": {},
   "source": [
    "Выделим отельные словари для наборов данных с одинаковыми значениями"
   ]
  },
  {
   "cell_type": "code",
   "execution_count": 43,
   "metadata": {},
   "outputs": [
    {
     "data": {
      "text/html": [
       "<div>\n",
       "<style scoped>\n",
       "    .dataframe tbody tr th:only-of-type {\n",
       "        vertical-align: middle;\n",
       "    }\n",
       "\n",
       "    .dataframe tbody tr th {\n",
       "        vertical-align: top;\n",
       "    }\n",
       "\n",
       "    .dataframe thead th {\n",
       "        text-align: right;\n",
       "    }\n",
       "</style>\n",
       "<table border=\"1\" class=\"dataframe\">\n",
       "  <thead>\n",
       "    <tr style=\"text-align: right;\">\n",
       "      <th></th>\n",
       "      <th>education_id</th>\n",
       "      <th>education</th>\n",
       "    </tr>\n",
       "  </thead>\n",
       "  <tbody>\n",
       "    <tr>\n",
       "      <td>0</td>\n",
       "      <td>0</td>\n",
       "      <td>высшее</td>\n",
       "    </tr>\n",
       "    <tr>\n",
       "      <td>1</td>\n",
       "      <td>1</td>\n",
       "      <td>среднее</td>\n",
       "    </tr>\n",
       "    <tr>\n",
       "      <td>2</td>\n",
       "      <td>2</td>\n",
       "      <td>неоконченное высшее</td>\n",
       "    </tr>\n",
       "    <tr>\n",
       "      <td>3</td>\n",
       "      <td>3</td>\n",
       "      <td>начальное</td>\n",
       "    </tr>\n",
       "    <tr>\n",
       "      <td>4</td>\n",
       "      <td>4</td>\n",
       "      <td>ученая степень</td>\n",
       "    </tr>\n",
       "  </tbody>\n",
       "</table>\n",
       "</div>"
      ],
      "text/plain": [
       "   education_id            education\n",
       "0             0               высшее\n",
       "1             1              среднее\n",
       "2             2  неоконченное высшее\n",
       "3             3            начальное\n",
       "4             4       ученая степень"
      ]
     },
     "execution_count": 43,
     "metadata": {},
     "output_type": "execute_result"
    }
   ],
   "source": [
    "# выделим словарь для `education`\n",
    "education_dict = df[['education_id', 'education']] \n",
    "education_dict = education_dict.drop_duplicates().reset_index(drop=True)\n",
    "education_dict"
   ]
  },
  {
   "cell_type": "code",
   "execution_count": 44,
   "metadata": {},
   "outputs": [
    {
     "data": {
      "text/html": [
       "<div>\n",
       "<style scoped>\n",
       "    .dataframe tbody tr th:only-of-type {\n",
       "        vertical-align: middle;\n",
       "    }\n",
       "\n",
       "    .dataframe tbody tr th {\n",
       "        vertical-align: top;\n",
       "    }\n",
       "\n",
       "    .dataframe thead th {\n",
       "        text-align: right;\n",
       "    }\n",
       "</style>\n",
       "<table border=\"1\" class=\"dataframe\">\n",
       "  <thead>\n",
       "    <tr style=\"text-align: right;\">\n",
       "      <th></th>\n",
       "      <th>family_status_id</th>\n",
       "      <th>family_status</th>\n",
       "    </tr>\n",
       "  </thead>\n",
       "  <tbody>\n",
       "    <tr>\n",
       "      <td>0</td>\n",
       "      <td>0</td>\n",
       "      <td>женат / замужем</td>\n",
       "    </tr>\n",
       "    <tr>\n",
       "      <td>1</td>\n",
       "      <td>1</td>\n",
       "      <td>гражданский брак</td>\n",
       "    </tr>\n",
       "    <tr>\n",
       "      <td>2</td>\n",
       "      <td>2</td>\n",
       "      <td>вдовец / вдова</td>\n",
       "    </tr>\n",
       "    <tr>\n",
       "      <td>3</td>\n",
       "      <td>3</td>\n",
       "      <td>в разводе</td>\n",
       "    </tr>\n",
       "    <tr>\n",
       "      <td>4</td>\n",
       "      <td>4</td>\n",
       "      <td>не женат / не замужем</td>\n",
       "    </tr>\n",
       "  </tbody>\n",
       "</table>\n",
       "</div>"
      ],
      "text/plain": [
       "   family_status_id          family_status\n",
       "0                 0        женат / замужем\n",
       "1                 1       гражданский брак\n",
       "2                 2         вдовец / вдова\n",
       "3                 3              в разводе\n",
       "4                 4  не женат / не замужем"
      ]
     },
     "execution_count": 44,
     "metadata": {},
     "output_type": "execute_result"
    }
   ],
   "source": [
    "# выделим словарь для `family_status`\n",
    "family_status_dict = df[['family_status_id', 'family_status']] \n",
    "family_status_dict = family_status_dict.drop_duplicates().reset_index(drop=True)\n",
    "family_status_dict"
   ]
  },
  {
   "cell_type": "code",
   "execution_count": 46,
   "metadata": {},
   "outputs": [],
   "source": [
    "# выделим словарь для `income_type`\n",
    "income_type_unique = df['income_type'].unique()"
   ]
  },
  {
   "cell_type": "code",
   "execution_count": 47,
   "metadata": {},
   "outputs": [],
   "source": [
    "# вычисление значения для 'income_type_id'\n",
    "def income_type_number(row):\n",
    "    for i in range(len(income_type_unique)):\n",
    "        if row['income_type'] == income_type_unique[i]:\n",
    "            return i"
   ]
  },
  {
   "cell_type": "code",
   "execution_count": 48,
   "metadata": {},
   "outputs": [],
   "source": [
    "# добавим колонку с индексом 'income_type_id' для 'income_type'\n",
    "df['income_type_id'] = df.apply(income_type_number, axis=1)"
   ]
  },
  {
   "cell_type": "code",
   "execution_count": 49,
   "metadata": {},
   "outputs": [
    {
     "data": {
      "text/html": [
       "<div>\n",
       "<style scoped>\n",
       "    .dataframe tbody tr th:only-of-type {\n",
       "        vertical-align: middle;\n",
       "    }\n",
       "\n",
       "    .dataframe tbody tr th {\n",
       "        vertical-align: top;\n",
       "    }\n",
       "\n",
       "    .dataframe thead th {\n",
       "        text-align: right;\n",
       "    }\n",
       "</style>\n",
       "<table border=\"1\" class=\"dataframe\">\n",
       "  <thead>\n",
       "    <tr style=\"text-align: right;\">\n",
       "      <th></th>\n",
       "      <th>income_type_id</th>\n",
       "      <th>income_type</th>\n",
       "    </tr>\n",
       "  </thead>\n",
       "  <tbody>\n",
       "    <tr>\n",
       "      <td>0</td>\n",
       "      <td>0</td>\n",
       "      <td>сотрудник</td>\n",
       "    </tr>\n",
       "    <tr>\n",
       "      <td>1</td>\n",
       "      <td>1</td>\n",
       "      <td>пенсионер</td>\n",
       "    </tr>\n",
       "    <tr>\n",
       "      <td>2</td>\n",
       "      <td>2</td>\n",
       "      <td>компаньон</td>\n",
       "    </tr>\n",
       "    <tr>\n",
       "      <td>3</td>\n",
       "      <td>3</td>\n",
       "      <td>госслужащий</td>\n",
       "    </tr>\n",
       "    <tr>\n",
       "      <td>4</td>\n",
       "      <td>4</td>\n",
       "      <td>безработный</td>\n",
       "    </tr>\n",
       "    <tr>\n",
       "      <td>5</td>\n",
       "      <td>5</td>\n",
       "      <td>предприниматель</td>\n",
       "    </tr>\n",
       "    <tr>\n",
       "      <td>6</td>\n",
       "      <td>6</td>\n",
       "      <td>студент</td>\n",
       "    </tr>\n",
       "    <tr>\n",
       "      <td>7</td>\n",
       "      <td>7</td>\n",
       "      <td>в декрете</td>\n",
       "    </tr>\n",
       "  </tbody>\n",
       "</table>\n",
       "</div>"
      ],
      "text/plain": [
       "   income_type_id      income_type\n",
       "0               0        сотрудник\n",
       "1               1        пенсионер\n",
       "2               2        компаньон\n",
       "3               3      госслужащий\n",
       "4               4      безработный\n",
       "5               5  предприниматель\n",
       "6               6          студент\n",
       "7               7        в декрете"
      ]
     },
     "execution_count": 49,
     "metadata": {},
     "output_type": "execute_result"
    }
   ],
   "source": [
    "# выделим словарь для 'income_type'\n",
    "income_type_dict = df[['income_type_id', 'income_type']] \n",
    "income_type_dict = income_type_dict.drop_duplicates().reset_index(drop=True)\n",
    "income_type_dict"
   ]
  },
  {
   "cell_type": "markdown",
   "metadata": {},
   "source": [
    "Категоризируем колонку 'total_income', разделив на квартили."
   ]
  },
  {
   "cell_type": "code",
   "execution_count": 50,
   "metadata": {},
   "outputs": [
    {
     "data": {
      "text/plain": [
       "count      21454\n",
       "mean      165320\n",
       "std        98187\n",
       "min        20667\n",
       "25%       107623\n",
       "50%       142594\n",
       "75%       195820\n",
       "max      2265604\n",
       "Name: total_income, dtype: object"
      ]
     },
     "execution_count": 50,
     "metadata": {},
     "output_type": "execute_result"
    }
   ],
   "source": [
    "# проведем оценку распределения на квартили, оценим статистические показатели распределения 'total_income'\n",
    "df['total_income'].describe().apply(\"{0:.0f}\".format)"
   ]
  },
  {
   "cell_type": "code",
   "execution_count": 51,
   "metadata": {},
   "outputs": [
    {
     "data": {
      "text/html": [
       "<div>\n",
       "<style scoped>\n",
       "    .dataframe tbody tr th:only-of-type {\n",
       "        vertical-align: middle;\n",
       "    }\n",
       "\n",
       "    .dataframe tbody tr th {\n",
       "        vertical-align: top;\n",
       "    }\n",
       "\n",
       "    .dataframe thead th {\n",
       "        text-align: right;\n",
       "    }\n",
       "</style>\n",
       "<table border=\"1\" class=\"dataframe\">\n",
       "  <thead>\n",
       "    <tr style=\"text-align: right;\">\n",
       "      <th></th>\n",
       "      <th>children</th>\n",
       "      <th>days_employed</th>\n",
       "      <th>dob_years</th>\n",
       "      <th>education</th>\n",
       "      <th>education_id</th>\n",
       "      <th>family_status</th>\n",
       "      <th>family_status_id</th>\n",
       "      <th>gender</th>\n",
       "      <th>income_type</th>\n",
       "      <th>debt</th>\n",
       "      <th>total_income</th>\n",
       "      <th>purpose</th>\n",
       "      <th>purpose_extract</th>\n",
       "      <th>income_type_id</th>\n",
       "      <th>total_income_q</th>\n",
       "    </tr>\n",
       "  </thead>\n",
       "  <tbody>\n",
       "    <tr>\n",
       "      <td>0</td>\n",
       "      <td>1</td>\n",
       "      <td>8437</td>\n",
       "      <td>42.0</td>\n",
       "      <td>высшее</td>\n",
       "      <td>0</td>\n",
       "      <td>женат / замужем</td>\n",
       "      <td>0</td>\n",
       "      <td>F</td>\n",
       "      <td>сотрудник</td>\n",
       "      <td>0</td>\n",
       "      <td>253875</td>\n",
       "      <td>покупка жилья</td>\n",
       "      <td>недвижимость</td>\n",
       "      <td>0</td>\n",
       "      <td>4_квартиль</td>\n",
       "    </tr>\n",
       "    <tr>\n",
       "      <td>1</td>\n",
       "      <td>1</td>\n",
       "      <td>4024</td>\n",
       "      <td>36.0</td>\n",
       "      <td>среднее</td>\n",
       "      <td>1</td>\n",
       "      <td>женат / замужем</td>\n",
       "      <td>0</td>\n",
       "      <td>F</td>\n",
       "      <td>сотрудник</td>\n",
       "      <td>0</td>\n",
       "      <td>112080</td>\n",
       "      <td>приобретение автомобиля</td>\n",
       "      <td>автомобиль</td>\n",
       "      <td>0</td>\n",
       "      <td>2_квартиль</td>\n",
       "    </tr>\n",
       "    <tr>\n",
       "      <td>2</td>\n",
       "      <td>0</td>\n",
       "      <td>5623</td>\n",
       "      <td>33.0</td>\n",
       "      <td>среднее</td>\n",
       "      <td>1</td>\n",
       "      <td>женат / замужем</td>\n",
       "      <td>0</td>\n",
       "      <td>M</td>\n",
       "      <td>сотрудник</td>\n",
       "      <td>0</td>\n",
       "      <td>145885</td>\n",
       "      <td>покупка жилья</td>\n",
       "      <td>недвижимость</td>\n",
       "      <td>0</td>\n",
       "      <td>3_квартиль</td>\n",
       "    </tr>\n",
       "    <tr>\n",
       "      <td>3</td>\n",
       "      <td>3</td>\n",
       "      <td>4124</td>\n",
       "      <td>32.0</td>\n",
       "      <td>среднее</td>\n",
       "      <td>1</td>\n",
       "      <td>женат / замужем</td>\n",
       "      <td>0</td>\n",
       "      <td>M</td>\n",
       "      <td>сотрудник</td>\n",
       "      <td>0</td>\n",
       "      <td>267628</td>\n",
       "      <td>дополнительное образование</td>\n",
       "      <td>образование</td>\n",
       "      <td>0</td>\n",
       "      <td>4_квартиль</td>\n",
       "    </tr>\n",
       "    <tr>\n",
       "      <td>4</td>\n",
       "      <td>0</td>\n",
       "      <td>1574</td>\n",
       "      <td>53.0</td>\n",
       "      <td>среднее</td>\n",
       "      <td>1</td>\n",
       "      <td>гражданский брак</td>\n",
       "      <td>1</td>\n",
       "      <td>F</td>\n",
       "      <td>пенсионер</td>\n",
       "      <td>0</td>\n",
       "      <td>158616</td>\n",
       "      <td>сыграть свадьбу</td>\n",
       "      <td>свадьба</td>\n",
       "      <td>1</td>\n",
       "      <td>3_квартиль</td>\n",
       "    </tr>\n",
       "  </tbody>\n",
       "</table>\n",
       "</div>"
      ],
      "text/plain": [
       "   children  days_employed  dob_years education  education_id  \\\n",
       "0         1           8437       42.0    высшее             0   \n",
       "1         1           4024       36.0   среднее             1   \n",
       "2         0           5623       33.0   среднее             1   \n",
       "3         3           4124       32.0   среднее             1   \n",
       "4         0           1574       53.0   среднее             1   \n",
       "\n",
       "      family_status  family_status_id gender income_type  debt  total_income  \\\n",
       "0   женат / замужем                 0      F   сотрудник     0        253875   \n",
       "1   женат / замужем                 0      F   сотрудник     0        112080   \n",
       "2   женат / замужем                 0      M   сотрудник     0        145885   \n",
       "3   женат / замужем                 0      M   сотрудник     0        267628   \n",
       "4  гражданский брак                 1      F   пенсионер     0        158616   \n",
       "\n",
       "                      purpose purpose_extract  income_type_id total_income_q  \n",
       "0               покупка жилья    недвижимость               0     4_квартиль  \n",
       "1     приобретение автомобиля      автомобиль               0     2_квартиль  \n",
       "2               покупка жилья    недвижимость               0     3_квартиль  \n",
       "3  дополнительное образование     образование               0     4_квартиль  \n",
       "4             сыграть свадьбу         свадьба               1     3_квартиль  "
      ]
     },
     "execution_count": 51,
     "metadata": {},
     "output_type": "execute_result"
    }
   ],
   "source": [
    "# для расределения значений 'total_income' на квартили используем метод qcut\n",
    "label = ['1_квартиль', '2_квартиль', '3_квартиль', '4_квартиль']\n",
    "df['total_income_q'] = pd.qcut(df['total_income'], 4, labels=label)\n",
    "df.head()"
   ]
  },
  {
   "cell_type": "markdown",
   "metadata": {},
   "source": [
    "**Вывод**"
   ]
  },
  {
   "cell_type": "markdown",
   "metadata": {},
   "source": [
    "Категоризация данных проведена через выделение словарей для колонок `education`, `family_status`, `income_type`. Категоризация `total_income` проведена через разделение заемщиков на квартили по уровню дохода."
   ]
  },
  {
   "cell_type": "markdown",
   "metadata": {},
   "source": [
    "## Проверка завистимостей"
   ]
  },
  {
   "cell_type": "markdown",
   "metadata": {},
   "source": [
    "- Есть ли зависимость между наличием детей и возвратом кредита в срок?"
   ]
  },
  {
   "cell_type": "code",
   "execution_count": 53,
   "metadata": {},
   "outputs": [
    {
     "data": {
      "text/html": [
       "<style  type=\"text/css\" >\n",
       "</style><table id=\"T_e9ff3b7e_452e_11ec_9db9_02420a39a448\" ><thead>    <tr>        <th class=\"blank level0\" ></th>        <th class=\"col_heading level0 col0\" colspan=2>Сводная таблица</th>    </tr>    <tr>        <th class=\"blank level1\" ></th>        <th class=\"col_heading level1 col0\" >% невозврата</th>        <th class=\"col_heading level1 col1\" >Количество заемщиков</th>    </tr>    <tr>        <th class=\"index_name level0\" >Количество детей</th>        <th class=\"blank\" ></th>        <th class=\"blank\" ></th>    </tr></thead><tbody>\n",
       "                <tr>\n",
       "                        <th id=\"T_e9ff3b7e_452e_11ec_9db9_02420a39a448level0_row0\" class=\"row_heading level0 row0\" >0</th>\n",
       "                        <td id=\"T_e9ff3b7e_452e_11ec_9db9_02420a39a448row0_col0\" class=\"data row0 col0\" >7.54%</td>\n",
       "                        <td id=\"T_e9ff3b7e_452e_11ec_9db9_02420a39a448row0_col1\" class=\"data row0 col1\" >14091</td>\n",
       "            </tr>\n",
       "            <tr>\n",
       "                        <th id=\"T_e9ff3b7e_452e_11ec_9db9_02420a39a448level0_row1\" class=\"row_heading level0 row1\" >1</th>\n",
       "                        <td id=\"T_e9ff3b7e_452e_11ec_9db9_02420a39a448row1_col0\" class=\"data row1 col0\" >9.17%</td>\n",
       "                        <td id=\"T_e9ff3b7e_452e_11ec_9db9_02420a39a448row1_col1\" class=\"data row1 col1\" >4855</td>\n",
       "            </tr>\n",
       "            <tr>\n",
       "                        <th id=\"T_e9ff3b7e_452e_11ec_9db9_02420a39a448level0_row2\" class=\"row_heading level0 row2\" >2</th>\n",
       "                        <td id=\"T_e9ff3b7e_452e_11ec_9db9_02420a39a448row2_col0\" class=\"data row2 col0\" >9.45%</td>\n",
       "                        <td id=\"T_e9ff3b7e_452e_11ec_9db9_02420a39a448row2_col1\" class=\"data row2 col1\" >2052</td>\n",
       "            </tr>\n",
       "            <tr>\n",
       "                        <th id=\"T_e9ff3b7e_452e_11ec_9db9_02420a39a448level0_row3\" class=\"row_heading level0 row3\" >3</th>\n",
       "                        <td id=\"T_e9ff3b7e_452e_11ec_9db9_02420a39a448row3_col0\" class=\"data row3 col0\" >8.18%</td>\n",
       "                        <td id=\"T_e9ff3b7e_452e_11ec_9db9_02420a39a448row3_col1\" class=\"data row3 col1\" >330</td>\n",
       "            </tr>\n",
       "            <tr>\n",
       "                        <th id=\"T_e9ff3b7e_452e_11ec_9db9_02420a39a448level0_row4\" class=\"row_heading level0 row4\" >4</th>\n",
       "                        <td id=\"T_e9ff3b7e_452e_11ec_9db9_02420a39a448row4_col0\" class=\"data row4 col0\" >9.76%</td>\n",
       "                        <td id=\"T_e9ff3b7e_452e_11ec_9db9_02420a39a448row4_col1\" class=\"data row4 col1\" >41</td>\n",
       "            </tr>\n",
       "            <tr>\n",
       "                        <th id=\"T_e9ff3b7e_452e_11ec_9db9_02420a39a448level0_row5\" class=\"row_heading level0 row5\" >5</th>\n",
       "                        <td id=\"T_e9ff3b7e_452e_11ec_9db9_02420a39a448row5_col0\" class=\"data row5 col0\" >0.00%</td>\n",
       "                        <td id=\"T_e9ff3b7e_452e_11ec_9db9_02420a39a448row5_col1\" class=\"data row5 col1\" >9</td>\n",
       "            </tr>\n",
       "            <tr>\n",
       "                        <th id=\"T_e9ff3b7e_452e_11ec_9db9_02420a39a448level0_row6\" class=\"row_heading level0 row6\" >20</th>\n",
       "                        <td id=\"T_e9ff3b7e_452e_11ec_9db9_02420a39a448row6_col0\" class=\"data row6 col0\" >10.53%</td>\n",
       "                        <td id=\"T_e9ff3b7e_452e_11ec_9db9_02420a39a448row6_col1\" class=\"data row6 col1\" >76</td>\n",
       "            </tr>\n",
       "    </tbody></table>"
      ],
      "text/plain": [
       "<pandas.io.formats.style.Styler at 0x7fbed86c7f90>"
      ]
     },
     "execution_count": 53,
     "metadata": {},
     "output_type": "execute_result"
    }
   ],
   "source": [
    "# рассчет рейнтинга по проценту невозврата в зависимости от количества детей\n",
    "debt_reiting_children = df.groupby('children').agg({'debt':['mean', 'count']})\n",
    "debt_reiting_children = debt_reiting_children.rename(columns={'debt':'Сводная таблица'}, level=0)\n",
    "debt_reiting_children = debt_reiting_children.rename(columns={'mean':'% невозврата', 'count':'Количество заемщиков'}, level=1)\n",
    "debt_reiting_children.index = debt_reiting_children.index.rename('Количество детей')\n",
    "debt_reiting_children.style.format({('Сводная таблица', '% невозврата'):'{:.2%}'})"
   ]
  },
  {
   "cell_type": "code",
   "execution_count": 54,
   "metadata": {},
   "outputs": [
    {
     "data": {
      "text/plain": [
       "'Средневзвешенный процент невозврата = 8.12%'"
      ]
     },
     "execution_count": 54,
     "metadata": {},
     "output_type": "execute_result"
    }
   ],
   "source": [
    "nevozvr = (debt_reiting_children['Сводная таблица']['% невозврата'] * debt_reiting_children['Сводная таблица']['Количество заемщиков']).sum() / \\\n",
    "debt_reiting_children['Сводная таблица']['Количество заемщиков'].sum()\n",
    "f'Средневзвешенный процент невозврата = {nevozvr:.2%}'"
   ]
  },
  {
   "cell_type": "markdown",
   "metadata": {},
   "source": [
    "**Вывод**"
   ]
  },
  {
   "cell_type": "markdown",
   "metadata": {},
   "source": [
    "Видим, что доля невозвратов по кредитом среди заемщиков без детей ниже, чем у замщиков имеющих детей. Возможно это связано с дополнительными расходами на детей."
   ]
  },
  {
   "cell_type": "markdown",
   "metadata": {},
   "source": [
    "- Есть ли зависимость между семейным положением и возвратом кредита в срок?"
   ]
  },
  {
   "cell_type": "code",
   "execution_count": 56,
   "metadata": {},
   "outputs": [
    {
     "data": {
      "text/html": [
       "<style  type=\"text/css\" >\n",
       "</style><table id=\"T_ea0f142c_452e_11ec_9db9_02420a39a448\" ><thead>    <tr>        <th class=\"blank level0\" ></th>        <th class=\"col_heading level0 col0\" colspan=2>Сводная таблица</th>    </tr>    <tr>        <th class=\"blank level1\" ></th>        <th class=\"col_heading level1 col0\" >% невозврата</th>        <th class=\"col_heading level1 col1\" >Количество заемщиков</th>    </tr>    <tr>        <th class=\"index_name level0\" >Семейное положение</th>        <th class=\"blank\" ></th>        <th class=\"blank\" ></th>    </tr></thead><tbody>\n",
       "                <tr>\n",
       "                        <th id=\"T_ea0f142c_452e_11ec_9db9_02420a39a448level0_row0\" class=\"row_heading level0 row0\" >в разводе</th>\n",
       "                        <td id=\"T_ea0f142c_452e_11ec_9db9_02420a39a448row0_col0\" class=\"data row0 col0\" >7.11%</td>\n",
       "                        <td id=\"T_ea0f142c_452e_11ec_9db9_02420a39a448row0_col1\" class=\"data row0 col1\" >1195</td>\n",
       "            </tr>\n",
       "            <tr>\n",
       "                        <th id=\"T_ea0f142c_452e_11ec_9db9_02420a39a448level0_row1\" class=\"row_heading level0 row1\" >вдовец / вдова</th>\n",
       "                        <td id=\"T_ea0f142c_452e_11ec_9db9_02420a39a448row1_col0\" class=\"data row1 col0\" >6.57%</td>\n",
       "                        <td id=\"T_ea0f142c_452e_11ec_9db9_02420a39a448row1_col1\" class=\"data row1 col1\" >959</td>\n",
       "            </tr>\n",
       "            <tr>\n",
       "                        <th id=\"T_ea0f142c_452e_11ec_9db9_02420a39a448level0_row2\" class=\"row_heading level0 row2\" >гражданский брак</th>\n",
       "                        <td id=\"T_ea0f142c_452e_11ec_9db9_02420a39a448row2_col0\" class=\"data row2 col0\" >9.35%</td>\n",
       "                        <td id=\"T_ea0f142c_452e_11ec_9db9_02420a39a448row2_col1\" class=\"data row2 col1\" >4151</td>\n",
       "            </tr>\n",
       "            <tr>\n",
       "                        <th id=\"T_ea0f142c_452e_11ec_9db9_02420a39a448level0_row3\" class=\"row_heading level0 row3\" >женат / замужем</th>\n",
       "                        <td id=\"T_ea0f142c_452e_11ec_9db9_02420a39a448row3_col0\" class=\"data row3 col0\" >7.55%</td>\n",
       "                        <td id=\"T_ea0f142c_452e_11ec_9db9_02420a39a448row3_col1\" class=\"data row3 col1\" >12339</td>\n",
       "            </tr>\n",
       "            <tr>\n",
       "                        <th id=\"T_ea0f142c_452e_11ec_9db9_02420a39a448level0_row4\" class=\"row_heading level0 row4\" >не женат / не замужем</th>\n",
       "                        <td id=\"T_ea0f142c_452e_11ec_9db9_02420a39a448row4_col0\" class=\"data row4 col0\" >9.75%</td>\n",
       "                        <td id=\"T_ea0f142c_452e_11ec_9db9_02420a39a448row4_col1\" class=\"data row4 col1\" >2810</td>\n",
       "            </tr>\n",
       "    </tbody></table>"
      ],
      "text/plain": [
       "<pandas.io.formats.style.Styler at 0x7fbebcb71150>"
      ]
     },
     "execution_count": 56,
     "metadata": {},
     "output_type": "execute_result"
    }
   ],
   "source": [
    "# рассчет рейнтинга по проценту невозврата в зависимости от семейного положения\n",
    "debt_reiting_family_status = df.groupby('family_status').agg({'debt':['mean', 'count']})\n",
    "debt_reiting_family_status = debt_reiting_family_status.rename(columns={'debt':'Сводная таблица'}, level=0)\n",
    "debt_reiting_family_status = debt_reiting_family_status.rename(columns={'mean':'% невозврата', 'count':'Количество заемщиков'}, level=1)\n",
    "debt_reiting_family_status.index = debt_reiting_family_status.index.rename('Семейное положение')\n",
    "debt_reiting_family_status.style.format({('Сводная таблица', '% невозврата'):'{:.2%}'})"
   ]
  },
  {
   "cell_type": "markdown",
   "metadata": {},
   "source": [
    "**Вывод**"
   ]
  },
  {
   "cell_type": "markdown",
   "metadata": {},
   "source": [
    "Анализ показывает, что максимальная доля невозвратных кредитов приходится на заещиков не состоящих в браке или состоящих в гражданском браке. Возможно это связано с отсутствием у данных категорий заемщиков навыков ответственности и способности к управлению личными финансами."
   ]
  },
  {
   "cell_type": "markdown",
   "metadata": {},
   "source": [
    "- Есть ли зависимость между уровнем дохода и возвратом кредита в срок?"
   ]
  },
  {
   "cell_type": "code",
   "execution_count": 58,
   "metadata": {},
   "outputs": [
    {
     "data": {
      "text/html": [
       "<style  type=\"text/css\" >\n",
       "</style><table id=\"T_ea1f9b76_452e_11ec_9db9_02420a39a448\" ><thead>    <tr>        <th class=\"blank level0\" ></th>        <th class=\"col_heading level0 col0\" colspan=2>Сводная таблица</th>    </tr>    <tr>        <th class=\"blank level1\" ></th>        <th class=\"col_heading level1 col0\" >% невозврата</th>        <th class=\"col_heading level1 col1\" >Количество заемщиков</th>    </tr>    <tr>        <th class=\"index_name level0\" >Уровень доходов</th>        <th class=\"blank\" ></th>        <th class=\"blank\" ></th>    </tr></thead><tbody>\n",
       "                <tr>\n",
       "                        <th id=\"T_ea1f9b76_452e_11ec_9db9_02420a39a448level0_row0\" class=\"row_heading level0 row0\" >1_квартиль</th>\n",
       "                        <td id=\"T_ea1f9b76_452e_11ec_9db9_02420a39a448row0_col0\" class=\"data row0 col0\" >7.96%</td>\n",
       "                        <td id=\"T_ea1f9b76_452e_11ec_9db9_02420a39a448row0_col1\" class=\"data row0 col1\" >5364</td>\n",
       "            </tr>\n",
       "            <tr>\n",
       "                        <th id=\"T_ea1f9b76_452e_11ec_9db9_02420a39a448level0_row1\" class=\"row_heading level0 row1\" >2_квартиль</th>\n",
       "                        <td id=\"T_ea1f9b76_452e_11ec_9db9_02420a39a448row1_col0\" class=\"data row1 col0\" >8.82%</td>\n",
       "                        <td id=\"T_ea1f9b76_452e_11ec_9db9_02420a39a448row1_col1\" class=\"data row1 col1\" >5479</td>\n",
       "            </tr>\n",
       "            <tr>\n",
       "                        <th id=\"T_ea1f9b76_452e_11ec_9db9_02420a39a448level0_row2\" class=\"row_heading level0 row2\" >3_квартиль</th>\n",
       "                        <td id=\"T_ea1f9b76_452e_11ec_9db9_02420a39a448row2_col0\" class=\"data row2 col0\" >8.54%</td>\n",
       "                        <td id=\"T_ea1f9b76_452e_11ec_9db9_02420a39a448row2_col1\" class=\"data row2 col1\" >5247</td>\n",
       "            </tr>\n",
       "            <tr>\n",
       "                        <th id=\"T_ea1f9b76_452e_11ec_9db9_02420a39a448level0_row3\" class=\"row_heading level0 row3\" >4_квартиль</th>\n",
       "                        <td id=\"T_ea1f9b76_452e_11ec_9db9_02420a39a448row3_col0\" class=\"data row3 col0\" >7.14%</td>\n",
       "                        <td id=\"T_ea1f9b76_452e_11ec_9db9_02420a39a448row3_col1\" class=\"data row3 col1\" >5364</td>\n",
       "            </tr>\n",
       "    </tbody></table>"
      ],
      "text/plain": [
       "<pandas.io.formats.style.Styler at 0x7fbebd0c4190>"
      ]
     },
     "execution_count": 58,
     "metadata": {},
     "output_type": "execute_result"
    }
   ],
   "source": [
    "# рассчет рейнтинга по проценту невозврата в зависимости от семейного положения\n",
    "debt_reiting_total_income_q = df.groupby('total_income_q').agg({'debt':['mean', 'count']})\n",
    "debt_reiting_total_income_q = debt_reiting_total_income_q.rename(columns={'debt':'Сводная таблица'}, level=0)\n",
    "debt_reiting_total_income_q = debt_reiting_total_income_q.rename(columns={'mean':'% невозврата', 'count':'Количество заемщиков'}, level=1)\n",
    "debt_reiting_total_income_q.index = debt_reiting_total_income_q.index.rename('Уровень доходов')\n",
    "debt_reiting_total_income_q.style.format({('Сводная таблица', '% невозврата'):'{:.2%}'})"
   ]
  },
  {
   "cell_type": "markdown",
   "metadata": {},
   "source": [
    "**Вывод**"
   ]
  },
  {
   "cell_type": "markdown",
   "metadata": {},
   "source": [
    "Анализ показал, что наименьший уровень невозврата зафиксирован у заемшиков с доходами 4 и 1 квартиля. Возможно это связано с более развитыми навыками управления личными финансами у данных категорий заемщиков."
   ]
  },
  {
   "cell_type": "markdown",
   "metadata": {},
   "source": [
    "- Как разные цели кредита влияют на его возврат в срок?"
   ]
  },
  {
   "cell_type": "code",
   "execution_count": 59,
   "metadata": {},
   "outputs": [
    {
     "data": {
      "text/html": [
       "<style  type=\"text/css\" >\n",
       "</style><table id=\"T_ea24321c_452e_11ec_9db9_02420a39a448\" ><thead>    <tr>        <th class=\"blank level0\" ></th>        <th class=\"col_heading level0 col0\" colspan=2>Сводная таблица</th>    </tr>    <tr>        <th class=\"blank level1\" ></th>        <th class=\"col_heading level1 col0\" >% невозврата</th>        <th class=\"col_heading level1 col1\" >Количество заемщиков</th>    </tr>    <tr>        <th class=\"index_name level0\" >Цель кредита</th>        <th class=\"blank\" ></th>        <th class=\"blank\" ></th>    </tr></thead><tbody>\n",
       "                <tr>\n",
       "                        <th id=\"T_ea24321c_452e_11ec_9db9_02420a39a448level0_row0\" class=\"row_heading level0 row0\" >автомобиль</th>\n",
       "                        <td id=\"T_ea24321c_452e_11ec_9db9_02420a39a448row0_col0\" class=\"data row0 col0\" >9.36%</td>\n",
       "                        <td id=\"T_ea24321c_452e_11ec_9db9_02420a39a448row0_col1\" class=\"data row0 col1\" >4306</td>\n",
       "            </tr>\n",
       "            <tr>\n",
       "                        <th id=\"T_ea24321c_452e_11ec_9db9_02420a39a448level0_row1\" class=\"row_heading level0 row1\" >недвижимость</th>\n",
       "                        <td id=\"T_ea24321c_452e_11ec_9db9_02420a39a448row1_col0\" class=\"data row1 col0\" >7.23%</td>\n",
       "                        <td id=\"T_ea24321c_452e_11ec_9db9_02420a39a448row1_col1\" class=\"data row1 col1\" >10811</td>\n",
       "            </tr>\n",
       "            <tr>\n",
       "                        <th id=\"T_ea24321c_452e_11ec_9db9_02420a39a448level0_row2\" class=\"row_heading level0 row2\" >образование</th>\n",
       "                        <td id=\"T_ea24321c_452e_11ec_9db9_02420a39a448row2_col0\" class=\"data row2 col0\" >9.22%</td>\n",
       "                        <td id=\"T_ea24321c_452e_11ec_9db9_02420a39a448row2_col1\" class=\"data row2 col1\" >4013</td>\n",
       "            </tr>\n",
       "            <tr>\n",
       "                        <th id=\"T_ea24321c_452e_11ec_9db9_02420a39a448level0_row3\" class=\"row_heading level0 row3\" >свадьба</th>\n",
       "                        <td id=\"T_ea24321c_452e_11ec_9db9_02420a39a448row3_col0\" class=\"data row3 col0\" >8.00%</td>\n",
       "                        <td id=\"T_ea24321c_452e_11ec_9db9_02420a39a448row3_col1\" class=\"data row3 col1\" >2324</td>\n",
       "            </tr>\n",
       "    </tbody></table>"
      ],
      "text/plain": [
       "<pandas.io.formats.style.Styler at 0x7fbebcb58890>"
      ]
     },
     "execution_count": 59,
     "metadata": {},
     "output_type": "execute_result"
    }
   ],
   "source": [
    "# рассчет рейнтинга по проценту невозврата в зависимости от семейного положения\n",
    "debt_reiting_purpose_extract = df.groupby('purpose_extract').agg({'debt':['mean', 'count']})\n",
    "debt_reiting_purpose_extract = debt_reiting_purpose_extract.rename(columns={'debt':'Сводная таблица'}, level=0)\n",
    "debt_reiting_purpose_extract = debt_reiting_purpose_extract.rename(columns={'mean':'% невозврата', 'count':'Количество заемщиков'}, level=1)\n",
    "debt_reiting_purpose_extract.index = debt_reiting_purpose_extract.index.rename('Цель кредита')\n",
    "debt_reiting_purpose_extract.style.format({('Сводная таблица', '% невозврата'):'{:.2%}'})"
   ]
  },
  {
   "cell_type": "markdown",
   "metadata": {},
   "source": [
    "**Вывод**"
   ]
  },
  {
   "cell_type": "markdown",
   "metadata": {},
   "source": [
    "Анализ показывает, что наименьшая доля невозвратных кредитов приходится на кредиты связанные с недвижимостью. Возможно это обусловлено наличием достаточного обеспечения в виде ипотеки. Кредиты на свадьбу также имеют небольшой процент невозврата, что возможно обусловлено меньшей суммой и сроком кредитования по сравнению с кредитами на другие цели, а также возможными поручительствами со стороны родителей."
   ]
  },
  {
   "cell_type": "markdown",
   "metadata": {},
   "source": [
    "## Общий вывод"
   ]
  },
  {
   "cell_type": "markdown",
   "metadata": {},
   "source": [
    "Проведенное исследование надежности заемщиков показало, что семейное положение и наличие детей у замещиков в среднем влияют на процент невозврата по кредитам. При этом:\n",
    "\n",
    "- наличие супруга/супруги или наличие таких в прошлом снижает вероятность невозврата по кредитам до 6,6% -7,6%\n",
    "- отсутствие детей снижает вероятность невозврата до 7,5%, наличие детей у замщика повышает риск невозврата кредита и требует более детального анализа платежеспособности замещика.\n",
    "\n",
    "Также была выявлен более низкий процент невозврата у заещиков с доходами относящимися к 1 и 4 квартилю (8,0% и 7,1% соответственно) против более высконого процента невозврата замещиками с средним уровнем доходов, относящихся к 2 и 3 квартилю (8,5% и 8,9% соответственно).\n",
    "\n",
    "По целям кредитования: наименьший процент невозврата приходитя на заемщиков кредитующихся для приобретения недвижимости (7,2%) и для проведения свадьбы (8%), наибольший процент невозврата у заемщиков кредитующихся для покупки автомобиля (9,4%) или берущих образовательный кредит(9,2%).\n",
    "\n",
    "Можно рекомендовать включить указанные показатели в систему кредитного скорринга банка."
   ]
  }
 ],
 "metadata": {
  "ExecuteTimeLog": [
   {
    "duration": 2980,
    "start_time": "2021-11-06T12:47:47.247Z"
   },
   {
    "duration": 65,
    "start_time": "2021-11-06T12:48:51.048Z"
   },
   {
    "duration": 30,
    "start_time": "2021-11-06T12:49:12.982Z"
   },
   {
    "duration": 16,
    "start_time": "2021-11-06T12:49:29.999Z"
   },
   {
    "duration": 14,
    "start_time": "2021-11-06T12:51:09.658Z"
   },
   {
    "duration": 19,
    "start_time": "2021-11-06T12:51:51.492Z"
   },
   {
    "duration": 12,
    "start_time": "2021-11-06T12:52:36.123Z"
   },
   {
    "duration": 26,
    "start_time": "2021-11-06T12:53:09.613Z"
   },
   {
    "duration": 4,
    "start_time": "2021-11-06T12:53:52.287Z"
   },
   {
    "duration": 150,
    "start_time": "2021-11-06T12:54:33.190Z"
   },
   {
    "duration": 32,
    "start_time": "2021-11-06T12:54:52.816Z"
   },
   {
    "duration": 9,
    "start_time": "2021-11-06T12:55:04.905Z"
   },
   {
    "duration": 59,
    "start_time": "2021-11-06T12:55:17.257Z"
   },
   {
    "duration": 12,
    "start_time": "2021-11-06T12:55:31.083Z"
   },
   {
    "duration": 18,
    "start_time": "2021-11-06T12:55:43.223Z"
   },
   {
    "duration": 7,
    "start_time": "2021-11-06T12:57:47.749Z"
   },
   {
    "duration": 16,
    "start_time": "2021-11-06T12:58:03.996Z"
   },
   {
    "duration": 21,
    "start_time": "2021-11-06T12:59:08.180Z"
   },
   {
    "duration": 26,
    "start_time": "2021-11-06T12:59:16.916Z"
   },
   {
    "duration": 29,
    "start_time": "2021-11-06T12:59:25.238Z"
   },
   {
    "duration": 22,
    "start_time": "2021-11-06T12:59:37.470Z"
   },
   {
    "duration": 16,
    "start_time": "2021-11-06T12:59:47.101Z"
   },
   {
    "duration": 32,
    "start_time": "2021-11-06T13:00:04.694Z"
   },
   {
    "duration": 24,
    "start_time": "2021-11-06T13:00:13.968Z"
   },
   {
    "duration": 19,
    "start_time": "2021-11-06T13:00:22.853Z"
   },
   {
    "duration": 22,
    "start_time": "2021-11-06T13:00:31.366Z"
   },
   {
    "duration": 8,
    "start_time": "2021-11-06T13:00:43.071Z"
   },
   {
    "duration": 4,
    "start_time": "2021-11-06T13:00:57.832Z"
   },
   {
    "duration": 8,
    "start_time": "2021-11-06T13:01:06.786Z"
   },
   {
    "duration": 10,
    "start_time": "2021-11-06T13:01:16.231Z"
   },
   {
    "duration": 8,
    "start_time": "2021-11-06T13:01:26.521Z"
   },
   {
    "duration": 5,
    "start_time": "2021-11-06T13:01:39.895Z"
   },
   {
    "duration": 8,
    "start_time": "2021-11-06T13:01:51.361Z"
   },
   {
    "duration": 1349,
    "start_time": "2021-11-06T13:02:57.978Z"
   },
   {
    "duration": 12,
    "start_time": "2021-11-06T13:03:17.465Z"
   },
   {
    "duration": 3,
    "start_time": "2021-11-06T13:03:34.037Z"
   },
   {
    "duration": 5,
    "start_time": "2021-11-06T13:03:48.610Z"
   },
   {
    "duration": 3912,
    "start_time": "2021-11-06T13:03:59.730Z"
   },
   {
    "duration": 31,
    "start_time": "2021-11-06T13:04:11.791Z"
   },
   {
    "duration": 9,
    "start_time": "2021-11-06T13:12:50.754Z"
   },
   {
    "duration": 32,
    "start_time": "2021-11-06T13:13:05.762Z"
   },
   {
    "duration": 21,
    "start_time": "2021-11-06T13:27:49.671Z"
   },
   {
    "duration": 122,
    "start_time": "2021-11-06T13:29:01.402Z"
   },
   {
    "duration": 20,
    "start_time": "2021-11-06T13:29:17.900Z"
   },
   {
    "duration": 17,
    "start_time": "2021-11-06T13:32:43.945Z"
   },
   {
    "duration": 16,
    "start_time": "2021-11-06T13:32:48.033Z"
   },
   {
    "duration": 357,
    "start_time": "2021-11-07T04:56:43.194Z"
   },
   {
    "duration": 1005,
    "start_time": "2021-11-07T04:57:07.075Z"
   },
   {
    "duration": 13,
    "start_time": "2021-11-07T04:57:08.073Z"
   },
   {
    "duration": -8,
    "start_time": "2021-11-07T04:57:08.095Z"
   },
   {
    "duration": -34,
    "start_time": "2021-11-07T04:57:08.124Z"
   },
   {
    "duration": -57,
    "start_time": "2021-11-07T04:57:08.149Z"
   },
   {
    "duration": -84,
    "start_time": "2021-11-07T04:57:08.178Z"
   },
   {
    "duration": -97,
    "start_time": "2021-11-07T04:57:08.193Z"
   },
   {
    "duration": -144,
    "start_time": "2021-11-07T04:57:08.242Z"
   },
   {
    "duration": -163,
    "start_time": "2021-11-07T04:57:08.263Z"
   },
   {
    "duration": -192,
    "start_time": "2021-11-07T04:57:08.294Z"
   },
   {
    "duration": -215,
    "start_time": "2021-11-07T04:57:08.319Z"
   },
   {
    "duration": -230,
    "start_time": "2021-11-07T04:57:08.336Z"
   },
   {
    "duration": -263,
    "start_time": "2021-11-07T04:57:08.371Z"
   },
   {
    "duration": -288,
    "start_time": "2021-11-07T04:57:08.399Z"
   },
   {
    "duration": -306,
    "start_time": "2021-11-07T04:57:08.419Z"
   },
   {
    "duration": -318,
    "start_time": "2021-11-07T04:57:08.433Z"
   },
   {
    "duration": -327,
    "start_time": "2021-11-07T04:57:08.444Z"
   },
   {
    "duration": -335,
    "start_time": "2021-11-07T04:57:08.455Z"
   },
   {
    "duration": -341,
    "start_time": "2021-11-07T04:57:08.469Z"
   },
   {
    "duration": -354,
    "start_time": "2021-11-07T04:57:08.484Z"
   },
   {
    "duration": -363,
    "start_time": "2021-11-07T04:57:08.495Z"
   },
   {
    "duration": -373,
    "start_time": "2021-11-07T04:57:08.507Z"
   },
   {
    "duration": -381,
    "start_time": "2021-11-07T04:57:08.517Z"
   },
   {
    "duration": -391,
    "start_time": "2021-11-07T04:57:08.529Z"
   },
   {
    "duration": -400,
    "start_time": "2021-11-07T04:57:08.541Z"
   },
   {
    "duration": -442,
    "start_time": "2021-11-07T04:57:08.585Z"
   },
   {
    "duration": -450,
    "start_time": "2021-11-07T04:57:08.595Z"
   },
   {
    "duration": -460,
    "start_time": "2021-11-07T04:57:08.607Z"
   },
   {
    "duration": -484,
    "start_time": "2021-11-07T04:57:08.633Z"
   },
   {
    "duration": -492,
    "start_time": "2021-11-07T04:57:08.643Z"
   },
   {
    "duration": -500,
    "start_time": "2021-11-07T04:57:08.653Z"
   },
   {
    "duration": -547,
    "start_time": "2021-11-07T04:57:08.702Z"
   },
   {
    "duration": -557,
    "start_time": "2021-11-07T04:57:08.714Z"
   },
   {
    "duration": -565,
    "start_time": "2021-11-07T04:57:08.725Z"
   },
   {
    "duration": -573,
    "start_time": "2021-11-07T04:57:08.735Z"
   },
   {
    "duration": -586,
    "start_time": "2021-11-07T04:57:08.750Z"
   },
   {
    "duration": -601,
    "start_time": "2021-11-07T04:57:08.767Z"
   },
   {
    "duration": -609,
    "start_time": "2021-11-07T04:57:08.777Z"
   },
   {
    "duration": -623,
    "start_time": "2021-11-07T04:57:08.792Z"
   },
   {
    "duration": -634,
    "start_time": "2021-11-07T04:57:08.804Z"
   },
   {
    "duration": -649,
    "start_time": "2021-11-07T04:57:08.820Z"
   },
   {
    "duration": 283,
    "start_time": "2021-11-07T05:01:23.638Z"
   },
   {
    "duration": 28,
    "start_time": "2021-11-07T05:01:23.897Z"
   },
   {
    "duration": 19,
    "start_time": "2021-11-07T05:01:23.907Z"
   },
   {
    "duration": 6,
    "start_time": "2021-11-07T05:01:23.922Z"
   },
   {
    "duration": -3,
    "start_time": "2021-11-07T05:01:23.932Z"
   },
   {
    "duration": -11,
    "start_time": "2021-11-07T05:01:23.941Z"
   },
   {
    "duration": -20,
    "start_time": "2021-11-07T05:01:23.952Z"
   },
   {
    "duration": -32,
    "start_time": "2021-11-07T05:01:23.965Z"
   },
   {
    "duration": -43,
    "start_time": "2021-11-07T05:01:23.977Z"
   },
   {
    "duration": -54,
    "start_time": "2021-11-07T05:01:23.989Z"
   },
   {
    "duration": -68,
    "start_time": "2021-11-07T05:01:24.004Z"
   },
   {
    "duration": -80,
    "start_time": "2021-11-07T05:01:24.017Z"
   },
   {
    "duration": -101,
    "start_time": "2021-11-07T05:01:24.039Z"
   },
   {
    "duration": -113,
    "start_time": "2021-11-07T05:01:24.052Z"
   },
   {
    "duration": -124,
    "start_time": "2021-11-07T05:01:24.065Z"
   },
   {
    "duration": -134,
    "start_time": "2021-11-07T05:01:24.076Z"
   },
   {
    "duration": -144,
    "start_time": "2021-11-07T05:01:24.087Z"
   },
   {
    "duration": -156,
    "start_time": "2021-11-07T05:01:24.100Z"
   },
   {
    "duration": -168,
    "start_time": "2021-11-07T05:01:24.114Z"
   },
   {
    "duration": -179,
    "start_time": "2021-11-07T05:01:24.126Z"
   },
   {
    "duration": -194,
    "start_time": "2021-11-07T05:01:24.142Z"
   },
   {
    "duration": -206,
    "start_time": "2021-11-07T05:01:24.155Z"
   },
   {
    "duration": -218,
    "start_time": "2021-11-07T05:01:24.168Z"
   },
   {
    "duration": -226,
    "start_time": "2021-11-07T05:01:24.178Z"
   },
   {
    "duration": -235,
    "start_time": "2021-11-07T05:01:24.188Z"
   },
   {
    "duration": -245,
    "start_time": "2021-11-07T05:01:24.199Z"
   },
   {
    "duration": -273,
    "start_time": "2021-11-07T05:01:24.228Z"
   },
   {
    "duration": -280,
    "start_time": "2021-11-07T05:01:24.237Z"
   },
   {
    "duration": -319,
    "start_time": "2021-11-07T05:01:24.277Z"
   },
   {
    "duration": -359,
    "start_time": "2021-11-07T05:01:24.318Z"
   },
   {
    "duration": -367,
    "start_time": "2021-11-07T05:01:24.327Z"
   },
   {
    "duration": -376,
    "start_time": "2021-11-07T05:01:24.337Z"
   },
   {
    "duration": -383,
    "start_time": "2021-11-07T05:01:24.346Z"
   },
   {
    "duration": -392,
    "start_time": "2021-11-07T05:01:24.356Z"
   },
   {
    "duration": -401,
    "start_time": "2021-11-07T05:01:24.366Z"
   },
   {
    "duration": -412,
    "start_time": "2021-11-07T05:01:24.378Z"
   },
   {
    "duration": -419,
    "start_time": "2021-11-07T05:01:24.387Z"
   },
   {
    "duration": -428,
    "start_time": "2021-11-07T05:01:24.397Z"
   },
   {
    "duration": -436,
    "start_time": "2021-11-07T05:01:24.406Z"
   },
   {
    "duration": -468,
    "start_time": "2021-11-07T05:01:24.439Z"
   },
   {
    "duration": -421,
    "start_time": "2021-11-07T05:01:24.450Z"
   },
   {
    "duration": -430,
    "start_time": "2021-11-07T05:01:24.461Z"
   },
   {
    "duration": -440,
    "start_time": "2021-11-07T05:01:24.472Z"
   },
   {
    "duration": -453,
    "start_time": "2021-11-07T05:01:24.486Z"
   },
   {
    "duration": -462,
    "start_time": "2021-11-07T05:01:24.496Z"
   },
   {
    "duration": 1052,
    "start_time": "2021-11-07T05:01:47.561Z"
   },
   {
    "duration": -8,
    "start_time": "2021-11-07T05:01:48.627Z"
   },
   {
    "duration": -27,
    "start_time": "2021-11-07T05:01:48.648Z"
   },
   {
    "duration": -76,
    "start_time": "2021-11-07T05:01:48.699Z"
   },
   {
    "duration": -99,
    "start_time": "2021-11-07T05:01:48.724Z"
   },
   {
    "duration": -115,
    "start_time": "2021-11-07T05:01:48.742Z"
   },
   {
    "duration": -132,
    "start_time": "2021-11-07T05:01:48.762Z"
   },
   {
    "duration": -155,
    "start_time": "2021-11-07T05:01:48.787Z"
   },
   {
    "duration": -183,
    "start_time": "2021-11-07T05:01:48.817Z"
   },
   {
    "duration": -213,
    "start_time": "2021-11-07T05:01:48.849Z"
   },
   {
    "duration": -249,
    "start_time": "2021-11-07T05:01:48.887Z"
   },
   {
    "duration": -354,
    "start_time": "2021-11-07T05:01:48.994Z"
   },
   {
    "duration": -379,
    "start_time": "2021-11-07T05:01:49.021Z"
   },
   {
    "duration": -440,
    "start_time": "2021-11-07T05:01:49.084Z"
   },
   {
    "duration": -459,
    "start_time": "2021-11-07T05:01:49.105Z"
   },
   {
    "duration": -481,
    "start_time": "2021-11-07T05:01:49.129Z"
   },
   {
    "duration": -497,
    "start_time": "2021-11-07T05:01:49.147Z"
   },
   {
    "duration": -513,
    "start_time": "2021-11-07T05:01:49.165Z"
   },
   {
    "duration": -543,
    "start_time": "2021-11-07T05:01:49.197Z"
   },
   {
    "duration": -560,
    "start_time": "2021-11-07T05:01:49.216Z"
   },
   {
    "duration": -583,
    "start_time": "2021-11-07T05:01:49.242Z"
   },
   {
    "duration": -661,
    "start_time": "2021-11-07T05:01:49.322Z"
   },
   {
    "duration": -681,
    "start_time": "2021-11-07T05:01:49.344Z"
   },
   {
    "duration": -718,
    "start_time": "2021-11-07T05:01:49.385Z"
   },
   {
    "duration": -744,
    "start_time": "2021-11-07T05:01:49.413Z"
   },
   {
    "duration": -770,
    "start_time": "2021-11-07T05:01:49.440Z"
   },
   {
    "duration": -786,
    "start_time": "2021-11-07T05:01:49.458Z"
   },
   {
    "duration": -745,
    "start_time": "2021-11-07T05:01:49.474Z"
   },
   {
    "duration": -759,
    "start_time": "2021-11-07T05:01:49.490Z"
   },
   {
    "duration": -773,
    "start_time": "2021-11-07T05:01:49.506Z"
   },
   {
    "duration": -792,
    "start_time": "2021-11-07T05:01:49.526Z"
   },
   {
    "duration": -814,
    "start_time": "2021-11-07T05:01:49.550Z"
   },
   {
    "duration": -872,
    "start_time": "2021-11-07T05:01:49.609Z"
   },
   {
    "duration": -886,
    "start_time": "2021-11-07T05:01:49.625Z"
   },
   {
    "duration": -901,
    "start_time": "2021-11-07T05:01:49.641Z"
   },
   {
    "duration": -925,
    "start_time": "2021-11-07T05:01:49.666Z"
   },
   {
    "duration": -938,
    "start_time": "2021-11-07T05:01:49.681Z"
   },
   {
    "duration": -954,
    "start_time": "2021-11-07T05:01:49.698Z"
   },
   {
    "duration": -969,
    "start_time": "2021-11-07T05:01:49.715Z"
   },
   {
    "duration": -984,
    "start_time": "2021-11-07T05:01:49.732Z"
   },
   {
    "duration": -998,
    "start_time": "2021-11-07T05:01:49.747Z"
   },
   {
    "duration": -1018,
    "start_time": "2021-11-07T05:01:49.769Z"
   },
   {
    "duration": -1032,
    "start_time": "2021-11-07T05:01:49.784Z"
   },
   {
    "duration": -1050,
    "start_time": "2021-11-07T05:01:49.803Z"
   },
   {
    "duration": -1072,
    "start_time": "2021-11-07T05:01:49.827Z"
   },
   {
    "duration": 69,
    "start_time": "2021-11-07T05:02:25.162Z"
   },
   {
    "duration": 28,
    "start_time": "2021-11-07T05:02:25.234Z"
   },
   {
    "duration": 20,
    "start_time": "2021-11-07T05:02:25.265Z"
   },
   {
    "duration": 47,
    "start_time": "2021-11-07T05:02:25.287Z"
   },
   {
    "duration": 20,
    "start_time": "2021-11-07T05:02:25.336Z"
   },
   {
    "duration": 10,
    "start_time": "2021-11-07T05:02:25.358Z"
   },
   {
    "duration": 32,
    "start_time": "2021-11-07T05:02:25.370Z"
   },
   {
    "duration": 24,
    "start_time": "2021-11-07T05:02:25.406Z"
   },
   {
    "duration": 159,
    "start_time": "2021-11-07T05:02:25.433Z"
   },
   {
    "duration": 46,
    "start_time": "2021-11-07T05:02:25.594Z"
   },
   {
    "duration": 9,
    "start_time": "2021-11-07T05:02:25.642Z"
   },
   {
    "duration": 76,
    "start_time": "2021-11-07T05:02:25.654Z"
   },
   {
    "duration": 12,
    "start_time": "2021-11-07T05:02:25.733Z"
   },
   {
    "duration": 8,
    "start_time": "2021-11-07T05:02:25.748Z"
   },
   {
    "duration": 24,
    "start_time": "2021-11-07T05:02:25.758Z"
   },
   {
    "duration": 46,
    "start_time": "2021-11-07T05:02:25.785Z"
   },
   {
    "duration": 26,
    "start_time": "2021-11-07T05:02:25.833Z"
   },
   {
    "duration": 20,
    "start_time": "2021-11-07T05:02:25.861Z"
   },
   {
    "duration": 20,
    "start_time": "2021-11-07T05:02:25.883Z"
   },
   {
    "duration": 40,
    "start_time": "2021-11-07T05:02:25.905Z"
   },
   {
    "duration": 38,
    "start_time": "2021-11-07T05:02:25.947Z"
   },
   {
    "duration": 45,
    "start_time": "2021-11-07T05:02:25.987Z"
   },
   {
    "duration": 18,
    "start_time": "2021-11-07T05:02:26.037Z"
   },
   {
    "duration": 20,
    "start_time": "2021-11-07T05:02:26.058Z"
   },
   {
    "duration": 8,
    "start_time": "2021-11-07T05:02:26.081Z"
   },
   {
    "duration": 38,
    "start_time": "2021-11-07T05:02:26.092Z"
   },
   {
    "duration": 7,
    "start_time": "2021-11-07T05:02:26.133Z"
   },
   {
    "duration": 16,
    "start_time": "2021-11-07T05:02:26.142Z"
   },
   {
    "duration": 9,
    "start_time": "2021-11-07T05:02:26.161Z"
   },
   {
    "duration": 10,
    "start_time": "2021-11-07T05:02:26.173Z"
   },
   {
    "duration": 19,
    "start_time": "2021-11-07T05:02:26.185Z"
   },
   {
    "duration": 915,
    "start_time": "2021-11-07T05:02:26.207Z"
   },
   {
    "duration": 10,
    "start_time": "2021-11-07T05:02:27.125Z"
   },
   {
    "duration": 7,
    "start_time": "2021-11-07T05:02:27.137Z"
   },
   {
    "duration": 12,
    "start_time": "2021-11-07T05:02:27.146Z"
   },
   {
    "duration": 3439,
    "start_time": "2021-11-07T05:02:27.160Z"
   },
   {
    "duration": 35,
    "start_time": "2021-11-07T05:02:30.602Z"
   },
   {
    "duration": 18,
    "start_time": "2021-11-07T05:02:30.639Z"
   },
   {
    "duration": 43,
    "start_time": "2021-11-07T05:02:30.659Z"
   },
   {
    "duration": 45,
    "start_time": "2021-11-07T05:02:30.706Z"
   },
   {
    "duration": 19,
    "start_time": "2021-11-07T05:02:30.754Z"
   },
   {
    "duration": 13,
    "start_time": "2021-11-07T05:02:30.776Z"
   },
   {
    "duration": 26,
    "start_time": "2021-11-07T05:02:30.792Z"
   },
   {
    "duration": 20,
    "start_time": "2021-11-07T05:02:30.821Z"
   },
   {
    "duration": 28,
    "start_time": "2021-11-07T05:02:30.844Z"
   },
   {
    "duration": 19,
    "start_time": "2021-11-07T05:03:43.622Z"
   },
   {
    "duration": 21,
    "start_time": "2021-11-07T05:03:53.522Z"
   },
   {
    "duration": 21,
    "start_time": "2021-11-07T05:04:31.013Z"
   },
   {
    "duration": 4,
    "start_time": "2021-11-07T05:05:09.966Z"
   },
   {
    "duration": 4,
    "start_time": "2021-11-07T05:15:58.765Z"
   },
   {
    "duration": 598,
    "start_time": "2021-11-07T05:16:53.340Z"
   },
   {
    "duration": 594,
    "start_time": "2021-11-07T05:17:18.956Z"
   },
   {
    "duration": 265,
    "start_time": "2021-11-07T05:18:16.041Z"
   },
   {
    "duration": 15,
    "start_time": "2021-11-07T05:18:27.685Z"
   },
   {
    "duration": 16,
    "start_time": "2021-11-07T05:19:07.646Z"
   },
   {
    "duration": 592,
    "start_time": "2021-11-07T05:19:22.767Z"
   },
   {
    "duration": 16,
    "start_time": "2021-11-07T05:19:24.024Z"
   },
   {
    "duration": 247,
    "start_time": "2021-11-07T05:30:27.578Z"
   },
   {
    "duration": 32,
    "start_time": "2021-11-07T05:32:59.465Z"
   },
   {
    "duration": 3,
    "start_time": "2021-11-07T05:35:33.807Z"
   },
   {
    "duration": 26,
    "start_time": "2021-11-07T05:35:34.718Z"
   },
   {
    "duration": 11,
    "start_time": "2021-11-07T05:36:39.711Z"
   },
   {
    "duration": 249,
    "start_time": "2021-11-07T05:43:43.955Z"
   },
   {
    "duration": 92,
    "start_time": "2021-11-07T05:44:38.330Z"
   },
   {
    "duration": 258,
    "start_time": "2021-11-07T05:44:45.593Z"
   },
   {
    "duration": 260,
    "start_time": "2021-11-07T05:45:05.682Z"
   },
   {
    "duration": 102,
    "start_time": "2021-11-07T05:47:19.685Z"
   },
   {
    "duration": 259,
    "start_time": "2021-11-07T05:47:28.060Z"
   },
   {
    "duration": 11,
    "start_time": "2021-11-07T05:47:52.309Z"
   },
   {
    "duration": 14,
    "start_time": "2021-11-07T05:50:54.832Z"
   },
   {
    "duration": 13,
    "start_time": "2021-11-07T05:51:07.832Z"
   },
   {
    "duration": 4,
    "start_time": "2021-11-07T05:58:36.514Z"
   },
   {
    "duration": 6,
    "start_time": "2021-11-07T05:58:43.642Z"
   },
   {
    "duration": 101,
    "start_time": "2021-11-07T05:59:49.030Z"
   },
   {
    "duration": 287,
    "start_time": "2021-11-07T06:00:08.353Z"
   },
   {
    "duration": 17,
    "start_time": "2021-11-07T06:00:24.595Z"
   },
   {
    "duration": 17,
    "start_time": "2021-11-07T06:04:11.541Z"
   },
   {
    "duration": 683,
    "start_time": "2021-11-07T06:06:37.641Z"
   },
   {
    "duration": 26,
    "start_time": "2021-11-07T06:10:13.821Z"
   },
   {
    "duration": 23,
    "start_time": "2021-11-07T06:11:52.446Z"
   },
   {
    "duration": 28,
    "start_time": "2021-11-07T06:12:57.102Z"
   },
   {
    "duration": 26,
    "start_time": "2021-11-07T06:13:15.343Z"
   },
   {
    "duration": 27,
    "start_time": "2021-11-07T06:14:18.911Z"
   },
   {
    "duration": 1543,
    "start_time": "2021-11-07T06:17:23.443Z"
   },
   {
    "duration": 30,
    "start_time": "2021-11-07T06:18:13.750Z"
   },
   {
    "duration": 27,
    "start_time": "2021-11-07T06:21:00.490Z"
   },
   {
    "duration": 93,
    "start_time": "2021-11-07T10:45:17.911Z"
   },
   {
    "duration": 845,
    "start_time": "2021-11-07T10:46:34.999Z"
   },
   {
    "duration": 29,
    "start_time": "2021-11-07T10:46:35.846Z"
   },
   {
    "duration": 14,
    "start_time": "2021-11-07T10:46:35.878Z"
   },
   {
    "duration": 30,
    "start_time": "2021-11-07T10:46:35.894Z"
   },
   {
    "duration": 13,
    "start_time": "2021-11-07T10:46:35.929Z"
   },
   {
    "duration": 19,
    "start_time": "2021-11-07T10:46:35.944Z"
   },
   {
    "duration": 33,
    "start_time": "2021-11-07T10:46:35.966Z"
   },
   {
    "duration": 4,
    "start_time": "2021-11-07T10:46:36.003Z"
   },
   {
    "duration": 184,
    "start_time": "2021-11-07T10:46:36.009Z"
   },
   {
    "duration": 46,
    "start_time": "2021-11-07T10:46:36.196Z"
   },
   {
    "duration": 10,
    "start_time": "2021-11-07T10:46:36.245Z"
   },
   {
    "duration": 83,
    "start_time": "2021-11-07T10:46:36.257Z"
   },
   {
    "duration": 12,
    "start_time": "2021-11-07T10:46:36.342Z"
   },
   {
    "duration": 7,
    "start_time": "2021-11-07T10:46:36.356Z"
   },
   {
    "duration": 18,
    "start_time": "2021-11-07T10:46:36.365Z"
   },
   {
    "duration": 56,
    "start_time": "2021-11-07T10:46:36.385Z"
   },
   {
    "duration": 27,
    "start_time": "2021-11-07T10:46:36.444Z"
   },
   {
    "duration": 25,
    "start_time": "2021-11-07T10:46:36.473Z"
   },
   {
    "duration": 24,
    "start_time": "2021-11-07T10:46:36.529Z"
   },
   {
    "duration": 18,
    "start_time": "2021-11-07T10:46:36.555Z"
   },
   {
    "duration": 67,
    "start_time": "2021-11-07T10:46:36.576Z"
   },
   {
    "duration": 22,
    "start_time": "2021-11-07T10:46:36.645Z"
   },
   {
    "duration": 18,
    "start_time": "2021-11-07T10:46:36.672Z"
   },
   {
    "duration": 47,
    "start_time": "2021-11-07T10:46:36.693Z"
   },
   {
    "duration": 7,
    "start_time": "2021-11-07T10:46:36.742Z"
   },
   {
    "duration": 4,
    "start_time": "2021-11-07T10:46:36.751Z"
   },
   {
    "duration": 11,
    "start_time": "2021-11-07T10:46:36.757Z"
   },
   {
    "duration": 9,
    "start_time": "2021-11-07T10:46:36.770Z"
   },
   {
    "duration": 47,
    "start_time": "2021-11-07T10:46:36.782Z"
   },
   {
    "duration": 7,
    "start_time": "2021-11-07T10:46:36.832Z"
   },
   {
    "duration": 23,
    "start_time": "2021-11-07T10:46:36.842Z"
   },
   {
    "duration": 956,
    "start_time": "2021-11-07T10:46:36.868Z"
   },
   {
    "duration": 11,
    "start_time": "2021-11-07T10:46:37.830Z"
   },
   {
    "duration": 8,
    "start_time": "2021-11-07T10:46:37.844Z"
   },
   {
    "duration": 11,
    "start_time": "2021-11-07T10:46:37.854Z"
   },
   {
    "duration": 3923,
    "start_time": "2021-11-07T10:46:37.867Z"
   },
   {
    "duration": 37,
    "start_time": "2021-11-07T10:46:41.792Z"
   },
   {
    "duration": 7,
    "start_time": "2021-11-07T10:46:41.832Z"
   },
   {
    "duration": 46,
    "start_time": "2021-11-07T10:46:41.842Z"
   },
   {
    "duration": 38,
    "start_time": "2021-11-07T10:46:41.890Z"
   },
   {
    "duration": 19,
    "start_time": "2021-11-07T10:46:41.931Z"
   },
   {
    "duration": 12,
    "start_time": "2021-11-07T10:46:41.953Z"
   },
   {
    "duration": 32,
    "start_time": "2021-11-07T10:46:41.968Z"
   },
   {
    "duration": 612,
    "start_time": "2021-11-07T10:46:42.003Z"
   },
   {
    "duration": 25,
    "start_time": "2021-11-07T10:46:42.618Z"
   },
   {
    "duration": 16,
    "start_time": "2021-11-07T10:46:42.646Z"
   },
   {
    "duration": 5,
    "start_time": "2021-11-07T10:46:42.665Z"
   },
   {
    "duration": 57,
    "start_time": "2021-11-07T10:46:42.672Z"
   },
   {
    "duration": 724,
    "start_time": "2021-11-07T10:46:42.732Z"
   },
   {
    "duration": 46,
    "start_time": "2021-11-07T10:46:43.460Z"
   },
   {
    "duration": 54,
    "start_time": "2021-11-07T10:46:43.509Z"
   },
   {
    "duration": 161,
    "start_time": "2021-11-07T10:46:43.565Z"
   },
   {
    "duration": 28,
    "start_time": "2021-11-07T10:47:49.360Z"
   },
   {
    "duration": 30,
    "start_time": "2021-11-07T11:08:52.251Z"
   },
   {
    "duration": 822,
    "start_time": "2021-11-07T11:09:13.543Z"
   },
   {
    "duration": 28,
    "start_time": "2021-11-07T11:09:14.367Z"
   },
   {
    "duration": 16,
    "start_time": "2021-11-07T11:09:14.397Z"
   },
   {
    "duration": 12,
    "start_time": "2021-11-07T11:09:14.430Z"
   },
   {
    "duration": 12,
    "start_time": "2021-11-07T11:09:14.445Z"
   },
   {
    "duration": 10,
    "start_time": "2021-11-07T11:09:14.459Z"
   },
   {
    "duration": 62,
    "start_time": "2021-11-07T11:09:14.472Z"
   },
   {
    "duration": 4,
    "start_time": "2021-11-07T11:09:14.538Z"
   },
   {
    "duration": 166,
    "start_time": "2021-11-07T11:09:14.545Z"
   },
   {
    "duration": 40,
    "start_time": "2021-11-07T11:09:14.714Z"
   },
   {
    "duration": 9,
    "start_time": "2021-11-07T11:09:14.756Z"
   },
   {
    "duration": 84,
    "start_time": "2021-11-07T11:09:14.767Z"
   },
   {
    "duration": 12,
    "start_time": "2021-11-07T11:09:14.853Z"
   },
   {
    "duration": 8,
    "start_time": "2021-11-07T11:09:14.868Z"
   },
   {
    "duration": 17,
    "start_time": "2021-11-07T11:09:14.878Z"
   },
   {
    "duration": 25,
    "start_time": "2021-11-07T11:09:14.930Z"
   },
   {
    "duration": 26,
    "start_time": "2021-11-07T11:09:14.958Z"
   },
   {
    "duration": 56,
    "start_time": "2021-11-07T11:09:14.987Z"
   },
   {
    "duration": 23,
    "start_time": "2021-11-07T11:09:15.046Z"
   },
   {
    "duration": 18,
    "start_time": "2021-11-07T11:09:15.072Z"
   },
   {
    "duration": 66,
    "start_time": "2021-11-07T11:09:15.093Z"
   },
   {
    "duration": 23,
    "start_time": "2021-11-07T11:09:15.161Z"
   },
   {
    "duration": 47,
    "start_time": "2021-11-07T11:09:15.191Z"
   },
   {
    "duration": 24,
    "start_time": "2021-11-07T11:09:15.242Z"
   },
   {
    "duration": 9,
    "start_time": "2021-11-07T11:09:15.269Z"
   },
   {
    "duration": 49,
    "start_time": "2021-11-07T11:09:15.280Z"
   },
   {
    "duration": 10,
    "start_time": "2021-11-07T11:09:15.332Z"
   },
   {
    "duration": 10,
    "start_time": "2021-11-07T11:09:15.345Z"
   },
   {
    "duration": 9,
    "start_time": "2021-11-07T11:09:15.357Z"
   },
   {
    "duration": 8,
    "start_time": "2021-11-07T11:09:15.369Z"
   },
   {
    "duration": 56,
    "start_time": "2021-11-07T11:09:15.380Z"
   },
   {
    "duration": 931,
    "start_time": "2021-11-07T11:09:15.439Z"
   },
   {
    "duration": 11,
    "start_time": "2021-11-07T11:09:16.373Z"
   },
   {
    "duration": 4,
    "start_time": "2021-11-07T11:09:16.387Z"
   },
   {
    "duration": 7,
    "start_time": "2021-11-07T11:09:16.394Z"
   },
   {
    "duration": 3548,
    "start_time": "2021-11-07T11:09:16.429Z"
   },
   {
    "duration": 20,
    "start_time": "2021-11-07T11:09:19.979Z"
   },
   {
    "duration": 28,
    "start_time": "2021-11-07T11:09:20.001Z"
   },
   {
    "duration": 25,
    "start_time": "2021-11-07T11:09:20.031Z"
   },
   {
    "duration": 24,
    "start_time": "2021-11-07T11:09:20.058Z"
   },
   {
    "duration": 46,
    "start_time": "2021-11-07T11:09:20.085Z"
   },
   {
    "duration": 5,
    "start_time": "2021-11-07T11:09:20.133Z"
   },
   {
    "duration": 8,
    "start_time": "2021-11-07T11:09:20.140Z"
   },
   {
    "duration": 639,
    "start_time": "2021-11-07T11:09:20.151Z"
   },
   {
    "duration": 17,
    "start_time": "2021-11-07T11:09:20.792Z"
   },
   {
    "duration": 25,
    "start_time": "2021-11-07T11:09:20.812Z"
   },
   {
    "duration": 3,
    "start_time": "2021-11-07T11:09:20.839Z"
   },
   {
    "duration": 30,
    "start_time": "2021-11-07T11:09:20.845Z"
   },
   {
    "duration": 693,
    "start_time": "2021-11-07T11:09:20.877Z"
   },
   {
    "duration": 35,
    "start_time": "2021-11-07T11:09:21.573Z"
   },
   {
    "duration": 45,
    "start_time": "2021-11-07T11:09:21.610Z"
   },
   {
    "duration": 28,
    "start_time": "2021-11-07T11:09:21.658Z"
   },
   {
    "duration": 7,
    "start_time": "2021-11-07T11:27:47.108Z"
   },
   {
    "duration": 96,
    "start_time": "2021-11-07T11:29:42.211Z"
   },
   {
    "duration": 32,
    "start_time": "2021-11-07T11:31:50.258Z"
   },
   {
    "duration": 20,
    "start_time": "2021-11-07T11:32:19.693Z"
   },
   {
    "duration": 6,
    "start_time": "2021-11-07T11:32:50.534Z"
   },
   {
    "duration": 10,
    "start_time": "2021-11-07T11:35:35.271Z"
   },
   {
    "duration": 7,
    "start_time": "2021-11-07T11:35:44.863Z"
   },
   {
    "duration": 811,
    "start_time": "2021-11-07T11:35:57.832Z"
   },
   {
    "duration": 29,
    "start_time": "2021-11-07T11:35:58.646Z"
   },
   {
    "duration": 15,
    "start_time": "2021-11-07T11:35:58.678Z"
   },
   {
    "duration": 34,
    "start_time": "2021-11-07T11:35:58.696Z"
   },
   {
    "duration": 13,
    "start_time": "2021-11-07T11:35:58.732Z"
   },
   {
    "duration": 10,
    "start_time": "2021-11-07T11:35:58.747Z"
   },
   {
    "duration": 25,
    "start_time": "2021-11-07T11:35:58.760Z"
   },
   {
    "duration": 5,
    "start_time": "2021-11-07T11:35:58.829Z"
   },
   {
    "duration": 172,
    "start_time": "2021-11-07T11:35:58.837Z"
   },
   {
    "duration": 40,
    "start_time": "2021-11-07T11:35:59.011Z"
   },
   {
    "duration": 8,
    "start_time": "2021-11-07T11:35:59.054Z"
   },
   {
    "duration": 85,
    "start_time": "2021-11-07T11:35:59.065Z"
   },
   {
    "duration": 13,
    "start_time": "2021-11-07T11:35:59.153Z"
   },
   {
    "duration": 6,
    "start_time": "2021-11-07T11:35:59.168Z"
   },
   {
    "duration": 15,
    "start_time": "2021-11-07T11:35:59.176Z"
   },
   {
    "duration": 50,
    "start_time": "2021-11-07T11:35:59.193Z"
   },
   {
    "duration": 24,
    "start_time": "2021-11-07T11:35:59.245Z"
   },
   {
    "duration": 21,
    "start_time": "2021-11-07T11:35:59.272Z"
   },
   {
    "duration": 46,
    "start_time": "2021-11-07T11:35:59.295Z"
   },
   {
    "duration": 16,
    "start_time": "2021-11-07T11:35:59.344Z"
   },
   {
    "duration": 67,
    "start_time": "2021-11-07T11:35:59.364Z"
   },
   {
    "duration": 23,
    "start_time": "2021-11-07T11:35:59.434Z"
   },
   {
    "duration": 18,
    "start_time": "2021-11-07T11:35:59.463Z"
   },
   {
    "duration": 47,
    "start_time": "2021-11-07T11:35:59.484Z"
   },
   {
    "duration": 18,
    "start_time": "2021-11-07T11:35:59.533Z"
   },
   {
    "duration": 10,
    "start_time": "2021-11-07T11:35:59.553Z"
   },
   {
    "duration": 8,
    "start_time": "2021-11-07T11:35:59.565Z"
   },
   {
    "duration": 8,
    "start_time": "2021-11-07T11:35:59.576Z"
   },
   {
    "duration": 7,
    "start_time": "2021-11-07T11:35:59.586Z"
   },
   {
    "duration": 37,
    "start_time": "2021-11-07T11:35:59.596Z"
   },
   {
    "duration": 14,
    "start_time": "2021-11-07T11:35:59.635Z"
   },
   {
    "duration": 932,
    "start_time": "2021-11-07T11:35:59.652Z"
   },
   {
    "duration": 12,
    "start_time": "2021-11-07T11:36:00.587Z"
   },
   {
    "duration": 20,
    "start_time": "2021-11-07T11:36:00.601Z"
   },
   {
    "duration": 18,
    "start_time": "2021-11-07T11:36:00.629Z"
   },
   {
    "duration": 3609,
    "start_time": "2021-11-07T11:36:00.649Z"
   },
   {
    "duration": 21,
    "start_time": "2021-11-07T11:36:04.260Z"
   },
   {
    "duration": 7,
    "start_time": "2021-11-07T11:36:04.284Z"
   },
   {
    "duration": 47,
    "start_time": "2021-11-07T11:36:04.294Z"
   },
   {
    "duration": 28,
    "start_time": "2021-11-07T11:36:04.343Z"
   },
   {
    "duration": 20,
    "start_time": "2021-11-07T11:36:04.373Z"
   },
   {
    "duration": 34,
    "start_time": "2021-11-07T11:36:04.395Z"
   },
   {
    "duration": 4,
    "start_time": "2021-11-07T11:36:04.432Z"
   },
   {
    "duration": 683,
    "start_time": "2021-11-07T11:36:04.438Z"
   },
   {
    "duration": 18,
    "start_time": "2021-11-07T11:36:05.124Z"
   },
   {
    "duration": 11,
    "start_time": "2021-11-07T11:36:05.144Z"
   },
   {
    "duration": 4,
    "start_time": "2021-11-07T11:36:05.157Z"
   },
   {
    "duration": 66,
    "start_time": "2021-11-07T11:36:05.163Z"
   },
   {
    "duration": 686,
    "start_time": "2021-11-07T11:36:05.231Z"
   },
   {
    "duration": 33,
    "start_time": "2021-11-07T11:36:05.928Z"
   },
   {
    "duration": 29,
    "start_time": "2021-11-07T11:36:05.964Z"
   },
   {
    "duration": 59,
    "start_time": "2021-11-07T11:36:05.996Z"
   },
   {
    "duration": 12,
    "start_time": "2021-11-07T11:39:14.907Z"
   },
   {
    "duration": 10,
    "start_time": "2021-11-07T11:39:23.281Z"
   },
   {
    "duration": 990,
    "start_time": "2021-11-07T11:39:55.394Z"
   },
   {
    "duration": 33,
    "start_time": "2021-11-07T11:39:56.388Z"
   },
   {
    "duration": 446,
    "start_time": "2021-11-07T11:39:56.431Z"
   },
   {
    "duration": 19,
    "start_time": "2021-11-07T11:39:56.881Z"
   },
   {
    "duration": 24,
    "start_time": "2021-11-07T11:39:56.903Z"
   },
   {
    "duration": 14,
    "start_time": "2021-11-07T11:39:56.931Z"
   },
   {
    "duration": 25,
    "start_time": "2021-11-07T11:39:56.948Z"
   },
   {
    "duration": 5,
    "start_time": "2021-11-07T11:39:56.978Z"
   },
   {
    "duration": 192,
    "start_time": "2021-11-07T11:39:56.987Z"
   },
   {
    "duration": 31,
    "start_time": "2021-11-07T11:39:57.181Z"
   },
   {
    "duration": 22,
    "start_time": "2021-11-07T11:39:57.214Z"
   },
   {
    "duration": 66,
    "start_time": "2021-11-07T11:39:57.239Z"
   },
   {
    "duration": 30,
    "start_time": "2021-11-07T11:39:57.307Z"
   },
   {
    "duration": 10,
    "start_time": "2021-11-07T11:39:57.340Z"
   },
   {
    "duration": 10,
    "start_time": "2021-11-07T11:39:57.352Z"
   },
   {
    "duration": 24,
    "start_time": "2021-11-07T11:39:57.364Z"
   },
   {
    "duration": 11,
    "start_time": "2021-11-07T11:39:57.394Z"
   },
   {
    "duration": 40,
    "start_time": "2021-11-07T11:39:57.407Z"
   },
   {
    "duration": 23,
    "start_time": "2021-11-07T11:39:57.450Z"
   },
   {
    "duration": 26,
    "start_time": "2021-11-07T11:39:57.475Z"
   },
   {
    "duration": 46,
    "start_time": "2021-11-07T11:39:57.504Z"
   },
   {
    "duration": 20,
    "start_time": "2021-11-07T11:39:57.553Z"
   },
   {
    "duration": 51,
    "start_time": "2021-11-07T11:39:57.579Z"
   },
   {
    "duration": 36,
    "start_time": "2021-11-07T11:39:57.633Z"
   },
   {
    "duration": 30,
    "start_time": "2021-11-07T11:39:57.671Z"
   },
   {
    "duration": 39,
    "start_time": "2021-11-07T11:39:57.704Z"
   },
   {
    "duration": 20,
    "start_time": "2021-11-07T11:39:57.746Z"
   },
   {
    "duration": 20,
    "start_time": "2021-11-07T11:39:57.768Z"
   },
   {
    "duration": 11,
    "start_time": "2021-11-07T11:39:57.791Z"
   },
   {
    "duration": 26,
    "start_time": "2021-11-07T11:39:57.805Z"
   },
   {
    "duration": 20,
    "start_time": "2021-11-07T11:39:57.834Z"
   },
   {
    "duration": 1082,
    "start_time": "2021-11-07T11:39:57.857Z"
   },
   {
    "duration": 11,
    "start_time": "2021-11-07T11:39:58.942Z"
   },
   {
    "duration": 18,
    "start_time": "2021-11-07T11:39:58.956Z"
   },
   {
    "duration": 9,
    "start_time": "2021-11-07T11:39:58.976Z"
   },
   {
    "duration": 4020,
    "start_time": "2021-11-07T11:39:58.988Z"
   },
   {
    "duration": 38,
    "start_time": "2021-11-07T11:40:03.010Z"
   },
   {
    "duration": 15,
    "start_time": "2021-11-07T11:40:03.051Z"
   },
   {
    "duration": 32,
    "start_time": "2021-11-07T11:40:03.069Z"
   },
   {
    "duration": 38,
    "start_time": "2021-11-07T11:40:03.104Z"
   },
   {
    "duration": 23,
    "start_time": "2021-11-07T11:40:03.145Z"
   },
   {
    "duration": 12,
    "start_time": "2021-11-07T11:40:03.170Z"
   },
   {
    "duration": 28,
    "start_time": "2021-11-07T11:40:03.185Z"
   },
   {
    "duration": 592,
    "start_time": "2021-11-07T11:40:03.216Z"
   },
   {
    "duration": 29,
    "start_time": "2021-11-07T11:40:03.811Z"
   },
   {
    "duration": 15,
    "start_time": "2021-11-07T11:40:03.843Z"
   },
   {
    "duration": 5,
    "start_time": "2021-11-07T11:40:03.861Z"
   },
   {
    "duration": 66,
    "start_time": "2021-11-07T11:40:03.868Z"
   },
   {
    "duration": 1458,
    "start_time": "2021-11-07T11:40:03.937Z"
   },
   {
    "duration": 45,
    "start_time": "2021-11-07T11:40:05.399Z"
   },
   {
    "duration": 27,
    "start_time": "2021-11-07T11:40:05.446Z"
   },
   {
    "duration": 54,
    "start_time": "2021-11-07T11:40:05.476Z"
   },
   {
    "duration": 7,
    "start_time": "2021-11-07T12:03:29.860Z"
   },
   {
    "duration": 11,
    "start_time": "2021-11-07T12:07:08.778Z"
   },
   {
    "duration": 17,
    "start_time": "2021-11-07T12:15:26.633Z"
   },
   {
    "duration": 19,
    "start_time": "2021-11-07T12:16:02.826Z"
   },
   {
    "duration": 4,
    "start_time": "2021-11-07T12:21:42.433Z"
   },
   {
    "duration": 4,
    "start_time": "2021-11-07T12:21:51.537Z"
   },
   {
    "duration": 13,
    "start_time": "2021-11-07T12:28:27.509Z"
   },
   {
    "duration": 12,
    "start_time": "2021-11-07T12:28:42.673Z"
   },
   {
    "duration": 4,
    "start_time": "2021-11-07T12:29:04.594Z"
   },
   {
    "duration": 3,
    "start_time": "2021-11-07T12:29:56.010Z"
   },
   {
    "duration": 816,
    "start_time": "2021-11-07T12:35:56.251Z"
   },
   {
    "duration": 30,
    "start_time": "2021-11-07T12:35:57.070Z"
   },
   {
    "duration": 32,
    "start_time": "2021-11-07T12:35:57.103Z"
   },
   {
    "duration": 16,
    "start_time": "2021-11-07T12:35:57.138Z"
   },
   {
    "duration": 12,
    "start_time": "2021-11-07T12:35:57.157Z"
   },
   {
    "duration": 11,
    "start_time": "2021-11-07T12:35:57.172Z"
   },
   {
    "duration": 56,
    "start_time": "2021-11-07T12:35:57.185Z"
   },
   {
    "duration": 4,
    "start_time": "2021-11-07T12:35:57.246Z"
   },
   {
    "duration": 184,
    "start_time": "2021-11-07T12:35:57.253Z"
   },
   {
    "duration": 32,
    "start_time": "2021-11-07T12:35:57.439Z"
   },
   {
    "duration": 9,
    "start_time": "2021-11-07T12:35:57.473Z"
   },
   {
    "duration": 92,
    "start_time": "2021-11-07T12:35:57.484Z"
   },
   {
    "duration": 13,
    "start_time": "2021-11-07T12:35:57.579Z"
   },
   {
    "duration": 8,
    "start_time": "2021-11-07T12:35:57.595Z"
   },
   {
    "duration": 29,
    "start_time": "2021-11-07T12:35:57.606Z"
   },
   {
    "duration": 6,
    "start_time": "2021-11-07T12:35:57.637Z"
   },
   {
    "duration": 11,
    "start_time": "2021-11-07T12:35:57.645Z"
   },
   {
    "duration": 25,
    "start_time": "2021-11-07T12:35:57.659Z"
   },
   {
    "duration": 51,
    "start_time": "2021-11-07T12:35:57.686Z"
   },
   {
    "duration": 26,
    "start_time": "2021-11-07T12:35:57.739Z"
   },
   {
    "duration": 21,
    "start_time": "2021-11-07T12:35:57.768Z"
   },
   {
    "duration": 45,
    "start_time": "2021-11-07T12:35:57.792Z"
   },
   {
    "duration": 16,
    "start_time": "2021-11-07T12:35:57.843Z"
   },
   {
    "duration": 39,
    "start_time": "2021-11-07T12:35:57.863Z"
   },
   {
    "duration": 42,
    "start_time": "2021-11-07T12:35:57.905Z"
   },
   {
    "duration": 17,
    "start_time": "2021-11-07T12:35:57.950Z"
   },
   {
    "duration": 24,
    "start_time": "2021-11-07T12:35:57.970Z"
   },
   {
    "duration": 37,
    "start_time": "2021-11-07T12:35:57.997Z"
   },
   {
    "duration": 5,
    "start_time": "2021-11-07T12:35:58.037Z"
   },
   {
    "duration": 12,
    "start_time": "2021-11-07T12:35:58.044Z"
   },
   {
    "duration": 12,
    "start_time": "2021-11-07T12:35:58.058Z"
   },
   {
    "duration": 937,
    "start_time": "2021-11-07T12:35:58.073Z"
   },
   {
    "duration": 4,
    "start_time": "2021-11-07T12:35:59.013Z"
   },
   {
    "duration": 13,
    "start_time": "2021-11-07T12:35:59.019Z"
   },
   {
    "duration": 3433,
    "start_time": "2021-11-07T12:35:59.035Z"
   },
   {
    "duration": 22,
    "start_time": "2021-11-07T12:36:02.470Z"
   },
   {
    "duration": 32,
    "start_time": "2021-11-07T12:36:02.495Z"
   },
   {
    "duration": 33,
    "start_time": "2021-11-07T12:36:02.530Z"
   },
   {
    "duration": 29,
    "start_time": "2021-11-07T12:36:02.566Z"
   },
   {
    "duration": 19,
    "start_time": "2021-11-07T12:36:02.597Z"
   },
   {
    "duration": 14,
    "start_time": "2021-11-07T12:36:02.618Z"
   },
   {
    "duration": 14,
    "start_time": "2021-11-07T12:36:02.635Z"
   },
   {
    "duration": 592,
    "start_time": "2021-11-07T12:36:02.651Z"
   },
   {
    "duration": 18,
    "start_time": "2021-11-07T12:36:03.246Z"
   },
   {
    "duration": 11,
    "start_time": "2021-11-07T12:36:03.266Z"
   },
   {
    "duration": 3,
    "start_time": "2021-11-07T12:36:03.280Z"
   },
   {
    "duration": 62,
    "start_time": "2021-11-07T12:36:03.286Z"
   },
   {
    "duration": 700,
    "start_time": "2021-11-07T12:36:03.352Z"
   },
   {
    "duration": 35,
    "start_time": "2021-11-07T12:36:04.055Z"
   },
   {
    "duration": 57,
    "start_time": "2021-11-07T12:36:04.093Z"
   },
   {
    "duration": 28,
    "start_time": "2021-11-07T12:36:04.153Z"
   },
   {
    "duration": 29,
    "start_time": "2021-11-07T12:41:31.177Z"
   },
   {
    "duration": 835,
    "start_time": "2021-11-07T12:42:12.793Z"
   },
   {
    "duration": 29,
    "start_time": "2021-11-07T12:42:13.631Z"
   },
   {
    "duration": 15,
    "start_time": "2021-11-07T12:42:13.663Z"
   },
   {
    "duration": 13,
    "start_time": "2021-11-07T12:42:13.681Z"
   },
   {
    "duration": 43,
    "start_time": "2021-11-07T12:42:13.696Z"
   },
   {
    "duration": 10,
    "start_time": "2021-11-07T12:42:13.741Z"
   },
   {
    "duration": 27,
    "start_time": "2021-11-07T12:42:13.753Z"
   },
   {
    "duration": 4,
    "start_time": "2021-11-07T12:42:13.783Z"
   },
   {
    "duration": 153,
    "start_time": "2021-11-07T12:42:13.830Z"
   },
   {
    "duration": 47,
    "start_time": "2021-11-07T12:42:13.986Z"
   },
   {
    "duration": 10,
    "start_time": "2021-11-07T12:42:14.037Z"
   },
   {
    "duration": 79,
    "start_time": "2021-11-07T12:42:14.050Z"
   },
   {
    "duration": 12,
    "start_time": "2021-11-07T12:42:14.132Z"
   },
   {
    "duration": 10,
    "start_time": "2021-11-07T12:42:14.147Z"
   },
   {
    "duration": 15,
    "start_time": "2021-11-07T12:42:14.159Z"
   },
   {
    "duration": 11,
    "start_time": "2021-11-07T12:42:14.176Z"
   },
   {
    "duration": 41,
    "start_time": "2021-11-07T12:42:14.189Z"
   },
   {
    "duration": 19,
    "start_time": "2021-11-07T12:42:14.233Z"
   },
   {
    "duration": 19,
    "start_time": "2021-11-07T12:42:14.255Z"
   },
   {
    "duration": 27,
    "start_time": "2021-11-07T12:42:14.277Z"
   },
   {
    "duration": 43,
    "start_time": "2021-11-07T12:42:14.306Z"
   },
   {
    "duration": 28,
    "start_time": "2021-11-07T12:42:14.351Z"
   },
   {
    "duration": 26,
    "start_time": "2021-11-07T12:42:14.384Z"
   },
   {
    "duration": 47,
    "start_time": "2021-11-07T12:42:14.413Z"
   },
   {
    "duration": 34,
    "start_time": "2021-11-07T12:42:14.462Z"
   },
   {
    "duration": 31,
    "start_time": "2021-11-07T12:42:14.498Z"
   },
   {
    "duration": 48,
    "start_time": "2021-11-07T12:42:14.531Z"
   },
   {
    "duration": 25,
    "start_time": "2021-11-07T12:42:14.581Z"
   },
   {
    "duration": 24,
    "start_time": "2021-11-07T12:42:14.609Z"
   },
   {
    "duration": 32,
    "start_time": "2021-11-07T12:42:14.635Z"
   },
   {
    "duration": 32,
    "start_time": "2021-11-07T12:42:14.669Z"
   },
   {
    "duration": 929,
    "start_time": "2021-11-07T12:42:14.703Z"
   },
   {
    "duration": 3,
    "start_time": "2021-11-07T12:42:15.635Z"
   },
   {
    "duration": 23,
    "start_time": "2021-11-07T12:42:15.640Z"
   },
   {
    "duration": 3433,
    "start_time": "2021-11-07T12:42:15.665Z"
   },
   {
    "duration": 35,
    "start_time": "2021-11-07T12:42:19.101Z"
   },
   {
    "duration": 12,
    "start_time": "2021-11-07T12:42:19.139Z"
   },
   {
    "duration": 22,
    "start_time": "2021-11-07T12:42:19.154Z"
   },
   {
    "duration": 53,
    "start_time": "2021-11-07T12:42:19.178Z"
   },
   {
    "duration": 18,
    "start_time": "2021-11-07T12:42:19.233Z"
   },
   {
    "duration": 4,
    "start_time": "2021-11-07T12:42:19.254Z"
   },
   {
    "duration": 5,
    "start_time": "2021-11-07T12:42:19.260Z"
   },
   {
    "duration": 597,
    "start_time": "2021-11-07T12:42:19.267Z"
   },
   {
    "duration": 16,
    "start_time": "2021-11-07T12:42:19.867Z"
   },
   {
    "duration": 11,
    "start_time": "2021-11-07T12:42:19.885Z"
   },
   {
    "duration": 50,
    "start_time": "2021-11-07T12:42:19.899Z"
   },
   {
    "duration": 701,
    "start_time": "2021-11-07T12:42:19.951Z"
   },
   {
    "duration": 33,
    "start_time": "2021-11-07T12:42:20.655Z"
   },
   {
    "duration": 51,
    "start_time": "2021-11-07T12:42:20.690Z"
   },
   {
    "duration": 27,
    "start_time": "2021-11-07T12:42:20.744Z"
   },
   {
    "duration": 642,
    "start_time": "2021-11-08T08:24:53.487Z"
   },
   {
    "duration": 21,
    "start_time": "2021-11-08T08:24:54.131Z"
   },
   {
    "duration": 13,
    "start_time": "2021-11-08T08:24:54.155Z"
   },
   {
    "duration": 11,
    "start_time": "2021-11-08T08:24:54.171Z"
   },
   {
    "duration": 11,
    "start_time": "2021-11-08T08:24:54.184Z"
   },
   {
    "duration": 9,
    "start_time": "2021-11-08T08:24:54.197Z"
   },
   {
    "duration": 17,
    "start_time": "2021-11-08T08:24:54.208Z"
   },
   {
    "duration": 4,
    "start_time": "2021-11-08T08:24:54.264Z"
   },
   {
    "duration": 117,
    "start_time": "2021-11-08T08:24:54.272Z"
   },
   {
    "duration": 19,
    "start_time": "2021-11-08T08:24:54.392Z"
   },
   {
    "duration": 8,
    "start_time": "2021-11-08T08:24:54.413Z"
   },
   {
    "duration": 70,
    "start_time": "2021-11-08T08:24:54.422Z"
   },
   {
    "duration": 9,
    "start_time": "2021-11-08T08:24:54.493Z"
   },
   {
    "duration": 7,
    "start_time": "2021-11-08T08:24:54.504Z"
   },
   {
    "duration": 6,
    "start_time": "2021-11-08T08:24:54.512Z"
   },
   {
    "duration": 8,
    "start_time": "2021-11-08T08:24:54.519Z"
   },
   {
    "duration": 7,
    "start_time": "2021-11-08T08:24:54.529Z"
   },
   {
    "duration": 35,
    "start_time": "2021-11-08T08:24:54.538Z"
   },
   {
    "duration": 14,
    "start_time": "2021-11-08T08:24:54.575Z"
   },
   {
    "duration": 18,
    "start_time": "2021-11-08T08:24:54.591Z"
   },
   {
    "duration": 15,
    "start_time": "2021-11-08T08:24:54.611Z"
   },
   {
    "duration": 43,
    "start_time": "2021-11-08T08:24:54.628Z"
   },
   {
    "duration": 12,
    "start_time": "2021-11-08T08:24:54.673Z"
   },
   {
    "duration": 27,
    "start_time": "2021-11-08T08:24:54.687Z"
   },
   {
    "duration": 15,
    "start_time": "2021-11-08T08:24:54.715Z"
   },
   {
    "duration": 40,
    "start_time": "2021-11-08T08:24:54.733Z"
   },
   {
    "duration": 24,
    "start_time": "2021-11-08T08:24:54.778Z"
   },
   {
    "duration": 6,
    "start_time": "2021-11-08T08:24:54.805Z"
   },
   {
    "duration": 5,
    "start_time": "2021-11-08T08:24:54.812Z"
   },
   {
    "duration": 12,
    "start_time": "2021-11-08T08:24:54.819Z"
   },
   {
    "duration": 9,
    "start_time": "2021-11-08T08:24:54.832Z"
   },
   {
    "duration": 687,
    "start_time": "2021-11-08T08:24:54.843Z"
   },
   {
    "duration": 2,
    "start_time": "2021-11-08T08:24:55.532Z"
   },
   {
    "duration": 9,
    "start_time": "2021-11-08T08:24:55.536Z"
   },
   {
    "duration": 2953,
    "start_time": "2021-11-08T08:24:55.547Z"
   },
   {
    "duration": 15,
    "start_time": "2021-11-08T08:24:58.502Z"
   },
   {
    "duration": 11,
    "start_time": "2021-11-08T08:24:58.519Z"
   },
   {
    "duration": 32,
    "start_time": "2021-11-08T08:24:58.531Z"
   },
   {
    "duration": 17,
    "start_time": "2021-11-08T08:24:58.565Z"
   },
   {
    "duration": 14,
    "start_time": "2021-11-08T08:24:58.584Z"
   },
   {
    "duration": 3,
    "start_time": "2021-11-08T08:24:58.599Z"
   },
   {
    "duration": 5,
    "start_time": "2021-11-08T08:24:58.604Z"
   },
   {
    "duration": 348,
    "start_time": "2021-11-08T08:24:58.610Z"
   },
   {
    "duration": 12,
    "start_time": "2021-11-08T08:24:58.963Z"
   },
   {
    "duration": 8,
    "start_time": "2021-11-08T08:24:58.977Z"
   },
   {
    "duration": 23,
    "start_time": "2021-11-08T08:24:58.986Z"
   },
   {
    "duration": 682,
    "start_time": "2021-11-08T08:24:59.011Z"
   },
   {
    "duration": 22,
    "start_time": "2021-11-08T08:24:59.695Z"
   },
   {
    "duration": 17,
    "start_time": "2021-11-08T08:24:59.719Z"
   },
   {
    "duration": 39,
    "start_time": "2021-11-08T08:24:59.737Z"
   },
   {
    "duration": 6,
    "start_time": "2021-11-08T08:33:04.460Z"
   },
   {
    "duration": 9,
    "start_time": "2021-11-08T08:38:59.994Z"
   },
   {
    "duration": 320,
    "start_time": "2021-11-08T08:40:37.972Z"
   },
   {
    "duration": 7,
    "start_time": "2021-11-08T08:40:51.841Z"
   },
   {
    "duration": 273,
    "start_time": "2021-11-08T08:41:16.670Z"
   },
   {
    "duration": 8,
    "start_time": "2021-11-08T08:42:15.006Z"
   },
   {
    "duration": 6,
    "start_time": "2021-11-08T08:43:11.478Z"
   },
   {
    "duration": 12,
    "start_time": "2021-11-08T08:44:54.298Z"
   },
   {
    "duration": 17,
    "start_time": "2021-11-08T08:45:26.251Z"
   },
   {
    "duration": 33,
    "start_time": "2021-11-08T08:48:30.805Z"
   },
   {
    "duration": 156,
    "start_time": "2021-11-09T15:38:50.846Z"
   },
   {
    "duration": 488,
    "start_time": "2021-11-09T16:09:07.347Z"
   },
   {
    "duration": 913,
    "start_time": "2021-11-09T16:09:20.458Z"
   },
   {
    "duration": 30,
    "start_time": "2021-11-09T16:09:21.374Z"
   },
   {
    "duration": 15,
    "start_time": "2021-11-09T16:09:21.407Z"
   },
   {
    "duration": 14,
    "start_time": "2021-11-09T16:09:21.425Z"
   },
   {
    "duration": 12,
    "start_time": "2021-11-09T16:09:21.441Z"
   },
   {
    "duration": 49,
    "start_time": "2021-11-09T16:09:21.455Z"
   },
   {
    "duration": 27,
    "start_time": "2021-11-09T16:09:21.506Z"
   },
   {
    "duration": 5,
    "start_time": "2021-11-09T16:09:21.536Z"
   },
   {
    "duration": 189,
    "start_time": "2021-11-09T16:09:21.544Z"
   },
   {
    "duration": 29,
    "start_time": "2021-11-09T16:09:21.735Z"
   },
   {
    "duration": 35,
    "start_time": "2021-11-09T16:09:21.767Z"
   },
   {
    "duration": 63,
    "start_time": "2021-11-09T16:09:21.804Z"
   },
   {
    "duration": 58,
    "start_time": "2021-11-09T16:09:21.869Z"
   },
   {
    "duration": 13,
    "start_time": "2021-11-09T16:09:21.929Z"
   },
   {
    "duration": 7,
    "start_time": "2021-11-09T16:09:21.945Z"
   },
   {
    "duration": 49,
    "start_time": "2021-11-09T16:09:21.955Z"
   },
   {
    "duration": 17,
    "start_time": "2021-11-09T16:09:22.006Z"
   },
   {
    "duration": 16,
    "start_time": "2021-11-09T16:09:22.025Z"
   },
   {
    "duration": 16,
    "start_time": "2021-11-09T16:09:22.043Z"
   },
   {
    "duration": 22,
    "start_time": "2021-11-09T16:09:22.061Z"
   },
   {
    "duration": 44,
    "start_time": "2021-11-09T16:09:22.085Z"
   },
   {
    "duration": 26,
    "start_time": "2021-11-09T16:09:22.131Z"
   },
   {
    "duration": 51,
    "start_time": "2021-11-09T16:09:22.162Z"
   },
   {
    "duration": 21,
    "start_time": "2021-11-09T16:09:22.217Z"
   },
   {
    "duration": 19,
    "start_time": "2021-11-09T16:09:22.241Z"
   },
   {
    "duration": 65,
    "start_time": "2021-11-09T16:09:22.263Z"
   },
   {
    "duration": 23,
    "start_time": "2021-11-09T16:09:22.331Z"
   },
   {
    "duration": 46,
    "start_time": "2021-11-09T16:09:22.357Z"
   },
   {
    "duration": 23,
    "start_time": "2021-11-09T16:09:22.405Z"
   },
   {
    "duration": 8,
    "start_time": "2021-11-09T16:09:22.431Z"
   },
   {
    "duration": 5,
    "start_time": "2021-11-09T16:09:22.442Z"
   },
   {
    "duration": 52,
    "start_time": "2021-11-09T16:09:22.449Z"
   },
   {
    "duration": 8,
    "start_time": "2021-11-09T16:09:22.504Z"
   },
   {
    "duration": 1055,
    "start_time": "2021-11-09T16:09:22.514Z"
   },
   {
    "duration": 3,
    "start_time": "2021-11-09T16:09:23.572Z"
   },
   {
    "duration": 23,
    "start_time": "2021-11-09T16:09:23.578Z"
   },
   {
    "duration": 3885,
    "start_time": "2021-11-09T16:09:23.603Z"
   },
   {
    "duration": 21,
    "start_time": "2021-11-09T16:09:27.501Z"
   },
   {
    "duration": 11,
    "start_time": "2021-11-09T16:09:27.525Z"
   },
   {
    "duration": 30,
    "start_time": "2021-11-09T16:09:27.538Z"
   },
   {
    "duration": 52,
    "start_time": "2021-11-09T16:09:27.571Z"
   },
   {
    "duration": 19,
    "start_time": "2021-11-09T16:09:27.626Z"
   },
   {
    "duration": 13,
    "start_time": "2021-11-09T16:09:27.647Z"
   },
   {
    "duration": 41,
    "start_time": "2021-11-09T16:09:27.662Z"
   },
   {
    "duration": 5,
    "start_time": "2021-11-09T16:09:27.706Z"
   },
   {
    "duration": 754,
    "start_time": "2021-11-09T16:09:27.713Z"
   },
   {
    "duration": 32,
    "start_time": "2021-11-09T16:09:28.469Z"
   },
   {
    "duration": 13,
    "start_time": "2021-11-09T16:09:28.504Z"
   },
   {
    "duration": 28,
    "start_time": "2021-11-09T16:09:28.519Z"
   },
   {
    "duration": 55,
    "start_time": "2021-11-09T16:09:28.549Z"
   },
   {
    "duration": 1215,
    "start_time": "2021-11-09T16:09:28.607Z"
   },
   {
    "duration": 25,
    "start_time": "2021-11-09T16:09:29.825Z"
   },
   {
    "duration": 50,
    "start_time": "2021-11-09T16:09:29.852Z"
   },
   {
    "duration": 49,
    "start_time": "2021-11-09T16:09:29.904Z"
   },
   {
    "duration": 64,
    "start_time": "2021-11-09T16:09:29.955Z"
   },
   {
    "duration": 28,
    "start_time": "2021-11-09T16:09:30.022Z"
   },
   {
    "duration": 437,
    "start_time": "2021-11-09T16:11:59.709Z"
   },
   {
    "duration": 403,
    "start_time": "2021-11-09T16:12:55.742Z"
   },
   {
    "duration": 513,
    "start_time": "2021-11-09T16:13:16.871Z"
   },
   {
    "duration": 396,
    "start_time": "2021-11-09T16:13:27.550Z"
   },
   {
    "duration": 36,
    "start_time": "2021-11-09T16:13:44.150Z"
   },
   {
    "duration": 32,
    "start_time": "2021-11-09T16:24:54.049Z"
   },
   {
    "duration": 14,
    "start_time": "2021-11-09T16:24:54.312Z"
   },
   {
    "duration": 498,
    "start_time": "2021-11-09T16:25:29.545Z"
   },
   {
    "duration": 33,
    "start_time": "2021-11-09T16:25:42.845Z"
   },
   {
    "duration": 253,
    "start_time": "2021-11-11T16:03:39.138Z"
   },
   {
    "duration": 568,
    "start_time": "2021-11-11T16:03:42.638Z"
   },
   {
    "duration": 17,
    "start_time": "2021-11-11T16:03:43.208Z"
   },
   {
    "duration": 10,
    "start_time": "2021-11-11T16:03:43.227Z"
   },
   {
    "duration": 9,
    "start_time": "2021-11-11T16:03:43.239Z"
   },
   {
    "duration": 8,
    "start_time": "2021-11-11T16:03:43.249Z"
   },
   {
    "duration": 32,
    "start_time": "2021-11-11T16:03:43.259Z"
   },
   {
    "duration": 15,
    "start_time": "2021-11-11T16:03:43.292Z"
   },
   {
    "duration": 2,
    "start_time": "2021-11-11T16:03:43.309Z"
   },
   {
    "duration": 103,
    "start_time": "2021-11-11T16:03:43.314Z"
   },
   {
    "duration": 20,
    "start_time": "2021-11-11T16:03:43.420Z"
   },
   {
    "duration": 7,
    "start_time": "2021-11-11T16:03:43.441Z"
   },
   {
    "duration": 60,
    "start_time": "2021-11-11T16:03:43.450Z"
   },
   {
    "duration": 15,
    "start_time": "2021-11-11T16:03:43.512Z"
   },
   {
    "duration": 10,
    "start_time": "2021-11-11T16:03:43.528Z"
   },
   {
    "duration": 7,
    "start_time": "2021-11-11T16:03:43.539Z"
   },
   {
    "duration": 6,
    "start_time": "2021-11-11T16:03:43.548Z"
   },
   {
    "duration": 3,
    "start_time": "2021-11-11T16:03:43.555Z"
   },
   {
    "duration": 34,
    "start_time": "2021-11-11T16:03:43.560Z"
   },
   {
    "duration": 11,
    "start_time": "2021-11-11T16:03:43.596Z"
   },
   {
    "duration": 12,
    "start_time": "2021-11-11T16:03:43.609Z"
   },
   {
    "duration": 13,
    "start_time": "2021-11-11T16:03:43.622Z"
   },
   {
    "duration": 16,
    "start_time": "2021-11-11T16:03:43.636Z"
   },
   {
    "duration": 40,
    "start_time": "2021-11-11T16:03:43.653Z"
   },
   {
    "duration": 15,
    "start_time": "2021-11-11T16:03:43.695Z"
   },
   {
    "duration": 21,
    "start_time": "2021-11-11T16:03:43.712Z"
   },
   {
    "duration": 31,
    "start_time": "2021-11-11T16:03:43.734Z"
   },
   {
    "duration": 22,
    "start_time": "2021-11-11T16:03:43.769Z"
   },
   {
    "duration": 11,
    "start_time": "2021-11-11T16:03:43.793Z"
   },
   {
    "duration": 17,
    "start_time": "2021-11-11T16:03:43.805Z"
   },
   {
    "duration": 11,
    "start_time": "2021-11-11T16:03:43.824Z"
   },
   {
    "duration": 12,
    "start_time": "2021-11-11T16:03:43.837Z"
   },
   {
    "duration": 9,
    "start_time": "2021-11-11T16:03:43.851Z"
   },
   {
    "duration": 7,
    "start_time": "2021-11-11T16:03:43.861Z"
   },
   {
    "duration": 642,
    "start_time": "2021-11-11T16:03:43.869Z"
   },
   {
    "duration": 3,
    "start_time": "2021-11-11T16:03:44.512Z"
   },
   {
    "duration": 11,
    "start_time": "2021-11-11T16:03:44.516Z"
   },
   {
    "duration": 2490,
    "start_time": "2021-11-11T16:03:44.529Z"
   },
   {
    "duration": 14,
    "start_time": "2021-11-11T16:03:47.020Z"
   },
   {
    "duration": 7,
    "start_time": "2021-11-11T16:03:47.036Z"
   },
   {
    "duration": 16,
    "start_time": "2021-11-11T16:03:47.045Z"
   },
   {
    "duration": 32,
    "start_time": "2021-11-11T16:03:47.063Z"
   },
   {
    "duration": 13,
    "start_time": "2021-11-11T16:03:47.096Z"
   },
   {
    "duration": 10,
    "start_time": "2021-11-11T16:03:47.110Z"
   },
   {
    "duration": 6,
    "start_time": "2021-11-11T16:03:47.122Z"
   },
   {
    "duration": 5,
    "start_time": "2021-11-11T16:03:47.130Z"
   },
   {
    "duration": 332,
    "start_time": "2021-11-11T16:03:47.136Z"
   },
   {
    "duration": 12,
    "start_time": "2021-11-11T16:03:47.470Z"
   },
   {
    "duration": 15,
    "start_time": "2021-11-11T16:03:47.483Z"
   },
   {
    "duration": 20,
    "start_time": "2021-11-11T16:03:47.499Z"
   },
   {
    "duration": 9,
    "start_time": "2021-11-11T16:03:47.520Z"
   },
   {
    "duration": 362,
    "start_time": "2021-11-11T16:03:47.531Z"
   },
   {
    "duration": 14,
    "start_time": "2021-11-11T16:03:47.895Z"
   },
   {
    "duration": 19,
    "start_time": "2021-11-11T16:03:47.911Z"
   },
   {
    "duration": 30,
    "start_time": "2021-11-11T16:03:47.931Z"
   },
   {
    "duration": 16,
    "start_time": "2021-11-11T16:03:47.992Z"
   },
   {
    "duration": 34,
    "start_time": "2021-11-11T16:03:48.009Z"
   },
   {
    "duration": 62,
    "start_time": "2021-11-11T16:06:42.370Z"
   },
   {
    "duration": 215,
    "start_time": "2021-11-11T16:06:48.310Z"
   },
   {
    "duration": 23,
    "start_time": "2021-11-11T16:07:28.177Z"
   },
   {
    "duration": 21,
    "start_time": "2021-11-11T16:08:26.672Z"
   },
   {
    "duration": 22,
    "start_time": "2021-11-11T16:09:57.884Z"
   },
   {
    "duration": 24,
    "start_time": "2021-11-11T16:10:23.371Z"
   },
   {
    "duration": 4371,
    "start_time": "2021-11-11T16:11:29.884Z"
   },
   {
    "duration": 201,
    "start_time": "2021-11-11T16:12:00.750Z"
   },
   {
    "duration": 4795,
    "start_time": "2021-11-11T16:12:19.333Z"
   },
   {
    "duration": 183,
    "start_time": "2021-11-11T16:12:53.350Z"
   },
   {
    "duration": 1819,
    "start_time": "2021-11-11T16:14:36.296Z"
   },
   {
    "duration": 189,
    "start_time": "2021-11-11T16:14:50.679Z"
   },
   {
    "duration": 4627,
    "start_time": "2021-11-11T16:14:58.800Z"
   },
   {
    "duration": 207,
    "start_time": "2021-11-11T16:15:07.394Z"
   },
   {
    "duration": 195,
    "start_time": "2021-11-11T16:15:17.145Z"
   },
   {
    "duration": 65,
    "start_time": "2021-11-11T16:15:27.028Z"
   },
   {
    "duration": 191,
    "start_time": "2021-11-11T16:15:36.689Z"
   },
   {
    "duration": 198,
    "start_time": "2021-11-11T16:15:54.060Z"
   },
   {
    "duration": 10,
    "start_time": "2021-11-11T16:15:55.960Z"
   },
   {
    "duration": 207,
    "start_time": "2021-11-11T16:15:59.888Z"
   },
   {
    "duration": 194,
    "start_time": "2021-11-11T16:16:21.827Z"
   },
   {
    "duration": 25,
    "start_time": "2021-11-11T16:16:49.818Z"
   },
   {
    "duration": 194,
    "start_time": "2021-11-11T16:17:47.499Z"
   },
   {
    "duration": 193,
    "start_time": "2021-11-11T16:18:01.634Z"
   },
   {
    "duration": 217,
    "start_time": "2021-11-11T16:18:14.900Z"
   },
   {
    "duration": 23,
    "start_time": "2021-11-11T16:18:42.580Z"
   },
   {
    "duration": 23,
    "start_time": "2021-11-11T16:18:52.480Z"
   },
   {
    "duration": 186,
    "start_time": "2021-11-11T16:19:28.463Z"
   },
   {
    "duration": 204,
    "start_time": "2021-11-11T16:19:42.661Z"
   },
   {
    "duration": 22,
    "start_time": "2021-11-11T16:19:54.589Z"
   },
   {
    "duration": 22,
    "start_time": "2021-11-11T16:20:03.766Z"
   },
   {
    "duration": 21,
    "start_time": "2021-11-11T16:20:12.022Z"
   },
   {
    "duration": 23,
    "start_time": "2021-11-11T16:20:22.425Z"
   },
   {
    "duration": 23,
    "start_time": "2021-11-11T16:21:33.703Z"
   },
   {
    "duration": 10,
    "start_time": "2021-11-11T16:21:33.964Z"
   },
   {
    "duration": 23,
    "start_time": "2021-11-11T16:21:39.642Z"
   },
   {
    "duration": 22,
    "start_time": "2021-11-11T16:21:55.384Z"
   },
   {
    "duration": 22,
    "start_time": "2021-11-11T16:22:02.601Z"
   },
   {
    "duration": 69,
    "start_time": "2021-11-11T16:22:21.760Z"
   },
   {
    "duration": 26,
    "start_time": "2021-11-11T16:22:27.536Z"
   },
   {
    "duration": 397,
    "start_time": "2021-11-13T06:41:27.281Z"
   },
   {
    "duration": 283,
    "start_time": "2021-11-13T06:41:31.169Z"
   },
   {
    "duration": 695,
    "start_time": "2021-11-13T06:41:38.817Z"
   },
   {
    "duration": 20,
    "start_time": "2021-11-13T06:41:39.514Z"
   },
   {
    "duration": 10,
    "start_time": "2021-11-13T06:41:39.536Z"
   },
   {
    "duration": 9,
    "start_time": "2021-11-13T06:41:39.548Z"
   },
   {
    "duration": 8,
    "start_time": "2021-11-13T06:41:39.559Z"
   },
   {
    "duration": 7,
    "start_time": "2021-11-13T06:41:39.568Z"
   },
   {
    "duration": 17,
    "start_time": "2021-11-13T06:41:39.576Z"
   },
   {
    "duration": 3,
    "start_time": "2021-11-13T06:41:39.595Z"
   },
   {
    "duration": 126,
    "start_time": "2021-11-13T06:41:39.600Z"
   },
   {
    "duration": 31,
    "start_time": "2021-11-13T06:41:39.727Z"
   },
   {
    "duration": 6,
    "start_time": "2021-11-13T06:41:39.759Z"
   },
   {
    "duration": 41,
    "start_time": "2021-11-13T06:41:39.767Z"
   },
   {
    "duration": 7143,
    "start_time": "2021-11-13T06:41:39.809Z"
   },
   {
    "duration": 17,
    "start_time": "2021-11-13T06:41:46.938Z"
   },
   {
    "duration": -16,
    "start_time": "2021-11-13T06:41:46.972Z"
   },
   {
    "duration": -34,
    "start_time": "2021-11-13T06:41:46.991Z"
   },
   {
    "duration": -60,
    "start_time": "2021-11-13T06:41:47.018Z"
   },
   {
    "duration": -78,
    "start_time": "2021-11-13T06:41:47.037Z"
   },
   {
    "duration": -95,
    "start_time": "2021-11-13T06:41:47.055Z"
   },
   {
    "duration": -119,
    "start_time": "2021-11-13T06:41:47.080Z"
   },
   {
    "duration": -134,
    "start_time": "2021-11-13T06:41:47.096Z"
   },
   {
    "duration": -163,
    "start_time": "2021-11-13T06:41:47.126Z"
   },
   {
    "duration": -181,
    "start_time": "2021-11-13T06:41:47.145Z"
   },
   {
    "duration": -199,
    "start_time": "2021-11-13T06:41:47.164Z"
   },
   {
    "duration": -216,
    "start_time": "2021-11-13T06:41:47.182Z"
   },
   {
    "duration": -236,
    "start_time": "2021-11-13T06:41:47.203Z"
   },
   {
    "duration": -253,
    "start_time": "2021-11-13T06:41:47.221Z"
   },
   {
    "duration": -281,
    "start_time": "2021-11-13T06:41:47.250Z"
   },
   {
    "duration": -298,
    "start_time": "2021-11-13T06:41:47.268Z"
   },
   {
    "duration": -313,
    "start_time": "2021-11-13T06:41:47.284Z"
   },
   {
    "duration": -328,
    "start_time": "2021-11-13T06:41:47.300Z"
   },
   {
    "duration": -347,
    "start_time": "2021-11-13T06:41:47.320Z"
   },
   {
    "duration": -369,
    "start_time": "2021-11-13T06:41:47.343Z"
   },
   {
    "duration": -401,
    "start_time": "2021-11-13T06:41:47.376Z"
   },
   {
    "duration": -422,
    "start_time": "2021-11-13T06:41:47.398Z"
   },
   {
    "duration": -443,
    "start_time": "2021-11-13T06:41:47.420Z"
   },
   {
    "duration": -465,
    "start_time": "2021-11-13T06:41:47.443Z"
   },
   {
    "duration": -496,
    "start_time": "2021-11-13T06:41:47.475Z"
   },
   {
    "duration": -519,
    "start_time": "2021-11-13T06:41:47.499Z"
   },
   {
    "duration": -537,
    "start_time": "2021-11-13T06:41:47.518Z"
   },
   {
    "duration": -555,
    "start_time": "2021-11-13T06:41:47.537Z"
   },
   {
    "duration": -571,
    "start_time": "2021-11-13T06:41:47.554Z"
   },
   {
    "duration": -590,
    "start_time": "2021-11-13T06:41:47.574Z"
   },
   {
    "duration": -611,
    "start_time": "2021-11-13T06:41:47.595Z"
   },
   {
    "duration": -641,
    "start_time": "2021-11-13T06:41:47.626Z"
   },
   {
    "duration": -663,
    "start_time": "2021-11-13T06:41:47.649Z"
   },
   {
    "duration": -734,
    "start_time": "2021-11-13T06:41:47.721Z"
   },
   {
    "duration": -762,
    "start_time": "2021-11-13T06:41:47.750Z"
   },
   {
    "duration": -782,
    "start_time": "2021-11-13T06:41:47.771Z"
   },
   {
    "duration": -800,
    "start_time": "2021-11-13T06:41:47.790Z"
   },
   {
    "duration": -814,
    "start_time": "2021-11-13T06:41:47.805Z"
   },
   {
    "duration": -834,
    "start_time": "2021-11-13T06:41:47.826Z"
   },
   {
    "duration": -859,
    "start_time": "2021-11-13T06:41:47.854Z"
   },
   {
    "duration": -830,
    "start_time": "2021-11-13T06:41:47.875Z"
   },
   {
    "duration": -858,
    "start_time": "2021-11-13T06:41:47.904Z"
   },
   {
    "duration": -883,
    "start_time": "2021-11-13T06:41:47.929Z"
   },
   {
    "duration": 26,
    "start_time": "2021-11-13T06:42:01.960Z"
   },
   {
    "duration": 9,
    "start_time": "2021-11-13T06:42:02.479Z"
   },
   {
    "duration": 6673,
    "start_time": "2021-11-13T06:42:28.971Z"
   },
   {
    "duration": 7233,
    "start_time": "2021-11-13T06:42:57.450Z"
   },
   {
    "duration": 858,
    "start_time": "2021-11-14T05:31:39.099Z"
   },
   {
    "duration": 28,
    "start_time": "2021-11-14T05:31:39.959Z"
   },
   {
    "duration": 16,
    "start_time": "2021-11-14T05:31:39.990Z"
   },
   {
    "duration": 24,
    "start_time": "2021-11-14T05:31:40.009Z"
   },
   {
    "duration": 17,
    "start_time": "2021-11-14T05:31:40.036Z"
   },
   {
    "duration": 10,
    "start_time": "2021-11-14T05:31:40.055Z"
   },
   {
    "duration": 57,
    "start_time": "2021-11-14T05:31:40.067Z"
   },
   {
    "duration": 5,
    "start_time": "2021-11-14T05:31:40.128Z"
   },
   {
    "duration": 160,
    "start_time": "2021-11-14T05:31:40.136Z"
   },
   {
    "duration": 41,
    "start_time": "2021-11-14T05:31:40.299Z"
   },
   {
    "duration": 9,
    "start_time": "2021-11-14T05:31:40.342Z"
   },
   {
    "duration": 82,
    "start_time": "2021-11-14T05:31:40.353Z"
   },
   {
    "duration": 7067,
    "start_time": "2021-11-14T05:31:40.438Z"
   },
   {
    "duration": -538,
    "start_time": "2021-11-14T05:31:48.047Z"
   },
   {
    "duration": -575,
    "start_time": "2021-11-14T05:31:48.086Z"
   },
   {
    "duration": -623,
    "start_time": "2021-11-14T05:31:48.135Z"
   },
   {
    "duration": -636,
    "start_time": "2021-11-14T05:31:48.150Z"
   },
   {
    "duration": -645,
    "start_time": "2021-11-14T05:31:48.161Z"
   },
   {
    "duration": -658,
    "start_time": "2021-11-14T05:31:48.175Z"
   },
   {
    "duration": -669,
    "start_time": "2021-11-14T05:31:48.188Z"
   },
   {
    "duration": -681,
    "start_time": "2021-11-14T05:31:48.201Z"
   },
   {
    "duration": -693,
    "start_time": "2021-11-14T05:31:48.215Z"
   },
   {
    "duration": -753,
    "start_time": "2021-11-14T05:31:48.276Z"
   },
   {
    "duration": -775,
    "start_time": "2021-11-14T05:31:48.299Z"
   },
   {
    "duration": -790,
    "start_time": "2021-11-14T05:31:48.315Z"
   },
   {
    "duration": -803,
    "start_time": "2021-11-14T05:31:48.330Z"
   },
   {
    "duration": -818,
    "start_time": "2021-11-14T05:31:48.346Z"
   },
   {
    "duration": -843,
    "start_time": "2021-11-14T05:31:48.372Z"
   },
   {
    "duration": -877,
    "start_time": "2021-11-14T05:31:48.408Z"
   },
   {
    "duration": -908,
    "start_time": "2021-11-14T05:31:48.440Z"
   },
   {
    "duration": -932,
    "start_time": "2021-11-14T05:31:48.465Z"
   },
   {
    "duration": -957,
    "start_time": "2021-11-14T05:31:48.491Z"
   },
   {
    "duration": -980,
    "start_time": "2021-11-14T05:31:48.516Z"
   },
   {
    "duration": -994,
    "start_time": "2021-11-14T05:31:48.531Z"
   },
   {
    "duration": -1006,
    "start_time": "2021-11-14T05:31:48.545Z"
   },
   {
    "duration": -1019,
    "start_time": "2021-11-14T05:31:48.559Z"
   },
   {
    "duration": -1033,
    "start_time": "2021-11-14T05:31:48.574Z"
   },
   {
    "duration": -1053,
    "start_time": "2021-11-14T05:31:48.596Z"
   },
   {
    "duration": -1064,
    "start_time": "2021-11-14T05:31:48.608Z"
   },
   {
    "duration": -1074,
    "start_time": "2021-11-14T05:31:48.620Z"
   },
   {
    "duration": -1086,
    "start_time": "2021-11-14T05:31:48.633Z"
   },
   {
    "duration": -1100,
    "start_time": "2021-11-14T05:31:48.648Z"
   },
   {
    "duration": -1114,
    "start_time": "2021-11-14T05:31:48.664Z"
   },
   {
    "duration": -1124,
    "start_time": "2021-11-14T05:31:48.675Z"
   },
   {
    "duration": -1138,
    "start_time": "2021-11-14T05:31:48.690Z"
   },
   {
    "duration": -1153,
    "start_time": "2021-11-14T05:31:48.707Z"
   },
   {
    "duration": -1165,
    "start_time": "2021-11-14T05:31:48.720Z"
   },
   {
    "duration": -1177,
    "start_time": "2021-11-14T05:31:48.734Z"
   },
   {
    "duration": -1190,
    "start_time": "2021-11-14T05:31:48.748Z"
   },
   {
    "duration": -1202,
    "start_time": "2021-11-14T05:31:48.761Z"
   },
   {
    "duration": -1214,
    "start_time": "2021-11-14T05:31:48.774Z"
   },
   {
    "duration": -1230,
    "start_time": "2021-11-14T05:31:48.792Z"
   },
   {
    "duration": -1187,
    "start_time": "2021-11-14T05:31:48.809Z"
   },
   {
    "duration": -1201,
    "start_time": "2021-11-14T05:31:48.825Z"
   },
   {
    "duration": -1221,
    "start_time": "2021-11-14T05:31:48.846Z"
   },
   {
    "duration": -1240,
    "start_time": "2021-11-14T05:31:48.867Z"
   },
   {
    "duration": 39,
    "start_time": "2021-11-14T05:32:30.949Z"
   },
   {
    "duration": 98,
    "start_time": "2021-11-14T05:33:31.719Z"
   },
   {
    "duration": 328,
    "start_time": "2021-11-14T05:33:43.437Z"
   },
   {
    "duration": 116,
    "start_time": "2021-11-14T05:33:52.624Z"
   },
   {
    "duration": 98,
    "start_time": "2021-11-14T05:34:00.195Z"
   },
   {
    "duration": 317,
    "start_time": "2021-11-14T05:34:08.644Z"
   },
   {
    "duration": 334,
    "start_time": "2021-11-14T05:34:44.637Z"
   },
   {
    "duration": 45,
    "start_time": "2021-11-14T05:35:54.319Z"
   },
   {
    "duration": 46,
    "start_time": "2021-11-14T05:36:28.596Z"
   },
   {
    "duration": 45,
    "start_time": "2021-11-14T05:36:37.883Z"
   },
   {
    "duration": 305,
    "start_time": "2021-11-14T05:37:21.168Z"
   },
   {
    "duration": 44,
    "start_time": "2021-11-14T05:37:36.007Z"
   },
   {
    "duration": 39,
    "start_time": "2021-11-14T05:39:08.251Z"
   },
   {
    "duration": 40,
    "start_time": "2021-11-14T05:40:01.987Z"
   },
   {
    "duration": 37,
    "start_time": "2021-11-14T05:40:37.879Z"
   },
   {
    "duration": 403,
    "start_time": "2021-11-14T05:40:57.395Z"
   },
   {
    "duration": 39,
    "start_time": "2021-11-14T05:41:16.942Z"
   },
   {
    "duration": 426,
    "start_time": "2021-11-14T05:41:32.706Z"
   },
   {
    "duration": 34,
    "start_time": "2021-11-14T05:42:31.479Z"
   },
   {
    "duration": 7917,
    "start_time": "2021-11-14T05:43:46.035Z"
   },
   {
    "duration": 689,
    "start_time": "2021-11-14T05:44:08.571Z"
   },
   {
    "duration": 684,
    "start_time": "2021-11-14T05:45:04.188Z"
   },
   {
    "duration": 296,
    "start_time": "2021-11-14T05:45:36.954Z"
   },
   {
    "duration": 707,
    "start_time": "2021-11-14T05:45:52.049Z"
   },
   {
    "duration": 38,
    "start_time": "2021-11-14T05:46:52.739Z"
   },
   {
    "duration": 7580,
    "start_time": "2021-11-14T05:49:50.400Z"
   },
   {
    "duration": 34,
    "start_time": "2021-11-14T05:50:15.864Z"
   },
   {
    "duration": 34,
    "start_time": "2021-11-14T05:51:29.060Z"
   },
   {
    "duration": 36,
    "start_time": "2021-11-14T05:51:35.721Z"
   },
   {
    "duration": 23,
    "start_time": "2021-11-14T05:51:42.580Z"
   },
   {
    "duration": 357,
    "start_time": "2021-11-14T05:52:10.142Z"
   },
   {
    "duration": 346,
    "start_time": "2021-11-14T05:52:14.403Z"
   },
   {
    "duration": 314,
    "start_time": "2021-11-14T05:52:28.766Z"
   },
   {
    "duration": 298,
    "start_time": "2021-11-14T05:52:45.492Z"
   },
   {
    "duration": 337,
    "start_time": "2021-11-14T05:53:00.923Z"
   },
   {
    "duration": 98,
    "start_time": "2021-11-14T05:53:11.398Z"
   },
   {
    "duration": 23,
    "start_time": "2021-11-14T05:53:42.518Z"
   },
   {
    "duration": 319,
    "start_time": "2021-11-14T05:54:21.501Z"
   },
   {
    "duration": 297,
    "start_time": "2021-11-14T05:54:43.712Z"
   },
   {
    "duration": 302,
    "start_time": "2021-11-14T05:54:56.813Z"
   },
   {
    "duration": 325,
    "start_time": "2021-11-14T05:55:08.782Z"
   },
   {
    "duration": 8972,
    "start_time": "2021-11-14T05:56:25.056Z"
   },
   {
    "duration": 8736,
    "start_time": "2021-11-14T05:56:47.993Z"
   },
   {
    "duration": 26,
    "start_time": "2021-11-14T05:57:29.931Z"
   },
   {
    "duration": 332,
    "start_time": "2021-11-14T05:58:09.225Z"
   },
   {
    "duration": 28,
    "start_time": "2021-11-14T05:58:16.101Z"
   },
   {
    "duration": 26,
    "start_time": "2021-11-14T05:58:44.259Z"
   },
   {
    "duration": 9380,
    "start_time": "2021-11-14T05:59:18.684Z"
   },
   {
    "duration": 29,
    "start_time": "2021-11-14T05:59:54.813Z"
   },
   {
    "duration": 67,
    "start_time": "2021-11-14T06:01:00.568Z"
   },
   {
    "duration": 18,
    "start_time": "2021-11-14T06:01:00.638Z"
   },
   {
    "duration": 21,
    "start_time": "2021-11-14T06:01:00.660Z"
   },
   {
    "duration": 58,
    "start_time": "2021-11-14T06:01:00.684Z"
   },
   {
    "duration": 22,
    "start_time": "2021-11-14T06:01:00.745Z"
   },
   {
    "duration": 15,
    "start_time": "2021-11-14T06:01:00.769Z"
   },
   {
    "duration": 58,
    "start_time": "2021-11-14T06:01:00.787Z"
   },
   {
    "duration": 4,
    "start_time": "2021-11-14T06:01:00.849Z"
   },
   {
    "duration": 205,
    "start_time": "2021-11-14T06:01:00.856Z"
   },
   {
    "duration": 33,
    "start_time": "2021-11-14T06:01:01.063Z"
   },
   {
    "duration": 31,
    "start_time": "2021-11-14T06:01:01.098Z"
   },
   {
    "duration": 82,
    "start_time": "2021-11-14T06:01:01.131Z"
   },
   {
    "duration": 24,
    "start_time": "2021-11-14T06:01:01.223Z"
   },
   {
    "duration": 29,
    "start_time": "2021-11-14T06:01:01.249Z"
   },
   {
    "duration": 29,
    "start_time": "2021-11-14T06:01:01.280Z"
   },
   {
    "duration": 34,
    "start_time": "2021-11-14T06:01:01.311Z"
   },
   {
    "duration": 37,
    "start_time": "2021-11-14T06:01:01.348Z"
   },
   {
    "duration": 13,
    "start_time": "2021-11-14T06:01:01.388Z"
   },
   {
    "duration": 33,
    "start_time": "2021-11-14T06:01:01.404Z"
   },
   {
    "duration": 37,
    "start_time": "2021-11-14T06:01:01.440Z"
   },
   {
    "duration": 39,
    "start_time": "2021-11-14T06:01:01.481Z"
   },
   {
    "duration": 27,
    "start_time": "2021-11-14T06:01:01.523Z"
   },
   {
    "duration": 24,
    "start_time": "2021-11-14T06:01:01.557Z"
   },
   {
    "duration": 52,
    "start_time": "2021-11-14T06:01:01.585Z"
   },
   {
    "duration": 29,
    "start_time": "2021-11-14T06:01:01.640Z"
   },
   {
    "duration": 41,
    "start_time": "2021-11-14T06:01:01.672Z"
   },
   {
    "duration": 26,
    "start_time": "2021-11-14T06:01:01.716Z"
   },
   {
    "duration": 35,
    "start_time": "2021-11-14T06:01:01.745Z"
   },
   {
    "duration": 29,
    "start_time": "2021-11-14T06:01:01.783Z"
   },
   {
    "duration": 9,
    "start_time": "2021-11-14T06:01:01.814Z"
   },
   {
    "duration": 5,
    "start_time": "2021-11-14T06:01:01.826Z"
   },
   {
    "duration": 15,
    "start_time": "2021-11-14T06:01:01.833Z"
   },
   {
    "duration": 21,
    "start_time": "2021-11-14T06:01:01.850Z"
   },
   {
    "duration": 963,
    "start_time": "2021-11-14T06:01:01.873Z"
   },
   {
    "duration": 4,
    "start_time": "2021-11-14T06:01:02.839Z"
   },
   {
    "duration": 16,
    "start_time": "2021-11-14T06:01:02.845Z"
   },
   {
    "duration": 3924,
    "start_time": "2021-11-14T06:01:02.864Z"
   },
   {
    "duration": 37,
    "start_time": "2021-11-14T06:01:06.791Z"
   },
   {
    "duration": 11,
    "start_time": "2021-11-14T06:01:06.832Z"
   },
   {
    "duration": 24,
    "start_time": "2021-11-14T06:01:06.845Z"
   },
   {
    "duration": 57,
    "start_time": "2021-11-14T06:01:06.872Z"
   },
   {
    "duration": 19,
    "start_time": "2021-11-14T06:01:06.931Z"
   },
   {
    "duration": 13,
    "start_time": "2021-11-14T06:01:06.952Z"
   },
   {
    "duration": 7,
    "start_time": "2021-11-14T06:01:06.967Z"
   },
   {
    "duration": 4,
    "start_time": "2021-11-14T06:01:06.976Z"
   },
   {
    "duration": 555,
    "start_time": "2021-11-14T06:01:07.023Z"
   },
   {
    "duration": 18,
    "start_time": "2021-11-14T06:01:07.580Z"
   },
   {
    "duration": 25,
    "start_time": "2021-11-14T06:01:07.600Z"
   },
   {
    "duration": 28,
    "start_time": "2021-11-14T06:01:07.627Z"
   },
   {
    "duration": 16,
    "start_time": "2021-11-14T06:01:07.657Z"
   },
   {
    "duration": 777,
    "start_time": "2021-11-14T06:01:07.676Z"
   },
   {
    "duration": 24,
    "start_time": "2021-11-14T06:01:08.456Z"
   },
   {
    "duration": 53,
    "start_time": "2021-11-14T06:01:08.483Z"
   },
   {
    "duration": 45,
    "start_time": "2021-11-14T06:01:08.538Z"
   },
   {
    "duration": 58,
    "start_time": "2021-11-14T06:01:08.586Z"
   },
   {
    "duration": 26,
    "start_time": "2021-11-14T06:01:08.647Z"
   },
   {
    "duration": 7,
    "start_time": "2021-11-14T06:06:38.110Z"
   },
   {
    "duration": 7,
    "start_time": "2021-11-14T06:06:41.078Z"
   },
   {
    "duration": 32,
    "start_time": "2021-11-14T07:25:24.721Z"
   },
   {
    "duration": 5318,
    "start_time": "2021-11-14T07:31:38.739Z"
   },
   {
    "duration": 40,
    "start_time": "2021-11-14T07:32:06.962Z"
   },
   {
    "duration": 44,
    "start_time": "2021-11-14T07:34:17.399Z"
   },
   {
    "duration": 96,
    "start_time": "2021-11-14T07:36:26.242Z"
   },
   {
    "duration": 19,
    "start_time": "2021-11-14T07:36:26.341Z"
   },
   {
    "duration": 24,
    "start_time": "2021-11-14T07:36:26.363Z"
   },
   {
    "duration": 40,
    "start_time": "2021-11-14T07:36:26.390Z"
   },
   {
    "duration": 16,
    "start_time": "2021-11-14T07:36:26.433Z"
   },
   {
    "duration": 19,
    "start_time": "2021-11-14T07:36:26.451Z"
   },
   {
    "duration": 54,
    "start_time": "2021-11-14T07:36:26.472Z"
   },
   {
    "duration": 4,
    "start_time": "2021-11-14T07:36:26.530Z"
   },
   {
    "duration": 182,
    "start_time": "2021-11-14T07:36:26.537Z"
   },
   {
    "duration": 32,
    "start_time": "2021-11-14T07:36:26.723Z"
   },
   {
    "duration": 9,
    "start_time": "2021-11-14T07:36:26.758Z"
   },
   {
    "duration": 14,
    "start_time": "2021-11-14T07:36:26.769Z"
   },
   {
    "duration": 829,
    "start_time": "2021-11-14T07:37:09.108Z"
   },
   {
    "duration": 28,
    "start_time": "2021-11-14T07:37:09.940Z"
   },
   {
    "duration": 20,
    "start_time": "2021-11-14T07:37:09.972Z"
   },
   {
    "duration": 33,
    "start_time": "2021-11-14T07:37:09.995Z"
   },
   {
    "duration": 17,
    "start_time": "2021-11-14T07:37:10.030Z"
   },
   {
    "duration": 13,
    "start_time": "2021-11-14T07:37:10.049Z"
   },
   {
    "duration": 57,
    "start_time": "2021-11-14T07:37:10.065Z"
   },
   {
    "duration": 5,
    "start_time": "2021-11-14T07:37:10.127Z"
   },
   {
    "duration": 171,
    "start_time": "2021-11-14T07:37:10.136Z"
   },
   {
    "duration": 45,
    "start_time": "2021-11-14T07:37:10.310Z"
   },
   {
    "duration": 11,
    "start_time": "2021-11-14T07:37:10.358Z"
   },
   {
    "duration": 5,
    "start_time": "2021-11-14T07:37:10.372Z"
   },
   {
    "duration": 826,
    "start_time": "2021-11-14T07:42:21.141Z"
   },
   {
    "duration": 29,
    "start_time": "2021-11-14T07:42:21.970Z"
   },
   {
    "duration": 24,
    "start_time": "2021-11-14T07:42:22.002Z"
   },
   {
    "duration": 12,
    "start_time": "2021-11-14T07:42:22.029Z"
   },
   {
    "duration": 22,
    "start_time": "2021-11-14T07:42:22.044Z"
   },
   {
    "duration": 11,
    "start_time": "2021-11-14T07:42:22.068Z"
   },
   {
    "duration": 53,
    "start_time": "2021-11-14T07:42:22.081Z"
   },
   {
    "duration": 4,
    "start_time": "2021-11-14T07:42:22.138Z"
   },
   {
    "duration": 169,
    "start_time": "2021-11-14T07:42:22.145Z"
   },
   {
    "duration": 33,
    "start_time": "2021-11-14T07:42:22.317Z"
   },
   {
    "duration": 9,
    "start_time": "2021-11-14T07:42:22.352Z"
   },
   {
    "duration": 6,
    "start_time": "2021-11-14T07:42:22.363Z"
   },
   {
    "duration": 71,
    "start_time": "2021-11-14T07:42:22.372Z"
   },
   {
    "duration": 3,
    "start_time": "2021-11-14T07:42:22.445Z"
   },
   {
    "duration": 9,
    "start_time": "2021-11-14T07:42:22.451Z"
   },
   {
    "duration": 16,
    "start_time": "2021-11-14T07:42:22.462Z"
   },
   {
    "duration": 8,
    "start_time": "2021-11-14T07:42:22.480Z"
   },
   {
    "duration": 37,
    "start_time": "2021-11-14T07:42:22.490Z"
   },
   {
    "duration": 10,
    "start_time": "2021-11-14T07:42:22.530Z"
   },
   {
    "duration": 6,
    "start_time": "2021-11-14T07:42:22.542Z"
   },
   {
    "duration": 394,
    "start_time": "2021-11-14T07:42:22.550Z"
   },
   {
    "duration": -566,
    "start_time": "2021-11-14T07:42:23.514Z"
   },
   {
    "duration": -592,
    "start_time": "2021-11-14T07:42:23.541Z"
   },
   {
    "duration": -820,
    "start_time": "2021-11-14T07:42:23.771Z"
   },
   {
    "duration": -830,
    "start_time": "2021-11-14T07:42:23.782Z"
   },
   {
    "duration": -839,
    "start_time": "2021-11-14T07:42:23.793Z"
   },
   {
    "duration": -848,
    "start_time": "2021-11-14T07:42:23.803Z"
   },
   {
    "duration": -858,
    "start_time": "2021-11-14T07:42:23.814Z"
   },
   {
    "duration": -867,
    "start_time": "2021-11-14T07:42:23.825Z"
   },
   {
    "duration": -878,
    "start_time": "2021-11-14T07:42:23.837Z"
   },
   {
    "duration": -887,
    "start_time": "2021-11-14T07:42:23.847Z"
   },
   {
    "duration": -896,
    "start_time": "2021-11-14T07:42:23.858Z"
   },
   {
    "duration": -905,
    "start_time": "2021-11-14T07:42:23.869Z"
   },
   {
    "duration": -919,
    "start_time": "2021-11-14T07:42:23.884Z"
   },
   {
    "duration": -928,
    "start_time": "2021-11-14T07:42:23.894Z"
   },
   {
    "duration": -938,
    "start_time": "2021-11-14T07:42:23.906Z"
   },
   {
    "duration": -949,
    "start_time": "2021-11-14T07:42:23.918Z"
   },
   {
    "duration": -958,
    "start_time": "2021-11-14T07:42:23.928Z"
   },
   {
    "duration": -968,
    "start_time": "2021-11-14T07:42:23.939Z"
   },
   {
    "duration": -977,
    "start_time": "2021-11-14T07:42:23.950Z"
   },
   {
    "duration": -986,
    "start_time": "2021-11-14T07:42:23.960Z"
   },
   {
    "duration": -996,
    "start_time": "2021-11-14T07:42:23.971Z"
   },
   {
    "duration": -1014,
    "start_time": "2021-11-14T07:42:23.990Z"
   },
   {
    "duration": -1024,
    "start_time": "2021-11-14T07:42:24.002Z"
   },
   {
    "duration": -1034,
    "start_time": "2021-11-14T07:42:24.013Z"
   },
   {
    "duration": -1044,
    "start_time": "2021-11-14T07:42:24.024Z"
   },
   {
    "duration": -1012,
    "start_time": "2021-11-14T07:42:24.034Z"
   },
   {
    "duration": -1022,
    "start_time": "2021-11-14T07:42:24.046Z"
   },
   {
    "duration": -1031,
    "start_time": "2021-11-14T07:42:24.056Z"
   },
   {
    "duration": -1042,
    "start_time": "2021-11-14T07:42:24.069Z"
   },
   {
    "duration": -1052,
    "start_time": "2021-11-14T07:42:24.080Z"
   },
   {
    "duration": -1068,
    "start_time": "2021-11-14T07:42:24.097Z"
   },
   {
    "duration": -1077,
    "start_time": "2021-11-14T07:42:24.108Z"
   },
   {
    "duration": -1089,
    "start_time": "2021-11-14T07:42:24.121Z"
   },
   {
    "duration": -1098,
    "start_time": "2021-11-14T07:42:24.132Z"
   },
   {
    "duration": -1109,
    "start_time": "2021-11-14T07:42:24.144Z"
   },
   {
    "duration": -1120,
    "start_time": "2021-11-14T07:42:24.156Z"
   },
   {
    "duration": -1131,
    "start_time": "2021-11-14T07:42:24.169Z"
   },
   {
    "duration": 310,
    "start_time": "2021-11-14T07:48:31.802Z"
   },
   {
    "duration": 8060,
    "start_time": "2021-11-14T07:48:56.940Z"
   },
   {
    "duration": 7509,
    "start_time": "2021-11-14T07:49:54.928Z"
   },
   {
    "duration": 34,
    "start_time": "2021-11-14T07:50:52.661Z"
   },
   {
    "duration": 7620,
    "start_time": "2021-11-14T07:53:19.123Z"
   },
   {
    "duration": -338,
    "start_time": "2021-11-14T07:53:27.085Z"
   },
   {
    "duration": 35,
    "start_time": "2021-11-14T07:57:43.625Z"
   },
   {
    "duration": 59,
    "start_time": "2021-11-14T08:02:02.188Z"
   },
   {
    "duration": 68,
    "start_time": "2021-11-14T08:02:11.613Z"
   },
   {
    "duration": 19,
    "start_time": "2021-11-14T08:02:11.683Z"
   },
   {
    "duration": 19,
    "start_time": "2021-11-14T08:02:11.724Z"
   },
   {
    "duration": 13,
    "start_time": "2021-11-14T08:02:11.746Z"
   },
   {
    "duration": 12,
    "start_time": "2021-11-14T08:02:11.762Z"
   },
   {
    "duration": 57,
    "start_time": "2021-11-14T08:02:11.776Z"
   },
   {
    "duration": 24,
    "start_time": "2021-11-14T08:02:11.836Z"
   },
   {
    "duration": 4,
    "start_time": "2021-11-14T08:02:11.864Z"
   },
   {
    "duration": 207,
    "start_time": "2021-11-14T08:02:11.871Z"
   },
   {
    "duration": 43,
    "start_time": "2021-11-14T08:02:12.080Z"
   },
   {
    "duration": 10,
    "start_time": "2021-11-14T08:02:12.125Z"
   },
   {
    "duration": 64,
    "start_time": "2021-11-14T08:02:12.137Z"
   },
   {
    "duration": 39,
    "start_time": "2021-11-14T08:02:12.224Z"
   },
   {
    "duration": 3,
    "start_time": "2021-11-14T08:02:12.265Z"
   },
   {
    "duration": 15,
    "start_time": "2021-11-14T08:02:12.270Z"
   },
   {
    "duration": 39,
    "start_time": "2021-11-14T08:02:12.288Z"
   },
   {
    "duration": 8,
    "start_time": "2021-11-14T08:02:12.330Z"
   },
   {
    "duration": 10,
    "start_time": "2021-11-14T08:02:12.341Z"
   },
   {
    "duration": 7,
    "start_time": "2021-11-14T08:02:12.354Z"
   },
   {
    "duration": 9,
    "start_time": "2021-11-14T08:02:12.364Z"
   },
   {
    "duration": 18,
    "start_time": "2021-11-14T08:02:12.424Z"
   },
   {
    "duration": 25,
    "start_time": "2021-11-14T08:02:12.445Z"
   },
   {
    "duration": 58,
    "start_time": "2021-11-14T08:02:12.475Z"
   },
   {
    "duration": 22,
    "start_time": "2021-11-14T08:02:12.536Z"
   },
   {
    "duration": 22,
    "start_time": "2021-11-14T08:02:12.560Z"
   },
   {
    "duration": 43,
    "start_time": "2021-11-14T08:02:12.584Z"
   },
   {
    "duration": 32,
    "start_time": "2021-11-14T08:02:12.630Z"
   },
   {
    "duration": 22,
    "start_time": "2021-11-14T08:02:12.664Z"
   },
   {
    "duration": 43,
    "start_time": "2021-11-14T08:02:12.688Z"
   },
   {
    "duration": 26,
    "start_time": "2021-11-14T08:02:12.733Z"
   },
   {
    "duration": 8,
    "start_time": "2021-11-14T08:02:12.761Z"
   },
   {
    "duration": 4,
    "start_time": "2021-11-14T08:02:12.771Z"
   },
   {
    "duration": 44,
    "start_time": "2021-11-14T08:02:12.778Z"
   },
   {
    "duration": 7,
    "start_time": "2021-11-14T08:02:12.825Z"
   },
   {
    "duration": 952,
    "start_time": "2021-11-14T08:02:12.835Z"
   },
   {
    "duration": 4,
    "start_time": "2021-11-14T08:02:13.789Z"
   },
   {
    "duration": 16,
    "start_time": "2021-11-14T08:02:13.795Z"
   },
   {
    "duration": 3476,
    "start_time": "2021-11-14T08:02:13.813Z"
   },
   {
    "duration": 33,
    "start_time": "2021-11-14T08:02:17.291Z"
   },
   {
    "duration": 8,
    "start_time": "2021-11-14T08:02:17.326Z"
   },
   {
    "duration": 30,
    "start_time": "2021-11-14T08:02:17.336Z"
   },
   {
    "duration": 40,
    "start_time": "2021-11-14T08:02:17.368Z"
   },
   {
    "duration": 27,
    "start_time": "2021-11-14T08:02:17.411Z"
   },
   {
    "duration": 12,
    "start_time": "2021-11-14T08:02:17.440Z"
   },
   {
    "duration": 9,
    "start_time": "2021-11-14T08:02:17.454Z"
   },
   {
    "duration": 10,
    "start_time": "2021-11-14T08:02:17.466Z"
   },
   {
    "duration": 631,
    "start_time": "2021-11-14T08:02:17.478Z"
   },
   {
    "duration": 22,
    "start_time": "2021-11-14T08:02:18.112Z"
   },
   {
    "duration": 11,
    "start_time": "2021-11-14T08:02:18.136Z"
   },
   {
    "duration": 26,
    "start_time": "2021-11-14T08:02:18.150Z"
   },
   {
    "duration": 51,
    "start_time": "2021-11-14T08:02:18.178Z"
   },
   {
    "duration": 767,
    "start_time": "2021-11-14T08:02:18.232Z"
   },
   {
    "duration": 30,
    "start_time": "2021-11-14T08:02:19.002Z"
   },
   {
    "duration": 29,
    "start_time": "2021-11-14T08:02:19.035Z"
   },
   {
    "duration": 73,
    "start_time": "2021-11-14T08:02:19.067Z"
   },
   {
    "duration": 26,
    "start_time": "2021-11-14T08:02:19.143Z"
   },
   {
    "duration": 55,
    "start_time": "2021-11-14T08:02:19.172Z"
   },
   {
    "duration": 21,
    "start_time": "2021-11-14T08:05:54.115Z"
   },
   {
    "duration": 99,
    "start_time": "2021-11-14T08:06:48.459Z"
   },
   {
    "duration": 19,
    "start_time": "2021-11-14T08:06:48.560Z"
   },
   {
    "duration": 40,
    "start_time": "2021-11-14T08:06:48.582Z"
   },
   {
    "duration": 12,
    "start_time": "2021-11-14T08:06:48.625Z"
   },
   {
    "duration": 11,
    "start_time": "2021-11-14T08:06:48.639Z"
   },
   {
    "duration": 11,
    "start_time": "2021-11-14T08:06:48.652Z"
   },
   {
    "duration": 70,
    "start_time": "2021-11-14T08:06:48.665Z"
   },
   {
    "duration": 4,
    "start_time": "2021-11-14T08:06:48.739Z"
   },
   {
    "duration": 186,
    "start_time": "2021-11-14T08:06:48.746Z"
   },
   {
    "duration": 34,
    "start_time": "2021-11-14T08:06:48.935Z"
   },
   {
    "duration": 8,
    "start_time": "2021-11-14T08:06:48.972Z"
   },
   {
    "duration": 85,
    "start_time": "2021-11-14T08:06:48.982Z"
   },
   {
    "duration": 33,
    "start_time": "2021-11-14T08:06:49.070Z"
   },
   {
    "duration": 18,
    "start_time": "2021-11-14T08:06:49.105Z"
   },
   {
    "duration": 20,
    "start_time": "2021-11-14T08:06:49.125Z"
   },
   {
    "duration": 77,
    "start_time": "2021-11-14T08:06:49.147Z"
   },
   {
    "duration": 6,
    "start_time": "2021-11-14T08:06:49.227Z"
   },
   {
    "duration": 9,
    "start_time": "2021-11-14T08:06:49.236Z"
   },
   {
    "duration": 8,
    "start_time": "2021-11-14T08:06:49.247Z"
   },
   {
    "duration": 10,
    "start_time": "2021-11-14T08:06:49.257Z"
   },
   {
    "duration": 53,
    "start_time": "2021-11-14T08:06:49.270Z"
   },
   {
    "duration": 21,
    "start_time": "2021-11-14T08:06:49.326Z"
   },
   {
    "duration": 14,
    "start_time": "2021-11-14T08:06:49.352Z"
   },
   {
    "duration": 53,
    "start_time": "2021-11-14T08:06:49.369Z"
   },
   {
    "duration": 22,
    "start_time": "2021-11-14T08:06:49.425Z"
   },
   {
    "duration": 31,
    "start_time": "2021-11-14T08:06:49.449Z"
   },
   {
    "duration": 54,
    "start_time": "2021-11-14T08:06:49.483Z"
   },
   {
    "duration": 21,
    "start_time": "2021-11-14T08:06:49.539Z"
   },
   {
    "duration": 20,
    "start_time": "2021-11-14T08:06:49.563Z"
   },
   {
    "duration": 52,
    "start_time": "2021-11-14T08:06:49.587Z"
   },
   {
    "duration": 7,
    "start_time": "2021-11-14T08:06:49.641Z"
   },
   {
    "duration": 5,
    "start_time": "2021-11-14T08:06:49.650Z"
   },
   {
    "duration": 15,
    "start_time": "2021-11-14T08:06:49.657Z"
   },
   {
    "duration": 7,
    "start_time": "2021-11-14T08:06:49.675Z"
   },
   {
    "duration": 965,
    "start_time": "2021-11-14T08:06:49.685Z"
   },
   {
    "duration": 3,
    "start_time": "2021-11-14T08:06:50.653Z"
   },
   {
    "duration": 13,
    "start_time": "2021-11-14T08:06:50.658Z"
   },
   {
    "duration": 3420,
    "start_time": "2021-11-14T08:06:50.674Z"
   },
   {
    "duration": 32,
    "start_time": "2021-11-14T08:06:54.096Z"
   },
   {
    "duration": 9,
    "start_time": "2021-11-14T08:06:54.130Z"
   },
   {
    "duration": 22,
    "start_time": "2021-11-14T08:06:54.141Z"
   },
   {
    "duration": 22,
    "start_time": "2021-11-14T08:06:54.165Z"
   },
   {
    "duration": 48,
    "start_time": "2021-11-14T08:06:54.189Z"
   },
   {
    "duration": 12,
    "start_time": "2021-11-14T08:06:54.240Z"
   },
   {
    "duration": 5,
    "start_time": "2021-11-14T08:06:54.254Z"
   },
   {
    "duration": 4,
    "start_time": "2021-11-14T08:06:54.261Z"
   },
   {
    "duration": 635,
    "start_time": "2021-11-14T08:06:54.267Z"
   },
   {
    "duration": 21,
    "start_time": "2021-11-14T08:06:54.905Z"
   },
   {
    "duration": 11,
    "start_time": "2021-11-14T08:06:54.928Z"
   },
   {
    "duration": 25,
    "start_time": "2021-11-14T08:06:54.942Z"
   },
   {
    "duration": 14,
    "start_time": "2021-11-14T08:06:54.969Z"
   },
   {
    "duration": 59,
    "start_time": "2021-11-14T08:06:54.985Z"
   },
   {
    "duration": 21,
    "start_time": "2021-11-14T08:06:55.046Z"
   },
   {
    "duration": 60,
    "start_time": "2021-11-14T08:06:55.069Z"
   },
   {
    "duration": 47,
    "start_time": "2021-11-14T08:06:55.132Z"
   },
   {
    "duration": 59,
    "start_time": "2021-11-14T08:06:55.181Z"
   },
   {
    "duration": 26,
    "start_time": "2021-11-14T08:06:55.242Z"
   },
   {
    "duration": 5,
    "start_time": "2021-11-14T08:25:04.161Z"
   },
   {
    "duration": 112,
    "start_time": "2021-11-14T08:26:55.173Z"
   },
   {
    "duration": 104,
    "start_time": "2021-11-14T08:27:04.157Z"
   },
   {
    "duration": 8,
    "start_time": "2021-11-14T08:56:32.849Z"
   },
   {
    "duration": 107,
    "start_time": "2021-11-14T08:57:24.220Z"
   },
   {
    "duration": 5399,
    "start_time": "2021-11-14T08:57:39.147Z"
   },
   {
    "duration": 8182,
    "start_time": "2021-11-14T08:58:06.715Z"
   },
   {
    "duration": 12,
    "start_time": "2021-11-14T08:58:20.420Z"
   },
   {
    "duration": 12,
    "start_time": "2021-11-14T09:01:43.716Z"
   },
   {
    "duration": 6,
    "start_time": "2021-11-14T09:03:07.665Z"
   },
   {
    "duration": 7203,
    "start_time": "2021-11-14T09:03:37.498Z"
   },
   {
    "duration": 7389,
    "start_time": "2021-11-14T09:04:16.845Z"
   },
   {
    "duration": 298,
    "start_time": "2021-11-14T09:04:46.044Z"
   },
   {
    "duration": 6,
    "start_time": "2021-11-14T09:04:54.925Z"
   },
   {
    "duration": 12,
    "start_time": "2021-11-14T09:05:13.543Z"
   },
   {
    "duration": 9,
    "start_time": "2021-11-14T09:05:40.445Z"
   },
   {
    "duration": 8,
    "start_time": "2021-11-14T09:05:49.884Z"
   },
   {
    "duration": 11,
    "start_time": "2021-11-14T09:06:55.255Z"
   },
   {
    "duration": 103,
    "start_time": "2021-11-14T09:08:03.624Z"
   },
   {
    "duration": 109,
    "start_time": "2021-11-14T09:08:23.978Z"
   },
   {
    "duration": 12,
    "start_time": "2021-11-14T09:08:53.374Z"
   },
   {
    "duration": 12,
    "start_time": "2021-11-14T09:11:55.489Z"
   },
   {
    "duration": 11,
    "start_time": "2021-11-14T09:13:59.459Z"
   },
   {
    "duration": 11,
    "start_time": "2021-11-14T09:14:19.755Z"
   },
   {
    "duration": 60,
    "start_time": "2021-11-14T09:39:02.387Z"
   },
   {
    "duration": 850,
    "start_time": "2021-11-14T09:40:25.535Z"
   },
   {
    "duration": 29,
    "start_time": "2021-11-14T09:40:26.388Z"
   },
   {
    "duration": 15,
    "start_time": "2021-11-14T09:40:26.422Z"
   },
   {
    "duration": 17,
    "start_time": "2021-11-14T09:40:26.440Z"
   },
   {
    "duration": 20,
    "start_time": "2021-11-14T09:40:26.460Z"
   },
   {
    "duration": 43,
    "start_time": "2021-11-14T09:40:26.483Z"
   },
   {
    "duration": 27,
    "start_time": "2021-11-14T09:40:26.529Z"
   },
   {
    "duration": 4,
    "start_time": "2021-11-14T09:40:26.562Z"
   },
   {
    "duration": 198,
    "start_time": "2021-11-14T09:40:26.571Z"
   },
   {
    "duration": 31,
    "start_time": "2021-11-14T09:40:26.772Z"
   },
   {
    "duration": 11,
    "start_time": "2021-11-14T09:40:26.824Z"
   },
   {
    "duration": 91,
    "start_time": "2021-11-14T09:40:26.838Z"
   },
   {
    "duration": 35,
    "start_time": "2021-11-14T09:40:26.931Z"
   },
   {
    "duration": 4,
    "start_time": "2021-11-14T09:40:26.969Z"
   },
   {
    "duration": 17,
    "start_time": "2021-11-14T09:40:26.975Z"
   },
   {
    "duration": 8,
    "start_time": "2021-11-14T09:40:27.023Z"
   },
   {
    "duration": 11,
    "start_time": "2021-11-14T09:40:27.034Z"
   },
   {
    "duration": 84,
    "start_time": "2021-11-14T09:40:27.048Z"
   },
   {
    "duration": 3,
    "start_time": "2021-11-14T09:40:27.135Z"
   },
   {
    "duration": 16,
    "start_time": "2021-11-14T09:40:27.141Z"
   },
   {
    "duration": 7,
    "start_time": "2021-11-14T09:40:27.160Z"
   },
   {
    "duration": 16,
    "start_time": "2021-11-14T09:40:27.170Z"
   },
   {
    "duration": 51,
    "start_time": "2021-11-14T09:40:27.192Z"
   },
   {
    "duration": 16,
    "start_time": "2021-11-14T09:40:27.246Z"
   },
   {
    "duration": 31,
    "start_time": "2021-11-14T09:40:27.265Z"
   },
   {
    "duration": 23,
    "start_time": "2021-11-14T09:40:27.323Z"
   },
   {
    "duration": 29,
    "start_time": "2021-11-14T09:40:27.349Z"
   },
   {
    "duration": 55,
    "start_time": "2021-11-14T09:40:27.380Z"
   },
   {
    "duration": 21,
    "start_time": "2021-11-14T09:40:27.437Z"
   },
   {
    "duration": 18,
    "start_time": "2021-11-14T09:40:27.461Z"
   },
   {
    "duration": 58,
    "start_time": "2021-11-14T09:40:27.481Z"
   },
   {
    "duration": 7,
    "start_time": "2021-11-14T09:40:27.542Z"
   },
   {
    "duration": 4,
    "start_time": "2021-11-14T09:40:27.551Z"
   },
   {
    "duration": 13,
    "start_time": "2021-11-14T09:40:27.558Z"
   },
   {
    "duration": 8,
    "start_time": "2021-11-14T09:40:27.574Z"
   },
   {
    "duration": 1039,
    "start_time": "2021-11-14T09:40:27.584Z"
   },
   {
    "duration": 4,
    "start_time": "2021-11-14T09:40:28.626Z"
   },
   {
    "duration": 7,
    "start_time": "2021-11-14T09:40:28.632Z"
   },
   {
    "duration": 3509,
    "start_time": "2021-11-14T09:40:28.641Z"
   },
   {
    "duration": 21,
    "start_time": "2021-11-14T09:40:32.152Z"
   },
   {
    "duration": 18,
    "start_time": "2021-11-14T09:40:32.176Z"
   },
   {
    "duration": 34,
    "start_time": "2021-11-14T09:40:32.196Z"
   },
   {
    "duration": 38,
    "start_time": "2021-11-14T09:40:32.233Z"
   },
   {
    "duration": 19,
    "start_time": "2021-11-14T09:40:32.274Z"
   },
   {
    "duration": 29,
    "start_time": "2021-11-14T09:40:32.295Z"
   },
   {
    "duration": 7,
    "start_time": "2021-11-14T09:40:32.326Z"
   },
   {
    "duration": 5,
    "start_time": "2021-11-14T09:40:32.335Z"
   },
   {
    "duration": 607,
    "start_time": "2021-11-14T09:40:32.343Z"
   },
   {
    "duration": 18,
    "start_time": "2021-11-14T09:40:32.952Z"
   },
   {
    "duration": 12,
    "start_time": "2021-11-14T09:40:32.973Z"
   },
   {
    "duration": 52,
    "start_time": "2021-11-14T09:40:32.988Z"
   },
   {
    "duration": 15,
    "start_time": "2021-11-14T09:40:33.043Z"
   },
   {
    "duration": 775,
    "start_time": "2021-11-14T09:40:33.061Z"
   },
   {
    "duration": 13,
    "start_time": "2021-11-14T09:40:33.839Z"
   },
   {
    "duration": 25,
    "start_time": "2021-11-14T09:40:33.855Z"
   },
   {
    "duration": 53,
    "start_time": "2021-11-14T09:40:33.883Z"
   },
   {
    "duration": 47,
    "start_time": "2021-11-14T09:40:33.939Z"
   },
   {
    "duration": 56,
    "start_time": "2021-11-14T09:40:33.989Z"
   },
   {
    "duration": 28,
    "start_time": "2021-11-14T09:40:34.047Z"
   },
   {
    "duration": 63,
    "start_time": "2021-11-14T09:41:54.560Z"
   },
   {
    "duration": 8,
    "start_time": "2021-11-14T09:42:27.265Z"
   },
   {
    "duration": 65,
    "start_time": "2021-11-14T09:42:28.362Z"
   },
   {
    "duration": 200,
    "start_time": "2021-11-14T09:44:03.819Z"
   },
   {
    "duration": 71,
    "start_time": "2021-11-14T09:44:22.268Z"
   },
   {
    "duration": 71,
    "start_time": "2021-11-14T09:46:16.774Z"
   },
   {
    "duration": 141,
    "start_time": "2021-11-14T09:47:23.004Z"
   },
   {
    "duration": 74,
    "start_time": "2021-11-14T09:47:42.119Z"
   },
   {
    "duration": 128,
    "start_time": "2021-11-14T09:49:56.962Z"
   },
   {
    "duration": 399,
    "start_time": "2021-11-14T09:51:34.942Z"
   },
   {
    "duration": 152,
    "start_time": "2021-11-14T09:51:49.786Z"
   },
   {
    "duration": 308,
    "start_time": "2021-11-14T09:53:17.174Z"
   },
   {
    "duration": 179,
    "start_time": "2021-11-14T09:53:47.492Z"
   },
   {
    "duration": 121,
    "start_time": "2021-11-14T09:55:44.769Z"
   },
   {
    "duration": 150,
    "start_time": "2021-11-14T09:56:08.922Z"
   },
   {
    "duration": 78,
    "start_time": "2021-11-14T09:56:51.836Z"
   },
   {
    "duration": 74,
    "start_time": "2021-11-14T09:57:15.068Z"
   },
   {
    "duration": 69,
    "start_time": "2021-11-14T09:59:42.225Z"
   },
   {
    "duration": 7,
    "start_time": "2021-11-14T09:59:50.406Z"
   },
   {
    "duration": 6,
    "start_time": "2021-11-14T10:00:14.727Z"
   },
   {
    "duration": 18,
    "start_time": "2021-11-14T10:00:15.583Z"
   },
   {
    "duration": 64,
    "start_time": "2021-11-14T10:01:05.975Z"
   },
   {
    "duration": 19,
    "start_time": "2021-11-14T10:01:07.583Z"
   },
   {
    "duration": 4,
    "start_time": "2021-11-14T10:09:25.395Z"
   },
   {
    "duration": 837,
    "start_time": "2021-11-14T17:28:23.834Z"
   },
   {
    "duration": 30,
    "start_time": "2021-11-14T17:28:24.674Z"
   },
   {
    "duration": 15,
    "start_time": "2021-11-14T17:28:24.706Z"
   },
   {
    "duration": 41,
    "start_time": "2021-11-14T17:28:24.723Z"
   },
   {
    "duration": 14,
    "start_time": "2021-11-14T17:28:24.768Z"
   },
   {
    "duration": 14,
    "start_time": "2021-11-14T17:28:24.784Z"
   },
   {
    "duration": 24,
    "start_time": "2021-11-14T17:28:24.800Z"
   },
   {
    "duration": 38,
    "start_time": "2021-11-14T17:28:24.826Z"
   },
   {
    "duration": 172,
    "start_time": "2021-11-14T17:28:24.870Z"
   },
   {
    "duration": 41,
    "start_time": "2021-11-14T17:28:25.044Z"
   },
   {
    "duration": 10,
    "start_time": "2021-11-14T17:28:25.087Z"
   },
   {
    "duration": 86,
    "start_time": "2021-11-14T17:28:25.099Z"
   },
   {
    "duration": 33,
    "start_time": "2021-11-14T17:28:25.188Z"
   },
   {
    "duration": 57,
    "start_time": "2021-11-14T17:28:34.732Z"
   },
   {
    "duration": 59,
    "start_time": "2021-11-14T17:28:58.973Z"
   },
   {
    "duration": 32,
    "start_time": "2021-11-14T17:29:29.352Z"
   },
   {
    "duration": 8,
    "start_time": "2021-11-14T17:29:55.063Z"
   },
   {
    "duration": 4,
    "start_time": "2021-11-14T17:30:04.550Z"
   },
   {
    "duration": 7600,
    "start_time": "2021-11-14T17:30:17.190Z"
   },
   {
    "duration": 7869,
    "start_time": "2021-11-14T17:30:48.047Z"
   }
  ],
  "kernelspec": {
   "display_name": "Python 3",
   "language": "python",
   "name": "python3"
  },
  "language_info": {
   "codemirror_mode": {
    "name": "ipython",
    "version": 3
   },
   "file_extension": ".py",
   "mimetype": "text/x-python",
   "name": "python",
   "nbconvert_exporter": "python",
   "pygments_lexer": "ipython3",
   "version": "3.7.13"
  },
  "toc": {
   "base_numbering": 1,
   "nav_menu": {},
   "number_sections": true,
   "sideBar": true,
   "skip_h1_title": true,
   "title_cell": "Table of Contents",
   "title_sidebar": "Contents",
   "toc_cell": false,
   "toc_position": {
    "height": "calc(100% - 180px)",
    "left": "10px",
    "top": "150px",
    "width": "235px"
   },
   "toc_section_display": true,
   "toc_window_display": true
  }
 },
 "nbformat": 4,
 "nbformat_minor": 2
}
