{
 "cells": [
  {
   "cell_type": "markdown",
   "metadata": {},
   "source": [
    "# Анализ интернет-магазина для целей увеличения выручки"
   ]
  },
  {
   "cell_type": "markdown",
   "metadata": {},
   "source": [
    "__Постановка задачи:__\n",
    "\n",
    "Требуется разобраться в ситуации используя имеющуюся информацию A/B теста:\n",
    "- приоритизировать подготовленный список гипотез для увеличения выручки\n",
    "- проанализировать результаты проведенного A/B теста\n",
    "\n",
    "__Цель проекта:__\n",
    "\n",
    "Принять решение по результатам теста.\n",
    "\n",
    "__План работ:__\n",
    "\n",
    "1. Импорт библиотек\n",
    "2. Анализ A/B-теста\n",
    " 1. Предобработка данных\n",
    " 2. Исследовательский анализ данных\n",
    " 2. Анализ данных A/B-теста\n",
    "3. Выводы и рекомендации"
   ]
  },
  {
   "cell_type": "markdown",
   "metadata": {},
   "source": [
    "<a id='id_1'></a>\n",
    "## Импорт библиотек"
   ]
  },
  {
   "cell_type": "code",
   "execution_count": 1,
   "metadata": {},
   "outputs": [],
   "source": [
    "# подключение библиотек\n",
    "import pandas as pd\n",
    "import scipy.stats as stats\n",
    "import datetime as dt\n",
    "import numpy as np\n",
    "import matplotlib.pyplot as plt\n",
    "large = 22; med = 16; small = 12\n",
    "params = {'axes.titlesize': large,\n",
    "          'legend.fontsize': med,\n",
    "          'figure.figsize': (16, 8),\n",
    "          'axes.labelsize': med,\n",
    "          'axes.titlesize': med,\n",
    "          'xtick.labelsize': small,\n",
    "          'ytick.labelsize': small,\n",
    "          'figure.titlesize': large}\n",
    "plt.rcParams.update(params)\n",
    "plt.style.use('seaborn-whitegrid')\n",
    "\n",
    "import warnings\n",
    "warnings.filterwarnings(\"ignore\")"
   ]
  },
  {
   "cell_type": "markdown",
   "metadata": {},
   "source": [
    "<a id='id_2'></a>\n",
    "## Анализ A/B-теста"
   ]
  },
  {
   "cell_type": "markdown",
   "metadata": {},
   "source": [
    "Проанализируем A/B-тест: проведенм предобработку данных, исследовательский анализ и анализ ключевых показателей - конверсии и среднего чека."
   ]
  },
  {
   "cell_type": "code",
   "execution_count": 6,
   "metadata": {},
   "outputs": [],
   "source": [
    "# получение данных\n",
    "orders = pd.read_csv('/datasets/orders.csv', sep=',')\n",
    "visitors = pd.read_csv('/datasets/visitors.csv', sep=',')"
   ]
  },
  {
   "cell_type": "markdown",
   "metadata": {},
   "source": [
    "<a id='id_2_1'></a>\n",
    "### Предобработка данных"
   ]
  },
  {
   "cell_type": "code",
   "execution_count": 7,
   "metadata": {},
   "outputs": [
    {
     "data": {
      "text/html": [
       "<div>\n",
       "<style scoped>\n",
       "    .dataframe tbody tr th:only-of-type {\n",
       "        vertical-align: middle;\n",
       "    }\n",
       "\n",
       "    .dataframe tbody tr th {\n",
       "        vertical-align: top;\n",
       "    }\n",
       "\n",
       "    .dataframe thead th {\n",
       "        text-align: right;\n",
       "    }\n",
       "</style>\n",
       "<table border=\"1\" class=\"dataframe\">\n",
       "  <thead>\n",
       "    <tr style=\"text-align: right;\">\n",
       "      <th></th>\n",
       "      <th>transactionId</th>\n",
       "      <th>visitorId</th>\n",
       "      <th>date</th>\n",
       "      <th>revenue</th>\n",
       "      <th>group</th>\n",
       "    </tr>\n",
       "  </thead>\n",
       "  <tbody>\n",
       "    <tr>\n",
       "      <td>0</td>\n",
       "      <td>3667963787</td>\n",
       "      <td>3312258926</td>\n",
       "      <td>2019-08-15</td>\n",
       "      <td>1650</td>\n",
       "      <td>B</td>\n",
       "    </tr>\n",
       "    <tr>\n",
       "      <td>1</td>\n",
       "      <td>2804400009</td>\n",
       "      <td>3642806036</td>\n",
       "      <td>2019-08-15</td>\n",
       "      <td>730</td>\n",
       "      <td>B</td>\n",
       "    </tr>\n",
       "    <tr>\n",
       "      <td>2</td>\n",
       "      <td>2961555356</td>\n",
       "      <td>4069496402</td>\n",
       "      <td>2019-08-15</td>\n",
       "      <td>400</td>\n",
       "      <td>A</td>\n",
       "    </tr>\n",
       "    <tr>\n",
       "      <td>3</td>\n",
       "      <td>3797467345</td>\n",
       "      <td>1196621759</td>\n",
       "      <td>2019-08-15</td>\n",
       "      <td>9759</td>\n",
       "      <td>B</td>\n",
       "    </tr>\n",
       "    <tr>\n",
       "      <td>4</td>\n",
       "      <td>2282983706</td>\n",
       "      <td>2322279887</td>\n",
       "      <td>2019-08-15</td>\n",
       "      <td>2308</td>\n",
       "      <td>B</td>\n",
       "    </tr>\n",
       "  </tbody>\n",
       "</table>\n",
       "</div>"
      ],
      "text/plain": [
       "   transactionId   visitorId        date  revenue group\n",
       "0     3667963787  3312258926  2019-08-15     1650     B\n",
       "1     2804400009  3642806036  2019-08-15      730     B\n",
       "2     2961555356  4069496402  2019-08-15      400     A\n",
       "3     3797467345  1196621759  2019-08-15     9759     B\n",
       "4     2282983706  2322279887  2019-08-15     2308     B"
      ]
     },
     "execution_count": 7,
     "metadata": {},
     "output_type": "execute_result"
    }
   ],
   "source": [
    "orders.head()"
   ]
  },
  {
   "cell_type": "code",
   "execution_count": 8,
   "metadata": {},
   "outputs": [
    {
     "name": "stdout",
     "output_type": "stream",
     "text": [
      "<class 'pandas.core.frame.DataFrame'>\n",
      "RangeIndex: 1197 entries, 0 to 1196\n",
      "Data columns (total 5 columns):\n",
      "transactionId    1197 non-null int64\n",
      "visitorId        1197 non-null int64\n",
      "date             1197 non-null object\n",
      "revenue          1197 non-null int64\n",
      "group            1197 non-null object\n",
      "dtypes: int64(3), object(2)\n",
      "memory usage: 46.9+ KB\n",
      "Количество дубликатов: 0\n"
     ]
    }
   ],
   "source": [
    "orders.info()\n",
    "print('Количество дубликатов: {}'.format(orders.duplicated().sum()))"
   ]
  },
  {
   "cell_type": "code",
   "execution_count": 9,
   "metadata": {},
   "outputs": [],
   "source": [
    "orders['date'] = orders['date'].map(\n",
    "    lambda x: dt.datetime.strptime(x, '%Y-%m-%d')\n",
    ")"
   ]
  },
  {
   "cell_type": "markdown",
   "metadata": {},
   "source": [
    "__Вывод:__ в данных о заказах нет пропусков и полных дубликатов, формат данных поля date изменен на стандартный для даты."
   ]
  },
  {
   "cell_type": "code",
   "execution_count": 10,
   "metadata": {},
   "outputs": [
    {
     "data": {
      "text/html": [
       "<div>\n",
       "<style scoped>\n",
       "    .dataframe tbody tr th:only-of-type {\n",
       "        vertical-align: middle;\n",
       "    }\n",
       "\n",
       "    .dataframe tbody tr th {\n",
       "        vertical-align: top;\n",
       "    }\n",
       "\n",
       "    .dataframe thead th {\n",
       "        text-align: right;\n",
       "    }\n",
       "</style>\n",
       "<table border=\"1\" class=\"dataframe\">\n",
       "  <thead>\n",
       "    <tr style=\"text-align: right;\">\n",
       "      <th></th>\n",
       "      <th>date</th>\n",
       "      <th>group</th>\n",
       "      <th>visitors</th>\n",
       "    </tr>\n",
       "  </thead>\n",
       "  <tbody>\n",
       "    <tr>\n",
       "      <td>0</td>\n",
       "      <td>2019-08-01</td>\n",
       "      <td>A</td>\n",
       "      <td>719</td>\n",
       "    </tr>\n",
       "    <tr>\n",
       "      <td>1</td>\n",
       "      <td>2019-08-02</td>\n",
       "      <td>A</td>\n",
       "      <td>619</td>\n",
       "    </tr>\n",
       "    <tr>\n",
       "      <td>2</td>\n",
       "      <td>2019-08-03</td>\n",
       "      <td>A</td>\n",
       "      <td>507</td>\n",
       "    </tr>\n",
       "    <tr>\n",
       "      <td>3</td>\n",
       "      <td>2019-08-04</td>\n",
       "      <td>A</td>\n",
       "      <td>717</td>\n",
       "    </tr>\n",
       "    <tr>\n",
       "      <td>4</td>\n",
       "      <td>2019-08-05</td>\n",
       "      <td>A</td>\n",
       "      <td>756</td>\n",
       "    </tr>\n",
       "  </tbody>\n",
       "</table>\n",
       "</div>"
      ],
      "text/plain": [
       "         date group  visitors\n",
       "0  2019-08-01     A       719\n",
       "1  2019-08-02     A       619\n",
       "2  2019-08-03     A       507\n",
       "3  2019-08-04     A       717\n",
       "4  2019-08-05     A       756"
      ]
     },
     "execution_count": 10,
     "metadata": {},
     "output_type": "execute_result"
    }
   ],
   "source": [
    "visitors.head()"
   ]
  },
  {
   "cell_type": "code",
   "execution_count": 11,
   "metadata": {},
   "outputs": [
    {
     "name": "stdout",
     "output_type": "stream",
     "text": [
      "<class 'pandas.core.frame.DataFrame'>\n",
      "RangeIndex: 62 entries, 0 to 61\n",
      "Data columns (total 3 columns):\n",
      "date        62 non-null object\n",
      "group       62 non-null object\n",
      "visitors    62 non-null int64\n",
      "dtypes: int64(1), object(2)\n",
      "memory usage: 1.6+ KB\n",
      "Количество дубликатов: 0\n"
     ]
    }
   ],
   "source": [
    "visitors.info()\n",
    "print('Количество дубликатов: {}'.format(visitors.duplicated().sum()))"
   ]
  },
  {
   "cell_type": "code",
   "execution_count": 12,
   "metadata": {},
   "outputs": [],
   "source": [
    "visitors['date'] = visitors['date'].map(\n",
    "    lambda x: dt.datetime.strptime(x, '%Y-%m-%d')\n",
    ")"
   ]
  },
  {
   "cell_type": "markdown",
   "metadata": {},
   "source": [
    "__Вывод:__ в данных о пользователях нет пропусков и полных дубликатов, формат данных поля date изменен на стандартный для даты."
   ]
  },
  {
   "cell_type": "markdown",
   "metadata": {},
   "source": [
    "<a id='id_2_2'></a>\n",
    "### Исследовательский анализ данных"
   ]
  },
  {
   "cell_type": "code",
   "execution_count": 13,
   "metadata": {},
   "outputs": [
    {
     "data": {
      "text/plain": [
       "Timestamp('2019-08-01 00:00:00')"
      ]
     },
     "metadata": {},
     "output_type": "display_data"
    },
    {
     "data": {
      "text/plain": [
       "Timestamp('2019-08-31 00:00:00')"
      ]
     },
     "metadata": {},
     "output_type": "display_data"
    }
   ],
   "source": [
    "# временной диаппазон данных теста\n",
    "display(orders['date'].min(), orders['date'].max())"
   ]
  },
  {
   "cell_type": "code",
   "execution_count": 14,
   "metadata": {},
   "outputs": [
    {
     "data": {
      "text/html": [
       "<div>\n",
       "<style scoped>\n",
       "    .dataframe tbody tr th:only-of-type {\n",
       "        vertical-align: middle;\n",
       "    }\n",
       "\n",
       "    .dataframe tbody tr th {\n",
       "        vertical-align: top;\n",
       "    }\n",
       "\n",
       "    .dataframe thead th {\n",
       "        text-align: right;\n",
       "    }\n",
       "</style>\n",
       "<table border=\"1\" class=\"dataframe\">\n",
       "  <thead>\n",
       "    <tr style=\"text-align: right;\">\n",
       "      <th></th>\n",
       "      <th>group</th>\n",
       "    </tr>\n",
       "    <tr>\n",
       "      <th>visitorId</th>\n",
       "      <th></th>\n",
       "    </tr>\n",
       "  </thead>\n",
       "  <tbody>\n",
       "    <tr>\n",
       "      <td>2654030115</td>\n",
       "      <td>2</td>\n",
       "    </tr>\n",
       "    <tr>\n",
       "      <td>3891541246</td>\n",
       "      <td>2</td>\n",
       "    </tr>\n",
       "    <tr>\n",
       "      <td>3941795274</td>\n",
       "      <td>2</td>\n",
       "    </tr>\n",
       "    <tr>\n",
       "      <td>1404934699</td>\n",
       "      <td>2</td>\n",
       "    </tr>\n",
       "    <tr>\n",
       "      <td>351125977</td>\n",
       "      <td>2</td>\n",
       "    </tr>\n",
       "    <tr>\n",
       "      <td>...</td>\n",
       "      <td>...</td>\n",
       "    </tr>\n",
       "    <tr>\n",
       "      <td>1476256851</td>\n",
       "      <td>1</td>\n",
       "    </tr>\n",
       "    <tr>\n",
       "      <td>1476741193</td>\n",
       "      <td>1</td>\n",
       "    </tr>\n",
       "    <tr>\n",
       "      <td>1484903144</td>\n",
       "      <td>1</td>\n",
       "    </tr>\n",
       "    <tr>\n",
       "      <td>1485964287</td>\n",
       "      <td>1</td>\n",
       "    </tr>\n",
       "    <tr>\n",
       "      <td>4283872382</td>\n",
       "      <td>1</td>\n",
       "    </tr>\n",
       "  </tbody>\n",
       "</table>\n",
       "<p>1031 rows × 1 columns</p>\n",
       "</div>"
      ],
      "text/plain": [
       "            group\n",
       "visitorId        \n",
       "2654030115      2\n",
       "3891541246      2\n",
       "3941795274      2\n",
       "1404934699      2\n",
       "351125977       2\n",
       "...           ...\n",
       "1476256851      1\n",
       "1476741193      1\n",
       "1484903144      1\n",
       "1485964287      1\n",
       "4283872382      1\n",
       "\n",
       "[1031 rows x 1 columns]"
      ]
     },
     "execution_count": 14,
     "metadata": {},
     "output_type": "execute_result"
    }
   ],
   "source": [
    "# количество групп у пользователей в обеих группах\n",
    "orders_group = orders.groupby('visitorId').agg({'group': 'nunique'}).sort_values(by='group', ascending=False)\n",
    "orders_group"
   ]
  },
  {
   "cell_type": "code",
   "execution_count": 15,
   "metadata": {},
   "outputs": [
    {
     "data": {
      "text/plain": [
       "1    973\n",
       "2     58\n",
       "Name: group, dtype: int64"
      ]
     },
     "execution_count": 15,
     "metadata": {},
     "output_type": "execute_result"
    }
   ],
   "source": [
    "orders_group['group'].value_counts()"
   ]
  },
  {
   "cell_type": "code",
   "execution_count": 16,
   "metadata": {},
   "outputs": [
    {
     "data": {
      "text/plain": [
       "B    31\n",
       "A    31\n",
       "Name: group, dtype: int64"
      ]
     },
     "execution_count": 16,
     "metadata": {},
     "output_type": "execute_result"
    }
   ],
   "source": [
    "visitors['group'].value_counts()"
   ]
  },
  {
   "cell_type": "markdown",
   "metadata": {},
   "source": [
    "__Вывод:__ Представлены данные за период с 01 по 31 августа 2019 года. Обнаружено 58 пользователей присутствующих одновременно в тестовой и контрольной группах. В данных ежедневно  присутствуют пользователи обеих групп."
   ]
  },
  {
   "cell_type": "markdown",
   "metadata": {},
   "source": [
    "<a id='id_2_3'></a>\n",
    "### Анализ данных A/B-теста"
   ]
  },
  {
   "cell_type": "markdown",
   "metadata": {},
   "source": [
    "Соберем кумулятивные данные:"
   ]
  },
  {
   "cell_type": "code",
   "execution_count": 17,
   "metadata": {},
   "outputs": [
    {
     "data": {
      "text/html": [
       "<div>\n",
       "<style scoped>\n",
       "    .dataframe tbody tr th:only-of-type {\n",
       "        vertical-align: middle;\n",
       "    }\n",
       "\n",
       "    .dataframe tbody tr th {\n",
       "        vertical-align: top;\n",
       "    }\n",
       "\n",
       "    .dataframe thead th {\n",
       "        text-align: right;\n",
       "    }\n",
       "</style>\n",
       "<table border=\"1\" class=\"dataframe\">\n",
       "  <thead>\n",
       "    <tr style=\"text-align: right;\">\n",
       "      <th></th>\n",
       "      <th>date</th>\n",
       "      <th>group</th>\n",
       "    </tr>\n",
       "  </thead>\n",
       "  <tbody>\n",
       "    <tr>\n",
       "      <td>0</td>\n",
       "      <td>2019-08-15</td>\n",
       "      <td>B</td>\n",
       "    </tr>\n",
       "    <tr>\n",
       "      <td>2</td>\n",
       "      <td>2019-08-15</td>\n",
       "      <td>A</td>\n",
       "    </tr>\n",
       "    <tr>\n",
       "      <td>45</td>\n",
       "      <td>2019-08-16</td>\n",
       "      <td>A</td>\n",
       "    </tr>\n",
       "    <tr>\n",
       "      <td>47</td>\n",
       "      <td>2019-08-16</td>\n",
       "      <td>B</td>\n",
       "    </tr>\n",
       "    <tr>\n",
       "      <td>55</td>\n",
       "      <td>2019-08-01</td>\n",
       "      <td>A</td>\n",
       "    </tr>\n",
       "  </tbody>\n",
       "</table>\n",
       "</div>"
      ],
      "text/plain": [
       "         date group\n",
       "0  2019-08-15     B\n",
       "2  2019-08-15     A\n",
       "45 2019-08-16     A\n",
       "47 2019-08-16     B\n",
       "55 2019-08-01     A"
      ]
     },
     "execution_count": 17,
     "metadata": {},
     "output_type": "execute_result"
    }
   ],
   "source": [
    "# создаем массив уникальных пар значений дат и групп теста\n",
    "datesGroups = orders[['date','group']].drop_duplicates()\n",
    "datesGroups.head()"
   ]
  },
  {
   "cell_type": "code",
   "execution_count": 18,
   "metadata": {},
   "outputs": [
    {
     "data": {
      "text/html": [
       "<div>\n",
       "<style scoped>\n",
       "    .dataframe tbody tr th:only-of-type {\n",
       "        vertical-align: middle;\n",
       "    }\n",
       "\n",
       "    .dataframe tbody tr th {\n",
       "        vertical-align: top;\n",
       "    }\n",
       "\n",
       "    .dataframe thead th {\n",
       "        text-align: right;\n",
       "    }\n",
       "</style>\n",
       "<table border=\"1\" class=\"dataframe\">\n",
       "  <thead>\n",
       "    <tr style=\"text-align: right;\">\n",
       "      <th></th>\n",
       "      <th>date</th>\n",
       "      <th>group</th>\n",
       "      <th>transactionId</th>\n",
       "      <th>visitorId</th>\n",
       "      <th>revenue</th>\n",
       "    </tr>\n",
       "  </thead>\n",
       "  <tbody>\n",
       "    <tr>\n",
       "      <td>55</td>\n",
       "      <td>2019-08-01</td>\n",
       "      <td>A</td>\n",
       "      <td>24</td>\n",
       "      <td>20</td>\n",
       "      <td>148579</td>\n",
       "    </tr>\n",
       "    <tr>\n",
       "      <td>66</td>\n",
       "      <td>2019-08-01</td>\n",
       "      <td>B</td>\n",
       "      <td>21</td>\n",
       "      <td>20</td>\n",
       "      <td>101217</td>\n",
       "    </tr>\n",
       "    <tr>\n",
       "      <td>175</td>\n",
       "      <td>2019-08-02</td>\n",
       "      <td>A</td>\n",
       "      <td>44</td>\n",
       "      <td>38</td>\n",
       "      <td>242401</td>\n",
       "    </tr>\n",
       "    <tr>\n",
       "      <td>173</td>\n",
       "      <td>2019-08-02</td>\n",
       "      <td>B</td>\n",
       "      <td>45</td>\n",
       "      <td>43</td>\n",
       "      <td>266748</td>\n",
       "    </tr>\n",
       "    <tr>\n",
       "      <td>291</td>\n",
       "      <td>2019-08-03</td>\n",
       "      <td>A</td>\n",
       "      <td>68</td>\n",
       "      <td>62</td>\n",
       "      <td>354874</td>\n",
       "    </tr>\n",
       "  </tbody>\n",
       "</table>\n",
       "</div>"
      ],
      "text/plain": [
       "          date group  transactionId  visitorId  revenue\n",
       "55  2019-08-01     A             24         20   148579\n",
       "66  2019-08-01     B             21         20   101217\n",
       "175 2019-08-02     A             44         38   242401\n",
       "173 2019-08-02     B             45         43   266748\n",
       "291 2019-08-03     A             68         62   354874"
      ]
     },
     "execution_count": 18,
     "metadata": {},
     "output_type": "execute_result"
    }
   ],
   "source": [
    "ordersAggregated = (\n",
    "    datesGroups\n",
    "        .apply(lambda x: orders[np.logical_and(orders['date'] <= x['date'], orders['group'] == x['group'])]\n",
    "               .agg({'date' : 'max', 'group' : 'max', 'transactionId' : 'nunique', 'visitorId' : 'nunique', 'revenue' : 'sum'}), axis=1)\n",
    "               .sort_values(by=['date','group'])\n",
    ")\n",
    "ordersAggregated.head()"
   ]
  },
  {
   "cell_type": "code",
   "execution_count": 19,
   "metadata": {},
   "outputs": [
    {
     "data": {
      "text/html": [
       "<div>\n",
       "<style scoped>\n",
       "    .dataframe tbody tr th:only-of-type {\n",
       "        vertical-align: middle;\n",
       "    }\n",
       "\n",
       "    .dataframe tbody tr th {\n",
       "        vertical-align: top;\n",
       "    }\n",
       "\n",
       "    .dataframe thead th {\n",
       "        text-align: right;\n",
       "    }\n",
       "</style>\n",
       "<table border=\"1\" class=\"dataframe\">\n",
       "  <thead>\n",
       "    <tr style=\"text-align: right;\">\n",
       "      <th></th>\n",
       "      <th>date</th>\n",
       "      <th>group</th>\n",
       "      <th>visitors</th>\n",
       "    </tr>\n",
       "  </thead>\n",
       "  <tbody>\n",
       "    <tr>\n",
       "      <td>55</td>\n",
       "      <td>2019-08-01</td>\n",
       "      <td>A</td>\n",
       "      <td>719</td>\n",
       "    </tr>\n",
       "    <tr>\n",
       "      <td>66</td>\n",
       "      <td>2019-08-01</td>\n",
       "      <td>B</td>\n",
       "      <td>713</td>\n",
       "    </tr>\n",
       "    <tr>\n",
       "      <td>175</td>\n",
       "      <td>2019-08-02</td>\n",
       "      <td>A</td>\n",
       "      <td>1338</td>\n",
       "    </tr>\n",
       "    <tr>\n",
       "      <td>173</td>\n",
       "      <td>2019-08-02</td>\n",
       "      <td>B</td>\n",
       "      <td>1294</td>\n",
       "    </tr>\n",
       "    <tr>\n",
       "      <td>291</td>\n",
       "      <td>2019-08-03</td>\n",
       "      <td>A</td>\n",
       "      <td>1845</td>\n",
       "    </tr>\n",
       "  </tbody>\n",
       "</table>\n",
       "</div>"
      ],
      "text/plain": [
       "          date group  visitors\n",
       "55  2019-08-01     A       719\n",
       "66  2019-08-01     B       713\n",
       "175 2019-08-02     A      1338\n",
       "173 2019-08-02     B      1294\n",
       "291 2019-08-03     A      1845"
      ]
     },
     "execution_count": 19,
     "metadata": {},
     "output_type": "execute_result"
    }
   ],
   "source": [
    "visitorsAggregated = (\n",
    "    datesGroups\n",
    "    .apply(lambda x: visitors[np.logical_and(visitors['date'] <= x['date'], visitors['group'] == x['group'])]\n",
    "           .agg({'date' : 'max', 'group' : 'max', 'visitors' : 'sum'}), axis=1)\n",
    "           .sort_values(by=['date','group'])\n",
    ")\n",
    "visitorsAggregated.head()"
   ]
  },
  {
   "cell_type": "code",
   "execution_count": 20,
   "metadata": {},
   "outputs": [
    {
     "name": "stdout",
     "output_type": "stream",
     "text": [
      "        date group  orders  buyers  revenue  visitors\n",
      "0 2019-08-01     A      24      20   148579       719\n",
      "1 2019-08-01     B      21      20   101217       713\n",
      "2 2019-08-02     A      44      38   242401      1338\n",
      "3 2019-08-02     B      45      43   266748      1294\n",
      "4 2019-08-03     A      68      62   354874      1845\n"
     ]
    }
   ],
   "source": [
    "cumulativeData = ordersAggregated.merge(visitorsAggregated, left_on=['date', 'group'], right_on=['date', 'group'])\n",
    "cumulativeData.columns = ['date', 'group', 'orders', 'buyers', 'revenue', 'visitors']\n",
    "\n",
    "print(cumulativeData.head())"
   ]
  },
  {
   "cell_type": "markdown",
   "metadata": {},
   "source": [
    "Графики кумулятивной выручки по дням и группам A/B-тестирования:"
   ]
  },
  {
   "cell_type": "code",
   "execution_count": 21,
   "metadata": {},
   "outputs": [
    {
     "data": {
      "image/png": "[encoded data removed]",
      "text/plain": [
       "<Figure size 1152x576 with 1 Axes>"
      ]
     },
     "metadata": {},
     "output_type": "display_data"
    }
   ],
   "source": [
    "cumulativeRevenueA = cumulativeData[cumulativeData['group']=='A'][['date','revenue', 'orders']]\n",
    "\n",
    "cumulativeRevenueB = cumulativeData[cumulativeData['group']=='B'][['date','revenue', 'orders']]\n",
    "\n",
    "plt.plot(cumulativeRevenueA['date'], cumulativeRevenueA['revenue'], label='A')\n",
    "\n",
    "plt.plot(cumulativeRevenueB['date'], cumulativeRevenueB['revenue'], label='B')\n",
    "plt.title('Графики кумулятивной выручки по дням и группам A/B-тестирования')\n",
    "plt.xlabel('Дата', fontsize=12, color='blue')\n",
    "plt.ylabel('Кумулятивная выручка, руб.', fontsize=12, color='blue')\n",
    "plt.annotate('скачок', xy=('2019-08-17', 2800000), xytext=('2019-08-10', 3500000),\n",
    "            arrowprops=dict(facecolor='g'))\n",
    "plt.annotate('отрыв', xy=('2019-08-05', 800000), xytext=('2019-08-05', 2000000),\n",
    "            arrowprops=dict(facecolor='g'))\n",
    "plt.legend();"
   ]
  },
  {
   "cell_type": "markdown",
   "metadata": {},
   "source": [
    "__Вывод:__ Начиная со второй неделе кумулятивная выручка выше в тестовой группе. 19 августа заметен резкий рост выручки в тестовой группе, возможно обусловленный отдельными крупными сделками."
   ]
  },
  {
   "cell_type": "markdown",
   "metadata": {},
   "source": [
    "Графики среднего куммулятивного чека по группам:"
   ]
  },
  {
   "cell_type": "code",
   "execution_count": 22,
   "metadata": {},
   "outputs": [
    {
     "data": {
      "image/png": "[encoded data removed]",
      "text/plain": [
       "<Figure size 1152x576 with 1 Axes>"
      ]
     },
     "metadata": {},
     "output_type": "display_data"
    }
   ],
   "source": [
    "plt.plot(cumulativeRevenueA['date'], cumulativeRevenueA['revenue']/cumulativeRevenueA['orders'], label='A')\n",
    "plt.plot(cumulativeRevenueB['date'], cumulativeRevenueB['revenue']/cumulativeRevenueB['orders'], label='B')\n",
    "plt.title('Графики среднего чека по группам')\n",
    "plt.xlabel('Дата', fontsize=12, color='blue')\n",
    "plt.ylabel('Средний чек, руб.', fontsize=12, color='blue')\n",
    "plt.annotate('скачок', xy=('2019-08-17', 7500), xytext=('2019-08-13', 9000),\n",
    "            arrowprops=dict(facecolor='g'))\n",
    "plt.legend();"
   ]
  },
  {
   "cell_type": "markdown",
   "metadata": {},
   "source": [
    "__Вывод__: Средний куммулятивный чек в группах увеличивался в течение месяца, 19 августа в тестовой группе произошел двухкратный рост среднего чека, что коррелирует с данными роста выручки в этот день. В последующие дни куммулятивный средний чек в тестовой группе снижался, что может объясняться постепенным снижением влияния скачка 19 августа."
   ]
  },
  {
   "cell_type": "markdown",
   "metadata": {},
   "source": [
    "График относительного изменения кумулятивного среднего чека группы B к группе A:"
   ]
  },
  {
   "cell_type": "code",
   "execution_count": 23,
   "metadata": {},
   "outputs": [
    {
     "data": {
      "image/png": "[encoded data removed]",
      "text/plain": [
       "<Figure size 1152x576 with 1 Axes>"
      ]
     },
     "metadata": {},
     "output_type": "display_data"
    }
   ],
   "source": [
    "mergedCumulativeRevenue = cumulativeRevenueA.merge(cumulativeRevenueB, left_on='date', right_on='date', how='left', suffixes=['A', 'B'])\n",
    "\n",
    "plt.plot(\n",
    "    mergedCumulativeRevenue['date'],\n",
    "    (mergedCumulativeRevenue['revenueB']/mergedCumulativeRevenue['ordersB'])/(mergedCumulativeRevenue['revenueA']/mergedCumulativeRevenue['ordersA'])-1,\n",
    ")\n",
    "plt.title('Относительное изменение кумулятивного среднего чека группы B к группе A')\n",
    "plt.xlabel('Дата', fontsize=12, color='blue')\n",
    "plt.ylabel('Отношение средних чеков', fontsize=12, color='blue')\n",
    "plt.axhline(y=0, color='black', linestyle='--');"
   ]
  },
  {
   "cell_type": "markdown",
   "metadata": {},
   "source": [
    "__Вывод:__ Относительное изменение куммулятивного среднего чека неустойчиво, выводы делать преждевременно."
   ]
  },
  {
   "cell_type": "markdown",
   "metadata": {},
   "source": [
    "График кумулятивной конверсии по группам:"
   ]
  },
  {
   "cell_type": "code",
   "execution_count": 24,
   "metadata": {},
   "outputs": [
    {
     "data": {
      "image/png": "[encoded data removed]",
      "text/plain": [
       "<Figure size 1152x576 with 1 Axes>"
      ]
     },
     "metadata": {},
     "output_type": "display_data"
    }
   ],
   "source": [
    "# считаем кумулятивную конверсию\n",
    "cumulativeData['conversion'] = cumulativeData['orders']/cumulativeData['visitors']\n",
    "\n",
    "cumulativeDataA = cumulativeData[cumulativeData['group']=='A']\n",
    "cumulativeDataB = cumulativeData[cumulativeData['group']=='B']\n",
    "\n",
    "plt.plot(cumulativeDataA['date'], cumulativeDataA['conversion'], label='A')\n",
    "plt.plot(cumulativeDataB['date'], cumulativeDataB['conversion'], label='B')\n",
    "plt.legend()\n",
    "plt.title('График кумулятивной конверсии по группам')\n",
    "plt.xlabel('Дата', fontsize=12, color='blue')\n",
    "plt.ylabel('Конверсия, отн.ед.', fontsize=12, color='blue')\n",
    "plt.axis([\"2019-08-01\", '2019-08-31', 0.02, 0.04])\n",
    "plt.show;"
   ]
  },
  {
   "cell_type": "markdown",
   "metadata": {},
   "source": [
    "__Вывод:__ Кумулятивная конверсия тестовой группы стабильно выше чем в контрольной группе (+0,25 п.п.)"
   ]
  },
  {
   "cell_type": "markdown",
   "metadata": {},
   "source": [
    "График относительного изменения кумулятивной конверсии группы B к группе A:"
   ]
  },
  {
   "cell_type": "code",
   "execution_count": 25,
   "metadata": {},
   "outputs": [
    {
     "data": {
      "image/png": "[encoded data removed]",
      "text/plain": [
       "<Figure size 1152x576 with 1 Axes>"
      ]
     },
     "metadata": {},
     "output_type": "display_data"
    }
   ],
   "source": [
    "mergedCumulativeConversions = cumulativeDataA[['date','conversion']].merge(cumulativeDataB[['date','conversion']], left_on='date', right_on='date', how='left', suffixes=['A', 'B'])\n",
    "\n",
    "plt.plot(mergedCumulativeConversions['date'], mergedCumulativeConversions['conversionB']/mergedCumulativeConversions['conversionA']-1, label=\"Относительный прирост конверсии группы B относительно группы A\")\n",
    "plt.axhline(y=0, color='black', linestyle='--')\n",
    "plt.axhline(y=0.15, color='grey', linestyle='--', label=\"Линия стабилизации\")\n",
    "plt.axis(['2019-08-01', '2019-08-31', -0.3, 0.3])\n",
    "plt.title('График относительного изменения кумулятивной конверсии группы B к группе A')\n",
    "plt.xlabel('Дата', fontsize=12, color='blue')\n",
    "plt.ylabel('Отношение конверсии группы B к группе А, отн.ед.', fontsize=12, color='blue')\n",
    "plt.legend();"
   ]
  },
  {
   "cell_type": "markdown",
   "metadata": {},
   "source": [
    "__Выводы:__ Относительное изменение кумулятивной конверсии в течение 3-х последних недель стабилизировалось на уровне более 10%."
   ]
  },
  {
   "cell_type": "markdown",
   "metadata": {},
   "source": [
    "График количества заказов по пользователям:"
   ]
  },
  {
   "cell_type": "code",
   "execution_count": 26,
   "metadata": {},
   "outputs": [
    {
     "data": {
      "image/png": "[encoded data removed]",
      "text/plain": [
       "<Figure size 1152x576 with 1 Axes>"
      ]
     },
     "metadata": {},
     "output_type": "display_data"
    }
   ],
   "source": [
    "ordersByUsers = (\n",
    "    orders.groupby('visitorId', as_index=False)\n",
    "    .agg({'transactionId': pd.Series.nunique})\n",
    ")\n",
    "\n",
    "ordersByUsers.columns = ['visitorId', 'orders']\n",
    "\n",
    "x_values = pd.Series(range(0,len(ordersByUsers)))\n",
    "\n",
    "plt.scatter(x_values, ordersByUsers['orders'])\n",
    "plt.xlabel('Номер пользователя', fontsize=12, color='blue')\n",
    "plt.ylabel('Число заказов, шт.', fontsize=12, color='blue')\n",
    "plt.title('Диаграмма числа заказов на одного пользователя');\n"
   ]
  },
  {
   "cell_type": "markdown",
   "metadata": {},
   "source": [
    "__Вывод:__ Есть немногое количество пользователей с числом заказов от двух и более. Для определения количества аномальных пользователей необходимо произвести дополнительные расчеты."
   ]
  },
  {
   "cell_type": "markdown",
   "metadata": {},
   "source": [
    "Выборочные перцентили количества заказов на одного пользователя:"
   ]
  },
  {
   "cell_type": "code",
   "execution_count": 27,
   "metadata": {},
   "outputs": [
    {
     "name": "stdout",
     "output_type": "stream",
     "text": [
      "[2. 4.]\n"
     ]
    }
   ],
   "source": [
    "# Определим 95 и 99 перцентили в количестве заказов\n",
    "print(np.percentile(ordersByUsers['orders'], [95, 99]))"
   ]
  },
  {
   "cell_type": "markdown",
   "metadata": {},
   "source": [
    "Выберем границу для определения аномальных пользователей: пользователи более чем с 2-мя заказами."
   ]
  },
  {
   "cell_type": "markdown",
   "metadata": {},
   "source": [
    "График стоимостей заказов:"
   ]
  },
  {
   "cell_type": "code",
   "execution_count": 28,
   "metadata": {},
   "outputs": [
    {
     "data": {
      "image/png": "[encoded data removed]",
      "text/plain": [
       "<Figure size 1152x576 with 1 Axes>"
      ]
     },
     "metadata": {},
     "output_type": "display_data"
    }
   ],
   "source": [
    "x_values = pd.Series(range(0,len(orders['revenue'])))\n",
    "plt.scatter(x_values, orders['revenue'])\n",
    "plt.xlabel('Номер заказа', fontsize=12, color='blue')\n",
    "plt.ylabel('Стоимость заказа, руб.', fontsize=12, color='blue')\n",
    "plt.title('График стоимостей заказов');"
   ]
  },
  {
   "cell_type": "code",
   "execution_count": 29,
   "metadata": {},
   "outputs": [
    {
     "name": "stdout",
     "output_type": "stream",
     "text": [
      "[28000.  58233.2]\n"
     ]
    }
   ],
   "source": [
    "# Определим 95 и 99 перцентили в стоимости заказов\n",
    "print(np.percentile(orders['revenue'], [95, 99]))"
   ]
  },
  {
   "cell_type": "markdown",
   "metadata": {},
   "source": [
    "Выберем границу для определения аномальных заказов: заказы дороже 28000 рублей."
   ]
  },
  {
   "cell_type": "markdown",
   "metadata": {},
   "source": [
    "Определим статистическую значимость различий в конверсии между группами по «сырым» данным:"
   ]
  },
  {
   "cell_type": "code",
   "execution_count": 30,
   "metadata": {},
   "outputs": [
    {
     "data": {
      "text/html": [
       "<div>\n",
       "<style scoped>\n",
       "    .dataframe tbody tr th:only-of-type {\n",
       "        vertical-align: middle;\n",
       "    }\n",
       "\n",
       "    .dataframe tbody tr th {\n",
       "        vertical-align: top;\n",
       "    }\n",
       "\n",
       "    .dataframe thead th {\n",
       "        text-align: right;\n",
       "    }\n",
       "</style>\n",
       "<table border=\"1\" class=\"dataframe\">\n",
       "  <thead>\n",
       "    <tr style=\"text-align: right;\">\n",
       "      <th></th>\n",
       "      <th>date</th>\n",
       "      <th>ordersPerDateA</th>\n",
       "      <th>revenuePerDateA</th>\n",
       "      <th>ordersPerDateB</th>\n",
       "      <th>revenuePerDateB</th>\n",
       "      <th>ordersCummulativeA</th>\n",
       "      <th>revenueCummulativeA</th>\n",
       "      <th>ordersCummulativeB</th>\n",
       "      <th>revenueCummulativeB</th>\n",
       "      <th>visitorsPerDateA</th>\n",
       "      <th>visitorsPerDateB</th>\n",
       "      <th>visitorsCummulativeA</th>\n",
       "      <th>visitorsCummulativeB</th>\n",
       "    </tr>\n",
       "  </thead>\n",
       "  <tbody>\n",
       "    <tr>\n",
       "      <td>0</td>\n",
       "      <td>2019-08-01</td>\n",
       "      <td>24</td>\n",
       "      <td>148579</td>\n",
       "      <td>21</td>\n",
       "      <td>101217</td>\n",
       "      <td>24</td>\n",
       "      <td>148579</td>\n",
       "      <td>21</td>\n",
       "      <td>101217</td>\n",
       "      <td>719</td>\n",
       "      <td>713</td>\n",
       "      <td>719</td>\n",
       "      <td>713</td>\n",
       "    </tr>\n",
       "    <tr>\n",
       "      <td>1</td>\n",
       "      <td>2019-08-02</td>\n",
       "      <td>20</td>\n",
       "      <td>93822</td>\n",
       "      <td>24</td>\n",
       "      <td>165531</td>\n",
       "      <td>44</td>\n",
       "      <td>242401</td>\n",
       "      <td>45</td>\n",
       "      <td>266748</td>\n",
       "      <td>619</td>\n",
       "      <td>581</td>\n",
       "      <td>1338</td>\n",
       "      <td>1294</td>\n",
       "    </tr>\n",
       "    <tr>\n",
       "      <td>2</td>\n",
       "      <td>2019-08-03</td>\n",
       "      <td>24</td>\n",
       "      <td>112473</td>\n",
       "      <td>16</td>\n",
       "      <td>114248</td>\n",
       "      <td>68</td>\n",
       "      <td>354874</td>\n",
       "      <td>61</td>\n",
       "      <td>380996</td>\n",
       "      <td>507</td>\n",
       "      <td>509</td>\n",
       "      <td>1845</td>\n",
       "      <td>1803</td>\n",
       "    </tr>\n",
       "    <tr>\n",
       "      <td>3</td>\n",
       "      <td>2019-08-04</td>\n",
       "      <td>16</td>\n",
       "      <td>70825</td>\n",
       "      <td>17</td>\n",
       "      <td>108571</td>\n",
       "      <td>84</td>\n",
       "      <td>425699</td>\n",
       "      <td>78</td>\n",
       "      <td>489567</td>\n",
       "      <td>717</td>\n",
       "      <td>770</td>\n",
       "      <td>2562</td>\n",
       "      <td>2573</td>\n",
       "    </tr>\n",
       "    <tr>\n",
       "      <td>4</td>\n",
       "      <td>2019-08-05</td>\n",
       "      <td>25</td>\n",
       "      <td>124218</td>\n",
       "      <td>23</td>\n",
       "      <td>92428</td>\n",
       "      <td>109</td>\n",
       "      <td>549917</td>\n",
       "      <td>101</td>\n",
       "      <td>581995</td>\n",
       "      <td>756</td>\n",
       "      <td>707</td>\n",
       "      <td>3318</td>\n",
       "      <td>3280</td>\n",
       "    </tr>\n",
       "  </tbody>\n",
       "</table>\n",
       "</div>"
      ],
      "text/plain": [
       "        date  ordersPerDateA  revenuePerDateA  ordersPerDateB  \\\n",
       "0 2019-08-01              24           148579              21   \n",
       "1 2019-08-02              20            93822              24   \n",
       "2 2019-08-03              24           112473              16   \n",
       "3 2019-08-04              16            70825              17   \n",
       "4 2019-08-05              25           124218              23   \n",
       "\n",
       "   revenuePerDateB  ordersCummulativeA  revenueCummulativeA  \\\n",
       "0           101217                  24               148579   \n",
       "1           165531                  44               242401   \n",
       "2           114248                  68               354874   \n",
       "3           108571                  84               425699   \n",
       "4            92428                 109               549917   \n",
       "\n",
       "   ordersCummulativeB  revenueCummulativeB  visitorsPerDateA  \\\n",
       "0                  21               101217               719   \n",
       "1                  45               266748               619   \n",
       "2                  61               380996               507   \n",
       "3                  78               489567               717   \n",
       "4                 101               581995               756   \n",
       "\n",
       "   visitorsPerDateB  visitorsCummulativeA  visitorsCummulativeB  \n",
       "0               713                   719                   713  \n",
       "1               581                  1338                  1294  \n",
       "2               509                  1845                  1803  \n",
       "3               770                  2562                  2573  \n",
       "4               707                  3318                  3280  "
      ]
     },
     "execution_count": 30,
     "metadata": {},
     "output_type": "execute_result"
    }
   ],
   "source": [
    "visitorsADaily = visitors[visitors['group'] == 'A'][['date', 'visitors']]\n",
    "visitorsADaily.columns = ['date', 'visitorsPerDateA']\n",
    "\n",
    "visitorsACummulative = visitorsADaily.apply(\n",
    "    lambda x: visitorsADaily[visitorsADaily['date'] <= x['date']].agg(\n",
    "        {'date': 'max', 'visitorsPerDateA': 'sum'}\n",
    "    ),\n",
    "    axis=1,\n",
    ")\n",
    "visitorsACummulative.columns = ['date', 'visitorsCummulativeA']\n",
    "\n",
    "visitorsBDaily = visitors[visitors['group'] == 'B'][['date', 'visitors']]\n",
    "visitorsBDaily.columns = ['date', 'visitorsPerDateB']\n",
    "\n",
    "visitorsBCummulative = visitorsBDaily.apply(\n",
    "    lambda x: visitorsBDaily[visitorsBDaily['date'] <= x['date']].agg(\n",
    "        {'date': 'max', 'visitorsPerDateB': 'sum'}\n",
    "    ),\n",
    "    axis=1,\n",
    ")\n",
    "visitorsBCummulative.columns = ['date', 'visitorsCummulativeB']\n",
    "\n",
    "ordersADaily = (\n",
    "    orders[orders['group'] == 'A'][['date', 'transactionId', 'visitorId', 'revenue']]\n",
    "    .groupby('date', as_index=False)\n",
    "    .agg({'transactionId': pd.Series.nunique, 'revenue': 'sum'})\n",
    ")\n",
    "ordersADaily.columns = ['date', 'ordersPerDateA', 'revenuePerDateA']\n",
    "\n",
    "ordersACummulative = ordersADaily.apply(\n",
    "    lambda x: ordersADaily[ordersADaily['date'] <= x['date']].agg(\n",
    "        {'date': 'max', 'ordersPerDateA': 'sum', 'revenuePerDateA': 'sum'}\n",
    "    ),\n",
    "    axis=1,\n",
    ").sort_values(by=['date'])\n",
    "ordersACummulative.columns = [\n",
    "    'date',\n",
    "    'ordersCummulativeA',\n",
    "    'revenueCummulativeA',\n",
    "]\n",
    "\n",
    "ordersBDaily = (\n",
    "    orders[orders['group'] == 'B'][['date', 'transactionId', 'visitorId', 'revenue']]\n",
    "    .groupby('date', as_index=False)\n",
    "    .agg({'transactionId': pd.Series.nunique, 'revenue': 'sum'})\n",
    ")\n",
    "ordersBDaily.columns = ['date', 'ordersPerDateB', 'revenuePerDateB']\n",
    "\n",
    "ordersBCummulative = ordersBDaily.apply(\n",
    "    lambda x: ordersBDaily[ordersBDaily['date'] <= x['date']].agg(\n",
    "        {'date': 'max', 'ordersPerDateB': 'sum', 'revenuePerDateB': 'sum'}\n",
    "    ),\n",
    "    axis=1,\n",
    ").sort_values(by=['date'])\n",
    "ordersBCummulative.columns = [\n",
    "    'date',\n",
    "    'ordersCummulativeB',\n",
    "    'revenueCummulativeB',\n",
    "]\n",
    "\n",
    "data = (\n",
    "    ordersADaily.merge(\n",
    "        ordersBDaily, left_on='date', right_on='date', how='left'\n",
    "    )\n",
    "    .merge(ordersACummulative, left_on='date', right_on='date', how='left')\n",
    "    .merge(ordersBCummulative, left_on='date', right_on='date', how='left')\n",
    "    .merge(visitorsADaily, left_on='date', right_on='date', how='left')\n",
    "    .merge(visitorsBDaily, left_on='date', right_on='date', how='left')\n",
    "    .merge(visitorsACummulative, left_on='date', right_on='date', how='left')\n",
    "    .merge(visitorsBCummulative, left_on='date', right_on='date', how='left')\n",
    ")\n",
    "\n",
    "data.head()"
   ]
  },
  {
   "cell_type": "code",
   "execution_count": 31,
   "metadata": {},
   "outputs": [],
   "source": [
    "ordersByUsersA = (\n",
    "    orders[orders['group'] == 'A']\n",
    "    .groupby('visitorId', as_index=False)\n",
    "    .agg({'transactionId': pd.Series.nunique})\n",
    ")\n",
    "ordersByUsersA.columns = ['visitorId', 'orders']\n",
    "\n",
    "ordersByUsersB = (\n",
    "    orders[orders['group'] == 'B']\n",
    "    .groupby('visitorId', as_index=False)\n",
    "    .agg({'transactionId': pd.Series.nunique})\n",
    ")\n",
    "ordersByUsersB.columns = ['visitorId', 'orders']"
   ]
  },
  {
   "cell_type": "markdown",
   "metadata": {},
   "source": [
    "Проверим гипотезы на \"сырых данных\":\n",
    "\n",
    "1. Нулевая гипотеза: конверсии в тестовой (В) и контрольной (А) группах равны.\n",
    "2. Альтенативная гипотеза: конверсии в тестовой (В) и контрольной группах (А) не равны."
   ]
  },
  {
   "cell_type": "code",
   "execution_count": 32,
   "metadata": {},
   "outputs": [
    {
     "name": "stdout",
     "output_type": "stream",
     "text": [
      "0.017\n",
      "0.138\n"
     ]
    }
   ],
   "source": [
    "ordersByUsersA = (\n",
    "    orders[orders['group'] == 'A']\n",
    "    .groupby('visitorId', as_index=False)\n",
    "    .agg({'transactionId': pd.Series.nunique})\n",
    ")\n",
    "ordersByUsersA.columns = ['visitorId', 'orders']\n",
    "\n",
    "ordersByUsersB = (\n",
    "    orders[orders['group'] == 'B']\n",
    "    .groupby('visitorId', as_index=False)\n",
    "    .agg({'transactionId': pd.Series.nunique})\n",
    ")\n",
    "ordersByUsersB.columns = ['visitorId', 'orders']\n",
    "\n",
    "sampleA = pd.concat(\n",
    "    [\n",
    "        ordersByUsersA['orders'],\n",
    "        pd.Series(\n",
    "            0,\n",
    "            index=np.arange(\n",
    "                data['visitorsPerDateA'].sum() - len(ordersByUsersA['orders'])\n",
    "            ),\n",
    "            name='orders',\n",
    "        ),\n",
    "    ],\n",
    "    axis=0,\n",
    ")\n",
    "\n",
    "sampleB = pd.concat(\n",
    "    [\n",
    "        ordersByUsersB['orders'],\n",
    "        pd.Series(\n",
    "            0,\n",
    "            index=np.arange(\n",
    "                data['visitorsPerDateB'].sum() - len(ordersByUsersB['orders'])\n",
    "            ),\n",
    "            name='orders',\n",
    "        ),\n",
    "    ],\n",
    "    axis=0,\n",
    ")\n",
    "\n",
    "print(\"{0:.3f}\".format(stats.mannwhitneyu(sampleA, sampleB, alternative = 'two-sided')[1]))\n",
    "\n",
    "print(\"{0:.3f}\".format(sampleB.mean() / sampleA.mean() - 1))\n"
   ]
  },
  {
   "cell_type": "markdown",
   "metadata": {},
   "source": [
    "__Вывод:__ Прирост конверсии тестовой группы составил по сырым данным 13,8%, статистическая значимость менее 5% что позволяет отвергнуть нулевую гипотезу о равенстве конверсий."
   ]
  },
  {
   "cell_type": "markdown",
   "metadata": {},
   "source": [
    "Рассчитаем статистическую значимость различий в среднем чеке заказа между группами по «сырым» данным:\n",
    "\n",
    "1. Нулевая гипотеза: размер среднего чека в тестовой (В) и контрольной (А) группах одинаков.\n",
    "2. Альтенативная гипотеза: размер среднего чека в тестовой (В) и контрольной группах (А) не одинаков."
   ]
  },
  {
   "cell_type": "code",
   "execution_count": 33,
   "metadata": {},
   "outputs": [
    {
     "name": "stdout",
     "output_type": "stream",
     "text": [
      "0.729\n",
      "0.259\n"
     ]
    }
   ],
   "source": [
    "print('{0:.3f}'.format(stats.mannwhitneyu(orders[orders['group']=='A']['revenue'], orders[orders['group']=='B']['revenue'], alternative = 'two-sided')[1]))\n",
    "print('{0:.3f}'.format(orders[orders['group']=='B']['revenue'].mean()/orders[orders['group']=='A']['revenue'].mean()-1))"
   ]
  },
  {
   "cell_type": "markdown",
   "metadata": {},
   "source": [
    "__Вывод:__ Статистическая значимость значительно больше 5% что позволяет считать отсутствующими статистически значимых различий в среднем чеке заказа между группами."
   ]
  },
  {
   "cell_type": "markdown",
   "metadata": {},
   "source": [
    "Рассчитайтаем статистическую значимость различий в конверсии между группами по «очищенным» данным. Примем за аномальных пользователей тех, кто совершил от 3 заказов или совершил заказ дороже 28000 рублей:\n",
    "\n",
    "1. Нулевая гипотеза: конверсии в тестовой (В) и контрольной (А) группах равны.\n",
    "2. Альтенативная гипотеза: конверсии в тестовой (В) и контрольной группах (А) не равны."
   ]
  },
  {
   "cell_type": "code",
   "execution_count": 34,
   "metadata": {},
   "outputs": [
    {
     "name": "stdout",
     "output_type": "stream",
     "text": [
      "1099    148427295\n",
      "18      199603092\n",
      "928     204675465\n",
      "23      237748145\n",
      "37      249864742\n",
      "Name: visitorId, dtype: int64\n",
      "(74,)\n"
     ]
    }
   ],
   "source": [
    "# расчет количества аномальных пользователей\n",
    "usersWithManyOrders = pd.concat(\n",
    "    [\n",
    "        ordersByUsersA[ordersByUsersA['orders'] > 2]['visitorId'],\n",
    "        ordersByUsersB[ordersByUsersB['orders'] > 2]['visitorId'],\n",
    "    ],\n",
    "    axis=0,\n",
    ")\n",
    "usersWithExpensiveOrders = orders[orders['revenue'] > 28000]['visitorId']\n",
    "abnormalUsers = (\n",
    "    pd.concat([usersWithManyOrders, usersWithExpensiveOrders], axis=0)\n",
    "    .drop_duplicates()\n",
    "    .sort_values()\n",
    ")\n",
    "print(abnormalUsers.head())\n",
    "print(abnormalUsers.shape)"
   ]
  },
  {
   "cell_type": "markdown",
   "metadata": {},
   "source": [
    "__Вывод:__ Количество аномальных пользователей - 74 чел."
   ]
  },
  {
   "cell_type": "code",
   "execution_count": 35,
   "metadata": {},
   "outputs": [],
   "source": [
    "# выборки количества заказов по пользователям по группам теста\n",
    "sampleAFiltered = pd.concat(\n",
    "    [\n",
    "        ordersByUsersA[\n",
    "            np.logical_not(ordersByUsersA['visitorId'].isin(abnormalUsers))\n",
    "        ]['orders'],\n",
    "        pd.Series(\n",
    "            0,\n",
    "            index=np.arange(\n",
    "                data['visitorsPerDateA'].sum() - len(ordersByUsersA['orders'])\n",
    "            ),\n",
    "            name='orders',\n",
    "        ),\n",
    "    ],\n",
    "    axis=0,\n",
    ")\n",
    "\n",
    "sampleBFiltered = pd.concat(\n",
    "    [\n",
    "        ordersByUsersB[\n",
    "            np.logical_not(ordersByUsersB['visitorId'].isin(abnormalUsers))\n",
    "        ]['orders'],\n",
    "        pd.Series(\n",
    "            0,\n",
    "            index=np.arange(\n",
    "                data['visitorsPerDateB'].sum() - len(ordersByUsersB['orders'])\n",
    "            ),\n",
    "            name='orders',\n",
    "        ),\n",
    "    ],\n",
    "    axis=0,\n",
    ")"
   ]
  },
  {
   "cell_type": "code",
   "execution_count": 36,
   "metadata": {},
   "outputs": [
    {
     "name": "stdout",
     "output_type": "stream",
     "text": [
      "0.013\n",
      "0.173\n"
     ]
    }
   ],
   "source": [
    "# статистический критерий Манна-Уитни к полученным выборкам\n",
    "print('{0:.3f}'.format(stats.mannwhitneyu(sampleAFiltered, sampleBFiltered, alternative = 'two-sided')[1]))\n",
    "print('{0:.3f}'.format(sampleBFiltered.mean()/sampleAFiltered.mean()-1))"
   ]
  },
  {
   "cell_type": "markdown",
   "metadata": {},
   "source": [
    "__Вывод:__ Прирост конверсии тестовой группы составил по \"очищенным\" данным увеличился до 17,3%, статистическая значимость менее 5% что также позволяет отвергнуть нулевую гипотезу о равенстве конверсий."
   ]
  },
  {
   "cell_type": "markdown",
   "metadata": {},
   "source": [
    "Рассчитаем статистическую значимость различий в среднем чеке заказа между группами по «очищенным» данным:\n",
    "\n",
    "1. Нулевая гипотеза: размер среднего чека в тестовой (В) и контрольной (А) группах одинаков.\n",
    "2. Альтенативная гипотеза: размер среднего чека в тестовой (В) и контрольной группах (А) не одинаков."
   ]
  },
  {
   "cell_type": "code",
   "execution_count": 37,
   "metadata": {},
   "outputs": [
    {
     "name": "stdout",
     "output_type": "stream",
     "text": [
      "0.738\n",
      "-0.020\n"
     ]
    }
   ],
   "source": [
    "print(\n",
    "    '{0:.3f}'.format(\n",
    "        stats.mannwhitneyu(\n",
    "            orders[\n",
    "                np.logical_and(\n",
    "                    orders['group'] == 'A',\n",
    "                    np.logical_not(orders['visitorId'].isin(abnormalUsers)),\n",
    "                )\n",
    "            ]['revenue'],\n",
    "            orders[\n",
    "                np.logical_and(\n",
    "                    orders['group'] == 'B',\n",
    "                    np.logical_not(orders['visitorId'].isin(abnormalUsers)),\n",
    "                )\n",
    "            ]['revenue'],\n",
    "            alternative = 'two-sided'\n",
    "        )[1]\n",
    "    )\n",
    ")\n",
    "\n",
    "print(\n",
    "    \"{0:.3f}\".format(\n",
    "        orders[\n",
    "            np.logical_and(\n",
    "                orders['group'] == 'B',\n",
    "                np.logical_not(orders['visitorId'].isin(abnormalUsers)),\n",
    "            )\n",
    "        ]['revenue'].mean()\n",
    "        / orders[\n",
    "            np.logical_and(\n",
    "                orders['group'] == 'A',\n",
    "                np.logical_not(orders['visitorId'].isin(abnormalUsers)),\n",
    "            )\n",
    "        ]['revenue'].mean()\n",
    "        - 1\n",
    "    )\n",
    ")"
   ]
  },
  {
   "cell_type": "markdown",
   "metadata": {},
   "source": [
    "__Вывод:__ Статистическая значимость много больше 5%, что не позволяет отвергнуть нулевую гипотезу о равенстве средних чектов."
   ]
  },
  {
   "cell_type": "markdown",
   "metadata": {},
   "source": [
    "<a id='id_3'></a>\n",
    "## Выводы и рекомендации"
   ]
  },
  {
   "cell_type": "markdown",
   "metadata": {},
   "source": [
    "__Предобработка данных:__\n",
    "\n",
    "Предобработка данных показала, что в данных о заказах нет пропусков и полных дубликатов.  В данных о пользователях также нет пропусков и полных дубликатов. В ходе предобработке были проверены и стандартизированы форматы данных - использован стандартный формат даты.\n",
    "\n",
    "__Анализ данных:__\n",
    "\n",
    "Анализ данных показал, что представлены данные за период с 01 по 31 августа 2019 года. Обнаружено 58 пользователей присутствующих одновременно в тестовой и контрольной группах. Проверка показала, что в данных ежедневно присутствуют пользователи обеих групп.\n",
    "\n",
    "\n",
    "__Анализ A/B-теста:__\n",
    "\n",
    "Анализ данных A/B-теста показал, что:\n",
    "\n",
    "- Кумулятивная выручка в тестовой группе выше чем в контрольной, начиная со второй недели.\n",
    "- 19 августа заметен резкий рост выручки в тестовой группе, возможно обусловленный отдельными крупными сделками.\n",
    "- Средний куммулятивный чек в группах увеличивался в течение месяца, 19 августа в тестовой группе произошел двухкратный рост среднего чека, что коррелирует с данными роста выручки в этот день. В последующие дни куммулятивный средний чек в тестовой группе снижался, что может объясняться постепенным снижением влияния скачка 19 августа.\n",
    "- Относительное изменение куммулятивного среднего чека неустойчиво, выводы делать преждевременно.\n",
    "- Кумулятивная конверсия тестовой группы стабильно выше чем в контрольной группе (+0,25 п.п.).\n",
    "- Относительное изменение кумулятивной конверсии в течение 3-х последних недель стабилизировалось на уровне более 10%.\n",
    "- Граница аномальных пользователей определена на уровне количества заказов более 2-х и стоимости заказа свыше 28000 руб.\n",
    "- Обнаружены статистически значимые выводы об увеличении конверсии на 17% в тестовой группе по \"очищенным\" данным.\n",
    "- Не обнаружены статистически значимые выводы об изменении среднего чека в тестовой группе о \"очищенным\" данным.\n",
    "- Можно сделать выводы об увеличении кумулятивной выручки в тестовой группе за счет увеличения конверсии, при отсутствии статистически значимых изменений в среднем чеке.\n",
    "\n",
    "__Рекомендации:__\n",
    "\n",
    "Остановить тест, зафиксировать победу тестовой группы B. "
   ]
  }
 ],
 "metadata": {
  "ExecuteTimeLog": [
   {
    "duration": 4,
    "start_time": "2022-02-05T14:52:40.799Z"
   },
   {
    "duration": 310,
    "start_time": "2022-02-05T14:56:03.853Z"
   },
   {
    "duration": 271,
    "start_time": "2022-02-05T14:56:27.353Z"
   },
   {
    "duration": 613,
    "start_time": "2022-02-05T14:56:34.840Z"
   },
   {
    "duration": 6,
    "start_time": "2022-02-05T14:56:37.767Z"
   },
   {
    "duration": 312,
    "start_time": "2022-02-05T15:00:02.565Z"
   },
   {
    "duration": 284,
    "start_time": "2022-02-05T15:00:20.621Z"
   },
   {
    "duration": 30,
    "start_time": "2022-02-05T15:00:35.925Z"
   },
   {
    "duration": 6973,
    "start_time": "2022-02-05T15:02:19.402Z"
   },
   {
    "duration": 260,
    "start_time": "2022-02-05T15:05:42.248Z"
   },
   {
    "duration": 4,
    "start_time": "2022-02-05T15:05:54.999Z"
   },
   {
    "duration": 9,
    "start_time": "2022-02-05T15:06:02.853Z"
   },
   {
    "duration": 11,
    "start_time": "2022-02-05T15:07:50.398Z"
   },
   {
    "duration": 10,
    "start_time": "2022-02-05T15:08:38.216Z"
   },
   {
    "duration": 87,
    "start_time": "2022-02-05T15:09:02.025Z"
   },
   {
    "duration": 87,
    "start_time": "2022-02-05T15:09:10.345Z"
   },
   {
    "duration": 10,
    "start_time": "2022-02-05T15:09:17.081Z"
   },
   {
    "duration": 702,
    "start_time": "2022-02-05T15:10:02.388Z"
   },
   {
    "duration": 4,
    "start_time": "2022-02-05T15:10:03.162Z"
   },
   {
    "duration": 13,
    "start_time": "2022-02-05T15:10:03.266Z"
   },
   {
    "duration": 23,
    "start_time": "2022-02-05T15:10:29.215Z"
   },
   {
    "duration": 4,
    "start_time": "2022-02-05T15:10:32.841Z"
   },
   {
    "duration": 12,
    "start_time": "2022-02-05T15:10:33.318Z"
   },
   {
    "duration": 96,
    "start_time": "2022-02-05T15:11:25.568Z"
   },
   {
    "duration": 10,
    "start_time": "2022-02-05T15:11:30.999Z"
   },
   {
    "duration": 86,
    "start_time": "2022-02-05T15:11:42.232Z"
   },
   {
    "duration": 11,
    "start_time": "2022-02-05T15:11:48.248Z"
   },
   {
    "duration": 13,
    "start_time": "2022-02-05T15:12:01.424Z"
   },
   {
    "duration": 11,
    "start_time": "2022-02-05T15:13:26.683Z"
   },
   {
    "duration": 11,
    "start_time": "2022-02-05T15:13:40.484Z"
   },
   {
    "duration": 12,
    "start_time": "2022-02-05T15:15:19.408Z"
   },
   {
    "duration": 12,
    "start_time": "2022-02-05T15:15:21.541Z"
   },
   {
    "duration": 397,
    "start_time": "2022-02-05T15:19:48.667Z"
   },
   {
    "duration": 23,
    "start_time": "2022-02-05T15:20:05.533Z"
   },
   {
    "duration": 3,
    "start_time": "2022-02-05T15:20:07.444Z"
   },
   {
    "duration": 12,
    "start_time": "2022-02-05T15:20:08.204Z"
   },
   {
    "duration": 12,
    "start_time": "2022-02-05T15:20:08.867Z"
   },
   {
    "duration": 86,
    "start_time": "2022-02-05T15:21:35.917Z"
   },
   {
    "duration": 8,
    "start_time": "2022-02-05T15:22:22.126Z"
   },
   {
    "duration": 6,
    "start_time": "2022-02-05T15:22:38.198Z"
   },
   {
    "duration": 6,
    "start_time": "2022-02-05T15:24:23.450Z"
   },
   {
    "duration": 10,
    "start_time": "2022-02-05T15:26:54.300Z"
   },
   {
    "duration": 8,
    "start_time": "2022-02-05T15:27:16.766Z"
   },
   {
    "duration": 356,
    "start_time": "2022-02-05T15:27:59.510Z"
   },
   {
    "duration": 280,
    "start_time": "2022-02-05T15:28:37.375Z"
   },
   {
    "duration": 12,
    "start_time": "2022-02-05T15:29:00.191Z"
   },
   {
    "duration": 13,
    "start_time": "2022-02-05T15:29:40.825Z"
   },
   {
    "duration": 13,
    "start_time": "2022-02-05T15:30:37.523Z"
   },
   {
    "duration": 14,
    "start_time": "2022-02-05T15:30:58.283Z"
   },
   {
    "duration": 8,
    "start_time": "2022-02-05T15:31:27.116Z"
   },
   {
    "duration": 15,
    "start_time": "2022-02-05T15:31:45.997Z"
   },
   {
    "duration": 8,
    "start_time": "2022-02-05T15:35:09.959Z"
   },
   {
    "duration": 7,
    "start_time": "2022-02-05T15:35:34.888Z"
   },
   {
    "duration": 14,
    "start_time": "2022-02-05T15:40:06.931Z"
   },
   {
    "duration": 10,
    "start_time": "2022-02-05T15:40:22.246Z"
   },
   {
    "duration": 7,
    "start_time": "2022-02-05T15:40:40.058Z"
   },
   {
    "duration": 8,
    "start_time": "2022-02-05T15:40:56.159Z"
   },
   {
    "duration": 1199,
    "start_time": "2022-02-05T15:41:44.168Z"
   },
   {
    "duration": 5,
    "start_time": "2022-02-05T15:42:14.049Z"
   },
   {
    "duration": 8,
    "start_time": "2022-02-05T15:42:38.577Z"
   },
   {
    "duration": 8,
    "start_time": "2022-02-05T15:42:44.956Z"
   },
   {
    "duration": 3,
    "start_time": "2022-02-05T15:45:34.043Z"
   },
   {
    "duration": 62,
    "start_time": "2022-02-05T15:46:09.877Z"
   },
   {
    "duration": 2,
    "start_time": "2022-02-05T15:47:19.838Z"
   },
   {
    "duration": 6,
    "start_time": "2022-02-05T15:48:26.583Z"
   },
   {
    "duration": 6,
    "start_time": "2022-02-05T15:48:38.103Z"
   },
   {
    "duration": 7,
    "start_time": "2022-02-05T15:48:59.999Z"
   },
   {
    "duration": 7,
    "start_time": "2022-02-05T15:49:11.337Z"
   },
   {
    "duration": 5,
    "start_time": "2022-02-05T15:50:20.857Z"
   },
   {
    "duration": 11,
    "start_time": "2022-02-05T15:53:52.382Z"
   },
   {
    "duration": 1151,
    "start_time": "2022-02-05T15:54:24.545Z"
   },
   {
    "duration": 12,
    "start_time": "2022-02-05T15:55:45.329Z"
   },
   {
    "duration": 282,
    "start_time": "2022-02-05T15:57:05.097Z"
   },
   {
    "duration": 284,
    "start_time": "2022-02-05T15:57:09.168Z"
   },
   {
    "duration": 8,
    "start_time": "2022-02-05T15:57:23.569Z"
   },
   {
    "duration": 6,
    "start_time": "2022-02-05T15:58:26.274Z"
   },
   {
    "duration": 12,
    "start_time": "2022-02-05T16:00:20.325Z"
   },
   {
    "duration": 6,
    "start_time": "2022-02-05T16:00:31.484Z"
   },
   {
    "duration": 8,
    "start_time": "2022-02-05T16:02:57.911Z"
   },
   {
    "duration": 6,
    "start_time": "2022-02-05T16:03:07.152Z"
   },
   {
    "duration": 9,
    "start_time": "2022-02-05T16:03:28.953Z"
   },
   {
    "duration": 6,
    "start_time": "2022-02-05T16:03:43.025Z"
   },
   {
    "duration": 340,
    "start_time": "2022-02-06T03:50:44.184Z"
   },
   {
    "duration": 1145,
    "start_time": "2022-02-06T03:51:02.609Z"
   },
   {
    "duration": 39,
    "start_time": "2022-02-06T03:51:03.756Z"
   },
   {
    "duration": 5,
    "start_time": "2022-02-06T03:51:05.036Z"
   },
   {
    "duration": 21,
    "start_time": "2022-02-06T03:51:07.092Z"
   },
   {
    "duration": 16,
    "start_time": "2022-02-06T03:51:07.763Z"
   },
   {
    "duration": 60,
    "start_time": "2022-02-06T03:51:10.405Z"
   },
   {
    "duration": 11,
    "start_time": "2022-02-06T03:51:11.716Z"
   },
   {
    "duration": 12,
    "start_time": "2022-02-06T03:51:12.229Z"
   },
   {
    "duration": 19,
    "start_time": "2022-02-06T03:51:13.667Z"
   },
   {
    "duration": 10,
    "start_time": "2022-02-06T03:51:14.501Z"
   },
   {
    "duration": 11,
    "start_time": "2022-02-06T03:51:15.116Z"
   },
   {
    "duration": 5,
    "start_time": "2022-02-06T03:51:15.804Z"
   },
   {
    "duration": 8,
    "start_time": "2022-02-06T03:51:17.492Z"
   },
   {
    "duration": 15,
    "start_time": "2022-02-06T03:51:18.524Z"
   },
   {
    "duration": 7,
    "start_time": "2022-02-06T03:51:19.324Z"
   },
   {
    "duration": 8,
    "start_time": "2022-02-06T03:51:20.101Z"
   },
   {
    "duration": 7,
    "start_time": "2022-02-06T03:51:20.708Z"
   },
   {
    "duration": 20,
    "start_time": "2022-02-06T03:51:52.640Z"
   },
   {
    "duration": 26,
    "start_time": "2022-02-06T03:51:59.533Z"
   },
   {
    "duration": 1087,
    "start_time": "2022-02-06T03:52:16.879Z"
   },
   {
    "duration": 37,
    "start_time": "2022-02-06T03:52:17.968Z"
   },
   {
    "duration": 4,
    "start_time": "2022-02-06T03:52:18.008Z"
   },
   {
    "duration": 18,
    "start_time": "2022-02-06T03:52:18.015Z"
   },
   {
    "duration": 16,
    "start_time": "2022-02-06T03:52:18.047Z"
   },
   {
    "duration": 57,
    "start_time": "2022-02-06T03:52:18.065Z"
   },
   {
    "duration": 10,
    "start_time": "2022-02-06T03:52:18.125Z"
   },
   {
    "duration": 13,
    "start_time": "2022-02-06T03:52:18.138Z"
   },
   {
    "duration": 17,
    "start_time": "2022-02-06T03:52:18.155Z"
   },
   {
    "duration": 11,
    "start_time": "2022-02-06T03:52:18.175Z"
   },
   {
    "duration": 10,
    "start_time": "2022-02-06T03:52:18.188Z"
   },
   {
    "duration": 5,
    "start_time": "2022-02-06T03:52:18.200Z"
   },
   {
    "duration": 45,
    "start_time": "2022-02-06T03:52:18.207Z"
   },
   {
    "duration": 15,
    "start_time": "2022-02-06T03:52:18.255Z"
   },
   {
    "duration": 8,
    "start_time": "2022-02-06T03:52:18.272Z"
   },
   {
    "duration": 9,
    "start_time": "2022-02-06T03:52:18.282Z"
   },
   {
    "duration": 11,
    "start_time": "2022-02-06T03:52:18.293Z"
   },
   {
    "duration": 1143,
    "start_time": "2022-02-06T03:52:38.805Z"
   },
   {
    "duration": 36,
    "start_time": "2022-02-06T03:52:39.951Z"
   },
   {
    "duration": 4,
    "start_time": "2022-02-06T03:52:39.991Z"
   },
   {
    "duration": 28,
    "start_time": "2022-02-06T03:52:39.998Z"
   },
   {
    "duration": 24,
    "start_time": "2022-02-06T03:52:40.028Z"
   },
   {
    "duration": 56,
    "start_time": "2022-02-06T03:52:40.055Z"
   },
   {
    "duration": 11,
    "start_time": "2022-02-06T03:52:40.114Z"
   },
   {
    "duration": 12,
    "start_time": "2022-02-06T03:52:40.129Z"
   },
   {
    "duration": 19,
    "start_time": "2022-02-06T03:52:40.144Z"
   },
   {
    "duration": 11,
    "start_time": "2022-02-06T03:52:40.165Z"
   },
   {
    "duration": 10,
    "start_time": "2022-02-06T03:52:40.178Z"
   },
   {
    "duration": 5,
    "start_time": "2022-02-06T03:52:40.191Z"
   },
   {
    "duration": 10,
    "start_time": "2022-02-06T03:52:40.198Z"
   },
   {
    "duration": 15,
    "start_time": "2022-02-06T03:52:40.249Z"
   },
   {
    "duration": 7,
    "start_time": "2022-02-06T03:52:40.267Z"
   },
   {
    "duration": 8,
    "start_time": "2022-02-06T03:52:40.277Z"
   },
   {
    "duration": 12,
    "start_time": "2022-02-06T03:52:40.287Z"
   },
   {
    "duration": 1202,
    "start_time": "2022-02-06T08:01:56.145Z"
   },
   {
    "duration": 51,
    "start_time": "2022-02-06T08:01:57.351Z"
   },
   {
    "duration": 5,
    "start_time": "2022-02-06T08:01:57.406Z"
   },
   {
    "duration": 17,
    "start_time": "2022-02-06T08:01:57.414Z"
   },
   {
    "duration": 16,
    "start_time": "2022-02-06T08:01:57.448Z"
   },
   {
    "duration": 58,
    "start_time": "2022-02-06T08:01:57.467Z"
   },
   {
    "duration": 11,
    "start_time": "2022-02-06T08:01:57.527Z"
   },
   {
    "duration": 12,
    "start_time": "2022-02-06T08:01:57.541Z"
   },
   {
    "duration": 18,
    "start_time": "2022-02-06T08:01:57.555Z"
   },
   {
    "duration": 12,
    "start_time": "2022-02-06T08:01:57.576Z"
   },
   {
    "duration": 14,
    "start_time": "2022-02-06T08:01:57.590Z"
   },
   {
    "duration": 22,
    "start_time": "2022-02-06T08:01:57.606Z"
   },
   {
    "duration": 24,
    "start_time": "2022-02-06T08:01:57.630Z"
   },
   {
    "duration": 19,
    "start_time": "2022-02-06T08:01:57.656Z"
   },
   {
    "duration": 8,
    "start_time": "2022-02-06T08:01:57.678Z"
   },
   {
    "duration": 13,
    "start_time": "2022-02-06T08:01:57.688Z"
   },
   {
    "duration": 9,
    "start_time": "2022-02-06T08:01:57.704Z"
   },
   {
    "duration": 39,
    "start_time": "2022-02-06T08:01:57.715Z"
   },
   {
    "duration": 17,
    "start_time": "2022-02-06T08:02:24.378Z"
   },
   {
    "duration": 7550,
    "start_time": "2022-02-06T08:03:25.611Z"
   },
   {
    "duration": 8421,
    "start_time": "2022-02-06T08:05:54.124Z"
   },
   {
    "duration": 1140,
    "start_time": "2022-02-06T08:10:08.711Z"
   },
   {
    "duration": 37,
    "start_time": "2022-02-06T08:10:09.854Z"
   },
   {
    "duration": 11,
    "start_time": "2022-02-06T08:10:09.894Z"
   },
   {
    "duration": 24,
    "start_time": "2022-02-06T08:10:09.908Z"
   },
   {
    "duration": 23,
    "start_time": "2022-02-06T08:10:09.935Z"
   },
   {
    "duration": 62,
    "start_time": "2022-02-06T08:10:09.961Z"
   },
   {
    "duration": 12,
    "start_time": "2022-02-06T08:10:10.025Z"
   },
   {
    "duration": 20,
    "start_time": "2022-02-06T08:10:10.039Z"
   },
   {
    "duration": 22,
    "start_time": "2022-02-06T08:10:10.063Z"
   },
   {
    "duration": 18,
    "start_time": "2022-02-06T08:10:10.088Z"
   },
   {
    "duration": 10,
    "start_time": "2022-02-06T08:10:10.109Z"
   },
   {
    "duration": 29,
    "start_time": "2022-02-06T08:10:10.121Z"
   },
   {
    "duration": 12,
    "start_time": "2022-02-06T08:10:10.152Z"
   },
   {
    "duration": 14,
    "start_time": "2022-02-06T08:10:10.166Z"
   },
   {
    "duration": 29,
    "start_time": "2022-02-06T08:10:10.183Z"
   },
   {
    "duration": 14,
    "start_time": "2022-02-06T08:10:10.214Z"
   },
   {
    "duration": 22,
    "start_time": "2022-02-06T08:10:10.230Z"
   },
   {
    "duration": 9,
    "start_time": "2022-02-06T08:10:10.254Z"
   },
   {
    "duration": 8775,
    "start_time": "2022-02-06T08:10:10.266Z"
   },
   {
    "duration": 426,
    "start_time": "2022-02-06T08:11:45.260Z"
   },
   {
    "duration": 14,
    "start_time": "2022-02-06T08:11:55.949Z"
   },
   {
    "duration": 300,
    "start_time": "2022-02-06T08:14:00.188Z"
   },
   {
    "duration": 298,
    "start_time": "2022-02-06T08:14:12.480Z"
   },
   {
    "duration": 272,
    "start_time": "2022-02-06T08:16:11.762Z"
   },
   {
    "duration": 20,
    "start_time": "2022-02-06T08:16:47.111Z"
   },
   {
    "duration": 313,
    "start_time": "2022-02-06T08:17:28.371Z"
   },
   {
    "duration": 157,
    "start_time": "2022-02-06T08:18:05.868Z"
   },
   {
    "duration": 344,
    "start_time": "2022-02-06T08:18:10.541Z"
   },
   {
    "duration": 6,
    "start_time": "2022-02-06T08:18:42.004Z"
   },
   {
    "duration": 314,
    "start_time": "2022-02-06T08:18:46.061Z"
   },
   {
    "duration": 293,
    "start_time": "2022-02-06T08:18:54.133Z"
   },
   {
    "duration": 306,
    "start_time": "2022-02-06T08:21:47.105Z"
   },
   {
    "duration": 277,
    "start_time": "2022-02-06T08:21:54.432Z"
   },
   {
    "duration": 375,
    "start_time": "2022-02-06T08:23:21.467Z"
   },
   {
    "duration": 302,
    "start_time": "2022-02-06T08:25:26.046Z"
   },
   {
    "duration": 291,
    "start_time": "2022-02-06T08:27:06.243Z"
   },
   {
    "duration": 380,
    "start_time": "2022-02-06T08:27:18.088Z"
   },
   {
    "duration": 94,
    "start_time": "2022-02-06T08:27:35.721Z"
   },
   {
    "duration": 296,
    "start_time": "2022-02-06T08:27:42.669Z"
   },
   {
    "duration": 364,
    "start_time": "2022-02-06T08:29:14.875Z"
   },
   {
    "duration": 392,
    "start_time": "2022-02-06T08:29:27.828Z"
   },
   {
    "duration": 383,
    "start_time": "2022-02-06T08:30:00.068Z"
   },
   {
    "duration": 441,
    "start_time": "2022-02-06T08:30:18.614Z"
   },
   {
    "duration": 404,
    "start_time": "2022-02-06T08:30:30.759Z"
   },
   {
    "duration": 397,
    "start_time": "2022-02-06T08:31:59.271Z"
   },
   {
    "duration": 554,
    "start_time": "2022-02-06T08:33:34.497Z"
   },
   {
    "duration": 544,
    "start_time": "2022-02-06T08:34:29.140Z"
   },
   {
    "duration": 820,
    "start_time": "2022-02-06T08:34:45.146Z"
   },
   {
    "duration": 598,
    "start_time": "2022-02-06T08:35:46.292Z"
   },
   {
    "duration": 453,
    "start_time": "2022-02-06T08:36:12.085Z"
   },
   {
    "duration": 411,
    "start_time": "2022-02-06T08:38:32.800Z"
   },
   {
    "duration": 435,
    "start_time": "2022-02-06T08:39:06.890Z"
   },
   {
    "duration": 389,
    "start_time": "2022-02-06T08:40:19.353Z"
   },
   {
    "duration": 409,
    "start_time": "2022-02-06T08:40:58.986Z"
   },
   {
    "duration": 470,
    "start_time": "2022-02-06T08:42:19.204Z"
   },
   {
    "duration": 1369,
    "start_time": "2022-02-06T08:44:49.930Z"
   },
   {
    "duration": 33,
    "start_time": "2022-02-06T08:44:51.302Z"
   },
   {
    "duration": 11,
    "start_time": "2022-02-06T08:44:51.337Z"
   },
   {
    "duration": 16,
    "start_time": "2022-02-06T08:44:51.351Z"
   },
   {
    "duration": 15,
    "start_time": "2022-02-06T08:44:51.369Z"
   },
   {
    "duration": 72,
    "start_time": "2022-02-06T08:44:51.386Z"
   },
   {
    "duration": 10,
    "start_time": "2022-02-06T08:44:51.461Z"
   },
   {
    "duration": 18,
    "start_time": "2022-02-06T08:44:51.475Z"
   },
   {
    "duration": 18,
    "start_time": "2022-02-06T08:44:51.496Z"
   },
   {
    "duration": 32,
    "start_time": "2022-02-06T08:44:51.516Z"
   },
   {
    "duration": 12,
    "start_time": "2022-02-06T08:44:51.551Z"
   },
   {
    "duration": 8,
    "start_time": "2022-02-06T08:44:51.565Z"
   },
   {
    "duration": 14,
    "start_time": "2022-02-06T08:44:51.576Z"
   },
   {
    "duration": 17,
    "start_time": "2022-02-06T08:44:51.593Z"
   },
   {
    "duration": 9,
    "start_time": "2022-02-06T08:44:51.649Z"
   },
   {
    "duration": 9,
    "start_time": "2022-02-06T08:44:51.661Z"
   },
   {
    "duration": 18,
    "start_time": "2022-02-06T08:44:51.673Z"
   },
   {
    "duration": 27,
    "start_time": "2022-02-06T08:44:51.693Z"
   },
   {
    "duration": 317,
    "start_time": "2022-02-06T08:44:51.747Z"
   },
   {
    "duration": 293,
    "start_time": "2022-02-06T08:44:52.066Z"
   },
   {
    "duration": 13,
    "start_time": "2022-02-06T08:44:52.362Z"
   },
   {
    "duration": 340,
    "start_time": "2022-02-06T08:44:52.377Z"
   },
   {
    "duration": 333,
    "start_time": "2022-02-06T08:44:52.721Z"
   },
   {
    "duration": 439,
    "start_time": "2022-02-06T08:44:53.056Z"
   },
   {
    "duration": 351,
    "start_time": "2022-02-06T08:44:53.497Z"
   },
   {
    "duration": 414,
    "start_time": "2022-02-06T08:44:53.851Z"
   },
   {
    "duration": 1275,
    "start_time": "2022-02-06T08:45:30.766Z"
   },
   {
    "duration": 34,
    "start_time": "2022-02-06T08:45:32.044Z"
   },
   {
    "duration": 10,
    "start_time": "2022-02-06T08:45:32.081Z"
   },
   {
    "duration": 32,
    "start_time": "2022-02-06T08:45:32.094Z"
   },
   {
    "duration": 21,
    "start_time": "2022-02-06T08:45:32.129Z"
   },
   {
    "duration": 59,
    "start_time": "2022-02-06T08:45:32.153Z"
   },
   {
    "duration": 11,
    "start_time": "2022-02-06T08:45:32.215Z"
   },
   {
    "duration": 18,
    "start_time": "2022-02-06T08:45:32.230Z"
   },
   {
    "duration": 31,
    "start_time": "2022-02-06T08:45:32.251Z"
   },
   {
    "duration": 27,
    "start_time": "2022-02-06T08:45:32.285Z"
   },
   {
    "duration": 13,
    "start_time": "2022-02-06T08:45:32.315Z"
   },
   {
    "duration": 17,
    "start_time": "2022-02-06T08:45:32.331Z"
   },
   {
    "duration": 13,
    "start_time": "2022-02-06T08:45:32.351Z"
   },
   {
    "duration": 18,
    "start_time": "2022-02-06T08:45:32.366Z"
   },
   {
    "duration": 8,
    "start_time": "2022-02-06T08:45:32.386Z"
   },
   {
    "duration": 13,
    "start_time": "2022-02-06T08:45:32.396Z"
   },
   {
    "duration": 47,
    "start_time": "2022-02-06T08:45:32.411Z"
   },
   {
    "duration": 24,
    "start_time": "2022-02-06T08:45:32.461Z"
   },
   {
    "duration": 322,
    "start_time": "2022-02-06T08:45:32.488Z"
   },
   {
    "duration": 277,
    "start_time": "2022-02-06T08:45:32.812Z"
   },
   {
    "duration": 15,
    "start_time": "2022-02-06T08:45:33.091Z"
   },
   {
    "duration": 332,
    "start_time": "2022-02-06T08:45:33.108Z"
   },
   {
    "duration": 298,
    "start_time": "2022-02-06T08:45:33.450Z"
   },
   {
    "duration": 470,
    "start_time": "2022-02-06T08:45:33.751Z"
   },
   {
    "duration": 325,
    "start_time": "2022-02-06T08:45:34.224Z"
   },
   {
    "duration": 400,
    "start_time": "2022-02-06T08:45:34.552Z"
   },
   {
    "duration": 6,
    "start_time": "2022-02-06T08:46:34.758Z"
   },
   {
    "duration": 1543,
    "start_time": "2022-02-06T08:46:49.910Z"
   },
   {
    "duration": 34,
    "start_time": "2022-02-06T08:46:51.455Z"
   },
   {
    "duration": 6,
    "start_time": "2022-02-06T08:46:51.493Z"
   },
   {
    "duration": 19,
    "start_time": "2022-02-06T08:46:51.502Z"
   },
   {
    "duration": 38,
    "start_time": "2022-02-06T08:46:51.524Z"
   },
   {
    "duration": 63,
    "start_time": "2022-02-06T08:46:51.564Z"
   },
   {
    "duration": 15,
    "start_time": "2022-02-06T08:46:51.631Z"
   },
   {
    "duration": 14,
    "start_time": "2022-02-06T08:46:51.652Z"
   },
   {
    "duration": 20,
    "start_time": "2022-02-06T08:46:51.670Z"
   },
   {
    "duration": 11,
    "start_time": "2022-02-06T08:46:51.693Z"
   },
   {
    "duration": 44,
    "start_time": "2022-02-06T08:46:51.707Z"
   },
   {
    "duration": 8,
    "start_time": "2022-02-06T08:46:51.754Z"
   },
   {
    "duration": 10,
    "start_time": "2022-02-06T08:46:51.765Z"
   },
   {
    "duration": 28,
    "start_time": "2022-02-06T08:46:51.778Z"
   },
   {
    "duration": 8,
    "start_time": "2022-02-06T08:46:51.808Z"
   },
   {
    "duration": 8,
    "start_time": "2022-02-06T08:46:51.849Z"
   },
   {
    "duration": 9,
    "start_time": "2022-02-06T08:46:51.859Z"
   },
   {
    "duration": 18,
    "start_time": "2022-02-06T08:46:51.871Z"
   },
   {
    "duration": 376,
    "start_time": "2022-02-06T08:46:51.892Z"
   },
   {
    "duration": 297,
    "start_time": "2022-02-06T08:46:52.271Z"
   },
   {
    "duration": 14,
    "start_time": "2022-02-06T08:46:52.571Z"
   },
   {
    "duration": 637,
    "start_time": "2022-02-06T08:46:52.587Z"
   },
   {
    "duration": 620,
    "start_time": "2022-02-06T08:46:53.228Z"
   },
   {
    "duration": 718,
    "start_time": "2022-02-06T08:46:53.852Z"
   },
   {
    "duration": 608,
    "start_time": "2022-02-06T08:46:54.573Z"
   },
   {
    "duration": 763,
    "start_time": "2022-02-06T08:46:55.185Z"
   },
   {
    "duration": 7,
    "start_time": "2022-02-06T08:47:20.990Z"
   },
   {
    "duration": 1346,
    "start_time": "2022-02-06T08:47:27.242Z"
   },
   {
    "duration": 31,
    "start_time": "2022-02-06T08:47:28.591Z"
   },
   {
    "duration": 5,
    "start_time": "2022-02-06T08:47:28.625Z"
   },
   {
    "duration": 26,
    "start_time": "2022-02-06T08:47:28.632Z"
   },
   {
    "duration": 14,
    "start_time": "2022-02-06T08:47:28.661Z"
   },
   {
    "duration": 57,
    "start_time": "2022-02-06T08:47:28.678Z"
   },
   {
    "duration": 10,
    "start_time": "2022-02-06T08:47:28.738Z"
   },
   {
    "duration": 15,
    "start_time": "2022-02-06T08:47:28.752Z"
   },
   {
    "duration": 23,
    "start_time": "2022-02-06T08:47:28.770Z"
   },
   {
    "duration": 16,
    "start_time": "2022-02-06T08:47:28.796Z"
   },
   {
    "duration": 11,
    "start_time": "2022-02-06T08:47:28.814Z"
   },
   {
    "duration": 26,
    "start_time": "2022-02-06T08:47:28.828Z"
   },
   {
    "duration": 12,
    "start_time": "2022-02-06T08:47:28.856Z"
   },
   {
    "duration": 15,
    "start_time": "2022-02-06T08:47:28.870Z"
   },
   {
    "duration": 7,
    "start_time": "2022-02-06T08:47:28.887Z"
   },
   {
    "duration": 9,
    "start_time": "2022-02-06T08:47:28.896Z"
   },
   {
    "duration": 45,
    "start_time": "2022-02-06T08:47:28.908Z"
   },
   {
    "duration": 18,
    "start_time": "2022-02-06T08:47:28.955Z"
   },
   {
    "duration": 326,
    "start_time": "2022-02-06T08:47:28.976Z"
   },
   {
    "duration": 279,
    "start_time": "2022-02-06T08:47:29.305Z"
   },
   {
    "duration": 14,
    "start_time": "2022-02-06T08:47:29.587Z"
   },
   {
    "duration": 553,
    "start_time": "2022-02-06T08:47:29.604Z"
   },
   {
    "duration": 548,
    "start_time": "2022-02-06T08:47:30.161Z"
   },
   {
    "duration": 691,
    "start_time": "2022-02-06T08:47:30.712Z"
   },
   {
    "duration": 548,
    "start_time": "2022-02-06T08:47:31.406Z"
   },
   {
    "duration": 697,
    "start_time": "2022-02-06T08:47:31.957Z"
   },
   {
    "duration": 1352,
    "start_time": "2022-02-06T08:48:21.427Z"
   },
   {
    "duration": 33,
    "start_time": "2022-02-06T08:48:22.782Z"
   },
   {
    "duration": 8,
    "start_time": "2022-02-06T08:48:22.818Z"
   },
   {
    "duration": 27,
    "start_time": "2022-02-06T08:48:22.829Z"
   },
   {
    "duration": 15,
    "start_time": "2022-02-06T08:48:22.858Z"
   },
   {
    "duration": 57,
    "start_time": "2022-02-06T08:48:22.876Z"
   },
   {
    "duration": 12,
    "start_time": "2022-02-06T08:48:22.935Z"
   },
   {
    "duration": 13,
    "start_time": "2022-02-06T08:48:22.949Z"
   },
   {
    "duration": 20,
    "start_time": "2022-02-06T08:48:22.965Z"
   },
   {
    "duration": 11,
    "start_time": "2022-02-06T08:48:22.988Z"
   },
   {
    "duration": 10,
    "start_time": "2022-02-06T08:48:23.003Z"
   },
   {
    "duration": 5,
    "start_time": "2022-02-06T08:48:23.049Z"
   },
   {
    "duration": 12,
    "start_time": "2022-02-06T08:48:23.057Z"
   },
   {
    "duration": 16,
    "start_time": "2022-02-06T08:48:23.072Z"
   },
   {
    "duration": 7,
    "start_time": "2022-02-06T08:48:23.090Z"
   },
   {
    "duration": 8,
    "start_time": "2022-02-06T08:48:23.099Z"
   },
   {
    "duration": 8,
    "start_time": "2022-02-06T08:48:23.150Z"
   },
   {
    "duration": 15,
    "start_time": "2022-02-06T08:48:23.160Z"
   },
   {
    "duration": 337,
    "start_time": "2022-02-06T08:48:23.177Z"
   },
   {
    "duration": 272,
    "start_time": "2022-02-06T08:48:23.516Z"
   },
   {
    "duration": 15,
    "start_time": "2022-02-06T08:48:23.791Z"
   },
   {
    "duration": 511,
    "start_time": "2022-02-06T08:48:23.809Z"
   },
   {
    "duration": 495,
    "start_time": "2022-02-06T08:48:24.323Z"
   },
   {
    "duration": 631,
    "start_time": "2022-02-06T08:48:24.820Z"
   },
   {
    "duration": 493,
    "start_time": "2022-02-06T08:48:25.455Z"
   },
   {
    "duration": 578,
    "start_time": "2022-02-06T08:48:25.951Z"
   },
   {
    "duration": 6,
    "start_time": "2022-02-06T08:49:24.721Z"
   },
   {
    "duration": 1310,
    "start_time": "2022-02-06T08:49:32.101Z"
   },
   {
    "duration": 39,
    "start_time": "2022-02-06T08:49:33.414Z"
   },
   {
    "duration": 6,
    "start_time": "2022-02-06T08:49:33.457Z"
   },
   {
    "duration": 18,
    "start_time": "2022-02-06T08:49:33.467Z"
   },
   {
    "duration": 16,
    "start_time": "2022-02-06T08:49:33.487Z"
   },
   {
    "duration": 61,
    "start_time": "2022-02-06T08:49:33.505Z"
   },
   {
    "duration": 10,
    "start_time": "2022-02-06T08:49:33.569Z"
   },
   {
    "duration": 15,
    "start_time": "2022-02-06T08:49:33.583Z"
   },
   {
    "duration": 18,
    "start_time": "2022-02-06T08:49:33.601Z"
   },
   {
    "duration": 28,
    "start_time": "2022-02-06T08:49:33.622Z"
   },
   {
    "duration": 12,
    "start_time": "2022-02-06T08:49:33.653Z"
   },
   {
    "duration": 8,
    "start_time": "2022-02-06T08:49:33.669Z"
   },
   {
    "duration": 10,
    "start_time": "2022-02-06T08:49:33.679Z"
   },
   {
    "duration": 68,
    "start_time": "2022-02-06T08:49:33.692Z"
   },
   {
    "duration": 7,
    "start_time": "2022-02-06T08:49:33.762Z"
   },
   {
    "duration": 8,
    "start_time": "2022-02-06T08:49:33.772Z"
   },
   {
    "duration": 9,
    "start_time": "2022-02-06T08:49:33.782Z"
   },
   {
    "duration": 15,
    "start_time": "2022-02-06T08:49:33.793Z"
   },
   {
    "duration": 379,
    "start_time": "2022-02-06T08:49:33.810Z"
   },
   {
    "duration": 287,
    "start_time": "2022-02-06T08:49:34.192Z"
   },
   {
    "duration": 13,
    "start_time": "2022-02-06T08:49:34.481Z"
   },
   {
    "duration": 507,
    "start_time": "2022-02-06T08:49:34.497Z"
   },
   {
    "duration": 478,
    "start_time": "2022-02-06T08:49:35.008Z"
   },
   {
    "duration": 610,
    "start_time": "2022-02-06T08:49:35.489Z"
   },
   {
    "duration": 481,
    "start_time": "2022-02-06T08:49:36.102Z"
   },
   {
    "duration": 578,
    "start_time": "2022-02-06T08:49:36.585Z"
   },
   {
    "duration": 559,
    "start_time": "2022-02-06T08:51:57.660Z"
   },
   {
    "duration": 548,
    "start_time": "2022-02-06T08:52:21.581Z"
   },
   {
    "duration": 482,
    "start_time": "2022-02-06T08:53:26.166Z"
   },
   {
    "duration": 578,
    "start_time": "2022-02-06T08:54:01.263Z"
   },
   {
    "duration": 478,
    "start_time": "2022-02-06T08:54:43.890Z"
   },
   {
    "duration": 575,
    "start_time": "2022-02-06T08:55:35.473Z"
   },
   {
    "duration": 463,
    "start_time": "2022-02-06T08:55:49.585Z"
   },
   {
    "duration": 490,
    "start_time": "2022-02-06T08:56:20.682Z"
   },
   {
    "duration": 1269,
    "start_time": "2022-02-06T08:56:37.923Z"
   },
   {
    "duration": 34,
    "start_time": "2022-02-06T08:56:39.194Z"
   },
   {
    "duration": 5,
    "start_time": "2022-02-06T08:56:39.232Z"
   },
   {
    "duration": 16,
    "start_time": "2022-02-06T08:56:39.247Z"
   },
   {
    "duration": 16,
    "start_time": "2022-02-06T08:56:39.265Z"
   },
   {
    "duration": 58,
    "start_time": "2022-02-06T08:56:39.284Z"
   },
   {
    "duration": 12,
    "start_time": "2022-02-06T08:56:39.345Z"
   },
   {
    "duration": 16,
    "start_time": "2022-02-06T08:56:39.362Z"
   },
   {
    "duration": 24,
    "start_time": "2022-02-06T08:56:39.381Z"
   },
   {
    "duration": 19,
    "start_time": "2022-02-06T08:56:39.407Z"
   },
   {
    "duration": 28,
    "start_time": "2022-02-06T08:56:39.428Z"
   },
   {
    "duration": 8,
    "start_time": "2022-02-06T08:56:39.459Z"
   },
   {
    "duration": 11,
    "start_time": "2022-02-06T08:56:39.470Z"
   },
   {
    "duration": 15,
    "start_time": "2022-02-06T08:56:39.483Z"
   },
   {
    "duration": 9,
    "start_time": "2022-02-06T08:56:39.500Z"
   },
   {
    "duration": 9,
    "start_time": "2022-02-06T08:56:39.549Z"
   },
   {
    "duration": 13,
    "start_time": "2022-02-06T08:56:39.561Z"
   },
   {
    "duration": 18,
    "start_time": "2022-02-06T08:56:39.576Z"
   },
   {
    "duration": 323,
    "start_time": "2022-02-06T08:56:39.597Z"
   },
   {
    "duration": 270,
    "start_time": "2022-02-06T08:56:39.923Z"
   },
   {
    "duration": 16,
    "start_time": "2022-02-06T08:56:40.196Z"
   },
   {
    "duration": 534,
    "start_time": "2022-02-06T08:56:40.215Z"
   },
   {
    "duration": 514,
    "start_time": "2022-02-06T08:56:40.756Z"
   },
   {
    "duration": 597,
    "start_time": "2022-02-06T08:56:41.273Z"
   },
   {
    "duration": 495,
    "start_time": "2022-02-06T08:56:41.873Z"
   },
   {
    "duration": 592,
    "start_time": "2022-02-06T08:56:42.370Z"
   },
   {
    "duration": 7991,
    "start_time": "2022-02-06T09:01:01.311Z"
   },
   {
    "duration": 535,
    "start_time": "2022-02-06T09:03:30.187Z"
   },
   {
    "duration": 652,
    "start_time": "2022-02-06T09:03:38.339Z"
   },
   {
    "duration": 688,
    "start_time": "2022-02-06T09:04:41.252Z"
   },
   {
    "duration": 804,
    "start_time": "2022-02-06T09:05:14.452Z"
   },
   {
    "duration": 244,
    "start_time": "2022-02-06T09:10:43.732Z"
   },
   {
    "duration": 301,
    "start_time": "2022-02-06T09:12:19.830Z"
   },
   {
    "duration": 940,
    "start_time": "2022-02-06T09:12:42.480Z"
   },
   {
    "duration": 842,
    "start_time": "2022-02-06T09:13:52.161Z"
   },
   {
    "duration": 753,
    "start_time": "2022-02-06T09:14:02.136Z"
   },
   {
    "duration": 748,
    "start_time": "2022-02-06T09:14:18.513Z"
   },
   {
    "duration": 7,
    "start_time": "2022-02-06T11:58:52.097Z"
   },
   {
    "duration": 7,
    "start_time": "2022-02-06T11:59:10.609Z"
   },
   {
    "duration": 554,
    "start_time": "2022-02-06T12:03:37.423Z"
   },
   {
    "duration": 600,
    "start_time": "2022-02-06T12:04:58.561Z"
   },
   {
    "duration": 638,
    "start_time": "2022-02-06T12:05:07.842Z"
   },
   {
    "duration": 6,
    "start_time": "2022-02-06T12:06:50.659Z"
   },
   {
    "duration": 6,
    "start_time": "2022-02-06T12:06:57.771Z"
   },
   {
    "duration": 6,
    "start_time": "2022-02-06T12:07:34.924Z"
   },
   {
    "duration": 6,
    "start_time": "2022-02-06T12:07:53.732Z"
   },
   {
    "duration": 5,
    "start_time": "2022-02-06T12:08:00.661Z"
   },
   {
    "duration": 648,
    "start_time": "2022-02-06T12:17:47.420Z"
   },
   {
    "duration": 730,
    "start_time": "2022-02-06T12:19:32.878Z"
   },
   {
    "duration": 459,
    "start_time": "2022-02-06T12:21:12.896Z"
   },
   {
    "duration": 314,
    "start_time": "2022-02-06T12:22:01.472Z"
   },
   {
    "duration": 243,
    "start_time": "2022-02-06T12:23:08.779Z"
   },
   {
    "duration": 225,
    "start_time": "2022-02-06T12:24:42.405Z"
   },
   {
    "duration": 246,
    "start_time": "2022-02-06T12:28:17.585Z"
   },
   {
    "duration": 14,
    "start_time": "2022-02-06T12:28:39.065Z"
   },
   {
    "duration": 146,
    "start_time": "2022-02-06T12:30:23.021Z"
   },
   {
    "duration": 7254,
    "start_time": "2022-02-06T12:33:41.239Z"
   },
   {
    "duration": 18,
    "start_time": "2022-02-06T12:34:40.153Z"
   },
   {
    "duration": 8892,
    "start_time": "2022-02-06T12:38:11.861Z"
   },
   {
    "duration": 1325,
    "start_time": "2022-02-06T12:38:38.633Z"
   },
   {
    "duration": 57,
    "start_time": "2022-02-06T12:38:39.961Z"
   },
   {
    "duration": 4,
    "start_time": "2022-02-06T12:38:40.021Z"
   },
   {
    "duration": 30,
    "start_time": "2022-02-06T12:38:40.028Z"
   },
   {
    "duration": 16,
    "start_time": "2022-02-06T12:38:40.061Z"
   },
   {
    "duration": 59,
    "start_time": "2022-02-06T12:38:40.079Z"
   },
   {
    "duration": 11,
    "start_time": "2022-02-06T12:38:40.140Z"
   },
   {
    "duration": 13,
    "start_time": "2022-02-06T12:38:40.154Z"
   },
   {
    "duration": 20,
    "start_time": "2022-02-06T12:38:40.171Z"
   },
   {
    "duration": 13,
    "start_time": "2022-02-06T12:38:40.194Z"
   },
   {
    "duration": 43,
    "start_time": "2022-02-06T12:38:40.209Z"
   },
   {
    "duration": 7,
    "start_time": "2022-02-06T12:38:40.254Z"
   },
   {
    "duration": 10,
    "start_time": "2022-02-06T12:38:40.263Z"
   },
   {
    "duration": 14,
    "start_time": "2022-02-06T12:38:40.275Z"
   },
   {
    "duration": 6,
    "start_time": "2022-02-06T12:38:40.292Z"
   },
   {
    "duration": 52,
    "start_time": "2022-02-06T12:38:40.301Z"
   },
   {
    "duration": 9,
    "start_time": "2022-02-06T12:38:40.356Z"
   },
   {
    "duration": 16,
    "start_time": "2022-02-06T12:38:40.367Z"
   },
   {
    "duration": 331,
    "start_time": "2022-02-06T12:38:40.385Z"
   },
   {
    "duration": 280,
    "start_time": "2022-02-06T12:38:40.719Z"
   },
   {
    "duration": 14,
    "start_time": "2022-02-06T12:38:41.002Z"
   },
   {
    "duration": 539,
    "start_time": "2022-02-06T12:38:41.018Z"
   },
   {
    "duration": 469,
    "start_time": "2022-02-06T12:38:41.560Z"
   },
   {
    "duration": 608,
    "start_time": "2022-02-06T12:38:42.032Z"
   },
   {
    "duration": 497,
    "start_time": "2022-02-06T12:38:42.642Z"
   },
   {
    "duration": 629,
    "start_time": "2022-02-06T12:38:43.153Z"
   },
   {
    "duration": 765,
    "start_time": "2022-02-06T12:38:43.786Z"
   },
   {
    "duration": 5,
    "start_time": "2022-02-06T12:38:44.553Z"
   },
   {
    "duration": 619,
    "start_time": "2022-02-06T12:38:44.560Z"
   },
   {
    "duration": 7870,
    "start_time": "2022-02-06T12:38:45.182Z"
   },
   {
    "duration": 1493,
    "start_time": "2022-02-06T12:38:51.562Z"
   },
   {
    "duration": 1476,
    "start_time": "2022-02-06T12:38:51.581Z"
   },
   {
    "duration": 1469,
    "start_time": "2022-02-06T12:38:51.590Z"
   },
   {
    "duration": 1456,
    "start_time": "2022-02-06T12:38:51.604Z"
   },
   {
    "duration": 1450,
    "start_time": "2022-02-06T12:38:51.612Z"
   },
   {
    "duration": 8,
    "start_time": "2022-02-06T12:41:24.185Z"
   },
   {
    "duration": 328,
    "start_time": "2022-02-06T12:41:55.328Z"
   },
   {
    "duration": 1273,
    "start_time": "2022-02-06T12:42:15.661Z"
   },
   {
    "duration": 57,
    "start_time": "2022-02-06T12:42:16.937Z"
   },
   {
    "duration": 4,
    "start_time": "2022-02-06T12:42:16.997Z"
   },
   {
    "duration": 16,
    "start_time": "2022-02-06T12:42:17.005Z"
   },
   {
    "duration": 16,
    "start_time": "2022-02-06T12:42:17.023Z"
   },
   {
    "duration": 56,
    "start_time": "2022-02-06T12:42:17.048Z"
   },
   {
    "duration": 11,
    "start_time": "2022-02-06T12:42:17.106Z"
   },
   {
    "duration": 12,
    "start_time": "2022-02-06T12:42:17.121Z"
   },
   {
    "duration": 22,
    "start_time": "2022-02-06T12:42:17.136Z"
   },
   {
    "duration": 17,
    "start_time": "2022-02-06T12:42:17.161Z"
   },
   {
    "duration": 16,
    "start_time": "2022-02-06T12:42:17.181Z"
   },
   {
    "duration": 9,
    "start_time": "2022-02-06T12:42:17.199Z"
   },
   {
    "duration": 12,
    "start_time": "2022-02-06T12:42:17.211Z"
   },
   {
    "duration": 22,
    "start_time": "2022-02-06T12:42:17.250Z"
   },
   {
    "duration": 10,
    "start_time": "2022-02-06T12:42:17.275Z"
   },
   {
    "duration": 20,
    "start_time": "2022-02-06T12:42:17.288Z"
   },
   {
    "duration": 39,
    "start_time": "2022-02-06T12:42:17.310Z"
   },
   {
    "duration": 13,
    "start_time": "2022-02-06T12:42:17.352Z"
   },
   {
    "duration": 315,
    "start_time": "2022-02-06T12:42:17.368Z"
   },
   {
    "duration": 286,
    "start_time": "2022-02-06T12:42:17.686Z"
   },
   {
    "duration": 13,
    "start_time": "2022-02-06T12:42:17.975Z"
   },
   {
    "duration": 528,
    "start_time": "2022-02-06T12:42:17.990Z"
   },
   {
    "duration": 549,
    "start_time": "2022-02-06T12:42:18.523Z"
   },
   {
    "duration": 579,
    "start_time": "2022-02-06T12:42:19.075Z"
   },
   {
    "duration": 507,
    "start_time": "2022-02-06T12:42:19.657Z"
   },
   {
    "duration": 687,
    "start_time": "2022-02-06T12:42:20.167Z"
   },
   {
    "duration": 740,
    "start_time": "2022-02-06T12:42:20.857Z"
   },
   {
    "duration": 6,
    "start_time": "2022-02-06T12:42:21.600Z"
   },
   {
    "duration": 595,
    "start_time": "2022-02-06T12:42:21.608Z"
   },
   {
    "duration": 5,
    "start_time": "2022-02-06T12:42:22.206Z"
   },
   {
    "duration": 476,
    "start_time": "2022-02-06T12:42:22.213Z"
   },
   {
    "duration": 237,
    "start_time": "2022-02-06T12:42:22.692Z"
   },
   {
    "duration": 236,
    "start_time": "2022-02-06T12:42:22.931Z"
   },
   {
    "duration": 17,
    "start_time": "2022-02-06T12:42:23.170Z"
   },
   {
    "duration": 19,
    "start_time": "2022-02-06T12:42:23.190Z"
   },
   {
    "duration": 11132,
    "start_time": "2022-02-06T12:46:11.362Z"
   },
   {
    "duration": 12,
    "start_time": "2022-02-06T12:46:44.026Z"
   },
   {
    "duration": 10,
    "start_time": "2022-02-06T12:47:24.996Z"
   },
   {
    "duration": 21,
    "start_time": "2022-02-06T12:52:08.051Z"
   },
   {
    "duration": 103,
    "start_time": "2022-02-06T13:27:34.951Z"
   },
   {
    "duration": 56,
    "start_time": "2022-02-06T14:04:12.952Z"
   },
   {
    "duration": 7,
    "start_time": "2022-02-06T14:09:24.397Z"
   },
   {
    "duration": 5,
    "start_time": "2022-02-06T14:13:30.906Z"
   },
   {
    "duration": 6,
    "start_time": "2022-02-06T14:13:37.379Z"
   },
   {
    "duration": 1385,
    "start_time": "2022-02-06T14:29:45.848Z"
   },
   {
    "duration": 34,
    "start_time": "2022-02-06T14:29:47.235Z"
   },
   {
    "duration": 5,
    "start_time": "2022-02-06T14:29:47.272Z"
   },
   {
    "duration": 21,
    "start_time": "2022-02-06T14:29:47.280Z"
   },
   {
    "duration": 47,
    "start_time": "2022-02-06T14:29:47.304Z"
   },
   {
    "duration": 62,
    "start_time": "2022-02-06T14:29:47.354Z"
   },
   {
    "duration": 11,
    "start_time": "2022-02-06T14:29:47.419Z"
   },
   {
    "duration": 13,
    "start_time": "2022-02-06T14:29:47.432Z"
   },
   {
    "duration": 19,
    "start_time": "2022-02-06T14:29:47.450Z"
   },
   {
    "duration": 11,
    "start_time": "2022-02-06T14:29:47.473Z"
   },
   {
    "duration": 11,
    "start_time": "2022-02-06T14:29:47.486Z"
   },
   {
    "duration": 6,
    "start_time": "2022-02-06T14:29:47.500Z"
   },
   {
    "duration": 43,
    "start_time": "2022-02-06T14:29:47.508Z"
   },
   {
    "duration": 21,
    "start_time": "2022-02-06T14:29:47.554Z"
   },
   {
    "duration": 7,
    "start_time": "2022-02-06T14:29:47.577Z"
   },
   {
    "duration": 11,
    "start_time": "2022-02-06T14:29:47.586Z"
   },
   {
    "duration": 50,
    "start_time": "2022-02-06T14:29:47.600Z"
   },
   {
    "duration": 334,
    "start_time": "2022-02-06T14:29:47.653Z"
   },
   {
    "duration": 283,
    "start_time": "2022-02-06T14:29:47.990Z"
   },
   {
    "duration": 16,
    "start_time": "2022-02-06T14:29:48.276Z"
   },
   {
    "duration": 573,
    "start_time": "2022-02-06T14:29:48.295Z"
   },
   {
    "duration": 539,
    "start_time": "2022-02-06T14:29:48.871Z"
   },
   {
    "duration": 626,
    "start_time": "2022-02-06T14:29:49.414Z"
   },
   {
    "duration": 527,
    "start_time": "2022-02-06T14:29:50.043Z"
   },
   {
    "duration": 616,
    "start_time": "2022-02-06T14:29:50.573Z"
   },
   {
    "duration": 787,
    "start_time": "2022-02-06T14:29:51.192Z"
   },
   {
    "duration": 8,
    "start_time": "2022-02-06T14:29:51.986Z"
   },
   {
    "duration": 619,
    "start_time": "2022-02-06T14:29:51.997Z"
   },
   {
    "duration": 5,
    "start_time": "2022-02-06T14:29:52.619Z"
   },
   {
    "duration": 458,
    "start_time": "2022-02-06T14:29:52.627Z"
   },
   {
    "duration": 217,
    "start_time": "2022-02-06T14:29:53.088Z"
   },
   {
    "duration": 218,
    "start_time": "2022-02-06T14:29:53.307Z"
   },
   {
    "duration": 27,
    "start_time": "2022-02-06T14:29:53.528Z"
   },
   {
    "duration": 15,
    "start_time": "2022-02-06T14:29:53.557Z"
   },
   {
    "duration": 11,
    "start_time": "2022-02-06T14:29:53.574Z"
   },
   {
    "duration": 9,
    "start_time": "2022-02-06T14:29:53.587Z"
   },
   {
    "duration": 58,
    "start_time": "2022-02-06T14:29:53.599Z"
   },
   {
    "duration": 1323,
    "start_time": "2022-02-06T14:36:32.083Z"
   },
   {
    "duration": 32,
    "start_time": "2022-02-06T14:36:33.409Z"
   },
   {
    "duration": 6,
    "start_time": "2022-02-06T14:36:33.444Z"
   },
   {
    "duration": 18,
    "start_time": "2022-02-06T14:36:33.453Z"
   },
   {
    "duration": 15,
    "start_time": "2022-02-06T14:36:33.474Z"
   },
   {
    "duration": 55,
    "start_time": "2022-02-06T14:36:33.492Z"
   },
   {
    "duration": 11,
    "start_time": "2022-02-06T14:36:33.550Z"
   },
   {
    "duration": 16,
    "start_time": "2022-02-06T14:36:33.563Z"
   },
   {
    "duration": 19,
    "start_time": "2022-02-06T14:36:33.584Z"
   },
   {
    "duration": 42,
    "start_time": "2022-02-06T14:36:33.606Z"
   },
   {
    "duration": 10,
    "start_time": "2022-02-06T14:36:33.650Z"
   },
   {
    "duration": 9,
    "start_time": "2022-02-06T14:36:33.662Z"
   },
   {
    "duration": 11,
    "start_time": "2022-02-06T14:36:33.674Z"
   },
   {
    "duration": 18,
    "start_time": "2022-02-06T14:36:33.688Z"
   },
   {
    "duration": 45,
    "start_time": "2022-02-06T14:36:33.708Z"
   },
   {
    "duration": 12,
    "start_time": "2022-02-06T14:36:33.757Z"
   },
   {
    "duration": 19,
    "start_time": "2022-02-06T14:36:33.772Z"
   },
   {
    "duration": 344,
    "start_time": "2022-02-06T14:36:33.793Z"
   },
   {
    "duration": 280,
    "start_time": "2022-02-06T14:36:34.139Z"
   },
   {
    "duration": 30,
    "start_time": "2022-02-06T14:36:34.421Z"
   },
   {
    "duration": 512,
    "start_time": "2022-02-06T14:36:34.453Z"
   },
   {
    "duration": 494,
    "start_time": "2022-02-06T14:36:34.968Z"
   },
   {
    "duration": 583,
    "start_time": "2022-02-06T14:36:35.465Z"
   },
   {
    "duration": 509,
    "start_time": "2022-02-06T14:36:36.051Z"
   },
   {
    "duration": 618,
    "start_time": "2022-02-06T14:36:36.563Z"
   },
   {
    "duration": 731,
    "start_time": "2022-02-06T14:36:37.184Z"
   },
   {
    "duration": 6,
    "start_time": "2022-02-06T14:36:37.922Z"
   },
   {
    "duration": 589,
    "start_time": "2022-02-06T14:36:37.949Z"
   },
   {
    "duration": 5,
    "start_time": "2022-02-06T14:36:38.549Z"
   },
   {
    "duration": 481,
    "start_time": "2022-02-06T14:36:38.557Z"
   },
   {
    "duration": 245,
    "start_time": "2022-02-06T14:36:39.047Z"
   },
   {
    "duration": 243,
    "start_time": "2022-02-06T14:36:39.294Z"
   },
   {
    "duration": 18,
    "start_time": "2022-02-06T14:36:39.540Z"
   },
   {
    "duration": 14,
    "start_time": "2022-02-06T14:36:39.560Z"
   },
   {
    "duration": 10,
    "start_time": "2022-02-06T14:36:39.577Z"
   },
   {
    "duration": 14,
    "start_time": "2022-02-06T14:36:39.589Z"
   },
   {
    "duration": 52,
    "start_time": "2022-02-06T14:36:39.606Z"
   },
   {
    "duration": 1062,
    "start_time": "2022-02-06T17:24:56.155Z"
   },
   {
    "duration": 24,
    "start_time": "2022-02-06T17:24:57.219Z"
   },
   {
    "duration": 4,
    "start_time": "2022-02-06T17:24:57.245Z"
   },
   {
    "duration": 17,
    "start_time": "2022-02-06T17:24:57.250Z"
   },
   {
    "duration": 10,
    "start_time": "2022-02-06T17:24:57.268Z"
   },
   {
    "duration": 50,
    "start_time": "2022-02-06T17:24:57.280Z"
   },
   {
    "duration": 8,
    "start_time": "2022-02-06T17:24:57.331Z"
   },
   {
    "duration": 11,
    "start_time": "2022-02-06T17:24:57.341Z"
   },
   {
    "duration": 11,
    "start_time": "2022-02-06T17:24:57.354Z"
   },
   {
    "duration": 11,
    "start_time": "2022-02-06T17:24:57.367Z"
   },
   {
    "duration": 8,
    "start_time": "2022-02-06T17:24:57.379Z"
   },
   {
    "duration": 7,
    "start_time": "2022-02-06T17:24:57.389Z"
   },
   {
    "duration": 9,
    "start_time": "2022-02-06T17:24:57.397Z"
   },
   {
    "duration": 14,
    "start_time": "2022-02-06T17:24:57.408Z"
   },
   {
    "duration": 5,
    "start_time": "2022-02-06T17:24:57.423Z"
   },
   {
    "duration": 33,
    "start_time": "2022-02-06T17:24:57.430Z"
   },
   {
    "duration": 11,
    "start_time": "2022-02-06T17:24:57.464Z"
   },
   {
    "duration": 193,
    "start_time": "2022-02-06T17:24:57.477Z"
   },
   {
    "duration": 163,
    "start_time": "2022-02-06T17:24:57.672Z"
   },
   {
    "duration": 9,
    "start_time": "2022-02-06T17:24:57.837Z"
   },
   {
    "duration": 321,
    "start_time": "2022-02-06T17:24:57.859Z"
   },
   {
    "duration": 304,
    "start_time": "2022-02-06T17:24:58.181Z"
   },
   {
    "duration": 423,
    "start_time": "2022-02-06T17:24:58.488Z"
   },
   {
    "duration": 314,
    "start_time": "2022-02-06T17:24:58.912Z"
   },
   {
    "duration": 457,
    "start_time": "2022-02-06T17:24:59.228Z"
   },
   {
    "duration": 477,
    "start_time": "2022-02-06T17:24:59.687Z"
   },
   {
    "duration": 4,
    "start_time": "2022-02-06T17:25:00.166Z"
   },
   {
    "duration": 417,
    "start_time": "2022-02-06T17:25:00.172Z"
   },
   {
    "duration": 3,
    "start_time": "2022-02-06T17:25:00.591Z"
   },
   {
    "duration": 265,
    "start_time": "2022-02-06T17:25:00.596Z"
   },
   {
    "duration": 134,
    "start_time": "2022-02-06T17:25:00.862Z"
   },
   {
    "duration": 133,
    "start_time": "2022-02-06T17:25:00.998Z"
   },
   {
    "duration": 29,
    "start_time": "2022-02-06T17:25:01.133Z"
   },
   {
    "duration": 11,
    "start_time": "2022-02-06T17:25:01.164Z"
   },
   {
    "duration": 14,
    "start_time": "2022-02-06T17:25:01.177Z"
   },
   {
    "duration": 16,
    "start_time": "2022-02-06T17:25:01.193Z"
   },
   {
    "duration": 26,
    "start_time": "2022-02-06T17:25:01.211Z"
   },
   {
    "duration": 340,
    "start_time": "2022-02-07T13:41:56.095Z"
   },
   {
    "duration": 1011,
    "start_time": "2022-02-07T13:42:06.086Z"
   },
   {
    "duration": 23,
    "start_time": "2022-02-07T13:42:07.099Z"
   },
   {
    "duration": 18,
    "start_time": "2022-02-07T13:42:07.124Z"
   },
   {
    "duration": 26,
    "start_time": "2022-02-07T13:42:07.144Z"
   },
   {
    "duration": 12,
    "start_time": "2022-02-07T13:42:07.172Z"
   },
   {
    "duration": 67,
    "start_time": "2022-02-07T13:42:07.185Z"
   },
   {
    "duration": 7,
    "start_time": "2022-02-07T13:42:07.254Z"
   },
   {
    "duration": 24,
    "start_time": "2022-02-07T13:42:07.263Z"
   },
   {
    "duration": 20,
    "start_time": "2022-02-07T13:42:07.289Z"
   },
   {
    "duration": 22,
    "start_time": "2022-02-07T13:42:07.310Z"
   },
   {
    "duration": 14,
    "start_time": "2022-02-07T13:42:07.333Z"
   },
   {
    "duration": 22,
    "start_time": "2022-02-07T13:42:07.348Z"
   },
   {
    "duration": 19,
    "start_time": "2022-02-07T13:42:07.371Z"
   },
   {
    "duration": 21,
    "start_time": "2022-02-07T13:42:07.392Z"
   },
   {
    "duration": 18,
    "start_time": "2022-02-07T13:42:07.415Z"
   },
   {
    "duration": 7,
    "start_time": "2022-02-07T13:42:07.434Z"
   },
   {
    "duration": 29,
    "start_time": "2022-02-07T13:42:07.443Z"
   },
   {
    "duration": 177,
    "start_time": "2022-02-07T13:42:07.474Z"
   },
   {
    "duration": 146,
    "start_time": "2022-02-07T13:42:07.653Z"
   },
   {
    "duration": 8,
    "start_time": "2022-02-07T13:42:07.801Z"
   },
   {
    "duration": 309,
    "start_time": "2022-02-07T13:42:07.810Z"
   },
   {
    "duration": 287,
    "start_time": "2022-02-07T13:42:08.120Z"
   },
   {
    "duration": 386,
    "start_time": "2022-02-07T13:42:08.410Z"
   },
   {
    "duration": 300,
    "start_time": "2022-02-07T13:42:08.798Z"
   },
   {
    "duration": 401,
    "start_time": "2022-02-07T13:42:09.100Z"
   },
   {
    "duration": 484,
    "start_time": "2022-02-07T13:42:09.502Z"
   },
   {
    "duration": 4,
    "start_time": "2022-02-07T13:42:09.987Z"
   },
   {
    "duration": 391,
    "start_time": "2022-02-07T13:42:09.992Z"
   },
   {
    "duration": 3,
    "start_time": "2022-02-07T13:42:10.385Z"
   },
   {
    "duration": 250,
    "start_time": "2022-02-07T13:42:10.389Z"
   },
   {
    "duration": 130,
    "start_time": "2022-02-07T13:42:10.641Z"
   },
   {
    "duration": 124,
    "start_time": "2022-02-07T13:42:10.773Z"
   },
   {
    "duration": 9,
    "start_time": "2022-02-07T13:42:10.898Z"
   },
   {
    "duration": 30,
    "start_time": "2022-02-07T13:42:10.908Z"
   },
   {
    "duration": 27,
    "start_time": "2022-02-07T13:42:10.940Z"
   },
   {
    "duration": 20,
    "start_time": "2022-02-07T13:42:10.968Z"
   },
   {
    "duration": 21,
    "start_time": "2022-02-07T13:42:10.989Z"
   },
   {
    "duration": 8058,
    "start_time": "2022-02-07T13:42:52.108Z"
   },
   {
    "duration": 10564,
    "start_time": "2022-02-07T13:43:10.653Z"
   },
   {
    "duration": 1004,
    "start_time": "2022-02-07T13:43:29.928Z"
   },
   {
    "duration": 27,
    "start_time": "2022-02-07T13:43:30.933Z"
   },
   {
    "duration": 8,
    "start_time": "2022-02-07T13:43:30.962Z"
   },
   {
    "duration": 17,
    "start_time": "2022-02-07T13:43:30.972Z"
   },
   {
    "duration": 15,
    "start_time": "2022-02-07T13:43:30.991Z"
   },
   {
    "duration": 60,
    "start_time": "2022-02-07T13:43:31.008Z"
   },
   {
    "duration": 7,
    "start_time": "2022-02-07T13:43:31.070Z"
   },
   {
    "duration": 8,
    "start_time": "2022-02-07T13:43:31.078Z"
   },
   {
    "duration": 12,
    "start_time": "2022-02-07T13:43:31.089Z"
   },
   {
    "duration": 8,
    "start_time": "2022-02-07T13:43:31.103Z"
   },
   {
    "duration": 11,
    "start_time": "2022-02-07T13:43:31.113Z"
   },
   {
    "duration": 7,
    "start_time": "2022-02-07T13:43:31.125Z"
   },
   {
    "duration": 14,
    "start_time": "2022-02-07T13:43:31.134Z"
   },
   {
    "duration": 26,
    "start_time": "2022-02-07T13:43:31.149Z"
   },
   {
    "duration": 5,
    "start_time": "2022-02-07T13:43:31.177Z"
   },
   {
    "duration": 7,
    "start_time": "2022-02-07T13:43:31.184Z"
   },
   {
    "duration": 12,
    "start_time": "2022-02-07T13:43:31.193Z"
   },
   {
    "duration": 195,
    "start_time": "2022-02-07T13:43:31.206Z"
   },
   {
    "duration": 155,
    "start_time": "2022-02-07T13:43:31.402Z"
   },
   {
    "duration": 18,
    "start_time": "2022-02-07T13:43:31.559Z"
   },
   {
    "duration": 306,
    "start_time": "2022-02-07T13:43:31.579Z"
   },
   {
    "duration": 300,
    "start_time": "2022-02-07T13:43:31.887Z"
   },
   {
    "duration": 385,
    "start_time": "2022-02-07T13:43:32.188Z"
   },
   {
    "duration": 312,
    "start_time": "2022-02-07T13:43:32.575Z"
   },
   {
    "duration": 423,
    "start_time": "2022-02-07T13:43:32.889Z"
   },
   {
    "duration": 531,
    "start_time": "2022-02-07T13:43:33.313Z"
   },
   {
    "duration": 3,
    "start_time": "2022-02-07T13:43:33.847Z"
   },
   {
    "duration": 412,
    "start_time": "2022-02-07T13:43:33.853Z"
   },
   {
    "duration": 6,
    "start_time": "2022-02-07T13:43:34.267Z"
   },
   {
    "duration": 268,
    "start_time": "2022-02-07T13:43:34.274Z"
   },
   {
    "duration": 146,
    "start_time": "2022-02-07T13:43:34.544Z"
   },
   {
    "duration": 146,
    "start_time": "2022-02-07T13:43:34.692Z"
   },
   {
    "duration": 10,
    "start_time": "2022-02-07T13:43:34.839Z"
   },
   {
    "duration": 10,
    "start_time": "2022-02-07T13:43:34.871Z"
   },
   {
    "duration": 8,
    "start_time": "2022-02-07T13:43:34.882Z"
   },
   {
    "duration": 8,
    "start_time": "2022-02-07T13:43:34.892Z"
   },
   {
    "duration": 13,
    "start_time": "2022-02-07T13:43:34.901Z"
   },
   {
    "duration": 976,
    "start_time": "2022-02-07T13:44:26.619Z"
   },
   {
    "duration": 24,
    "start_time": "2022-02-07T13:44:27.597Z"
   },
   {
    "duration": 2,
    "start_time": "2022-02-07T13:44:27.623Z"
   },
   {
    "duration": 16,
    "start_time": "2022-02-07T13:44:27.627Z"
   },
   {
    "duration": 9,
    "start_time": "2022-02-07T13:44:27.644Z"
   },
   {
    "duration": 51,
    "start_time": "2022-02-07T13:44:27.655Z"
   },
   {
    "duration": 8,
    "start_time": "2022-02-07T13:44:27.708Z"
   },
   {
    "duration": 9,
    "start_time": "2022-02-07T13:44:27.719Z"
   },
   {
    "duration": 13,
    "start_time": "2022-02-07T13:44:27.729Z"
   },
   {
    "duration": 7,
    "start_time": "2022-02-07T13:44:27.744Z"
   },
   {
    "duration": 7,
    "start_time": "2022-02-07T13:44:27.753Z"
   },
   {
    "duration": 8,
    "start_time": "2022-02-07T13:44:27.761Z"
   },
   {
    "duration": 11,
    "start_time": "2022-02-07T13:44:27.771Z"
   },
   {
    "duration": 12,
    "start_time": "2022-02-07T13:44:27.784Z"
   },
   {
    "duration": 7,
    "start_time": "2022-02-07T13:44:27.798Z"
   },
   {
    "duration": 8,
    "start_time": "2022-02-07T13:44:27.806Z"
   },
   {
    "duration": 15,
    "start_time": "2022-02-07T13:44:27.815Z"
   },
   {
    "duration": 192,
    "start_time": "2022-02-07T13:44:27.831Z"
   },
   {
    "duration": 151,
    "start_time": "2022-02-07T13:44:28.025Z"
   },
   {
    "duration": 9,
    "start_time": "2022-02-07T13:44:28.178Z"
   },
   {
    "duration": 314,
    "start_time": "2022-02-07T13:44:28.189Z"
   },
   {
    "duration": 284,
    "start_time": "2022-02-07T13:44:28.505Z"
   },
   {
    "duration": 381,
    "start_time": "2022-02-07T13:44:28.793Z"
   },
   {
    "duration": 292,
    "start_time": "2022-02-07T13:44:29.176Z"
   },
   {
    "duration": 409,
    "start_time": "2022-02-07T13:44:29.470Z"
   },
   {
    "duration": 471,
    "start_time": "2022-02-07T13:44:29.881Z"
   },
   {
    "duration": 4,
    "start_time": "2022-02-07T13:44:30.354Z"
   },
   {
    "duration": 396,
    "start_time": "2022-02-07T13:44:30.359Z"
   },
   {
    "duration": 3,
    "start_time": "2022-02-07T13:44:30.757Z"
   },
   {
    "duration": 271,
    "start_time": "2022-02-07T13:44:30.762Z"
   },
   {
    "duration": 109,
    "start_time": "2022-02-07T13:44:31.035Z"
   },
   {
    "duration": 113,
    "start_time": "2022-02-07T13:44:31.146Z"
   },
   {
    "duration": 16,
    "start_time": "2022-02-07T13:44:31.261Z"
   },
   {
    "duration": 8,
    "start_time": "2022-02-07T13:44:31.279Z"
   },
   {
    "duration": 10,
    "start_time": "2022-02-07T13:44:31.288Z"
   },
   {
    "duration": 7,
    "start_time": "2022-02-07T13:44:31.299Z"
   },
   {
    "duration": 11,
    "start_time": "2022-02-07T13:44:31.307Z"
   },
   {
    "duration": 13035,
    "start_time": "2022-02-07T13:46:28.589Z"
   },
   {
    "duration": 1052,
    "start_time": "2022-02-07T13:46:50.847Z"
   },
   {
    "duration": 23,
    "start_time": "2022-02-07T13:46:51.901Z"
   },
   {
    "duration": 10,
    "start_time": "2022-02-07T13:46:51.926Z"
   },
   {
    "duration": 36,
    "start_time": "2022-02-07T13:46:51.938Z"
   },
   {
    "duration": 15,
    "start_time": "2022-02-07T13:46:51.975Z"
   },
   {
    "duration": 71,
    "start_time": "2022-02-07T13:46:51.992Z"
   },
   {
    "duration": 7,
    "start_time": "2022-02-07T13:46:52.065Z"
   },
   {
    "duration": 13,
    "start_time": "2022-02-07T13:46:52.074Z"
   },
   {
    "duration": 22,
    "start_time": "2022-02-07T13:46:52.088Z"
   },
   {
    "duration": 18,
    "start_time": "2022-02-07T13:46:52.112Z"
   },
   {
    "duration": 26,
    "start_time": "2022-02-07T13:46:52.132Z"
   },
   {
    "duration": 10,
    "start_time": "2022-02-07T13:46:52.160Z"
   },
   {
    "duration": 21,
    "start_time": "2022-02-07T13:46:52.171Z"
   },
   {
    "duration": 25,
    "start_time": "2022-02-07T13:46:52.194Z"
   },
   {
    "duration": 8,
    "start_time": "2022-02-07T13:46:52.220Z"
   },
   {
    "duration": 17,
    "start_time": "2022-02-07T13:46:52.229Z"
   },
   {
    "duration": 21,
    "start_time": "2022-02-07T13:46:52.248Z"
   },
   {
    "duration": 181,
    "start_time": "2022-02-07T13:46:52.271Z"
   },
   {
    "duration": 154,
    "start_time": "2022-02-07T13:46:52.454Z"
   },
   {
    "duration": 8,
    "start_time": "2022-02-07T13:46:52.610Z"
   },
   {
    "duration": 321,
    "start_time": "2022-02-07T13:46:52.620Z"
   },
   {
    "duration": 285,
    "start_time": "2022-02-07T13:46:52.943Z"
   },
   {
    "duration": 391,
    "start_time": "2022-02-07T13:46:53.231Z"
   },
   {
    "duration": 293,
    "start_time": "2022-02-07T13:46:53.623Z"
   },
   {
    "duration": 389,
    "start_time": "2022-02-07T13:46:53.917Z"
   },
   {
    "duration": 446,
    "start_time": "2022-02-07T13:46:54.307Z"
   },
   {
    "duration": 4,
    "start_time": "2022-02-07T13:46:54.755Z"
   },
   {
    "duration": 385,
    "start_time": "2022-02-07T13:46:54.771Z"
   },
   {
    "duration": 3,
    "start_time": "2022-02-07T13:46:55.158Z"
   },
   {
    "duration": 260,
    "start_time": "2022-02-07T13:46:55.163Z"
   },
   {
    "duration": 108,
    "start_time": "2022-02-07T13:46:55.425Z"
   },
   {
    "duration": 116,
    "start_time": "2022-02-07T13:46:55.534Z"
   },
   {
    "duration": 21,
    "start_time": "2022-02-07T13:46:55.652Z"
   },
   {
    "duration": 8,
    "start_time": "2022-02-07T13:46:55.675Z"
   },
   {
    "duration": 7,
    "start_time": "2022-02-07T13:46:55.684Z"
   },
   {
    "duration": 6,
    "start_time": "2022-02-07T13:46:55.692Z"
   },
   {
    "duration": 11,
    "start_time": "2022-02-07T13:46:55.700Z"
   },
   {
    "duration": 1010,
    "start_time": "2022-02-07T13:48:43.389Z"
   },
   {
    "duration": 24,
    "start_time": "2022-02-07T13:48:44.401Z"
   },
   {
    "duration": 411,
    "start_time": "2022-02-07T13:48:44.427Z"
   },
   {
    "duration": -635,
    "start_time": "2022-02-07T13:48:45.476Z"
   },
   {
    "duration": -645,
    "start_time": "2022-02-07T13:48:45.487Z"
   },
   {
    "duration": -654,
    "start_time": "2022-02-07T13:48:45.498Z"
   },
   {
    "duration": -671,
    "start_time": "2022-02-07T13:48:45.516Z"
   },
   {
    "duration": -691,
    "start_time": "2022-02-07T13:48:45.538Z"
   },
   {
    "duration": -705,
    "start_time": "2022-02-07T13:48:45.553Z"
   },
   {
    "duration": -718,
    "start_time": "2022-02-07T13:48:45.568Z"
   },
   {
    "duration": -729,
    "start_time": "2022-02-07T13:48:45.580Z"
   },
   {
    "duration": -740,
    "start_time": "2022-02-07T13:48:45.592Z"
   },
   {
    "duration": -750,
    "start_time": "2022-02-07T13:48:45.604Z"
   },
   {
    "duration": -764,
    "start_time": "2022-02-07T13:48:45.619Z"
   },
   {
    "duration": -777,
    "start_time": "2022-02-07T13:48:45.633Z"
   },
   {
    "duration": -787,
    "start_time": "2022-02-07T13:48:45.644Z"
   },
   {
    "duration": -797,
    "start_time": "2022-02-07T13:48:45.655Z"
   },
   {
    "duration": -810,
    "start_time": "2022-02-07T13:48:45.669Z"
   },
   {
    "duration": -822,
    "start_time": "2022-02-07T13:48:45.682Z"
   },
   {
    "duration": -838,
    "start_time": "2022-02-07T13:48:45.699Z"
   },
   {
    "duration": -850,
    "start_time": "2022-02-07T13:48:45.711Z"
   },
   {
    "duration": -871,
    "start_time": "2022-02-07T13:48:45.733Z"
   },
   {
    "duration": -882,
    "start_time": "2022-02-07T13:48:45.745Z"
   },
   {
    "duration": -896,
    "start_time": "2022-02-07T13:48:45.760Z"
   },
   {
    "duration": -909,
    "start_time": "2022-02-07T13:48:45.774Z"
   },
   {
    "duration": -923,
    "start_time": "2022-02-07T13:48:45.789Z"
   },
   {
    "duration": -936,
    "start_time": "2022-02-07T13:48:45.804Z"
   },
   {
    "duration": -947,
    "start_time": "2022-02-07T13:48:45.816Z"
   },
   {
    "duration": -981,
    "start_time": "2022-02-07T13:48:45.850Z"
   },
   {
    "duration": -993,
    "start_time": "2022-02-07T13:48:45.864Z"
   },
   {
    "duration": -1030,
    "start_time": "2022-02-07T13:48:45.902Z"
   },
   {
    "duration": -1044,
    "start_time": "2022-02-07T13:48:45.917Z"
   },
   {
    "duration": -1067,
    "start_time": "2022-02-07T13:48:45.941Z"
   },
   {
    "duration": -1078,
    "start_time": "2022-02-07T13:48:45.953Z"
   },
   {
    "duration": -1092,
    "start_time": "2022-02-07T13:48:45.968Z"
   },
   {
    "duration": -1105,
    "start_time": "2022-02-07T13:48:45.982Z"
   },
   {
    "duration": -1115,
    "start_time": "2022-02-07T13:48:45.993Z"
   },
   {
    "duration": 1224,
    "start_time": "2022-02-07T13:49:34.775Z"
   },
   {
    "duration": 25,
    "start_time": "2022-02-07T13:49:36.001Z"
   },
   {
    "duration": 3,
    "start_time": "2022-02-07T13:49:36.028Z"
   },
   {
    "duration": 12,
    "start_time": "2022-02-07T13:49:36.034Z"
   },
   {
    "duration": 411,
    "start_time": "2022-02-07T13:49:36.048Z"
   },
   {
    "duration": -636,
    "start_time": "2022-02-07T13:49:37.098Z"
   },
   {
    "duration": -648,
    "start_time": "2022-02-07T13:49:37.111Z"
   },
   {
    "duration": -657,
    "start_time": "2022-02-07T13:49:37.122Z"
   },
   {
    "duration": -669,
    "start_time": "2022-02-07T13:49:37.135Z"
   },
   {
    "duration": -680,
    "start_time": "2022-02-07T13:49:37.147Z"
   },
   {
    "duration": -699,
    "start_time": "2022-02-07T13:49:37.168Z"
   },
   {
    "duration": -709,
    "start_time": "2022-02-07T13:49:37.179Z"
   },
   {
    "duration": -719,
    "start_time": "2022-02-07T13:49:37.190Z"
   },
   {
    "duration": -728,
    "start_time": "2022-02-07T13:49:37.201Z"
   },
   {
    "duration": -739,
    "start_time": "2022-02-07T13:49:37.213Z"
   },
   {
    "duration": -748,
    "start_time": "2022-02-07T13:49:37.223Z"
   },
   {
    "duration": -757,
    "start_time": "2022-02-07T13:49:37.234Z"
   },
   {
    "duration": -767,
    "start_time": "2022-02-07T13:49:37.245Z"
   },
   {
    "duration": -778,
    "start_time": "2022-02-07T13:49:37.257Z"
   },
   {
    "duration": -796,
    "start_time": "2022-02-07T13:49:37.277Z"
   },
   {
    "duration": -806,
    "start_time": "2022-02-07T13:49:37.288Z"
   },
   {
    "duration": -819,
    "start_time": "2022-02-07T13:49:37.302Z"
   },
   {
    "duration": -828,
    "start_time": "2022-02-07T13:49:37.313Z"
   },
   {
    "duration": -840,
    "start_time": "2022-02-07T13:49:37.326Z"
   },
   {
    "duration": -852,
    "start_time": "2022-02-07T13:49:37.340Z"
   },
   {
    "duration": -864,
    "start_time": "2022-02-07T13:49:37.353Z"
   },
   {
    "duration": -877,
    "start_time": "2022-02-07T13:49:37.367Z"
   },
   {
    "duration": -897,
    "start_time": "2022-02-07T13:49:37.389Z"
   },
   {
    "duration": -917,
    "start_time": "2022-02-07T13:49:37.410Z"
   },
   {
    "duration": -927,
    "start_time": "2022-02-07T13:49:37.421Z"
   },
   {
    "duration": -950,
    "start_time": "2022-02-07T13:49:37.446Z"
   },
   {
    "duration": -961,
    "start_time": "2022-02-07T13:49:37.458Z"
   },
   {
    "duration": -978,
    "start_time": "2022-02-07T13:49:37.476Z"
   },
   {
    "duration": -1004,
    "start_time": "2022-02-07T13:49:37.504Z"
   },
   {
    "duration": -1018,
    "start_time": "2022-02-07T13:49:37.519Z"
   },
   {
    "duration": -1030,
    "start_time": "2022-02-07T13:49:37.533Z"
   },
   {
    "duration": -1040,
    "start_time": "2022-02-07T13:49:37.544Z"
   },
   {
    "duration": 1043,
    "start_time": "2022-02-07T13:50:01.060Z"
   },
   {
    "duration": 23,
    "start_time": "2022-02-07T13:50:02.105Z"
   },
   {
    "duration": 8,
    "start_time": "2022-02-07T13:50:02.130Z"
   },
   {
    "duration": 14,
    "start_time": "2022-02-07T13:50:02.140Z"
   },
   {
    "duration": 9,
    "start_time": "2022-02-07T13:50:02.155Z"
   },
   {
    "duration": 50,
    "start_time": "2022-02-07T13:50:02.165Z"
   },
   {
    "duration": 7,
    "start_time": "2022-02-07T13:50:02.216Z"
   },
   {
    "duration": 8,
    "start_time": "2022-02-07T13:50:02.225Z"
   },
   {
    "duration": 11,
    "start_time": "2022-02-07T13:50:02.235Z"
   },
   {
    "duration": 8,
    "start_time": "2022-02-07T13:50:02.247Z"
   },
   {
    "duration": 8,
    "start_time": "2022-02-07T13:50:02.256Z"
   },
   {
    "duration": 8,
    "start_time": "2022-02-07T13:50:02.265Z"
   },
   {
    "duration": 11,
    "start_time": "2022-02-07T13:50:02.274Z"
   },
   {
    "duration": 13,
    "start_time": "2022-02-07T13:50:02.286Z"
   },
   {
    "duration": 8,
    "start_time": "2022-02-07T13:50:02.300Z"
   },
   {
    "duration": 8,
    "start_time": "2022-02-07T13:50:02.310Z"
   },
   {
    "duration": 13,
    "start_time": "2022-02-07T13:50:02.320Z"
   },
   {
    "duration": 178,
    "start_time": "2022-02-07T13:50:02.335Z"
   },
   {
    "duration": 161,
    "start_time": "2022-02-07T13:50:02.514Z"
   },
   {
    "duration": 8,
    "start_time": "2022-02-07T13:50:02.677Z"
   },
   {
    "duration": 306,
    "start_time": "2022-02-07T13:50:02.687Z"
   },
   {
    "duration": 292,
    "start_time": "2022-02-07T13:50:02.995Z"
   },
   {
    "duration": 392,
    "start_time": "2022-02-07T13:50:03.291Z"
   },
   {
    "duration": 281,
    "start_time": "2022-02-07T13:50:03.685Z"
   },
   {
    "duration": 410,
    "start_time": "2022-02-07T13:50:03.971Z"
   },
   {
    "duration": 492,
    "start_time": "2022-02-07T13:50:04.382Z"
   },
   {
    "duration": 4,
    "start_time": "2022-02-07T13:50:04.875Z"
   },
   {
    "duration": 397,
    "start_time": "2022-02-07T13:50:04.880Z"
   },
   {
    "duration": 4,
    "start_time": "2022-02-07T13:50:05.278Z"
   },
   {
    "duration": 260,
    "start_time": "2022-02-07T13:50:05.284Z"
   },
   {
    "duration": 135,
    "start_time": "2022-02-07T13:50:05.546Z"
   },
   {
    "duration": 132,
    "start_time": "2022-02-07T13:50:05.683Z"
   },
   {
    "duration": 8,
    "start_time": "2022-02-07T13:50:05.817Z"
   },
   {
    "duration": 8,
    "start_time": "2022-02-07T13:50:05.827Z"
   },
   {
    "duration": 7,
    "start_time": "2022-02-07T13:50:05.837Z"
   },
   {
    "duration": 26,
    "start_time": "2022-02-07T13:50:05.846Z"
   },
   {
    "duration": 12,
    "start_time": "2022-02-07T13:50:05.874Z"
   },
   {
    "duration": 972,
    "start_time": "2022-02-07T13:55:28.932Z"
   },
   {
    "duration": 22,
    "start_time": "2022-02-07T13:55:29.906Z"
   },
   {
    "duration": 2,
    "start_time": "2022-02-07T13:55:29.932Z"
   },
   {
    "duration": 14,
    "start_time": "2022-02-07T13:55:29.936Z"
   },
   {
    "duration": 494,
    "start_time": "2022-02-07T13:55:29.952Z"
   },
   {
    "duration": 71,
    "start_time": "2022-02-07T13:55:30.448Z"
   },
   {
    "duration": 7,
    "start_time": "2022-02-07T13:55:30.522Z"
   },
   {
    "duration": 12,
    "start_time": "2022-02-07T13:55:30.531Z"
   },
   {
    "duration": 17,
    "start_time": "2022-02-07T13:55:30.545Z"
   },
   {
    "duration": 9,
    "start_time": "2022-02-07T13:55:30.564Z"
   },
   {
    "duration": 11,
    "start_time": "2022-02-07T13:55:30.575Z"
   },
   {
    "duration": 21,
    "start_time": "2022-02-07T13:55:30.587Z"
   },
   {
    "duration": 23,
    "start_time": "2022-02-07T13:55:30.609Z"
   },
   {
    "duration": 17,
    "start_time": "2022-02-07T13:55:30.633Z"
   },
   {
    "duration": 5,
    "start_time": "2022-02-07T13:55:30.651Z"
   },
   {
    "duration": 10,
    "start_time": "2022-02-07T13:55:30.657Z"
   },
   {
    "duration": 13,
    "start_time": "2022-02-07T13:55:30.668Z"
   },
   {
    "duration": 185,
    "start_time": "2022-02-07T13:55:30.683Z"
   },
   {
    "duration": 164,
    "start_time": "2022-02-07T13:55:30.869Z"
   },
   {
    "duration": 9,
    "start_time": "2022-02-07T13:55:31.034Z"
   },
   {
    "duration": 327,
    "start_time": "2022-02-07T13:55:31.045Z"
   },
   {
    "duration": 274,
    "start_time": "2022-02-07T13:55:31.375Z"
   },
   {
    "duration": 471,
    "start_time": "2022-02-07T13:55:31.651Z"
   },
   {
    "duration": 287,
    "start_time": "2022-02-07T13:55:32.124Z"
   },
   {
    "duration": 377,
    "start_time": "2022-02-07T13:55:32.413Z"
   },
   {
    "duration": 458,
    "start_time": "2022-02-07T13:55:32.792Z"
   },
   {
    "duration": 4,
    "start_time": "2022-02-07T13:55:33.252Z"
   },
   {
    "duration": 424,
    "start_time": "2022-02-07T13:55:33.258Z"
   },
   {
    "duration": 4,
    "start_time": "2022-02-07T13:55:33.685Z"
   },
   {
    "duration": 262,
    "start_time": "2022-02-07T13:55:33.691Z"
   },
   {
    "duration": 125,
    "start_time": "2022-02-07T13:55:33.955Z"
   },
   {
    "duration": 130,
    "start_time": "2022-02-07T13:55:34.082Z"
   },
   {
    "duration": 7,
    "start_time": "2022-02-07T13:55:34.214Z"
   },
   {
    "duration": 10,
    "start_time": "2022-02-07T13:55:34.223Z"
   },
   {
    "duration": 9,
    "start_time": "2022-02-07T13:55:34.234Z"
   },
   {
    "duration": 34,
    "start_time": "2022-02-07T13:55:34.244Z"
   },
   {
    "duration": 12,
    "start_time": "2022-02-07T13:55:34.279Z"
   },
   {
    "duration": 21,
    "start_time": "2022-02-07T13:56:24.239Z"
   },
   {
    "duration": 988,
    "start_time": "2022-02-07T14:02:12.814Z"
   },
   {
    "duration": 487,
    "start_time": "2022-02-07T14:02:13.803Z"
   },
   {
    "duration": 3,
    "start_time": "2022-02-07T14:02:14.292Z"
   },
   {
    "duration": 17,
    "start_time": "2022-02-07T14:02:14.298Z"
   },
   {
    "duration": 10,
    "start_time": "2022-02-07T14:02:14.317Z"
   },
   {
    "duration": 59,
    "start_time": "2022-02-07T14:02:14.329Z"
   },
   {
    "duration": 7,
    "start_time": "2022-02-07T14:02:14.390Z"
   },
   {
    "duration": 7,
    "start_time": "2022-02-07T14:02:14.400Z"
   },
   {
    "duration": 11,
    "start_time": "2022-02-07T14:02:14.409Z"
   },
   {
    "duration": 8,
    "start_time": "2022-02-07T14:02:14.421Z"
   },
   {
    "duration": 6,
    "start_time": "2022-02-07T14:02:14.431Z"
   },
   {
    "duration": 4,
    "start_time": "2022-02-07T14:02:14.439Z"
   },
   {
    "duration": 28,
    "start_time": "2022-02-07T14:02:14.444Z"
   },
   {
    "duration": 10,
    "start_time": "2022-02-07T14:02:14.473Z"
   },
   {
    "duration": 4,
    "start_time": "2022-02-07T14:02:14.485Z"
   },
   {
    "duration": 8,
    "start_time": "2022-02-07T14:02:14.491Z"
   },
   {
    "duration": 13,
    "start_time": "2022-02-07T14:02:14.500Z"
   },
   {
    "duration": 206,
    "start_time": "2022-02-07T14:02:14.515Z"
   },
   {
    "duration": 169,
    "start_time": "2022-02-07T14:02:14.723Z"
   },
   {
    "duration": 8,
    "start_time": "2022-02-07T14:02:14.894Z"
   },
   {
    "duration": 298,
    "start_time": "2022-02-07T14:02:14.904Z"
   },
   {
    "duration": 275,
    "start_time": "2022-02-07T14:02:15.203Z"
   },
   {
    "duration": 437,
    "start_time": "2022-02-07T14:02:15.480Z"
   },
   {
    "duration": 297,
    "start_time": "2022-02-07T14:02:15.919Z"
   },
   {
    "duration": 394,
    "start_time": "2022-02-07T14:02:16.218Z"
   },
   {
    "duration": 472,
    "start_time": "2022-02-07T14:02:16.613Z"
   },
   {
    "duration": 3,
    "start_time": "2022-02-07T14:02:17.087Z"
   },
   {
    "duration": 483,
    "start_time": "2022-02-07T14:02:17.092Z"
   },
   {
    "duration": 3,
    "start_time": "2022-02-07T14:02:17.577Z"
   },
   {
    "duration": 247,
    "start_time": "2022-02-07T14:02:17.582Z"
   },
   {
    "duration": 111,
    "start_time": "2022-02-07T14:02:17.830Z"
   },
   {
    "duration": 154,
    "start_time": "2022-02-07T14:02:17.943Z"
   },
   {
    "duration": 9,
    "start_time": "2022-02-07T14:02:18.098Z"
   },
   {
    "duration": 43,
    "start_time": "2022-02-07T14:02:18.108Z"
   },
   {
    "duration": 39,
    "start_time": "2022-02-07T14:02:18.153Z"
   },
   {
    "duration": 25,
    "start_time": "2022-02-07T14:02:18.194Z"
   },
   {
    "duration": 37,
    "start_time": "2022-02-07T14:02:18.221Z"
   },
   {
    "duration": 15,
    "start_time": "2022-02-07T14:03:29.804Z"
   },
   {
    "duration": 10,
    "start_time": "2022-02-07T14:04:16.426Z"
   },
   {
    "duration": 11,
    "start_time": "2022-02-07T14:04:22.338Z"
   },
   {
    "duration": 14,
    "start_time": "2022-02-07T14:04:30.252Z"
   },
   {
    "duration": 1056,
    "start_time": "2022-02-07T14:13:06.642Z"
   },
   {
    "duration": 24,
    "start_time": "2022-02-07T14:13:07.700Z"
   },
   {
    "duration": 3,
    "start_time": "2022-02-07T14:13:07.727Z"
   },
   {
    "duration": 20,
    "start_time": "2022-02-07T14:13:07.732Z"
   },
   {
    "duration": 2102,
    "start_time": "2022-02-07T14:13:07.754Z"
   },
   {
    "duration": 338,
    "start_time": "2022-02-07T14:13:09.858Z"
   },
   {
    "duration": 7,
    "start_time": "2022-02-07T14:13:10.198Z"
   },
   {
    "duration": 10,
    "start_time": "2022-02-07T14:13:10.207Z"
   },
   {
    "duration": 11,
    "start_time": "2022-02-07T14:13:10.220Z"
   },
   {
    "duration": 7,
    "start_time": "2022-02-07T14:13:10.232Z"
   },
   {
    "duration": 6,
    "start_time": "2022-02-07T14:13:10.240Z"
   },
   {
    "duration": 5,
    "start_time": "2022-02-07T14:13:10.247Z"
   },
   {
    "duration": 9,
    "start_time": "2022-02-07T14:13:10.253Z"
   },
   {
    "duration": 19,
    "start_time": "2022-02-07T14:13:10.263Z"
   },
   {
    "duration": 5,
    "start_time": "2022-02-07T14:13:10.283Z"
   },
   {
    "duration": 9,
    "start_time": "2022-02-07T14:13:10.289Z"
   },
   {
    "duration": 13,
    "start_time": "2022-02-07T14:13:10.300Z"
   },
   {
    "duration": 182,
    "start_time": "2022-02-07T14:13:10.315Z"
   },
   {
    "duration": 145,
    "start_time": "2022-02-07T14:13:10.499Z"
   },
   {
    "duration": 9,
    "start_time": "2022-02-07T14:13:10.645Z"
   },
   {
    "duration": 319,
    "start_time": "2022-02-07T14:13:10.656Z"
   },
   {
    "duration": 289,
    "start_time": "2022-02-07T14:13:10.977Z"
   },
   {
    "duration": 435,
    "start_time": "2022-02-07T14:13:11.268Z"
   },
   {
    "duration": 296,
    "start_time": "2022-02-07T14:13:11.704Z"
   },
   {
    "duration": 383,
    "start_time": "2022-02-07T14:13:12.002Z"
   },
   {
    "duration": 551,
    "start_time": "2022-02-07T14:13:12.387Z"
   },
   {
    "duration": 4,
    "start_time": "2022-02-07T14:13:12.942Z"
   },
   {
    "duration": 409,
    "start_time": "2022-02-07T14:13:12.948Z"
   },
   {
    "duration": 4,
    "start_time": "2022-02-07T14:13:13.358Z"
   },
   {
    "duration": 251,
    "start_time": "2022-02-07T14:13:13.363Z"
   },
   {
    "duration": 111,
    "start_time": "2022-02-07T14:13:13.616Z"
   },
   {
    "duration": 116,
    "start_time": "2022-02-07T14:13:13.729Z"
   },
   {
    "duration": 8,
    "start_time": "2022-02-07T14:13:13.847Z"
   },
   {
    "duration": 20,
    "start_time": "2022-02-07T14:13:13.857Z"
   },
   {
    "duration": 7,
    "start_time": "2022-02-07T14:13:13.878Z"
   },
   {
    "duration": 6,
    "start_time": "2022-02-07T14:13:13.887Z"
   },
   {
    "duration": 11,
    "start_time": "2022-02-07T14:13:13.895Z"
   },
   {
    "duration": 19,
    "start_time": "2022-02-07T14:13:45.838Z"
   },
   {
    "duration": 35,
    "start_time": "2022-02-07T14:14:14.564Z"
   },
   {
    "duration": 17,
    "start_time": "2022-02-07T14:14:40.340Z"
   },
   {
    "duration": 104,
    "start_time": "2022-02-07T14:15:31.406Z"
   },
   {
    "duration": 15,
    "start_time": "2022-02-07T14:15:39.901Z"
   },
   {
    "duration": 15,
    "start_time": "2022-02-07T14:15:48.822Z"
   },
   {
    "duration": 15,
    "start_time": "2022-02-07T14:16:05.414Z"
   },
   {
    "duration": 621,
    "start_time": "2022-02-07T14:17:02.588Z"
   },
   {
    "duration": 181,
    "start_time": "2022-02-07T14:17:23.079Z"
   },
   {
    "duration": 150,
    "start_time": "2022-02-07T14:17:36.719Z"
   },
   {
    "duration": 16,
    "start_time": "2022-02-07T14:17:43.591Z"
   },
   {
    "duration": 345,
    "start_time": "2022-02-07T14:18:54.077Z"
   },
   {
    "duration": 16,
    "start_time": "2022-02-07T14:19:45.948Z"
   },
   {
    "duration": 15,
    "start_time": "2022-02-07T14:20:03.872Z"
   },
   {
    "duration": 14,
    "start_time": "2022-02-07T14:21:19.845Z"
   },
   {
    "duration": 334,
    "start_time": "2022-02-07T14:27:19.967Z"
   },
   {
    "duration": 322,
    "start_time": "2022-02-07T14:27:56.462Z"
   },
   {
    "duration": 16,
    "start_time": "2022-02-07T14:28:03.052Z"
   },
   {
    "duration": 54,
    "start_time": "2022-02-07T14:34:44.998Z"
   },
   {
    "duration": 24,
    "start_time": "2022-02-07T14:34:55.151Z"
   },
   {
    "duration": 16,
    "start_time": "2022-02-07T14:35:28.196Z"
   },
   {
    "duration": 17,
    "start_time": "2022-02-07T14:36:03.648Z"
   },
   {
    "duration": 22,
    "start_time": "2022-02-07T14:36:09.505Z"
   },
   {
    "duration": 15,
    "start_time": "2022-02-07T14:36:17.224Z"
   },
   {
    "duration": 1059,
    "start_time": "2022-02-07T14:36:40.748Z"
   },
   {
    "duration": 24,
    "start_time": "2022-02-07T14:36:41.809Z"
   },
   {
    "duration": 4,
    "start_time": "2022-02-07T14:36:41.835Z"
   },
   {
    "duration": 15,
    "start_time": "2022-02-07T14:36:41.840Z"
   },
   {
    "duration": 526,
    "start_time": "2022-02-07T14:36:41.856Z"
   },
   {
    "duration": 79,
    "start_time": "2022-02-07T14:36:42.384Z"
   },
   {
    "duration": 9,
    "start_time": "2022-02-07T14:36:42.464Z"
   },
   {
    "duration": 8,
    "start_time": "2022-02-07T14:36:42.476Z"
   },
   {
    "duration": 11,
    "start_time": "2022-02-07T14:36:42.486Z"
   },
   {
    "duration": 8,
    "start_time": "2022-02-07T14:36:42.498Z"
   },
   {
    "duration": 6,
    "start_time": "2022-02-07T14:36:42.508Z"
   },
   {
    "duration": 7,
    "start_time": "2022-02-07T14:36:42.515Z"
   },
   {
    "duration": 8,
    "start_time": "2022-02-07T14:36:42.524Z"
   },
   {
    "duration": 14,
    "start_time": "2022-02-07T14:36:42.534Z"
   },
   {
    "duration": 25,
    "start_time": "2022-02-07T14:36:42.549Z"
   },
   {
    "duration": 6,
    "start_time": "2022-02-07T14:36:42.576Z"
   },
   {
    "duration": 12,
    "start_time": "2022-02-07T14:36:42.583Z"
   },
   {
    "duration": 195,
    "start_time": "2022-02-07T14:36:42.596Z"
   },
   {
    "duration": 156,
    "start_time": "2022-02-07T14:36:42.792Z"
   },
   {
    "duration": 11,
    "start_time": "2022-02-07T14:36:42.950Z"
   },
   {
    "duration": 299,
    "start_time": "2022-02-07T14:36:42.972Z"
   },
   {
    "duration": 280,
    "start_time": "2022-02-07T14:36:43.273Z"
   },
   {
    "duration": 460,
    "start_time": "2022-02-07T14:36:43.556Z"
   },
   {
    "duration": 293,
    "start_time": "2022-02-07T14:36:44.017Z"
   },
   {
    "duration": 394,
    "start_time": "2022-02-07T14:36:44.312Z"
   },
   {
    "duration": 476,
    "start_time": "2022-02-07T14:36:44.707Z"
   },
   {
    "duration": 4,
    "start_time": "2022-02-07T14:36:45.185Z"
   },
   {
    "duration": 459,
    "start_time": "2022-02-07T14:36:45.190Z"
   },
   {
    "duration": 4,
    "start_time": "2022-02-07T14:36:45.650Z"
   },
   {
    "duration": 249,
    "start_time": "2022-02-07T14:36:45.656Z"
   },
   {
    "duration": 112,
    "start_time": "2022-02-07T14:36:45.906Z"
   },
   {
    "duration": 134,
    "start_time": "2022-02-07T14:36:46.020Z"
   },
   {
    "duration": 21,
    "start_time": "2022-02-07T14:36:46.156Z"
   },
   {
    "duration": 8,
    "start_time": "2022-02-07T14:36:46.179Z"
   },
   {
    "duration": 7,
    "start_time": "2022-02-07T14:36:46.189Z"
   },
   {
    "duration": 6,
    "start_time": "2022-02-07T14:36:46.198Z"
   },
   {
    "duration": 12,
    "start_time": "2022-02-07T14:36:46.205Z"
   },
   {
    "duration": 1026,
    "start_time": "2022-02-07T14:37:45.586Z"
   },
   {
    "duration": 24,
    "start_time": "2022-02-07T14:37:46.614Z"
   },
   {
    "duration": 18,
    "start_time": "2022-02-07T14:37:46.642Z"
   },
   {
    "duration": 28,
    "start_time": "2022-02-07T14:37:46.662Z"
   },
   {
    "duration": 774,
    "start_time": "2022-02-07T14:37:46.691Z"
   },
   {
    "duration": 59,
    "start_time": "2022-02-07T14:37:47.467Z"
   },
   {
    "duration": 8,
    "start_time": "2022-02-07T14:37:47.529Z"
   },
   {
    "duration": 8,
    "start_time": "2022-02-07T14:37:47.539Z"
   },
   {
    "duration": 16,
    "start_time": "2022-02-07T14:37:47.549Z"
   },
   {
    "duration": 14,
    "start_time": "2022-02-07T14:37:47.567Z"
   },
   {
    "duration": 8,
    "start_time": "2022-02-07T14:37:47.582Z"
   },
   {
    "duration": 8,
    "start_time": "2022-02-07T14:37:47.591Z"
   },
   {
    "duration": 7,
    "start_time": "2022-02-07T14:37:47.600Z"
   },
   {
    "duration": 10,
    "start_time": "2022-02-07T14:37:47.608Z"
   },
   {
    "duration": 6,
    "start_time": "2022-02-07T14:37:47.620Z"
   },
   {
    "duration": 9,
    "start_time": "2022-02-07T14:37:47.627Z"
   },
   {
    "duration": 14,
    "start_time": "2022-02-07T14:37:47.638Z"
   },
   {
    "duration": 202,
    "start_time": "2022-02-07T14:37:47.672Z"
   },
   {
    "duration": 149,
    "start_time": "2022-02-07T14:37:47.875Z"
   },
   {
    "duration": 9,
    "start_time": "2022-02-07T14:37:48.026Z"
   },
   {
    "duration": 356,
    "start_time": "2022-02-07T14:37:48.037Z"
   },
   {
    "duration": 287,
    "start_time": "2022-02-07T14:37:48.396Z"
   },
   {
    "duration": 441,
    "start_time": "2022-02-07T14:37:48.684Z"
   },
   {
    "duration": 290,
    "start_time": "2022-02-07T14:37:49.127Z"
   },
   {
    "duration": 409,
    "start_time": "2022-02-07T14:37:49.418Z"
   },
   {
    "duration": 544,
    "start_time": "2022-02-07T14:37:49.829Z"
   },
   {
    "duration": 4,
    "start_time": "2022-02-07T14:37:50.374Z"
   },
   {
    "duration": 396,
    "start_time": "2022-02-07T14:37:50.379Z"
   },
   {
    "duration": 4,
    "start_time": "2022-02-07T14:37:50.776Z"
   },
   {
    "duration": 277,
    "start_time": "2022-02-07T14:37:50.782Z"
   },
   {
    "duration": 124,
    "start_time": "2022-02-07T14:37:51.061Z"
   },
   {
    "duration": 134,
    "start_time": "2022-02-07T14:37:51.186Z"
   },
   {
    "duration": 8,
    "start_time": "2022-02-07T14:37:51.322Z"
   },
   {
    "duration": 23,
    "start_time": "2022-02-07T14:37:51.331Z"
   },
   {
    "duration": 19,
    "start_time": "2022-02-07T14:37:51.355Z"
   },
   {
    "duration": 12,
    "start_time": "2022-02-07T14:37:51.375Z"
   },
   {
    "duration": 27,
    "start_time": "2022-02-07T14:37:51.389Z"
   },
   {
    "duration": 15,
    "start_time": "2022-02-07T14:38:17.809Z"
   },
   {
    "duration": 297,
    "start_time": "2022-02-07T14:40:26.760Z"
   },
   {
    "duration": 293,
    "start_time": "2022-02-07T14:41:43.949Z"
   },
   {
    "duration": 283,
    "start_time": "2022-02-07T14:42:20.000Z"
   },
   {
    "duration": 280,
    "start_time": "2022-02-07T14:43:01.647Z"
   },
   {
    "duration": 292,
    "start_time": "2022-02-07T14:43:58.369Z"
   },
   {
    "duration": 289,
    "start_time": "2022-02-07T14:45:31.346Z"
   },
   {
    "duration": 285,
    "start_time": "2022-02-07T14:45:48.418Z"
   },
   {
    "duration": 448,
    "start_time": "2022-02-07T14:48:12.944Z"
   },
   {
    "duration": 432,
    "start_time": "2022-02-07T14:48:20.981Z"
   },
   {
    "duration": 527,
    "start_time": "2022-02-07T14:51:24.747Z"
   },
   {
    "duration": 344,
    "start_time": "2022-02-07T14:51:42.224Z"
   },
   {
    "duration": 249,
    "start_time": "2022-02-07T14:52:25.523Z"
   },
   {
    "duration": 13,
    "start_time": "2022-02-07T15:08:51.688Z"
   },
   {
    "duration": 13,
    "start_time": "2022-02-07T15:09:08.176Z"
   },
   {
    "duration": 12,
    "start_time": "2022-02-07T15:09:18.097Z"
   },
   {
    "duration": 6,
    "start_time": "2022-02-07T15:10:28.147Z"
   },
   {
    "duration": 9,
    "start_time": "2022-02-07T15:11:11.314Z"
   },
   {
    "duration": 109,
    "start_time": "2022-02-07T15:11:35.565Z"
   },
   {
    "duration": 113,
    "start_time": "2022-02-07T15:11:51.829Z"
   },
   {
    "duration": 351,
    "start_time": "2022-02-07T15:15:04.092Z"
   },
   {
    "duration": 362,
    "start_time": "2022-02-07T15:15:52.753Z"
   },
   {
    "duration": 364,
    "start_time": "2022-02-07T15:16:04.449Z"
   },
   {
    "duration": 225,
    "start_time": "2022-02-07T15:17:08.642Z"
   },
   {
    "duration": 327,
    "start_time": "2022-02-07T15:17:30.180Z"
   },
   {
    "duration": 306,
    "start_time": "2022-02-07T15:17:42.843Z"
   },
   {
    "duration": 313,
    "start_time": "2022-02-07T15:18:05.796Z"
   },
   {
    "duration": 3399,
    "start_time": "2022-02-07T15:18:30.989Z"
   },
   {
    "duration": 380,
    "start_time": "2022-02-07T15:18:43.925Z"
   },
   {
    "duration": 417,
    "start_time": "2022-02-08T13:40:58.834Z"
   },
   {
    "duration": 1544,
    "start_time": "2022-02-08T13:41:40.894Z"
   },
   {
    "duration": 34,
    "start_time": "2022-02-08T13:41:42.440Z"
   },
   {
    "duration": 5,
    "start_time": "2022-02-08T13:41:42.479Z"
   },
   {
    "duration": 21,
    "start_time": "2022-02-08T13:41:42.488Z"
   },
   {
    "duration": 988,
    "start_time": "2022-02-08T13:41:42.512Z"
   },
   {
    "duration": 51,
    "start_time": "2022-02-08T13:41:43.503Z"
   },
   {
    "duration": 13,
    "start_time": "2022-02-08T13:41:43.556Z"
   },
   {
    "duration": 17,
    "start_time": "2022-02-08T13:41:43.575Z"
   },
   {
    "duration": 20,
    "start_time": "2022-02-08T13:41:43.596Z"
   },
   {
    "duration": 12,
    "start_time": "2022-02-08T13:41:43.661Z"
   },
   {
    "duration": 14,
    "start_time": "2022-02-08T13:41:43.676Z"
   },
   {
    "duration": 8,
    "start_time": "2022-02-08T13:41:43.693Z"
   },
   {
    "duration": 65,
    "start_time": "2022-02-08T13:41:43.704Z"
   },
   {
    "duration": 16,
    "start_time": "2022-02-08T13:41:43.771Z"
   },
   {
    "duration": 8,
    "start_time": "2022-02-08T13:41:43.789Z"
   },
   {
    "duration": 64,
    "start_time": "2022-02-08T13:41:43.799Z"
   },
   {
    "duration": 21,
    "start_time": "2022-02-08T13:41:43.866Z"
   },
   {
    "duration": 386,
    "start_time": "2022-02-08T13:41:43.890Z"
   },
   {
    "duration": 305,
    "start_time": "2022-02-08T13:41:44.279Z"
   },
   {
    "duration": 17,
    "start_time": "2022-02-08T13:41:44.588Z"
   },
   {
    "duration": 692,
    "start_time": "2022-02-08T13:41:44.608Z"
   },
   {
    "duration": 584,
    "start_time": "2022-02-08T13:41:45.302Z"
   },
   {
    "duration": 764,
    "start_time": "2022-02-08T13:41:45.891Z"
   },
   {
    "duration": 536,
    "start_time": "2022-02-08T13:41:46.661Z"
   },
   {
    "duration": 686,
    "start_time": "2022-02-08T13:41:47.199Z"
   },
   {
    "duration": 866,
    "start_time": "2022-02-08T13:41:47.888Z"
   },
   {
    "duration": 7,
    "start_time": "2022-02-08T13:41:48.760Z"
   },
   {
    "duration": 583,
    "start_time": "2022-02-08T13:41:48.770Z"
   },
   {
    "duration": 6,
    "start_time": "2022-02-08T13:41:49.359Z"
   },
   {
    "duration": 511,
    "start_time": "2022-02-08T13:41:49.368Z"
   },
   {
    "duration": 233,
    "start_time": "2022-02-08T13:41:49.882Z"
   },
   {
    "duration": 225,
    "start_time": "2022-02-08T13:41:50.117Z"
   },
   {
    "duration": 16,
    "start_time": "2022-02-08T13:41:50.345Z"
   },
   {
    "duration": 13,
    "start_time": "2022-02-08T13:41:50.364Z"
   },
   {
    "duration": 25,
    "start_time": "2022-02-08T13:41:50.379Z"
   },
   {
    "duration": 39,
    "start_time": "2022-02-08T13:41:50.407Z"
   },
   {
    "duration": 31,
    "start_time": "2022-02-08T13:41:50.449Z"
   },
   {
    "duration": 27,
    "start_time": "2022-02-08T13:43:13.849Z"
   },
   {
    "duration": 27,
    "start_time": "2022-02-08T13:43:23.230Z"
   },
   {
    "duration": 23,
    "start_time": "2022-02-08T13:45:40.230Z"
   },
   {
    "duration": 25,
    "start_time": "2022-02-08T13:46:20.025Z"
   },
   {
    "duration": 26,
    "start_time": "2022-02-08T13:46:40.488Z"
   },
   {
    "duration": 33,
    "start_time": "2022-02-08T13:46:57.912Z"
   },
   {
    "duration": 15,
    "start_time": "2022-02-08T13:49:12.526Z"
   },
   {
    "duration": 1373,
    "start_time": "2022-02-08T14:17:16.143Z"
   },
   {
    "duration": 30,
    "start_time": "2022-02-08T14:17:17.519Z"
   },
   {
    "duration": 8,
    "start_time": "2022-02-08T14:17:17.552Z"
   },
   {
    "duration": 19,
    "start_time": "2022-02-08T14:17:17.563Z"
   },
   {
    "duration": 690,
    "start_time": "2022-02-08T14:17:17.584Z"
   },
   {
    "duration": 66,
    "start_time": "2022-02-08T14:17:18.277Z"
   },
   {
    "duration": 12,
    "start_time": "2022-02-08T14:17:18.345Z"
   },
   {
    "duration": 12,
    "start_time": "2022-02-08T14:17:18.361Z"
   },
   {
    "duration": 18,
    "start_time": "2022-02-08T14:17:18.377Z"
   },
   {
    "duration": 13,
    "start_time": "2022-02-08T14:17:18.397Z"
   },
   {
    "duration": 12,
    "start_time": "2022-02-08T14:17:18.413Z"
   },
   {
    "duration": 8,
    "start_time": "2022-02-08T14:17:18.460Z"
   },
   {
    "duration": 11,
    "start_time": "2022-02-08T14:17:18.470Z"
   },
   {
    "duration": 18,
    "start_time": "2022-02-08T14:17:18.484Z"
   },
   {
    "duration": 55,
    "start_time": "2022-02-08T14:17:18.504Z"
   },
   {
    "duration": 9,
    "start_time": "2022-02-08T14:17:18.562Z"
   },
   {
    "duration": 15,
    "start_time": "2022-02-08T14:17:18.573Z"
   },
   {
    "duration": 350,
    "start_time": "2022-02-08T14:17:18.590Z"
   },
   {
    "duration": 289,
    "start_time": "2022-02-08T14:17:18.942Z"
   },
   {
    "duration": 32,
    "start_time": "2022-02-08T14:17:19.233Z"
   },
   {
    "duration": 682,
    "start_time": "2022-02-08T14:17:19.267Z"
   },
   {
    "duration": 632,
    "start_time": "2022-02-08T14:17:19.959Z"
   },
   {
    "duration": 719,
    "start_time": "2022-02-08T14:17:20.596Z"
   },
   {
    "duration": 544,
    "start_time": "2022-02-08T14:17:21.318Z"
   },
   {
    "duration": 654,
    "start_time": "2022-02-08T14:17:21.865Z"
   },
   {
    "duration": 889,
    "start_time": "2022-02-08T14:17:22.523Z"
   },
   {
    "duration": 6,
    "start_time": "2022-02-08T14:17:23.415Z"
   },
   {
    "duration": 634,
    "start_time": "2022-02-08T14:17:23.423Z"
   },
   {
    "duration": 7,
    "start_time": "2022-02-08T14:17:24.060Z"
   },
   {
    "duration": 505,
    "start_time": "2022-02-08T14:17:24.070Z"
   },
   {
    "duration": 232,
    "start_time": "2022-02-08T14:17:24.578Z"
   },
   {
    "duration": 228,
    "start_time": "2022-02-08T14:17:24.812Z"
   },
   {
    "duration": 22,
    "start_time": "2022-02-08T14:17:25.043Z"
   },
   {
    "duration": 14,
    "start_time": "2022-02-08T14:17:25.067Z"
   },
   {
    "duration": 12,
    "start_time": "2022-02-08T14:17:25.083Z"
   },
   {
    "duration": 10,
    "start_time": "2022-02-08T14:17:25.097Z"
   },
   {
    "duration": 60,
    "start_time": "2022-02-08T14:17:25.109Z"
   }
  ],
  "kernelspec": {
   "display_name": "Python 3",
   "language": "python",
   "name": "python3"
  },
  "language_info": {
   "codemirror_mode": {
    "name": "ipython",
    "version": 3
   },
   "file_extension": ".py",
   "mimetype": "text/x-python",
   "name": "python",
   "nbconvert_exporter": "python",
   "pygments_lexer": "ipython3",
   "version": "3.7.13"
  },
  "toc": {
   "base_numbering": 1,
   "nav_menu": {},
   "number_sections": true,
   "sideBar": true,
   "skip_h1_title": true,
   "title_cell": "Table of Contents",
   "title_sidebar": "Contents",
   "toc_cell": false,
   "toc_position": {},
   "toc_section_display": true,
   "toc_window_display": false
  }
 },
 "nbformat": 4,
 "nbformat_minor": 2
}
