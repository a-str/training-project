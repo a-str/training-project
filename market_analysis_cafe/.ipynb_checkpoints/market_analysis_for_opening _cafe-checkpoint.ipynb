{
 "cells": [
  {
   "cell_type": "markdown",
   "metadata": {},
   "source": [
    "# Выбор места для отрытия кафе"
   ]
  },
  {
   "cell_type": "markdown",
   "metadata": {},
   "source": [
    "__Постановка задачи:__\n",
    "\n",
    "Провести анализ рынка для открытия нового кафе в Москве и дать рекомендации: район, количество мест, вид заведения."
   ]
  },
  {
   "cell_type": "code",
   "execution_count": 1,
   "metadata": {},
   "outputs": [],
   "source": [
    "# подключение библиотек\n",
    "import pandas as pd\n",
    "import numpy as np\n",
    "\n",
    "import scipy.stats as stats\n",
    "import datetime as dt\n",
    "\n",
    "import matplotlib.pyplot as plt\n",
    "import seaborn as sns\n",
    "\n",
    "large = 24; med = 16; small = 12\n",
    "params = {'axes.titlesize': large,\n",
    "          'legend.fontsize': med,\n",
    "          'figure.figsize': (16, 8),\n",
    "          'axes.labelsize': med,\n",
    "          'axes.titlesize': med,\n",
    "          'xtick.labelsize': small,\n",
    "          'ytick.labelsize': small,\n",
    "          'figure.titlesize': large}\n",
    "plt.rcParams.update(params)\n",
    "plt.style.use('seaborn-whitegrid')\n",
    "%matplotlib inline\n",
    "\n",
    "import warnings\n",
    "warnings.filterwarnings(\"ignore\")"
   ]
  },
  {
   "cell_type": "markdown",
   "metadata": {},
   "source": [
    "<a id='id_1'></a>\n",
    "## Загрузка и предобработка данных"
   ]
  },
  {
   "cell_type": "code",
   "execution_count": 2,
   "metadata": {},
   "outputs": [
    {
     "data": {
      "text/html": [
       "<div>\n",
       "<style scoped>\n",
       "    .dataframe tbody tr th:only-of-type {\n",
       "        vertical-align: middle;\n",
       "    }\n",
       "\n",
       "    .dataframe tbody tr th {\n",
       "        vertical-align: top;\n",
       "    }\n",
       "\n",
       "    .dataframe thead th {\n",
       "        text-align: right;\n",
       "    }\n",
       "</style>\n",
       "<table border=\"1\" class=\"dataframe\">\n",
       "  <thead>\n",
       "    <tr style=\"text-align: right;\">\n",
       "      <th></th>\n",
       "      <th>id</th>\n",
       "      <th>object_name</th>\n",
       "      <th>chain</th>\n",
       "      <th>object_type</th>\n",
       "      <th>address</th>\n",
       "      <th>number</th>\n",
       "    </tr>\n",
       "  </thead>\n",
       "  <tbody>\n",
       "    <tr>\n",
       "      <td>0</td>\n",
       "      <td>151635</td>\n",
       "      <td>СМЕТАНА</td>\n",
       "      <td>нет</td>\n",
       "      <td>кафе</td>\n",
       "      <td>город Москва, улица Егора Абакумова, дом 9</td>\n",
       "      <td>48</td>\n",
       "    </tr>\n",
       "    <tr>\n",
       "      <td>1</td>\n",
       "      <td>77874</td>\n",
       "      <td>Родник</td>\n",
       "      <td>нет</td>\n",
       "      <td>кафе</td>\n",
       "      <td>город Москва, улица Талалихина, дом 2/1, корпус 1</td>\n",
       "      <td>35</td>\n",
       "    </tr>\n",
       "    <tr>\n",
       "      <td>2</td>\n",
       "      <td>24309</td>\n",
       "      <td>Кафе «Академия»</td>\n",
       "      <td>нет</td>\n",
       "      <td>кафе</td>\n",
       "      <td>город Москва, Абельмановская улица, дом 6</td>\n",
       "      <td>95</td>\n",
       "    </tr>\n",
       "    <tr>\n",
       "      <td>3</td>\n",
       "      <td>21894</td>\n",
       "      <td>ПИЦЦЕТОРИЯ</td>\n",
       "      <td>да</td>\n",
       "      <td>кафе</td>\n",
       "      <td>город Москва, Абрамцевская улица, дом 1</td>\n",
       "      <td>40</td>\n",
       "    </tr>\n",
       "    <tr>\n",
       "      <td>4</td>\n",
       "      <td>119365</td>\n",
       "      <td>Кафе «Вишневая метель»</td>\n",
       "      <td>нет</td>\n",
       "      <td>кафе</td>\n",
       "      <td>город Москва, Абрамцевская улица, дом 9, корпус 1</td>\n",
       "      <td>50</td>\n",
       "    </tr>\n",
       "  </tbody>\n",
       "</table>\n",
       "</div>"
      ],
      "text/plain": [
       "       id             object_name chain object_type  \\\n",
       "0  151635                 СМЕТАНА   нет        кафе   \n",
       "1   77874                  Родник   нет        кафе   \n",
       "2   24309         Кафе «Академия»   нет        кафе   \n",
       "3   21894              ПИЦЦЕТОРИЯ    да        кафе   \n",
       "4  119365  Кафе «Вишневая метель»   нет        кафе   \n",
       "\n",
       "                                             address  number  \n",
       "0         город Москва, улица Егора Абакумова, дом 9      48  \n",
       "1  город Москва, улица Талалихина, дом 2/1, корпус 1      35  \n",
       "2          город Москва, Абельмановская улица, дом 6      95  \n",
       "3            город Москва, Абрамцевская улица, дом 1      40  \n",
       "4  город Москва, Абрамцевская улица, дом 9, корпус 1      50  "
      ]
     },
     "execution_count": 2,
     "metadata": {},
     "output_type": "execute_result"
    }
   ],
   "source": [
    "# получение данных\n",
    "data = pd.read_csv('r_data.csv', sep=',')\n",
    "data.head()"
   ]
  },
  {
   "cell_type": "code",
   "execution_count": 3,
   "metadata": {},
   "outputs": [
    {
     "name": "stdout",
     "output_type": "stream",
     "text": [
      "<class 'pandas.core.frame.DataFrame'>\n",
      "RangeIndex: 15366 entries, 0 to 15365\n",
      "Data columns (total 6 columns):\n",
      "id             15366 non-null int64\n",
      "object_name    15366 non-null object\n",
      "chain          15366 non-null object\n",
      "object_type    15366 non-null object\n",
      "address        15366 non-null object\n",
      "number         15366 non-null int64\n",
      "dtypes: int64(2), object(4)\n",
      "memory usage: 720.4+ KB\n"
     ]
    }
   ],
   "source": [
    "# обзор данных\n",
    "data.info()"
   ]
  },
  {
   "cell_type": "code",
   "execution_count": 4,
   "metadata": {},
   "outputs": [
    {
     "data": {
      "text/plain": [
       "нет    12398\n",
       "да      2968\n",
       "Name: chain, dtype: int64"
      ]
     },
     "metadata": {},
     "output_type": "display_data"
    },
    {
     "data": {
      "text/plain": [
       "кафе                                 6099\n",
       "столовая                             2587\n",
       "ресторан                             2285\n",
       "предприятие быстрого обслуживания    1923\n",
       "бар                                   856\n",
       "буфет                                 585\n",
       "кафетерий                             398\n",
       "закусочная                            360\n",
       "магазин (отдел кулинарии)             273\n",
       "Name: object_type, dtype: int64"
      ]
     },
     "execution_count": 4,
     "metadata": {},
     "output_type": "execute_result"
    }
   ],
   "source": [
    "# проверка неявных дубликатов\n",
    "display(data['chain'].value_counts())\n",
    "data['object_type'].value_counts()"
   ]
  },
  {
   "cell_type": "code",
   "execution_count": 5,
   "metadata": {},
   "outputs": [
    {
     "data": {
      "text/plain": [
       "82"
      ]
     },
     "execution_count": 5,
     "metadata": {},
     "output_type": "execute_result"
    }
   ],
   "source": [
    "# проверка явных дубликатов\n",
    "data.duplicated(subset=['object_name', 'chain', 'object_type', 'address', 'number']).sum()"
   ]
  },
  {
   "cell_type": "code",
   "execution_count": 6,
   "metadata": {},
   "outputs": [],
   "source": [
    "# удаление явных дубликатов в строках\n",
    "#data.drop_duplicates(subset=['object_name', 'chain', 'object_type', 'address', 'number']).reset_index(drop=True)"
   ]
  },
  {
   "cell_type": "markdown",
   "metadata": {},
   "source": [
    "Вывод: пропусков данных нет, неявные дубликаты проверены - кроме наименований и адресов объектов."
   ]
  },
  {
   "cell_type": "markdown",
   "metadata": {},
   "source": [
    "<a id='id_2'></a>\n",
    "## Анализ рынка"
   ]
  },
  {
   "cell_type": "markdown",
   "metadata": {},
   "source": [
    "<a id='id_2_1'></a>\n",
    "### Анализ видов объектов общественного питания"
   ]
  },
  {
   "cell_type": "code",
   "execution_count": 7,
   "metadata": {},
   "outputs": [
    {
     "data": {
      "text/html": [
       "<div>\n",
       "<style scoped>\n",
       "    .dataframe tbody tr th:only-of-type {\n",
       "        vertical-align: middle;\n",
       "    }\n",
       "\n",
       "    .dataframe tbody tr th {\n",
       "        vertical-align: top;\n",
       "    }\n",
       "\n",
       "    .dataframe thead th {\n",
       "        text-align: right;\n",
       "    }\n",
       "</style>\n",
       "<table border=\"1\" class=\"dataframe\">\n",
       "  <thead>\n",
       "    <tr style=\"text-align: right;\">\n",
       "      <th></th>\n",
       "      <th>object_type</th>\n",
       "      <th>count_object_type</th>\n",
       "    </tr>\n",
       "  </thead>\n",
       "  <tbody>\n",
       "    <tr>\n",
       "      <td>0</td>\n",
       "      <td>кафе</td>\n",
       "      <td>6099</td>\n",
       "    </tr>\n",
       "    <tr>\n",
       "      <td>1</td>\n",
       "      <td>столовая</td>\n",
       "      <td>2587</td>\n",
       "    </tr>\n",
       "    <tr>\n",
       "      <td>2</td>\n",
       "      <td>ресторан</td>\n",
       "      <td>2285</td>\n",
       "    </tr>\n",
       "    <tr>\n",
       "      <td>3</td>\n",
       "      <td>предприятие быстрого обслуживания</td>\n",
       "      <td>1923</td>\n",
       "    </tr>\n",
       "    <tr>\n",
       "      <td>4</td>\n",
       "      <td>бар</td>\n",
       "      <td>856</td>\n",
       "    </tr>\n",
       "    <tr>\n",
       "      <td>5</td>\n",
       "      <td>буфет</td>\n",
       "      <td>585</td>\n",
       "    </tr>\n",
       "    <tr>\n",
       "      <td>6</td>\n",
       "      <td>кафетерий</td>\n",
       "      <td>398</td>\n",
       "    </tr>\n",
       "    <tr>\n",
       "      <td>7</td>\n",
       "      <td>закусочная</td>\n",
       "      <td>360</td>\n",
       "    </tr>\n",
       "    <tr>\n",
       "      <td>8</td>\n",
       "      <td>магазин (отдел кулинарии)</td>\n",
       "      <td>273</td>\n",
       "    </tr>\n",
       "  </tbody>\n",
       "</table>\n",
       "</div>"
      ],
      "text/plain": [
       "                         object_type  count_object_type\n",
       "0                               кафе               6099\n",
       "1                           столовая               2587\n",
       "2                           ресторан               2285\n",
       "3  предприятие быстрого обслуживания               1923\n",
       "4                                бар                856\n",
       "5                              буфет                585\n",
       "6                          кафетерий                398\n",
       "7                         закусочная                360\n",
       "8          магазин (отдел кулинарии)                273"
      ]
     },
     "execution_count": 7,
     "metadata": {},
     "output_type": "execute_result"
    }
   ],
   "source": [
    "# сводная таблица по видам объектов\n",
    "data_object_type = (\n",
    "    data.groupby('object_type', as_index=False).agg({'id': 'count'})\n",
    "    .rename(columns={'id': 'count_object_type'})\n",
    "    .sort_values(by='count_object_type', ascending=False)\n",
    ").reset_index(drop=True)\n",
    "data_object_type"
   ]
  },
  {
   "cell_type": "code",
   "execution_count": 8,
   "metadata": {},
   "outputs": [
    {
     "data": {
      "image/png": "[encoded data removed]",
      "text/plain": [
       "<Figure size 1080x432 with 1 Axes>"
      ]
     },
     "metadata": {
      "needs_background": "light"
     },
     "output_type": "display_data"
    }
   ],
   "source": [
    "# диаграмма количества объектов\n",
    "f, ax = plt.subplots(figsize=(15, 6))\n",
    "ax = sns.barplot(y='object_type', x='count_object_type', data=data_object_type)\n",
    "ax.set_title('Количество объектов общественного питания по видам')\n",
    "ax.set_xlabel('Количество объектов')\n",
    "ax.set_ylabel('Виды объектов')\n",
    "plt.show()"
   ]
  },
  {
   "cell_type": "code",
   "execution_count": 9,
   "metadata": {},
   "outputs": [
    {
     "data": {
      "text/plain": [
       "(0.4, 15366)"
      ]
     },
     "execution_count": 9,
     "metadata": {},
     "output_type": "execute_result"
    }
   ],
   "source": [
    "# доля кафе на рынке заведений\n",
    "object_sum = data_object_type['count_object_type'].sum()\n",
    "cafe_sum = data_object_type[data_object_type['object_type'] == 'кафе']['count_object_type'].sum()\n",
    "round(cafe_sum / object_sum, 2), object_sum"
   ]
  },
  {
   "cell_type": "markdown",
   "metadata": {},
   "source": [
    "Вывод: рынок объектов общественного питания Москвы составляет 15 тыс. ед., из них наибольшая доля приходится на кафе - 40%."
   ]
  },
  {
   "cell_type": "markdown",
   "metadata": {},
   "source": [
    "<a id='id_2_2'></a>\n",
    "### Анализ сетевых заведений"
   ]
  },
  {
   "cell_type": "code",
   "execution_count": 10,
   "metadata": {},
   "outputs": [],
   "source": [
    "# Отношение количеств несетевых магазинов к сетевым\n",
    "data['chain_b'] = data['chain'] == 'да'\n"
   ]
  },
  {
   "cell_type": "code",
   "execution_count": 11,
   "metadata": {},
   "outputs": [
    {
     "data": {
      "text/plain": [
       "0.19"
      ]
     },
     "execution_count": 11,
     "metadata": {},
     "output_type": "execute_result"
    }
   ],
   "source": [
    "# доля сетевых заведений\n",
    "round(data['chain_b'].mean(), 2)"
   ]
  },
  {
   "cell_type": "code",
   "execution_count": 12,
   "metadata": {},
   "outputs": [
    {
     "data": {
      "text/html": [
       "<div>\n",
       "<style scoped>\n",
       "    .dataframe tbody tr th:only-of-type {\n",
       "        vertical-align: middle;\n",
       "    }\n",
       "\n",
       "    .dataframe tbody tr th {\n",
       "        vertical-align: top;\n",
       "    }\n",
       "\n",
       "    .dataframe thead th {\n",
       "        text-align: right;\n",
       "    }\n",
       "</style>\n",
       "<table border=\"1\" class=\"dataframe\">\n",
       "  <thead>\n",
       "    <tr style=\"text-align: right;\">\n",
       "      <th></th>\n",
       "      <th>chain</th>\n",
       "      <th>count_chain_type</th>\n",
       "    </tr>\n",
       "  </thead>\n",
       "  <tbody>\n",
       "    <tr>\n",
       "      <td>0</td>\n",
       "      <td>да</td>\n",
       "      <td>2968</td>\n",
       "    </tr>\n",
       "    <tr>\n",
       "      <td>1</td>\n",
       "      <td>нет</td>\n",
       "      <td>12398</td>\n",
       "    </tr>\n",
       "  </tbody>\n",
       "</table>\n",
       "</div>"
      ],
      "text/plain": [
       "  chain  count_chain_type\n",
       "0    да              2968\n",
       "1   нет             12398"
      ]
     },
     "execution_count": 12,
     "metadata": {},
     "output_type": "execute_result"
    }
   ],
   "source": [
    "# расчет количества сетевых заведений\n",
    "data_chain = data.groupby('chain', as_index=False).agg({'id': 'count'}).rename(columns={'id': 'count_chain_type'})\n",
    "data_chain"
   ]
  },
  {
   "cell_type": "code",
   "execution_count": 13,
   "metadata": {},
   "outputs": [
    {
     "data": {
      "image/png": "[encoded data removed]",
      "text/plain": [
       "<Figure size 1080x432 with 1 Axes>"
      ]
     },
     "metadata": {
      "needs_background": "light"
     },
     "output_type": "display_data"
    }
   ],
   "source": [
    "f, ax = plt.subplots(figsize=(15, 6))\n",
    "ax = sns.barplot(x='chain', y='count_chain_type', data=data_chain)\n",
    "ax.set_title('Cоотношение количества сетевых и несетевых заведений')\n",
    "ax.set_xlabel('Сетевой магазин (да/нет)')\n",
    "ax.set_ylabel('Количество магазинов')\n",
    "plt.show()"
   ]
  },
  {
   "cell_type": "markdown",
   "metadata": {},
   "source": [
    "Вывод: наибольшая доля рынка приходится на несетевые объекты - 81%. На сетевые объекты общественного питания приходится 19% рынка."
   ]
  },
  {
   "cell_type": "markdown",
   "metadata": {},
   "source": [
    "Исследуем для какого вида объекта общественного питания характерно сетевое распространение:"
   ]
  },
  {
   "cell_type": "code",
   "execution_count": 14,
   "metadata": {},
   "outputs": [
    {
     "data": {
      "text/html": [
       "<div>\n",
       "<style scoped>\n",
       "    .dataframe tbody tr th:only-of-type {\n",
       "        vertical-align: middle;\n",
       "    }\n",
       "\n",
       "    .dataframe tbody tr th {\n",
       "        vertical-align: top;\n",
       "    }\n",
       "\n",
       "    .dataframe thead th {\n",
       "        text-align: right;\n",
       "    }\n",
       "</style>\n",
       "<table border=\"1\" class=\"dataframe\">\n",
       "  <thead>\n",
       "    <tr style=\"text-align: right;\">\n",
       "      <th></th>\n",
       "      <th>id</th>\n",
       "      <th>object_name</th>\n",
       "      <th>chain</th>\n",
       "      <th>object_type</th>\n",
       "      <th>address</th>\n",
       "      <th>number</th>\n",
       "      <th>chain_b</th>\n",
       "    </tr>\n",
       "  </thead>\n",
       "  <tbody>\n",
       "    <tr>\n",
       "      <td>0</td>\n",
       "      <td>151635</td>\n",
       "      <td>СМЕТАНА</td>\n",
       "      <td>нет</td>\n",
       "      <td>кафе</td>\n",
       "      <td>город Москва, улица Егора Абакумова, дом 9</td>\n",
       "      <td>48</td>\n",
       "      <td>False</td>\n",
       "    </tr>\n",
       "    <tr>\n",
       "      <td>1</td>\n",
       "      <td>77874</td>\n",
       "      <td>Родник</td>\n",
       "      <td>нет</td>\n",
       "      <td>кафе</td>\n",
       "      <td>город Москва, улица Талалихина, дом 2/1, корпус 1</td>\n",
       "      <td>35</td>\n",
       "      <td>False</td>\n",
       "    </tr>\n",
       "    <tr>\n",
       "      <td>2</td>\n",
       "      <td>24309</td>\n",
       "      <td>Кафе «Академия»</td>\n",
       "      <td>нет</td>\n",
       "      <td>кафе</td>\n",
       "      <td>город Москва, Абельмановская улица, дом 6</td>\n",
       "      <td>95</td>\n",
       "      <td>False</td>\n",
       "    </tr>\n",
       "    <tr>\n",
       "      <td>3</td>\n",
       "      <td>21894</td>\n",
       "      <td>ПИЦЦЕТОРИЯ</td>\n",
       "      <td>да</td>\n",
       "      <td>кафе</td>\n",
       "      <td>город Москва, Абрамцевская улица, дом 1</td>\n",
       "      <td>40</td>\n",
       "      <td>True</td>\n",
       "    </tr>\n",
       "    <tr>\n",
       "      <td>4</td>\n",
       "      <td>119365</td>\n",
       "      <td>Кафе «Вишневая метель»</td>\n",
       "      <td>нет</td>\n",
       "      <td>кафе</td>\n",
       "      <td>город Москва, Абрамцевская улица, дом 9, корпус 1</td>\n",
       "      <td>50</td>\n",
       "      <td>False</td>\n",
       "    </tr>\n",
       "  </tbody>\n",
       "</table>\n",
       "</div>"
      ],
      "text/plain": [
       "       id             object_name chain object_type  \\\n",
       "0  151635                 СМЕТАНА   нет        кафе   \n",
       "1   77874                  Родник   нет        кафе   \n",
       "2   24309         Кафе «Академия»   нет        кафе   \n",
       "3   21894              ПИЦЦЕТОРИЯ    да        кафе   \n",
       "4  119365  Кафе «Вишневая метель»   нет        кафе   \n",
       "\n",
       "                                             address  number  chain_b  \n",
       "0         город Москва, улица Егора Абакумова, дом 9      48    False  \n",
       "1  город Москва, улица Талалихина, дом 2/1, корпус 1      35    False  \n",
       "2          город Москва, Абельмановская улица, дом 6      95    False  \n",
       "3            город Москва, Абрамцевская улица, дом 1      40     True  \n",
       "4  город Москва, Абрамцевская улица, дом 9, корпус 1      50    False  "
      ]
     },
     "execution_count": 14,
     "metadata": {},
     "output_type": "execute_result"
    }
   ],
   "source": [
    "data.head()"
   ]
  },
  {
   "cell_type": "code",
   "execution_count": 15,
   "metadata": {},
   "outputs": [
    {
     "data": {
      "text/html": [
       "<div>\n",
       "<style scoped>\n",
       "    .dataframe tbody tr th:only-of-type {\n",
       "        vertical-align: middle;\n",
       "    }\n",
       "\n",
       "    .dataframe tbody tr th {\n",
       "        vertical-align: top;\n",
       "    }\n",
       "\n",
       "    .dataframe thead th {\n",
       "        text-align: right;\n",
       "    }\n",
       "</style>\n",
       "<table border=\"1\" class=\"dataframe\">\n",
       "  <thead>\n",
       "    <tr style=\"text-align: right;\">\n",
       "      <th></th>\n",
       "      <th>chain_sum</th>\n",
       "      <th>chain_count</th>\n",
       "      <th>chain_ratio</th>\n",
       "      <th>chain_object_ratio</th>\n",
       "    </tr>\n",
       "    <tr>\n",
       "      <th>object_type</th>\n",
       "      <th></th>\n",
       "      <th></th>\n",
       "      <th></th>\n",
       "      <th></th>\n",
       "    </tr>\n",
       "  </thead>\n",
       "  <tbody>\n",
       "    <tr>\n",
       "      <td>предприятие быстрого обслуживания</td>\n",
       "      <td>791.0</td>\n",
       "      <td>1923</td>\n",
       "      <td>0.27</td>\n",
       "      <td>0.41</td>\n",
       "    </tr>\n",
       "    <tr>\n",
       "      <td>магазин (отдел кулинарии)</td>\n",
       "      <td>78.0</td>\n",
       "      <td>273</td>\n",
       "      <td>0.03</td>\n",
       "      <td>0.29</td>\n",
       "    </tr>\n",
       "    <tr>\n",
       "      <td>ресторан</td>\n",
       "      <td>544.0</td>\n",
       "      <td>2285</td>\n",
       "      <td>0.18</td>\n",
       "      <td>0.24</td>\n",
       "    </tr>\n",
       "    <tr>\n",
       "      <td>кафе</td>\n",
       "      <td>1396.0</td>\n",
       "      <td>6099</td>\n",
       "      <td>0.47</td>\n",
       "      <td>0.23</td>\n",
       "    </tr>\n",
       "    <tr>\n",
       "      <td>закусочная</td>\n",
       "      <td>56.0</td>\n",
       "      <td>360</td>\n",
       "      <td>0.02</td>\n",
       "      <td>0.16</td>\n",
       "    </tr>\n",
       "    <tr>\n",
       "      <td>кафетерий</td>\n",
       "      <td>52.0</td>\n",
       "      <td>398</td>\n",
       "      <td>0.02</td>\n",
       "      <td>0.13</td>\n",
       "    </tr>\n",
       "    <tr>\n",
       "      <td>бар</td>\n",
       "      <td>37.0</td>\n",
       "      <td>856</td>\n",
       "      <td>0.01</td>\n",
       "      <td>0.04</td>\n",
       "    </tr>\n",
       "    <tr>\n",
       "      <td>буфет</td>\n",
       "      <td>11.0</td>\n",
       "      <td>585</td>\n",
       "      <td>0.00</td>\n",
       "      <td>0.02</td>\n",
       "    </tr>\n",
       "    <tr>\n",
       "      <td>столовая</td>\n",
       "      <td>3.0</td>\n",
       "      <td>2587</td>\n",
       "      <td>0.00</td>\n",
       "      <td>0.00</td>\n",
       "    </tr>\n",
       "  </tbody>\n",
       "</table>\n",
       "</div>"
      ],
      "text/plain": [
       "                                   chain_sum  chain_count  chain_ratio  \\\n",
       "object_type                                                              \n",
       "предприятие быстрого обслуживания      791.0         1923         0.27   \n",
       "магазин (отдел кулинарии)               78.0          273         0.03   \n",
       "ресторан                               544.0         2285         0.18   \n",
       "кафе                                  1396.0         6099         0.47   \n",
       "закусочная                              56.0          360         0.02   \n",
       "кафетерий                               52.0          398         0.02   \n",
       "бар                                     37.0          856         0.01   \n",
       "буфет                                   11.0          585         0.00   \n",
       "столовая                                 3.0         2587         0.00   \n",
       "\n",
       "                                   chain_object_ratio  \n",
       "object_type                                            \n",
       "предприятие быстрого обслуживания                0.41  \n",
       "магазин (отдел кулинарии)                        0.29  \n",
       "ресторан                                         0.24  \n",
       "кафе                                             0.23  \n",
       "закусочная                                       0.16  \n",
       "кафетерий                                        0.13  \n",
       "бар                                              0.04  \n",
       "буфет                                            0.02  \n",
       "столовая                                         0.00  "
      ]
     },
     "execution_count": 15,
     "metadata": {},
     "output_type": "execute_result"
    }
   ],
   "source": [
    "data_chain_all = data['chain_b'].sum()\n",
    "data_chain_sum = (data\n",
    " .groupby('object_type')\n",
    " .agg({'chain_b': 'sum', 'id': 'count'})\n",
    " .rename(columns={'chain_b': 'chain_sum', 'id': 'chain_count'})\n",
    " .sort_values(by='chain_sum', ascending=False)\n",
    ")\n",
    "data_chain_sum['chain_ratio'] = round(data_chain_sum['chain_sum'] / data_chain_all, 2)\n",
    "data_chain_sum['chain_object_ratio'] = round(data_chain_sum['chain_sum'] / data_chain_sum['chain_count'], 2)\n",
    "data_chain_sum.sort_values(by='chain_object_ratio', ascending=False)"
   ]
  },
  {
   "cell_type": "code",
   "execution_count": null,
   "metadata": {},
   "outputs": [],
   "source": []
  },
  {
   "cell_type": "markdown",
   "metadata": {},
   "source": [
    "Вывод: наибольшая доля рынка сетевых объектов приходится на кафе - 47% и предприятия быстрого питания - 27%, что охватывает 3/4 рынка сетевых объектов. При этом сетевое распространение наиболее характерно для предприятий быстрого обслуживания - 41% таких предприятий являютя сетевыми, в то время как только 23% всех кафе сетевые."
   ]
  },
  {
   "cell_type": "markdown",
   "metadata": {},
   "source": [
    "<a id='id_2_3'></a>\n",
    "### Анализ количества посадочных мест"
   ]
  },
  {
   "cell_type": "code",
   "execution_count": 16,
   "metadata": {},
   "outputs": [],
   "source": [
    "# срез сетевых заведений\n",
    "data_chain_all = data.query('chain_b == True')"
   ]
  },
  {
   "cell_type": "code",
   "execution_count": 17,
   "metadata": {},
   "outputs": [
    {
     "data": {
      "text/plain": [
       "array(['Beverly Hills Diner', 'Bierloga', 'Black & White', 'Bocconcino',\n",
       "       'BooBo', 'Bubbleology', 'Burger Club', 'COFIX', 'CORREAS',\n",
       "       'CoffeeShop', 'Coffeeshop Company', 'Cofix', 'Cookhouse',\n",
       "       'Correas', 'Costa Coffee', 'Deli by Prime Прайм-кафе',\n",
       "       'Dunkin Donuts', 'FRIDAYS', 'Florentini', 'Fridays KFC',\n",
       "       'GRAND УРЮК', 'GlowSubs Sandwiches', 'Goodman Гудман', 'Grand Cru',\n",
       "       'HEALTHY Food', 'Healthy Food', 'Healthy food',\n",
       "       'IL Forno Иль Форно', 'Jeffreys Coffee', 'Jeffreys coffee', 'KFC',\n",
       "       'KFC Волгоградский', 'Krispy Creme', 'Krispy Krem', 'LAVKALAVKA',\n",
       "       'Luciano', 'M Cafe Хинкальная', 'Maki Maki', 'Marmalato',\n",
       "       'Marrakesh Хинкальная', 'MosKalyan', 'Movenpick', 'My box',\n",
       "       'Osteria Mario', 'PAUL Поль', 'PRIME STAR Прайм стар',\n",
       "       'PRIME Прайм стар Прайм-кафе', 'Panda Express', 'Pizengof99 СПБ',\n",
       "       'Prime Прайм стар', 'STARBUCKS COFFEE', 'SUBWAY', 'Starbucks',\n",
       "       'Starbucks Старбакс', 'Starbucks кофе', 'Starbucks, СТАРБАКС КОФЕ',\n",
       "       'Starlite Diner', 'Subway', 'Sushilka', 'TAJJ MAHAL',\n",
       "       'TGI FRIDAYS', 'TGI Fridays', 'TUTTI FRUTTI FROZEN YOGURT',\n",
       "       'The Terrace', 'Tokyo bay', 'Torro Grill Торро Гриль',\n",
       "       'Travelers Coffe', 'Travelers Coffee', 'Tutti frutti',\n",
       "       'UPSIDE DOWN CAKE', 'Upside Down', 'Upside Down Cake',\n",
       "       'Van Wok Ванвок', 'Vanwok Ванвок', 'VietCafe Вьеткафе',\n",
       "       'White Rabbite (Белый кролик)', 'Wok & Box', 'Wokker',\n",
       "       'Yogurt Frenzy', '«Кафе «Кулинарная лавка братьев Караваевых»',\n",
       "       '«Кафе «Кулинарная лавка братьев Караваевых»»', 'Ёрш',\n",
       "       'АВ-Дейли Азбука Вкуса', 'АКАДЕМИЯ', 'АЛЛО ПИЦЦА', 'АНДЕРСОН',\n",
       "       'АРИАНА', 'Азбука Вкуса', 'Азбука вкуса', 'Академия', 'Алло Пицца',\n",
       "       'Алло Пицца 2', 'Американ Сити Пицца ЦЕХ ПО ИЗГОТОВЛЕНИЮ ПИЦЦЫ',\n",
       "       'АндерСон', 'Андерсон', 'Анти-кафе кальянная «MosKalyan»',\n",
       "       'БАКИНСКИЙ БУЛЬВАР', 'БАР Азбука Вкуса',\n",
       "       'ББ энд БУРГЕРС В&В Бургер', 'БИСТРО ПРОНТО', 'БОТИК ПЕТРА',\n",
       "       'БРАВА Коста кофе', 'БРУСНИКА', 'БУРГЕР КИНГ', 'Бабай Клаб',\n",
       "       'Бакинский бульвар', 'Бар «Суши Wok»', 'Бар Боулинг-Космик',\n",
       "       'Бар Мята Lounge', 'Бар- буфет «Николай»', 'Бар-буфет Николай',\n",
       "       'Баракат', 'Барашка', 'Барбарис', 'Барбекю', 'Баскин Роббинс',\n",
       "       'Бенто WOK', 'Билла', 'Бир Хаус Паб', 'Бир хаус', 'Блинная',\n",
       "       'Бодрый день Кофе с собой', 'Ботик Петра', 'Братья Караваевы',\n",
       "       'Братья Караваевых', 'Брудер', 'Брусника', 'Бургер Кинг',\n",
       "       'Бургер Кинг Burger King', 'Бургер Клаб', 'Бургер кинг',\n",
       "       'Бургер клаб', 'Бутчер Бизон', 'В&В Бургер',\n",
       "       'Вlack Burger Чайхона №1', 'ВГости. Урюк', 'ВЕНЕЦИЯ', 'ВОККЕР',\n",
       "       'Ваби-Саби', 'Ваби-саби', 'Ванвок', 'Вареничная №1', 'Васаби',\n",
       "       'Венеция', 'Виват-Пицца', 'Виктория', 'Вкусняшка', 'Воккер',\n",
       "       'Волконский', 'Восточный базар', 'ВьетКафе', 'Вьеткафе',\n",
       "       'ГЕНАЦВАЛИ', 'ГРАБЛИ', 'Газпромнефтьцентр', 'Гамбринус',\n",
       "       'Ганс и Марта', 'Гино-но-таки', 'Городские автокофейни', 'Готика',\n",
       "       'Готовые блюда Милти', 'Грабли', 'Граци рагацци Зю Кафе',\n",
       "       'Грузинская кухня ЭZО Хинкальная', 'Грузинские каникулы Барбарис',\n",
       "       'Гудман', 'Гудман Гудвин', 'Гурман', 'Гурмания', 'ДАНКИН ДОНАТС',\n",
       "       'ДВЕ ПАЛОЧКИ', 'ДЕТСКИЙ КЛУБ «АНДЕРСОН»',\n",
       "       'ДЕТСКОЕ КАФЕ «АНДЕРСОН»', 'ДЖОН ДЖОЛИ', 'ДОДО ПИЦЦА',\n",
       "       'ДОДО Пицца', 'ДОДО пицца', \"ДОМИНО'С ПИЦЦА\", 'Да Пино',\n",
       "       'Да Пино (Da Pino)', 'Дабл Би', 'Дабл Би блэк', 'Дабл би',\n",
       "       'Данкин Донатс', 'Две палочки', 'Де Марко',\n",
       "       'Детское кафе «Космик»', 'Джаганнат', 'Джон Джоли', 'ДоДо Пицца',\n",
       "       'ДоДо пицца', 'Добрынинский и партнёры', 'Додо Пицца',\n",
       "       'Додо пицца', 'Домашнее Кафе сеть городских кафе',\n",
       "       \"Домино'с Пицца\", \"Домино'с Пицца Domino,s Pizza\",\n",
       "       \"Домино'с пицца\", 'Дорогая я перезвоню', 'Дюшес', 'Елки-Палки',\n",
       "       'Жан Жак', 'ЗОЛОТАЯ ВОБЛА', 'Закусочная KFC', 'Закусочная «KFC»',\n",
       "       'Закусочная «Американ Сити Пицца»',\n",
       "       'Закусочная «Баскин Роббинс & Стардогс»',\n",
       "       'Закусочная «Бургер Кинг»', 'Закусочная «Крошка Картошка»',\n",
       "       'Закусочная «Пицца Хат»', 'Закусочная «СтардогS»',\n",
       "       'Закусочная «СушиШоп»', 'Закусочная «Теремок»', 'Зодиак',\n",
       "       'Золотая вобла', 'Зю Кафе', 'ИЛЬ ПАТИО', 'ИЛЬ ФОРНО', 'Изба',\n",
       "       'Икура Паб', 'Иль Патио', 'Иль Патио Планета Суши', 'Иль Форно',\n",
       "       'Иль-патио', 'Илья Муромец', 'Ирландский Паб', 'Ичибан Боши',\n",
       "       'КАКТУС', 'КАРО', 'КАФЕ KFC', 'КАФЕ Starbucks', 'КАФЕ «Андерсон»',\n",
       "       'КАФЕ «Восточный базар»', 'КАФЕ «МАКДОНАЛДС»', 'КАФЕ «МУ-МУ»',\n",
       "       'КАФЕ «ТЕРЕМОК»', 'КАФЕ «Теремок»', 'КАФЕ «Хлеб насущный»',\n",
       "       'КАФЕ «ШТОЛЛЕ»', 'КАФЕ «Шоколадница»', 'КАФЕ «ЯКИТОРИЯ»',\n",
       "       'КАФЕ Кофе-Хаус', 'КАФЕ МАКДОНАЛДС', 'КАФЕ-ПЕКАРЕЯ «ВОЛКОНСКИЙ»',\n",
       "       'КОЛБАСОФФ', 'КОРЧМА «ТАРАС БУЛЬБА»', 'КОРЧМА ТАРАС БУЛЬБА',\n",
       "       'КОФЕ С СОБОЙ', 'КОФЕ ХАУС', 'КОФЕ ХАУС. ЭКСПРЕССО И КАПУЧИНО БАР',\n",
       "       'КОФЕЙНЯ «Costa Coffee»', 'КОФЕЙНЯ «ДЕ МАРКО»',\n",
       "       'КОФЕЙНЯ «ШОКОЛАДНИЦА»', 'КОФЕМАНИЯ', 'КОФЕПОРТ',\n",
       "       'КРОШКА КАРТОШКА', 'КРУЖКА', 'КУЛИНАРНАЯ ЛАВКА БРАТЬЕВ КАРАВАЕВЫХ',\n",
       "       'КУЛИНАРНОЕ БЮРО', 'Кальян- бар «Мята Lounge»',\n",
       "       'Кальян-бар MosKalyan', 'Кальян-бар «Мята Lounge»',\n",
       "       'Кальянная F-lounge', 'Кальянная «Мята Lounge»',\n",
       "       'Кальянная Мята Lounge', 'Кафе PRIME Прайм стар',\n",
       "       'Кафе Prime Прайм стар Прайм-кафе', 'Кафе «Costa coffee»',\n",
       "       'Кафе «KFC»', 'Кафе «PRIME» Прайм стар',\n",
       "       'Кафе «Prime» (Прайм стар)', 'Кафе «Prime» Прайм стар',\n",
       "       'Кафе «SUBWAY»', 'Кафе «Starbucks»', 'Кафе «Subway»',\n",
       "       'Кафе «АндерСон»', 'Кафе «Андерсон»', 'Кафе «БУРГЕР КИНГ»',\n",
       "       'Кафе «Баскин Роббинс»', 'Кафе «Бургер Кинг»', 'Кафе «Ваби-Саби»',\n",
       "       'Кафе «Данкин Донатс»', \"Кафе «Домино'с Пицца»\",\n",
       "       'Кафе «Иль Патио»', 'Кафе «Кофе Хаус»', 'Кафе «Кофейня Старбакс»',\n",
       "       'Кафе «Крошка Картошка»', 'Кафе «Кружка»',\n",
       "       'Кафе «Кулинарная лавка братьев Караваевых»',\n",
       "       'Кафе «Кулинарное бюро»', 'Кафе «МАКДОНАЛДС»', 'Кафе «МЕЛЕНКА»',\n",
       "       'Кафе «Макдоналдс»', 'Кафе «Марукамэ»', 'Кафе «Менза»',\n",
       "       'Кафе «Му-Му»', 'Кафе «Му-му»', 'Кафе «Нияма»',\n",
       "       'Кафе «Папа Джонс»', 'Кафе «Пицца Фабрика»', 'Кафе «Пицца Хат»',\n",
       "       'Кафе «Поль Бейкери»', 'Кафе «Прайм Стар»',\n",
       "       'Кафе «Сабвей» Старбакс', 'Кафе «Сим-Сим»', 'Кафе «Старбакс»',\n",
       "       'Кафе «Суши Wok»', 'Кафе «Суши Вок»', 'Кафе «Суши Сет»',\n",
       "       'Кафе «ТО ДА СЁ»', 'Кафе «Тануки»', 'Кафе «Тапчан»',\n",
       "       'Кафе «Теремок»', 'Кафе «То Да Сё»', 'Кафе «Торнадо»',\n",
       "       'Кафе «Урюк» Хивинская чайхона', 'Кафе «Хинкальная»',\n",
       "       'Кафе «Чайхана Тапчан»', 'Кафе «Шоколадница»', 'Кафе «Штолле»',\n",
       "       'Кафе «Якитория»', 'Кафе БУРГЕР КИНГ', 'Кафе Бургер Кинг',\n",
       "       'Кафе Волконский пекарня', 'Кафе Иль Патио «Il Patio»',\n",
       "       'Кафе КОФЕ ТУН', 'Кафе Космик', 'Кафе Кофемания', 'Кафе МУ-МУ',\n",
       "       'Кафе ПРОНТО', 'Кафе Пекарня Хачапури', 'Кафе Песто и Митлес',\n",
       "       'Кафе Пронто', 'Кафе Рецептор', 'Кафе Суши Wok', 'Кафе Чайхона №1',\n",
       "       'Кафе Штолле', 'Кафе Якитория', 'Кафе быстрого питания Му-му',\n",
       "       'Кафе мороженного «Tutti Frutti»', 'Кафе при АЗС',\n",
       "       'Кафе при АЗС «BP»', 'Кафе при АЗС Газпромнефть',\n",
       "       'Кафе при АЗС Лукойл', 'Кафе теремок', 'Кафе шоколад',\n",
       "       'Кафе-закусочная «Бургер Кинг»', 'Каффе «Wokker»', 'Квартира 44',\n",
       "       'Кебаб Хаус', 'Кебаб хаус', 'Колбасофф',\n",
       "       'Кондитерия Тирольские пироги', 'Кондитерская Волконский',\n",
       "       'Кондитерская-пекарня Волконский', 'Корчма Тарас Бульба', 'Космик',\n",
       "       'Коста Кофе', 'Кофе', 'Кофе Хаус', 'Кофе Хаус,Экспресс',\n",
       "       'Кофе с Собой', 'Кофе с собой', 'Кофе с собой Gate 42',\n",
       "       'Кофе с собой «Кофейня»', 'Кофе тун', 'Кофе-Бин', 'Кофе-Хаус',\n",
       "       'Кофейня «Дабл Би»', 'Кофейня «Кофе Хаус»', 'Кофейня «Кофе хаус»',\n",
       "       'Кофейня «СТАРБАКС КОФЕ»', 'Кофейня «Старбакс»',\n",
       "       'Кофейня «Шоколадница»', 'Кофейня Кофемания, пиццерия Бармалини',\n",
       "       'Кофейня ШОКОЛАДНИЦА', 'Кофейня Шоколадница', 'Кофемания',\n",
       "       'Кофемания Starbucks', 'Кофепорт', 'Кофетун',\n",
       "       'Кофешоп Coffeeshop Company', 'Крепери де Пари', 'Крепери де пари',\n",
       "       'Крошка Картошка', 'Крошка картошка', 'Кружка',\n",
       "       'Кулинарная Лавка Братьев Караваевых Братья Караваевы',\n",
       "       'Кулинарная лавка братьев Караваевых',\n",
       "       'Кулинарная лавка братьев Караваевых Братья Караваевы',\n",
       "       'Кулинарное бюро', 'Кулинарное бюро Kitchen',\n",
       "       'Кулинарное бюро Китчен', 'Лаундж-бар «Мята Lounge»', 'Лепешка',\n",
       "       'Лето', 'Ливан-Хаус', 'Ливан-хаус', 'Лукойл',\n",
       "       'Лукойл-Центрнефтьпродукт', 'МАГНОЛИЯ', 'МАКДОНАЛДС', 'МАКИ-МАКИ',\n",
       "       'МЕНЗА', 'МИ ПЬЯЧЕ', 'МИЛТИ', 'МИМИНО', 'МОСКВА - МАКДОНАЛДС',\n",
       "       'МСК Московская сеть кальянных',\n",
       "       'МСК Московская сеть кальянных на Шаболовке', 'МУ-МУ', 'МЯСОROOB',\n",
       "       'МагБургер', 'Магазин готовой еды «Милти»',\n",
       "       'Магазин-кулинария «Суши Сет»', 'Магбургер', 'Магбургер АЗС №16',\n",
       "       'Магбургер АЗС №17', 'Макдоналдс', 'Маки-Маки', 'Маки-маки',\n",
       "       'Макс Бреннер', 'Марчеллис', 'Меленка', 'Менза', 'Метро К&К',\n",
       "       'Ми Пьяче', 'Милано пицца', 'Милти', 'Мимино', 'Мимино Хинкальная',\n",
       "       'Мираторг', 'Мистер Картошка', 'Молли гвинз', 'Му-Му', 'Му-му',\n",
       "       'Мюнгер', 'МясоROOB', 'Мята', 'Мята Lounge',\n",
       "       'Мята Lounge Автозаводская', 'Мята Lounge Октябрьская',\n",
       "       'Мята Lounge Шаболовка', 'Мята lounge', 'НИЯМА', 'Николай',\n",
       "       'Нияма', 'Нияма Пицца Пи', 'Нияма. Пицца Пи', 'Ньокки',\n",
       "       'Обжорный ряд', 'Оникс', 'ПАПА ДЖОНС', 'ПАПА ДЖОНС ПИЦЦА',\n",
       "       'ПБО «KFC Покрышкина»', 'ПБО «KFC»', 'ПБО «Теремок»', 'ПИВКО',\n",
       "       'ПИЛЗНЕР', 'ПИРОГИ ШТОЛЛЕ', 'ПИЦЦЕРИЯ «Папа Джонс»', 'ПИЦЦЕТОРИЯ',\n",
       "       'ПОМИДОР', 'ПРАВDА Кофе', 'ПРАЙМ', 'ПРАЙМ СТАР',\n",
       "       'ПРАЙМкафе Прайм стар', 'ПРИМАВЕРА', 'ПРОНТО', 'Паб Кружка',\n",
       "       'Павлин Мавлин Чайхона №1', 'Павлин-Мавлин', 'Панчо Пицца',\n",
       "       'Папа Джонс', 'Перекресток', 'ПивКо', 'Пикколо', 'Пиппони',\n",
       "       'Пироговая Штолле', 'Пицерия «Папа Джонс»', 'Пицца Pomodoro',\n",
       "       'Пицца Pomodoro и Суши Дзен', 'Пицца «Паоло»', 'Пицца ПИПОНИ',\n",
       "       'Пицца Паоло', 'Пицца Паоло и Бенто WOK', 'Пицца Пипони',\n",
       "       'Пицца Фабрика', 'Пицца Хат', 'Пицца Экспресс', 'Пицца хат',\n",
       "       'Пицца экспресс', 'Пиццерия «АКАДЕМИЯ»', 'Пиццерия «Додо Пицца»',\n",
       "       \"Пиццерия «Домино'с Пицца»\", 'Пиццерия «ПАПА ДЖОНС»',\n",
       "       'Пиццерия «Папа Джонс»', 'Пиццерия «Пицца Паоло»',\n",
       "       'Пиццерия «Пицца Хат»', 'Пиццерия Донателло',\n",
       "       'Пиццерия Папа Джонс', 'Пиццерия Пиу дель Чибо', 'Пиццетория',\n",
       "       'Планета Суши', 'Планета суши', 'Поль Бейкери',\n",
       "       'Пончиковое кафе ИКЕА Ikea', 'Порто Мальтезе', 'Пражечка', 'Прайм',\n",
       "       'Прайм Стар', 'Прайм Стар кафе', 'Прайм стар', 'Прайм-кафе',\n",
       "       'Прайм-кафе Прайм стар', 'Праймстар',\n",
       "       'Предприятие быстрого обслуживания «KFC»',\n",
       "       'Предприятие быстрого обслуживания «Бенто WOK»',\n",
       "       'Предприятие быстрого обслуживания «Бургер Кинг»',\n",
       "       'Предприятие быстрого обслуживания «ДОДО Пицца»',\n",
       "       \"Предприятие быстрого обслуживания «Домино'с Пицца»\",\n",
       "       'Предприятие быстрого обслуживания «Крошка Картошка»',\n",
       "       'Предприятие быстрого обслуживания «Магбургер»',\n",
       "       'Предприятие быстрого обслуживания «Макдоналдс»',\n",
       "       'Предприятие быстрого обслуживания «Милти»',\n",
       "       'Предприятие быстрого обслуживания «СушиШоп»',\n",
       "       'Предприятие быстрого обслуживания «Теремок»',\n",
       "       'Предприятие быстрого питания «Крошка Картошка»', 'Примавера',\n",
       "       'Пронто', 'Простые Вещи', 'Простые вещи', 'РЕСТОРАН «ДЖОН ДЖОЛИ»',\n",
       "       'РЕСТОРАН «Космик»', 'РЕСТОРАН «ТАНУКИ»', 'РЕСТОРАН «Тануки»',\n",
       "       'РЕСТОРАН «УРЮК»', 'РЕСТОРАН «ЧАЙХОНА №1»',\n",
       "       'РЕСТОРАН «Чайхона №1»', 'РЕСТОРАН«МАКДОНАЛДС»', 'РОСТИКС KFC',\n",
       "       'Ресторан KFC', 'Ресторан «Florentini»', 'Ресторан «KFC»',\n",
       "       'Ресторан «Ёрш»', 'Ресторан «БРУДЕР»', 'Ресторан «БУРГЕР КИНГ»',\n",
       "       'Ресторан «Бакинский бульвар»', 'Ресторан «Брудер»',\n",
       "       'Ресторан «Бургер Кинг»', 'Ресторан «Вареничная №1»',\n",
       "       'Ресторан «Вьеткафе»', 'Ресторан «Джардино Да Пино»',\n",
       "       'Ресторан «Джон Джоли»', \"Ресторан «Домино'с Пицца»\",\n",
       "       'Ресторан «Золотая Вобла»', 'Ресторан «ИЛЬ ПАТИО»',\n",
       "       'Ресторан «Иль Патио»', 'Ресторан «Илья Муромец»',\n",
       "       'Ресторан «Колбасофф»', 'Ресторан «Корчма Тарас Бульба»',\n",
       "       'Ресторан «Космик»', 'Ресторан «Макдоналдс»', 'Ресторан «Ньокки»',\n",
       "       'Ресторан «Пицца Хат»', 'Ресторан «Планета Суши»',\n",
       "       'Ресторан «Пронто»', 'Ресторан «ТАНУКИ»', 'Ресторан «Тануки»',\n",
       "       'Ресторан «Темпл Бар»', 'Ресторан «Теремок»',\n",
       "       'Ресторан «Территория»', 'Ресторан «Урюк»',\n",
       "       'Ресторан «Хинкальная»', 'Ресторан «Чайхана Урюк»',\n",
       "       'Ресторан «Чайхона №1»', 'Ресторан «ЯКИТОРИЯ»',\n",
       "       'Ресторан «Якитория»', 'Ресторан «Ян Примус»',\n",
       "       'Ресторан Джон Джоли', 'Ресторан ИКЕА Ikea', 'Ресторан Маки-Маки',\n",
       "       'Ресторан ТАНУКИ', 'Ресторан Тануки', 'Ресторан Торро Гриль',\n",
       "       'Ресторан Хинкальная', 'Ресторан быстрого питания KFC',\n",
       "       'Ресторан быстрого питания «Крошка Картошка»',\n",
       "       'Ресторан японской кухни «Маки-Маки»', 'Ресторан«ВьетКафе»',\n",
       "       'Рецептор', 'Роллофф', 'Роснефть', 'Ростикс KFC', 'Руккола',\n",
       "       'САБВЕЙ', 'СПБ', 'СТАРИНА МЮЛЛЕР Старина Миллер',\n",
       "       'СТЕЙК-ХАУС ГУДМАН', 'СУШИ WOK', 'СУШИ ВОК', 'Сабвей',\n",
       "       'Сабвей Subway', 'Сабвей СушиВок', 'Сбарро', 'Сварня',\n",
       "       'Семейное кафе Андерсон',\n",
       "       'Семейное кафе и кондитерская «Андерсон»',\n",
       "       'Семейный ресторан «Космик»', 'Сеть магазинов «Суши Wok»', 'Сити',\n",
       "       'Сити Пицца', 'Сказка', 'Советские времена',\n",
       "       'Советские времена Чебуречная СССР', 'Спорт-бар «Космик»',\n",
       "       'Старбакс', 'Старбакс Starbucks', 'Старбакс Кофе', 'СтардогS',\n",
       "       'СтардогS и шаурма', 'Стардогs', 'Стардогс СтардогS',\n",
       "       'Старина Миллер', 'Стейк Хаус ГУДМАН', 'Сувлаки', 'Суп Кафе',\n",
       "       'Суши WOK', 'Суши WoK', 'Суши Wok', 'Суши «Маки-Маки»', 'Суши Вок',\n",
       "       'Суши Сет', 'Суши бар «Маки-маки»', 'Суши вок', 'Суши сет',\n",
       "       'Суши тун', 'Суши тун, Хруст pizza, Кофе тун', 'СушиМан',\n",
       "       'СушиШоп', 'Сытая Утка', 'ТАНУКИ', 'ТАШИР ПИЦЦА', 'ТЕРЕМОК',\n",
       "       'ТЕРЕМОК ИНВЕСТ', 'ТЕРРИТОРИЯ ЯСЕНЕВО', 'Тайм Авеню',\n",
       "       'Тамаси Суши', 'Тануки', 'Тапчан', 'Ташир пицца', 'Темпл Бар',\n",
       "       'Темпл бар', 'Теремок', 'Теремок-Инвест', 'Территория',\n",
       "       'Территория TIMBIGFAMILY', 'Тирольские пироги', 'То Да Сё',\n",
       "       'Торро Гриль', 'Точка продажи готовой еды Милти',\n",
       "       'Тратория Semplice', 'Траттория Примавера', 'УРЮК', 'Урожай',\n",
       "       'Урюк', 'Урюк Вавилова', 'ФАНТОЦЦИ РУС',\n",
       "       'ФИТНЕС-БАР «WORLD CLASS»', 'Французская выпечка', 'ХАЧАПУРИ',\n",
       "       'ХИНКАЛЬНАЯ', 'ХЛЕБ НАСУЩНЫЙ', 'Хачапури',\n",
       "       'Хачапури, Одесса -мама', 'Хижина', 'Хинкальная',\n",
       "       'Хинкальная City', 'Хинкальная КИНТО', 'Хинкальная №1',\n",
       "       'Хлеб Насущный', 'Хлеб насущный', 'Хлеб&Co', 'Хлебница пекарня',\n",
       "       'Цинандали Хинкальная', 'ЧАЙХОНА №1', 'Чайхона №1',\n",
       "       'Чайхона №1 Бутово', 'Чебуречная СССР',\n",
       "       'Чешская пивная «Козловица»', 'Чешская пивная «Пилзнер»',\n",
       "       'Чешская пивная ПИЛЗНЕР', 'Чин Чин', 'ШАНТИМЕЛЬ', 'ШАШЛЫК-МАШЛЫК',\n",
       "       'ШВАРЦВАЛЬД', 'ШОКОЛАДНИЦА', 'ШТОЛЛЕ', 'Шантимель',\n",
       "       'Шантимель (кондитерские)', 'Шикари Иль Патио', 'Шоколад',\n",
       "       'Шоколадница', 'Шоколадница Кофе Хаус', 'Шоколадница Кофемания',\n",
       "       'Штирбирлиц', 'Штолле', 'Югос', 'ЯКИТОРИЯ', 'ЯКИТОРИЯ И СПОРТ БАР',\n",
       "       'ЯММИ МИКС', 'ЯПОША', 'Якитория', 'Якитория и Ян Примус',\n",
       "       'Ян Примус', 'Японский ресторан «Ваби-Саби»', 'Япоша',\n",
       "       'кафе «Му-Му»', 'кафе «Нияма»', 'кафе «Папа Джонс»',\n",
       "       'кафе «Старбакс»', 'кафе «Шоколадница»', 'ресторан «Брудер»',\n",
       "       'ресторан «Якитория»'], dtype=object)"
      ]
     },
     "metadata": {},
     "output_type": "display_data"
    }
   ],
   "source": [
    "#  проверка уникальности наименований сетевых заведений\n",
    "name = data_chain_all['object_name'].sort_values().unique()\n",
    "display(name)"
   ]
  },
  {
   "cell_type": "code",
   "execution_count": 18,
   "metadata": {},
   "outputs": [
    {
     "data": {
      "text/html": [
       "<div>\n",
       "<style scoped>\n",
       "    .dataframe tbody tr th:only-of-type {\n",
       "        vertical-align: middle;\n",
       "    }\n",
       "\n",
       "    .dataframe tbody tr th {\n",
       "        vertical-align: top;\n",
       "    }\n",
       "\n",
       "    .dataframe thead th {\n",
       "        text-align: right;\n",
       "    }\n",
       "</style>\n",
       "<table border=\"1\" class=\"dataframe\">\n",
       "  <thead>\n",
       "    <tr style=\"text-align: right;\">\n",
       "      <th></th>\n",
       "      <th>id</th>\n",
       "      <th>object_name</th>\n",
       "      <th>chain</th>\n",
       "      <th>object_type</th>\n",
       "      <th>address</th>\n",
       "      <th>number</th>\n",
       "      <th>chain_b</th>\n",
       "      <th>object_name_new</th>\n",
       "    </tr>\n",
       "  </thead>\n",
       "  <tbody>\n",
       "    <tr>\n",
       "      <td>3</td>\n",
       "      <td>21894</td>\n",
       "      <td>ПИЦЦЕТОРИЯ</td>\n",
       "      <td>да</td>\n",
       "      <td>кафе</td>\n",
       "      <td>город Москва, Абрамцевская улица, дом 1</td>\n",
       "      <td>40</td>\n",
       "      <td>True</td>\n",
       "      <td>ПИЦЦЕТОРИЯ</td>\n",
       "    </tr>\n",
       "    <tr>\n",
       "      <td>6</td>\n",
       "      <td>148815</td>\n",
       "      <td>Брусника</td>\n",
       "      <td>да</td>\n",
       "      <td>кафе</td>\n",
       "      <td>город Москва, переулок Сивцев Вражек, дом 6/2</td>\n",
       "      <td>10</td>\n",
       "      <td>True</td>\n",
       "      <td>Брусника</td>\n",
       "    </tr>\n",
       "    <tr>\n",
       "      <td>13</td>\n",
       "      <td>22579</td>\n",
       "      <td>Алло Пицца</td>\n",
       "      <td>да</td>\n",
       "      <td>кафе</td>\n",
       "      <td>город Москва, улица Авиаторов, дом 14</td>\n",
       "      <td>32</td>\n",
       "      <td>True</td>\n",
       "      <td>Алло Пицца</td>\n",
       "    </tr>\n",
       "    <tr>\n",
       "      <td>16</td>\n",
       "      <td>144107</td>\n",
       "      <td>Суши Wok</td>\n",
       "      <td>да</td>\n",
       "      <td>предприятие быстрого обслуживания</td>\n",
       "      <td>город Москва, Азовская улица, дом 3</td>\n",
       "      <td>7</td>\n",
       "      <td>True</td>\n",
       "      <td>Суши Wok</td>\n",
       "    </tr>\n",
       "    <tr>\n",
       "      <td>18</td>\n",
       "      <td>58565</td>\n",
       "      <td>Тануки</td>\n",
       "      <td>да</td>\n",
       "      <td>ресторан</td>\n",
       "      <td>город Москва, Большая Академическая улица, дом 65</td>\n",
       "      <td>160</td>\n",
       "      <td>True</td>\n",
       "      <td>Тануки</td>\n",
       "    </tr>\n",
       "  </tbody>\n",
       "</table>\n",
       "</div>"
      ],
      "text/plain": [
       "        id object_name chain                        object_type  \\\n",
       "3    21894  ПИЦЦЕТОРИЯ    да                               кафе   \n",
       "6   148815    Брусника    да                               кафе   \n",
       "13   22579  Алло Пицца    да                               кафе   \n",
       "16  144107    Суши Wok    да  предприятие быстрого обслуживания   \n",
       "18   58565      Тануки    да                           ресторан   \n",
       "\n",
       "                                              address  number  chain_b  \\\n",
       "3             город Москва, Абрамцевская улица, дом 1      40     True   \n",
       "6       город Москва, переулок Сивцев Вражек, дом 6/2      10     True   \n",
       "13              город Москва, улица Авиаторов, дом 14      32     True   \n",
       "16                город Москва, Азовская улица, дом 3       7     True   \n",
       "18  город Москва, Большая Академическая улица, дом 65     160     True   \n",
       "\n",
       "   object_name_new  \n",
       "3       ПИЦЦЕТОРИЯ  \n",
       "6         Брусника  \n",
       "13      Алло Пицца  \n",
       "16        Суши Wok  \n",
       "18          Тануки  "
      ]
     },
     "execution_count": 18,
     "metadata": {},
     "output_type": "execute_result"
    }
   ],
   "source": [
    "# удаление неявных дубликатов наименований\n",
    "synonyms = {\n",
    "    '': [\n",
    "        'кафе ',\n",
    "        'кафе-закусочная ',\n",
    "        'кафе-пекарея ',\n",
    "        'каффе ',\n",
    "        'кондитерия ',\n",
    "        'кондитерская-пекарня ',\n",
    "        'корчма ',\n",
    "        'кофейня ',\n",
    "        'пиццерия ',\n",
    "        'предприятие быстрого обслуживания ',\n",
    "        'ресторан ',\n",
    "        'кофе',\n",
    "        'coffee',\n",
    "        'цех по изготовлению пиццы',\n",
    "        'закусочная ',\n",
    "        'кофешоп ',\n",
    "        'пицца',\n",
    "        'праймкафе',\n",
    "        '«',\n",
    "        '»'\n",
    "        ],\n",
    "    'кулинарное бюро китчен': 'кулинарное бюро kitchen',\n",
    "    '«кулинарная лавка братьев караваевых»': ['«кулинарная лавка братьев караваевых»»', 'кулинарная лавка братьев караваевых братья караваевы'],\n",
    "    'burger king': 'бургер кинг',\n",
    "    'starbucks': 'старбакс',\n",
    "    'star': 'стар',\n",
    "    'prime': 'прайм'\n",
    "}\n",
    "\n",
    "def check_synonyms(cell):\n",
    "    for name, syn in synonyms.items():\n",
    "        if cell in syn: return name.strip()\n",
    "    return cell\n",
    "data_chain_all['object_name_new'] = data_chain_all['object_name'].apply(check_synonyms)\n",
    "data_chain_all.head()"
   ]
  },
  {
   "cell_type": "code",
   "execution_count": 19,
   "metadata": {},
   "outputs": [
    {
     "data": {
      "text/html": [
       "<div>\n",
       "<style scoped>\n",
       "    .dataframe tbody tr th:only-of-type {\n",
       "        vertical-align: middle;\n",
       "    }\n",
       "\n",
       "    .dataframe tbody tr th {\n",
       "        vertical-align: top;\n",
       "    }\n",
       "\n",
       "    .dataframe thead th {\n",
       "        text-align: right;\n",
       "    }\n",
       "</style>\n",
       "<table border=\"1\" class=\"dataframe\">\n",
       "  <thead>\n",
       "    <tr style=\"text-align: right;\">\n",
       "      <th></th>\n",
       "      <th>object_type</th>\n",
       "      <th>object_name_new</th>\n",
       "      <th>number_mean</th>\n",
       "      <th>count_object_name</th>\n",
       "    </tr>\n",
       "  </thead>\n",
       "  <tbody>\n",
       "    <tr>\n",
       "      <td>0</td>\n",
       "      <td>столовая</td>\n",
       "      <td>му-му</td>\n",
       "      <td>55.000000</td>\n",
       "      <td>1</td>\n",
       "    </tr>\n",
       "    <tr>\n",
       "      <td>1</td>\n",
       "      <td>столовая</td>\n",
       "      <td>гурман</td>\n",
       "      <td>162.000000</td>\n",
       "      <td>1</td>\n",
       "    </tr>\n",
       "    <tr>\n",
       "      <td>2</td>\n",
       "      <td>столовая</td>\n",
       "      <td>грабли</td>\n",
       "      <td>120.000000</td>\n",
       "      <td>1</td>\n",
       "    </tr>\n",
       "    <tr>\n",
       "      <td>3</td>\n",
       "      <td>ресторан</td>\n",
       "      <td>иль патио</td>\n",
       "      <td>133.947368</td>\n",
       "      <td>19</td>\n",
       "    </tr>\n",
       "    <tr>\n",
       "      <td>4</td>\n",
       "      <td>ресторан</td>\n",
       "      <td>золотая вобла</td>\n",
       "      <td>89.000000</td>\n",
       "      <td>1</td>\n",
       "    </tr>\n",
       "    <tr>\n",
       "      <td>...</td>\n",
       "      <td>...</td>\n",
       "      <td>...</td>\n",
       "      <td>...</td>\n",
       "      <td>...</td>\n",
       "    </tr>\n",
       "    <tr>\n",
       "      <td>962</td>\n",
       "      <td>бар</td>\n",
       "      <td>фитнес-бар «world class»</td>\n",
       "      <td>25.000000</td>\n",
       "      <td>1</td>\n",
       "    </tr>\n",
       "    <tr>\n",
       "      <td>963</td>\n",
       "      <td>бар</td>\n",
       "      <td>хинкальная</td>\n",
       "      <td>30.000000</td>\n",
       "      <td>1</td>\n",
       "    </tr>\n",
       "    <tr>\n",
       "      <td>964</td>\n",
       "      <td>бар</td>\n",
       "      <td>шикари иль патио</td>\n",
       "      <td>11.000000</td>\n",
       "      <td>1</td>\n",
       "    </tr>\n",
       "    <tr>\n",
       "      <td>965</td>\n",
       "      <td>бар</td>\n",
       "      <td>шоколадница</td>\n",
       "      <td>150.000000</td>\n",
       "      <td>1</td>\n",
       "    </tr>\n",
       "    <tr>\n",
       "      <td>966</td>\n",
       "      <td>бар</td>\n",
       "      <td>moskalyan</td>\n",
       "      <td>27.000000</td>\n",
       "      <td>1</td>\n",
       "    </tr>\n",
       "  </tbody>\n",
       "</table>\n",
       "<p>967 rows × 4 columns</p>\n",
       "</div>"
      ],
      "text/plain": [
       "    object_type           object_name_new  number_mean  count_object_name\n",
       "0      столовая                     му-му    55.000000                  1\n",
       "1      столовая                    гурман   162.000000                  1\n",
       "2      столовая                    грабли   120.000000                  1\n",
       "3      ресторан                 иль патио   133.947368                 19\n",
       "4      ресторан             золотая вобла    89.000000                  1\n",
       "..          ...                       ...          ...                ...\n",
       "962         бар  фитнес-бар «world class»    25.000000                  1\n",
       "963         бар                хинкальная    30.000000                  1\n",
       "964         бар          шикари иль патио    11.000000                  1\n",
       "965         бар               шоколадница   150.000000                  1\n",
       "966         бар                 moskalyan    27.000000                  1\n",
       "\n",
       "[967 rows x 4 columns]"
      ]
     },
     "execution_count": 19,
     "metadata": {},
     "output_type": "execute_result"
    }
   ],
   "source": [
    "# расчет количества сетевых заведений и среднего количества мест в заведении\n",
    "data_chain_all_number = (data_chain_all\n",
    " .groupby(['object_type', 'object_name_new'], as_index=False)\n",
    " .agg({'number': 'mean', 'id': 'count'})\n",
    " .rename(columns={'number': 'number_mean', 'id': 'count_object_name'})\n",
    " .sort_values(by='object_type', ascending=False)\n",
    ").reset_index(drop=True)\n",
    "data_chain_all_number['object_name_new'] = data_chain_all_number['object_name_new'].str.lower()\n",
    "data_chain_all_number"
   ]
  },
  {
   "cell_type": "code",
   "execution_count": 20,
   "metadata": {},
   "outputs": [
    {
     "data": {
      "image/png": "[encoded data removed]",
      "text/plain": [
       "<Figure size 1080x432 with 1 Axes>"
      ]
     },
     "metadata": {
      "needs_background": "light"
     },
     "output_type": "display_data"
    }
   ],
   "source": [
    "# диаграмма распределения среднего количества мест в сетевых заведениях\n",
    "f, ax = plt.subplots(figsize=(15, 6))\n",
    "ax = sns.boxplot(x='number_mean', data=data_chain_all_number)\n",
    "ax.set_title('Распределение объектов общественного питания по числу мест')\n",
    "ax.set_xlabel('количество мест')\n",
    "plt.show()"
   ]
  },
  {
   "cell_type": "code",
   "execution_count": 21,
   "metadata": {},
   "outputs": [
    {
     "data": {
      "text/plain": [
       "0.25    17.326667\n",
       "0.50    40.000000\n",
       "0.75    80.000000\n",
       "Name: number_mean, dtype: float64"
      ]
     },
     "execution_count": 21,
     "metadata": {},
     "output_type": "execute_result"
    }
   ],
   "source": [
    "# расчет квартилей среднего количества посадочных мест в сетевых заведениях\n",
    "data_chain_all_number['number_mean'].quantile([0.25,0.5,0.75])"
   ]
  },
  {
   "cell_type": "markdown",
   "metadata": {},
   "source": [
    "Вывод: в сетевых заведениях в среднем 40 мест, первый квартиль 17 мест, третий квартиль 80 мест."
   ]
  },
  {
   "cell_type": "code",
   "execution_count": 22,
   "metadata": {},
   "outputs": [
    {
     "data": {
      "text/html": [
       "<div>\n",
       "<style scoped>\n",
       "    .dataframe tbody tr th:only-of-type {\n",
       "        vertical-align: middle;\n",
       "    }\n",
       "\n",
       "    .dataframe tbody tr th {\n",
       "        vertical-align: top;\n",
       "    }\n",
       "\n",
       "    .dataframe thead th {\n",
       "        text-align: right;\n",
       "    }\n",
       "</style>\n",
       "<table border=\"1\" class=\"dataframe\">\n",
       "  <thead>\n",
       "    <tr style=\"text-align: right;\">\n",
       "      <th></th>\n",
       "      <th>object_type</th>\n",
       "      <th>object_name_new</th>\n",
       "      <th>number_mean</th>\n",
       "      <th>count_object_name</th>\n",
       "      <th>number_mean_group</th>\n",
       "    </tr>\n",
       "  </thead>\n",
       "  <tbody>\n",
       "    <tr>\n",
       "      <td>0</td>\n",
       "      <td>столовая</td>\n",
       "      <td>му-му</td>\n",
       "      <td>55.000000</td>\n",
       "      <td>1</td>\n",
       "      <td>выше среднего</td>\n",
       "    </tr>\n",
       "    <tr>\n",
       "      <td>1</td>\n",
       "      <td>столовая</td>\n",
       "      <td>гурман</td>\n",
       "      <td>162.000000</td>\n",
       "      <td>1</td>\n",
       "      <td>много</td>\n",
       "    </tr>\n",
       "    <tr>\n",
       "      <td>2</td>\n",
       "      <td>столовая</td>\n",
       "      <td>грабли</td>\n",
       "      <td>120.000000</td>\n",
       "      <td>1</td>\n",
       "      <td>много</td>\n",
       "    </tr>\n",
       "    <tr>\n",
       "      <td>3</td>\n",
       "      <td>ресторан</td>\n",
       "      <td>иль патио</td>\n",
       "      <td>133.947368</td>\n",
       "      <td>19</td>\n",
       "      <td>много</td>\n",
       "    </tr>\n",
       "    <tr>\n",
       "      <td>4</td>\n",
       "      <td>ресторан</td>\n",
       "      <td>золотая вобла</td>\n",
       "      <td>89.000000</td>\n",
       "      <td>1</td>\n",
       "      <td>много</td>\n",
       "    </tr>\n",
       "    <tr>\n",
       "      <td>...</td>\n",
       "      <td>...</td>\n",
       "      <td>...</td>\n",
       "      <td>...</td>\n",
       "      <td>...</td>\n",
       "      <td>...</td>\n",
       "    </tr>\n",
       "    <tr>\n",
       "      <td>962</td>\n",
       "      <td>бар</td>\n",
       "      <td>фитнес-бар «world class»</td>\n",
       "      <td>25.000000</td>\n",
       "      <td>1</td>\n",
       "      <td>ниже среднего</td>\n",
       "    </tr>\n",
       "    <tr>\n",
       "      <td>963</td>\n",
       "      <td>бар</td>\n",
       "      <td>хинкальная</td>\n",
       "      <td>30.000000</td>\n",
       "      <td>1</td>\n",
       "      <td>ниже среднего</td>\n",
       "    </tr>\n",
       "    <tr>\n",
       "      <td>964</td>\n",
       "      <td>бар</td>\n",
       "      <td>шикари иль патио</td>\n",
       "      <td>11.000000</td>\n",
       "      <td>1</td>\n",
       "      <td>мало</td>\n",
       "    </tr>\n",
       "    <tr>\n",
       "      <td>965</td>\n",
       "      <td>бар</td>\n",
       "      <td>шоколадница</td>\n",
       "      <td>150.000000</td>\n",
       "      <td>1</td>\n",
       "      <td>много</td>\n",
       "    </tr>\n",
       "    <tr>\n",
       "      <td>966</td>\n",
       "      <td>бар</td>\n",
       "      <td>moskalyan</td>\n",
       "      <td>27.000000</td>\n",
       "      <td>1</td>\n",
       "      <td>ниже среднего</td>\n",
       "    </tr>\n",
       "  </tbody>\n",
       "</table>\n",
       "<p>967 rows × 5 columns</p>\n",
       "</div>"
      ],
      "text/plain": [
       "    object_type           object_name_new  number_mean  count_object_name  \\\n",
       "0      столовая                     му-му    55.000000                  1   \n",
       "1      столовая                    гурман   162.000000                  1   \n",
       "2      столовая                    грабли   120.000000                  1   \n",
       "3      ресторан                 иль патио   133.947368                 19   \n",
       "4      ресторан             золотая вобла    89.000000                  1   \n",
       "..          ...                       ...          ...                ...   \n",
       "962         бар  фитнес-бар «world class»    25.000000                  1   \n",
       "963         бар                хинкальная    30.000000                  1   \n",
       "964         бар          шикари иль патио    11.000000                  1   \n",
       "965         бар               шоколадница   150.000000                  1   \n",
       "966         бар                 moskalyan    27.000000                  1   \n",
       "\n",
       "    number_mean_group  \n",
       "0       выше среднего  \n",
       "1               много  \n",
       "2               много  \n",
       "3               много  \n",
       "4               много  \n",
       "..                ...  \n",
       "962     ниже среднего  \n",
       "963     ниже среднего  \n",
       "964              мало  \n",
       "965             много  \n",
       "966     ниже среднего  \n",
       "\n",
       "[967 rows x 5 columns]"
      ]
     },
     "execution_count": 22,
     "metadata": {},
     "output_type": "execute_result"
    }
   ],
   "source": [
    "# категорирование среднего числа мест в сетевых заведениях\n",
    "def metod(row_values):\n",
    "    if row_values['number_mean'] <= 17:\n",
    "        result = 'мало'\n",
    "    elif 17 < row_values['number_mean'] <= 40:\n",
    "        result = 'ниже среднего'\n",
    "    elif 40 < row_values['number_mean'] <= 80:\n",
    "        result = 'выше среднего'\n",
    "    else:\n",
    "        result = 'много'\n",
    "    return result\n",
    "\n",
    "data_chain_all_number['number_mean_group'] = data_chain_all_number.apply(metod, axis=1)\n",
    "data_chain_all_number"
   ]
  },
  {
   "cell_type": "code",
   "execution_count": 23,
   "metadata": {},
   "outputs": [
    {
     "data": {
      "image/png": "[encoded data removed]",
      "text/plain": [
       "<Figure size 1080x432 with 1 Axes>"
      ]
     },
     "metadata": {
      "needs_background": "light"
     },
     "output_type": "display_data"
    }
   ],
   "source": [
    "f, ax = plt.subplots(figsize=(15, 6))\n",
    "ax = sns.scatterplot(y='count_object_name', x='number_mean', hue='number_mean_group', data=data_chain_all_number)\n",
    "ax.set_title('Распределение объектов общественного питания по количеству и числу мест')\n",
    "ax.set_xlabel('количество мест')\n",
    "ax.set_ylabel('количество объектов')\n",
    "ax.legend(title=\"сегмент размера\")\n",
    "plt.show()"
   ]
  },
  {
   "cell_type": "markdown",
   "metadata": {},
   "source": [
    "Вывод: масштабируются обычно сети с необольшим количеством мест - до 80, т.о. для сетевых заведений характерно большое количество объектов с небольшим количеством мест. "
   ]
  },
  {
   "cell_type": "markdown",
   "metadata": {},
   "source": [
    "Проанализируем количество посадочных мест по видам объектов."
   ]
  },
  {
   "cell_type": "code",
   "execution_count": 24,
   "metadata": {},
   "outputs": [
    {
     "data": {
      "image/png": "[encoded data removed]",
      "text/plain": [
       "<Figure size 1080x432 with 1 Axes>"
      ]
     },
     "metadata": {
      "needs_background": "light"
     },
     "output_type": "display_data"
    }
   ],
   "source": [
    "# расчет количества посадочных мест по видам объектов\n",
    "f, ax = plt.subplots(figsize=(15, 6))\n",
    "ax = sns.boxplot(y='object_type', x='number', data=data)\n",
    "ax.set_title('Количество посадочных мест в объектах общественного питания по видам')\n",
    "ax.set_xlabel('количество мест')\n",
    "ax.set_ylabel('вид объекта')\n",
    "plt.show()"
   ]
  },
  {
   "cell_type": "markdown",
   "metadata": {},
   "source": [
    "Вывод: наибольшее количество посадочных мест у ресторанов и столовых."
   ]
  },
  {
   "cell_type": "code",
   "execution_count": 25,
   "metadata": {},
   "outputs": [
    {
     "data": {
      "text/html": [
       "<div>\n",
       "<style scoped>\n",
       "    .dataframe tbody tr th:only-of-type {\n",
       "        vertical-align: middle;\n",
       "    }\n",
       "\n",
       "    .dataframe tbody tr th {\n",
       "        vertical-align: top;\n",
       "    }\n",
       "\n",
       "    .dataframe thead th {\n",
       "        text-align: right;\n",
       "    }\n",
       "</style>\n",
       "<table border=\"1\" class=\"dataframe\">\n",
       "  <thead>\n",
       "    <tr style=\"text-align: right;\">\n",
       "      <th></th>\n",
       "      <th>object_type</th>\n",
       "      <th>number_mean</th>\n",
       "    </tr>\n",
       "  </thead>\n",
       "  <tbody>\n",
       "    <tr>\n",
       "      <td>0</td>\n",
       "      <td>столовая</td>\n",
       "      <td>130.246618</td>\n",
       "    </tr>\n",
       "    <tr>\n",
       "      <td>1</td>\n",
       "      <td>ресторан</td>\n",
       "      <td>96.834136</td>\n",
       "    </tr>\n",
       "    <tr>\n",
       "      <td>2</td>\n",
       "      <td>буфет</td>\n",
       "      <td>51.129915</td>\n",
       "    </tr>\n",
       "    <tr>\n",
       "      <td>3</td>\n",
       "      <td>бар</td>\n",
       "      <td>43.494159</td>\n",
       "    </tr>\n",
       "    <tr>\n",
       "      <td>4</td>\n",
       "      <td>кафе</td>\n",
       "      <td>39.716019</td>\n",
       "    </tr>\n",
       "    <tr>\n",
       "      <td>5</td>\n",
       "      <td>предприятие быстрого обслуживания</td>\n",
       "      <td>20.552262</td>\n",
       "    </tr>\n",
       "    <tr>\n",
       "      <td>6</td>\n",
       "      <td>кафетерий</td>\n",
       "      <td>9.123116</td>\n",
       "    </tr>\n",
       "    <tr>\n",
       "      <td>7</td>\n",
       "      <td>закусочная</td>\n",
       "      <td>7.608333</td>\n",
       "    </tr>\n",
       "    <tr>\n",
       "      <td>8</td>\n",
       "      <td>магазин (отдел кулинарии)</td>\n",
       "      <td>5.589744</td>\n",
       "    </tr>\n",
       "  </tbody>\n",
       "</table>\n",
       "</div>"
      ],
      "text/plain": [
       "                         object_type  number_mean\n",
       "0                           столовая   130.246618\n",
       "1                           ресторан    96.834136\n",
       "2                              буфет    51.129915\n",
       "3                                бар    43.494159\n",
       "4                               кафе    39.716019\n",
       "5  предприятие быстрого обслуживания    20.552262\n",
       "6                          кафетерий     9.123116\n",
       "7                         закусочная     7.608333\n",
       "8          магазин (отдел кулинарии)     5.589744"
      ]
     },
     "execution_count": 25,
     "metadata": {},
     "output_type": "execute_result"
    }
   ],
   "source": [
    "# средее количество посадочных мест по видам объектов\n",
    "data_mean = (data\n",
    " .groupby(['object_type'], as_index=False)\n",
    " .agg({'number': 'mean'})\n",
    " .rename(columns={'number': 'number_mean'})\n",
    " .sort_values(by='number_mean', ascending=False)\n",
    ").reset_index(drop=True)\n",
    "data_mean"
   ]
  },
  {
   "cell_type": "code",
   "execution_count": 26,
   "metadata": {},
   "outputs": [
    {
     "data": {
      "image/png": "[encoded data removed]",
      "text/plain": [
       "<Figure size 1080x432 with 1 Axes>"
      ]
     },
     "metadata": {
      "needs_background": "light"
     },
     "output_type": "display_data"
    }
   ],
   "source": [
    "f, ax = plt.subplots(figsize=(15, 6))\n",
    "ax = sns.barplot(y='object_type', x='number_mean', data=data_mean)\n",
    "ax.set_title('Cреднее количество посадочных мест по видам объектов')\n",
    "ax.set_xlabel('Количество мест')\n",
    "ax.set_ylabel('Виды объектов')\n",
    "plt.show()"
   ]
  },
  {
   "cell_type": "markdown",
   "metadata": {},
   "source": [
    "Вывод: среднее количество посадочных мест больше для столовых - в среднем 130, ресторанов - 97 и буфетов - 51."
   ]
  },
  {
   "cell_type": "markdown",
   "metadata": {},
   "source": [
    "<a id='id_2_4'></a>\n",
    "### Анализ места расположения"
   ]
  },
  {
   "cell_type": "code",
   "execution_count": 27,
   "metadata": {},
   "outputs": [
    {
     "data": {
      "text/plain": [
       "dict_items([('город', 15698), ('Москва,', 15295), ('улица', 3657), ('Егора', 3), ('Абакумова,', 3), ('дом', 14841), ('9', 216), ('Талалихина,', 9), ('2/1,', 36), ('корпус', 2770), ('1', 3716), ('Абельмановская', 3), ('улица,', 5431), ('6', 336), ('Абрамцевская', 12), ('9,', 178), ('15,', 125), ('переулок', 13), ('Сивцев', 4), ('Вражек,', 6), ('6/2', 10), ('Авиамоторная', 31), ('8,', 193), ('строение', 4154), ('47', 32), ('49/1', 1), ('51', 39), ('Авиаторов,', 8), ('14', 153), ('16', 182), ('18', 170), ('Азовская', 24), ('3', 844), ('4', 592), ('Большая', 514), ('Академическая', 19), ('65', 4), ('Филипповский', 1), ('переулок,', 712), ('15/5', 1), ('Алтайская', 5), ('33/7', 1), ('Алтуфьевское', 84), ('шоссе,', 1277), ('42Б', 3), ('56', 55), ('102Б', 1), ('Амундсена,', 5), ('10', 282), ('Анадырский', 10), ('проезд,', 703), ('55', 25), ('Ангарская', 6), ('1,', 335), ('2', 1717), ('39', 45), ('проспект', 478), ('Андропова,', 79), ('17,', 109), ('26', 172), ('30', 58), ('35А', 3), ('38,', 27), ('Арбат,', 169), ('4,', 236), ('23,', 64), ('25/36', 3), ('29', 73), ('31', 52), ('32', 71), ('36/2,', 5), ('45/24', 2), ('47/23', 2), ('Артамонова,', 2), ('7', 290), ('Астраханский', 2), ('1/15', 2), ('5/9', 4), ('Аэродромная', 2), ('Бабаевская', 1), ('Ивана', 10), ('Бабушкина,', 12), ('1-2', 10), ('Байкальская', 6), ('Бакинская', 6), ('Балаклавский', 26), ('проспект,', 966), ('48,', 29), ('54', 19), ('1-й', 122), ('Балтийский', 2), ('3/25', 1), ('Барклая,', 24), ('16,', 106), ('Новая', 16), ('Басманная', 25), ('12,', 152), ('Бауманская', 34), ('33/2,', 3), ('35/1', 3), ('Татарская', 15), ('Башиловская', 4), ('3,', 227), ('19', 149), ('21', 156), ('Беговая', 13), ('28', 78), ('Демьяна', 1), ('Бедного,', 1), ('Белореченская', 10), ('13,', 124), ('17', 152), ('Бережковская', 7), ('набережная,', 385), ('8', 300), ('Берзарина,', 7), ('Бескудниковский', 26), ('бульвар,', 689), ('40,', 33), ('57,', 24), ('Бестужевых,', 6), ('23', 77), ('Бибиревская', 6), ('7,', 205), ('Маршала', 147), ('Бирюзова,', 37), ('12', 275), ('13', 184), ('22,', 92), ('Бойцовая', 9), ('Болотниковская', 30), ('47,', 21), ('Коктебельская', 3), ('11,', 142), ('Ботаническая', 14), ('11', 197), ('Боткинский', 5), ('2/6', 2), ('Академика', 115), ('Бочвара,', 3), ('Бочкова,', 5), ('5', 404), ('2-я', 102), ('Брестская', 17), ('24/15', 1), ('43', 30), ('Бригадирский', 3), ('3-5', 3), ('Бронная', 41), ('27/4', 3), ('Малая', 115), ('10,', 183), ('20,', 140), ('20А', 24), ('21/13,', 4), ('27/14', 1), ('Будайская', 1), ('Будённого,', 11), ('1/1', 2), ('24,', 93), ('Булатниковская', 6), ('5,', 313), ('Бутлерова,', 14), ('22', 110), ('Бутырская', 29), ('79', 10), ('84', 6), ('89', 18), ('Вавилова,', 78), ('72/13', 1), ('81', 5), ('Нахимовский', 24), ('владение', 309), ('75А', 5), ('Валовая', 16), ('2-4/44,', 1), ('8/18', 2), ('11/19', 5), ('Варсонофьевский', 1), ('Варшавское', 165), ('72,', 11), ('100', 14), ('143А', 2), ('Василевского,', 6), ('Васильевская', 3), ('2,', 288), ('Велозаводская', 4), ('Вельяминовская', 8), ('Вернадского,', 132), ('9/10', 1), ('Кравченко,', 5), ('24/35', 1), ('37', 37), ('86,', 9), ('93', 2), ('97,', 4), ('103,', 2), ('125', 10), ('Верхняя', 52), ('Весковский', 4), ('Глазовский', 1), ('Вешних', 2), ('Вод,', 2), ('6,', 216), ('Вешняковская', 41), ('Вилиса', 6), ('Лациса,', 6), ('33,', 38), ('1-я', 150), ('Владимирская', 33), ('39/12', 1), ('36', 67), ('44/10', 1), ('52,', 28), ('3-я', 70), ('27', 102), ('Архитектора', 8), ('Власова,', 8), ('Волгина,', 10), ('29,', 59), ('Волгоградский', 63), ('15', 185), ('66,', 13), ('157,', 3), ('Ферганская', 11), ('Волоколамское', 38), ('15/22', 2), ('92', 3), ('Волхонка,', 8), ('7/6', 1), ('Воронежская', 10), ('26,', 90), ('Воронцовская', 21), ('13/14,', 1), ('36,', 47), ('48', 25), ('Воротниковский', 1), ('Кудринская', 9), ('площадь,', 286), ('Марта,', 10), ('2-й', 64), ('Вышеславцев', 1), ('Бориса', 9), ('Галушкина,', 6), ('Гастелло,', 4), ('Гвардейская', 1), ('Героев', 12), ('Панфиловцев,', 12), ('Никитская', 43), ('24/1,', 5), ('35', 27), ('Гиляровского,', 6), ('60,', 9), ('Глебовская', 1), ('Большой', 136), ('Гнездниковский', 9), ('Малый', 36), ('Гоголевский', 10), ('25,', 84), ('33/1', 2), ('Голованова,', 2), ('Городецкая', 2), ('Тверская', 73), ('19А', 9), ('27,', 95), ('30/2,', 4), ('Тверская-Ямская', 49), ('Госпитальный', 3), ('Вал,', 295), ('22/2', 5), ('Чаянова,', 4), ('Кутузовский', 114), ('71', 4), ('Грузинская', 30), ('Грузинский', 14), ('28/45', 3), ('Гурьевский', 3), ('31,', 57), ('Даев', 2), ('26-ти', 6), ('Бакинских', 6), ('Комиссаров,', 6), ('Девятая', 1), ('Рота,', 1), ('проезд', 89), ('Дежнёва,', 15), ('Мусы', 18), ('Джалиля,', 18), ('Лубянка,', 7), ('26/17,', 1), ('Якиманка,', 26), ('52', 17), ('58/2', 2), ('Дмитровское', 100), ('45,', 15), ('46,', 27), ('64,', 10), ('89,', 6), ('95,', 10), ('Днепропетровская', 17), ('Коровий', 8), ('Доватора,', 5), ('Докукина,', 7), ('Домодедовская', 8), ('Дорогомиловская', 4), ('Дубнинская', 38), ('30,', 43), ('Дубосековская', 5), ('Дубровская', 6), ('Дудинка,', 6), ('Дурова,', 2), ('3/13', 1), ('Дыбенко,', 3), ('44', 32), ('Енисейская', 19), ('Генерала', 47), ('Ермолова,', 1), ('Каретный', 13), ('Жебрунова,', 1), ('бульвар', 63), ('Матроса', 3), ('Железняка,', 3), ('7/20', 2), ('Жигулёнкова,', 1), ('Житная', 3), ('Жукова,', 19), ('19,', 88), ('35,', 70), ('Жуковского,', 1), ('Заревый', 6), ('14/12', 1), ('Зацепский', 3), ('6/13,', 1), ('Зеленодольская', 16), ('Зелёный', 31), ('37/15', 3), ('62А', 12), ('74', 52), ('Зубовский', 17), ('16-20,', 1), ('25', 74), ('Ибрагимова,', 5), ('5А', 51), ('Измайловский', 20), ('75', 10), ('Изумрудная', 5), ('Исаковского,', 9), ('Кабельная', 9), ('Кавказский', 7), ('Казакова,', 11), ('8А', 45), ('10/2,', 4), ('Новый', 92), ('Долгоруковская', 11), ('39/6', 2), ('Большие', 7), ('Каменщики,', 8), ('21/8', 1), ('Пролетарский', 36), ('14/49,', 8), ('Кантемировская', 24), ('квартал', 16), ('Капотня,', 13), ('Старая', 15), ('Кастанаевская', 11), ('Каховка,', 8), ('16/5', 2), ('Каширское', 112), ('56,', 14), ('Керченская', 5), ('1А,', 17), ('Кибальчича,', 6), ('Киевская', 12), ('20', 104), ('Мясницкая', 73), ('24/7,', 20), ('30/1/2,', 3), ('40А', 6), ('Кировоградская', 110), ('Рождественский', 33), ('10/7,', 2), ('Кожевническая', 21), ('5-я', 30), ('Кожуховская', 32), ('Козихинский', 10), ('Козловский', 2), ('3/2', 4), ('Колобовский', 1), ('Коломенская', 12), ('Сухаревская', 17), ('16/18,', 3), ('Коминтерна,', 2), ('Златоустинский', 6), ('3/5,', 4), ('Фрунзенская', 24), ('Комсомольский', 45), ('5/2', 3), ('14/1,', 4), ('21/10', 4), ('14/37', 1), ('45', 21), ('Конёнкова,', 6), ('Коновалова,', 2), ('16А', 21), ('Конюшковская', 2), ('Кооперативная', 1), ('Коптевская', 5), ('Корнейчука,', 6), ('Королёва,', 23), ('28,', 38), ('Павла', 11), ('Корчагина,', 10), ('Косинская', 9), ('24А', 23), ('Космонавтов,', 8), ('Костякова,', 3), ('6/5', 2), ('Косыгина,', 16), ('Кочновский', 5), ('Коштоянца,', 9), ('1/83', 1), ('1А', 106), ('Красина,', 9), ('Красная', 54), ('Пресня,', 26), ('Красноармейская', 2), ('Краснобогатырская', 16), ('Краснодарская', 12), ('46', 12), ('51,', 18), ('Краснодонская', 5), ('Красноказарменная', 24), ('Краснопрудная', 19), ('3-5,', 8), ('7-9', 2), ('22-24', 4), ('Красносельская', 73), ('34', 34), ('Краснохолмская', 3), ('Красный', 2), ('Казанец,', 2), ('Красного', 27), ('Маяка,', 27), ('Кржижановского,', 27), ('1/19', 1), ('18,', 85), ('24/35,', 4), ('Кривоколенный', 9), ('Кронштадтский', 31), ('Пречистенка,', 10), ('31/16', 1), ('3-й', 46), ('Крутицкий', 11), ('Обыденский', 2), ('9/12', 1), ('Кулакова,', 15), ('Кунцевская', 1), ('Кусковская', 8), ('4/2', 4), ('41', 26), ('Ладожская', 13), ('2/37', 1), ('Лазаревский', 3), ('Лапина,', 1), ('Лебедянская', 5), ('Лёвшинский', 4), ('14/9,', 1), ('Ленинградский', 173), ('24', 74), ('62', 29), ('66', 15), ('74,', 10), ('77,', 9), ('78,', 9), ('Ленинградское', 100), ('Павелецкая', 31), ('Ленинский', 148), ('2А', 57), ('34/1', 1), ('37А', 3), ('57', 52), ('61/1', 1), ('68/10', 5), ('82/2', 1), ('87', 3), ('91', 5), ('95', 4), ('99', 7), ('148', 3), ('Лескова,', 25), ('3А', 75), ('Лесная', 64), ('10-16', 1), ('Лестева,', 2), ('21/61,', 1), ('Лиственничная', 12), ('аллея,', 40), ('2Б', 44), ('Нижнелихоборский', 3), ('15/27', 1), ('Ломоносовский', 36), ('Лосиноостровская', 4), ('Лужнецкий', 1), ('Люсиновская', 24), ('36/50', 5), ('41,', 24), ('53', 29), ('Лялин', 4), ('7/2,', 1), ('Магнитогорская', 4), ('Макаренко,', 4), ('2/21,', 3), ('Космодамианская', 16), ('40-42,', 1), ('Мантулинская', 7), ('Люблинская', 76), ('121/1', 1), ('Знаменский', 2), ('7/10,', 2), ('Марксистская', 24), ('Мартеновская', 2), ('9/13', 1), ('Милютинский', 7), ('19/4,', 2), ('Масловка,', 23), ('Нижняя', 77), ('Мастеркова,', 20), ('Матвеевская', 8), ('Матросская', 2), ('Тишина,', 2), ('23/7,', 1), ('Покровка,', 77), ('Машкова,', 4), ('Медынская', 8), ('Менжинского,', 10), ('Металлургов,', 4), ('7/18', 1), ('Мещанская', 2), ('Миклухо-Маклая,', 75), ('21,', 74), ('Милашенкова,', 6), ('Миллионщикова,', 3), ('Мира,', 204), ('40', 41), ('49', 12), ('58', 24), ('70', 7), ('91,', 7), ('97', 14), ('112', 6), ('114Б', 1), ('116', 6), ('118', 9), ('120', 1), ('124,', 5), ('180', 1), ('186,', 1), ('Мирской', 1), ('Михайлова,', 3), ('Верхний', 2), ('Михайловский', 1), ('Михалковская', 21), ('Патриарший', 11), ('Мнёвники,', 11), ('Можайское', 17), ('Молодогвардейская', 8), ('Молчановка,', 4), ('15/12', 1), ('Мосфильмовская', 15), ('17/25', 1), ('Мурановская', 5), ('Мусоргского,', 2), ('11А', 22), ('Мытная', 51), ('Афанасьевский', 3), ('Нагатинская', 33), ('33', 92), ('Нагорная', 13), ('Нагорный', 1), ('Народного', 34), ('Ополчения,', 34), ('43,', 26), ('49,', 6), ('Неглинная', 26), ('16/2,', 8), ('Звонарский', 1), ('Нижний', 24), ('Кисельный', 2), ('Брюсов', 8), ('2/14,', 4), ('8-10,', 2), ('Нежинская', 7), ('5Б', 3), ('Нижегородская', 32), ('58,', 20), ('70,', 18), ('Новгородская', 6), ('Новинки,', 4), ('Новокузьминская', 3), ('Новогиреевская', 13), ('20/34,', 2), ('31/45', 2), ('Новодевичий', 3), ('Новозаводская', 20), ('Новокузнецкая', 13), ('Новокузнецкий', 2), ('5-7', 1), ('Новопетровская', 7), ('Новорязанская', 7), ('2/7', 1), ('38', 25), ('Новосибирская', 1), ('Новослободская', 43), ('Сущёвская', 27), ('14/19,', 3), ('36/1,', 3), ('50/1,', 2), ('54/56', 1), ('67/69', 1), ('Образцова,', 13), ('Воронцово', 2), ('Поле,', 2), ('Овчинниковская', 3), ('22/24,', 2), ('Окружной', 6), ('Окская', 3), ('Октябрьская', 14), ('9/1', 3), ('105,', 9), ('Октябрьский', 11), ('Олимпийский', 12), ('Орджоникидзе,', 25), ('Ордынка,', 14), ('Ореховый', 78), ('47/33', 1), ('Орликов', 8), ('Оружейный', 4), ('Садовническая', 30), ('42,', 30), ('Осташковская', 4), ('Остоженка,', 24), ('1/9', 1), ('3/14', 2), ('14/2', 3), ('42/2', 2), ('Островитянова,', 10), ('12/2', 2), ('Открытое', 62), ('Отрадная', 9), ('Рябиновая', 15), ('Панфилова,', 7), ('Парковая', 69), ('7-я', 34), ('9-я', 27), ('61А,', 1), ('16-я', 7), ('Партизанская', 7), ('Первомайская', 47), ('35/18', 2), ('47/19', 1), ('77', 5), ('86/18', 1), ('88', 8), ('94', 2), ('105', 7), ('Средняя', 4), ('Переяславская', 7), ('50,', 12), ('Перовская', 18), ('73,', 14), ('Петровка,', 34), ('20/1', 3), ('30/7', 4), ('Шаболовка,', 45), ('30/12', 6), ('Петровский', 7), ('17/1', 1), ('Петровско-Разумовский', 19), ('Старый', 10), ('5-13', 1), ('Петрозаводская', 12), ('Пивченкова,', 1), ('Пироговская', 15), ('37-43,', 2), ('А', 20), ('Платовская', 1), ('Плеханова,', 8), ('Плющиха,', 7), ('20/2', 1), ('53/25,', 2), ('площадь', 99), ('Победы,', 3), ('Б', 2), ('Погонный', 3), ('Ивантеевская', 6), ('32,', 73), ('Подбельского,', 2), ('Пресненский', 11), ('4/29', 1), ('Подсосенский', 1), ('Поклонная', 2), ('Покровский', 7), ('14/6', 1), ('Фёдора', 3), ('Полетаева,', 3), ('Полянка,', 25), ('1/3', 4), ('Полярная', 12), ('Попутная', 2), ('Маши', 3), ('Порываевой,', 3), ('Правды,', 26), ('3/1', 3), ('Преображенская', 16), ('5/7', 3), ('Преображенский', 3), ('Пришвина,', 24), ('9/2', 2), ('Просторная', 3), ('Профсоюзная', 183), ('2/22', 7), ('13/12', 3), ('16/10', 2), ('58/32,', 1), ('98,', 11), ('113,', 1), ('132,', 5), ('Проходчиков,', 2), ('Пудовкина,', 2), ('Дмитровка,', 63), ('7/5,', 8), ('12/1,', 3), ('1/30,', 2), ('Пырьева,', 3), ('Пятницкая', 80), ('6/1,', 9), ('9/28,', 1), ('53/18,', 3), ('54,', 8), ('59/19,', 1), ('Пятницкий', 11), ('Яна', 13), ('Райниса,', 13), ('Расковой,', 6), ('Реутовская', 5), ('Речников,', 3), ('Рогожская', 5), ('Застава,', 10), ('Рогожский', 11), ('Посёлок,', 1), ('22/23,', 2), ('Петра', 2), ('Романова,', 2), ('Рочдельская', 30), ('11/5', 2), ('Рублёвское', 35), ('Смоленская-Сенная', 4), ('23/25', 2), ('Русаковская', 18), ('Руставели,', 6), ('12/7,', 1), ('Рыбалко,', 8), ('Гагаринский', 3), ('Рязанский', 54), ('Саввинская', 3), ('1Б', 30), ('Саввинский', 15), ('Садовая', 19), ('Садовая-Каретная', 6), ('24/7', 1), ('Садовая-Кудринская', 19), ('8-10-12,', 1), ('Садовая-Самотёчная', 12), ('Садовая-Спасская', 11), ('17/2', 1), ('21/1', 4), ('Садовая-Триумфальная', 4), ('4-10', 3), ('Садовая-Черногрязская', 7), ('3Б,', 4), ('13/3,', 1), ('Самотёчная', 2), ('Самотёчный', 2), ('Саратовская', 4), ('Свободный', 17), ('Свободы,', 24), ('Севанская', 4), ('Севастопольский', 29), ('Северная', 5), ('линия,', 5), ('Селезнёвская', 12), ('34,', 36), ('Сельскохозяйственная', 20), ('Семёновская', 78), ('Семёновский', 4), ('Лубянский', 17), ('Серпуховская', 33), ('Серпуховский', 12), ('Сетуньский', 2), ('17/9', 1), ('Симоновский', 10), ('Симферопольский', 15), ('37,', 24), ('Сиреневый', 20), ('Славянский', 4), ('Смоленский', 6), ('1/2', 13), ('Смольная', 22), ('Сокольнический', 6), ('Солнцевский', 14), ('Соловьиный', 4), ('Спиридоньевский', 8), ('10А', 26), ('12/9', 4), ('Сретенка,', 34), ('21/28,', 1), ('26/1', 9), ('Сретенский', 7), ('Ставропольская', 7), ('42', 54), ('Сталеваров,', 8), ('Леонтьевский', 4), ('Старокирочный', 2), ('Стартовая', 7), ('Стасовой,', 2), ('Столешников', 11), ('Страстной', 27), ('Стратонавтов,', 6), ('Стрелецкий', 4), ('Стремянный', 12), ('Строгинский', 10), ('Стромынка,', 19), ('Студёный', 5), ('Студенческая', 5), ('Никитский', 14), ('Судостроительная', 21), ('37/11', 2), ('Трубная', 15), ('Сущёвский', 86), ('3/5', 1), ('3/5А', 7), ('73', 7), ('Сходненская', 48), ('44/17', 3), ('Палашёвский', 5), ('2/8', 1), ('Таганрогская', 1), ('Таганская', 46), ('31/22', 2), ('31А/2', 1), ('Талдомская', 3), ('13А', 85), ('Таллинская', 7), ('Танковый', 2), ('Ташкентская', 8), ('4-я', 10), ('2/11,', 2), ('Тенистый', 1), ('Тимирязевская', 14), ('10/12', 1), ('Тимошенко,', 3), ('Тихорецкий', 17), ('Спиридоновка,', 6), ('24/1', 2), ('25/20,', 2), ('Трёхгорный', 5), ('Трифоновская', 7), ('Трофимова,', 15), ('35/20', 2), ('Трубниковский', 4), ('Сергия', 11), ('Радонежского,', 11), ('Тульская', 51), ('Туристская', 16), ('Вишнёвая', 6), ('2/14', 1), ('Тушинская', 19), ('1905', 16), ('Года,', 19), ('Украинский', 4), ('Новопесчаная', 4), ('Сальвадора', 4), ('Альенде,', 4), ('Дмитрия', 43), ('Ульянова,', 24), ('Марии', 4), ('Ульяновой,', 4), ('Уральская', 15), ('Усачёва', 45), ('64', 14), ('Осенний', 21), ('Фабрициуса,', 9), ('Факельный', 6), ('9/11', 1), ('Николопесковский', 2), ('9/1,', 11), ('14/13', 1), ('Ферганский', 6), ('Фестивальная', 30), ('Филёвский', 3), ('Филёвская', 14), ('Флотская', 12), ('Фомичёвой,', 5), ('Тимура', 19), ('Фрунзе,', 19), ('2/1', 9), ('50', 31), ('Хамовнический', 7), ('Хачатуряна,', 6), ('Херсонская', 6), ('Химкинский', 5), ('14,', 121), ('Хлобыстова,', 5), ('Маросейка,', 60), ('4/2,', 35), ('6-8,', 10), ('9/2,', 5), ('Холмогорская', 2), ('Хорошёвский', 6), ('Хорошёвское', 63), ('82', 4), ('84,', 7), ('Камергерский', 3), ('Хуторской', 1), ('4/13', 1), ('Цветной', 45), ('Цюрупы,', 4), ('Новинский', 27), ('28/35,', 1), ('Чапаевский', 3), ('10/2', 2), ('Чаплыгина,', 2), ('Череповецкая', 8), ('12А', 17), ('Черкизовская', 17), ('Хабаровская', 9), ('12/23', 1), ('13/9,', 1), ('Чистопрудный', 18), ('21-23/25,', 7), ('Черняховского,', 8), ('4А', 49), ('Чертановская', 30), ('Чечулина,', 5), ('15/16,', 2), ('Земляной', 80), ('3/1,', 2), ('18-22,', 1), ('24/30,', 2), ('63,', 6), ('Шарикоподшипниковская', 27), ('Шверника,', 7), ('Шелепихинская', 2), ('60-летия', 18), ('Октября,', 39), ('Шипиловская', 19), ('Шмитовский', 18), ('10/7', 4), ('Шокальского,', 8), ('67,', 6), ('Шоссейная', 16), ('Шухова,', 4), ('Щёлковское', 59), ('56/72', 1), ('85,', 2), ('Щепкина,', 19), ('25/20', 5), ('Щербаковская', 16), ('Элеваторная', 3), ('Энергетическая', 7), ('шоссе', 48), ('Энтузиастов,', 51), ('22/18', 1), ('66/1', 1), ('74/2', 1), ('Зеленоград,', 232), ('Юности,', 15), ('Юных', 22), ('Ленинцев,', 22), ('Яблочкова,', 7), ('Ямского', 28), ('Поля,', 47), ('Янгеля,', 9), ('Ярославская', 16), ('Ярославское', 65), ('55,', 13), ('61', 10), ('114', 1), ('114,', 1), ('117', 2), ('142', 5), ('Ясный', 9), ('Яузский', 1), ('14/8', 1), ('401', 1), ('435', 1), ('436', 1), ('438', 2), ('834А', 1), ('1106', 2), ('1449', 1), ('Благовещенский', 6), ('Палиха,', 2), ('Новоспасский', 2), ('108', 3), ('Будайский', 1), ('Широкая', 19), ('9А', 27), ('Международная', 1), ('Вольская', 8), ('Декабристов,', 36), ('Донского,', 18), ('1456', 2), ('Новотушинский', 8), ('Митинская', 48), ('Ангелов', 9), ('Жулебинский', 12), ('18/8', 1), ('Грина,', 6), ('Дубравная', 19), ('140,', 1), ('113/1', 1), ('Новолучанская', 1), ('Барышиха,', 9), ('121/1,', 1), ('Митинский', 7), ('Кузнецкий', 29), ('Мост,', 29), ('Пронская', 2), ('Новочерёмушкинская', 12), ('Ащеулов', 1), ('Кузнецова,', 3), ('Мичуринский', 92), ('146', 11), ('Луков', 3), ('10/30', 1), ('Сокольническая', 30), ('Андроньевская', 5), ('25/33', 2), ('157', 2), ('Авиаконструктора', 5), ('Миля,', 4), ('Поречная', 11), ('5/14,', 1), ('Котельническая', 5), ('1/15,', 3), ('В', 2), ('ВК', 1), ('Перерва,', 29), ('56/2', 3), ('Мячковский', 20), ('Братиславская', 36), ('10/6', 1), ('Привольная', 18), ('61,', 17), ('163/1', 5), ('Южнопортовая', 19), ('Верхние', 15), ('Скобелевская', 11), ('Адмирала', 43), ('Лазарева,', 13), ('68,', 8), ('Южнобутовская', 15), ('69', 15), ('Семёнова,', 1), ('Чечёрский', 31), ('Ушакова,', 8), ('Старокачаловская', 26), ('82,', 10), ('Курсовой', 2), ('8/2', 1), ('Веерная', 6), ('Анохина,', 16), ('Покрышкина,', 21), ('Минская', 11), ('1Г,', 2), ('60', 9), ('Крылатские', 12), ('Холмы,', 12), ('Кривоарбатский', 1), ('16/22', 1), ('48/1', 2), ('Пятницкое', 59), ('Белобородова,', 9), ('Уваровский', 2), ('линия', 1), ('Хорошёвского', 1), ('Серебряного', 1), ('Бора,', 1), ('домовладение', 76), ('Воротынская', 7), ('Авиационная', 12), ('69,', 7), ('Лавочкина,', 4), ('Коровинское', 12), ('1/51', 3), ('1805', 3), ('Никольский', 2), ('122', 2), ('Шипиловский', 13), ('39,', 30), ('Елецкая', 10), ('1В,', 2), ('152,', 6), ('Новокосинская', 18), ('Толмачёвский', 5), ('Серафимовича,', 2), ('Зачатьевский', 1), ('Бакунинская', 16), ('23-41', 3), ('Рубцовская', 2), ('Глубокий', 2), ('Краснопресненская', 41), ('Конный', 4), ('Старомонетный', 1), ('Тверской-Ямской', 5), ('Щемиловский', 1), ('Грекова,', 6), ('Маломосковская', 6), ('165Е,', 2), ('Молодцова,', 5), ('Марфинская', 7), ('Кашёнкин', 3), ('Луг,', 3), ('Руднёвка,', 8), ('Святоозерская', 15), ('Полевой', 1), ('Дмитриевского,', 6), ('Лухмановская', 8), ('Суворовская', 5), ('62,', 13), ('Васильцовский', 1), ('Стан,', 11), ('Машиностроения,', 6), ('Защитников', 4), ('Москвы,', 8), ('Воронцовские', 2), ('Пруды,', 24), ('96', 5), ('Гарибальди,', 14), ('104', 10), ('Пилюгина,', 10), ('111,', 1), ('Юшуньская', 11), ('Виноградова,', 3), ('81,', 7), ('Новоясеневский', 42), ('Обручева,', 15), ('Савицкого,', 3), ('94,', 4), ('Удальцова,', 17), ('Проспект,', 37), ('Олимпийская', 37), ('Деревня,', 37), ('Столетова,', 8), ('Сколковское', 5), ('Ярцевская', 62), ('63', 9), ('Новокуркинское', 7), ('Соловьиная', 5), ('Роща,', 12), ('Иваньковское', 1), ('59', 56), ('Соколово-Мещерская', 9), ('Соколовского,', 2), ('13/2', 1), ('16/114', 3), ('Родионовская', 7), ('Тухачевского,', 9), ('Щукинская', 22), ('Петровско-Разумовская', 1), ('Гризодубовой,', 6), ('Берёзовой', 5), ('Рощи,', 13), ('53,', 17), ('533', 2), ('826', 1), ('126', 5), ('330', 1), ('микрорайон', 42), ('Северное', 24), ('Чертаново,', 24), ('Нагатинский', 16), ('6-я', 14), ('Радиальная', 8), ('Оболенский', 3), ('Пречистенская', 11), ('Ружейный', 3), ('Озерковская', 8), ('Неопалимовский', 3), ('Староконюшенный', 2), ('Бурденко,', 2), ('поселение', 420), ('Вороновское,', 8), ('село', 17), ('Вороново,', 2), ('110', 4), ('Внуковское,', 29), ('Лётчика', 26), ('Ульянина,', 14), ('Новофедоровское,', 4), ('деревня', 83), ('Рассудово,', 1), ('Рассудовское', 1), ('Лесничество,', 1), ('Марушкинское,', 21), ('Власово,', 2), ('Юбилейная', 4), ('Ликова,', 1), ('Десеновское,', 21), ('Армейская', 1), ('Десна,', 1), ('144УЧ', 1), ('Троицк,', 58), ('\"В\",', 12), ('Щербинка,', 47), ('Спортивная', 1), ('Московский,', 135), ('№', 14), ('80,', 13), ('11А,', 7), ('Барышевская', 7), ('Мостотреста,', 2), ('Говорово,', 7), ('1Б/Н', 15), ('Щаповское,', 17), ('Троицкое,', 6), ('38Б', 1), ('Краснопахорское,', 14), ('Пахра,', 6), ('Овечкино,', 2), ('Пыхтино,', 1), ('46А', 4), ('Воскресенское,', 48), ('посёлок', 125), ('микрорайон,', 19), ('Сосенское,', 139), ('Коммунарка,', 60), ('Липовый', 22), ('Парк,', 27), ('Сосенский', 2), ('Щапово,', 5), ('Садовый', 2), ('Квартал,', 2), ('59А', 11), ('Александры', 24), ('Монаховой,', 24), ('101', 4), ('Роговское,', 5), ('Бунчиха,', 1), ('Филимонковское,', 1), ('Верхнее', 1), ('Валуево,', 1), ('21А', 12), ('Яковлевское,', 1), ('132', 2), ('Лапшинка,', 4), ('Кленовское,', 5), ('Кленово,', 5), ('километр', 43), ('Объездной', 1), ('Дороги,', 2), ('Газетный', 4), ('Полубоярова,', 3), ('4922,', 2), ('Конаковский', 1), ('Заводская', 2), ('31В,', 1), ('Черёмушкинская', 26), ('Янтарный', 1), ('146,', 15), ('Авиационный', 1), ('Рождественка,', 21), ('5/7,', 11), ('Новоостанкинская', 1), ('8/10', 2), ('18/7', 4), ('1/2,', 16), ('Колокольников', 3), ('Звёздный', 6), ('6/9/20,', 8), ('13/16,', 2), ('Тюленева,', 4), ('4А,', 6), ('Докучаев', 1), ('Комсомольская', 29), ('Станиславского,', 2), ('Грайвороновский', 2), ('40/2,', 2), ('Фармацевтический', 1), ('Угличская', 2), ('Скрябина,', 4), ('Предтеченский', 1), ('15/8,', 1), ('Кисловский', 11), ('12/8,', 1), ('19/13,', 3), ('19/2,', 2), ('Столовый', 1), ('5-7,', 1), ('Баррикадная', 6), ('21/34,', 2), ('15Б', 7), ('Мукомольный', 3), ('Тверской', 15), ('Новаторов,', 6), ('89/2', 1), ('93А', 1), ('34А', 3), ('39А', 7), ('Фотиевой,', 2), ('Университетский', 7), ('Строителей,', 2), ('Крупской,', 3), ('83А', 3), ('Панфёрова,', 4), ('Душинская', 3), ('Соймоновский', 1), ('47А', 5), ('Лужнецкая', 2), ('Никольская', 29), ('5/1,', 1), ('Власьевский', 1), ('Ветошный', 2), ('Ильинка,', 6), ('Погодинская', 3), ('20/3,', 1), ('Богоявленский', 1), ('21/16,', 1), ('Бахрушина,', 12), ('Балчуг,', 8), ('Шлюзовая', 5), ('Дубининская', 16), ('Раушская', 3), ('22/21,', 1), ('57А,', 1), ('33/35', 1), ('11/13,', 3), ('76/71,', 2), ('Татарский', 1), ('13/15,', 1), ('Люсиновский', 1), ('3Б', 11), ('Овчинниковский', 7), ('8/7,', 3), ('36/14,', 1), ('аллея', 4), ('Жемчуговой,', 2), ('Суздальская', 10), ('26А', 23), ('Лениногорская', 1), ('Прокатная', 1), ('Кадашёвская', 4), ('6/1/2,', 2), ('Калужская', 10), ('65,', 13), ('18А', 19), ('Бусиновская', 2), ('Горка,', 2), ('4-й', 14), ('Новомихалковский', 2), ('Планерная', 21), ('71,', 52), ('Добролюбова,', 8), ('39Б,', 3), ('Северный', 6), ('52А', 4), ('35Г', 1), ('25Б', 8), ('Тихвинская', 4), ('Белозерская', 6), ('11Б', 7), ('Гончарова,', 1), ('9А,', 7), ('9Б', 6), ('Шереметьевская', 39), ('Каргопольская', 3), ('Сухонская', 4), ('Амурская', 11), ('Вербная', 1), ('Пугачёвская', 4), ('Ширяевская', 1), ('Бобров', 2), ('13/2,', 2), ('Спасская', 7), ('Гамалеи,', 1), ('Хорошёвская', 3), ('Живописная', 10), ('Катукова,', 17), ('Дружинниковская', 4), ('Моховая', 8), ('Поварская', 9), ('50/53,', 1), ('Заморёнова,', 2), ('8-А/3,', 2), ('Хлыновский', 1), ('тупик,', 15), ('Трёхпрудный', 5), ('2/46,', 2), ('32-34,', 3), ('Литвина-Седого,', 2), ('14/2,', 10), ('Хлебный', 1), ('2/3,', 1), ('2/12,', 1), ('Главная', 2), ('31Д', 1), ('12-я', 4), ('Измайловское', 62), ('4Г-Д', 15), ('3В', 7), ('1/13,', 2), ('1/13/6,', 5), ('Гороховский', 5), ('Спартаковская', 11), ('25/28,', 1), ('48/13', 1), ('Фридриха', 10), ('Энгельса,', 11), ('38/2,', 1), ('8/1,', 5), ('Черкасский', 8), ('15-17,', 6), ('Гольяновская', 1), ('7А,', 11), ('Переведеновский', 2), ('Лефортовский', 2), ('4-6,', 5), ('Потаповский', 4), ('3/13,', 1), ('21/4,', 2), ('Харитоньевский', 6), ('Почтовая', 11), ('Вспольный', 3), ('Кондратьевский', 3), ('Тишинский', 3), ('Средний', 2), ('Черногрязская', 2), ('Подвойского,', 1), ('317А,', 4), ('1004А', 1), ('855', 1), ('1468', 1), ('817', 1), ('Берёзовая', 7), ('7А', 24), ('921А', 1), ('1016', 1), ('912', 1), ('1214', 1), ('1017', 1), ('1128', 1), ('1122', 1), ('Каштановая', 2), ('Рейсовая', 13), ('403А', 1), ('Изваринская', 1), ('Дивизионная', 1), ('Внуково,', 4), ('Центральная', 14), ('15А', 25), ('Заводское', 3), ('Усиевича,', 7), ('Часовая', 13), ('22/2,', 4), ('Константина', 4), ('Царёва,', 2), ('Светлый', 2), ('Клинская', 7), ('43А', 3), ('Пулковская', 1), ('Головинское', 31), ('Булатниковский', 3), ('Харьковский', 4), ('156Б', 1), ('67', 12), ('129', 1), ('83,', 4), ('125,', 5), ('126А', 1), ('23А', 16), ('Загородное', 7), ('Газопровод,', 7), ('6А', 40), ('3Г', 7), ('8Г', 3), ('6Б', 3), ('22А', 33), ('30А', 8), ('Дорожный', 7), ('Подольских', 11), ('Курсантов,', 11), ('18Б', 6), ('25А', 23), ('44А', 3), ('Сумской', 6), ('Артековская', 4), ('Никопольская', 2), ('Кожевнический', 7), ('4/5,', 3), ('1604', 1), ('лет', 9), ('128,', 7), ('Литовский', 17), ('55А', 4), ('Рокотова,', 1), ('Паустовского,', 9), ('23/54', 1), ('Введенского,', 5), ('2/34', 2), ('56А', 1), ('Кедрова,', 5), ('Старокалужское', 4), ('103А', 2), ('32А', 17), ('Тёплый', 8), ('Ясногорская', 1), ('Капицы,', 3), ('Карамзина,', 2), ('Вильнюсская', 5), ('Челомея,', 2), ('154,', 1), ('Бакулева,', 2), ('Гримау,', 3), ('Одесская', 6), ('Перекопская', 4), ('Ремизова,', 1), ('14Б', 9), ('20/30,', 1), ('806', 1), ('41/1,', 1), ('Федоренко,', 2), ('Михалковский', 2), ('Зеленоградская', 2), ('Зои', 10), ('и', 16), ('Александра', 21), ('Космодемьянских,', 10), ('Солнечногорская', 2), ('Дегунинская', 3), ('Солнечногорский', 1), ('77А,', 1), ('77А', 2), ('Илимская', 3), ('Гостиничный', 7), ('Гостиничная', 5), ('Путевой', 4), ('Инженерная', 2), ('Псковская', 5), ('Стандартная', 1), ('Шенкурский', 7), ('Пестеля,', 3), ('Николая', 2), ('Химушина,', 2), ('Гражданская', 7), ('Андреево-Забелинская', 1), ('Знаменская', 2), ('12/4', 1), ('2А,', 12), ('Миллионная', 1), ('Алымов', 1), ('5-й', 13), ('Маленковская', 4), ('72', 7), ('Клязьминская', 5), ('137А', 1), ('Линейный', 1), ('Икшинская', 1), ('Немчинова,', 1), ('800-летия', 4), ('50Б', 1), ('50А', 2), ('Софьи', 6), ('Ковалевской,', 6), ('Вагоноремонтная', 1), ('Вучетича,', 6), ('36А', 11), ('Астрадамский', 1), ('Карельский', 1), ('Керамический', 6), ('Панкратьевский', 2), ('Живарев', 1), ('24/2,', 2), ('16/2', 3), ('34/1,', 2), ('Скорняжный', 1), ('Коптельский', 1), ('2/7,', 1), ('Нижние', 4), ('44,', 19), ('Дмитровский', 3), ('Прянишникова,', 4), ('Тимирязевский', 1), ('Клары', 6), ('Цеткин,', 6), ('2Д', 3), ('Космонавта', 10), ('Волкова,', 10), ('98', 2), ('30/32,', 1), ('Каланчёвская', 12), ('Лобненская', 11), ('Чуксин', 1), ('85', 5), ('11-13,', 5), ('6/3,', 3), ('Селигерская', 2), ('8Б', 7), ('Институтский', 2), ('Плещеева,', 13), ('Новодмитровская', 51), ('5А,', 22), ('Огородный', 10), ('Достоевского,', 1), ('14А,', 6), ('Петровские', 4), ('Линии,', 4), ('Ряд,', 17), ('Санникова,', 2), ('7Б', 6), ('Фонвизина,', 1), ('Костромская', 7), ('Театральная', 5), ('18А,', 2), ('156,', 2), ('101,', 6), ('76,', 7), ('Делегатская', 1), ('Театральный', 41), ('Очаковская', 11), ('Озёрная', 15), ('Довженко,', 3), ('Очаковское', 2), ('Беломорская', 4), ('Амбулаторный', 2), ('Онежская', 5), ('Песчаный', 1), ('94А', 1), ('Валдайский', 3), ('Прибрежный', 1), ('Врубеля,', 3), ('20А,', 10), ('31А', 8), ('Левобережная', 2), ('Авангардная', 3), ('37Г', 1), ('Ганецкого,', 5), ('8А,', 5), ('Алабяна,', 3), ('Подрезковская', 1), ('Юннатов,', 2), ('19-21,', 1), ('14А', 61), ('Вятская', 23), ('Приречная', 2), ('Шолохова,', 7), ('Боровское', 35), ('Новопеределкинская', 3), ('Родниковая', 1), ('Дорожная', 14), ('Чоботовская', 3), ('Писцовая', 2), ('Россошанский', 14), ('Бутовская', 1), ('Чонгарский', 14), ('Фруктовая', 1), ('Востряковский', 11), ('Черниговский', 1), ('9/13,', 1), ('Климентовский', 10), ('Даниловская', 4), ('Полтавская', 1), ('Берсеневская', 11), ('51А/9', 5), ('Пыжёвский', 1), ('Донской', 5), ('Петровского,', 1), ('Лаврушинский', 3), ('1-2-3', 1), ('29А', 3), ('Крымский', 10), ('21/33,', 1), ('Намёткина,', 6), ('13Б', 5), ('Лодочная', 3), ('Нелидовская', 1), ('Тушинский', 1), ('Досфлота,', 1), ('112,', 15), ('Героев-Панфиловцев,', 2), ('Врачебный', 1), ('Розанова,', 3), ('10А,', 3), ('Тихомирова,', 3), ('14Г,', 1), ('Заповедная', 4), ('60Г', 1), ('Короленко,', 2), ('Попов', 1), ('Боевская', 1), ('Сахарова,', 3), ('Уссурийская', 3), ('Халтуринская', 3), ('79А', 3), ('Бухвостова,', 7), ('Камчатская', 4), ('22/1,', 1), ('Карамышевская', 6), ('Твардовского,', 5), ('Новикова,', 1), ('Новохорошёвский', 1), ('Паршина,', 5), ('Конева,', 2), ('Силикатный', 3), ('Басманный', 1), ('Стромынский', 1), ('Никитинская', 2), ('Уланский', 2), ('15-я', 10), ('Заводской', 1), ('Лечебная', 1), ('13-я', 4), ('58А', 2), ('68', 8), ('Челябинская', 5), ('Ткацкая', 6), ('Кирпичная', 1), ('115', 3), ('78', 1), ('111', 6), ('Стрелецкая', 1), ('Новосущёвская', 8), ('11-я', 3), ('14-я', 1), ('4Б', 3), ('Соколиной', 7), ('Горы,', 35), ('Благуша,', 1), ('82Б', 1), ('Штурвальная', 1), ('Минаевский', 1), ('Буракова', 2), ('59,', 11), ('Федина,', 2), ('Щёлковский', 1), ('Мажоров', 1), ('Измайловская', 1), ('Армянский', 2), ('Елоховский', 1), ('Токмаков', 2), ('Рубцов', 1), ('10/14', 1), ('79,', 8), ('Денисовский', 3), ('Кондрашёвский', 1), ('Плетешковский', 1), ('Климашкина,', 2), ('13Б,', 1), ('Столярный', 8), ('Николаева,', 1), ('Триумфальная', 1), ('Магистральный', 2), ('Дружбы,', 3), ('87,', 4), ('8/29', 3), ('Лобачевского,', 9), ('90', 6), ('158', 10), ('Раменки,', 7), ('127,', 2), ('Воробьёвское', 2), ('123', 1), ('929А', 1), ('Центральный', 1), ('818', 1), ('Алексеева,', 7), ('Сосновая', 13), ('Западный', 7), ('Скаковая', 4), ('Зорге,', 4), ('Планетная', 2), ('32/2', 2), ('9Б,', 1), ('Куусинена,', 7), ('Поликарпова,', 3), ('Острякова,', 2), ('Аэропорта,', 6), ('Ильюшина,', 2), ('22А,', 3), ('1/3,', 3), ('Мамоновский', 1), ('Дегтярный', 1), ('Глинищевский', 1), ('5/6', 5), ('Вознесенский', 5), ('23/15,', 1), ('5/6,', 14), ('15/1,', 4), ('Бутырский', 13), ('24/13,', 1), ('Старопименовский', 4), ('Настасьинский', 2), ('3А,', 10), ('2/16,', 1), ('Пушкинская', 6), ('Песчаная', 2), ('76', 7), ('31/4,', 1), ('Павловская', 8), ('Монетчиковский', 2), ('Хавская', 1), ('1Д', 4), ('Жуков', 1), ('Павелецкий', 8), ('Дербеневская', 32), ('Рощинский', 3), ('Богданова,', 1), ('56Б', 1), ('2/38,', 4), ('Федосьино,', 5), ('Наро-Фоминская', 1), ('Щорса,', 1), ('Домостроительная', 2), ('913А', 1), ('810', 1), ('809', 1), ('823', 1), ('Сверчков', 1), ('Малыгина,', 8), ('12Б', 6), ('Осташковский', 2), ('Таймырская', 3), ('Европы,', 8), ('4/3', 1), ('Каширский', 6), ('Путинковский', 3), ('Староватутинский', 13), ('Дорохова,', 2), ('47А,', 1), ('Инициативная', 2), ('Дорогобужская', 2), ('проектируемый', 6), ('1980,', 1), ('41А', 3), ('Береговой', 14), ('Липецкая', 14), ('Наташи', 2), ('Ковшовой,', 2), ('Скульптора', 5), ('Мухиной,', 5), ('1Г', 9), ('Новоорловская', 5), ('52/55,', 3), ('17Б', 6), ('1Ж', 2), ('Костомаровская', 1), ('Краснокурсантский', 1), ('1/4', 3), ('Мрузовский', 1), ('Радио,', 4), ('10/1,', 2), ('Школьная', 9), ('Петроверигский', 1), ('Спасоглинищевский', 19), ('Трёхсвятительский', 1), ('Казённый', 2), ('Таможенный', 1), ('Солдатская', 4), ('Золоторожский', 11), ('30А,', 3), ('Шепелюгинская', 1), ('Лонгиновская', 1), ('Самокатная', 2), ('21-23,', 1), ('Несвижский', 1), ('29/7,', 1), ('53/2,', 1), ('22/39', 1), ('Льва', 14), ('Толстого,', 13), ('Россолимо,', 3), ('Смоленская', 21), ('10-летия', 5), ('Знаменка,', 4), ('Лужники,', 3), ('21/12,', 1), ('Зубовская', 2), ('5/36', 1), ('Кропоткинский', 2), ('2-4', 1), ('Хилков', 1), ('Тружеников,', 4), ('12/2,', 2), ('Савельева,', 1), ('Хользунова,', 1), ('Хитровский', 1), ('23-25,', 4), ('Подколокольный', 3), ('38А', 3), ('6/20,', 3), ('18/18,', 2), ('29-31,', 6), ('50/2,', 4), ('26/1,', 2), ('Хохловский', 1), ('Полимерная', 3), ('Напольный', 2), ('Молостовых,', 11), ('1Б,', 5), ('83', 2), ('11/36,', 2), ('Салтыковская', 7), ('Снайперская', 6), ('Саянская', 11), ('Молдагуловой,', 2), ('100А', 1), ('44Б', 1), ('Федеративный', 6), ('42А', 3), ('Союзный', 1), ('57А', 3), ('Муромская', 2), ('Плющева,', 3), ('Фрязевская', 3), ('Утренняя', 1), ('Кетчерская', 8), ('28А', 4), ('10Б', 2), ('22Б', 1), ('Алексея', 1), ('Дикого,', 1), ('Электродная', 20), ('Лазо,', 2), ('40Б', 3), ('96Б', 2), ('58/3,', 1), ('Белова,', 11), ('Ключевая', 7), ('Луганская', 9), ('Паромная', 4), ('Загорьевская', 5), ('Борисовский', 11), ('Каспийская', 6), ('Алма-Атинская', 3), ('Ереванская', 4), ('Деловая', 2), ('Коломенский', 6), ('Борисовские', 22), ('Весёлая', 2), ('Старокаширское', 3), ('Бехтерева,', 4), ('17А', 15), ('Москворечье,', 7), ('Бирюлёвская', 18), ('Тамбовская', 2), ('Задонский', 5), ('Ясеневая', 14), ('Загорьевский', 4), ('Дольская', 2), ('80', 8), ('82А', 1), ('96,', 7), ('Кустанайская', 11), ('Ряжская', 2), ('Промышленная', 3), ('Автозаводская', 67), ('Кленовый', 2), ('Радищевская', 18), ('2/10,', 3), ('Гончарная', 3), ('7/4,', 1), ('Народная', 2), ('Яузская', 4), ('Котельнический', 3), ('Китайгородский', 3), ('Восточная', 2), ('Якорная', 2), ('Ленинская', 89), ('Слобода,', 90), ('Садовники,', 4), ('Кожуховский', 4), ('Высокая', 2), ('9/16,', 1), ('Малые', 1), ('11/2', 1), ('Южнопортовый', 6), ('Снежная', 22), ('Сельскохозяйственный', 2), ('196,', 1), ('Магаданская', 1), ('Русанова,', 3), ('Хибинский', 7), ('Палехская', 4), ('137', 1), ('147', 4), ('Печорская', 1), ('Ротерта,', 1), ('Малахитовая', 7), ('Напрудная', 2), ('Ленская', 2), ('Радужная', 12), ('Олонецкий', 1), ('Рудневой,', 1), ('Федоскинская', 1), ('Норильская', 1), ('Таёжная', 1), ('Седова,', 4), ('Сухаревский', 9), ('Пушкарёв', 2), ('61/2,', 1), ('Кучин', 1), ('150', 14), ('21/5', 6), ('Пушечная', 4), ('9/6,', 4), ('Протопоповский', 4), ('106', 3), ('Мурманский', 3), ('3/6,', 1), ('11/4,', 1), ('Кулаков', 1), ('Напрудный', 1), ('Банный', 1), ('Годовикова,', 6), ('109', 24), ('Васнецова,', 1), ('Останкинская', 24), ('Кондратюка,', 2), ('Новомосковская', 2), ('15А,', 6), ('Марьиной', 8), ('6/8', 1), ('Староалексеевская', 1), ('Графский', 3), ('Больничный', 1), ('Глинистый', 1), ('Аргуновская', 3), ('Черепковская', 1), ('Толбухина,', 3), ('Крылатская', 10), ('Бобруйская', 3), ('Горбунова,', 4), ('Герасима', 2), ('Курина,', 2), ('Молдавская', 2), ('Беловежская', 7), ('Верейская', 4), ('Осенняя', 5), ('Ельнинская', 4), ('Кременчугская', 2), ('Давыдковская', 2), ('Говорова,', 2), ('Красных', 1), ('Зорь,', 1), ('Ращупкина,', 1), ('Кубинка,', 1), ('Кутузова,', 1), ('Гродненская', 1), ('Полоцкая', 2), ('Франко,', 8), ('Оршанская', 3), ('Гжатская', 1), ('Ватутина,', 2), ('Вяземская', 1), ('Екатерины', 1), ('Будановой,', 1), ('55/32', 1), ('Карманицкий', 4), ('54/2,', 4), ('Троилинский', 1), ('Воздвиженка,', 8), ('7/6,', 1), ('38/1,', 3), ('Николощеповский', 1), ('Проточный', 1), ('14/34,', 1), ('Брянская', 2), ('Дениса', 2), ('Давыдова,', 2), ('1812', 3), ('Олеко', 2), ('Дундича,', 2), ('12/11', 4), ('Новорублёвская', 1), ('12/11,', 8), ('Фрезерная', 3), ('Чуйкова,', 11), ('30/15', 1), ('Карачаровская', 7), ('75,', 9), ('117,', 5), ('Самаркандский', 2), ('Степана', 1), ('Шутова,', 1), ('Орехово-Зуевский', 1), ('Вешняковский', 2), ('10Б,', 3), ('Паперника,', 1), ('Фрезер,', 1), ('Тихая', 1), ('Судакова,', 4), ('Шкулёва,', 5), ('Полбина,', 7), ('13/25,', 1), ('88,', 7), ('139,', 2), ('Новочеркасский', 17), ('Донецкая', 5), ('Совхозная', 9), ('8-я', 4), ('Текстильщиков,', 9), ('7/1,', 2), ('14/22,', 2), ('Гурьянова,', 10), ('Волжский', 5), ('52/29,', 1), ('Курьяновская', 3), ('Спортивный', 1), ('Батайский', 5), ('Мариупольская', 1), ('Артюхиной,', 1), ('Подольская', 1), ('Курьяновский', 2), ('Грайвороновская', 4), ('Саратовский', 1), ('25-27', 2), ('32/1,', 4), ('Дровяной', 3), ('Товарищеский', 6), ('Солженицына,', 11), ('Солянка,', 18), ('11/6,', 2), ('Певческий', 2), ('Николоямская', 17), ('Вековая', 2), ('1/5', 2), ('18/8,', 1), ('Тессинский', 1), ('12-14,', 1), ('Рабочая', 5), ('Калитниковская', 5), ('Славянская', 7), ('2/5/4,', 7), ('Тетеринский', 1), ('Библиотечная', 1), ('Новорогожская', 3), ('Берниковская', 1), ('42/5', 1), ('Полуярославский', 2), ('Стройковская', 1), ('Добровольческая', 2), ('64/17', 1), ('76/21,', 4), ('208', 4), ('Остаповский', 3), ('2/3', 2), ('Ильменский', 3), ('Инессы', 1), ('Арманд,', 1), ('Ратная', 7), ('Феодосийская', 1), ('Турчанинов', 3), ('Песочная', 2), ('Ляпидевского,', 2), ('Бирюсинка,', 2), ('1/18,', 1), ('15/17,', 1), ('Пермская', 5), ('Кирпичный', 1), ('Лермонтовский', 5), ('Котляковская', 3), ('Варшавский', 2), ('Учинская', 1), ('Никулинская', 5), ('100,', 15), ('ЗОНА,', 2), ('65А', 1), ('Нарвская', 1), ('1464', 1), ('Чукотский', 1), ('Ижорская', 5), ('Кремлёвская', 1), ('97А', 1), ('135', 1), ('11/13', 3), ('Уткина,', 1), ('Лукинская', 5), ('Боровский', 1), ('Павлова,', 1), ('Черепановых,', 1), ('12А,', 7), ('Олонецкая', 2), ('21Б', 1), ('Хуторская', 4), ('38А,', 2), ('1/23,', 4), ('1115', 1), ('4801,', 2), ('Дорога,', 1), ('Электрозаводская', 5), ('Завода', 11), ('Серп', 6), ('Молот,', 6), ('92,', 7), ('24/27', 2), ('Кадашёвский', 2), ('Чермянская', 1), ('1641', 1), ('Новомарьинская', 9), ('Лихачёвский', 4), ('Новохохловская', 4), ('Василия', 6), ('Петушкова,', 6), ('Волоколамский', 4), ('Складочная', 10), ('Венёвская', 8), ('Поляны,', 7), ('Югорский', 3), ('32/75,', 3), ('24А,', 7), ('Монтажная', 3), ('1/4,', 7), ('16-18,', 1), ('4-4А', 1), ('Багратионовский', 43), ('90,', 8), ('173', 1), ('Мытищинская', 7), ('Касаткина,', 6), ('Сергея', 15), ('Эйзенштейна,', 3), ('Зубарев', 1), ('12-й', 1), ('18/1', 5), ('Вильгельма', 3), ('Пика,', 3), ('51/4,', 1), ('Выползов', 1), ('Анненский', 1), ('Лианозовский', 2), ('Анненская', 1), ('40Д', 1), ('31А,', 16), ('171', 2), ('12Б,', 2), ('102,', 18), ('Чермянский', 1), ('Бегичева,', 2), ('114Б,', 2), ('Старомарьинское', 1), ('Тайнинская', 2), ('Новоалексеевская', 2), ('Калибровская', 1), ('Рижский', 2), ('Сигнальный', 14), ('79Б,', 1), ('19А,', 5), ('Полковая', 6), ('Хованская', 1), ('87-й', 8), ('Московской', 34), ('Кольцевой', 34), ('Автодороги,', 34), ('4Д', 1), ('163,', 1), ('211,', 62), ('123А', 3), ('Борьбы,', 2), ('13А,', 3), ('Отрадный', 1), ('Римского-Корсакова,', 9), ('Лосевская', 1), ('82-й', 2), ('55Д', 1), ('Ростокинская', 1), ('19Г', 1), ('Юрловский', 1), ('Ботанический', 2), ('27А', 5), ('2Б,', 4), ('120,', 1), ('Серебрякова,', 2), ('Челобитьевское', 2), ('Двинцев,', 4), ('23Г', 1), ('Высоковольтный', 3), ('17-й', 1), ('163А,', 18), ('Уржумская', 1), ('Ямская', 1), ('Константинова,', 1), ('33Г', 1), ('128', 1), ('Черницынский', 1), ('Рокоссовского,', 8), ('23А,', 3), ('Оленья', 3), ('Ольховская', 2), ('Иркутская', 5), ('1-5', 1), ('Тагильская', 5), ('24Б', 9), ('Иртышский', 1), ('102А', 3), ('30Б', 3), ('Олений', 2), ('Шумкина,', 1), ('26А,', 1), ('Барболина,', 2), ('Богородский', 1), ('Мясниковская', 3), ('Оренбургская', 1), ('Сокольнического', 3), ('Круга,', 3), ('104-й', 1), ('Медведева,', 1), ('Татьяны', 2), ('Макаровой,', 2), ('Остроумовская', 2), ('Старослободская', 1), ('Гаражная', 1), ('Мая,', 4), ('Мироновская', 4), ('Акулово,', 1), ('43А,', 1), ('5/12,', 1), ('Вольная', 2), ('Перова', 2), ('69Д', 1), ('12-13-14', 1), ('31М', 1), ('41А,', 1), ('106А', 1), ('104А', 4), ('63Б', 5), ('3Л', 3), ('Барабанный', 1), ('71А', 8), ('35Б', 1), ('10Д,', 1), ('54А', 2), ('69Г', 3), ('4Г-Д,', 1), ('116А', 2), ('61А', 31), ('Златоустовская', 2), ('Курганская', 1), ('Журавлёв', 1), ('Рыбинская', 5), ('41Б', 3), ('15Г', 2), ('28А,', 1), ('Кузьминская', 1), ('Иловайская', 4), ('17-23', 2), ('1-1А', 2), ('Хвалынский', 1), ('46Б', 1), ('Сормовская', 3), ('37А,', 4), ('Новоостаповская', 1), ('Угрешская', 6), ('Волочаевская', 5), ('119А', 5), ('171,', 1), ('27А,', 3), ('169,', 6), ('60А', 2), ('Подъёмная', 3), ('165,', 7), ('Перервинский', 5), ('Смирновская', 3), ('Цимлянская', 3), ('Егорьевский', 1), ('20/1,', 2), ('Перовский', 1), ('Автомобильный', 1), ('Басовская', 1), ('Новороссийская', 2), ('Красноказарменный', 1), ('31Б', 1), ('155,', 2), ('4/1,', 1), ('сооружение', 56), ('Марьинский', 3), ('Зарайская', 1), ('Армавирская', 1), ('153', 12), ('112А,', 2), ('151', 1), ('99А', 4), ('58Г', 1), ('Сормовский', 1), ('Есенинский', 1), ('Кабельный', 1), ('Тарханская', 1), ('133,', 2), ('166,', 1), ('Покровская', 7), ('38-й', 1), ('6А,', 2), ('Голубинская', 9), ('Варги,', 6), ('Сивашская', 1), ('69/75', 1), ('131,', 1), ('118Б', 1), ('Антонова,', 2), ('111/2', 1), ('126,', 20), ('Саморы', 2), ('Машела,', 2), ('42-й', 3), ('11Е', 10), ('45А', 6), ('129А', 14), ('Научный', 1), ('28Б', 2), ('135А', 1), ('Куликовская', 7), ('Изюмская', 7), ('Джанкойская', 2), ('Железногорская', 1), ('Бартеневская', 6), ('Старобитцевская', 3), ('Витте,', 2), ('Горчакова,', 2), ('Руднева,', 7), ('Кадырова,', 3), ('Новобутовский', 1), ('Понтрягина,', 1), ('250,', 1), ('Брусилова,', 1), ('206', 1), ('Летниковская', 15), ('Синельниковская', 1), ('Арцимовича,', 1), ('Якиманская', 4), ('30/1,', 1), ('Опарина,', 1), ('Щипок,', 3), ('98А', 1), ('142,', 5), ('Винокурова,', 2), ('Болотная', 7), ('Берсеневский', 8), ('121,', 2), ('Стройкомбината,', 2), ('Трубецкая', 3), ('Манежная', 38), ('19/11,', 1), ('Внуковская', 1), ('Джавахарлала', 7), ('Неру,', 7), ('4-А', 1), ('36-А', 1), ('Улофа', 6), ('Пальме,', 6), ('3-А', 1), ('130Б,', 1), ('86Д', 1), ('76А', 3), ('72А', 1), ('2Г,', 2), ('86Б', 5), ('территория', 31), ('Ленинские', 28), ('Староваганьковский', 6), ('Аминьевское', 2), ('26Б', 6), ('20В', 1), ('14-А', 1), ('12-А', 1), ('Неверовского,', 5), ('33-Г', 1), ('34-А', 1), ('52-А', 2), ('Клочкова,', 1), ('56-й', 1), ('Островная', 2), ('Киевского', 49), ('Вокзала,', 49), ('Волоцкой', 1), ('Новопоселковая', 2), ('Пенягинская', 1), ('Рогова,', 1), ('74-й', 2), ('65-й', 1), ('67-й', 1), ('Саляма', 1), ('Адиля,', 1), ('Шеногина,', 1), ('Ландышевая', 1), ('Рословка,', 1), ('Светлогорский', 2), ('Походный', 8), ('6/7', 1), ('73-й', 2), ('34/29', 14), ('Зенитчиков,', 1), ('Юровская', 3), ('Прошлякова,', 2), ('Таманская', 2), ('124', 2), ('Неманский', 1), ('Курчатова,', 2), ('16/23,', 1), ('Краснопролетарская', 7), ('24Д', 1), ('Бумажный', 2), ('Макарова,', 11), ('Б-В', 1), ('71Б,', 2), ('227', 2), ('Магистральная', 7), ('Викторенко,', 6), ('Коптевский', 2), ('23Б,', 1), ('71Г', 1), ('Правобережная', 10), ('37Б', 4), ('108,', 3), ('63Б,', 1), ('Аэропортовская', 1), ('Ходынский', 102), ('74А', 2), ('108Б,', 1), ('8Б,', 1), ('Б/Н', 1), ('16А,', 57), ('Балтийская', 1), ('Международное', 3), ('28Б,', 2), ('39А,', 1), ('Локомотивный', 9), ('Соболевский', 2), ('73Б', 1), ('107Е', 1), ('Автомоторная', 3), ('6Б,', 1), ('Базовская', 2), ('2/62/35,', 1), ('Гашека,', 3), ('46/54,', 1), ('Зоологическая', 3), ('844', 1), ('509', 1), ('Вторая', 1), ('Пятилетка,', 1), ('1138', 1), ('822', 1), ('1106Е', 2), ('514,', 1), ('Панфиловский', 9), ('Проезд', 2), ('4806,', 2), ('Шокина,', 5), ('Георгиевский', 2), ('Савёлкинский', 6), ('Новокрюковская', 5), ('1446', 1), ('1624Б', 1), ('1634,', 1), ('Солнечная', 7), ('Яблоневая', 3), ('1637', 1), ('Андреева,', 1), ('1549', 2), ('159', 2), ('1550', 2), ('2011', 1), ('864', 1), ('Крюковская', 12), ('2031', 1), ('305', 1), ('405А', 2), ('Гоголя,', 4), ('Педагогическая', 1), ('Захарова,', 11), ('Хлебозаводский', 6), ('Братеевская', 5), ('28-й', 5), ('Котляковский', 5), ('31Г', 3), ('Городская', 6), ('Электролитный', 6), ('33А', 9), ('Криворожская', 2), ('Затонная', 3), ('Кошкина,', 1), ('116,', 3), ('Мелитопольская', 4), ('125Ж,', 2), ('Партийный', 11), ('132А', 1), ('Ступинский', 7), ('Староданиловский', 3), ('61/15', 1), ('26-й', 1), ('Холодильный', 7), ('19-й', 4), ('25А,', 3), ('Автозаводский', 3), ('Касимовская', 3), ('129Г', 1), ('Кирпичные', 2), ('Выемки,', 2), ('5Б,', 3), ('Новоданиловская', 6), ('87Б', 10), ('Бесединское', 6), ('135Б', 1), ('122А', 1), ('127', 1), ('118,', 3), ('152А', 3), ('Россошанская', 5), ('86', 3), ('160', 7), ('Черноморский', 1), ('Павловский', 1), ('Духовской', 7), ('Лазенки,', 2), ('Интернациональная', 1), ('6-А', 2), ('Аэрофлотская', 1), ('Главмосстроя,', 2), ('Толстопальцево,', 3), ('Советская', 4), ('3/4,', 5), ('Зацепа,', 3), ('Софийская', 2), ('Лыщиков', 1), ('Солянский', 5), ('35Б,', 3), ('Ивановский', 1), ('Варварка,', 2), ('Сибирский', 1), ('6/1/2', 1), ('Романов', 4), ('2/6,', 3), ('набережная', 5), ('Туполева,', 5), ('2/8,', 1), ('24/15,', 2), ('Казачий', 2), ('6/2,', 5), ('Сыромятническая', 12), ('Фадеева,', 1), ('Наставнический', 2), ('13-15,', 1), ('Таганский', 1), ('Голутвинский', 1), ('Гжельский', 1), ('Калошин', 1), ('Звенигородское', 2), ('18/20,', 1), ('Тихвинский', 1), ('36/71,', 2), ('55/59,', 1), ('Сусальный', 19), ('Гончарный', 3), ('4/7,', 2), ('Донская', 4), ('Успенский', 1), ('Высоцкого,', 1), ('Сыромятнический', 5), ('1/8,', 2), ('1/7,', 1), ('Звенигородская', 17), ('82/34,', 5), ('Денежный', 1), ('40/12,', 1), ('Новолесная', 2), ('Миусская', 2), ('Лесной', 3), ('Пожарский', 1), ('Строченовский', 1), ('10Г', 1), ('2/4', 3), ('23/14/9', 8), ('Тургеневская', 1), ('Бутиковский', 1), ('Серебряническая', 2), ('11/10,', 2), ('Пресненская', 167), ('11/32,', 1), ('45А,', 1), ('Тихий', 1), ('4/3,', 2), ('Охотный', 9), ('2/15,', 3), ('7-й', 1), ('Ростовский', 1), ('Пуговишников', 1), ('Ковров', 2), ('Стрельбищенский', 1), ('Макеева,', 12), ('23/10,', 3), ('Брошевский', 1), ('32/29,', 2), ('5-6', 1), ('Известковый', 1), ('Красносельский', 1), ('Красногвардейский', 14), ('Калужское', 53), ('22-й', 64), ('километр,', 108), ('Картмазово,', 1), ('Заречный', 1), ('Сосенки,', 13), ('190', 1), ('Марушкино,', 3), ('Полевая', 2), ('Совхоза', 5), ('\"Крёкшино\",', 5), ('Кокошкино,', 6), ('дачный', 3), ('Горького,', 1), ('Киевское', 52), ('39-й', 4), ('32-й', 2), ('Рязановское,', 18), ('Знамя', 7), ('\"Родники\",', 3), ('Ерино,', 3), ('Рогово,', 2), ('Фитарёвская', 1), ('ЛМС,', 2), ('\"Центральный\",', 2), ('ДСК', 1), ('\"Мичуринец\",', 1), ('155', 1), ('16Б', 1), ('Ульяновского', 2), ('Лесопарка,', 2), ('5Д,', 5), ('Дачная', 2), ('37-й', 2), ('Михайлово-Ярцевское,', 4), ('Шишкин', 3), ('Лес,', 3), ('Красное,', 2), ('Школа-интернат,', 1), ('Симферопольское', 11), ('20А/1', 2), ('Фабрики', 3), ('имени', 3), ('\"Мосрентген\",', 17), ('Мосрентген,', 5), ('Остафьево,', 2), ('Ясенки,', 1), ('Липовая', 2), ('Аллея,', 6), ('ж/к', 6), ('\"Дубровка\",', 6), ('Киевский,', 6), ('рабочий', 3), ('Молодежная', 1), ('Пастернака,', 2), ('Анны', 2), ('Ахматовой,', 2), ('Давыдково,', 2), ('Новостроевская', 4), ('51Б,', 1), ('20-й', 6), ('43-й', 2), ('Голохвастово,', 1), ('2Г', 1), ('Троицкий', 1), ('47-й', 3), ('Троицкая', 1), ('Нововатутинская', 7), ('2Б/Н', 2), ('Железнодорожная', 12), ('27-й', 1), ('Калужского', 7), ('23-й', 20), ('Николо-Хованское,', 1), ('ТСЖ', 1), ('\"Лесная', 1), ('поляна-2\",', 1), ('вблизи', 4), ('деревни', 3), ('13Г', 2), ('29-й', 1), ('Нововатутинский', 4), ('Руднево,', 2), ('Мостовское,', 1), ('пос.Курилово,', 1), ('45Б', 3), ('86А', 18), ('Долгопрудненское', 2), ('2312', 1), ('1651', 1), ('2309А', 3), ('28/60,', 3), ('Каманина,', 1), ('Дудкино,', 2), ('Митьковский', 2), ('20/1/27,', 1), ('Новопресненский', 1), ('31-33', 1), ('Сайкина,', 1), ('118Б,', 1), ('Калашный', 1), ('8А/5,', 1), ('Шубинский', 1), ('58/23,', 1), ('6-й', 1), ('Лучевой', 4), ('просек,', 4), ('19/20,', 1), ('Проектируемый', 1), ('N', 1), ('5231,', 1), ('164', 1), ('Расплетина,', 2), ('4062,', 5), ('28/20,', 3), ('Столбово,', 1), ('Хабарова,', 23), ('Сенькино-Секерино,', 1), ('154А', 1), ('Каменка,', 2), ('32Б', 1), ('29/66,', 1), ('Бабенки,', 1), ('133Б', 1), ('97Б', 1), ('Первомайское,', 8), ('Рогозинино,', 2), ('Луговая', 3), ('Новые', 1), ('Сады,', 1), ('11/2,', 1), ('Корнея', 1), ('Чуковского,', 1), ('Причальный', 1), ('Грицевца,', 2), ('Мещерякова,', 2), ('1204', 2), ('39Д', 1), ('Харьковская', 3), ('Габричевского,', 3), ('75/1', 1), ('8/15', 1), ('Мансуровский', 1), ('Маяковского,', 1), ('2В', 2), ('24/9', 1), ('14/7,', 1), ('Крёкшино,', 1), ('Журавлёва,', 1), ('Колодезный', 4), ('Гай,', 4), ('Садовая-Сухаревская', 2), ('С-1', 1), ('435А', 1), ('13/4', 1), ('18Г', 1), ('6-Б', 1), ('45Б,', 1), ('75Г,', 3), ('1215', 2), ('1650', 1), ('25Б,', 1), ('Рощинская', 2), ('Московская', 3), ('Курилово,', 1), ('188Б,', 2), ('Игарский', 2), ('Каскадная', 1), ('11/23,', 1), ('12/21', 1), ('Былово,', 1), ('95А', 1), ('Прохладная', 1), ('19/6', 1), ('Михневский', 1), ('1140', 1), ('34/63,', 1), ('17-18', 1), ('Пестовский', 1), ('73/8', 2), ('3/7,', 3), ('Дубки,', 1), ('170Б,', 1), ('170Г,', 1), ('Якиманский', 1), ('МКАД,', 2), ('24Г,', 1), ('Бианки,', 3), ('Костомаровский', 3), ('7/17', 1), ('15-17', 1), ('129,', 1), ('167А', 1), ('39/1', 2), ('70/11', 3), ('11-11А', 1), ('5Г', 1), ('44/20', 1), ('42/8', 1), ('39/1,', 1), ('426А,', 1), ('15/68', 1), ('31/12', 1), ('Доброслободская', 2), ('144,', 1), ('Пяловская', 1), ('36/2', 1), ('10/32', 2), ('37Б,', 1), ('143,', 3), ('Полины', 1), ('Осипенко,', 1), ('Ефремова,', 2), ('Днепропетровский', 2), ('17/15,', 1), ('28/6', 2), ('26/2', 1), ('Зюзинская', 1), ('14/7', 2), ('Новолужнецкий', 3), ('47Б', 1), ('8/11,', 1), ('30/3,', 2), ('Знаменские', 1), ('Садки,', 1), ('15/1', 1), ('2/4,', 1), ('30-й', 1), ('31-й', 1), ('78-й', 1), ('141,', 6), ('Фролов', 1), ('3/10,', 1), ('64А', 1), ('Карбышева,', 4), ('19/3,', 2), ('12Д', 1), ('1/7', 1), ('22Г', 1), ('Полковника', 2), ('Милиции', 2), ('Курочкина,', 2), ('Ялтинская', 1), ('Физическая', 1), ('34-й', 1), ('50/12,', 1), ('2/24', 1), ('11-15,', 1), ('18-20', 1), ('13/1', 3), ('Богословский', 3), ('16/6,', 2), ('Боровая', 1), ('8/15,', 1), ('1/1,', 1), ('2/18', 1), ('Бродников', 1), ('135,', 1), ('Войковский', 2), ('2/11', 2), ('3-9', 1), ('18/15', 2), ('13/17,', 1), ('Жигулёвская', 1), ('Ермолаевский', 5), ('Анатолия', 1), ('Живова,', 1), ('Комарова,', 1), ('Г', 1), ('16/14', 1), ('11/12,', 2), ('Медиков,', 1), ('Молодёжная', 1), ('16/11,', 1), ('57/65', 1), ('19/38', 1), ('43/16,', 1), ('40/1', 1), ('1/123,', 2), ('Можайский', 1), ('11В', 1), ('144', 2), ('36/1', 1), ('12/23,', 1), ('22/10', 1), ('Сумская', 1), ('2/12', 1), ('Архангельский', 1), ('7/9-11,', 2), ('1/14,', 1), ('425', 1), ('429', 1), ('607', 1), ('618', 1), ('1519', 1), ('Бажова,', 2), ('12/20', 1), ('14/15', 2), ('Пржевальского,', 1), ('Раевского,', 1), ('104,', 1), ('Рождественская', 6), ('Липчанского,', 2), ('Недорубова,', 1), ('Красностуденческий', 2), ('2014', 1), ('Ясная', 3), ('315', 1), ('Самуила', 2), ('Маршака,', 2), ('Никитина,', 1), ('122,', 3), ('1816', 1), ('Спартаковский', 1), ('52/34,', 1), ('20/13,', 1), ('507', 1), ('430А', 1), ('341А', 1), ('314', 1), ('26/21,', 2), ('143', 1), ('48А', 1), ('17Г', 2), ('196', 1), ('Конюшковский', 1), ('163', 1), ('428А', 1), ('621А', 1), ('344А', 1), ('711', 1), ('421А', 1), ('205А', 1), ('Козицкий', 1), ('1548', 1), ('1543', 2), ('Электродный', 2), ('98Б', 1), ('39Г', 2), ('Михневская', 2), ('2/34,', 1), ('43/33,', 1), ('Шумилова,', 1), ('102', 1), ('5/8', 1), ('1555', 1), ('1609', 1), ('1426', 1), ('1632', 1), ('Газгольдерная', 1), ('1469', 1), ('1611', 1), ('65/74,', 1), ('33/13,', 1), ('8-й', 1), ('23Б', 1), ('116Д', 3), ('Нансена,', 1), ('Нововладыкинский', 1), ('Советской', 1), ('Армии,', 1), ('161Б', 2), ('1Д,', 2), ('49А', 1), ('29-33,', 5), ('1Н', 1), ('Одоевского,', 2), ('140', 2), ('Бунинская', 4), ('Глаголева,', 4), ('Строительный', 4), ('Старопетровский', 8), ('1440', 1), ('1556', 1), ('1642', 1), ('529', 1), ('1530', 1), ('Привокзальная', 2), ('222А,', 1), ('21Б,', 1), ('138', 1), ('60Б', 1), ('22/30А', 1), ('14Ж,', 1), ('133', 4), ('170А', 2), ('Декабрьская', 4), ('Плотников', 3), ('Тишинская', 3), ('19-21/1', 1), ('Садовнический', 1), ('20/8,', 1), ('25-25А', 2), ('Саларьево,', 5), ('Крекшино,', 1), ('14Б/Н', 1), ('Безобразово,', 1), ('Лазурная', 2), ('Колотилово,', 1), ('Цветочная', 1), ('Корнилова,', 4), ('Бутовский', 2), ('Ландау,', 2), ('Сервантеса,', 6), ('Тюрина,', 2), ('Микояна,', 1), ('Бульвар', 2), ('113а,', 2), ('Северодвинская', 1), ('156', 1), ('72/2', 1), ('7/8,', 1), ('65/32', 3), ('27Б', 1), ('119/22', 1), ('38/19,', 1), ('11/9,', 2), ('Мерзляковский', 1), ('Электрический', 1), ('Лазоревый', 6), ('Татьянин', 2), ('4/6,', 2), ('Старые', 1), ('Кузьминки,', 1), ('41Г', 1), ('Гранатный', 1), ('Выборгская', 2), ('16/13', 1), ('9Г', 1), ('1455', 1), ('3Б/Н', 1), ('7/1', 2), ('Атарбекова,', 1), ('44-48,', 2), ('Волховский', 2), ('Донелайтиса,', 1), ('12/14', 1), ('6/16', 1), ('75/9', 1), ('Мерецкова,', 1), ('30/7,', 2), ('Прядильная', 1), ('7/9', 1), ('7/12', 1), ('29/16', 1), ('834В', 1), ('1130', 1), ('Б,', 2), ('Челюскинская', 1), ('Захарьинские', 1), ('Дворики,', 1), ('Базовая', 1), ('Шаганино,', 1), ('Потаповская', 1), ('45/1,', 1), ('24Г', 1), ('Скатертный', 1), ('29Б,', 2), ('8Д', 1), ('86/1,', 2), ('111А,', 1), ('Кухмистерова,', 1), ('38/14/23,', 1), ('Народный', 1), ('Вересковая', 2), ('Кольская', 2), ('Сосна,', 2), ('4Г', 3), ('58/25,', 1), ('115,', 1), ('109,', 2), ('Айвазовского,', 1), ('Тарусская', 1), ('Производственная', 1), ('Максимова,', 1), ('Парусный', 1), ('Мишина', 1), ('Квесисская', 7), ('72А,', 1), ('Ижорский', 1), ('2045', 1), ('Канатчиковский', 1), ('СНТ', 2), ('\"Гавриково-1\",', 2), ('172А,', 2), ('103', 1), ('Горчаково,', 2), ('Ватутинки,', 4), ('21-й', 1), ('Ватутинская', 1), ('Машкинское', 1), ('Футбольная', 2), ('\"Эдальго\",', 1), ('Бачуринская', 3), ('Николо-Хованская', 2), ('Тестовская', 1), ('132/1', 2), ('121', 1), ('Корабельная', 2), ('Веласкеса,', 4), ('56/17,', 1), ('165', 1), ('19/38,', 1), ('165Б', 1), ('30/2', 1), ('51/23', 1), ('151,', 1), ('65/18,', 2), ('175', 3), ('4/12,', 1), ('Новоподмосковный', 1), ('9/4,', 1), ('11/31', 1), ('Посланников', 1), ('39/22', 1), ('6/12', 1), ('Яшина,', 1), ('119', 1), ('Композиторская', 1), ('Мясницкий', 2), ('1410', 1), ('Яхромская', 1), ('21/40', 2), ('14/33,', 1), ('123,', 1), ('Спасоналивковский', 1), ('64/1,', 17), ('71А,', 1), ('Вятский', 1), ('617А', 1), ('Винницкая', 1), ('Якушкина,', 1), ('224', 1), ('Сеченовский', 1), ('Юрьевский', 2), ('1/8', 1), ('50А,', 1), ('145,', 1), ('Староникольская', 1), ('1628', 1), ('2/2,', 3), ('7Б,', 1), ('7Г', 2), ('Угрешский', 1), ('75Б,', 1), ('32Г', 1), ('21А,', 1), ('3/8,', 1), ('86Б,', 4), ('1Н,', 1), ('Линии', 1), ('Октябрьской', 1), ('Железной', 1), ('80-й', 1), ('1627', 2), ('1602А', 1), ('532', 1), ('Гамсоновский', 2), ('170Г', 3), ('33-й', 2), ('39Б', 1), ('28/1,', 1), ('16/15,', 1), ('19/16,', 1), ('Пионерская', 1), ('Новорижское', 2), ('44-й', 1), ('Поповка,', 1), ('54А,', 1), ('Василисы', 2), ('Кожиной,', 2), ('Рябинкина,', 1), ('Ямонтово,', 2), ('132/2', 2), ('Евгения', 1), ('Родионова,', 1), ('Фоминское,', 1), ('60/2', 1)])"
      ]
     },
     "execution_count": 27,
     "metadata": {},
     "output_type": "execute_result"
    }
   ],
   "source": [
    "# подсчет количества уникальных слов в адресе для выделения маркеров улиц\n",
    "from collections import Counter\n",
    "result = Counter(\" \".join(data['address'].values.tolist()).split(\" \")).items()\n",
    "result"
   ]
  },
  {
   "cell_type": "code",
   "execution_count": 28,
   "metadata": {},
   "outputs": [],
   "source": [
    "# список слов-маркеров для определения поля с улицей\n",
    "purpose_street = ['улица', 'переулок', 'проезд', 'бульвар', 'проспект', 'шоссе', 'площадь', 'квартал', 'микрорайон']"
   ]
  },
  {
   "cell_type": "code",
   "execution_count": 29,
   "metadata": {
    "scrolled": true
   },
   "outputs": [
    {
     "data": {
      "text/html": [
       "<div>\n",
       "<style scoped>\n",
       "    .dataframe tbody tr th:only-of-type {\n",
       "        vertical-align: middle;\n",
       "    }\n",
       "\n",
       "    .dataframe tbody tr th {\n",
       "        vertical-align: top;\n",
       "    }\n",
       "\n",
       "    .dataframe thead th {\n",
       "        text-align: right;\n",
       "    }\n",
       "</style>\n",
       "<table border=\"1\" class=\"dataframe\">\n",
       "  <thead>\n",
       "    <tr style=\"text-align: right;\">\n",
       "      <th></th>\n",
       "      <th>id</th>\n",
       "      <th>object_name</th>\n",
       "      <th>chain</th>\n",
       "      <th>object_type</th>\n",
       "      <th>address</th>\n",
       "      <th>number</th>\n",
       "      <th>chain_b</th>\n",
       "      <th>address_street</th>\n",
       "    </tr>\n",
       "  </thead>\n",
       "  <tbody>\n",
       "    <tr>\n",
       "      <td>0</td>\n",
       "      <td>151635</td>\n",
       "      <td>СМЕТАНА</td>\n",
       "      <td>нет</td>\n",
       "      <td>кафе</td>\n",
       "      <td>город Москва, улица Егора Абакумова, дом 9</td>\n",
       "      <td>48</td>\n",
       "      <td>False</td>\n",
       "      <td>улица егора абакумова</td>\n",
       "    </tr>\n",
       "    <tr>\n",
       "      <td>1</td>\n",
       "      <td>77874</td>\n",
       "      <td>Родник</td>\n",
       "      <td>нет</td>\n",
       "      <td>кафе</td>\n",
       "      <td>город Москва, улица Талалихина, дом 2/1, корпус 1</td>\n",
       "      <td>35</td>\n",
       "      <td>False</td>\n",
       "      <td>улица талалихина</td>\n",
       "    </tr>\n",
       "    <tr>\n",
       "      <td>2</td>\n",
       "      <td>24309</td>\n",
       "      <td>Кафе «Академия»</td>\n",
       "      <td>нет</td>\n",
       "      <td>кафе</td>\n",
       "      <td>город Москва, Абельмановская улица, дом 6</td>\n",
       "      <td>95</td>\n",
       "      <td>False</td>\n",
       "      <td>абельмановская улица</td>\n",
       "    </tr>\n",
       "    <tr>\n",
       "      <td>3</td>\n",
       "      <td>21894</td>\n",
       "      <td>ПИЦЦЕТОРИЯ</td>\n",
       "      <td>да</td>\n",
       "      <td>кафе</td>\n",
       "      <td>город Москва, Абрамцевская улица, дом 1</td>\n",
       "      <td>40</td>\n",
       "      <td>True</td>\n",
       "      <td>абрамцевская улица</td>\n",
       "    </tr>\n",
       "    <tr>\n",
       "      <td>4</td>\n",
       "      <td>119365</td>\n",
       "      <td>Кафе «Вишневая метель»</td>\n",
       "      <td>нет</td>\n",
       "      <td>кафе</td>\n",
       "      <td>город Москва, Абрамцевская улица, дом 9, корпус 1</td>\n",
       "      <td>50</td>\n",
       "      <td>False</td>\n",
       "      <td>абрамцевская улица</td>\n",
       "    </tr>\n",
       "  </tbody>\n",
       "</table>\n",
       "</div>"
      ],
      "text/plain": [
       "       id             object_name chain object_type  \\\n",
       "0  151635                 СМЕТАНА   нет        кафе   \n",
       "1   77874                  Родник   нет        кафе   \n",
       "2   24309         Кафе «Академия»   нет        кафе   \n",
       "3   21894              ПИЦЦЕТОРИЯ    да        кафе   \n",
       "4  119365  Кафе «Вишневая метель»   нет        кафе   \n",
       "\n",
       "                                             address  number  chain_b  \\\n",
       "0         город Москва, улица Егора Абакумова, дом 9      48    False   \n",
       "1  город Москва, улица Талалихина, дом 2/1, корпус 1      35    False   \n",
       "2          город Москва, Абельмановская улица, дом 6      95    False   \n",
       "3            город Москва, Абрамцевская улица, дом 1      40     True   \n",
       "4  город Москва, Абрамцевская улица, дом 9, корпус 1      50    False   \n",
       "\n",
       "          address_street  \n",
       "0  улица егора абакумова  \n",
       "1       улица талалихина  \n",
       "2   абельмановская улица  \n",
       "3     абрамцевская улица  \n",
       "4     абрамцевская улица  "
      ]
     },
     "execution_count": 29,
     "metadata": {},
     "output_type": "execute_result"
    }
   ],
   "source": [
    "# выделение поля улицы\n",
    "def street_extr(cell):\n",
    "    # перебор элементов поля address\n",
    "    for i in range(2):\n",
    "        # перебор маркеров улицы\n",
    "        for j in purpose_street:\n",
    "            if j in cell.split(',')[i]:\n",
    "                street = cell.split(',')[i]\n",
    "                street = street.lower()\n",
    "                street = street.strip()\n",
    "                return street    \n",
    "\n",
    "data['address_street'] = data['address'].apply(street_extr)\n",
    "data.head()                           \n"
   ]
  },
  {
   "cell_type": "code",
   "execution_count": 30,
   "metadata": {},
   "outputs": [
    {
     "data": {
      "text/html": [
       "<div>\n",
       "<style scoped>\n",
       "    .dataframe tbody tr th:only-of-type {\n",
       "        vertical-align: middle;\n",
       "    }\n",
       "\n",
       "    .dataframe tbody tr th {\n",
       "        vertical-align: top;\n",
       "    }\n",
       "\n",
       "    .dataframe thead th {\n",
       "        text-align: right;\n",
       "    }\n",
       "</style>\n",
       "<table border=\"1\" class=\"dataframe\">\n",
       "  <thead>\n",
       "    <tr style=\"text-align: right;\">\n",
       "      <th></th>\n",
       "      <th>address_street</th>\n",
       "      <th>number_object</th>\n",
       "    </tr>\n",
       "  </thead>\n",
       "  <tbody>\n",
       "    <tr>\n",
       "      <td>0</td>\n",
       "      <td>проспект мира</td>\n",
       "      <td>204</td>\n",
       "    </tr>\n",
       "    <tr>\n",
       "      <td>1</td>\n",
       "      <td>профсоюзная улица</td>\n",
       "      <td>183</td>\n",
       "    </tr>\n",
       "    <tr>\n",
       "      <td>2</td>\n",
       "      <td>ленинградский проспект</td>\n",
       "      <td>173</td>\n",
       "    </tr>\n",
       "    <tr>\n",
       "      <td>3</td>\n",
       "      <td>варшавское шоссе</td>\n",
       "      <td>162</td>\n",
       "    </tr>\n",
       "    <tr>\n",
       "      <td>4</td>\n",
       "      <td>ленинский проспект</td>\n",
       "      <td>148</td>\n",
       "    </tr>\n",
       "    <tr>\n",
       "      <td>5</td>\n",
       "      <td>проспект вернадского</td>\n",
       "      <td>132</td>\n",
       "    </tr>\n",
       "    <tr>\n",
       "      <td>6</td>\n",
       "      <td>кутузовский проспект</td>\n",
       "      <td>114</td>\n",
       "    </tr>\n",
       "    <tr>\n",
       "      <td>7</td>\n",
       "      <td>каширское шоссе</td>\n",
       "      <td>112</td>\n",
       "    </tr>\n",
       "    <tr>\n",
       "      <td>8</td>\n",
       "      <td>кировоградская улица</td>\n",
       "      <td>110</td>\n",
       "    </tr>\n",
       "    <tr>\n",
       "      <td>9</td>\n",
       "      <td>ходынский бульвар</td>\n",
       "      <td>102</td>\n",
       "    </tr>\n",
       "  </tbody>\n",
       "</table>\n",
       "</div>"
      ],
      "text/plain": [
       "           address_street  number_object\n",
       "0           проспект мира            204\n",
       "1       профсоюзная улица            183\n",
       "2  ленинградский проспект            173\n",
       "3        варшавское шоссе            162\n",
       "4      ленинский проспект            148\n",
       "5    проспект вернадского            132\n",
       "6    кутузовский проспект            114\n",
       "7         каширское шоссе            112\n",
       "8    кировоградская улица            110\n",
       "9       ходынский бульвар            102"
      ]
     },
     "execution_count": 30,
     "metadata": {},
     "output_type": "execute_result"
    }
   ],
   "source": [
    "# топ-10 улиц по количеству заведений\n",
    "data_street_10 = (data\n",
    " .groupby('address_street', as_index=False)\n",
    " .agg({'id': 'count'})\n",
    " .rename(columns={'id': 'number_object'})\n",
    " .sort_values(by='number_object', ascending=False)\n",
    ").reset_index(drop=True).head(10)\n",
    "data_street_10['address_street'] = data_street_10['address_street'].str.lower()\n",
    "data_street_10['address_street'] = data_street_10['address_street'].str.strip()\n",
    "data_street_10"
   ]
  },
  {
   "cell_type": "code",
   "execution_count": 31,
   "metadata": {},
   "outputs": [
    {
     "data": {
      "image/png": "[encoded data removed]",
      "text/plain": [
       "<Figure size 1080x432 with 1 Axes>"
      ]
     },
     "metadata": {
      "needs_background": "light"
     },
     "output_type": "display_data"
    }
   ],
   "source": [
    "f, ax = plt.subplots(figsize=(15, 6))\n",
    "ax = sns.barplot(y='address_street', x='number_object', data=data_street_10)\n",
    "ax.set_title('Топ-10 улиц по количеству заведений')\n",
    "ax.set_xlabel('Количество заведений')\n",
    "ax.set_ylabel('Улица')\n",
    "plt.show()"
   ]
  },
  {
   "cell_type": "markdown",
   "metadata": {},
   "source": [
    "Вывод: в ТОП-10 кроме улиц Москвы вошли также город Зеленоград (1 место) и поселение Сосенское."
   ]
  },
  {
   "cell_type": "markdown",
   "metadata": {},
   "source": [
    "Определим принадлежность ТОП-10 улиц Москвы к районам."
   ]
  },
  {
   "cell_type": "code",
   "execution_count": 32,
   "metadata": {},
   "outputs": [
    {
     "data": {
      "text/html": [
       "<div>\n",
       "<style scoped>\n",
       "    .dataframe tbody tr th:only-of-type {\n",
       "        vertical-align: middle;\n",
       "    }\n",
       "\n",
       "    .dataframe tbody tr th {\n",
       "        vertical-align: top;\n",
       "    }\n",
       "\n",
       "    .dataframe thead th {\n",
       "        text-align: right;\n",
       "    }\n",
       "</style>\n",
       "<table border=\"1\" class=\"dataframe\">\n",
       "  <thead>\n",
       "    <tr style=\"text-align: right;\">\n",
       "      <th></th>\n",
       "      <th>streetname</th>\n",
       "      <th>areaid</th>\n",
       "      <th>okrug</th>\n",
       "      <th>area</th>\n",
       "    </tr>\n",
       "  </thead>\n",
       "  <tbody>\n",
       "    <tr>\n",
       "      <td>0</td>\n",
       "      <td>выставочный переулок</td>\n",
       "      <td>17</td>\n",
       "      <td>ЦАО</td>\n",
       "      <td>Пресненский район</td>\n",
       "    </tr>\n",
       "    <tr>\n",
       "      <td>1</td>\n",
       "      <td>улица гашека</td>\n",
       "      <td>17</td>\n",
       "      <td>ЦАО</td>\n",
       "      <td>Пресненский район</td>\n",
       "    </tr>\n",
       "    <tr>\n",
       "      <td>2</td>\n",
       "      <td>большая никитская улица</td>\n",
       "      <td>17</td>\n",
       "      <td>ЦАО</td>\n",
       "      <td>Пресненский район</td>\n",
       "    </tr>\n",
       "    <tr>\n",
       "      <td>3</td>\n",
       "      <td>глубокий переулок</td>\n",
       "      <td>17</td>\n",
       "      <td>ЦАО</td>\n",
       "      <td>Пресненский район</td>\n",
       "    </tr>\n",
       "    <tr>\n",
       "      <td>4</td>\n",
       "      <td>большой гнездниковский переулок</td>\n",
       "      <td>17</td>\n",
       "      <td>ЦАО</td>\n",
       "      <td>Пресненский район</td>\n",
       "    </tr>\n",
       "  </tbody>\n",
       "</table>\n",
       "</div>"
      ],
      "text/plain": [
       "                        streetname  areaid okrug               area\n",
       "0             выставочный переулок      17   ЦАО  Пресненский район\n",
       "1                     улица гашека      17   ЦАО  Пресненский район\n",
       "2          большая никитская улица      17   ЦАО  Пресненский район\n",
       "3                глубокий переулок      17   ЦАО  Пресненский район\n",
       "4  большой гнездниковский переулок      17   ЦАО  Пресненский район"
      ]
     },
     "execution_count": 32,
     "metadata": {},
     "output_type": "execute_result"
    }
   ],
   "source": [
    "# загрузка данных о районах Москвы\n",
    "from io import BytesIO\n",
    "import requests\n",
    "\n",
    "spredsheet_id = '18VQikQqtZ-OeHZVLVUonDsirqo91y24_8qqH18Kqhq0'\n",
    "file_name = 'https://docs.google.com/spreadsheets/d/{}/export?format=csv'.format(spredsheet_id)\n",
    "r = requests.get(file_name)\n",
    "df_district = pd.read_csv(BytesIO(r.content))\n",
    "df_district['streetname'] = df_district['streetname'].str.lower()\n",
    "df_district['streetname'] = df_district['streetname'].str.strip()\n",
    "df_district.head()"
   ]
  },
  {
   "cell_type": "code",
   "execution_count": 33,
   "metadata": {},
   "outputs": [
    {
     "data": {
      "text/plain": [
       "array(['Алексеевский район', 'Ярославский Район', 'Район Марьина роща',\n",
       "       'Останкинский район', 'Район Ростокино', 'Район Свиблово',\n",
       "       'Мещанский район', 'Академический район', 'Район Черемушки',\n",
       "       'Район Ясенево', 'Район Коньково', 'Обручевский район',\n",
       "       'Район Теплый Стан', 'Район Аэропорт', 'Район Беговой',\n",
       "       'Хорошевский район', 'Район Сокол', 'Район Чертаново Центральное',\n",
       "       'Район Чертаново Северное', 'Район Чертаново Южное',\n",
       "       'Донской район', 'Район Нагатино-Садовники', 'Нагорный район',\n",
       "       'Район Северное Бутово', 'Район Южное Бутово',\n",
       "       'Район Проспект Вернадского', 'Район Тропарево-Никулино',\n",
       "       'Район Гагаринский', 'Ломоносовский район', 'Район Якиманка',\n",
       "       'Район Раменки', 'Район Дорогомилово', 'Район Фили-Давыдково',\n",
       "       'Район Москворечье-Сабурово', 'Район Орехово-Борисово Южное',\n",
       "       'Район Орехово-Борисово Северное'], dtype=object)"
      ]
     },
     "execution_count": 33,
     "metadata": {},
     "output_type": "execute_result"
    }
   ],
   "source": [
    "# районы Москвы где расположены топ-10 улиц\n",
    "data_street_10_area = data_street_10.merge(df_district, left_on='address_street', right_on='streetname', how='left')\n",
    "data_street_10_area_lst = data_street_10_area.query('address_street not in [\"город зеленоград\", \"поселение сосенское\"]')['area'].unique()\n",
    "data_street_10_area_lst"
   ]
  },
  {
   "cell_type": "markdown",
   "metadata": {},
   "source": [
    "Вывод: определен перечень районов Москвы с расположенными улицами ТОП-10."
   ]
  },
  {
   "cell_type": "markdown",
   "metadata": {},
   "source": [
    "Определим районы Москвы с улицами с единственным заведением общественного питания."
   ]
  },
  {
   "cell_type": "code",
   "execution_count": 34,
   "metadata": {},
   "outputs": [
    {
     "data": {
      "text/html": [
       "<div>\n",
       "<style scoped>\n",
       "    .dataframe tbody tr th:only-of-type {\n",
       "        vertical-align: middle;\n",
       "    }\n",
       "\n",
       "    .dataframe tbody tr th {\n",
       "        vertical-align: top;\n",
       "    }\n",
       "\n",
       "    .dataframe thead th {\n",
       "        text-align: right;\n",
       "    }\n",
       "</style>\n",
       "<table border=\"1\" class=\"dataframe\">\n",
       "  <thead>\n",
       "    <tr style=\"text-align: right;\">\n",
       "      <th></th>\n",
       "      <th>address_street</th>\n",
       "      <th>number_object</th>\n",
       "    </tr>\n",
       "  </thead>\n",
       "  <tbody>\n",
       "    <tr>\n",
       "      <td>1242</td>\n",
       "      <td>библиотечная улица</td>\n",
       "      <td>1</td>\n",
       "    </tr>\n",
       "    <tr>\n",
       "      <td>1243</td>\n",
       "      <td>улица ращупкина</td>\n",
       "      <td>1</td>\n",
       "    </tr>\n",
       "    <tr>\n",
       "      <td>1244</td>\n",
       "      <td>улица ремизова</td>\n",
       "      <td>1</td>\n",
       "    </tr>\n",
       "    <tr>\n",
       "      <td>1245</td>\n",
       "      <td>улица подвойского</td>\n",
       "      <td>1</td>\n",
       "    </tr>\n",
       "    <tr>\n",
       "      <td>1246</td>\n",
       "      <td>бескудниковский проезд</td>\n",
       "      <td>1</td>\n",
       "    </tr>\n",
       "    <tr>\n",
       "      <td>...</td>\n",
       "      <td>...</td>\n",
       "      <td>...</td>\n",
       "    </tr>\n",
       "    <tr>\n",
       "      <td>1742</td>\n",
       "      <td>лечебная улица</td>\n",
       "      <td>1</td>\n",
       "    </tr>\n",
       "    <tr>\n",
       "      <td>1743</td>\n",
       "      <td>линейный проезд</td>\n",
       "      <td>1</td>\n",
       "    </tr>\n",
       "    <tr>\n",
       "      <td>1744</td>\n",
       "      <td>лонгиновская улица</td>\n",
       "      <td>1</td>\n",
       "    </tr>\n",
       "    <tr>\n",
       "      <td>1745</td>\n",
       "      <td>лосевская улица</td>\n",
       "      <td>1</td>\n",
       "    </tr>\n",
       "    <tr>\n",
       "      <td>1746</td>\n",
       "      <td>яхромская улица</td>\n",
       "      <td>1</td>\n",
       "    </tr>\n",
       "  </tbody>\n",
       "</table>\n",
       "<p>505 rows × 2 columns</p>\n",
       "</div>"
      ],
      "text/plain": [
       "              address_street  number_object\n",
       "1242      библиотечная улица              1\n",
       "1243         улица ращупкина              1\n",
       "1244          улица ремизова              1\n",
       "1245       улица подвойского              1\n",
       "1246  бескудниковский проезд              1\n",
       "...                      ...            ...\n",
       "1742          лечебная улица              1\n",
       "1743         линейный проезд              1\n",
       "1744      лонгиновская улица              1\n",
       "1745         лосевская улица              1\n",
       "1746         яхромская улица              1\n",
       "\n",
       "[505 rows x 2 columns]"
      ]
     },
     "execution_count": 34,
     "metadata": {},
     "output_type": "execute_result"
    }
   ],
   "source": [
    "# улицы с одним заведением\n",
    "data_street_1 = ((data\n",
    " .groupby('address_street', as_index=False)\n",
    " .agg({'id': 'count'})\n",
    " .rename(columns={'id': 'number_object'})\n",
    " .sort_values(by='number_object', ascending=False)\n",
    ").reset_index(drop=True)).query('number_object == \"1\"')\n",
    "data_street_1['address_street'] = data_street_1['address_street'].str.lower()\n",
    "data_street_1['address_street'] = data_street_1['address_street'].str.strip()\n",
    "data_street_1"
   ]
  },
  {
   "cell_type": "code",
   "execution_count": 35,
   "metadata": {},
   "outputs": [
    {
     "data": {
      "text/html": [
       "<div>\n",
       "<style scoped>\n",
       "    .dataframe tbody tr th:only-of-type {\n",
       "        vertical-align: middle;\n",
       "    }\n",
       "\n",
       "    .dataframe tbody tr th {\n",
       "        vertical-align: top;\n",
       "    }\n",
       "\n",
       "    .dataframe thead th {\n",
       "        text-align: right;\n",
       "    }\n",
       "</style>\n",
       "<table border=\"1\" class=\"dataframe\">\n",
       "  <thead>\n",
       "    <tr style=\"text-align: right;\">\n",
       "      <th></th>\n",
       "      <th>address_street</th>\n",
       "      <th>number_object</th>\n",
       "      <th>streetname</th>\n",
       "      <th>areaid</th>\n",
       "      <th>okrug</th>\n",
       "      <th>area</th>\n",
       "    </tr>\n",
       "  </thead>\n",
       "  <tbody>\n",
       "    <tr>\n",
       "      <td>0</td>\n",
       "      <td>библиотечная улица</td>\n",
       "      <td>1</td>\n",
       "      <td>библиотечная улица</td>\n",
       "      <td>18.0</td>\n",
       "      <td>ЦАО</td>\n",
       "      <td>Таганский район</td>\n",
       "    </tr>\n",
       "    <tr>\n",
       "      <td>1</td>\n",
       "      <td>улица ращупкина</td>\n",
       "      <td>1</td>\n",
       "      <td>улица ращупкина</td>\n",
       "      <td>41.0</td>\n",
       "      <td>ЗАО</td>\n",
       "      <td>Можайский Район</td>\n",
       "    </tr>\n",
       "    <tr>\n",
       "      <td>2</td>\n",
       "      <td>улица ремизова</td>\n",
       "      <td>1</td>\n",
       "      <td>улица ремизова</td>\n",
       "      <td>127.0</td>\n",
       "      <td>ЮЗАО</td>\n",
       "      <td>Район Котловка</td>\n",
       "    </tr>\n",
       "    <tr>\n",
       "      <td>3</td>\n",
       "      <td>улица подвойского</td>\n",
       "      <td>1</td>\n",
       "      <td>улица подвойского</td>\n",
       "      <td>17.0</td>\n",
       "      <td>ЦАО</td>\n",
       "      <td>Пресненский район</td>\n",
       "    </tr>\n",
       "    <tr>\n",
       "      <td>4</td>\n",
       "      <td>бескудниковский проезд</td>\n",
       "      <td>1</td>\n",
       "      <td>бескудниковский проезд</td>\n",
       "      <td>56.0</td>\n",
       "      <td>САО</td>\n",
       "      <td>Бескудниковский Район</td>\n",
       "    </tr>\n",
       "    <tr>\n",
       "      <td>...</td>\n",
       "      <td>...</td>\n",
       "      <td>...</td>\n",
       "      <td>...</td>\n",
       "      <td>...</td>\n",
       "      <td>...</td>\n",
       "      <td>...</td>\n",
       "    </tr>\n",
       "    <tr>\n",
       "      <td>545</td>\n",
       "      <td>лечебная улица</td>\n",
       "      <td>1</td>\n",
       "      <td>лечебная улица</td>\n",
       "      <td>36.0</td>\n",
       "      <td>ВАО</td>\n",
       "      <td>Район Соколиная Гора</td>\n",
       "    </tr>\n",
       "    <tr>\n",
       "      <td>546</td>\n",
       "      <td>линейный проезд</td>\n",
       "      <td>1</td>\n",
       "      <td>линейный проезд</td>\n",
       "      <td>67.0</td>\n",
       "      <td>САО</td>\n",
       "      <td>Тимирязевский Район</td>\n",
       "    </tr>\n",
       "    <tr>\n",
       "      <td>547</td>\n",
       "      <td>лонгиновская улица</td>\n",
       "      <td>1</td>\n",
       "      <td>лонгиновская улица</td>\n",
       "      <td>114.0</td>\n",
       "      <td>ЮВАО</td>\n",
       "      <td>Район Лефортово</td>\n",
       "    </tr>\n",
       "    <tr>\n",
       "      <td>548</td>\n",
       "      <td>лосевская улица</td>\n",
       "      <td>1</td>\n",
       "      <td>лосевская улица</td>\n",
       "      <td>86.0</td>\n",
       "      <td>СВАО</td>\n",
       "      <td>Ярославский Район</td>\n",
       "    </tr>\n",
       "    <tr>\n",
       "      <td>549</td>\n",
       "      <td>яхромская улица</td>\n",
       "      <td>1</td>\n",
       "      <td>яхромская улица</td>\n",
       "      <td>60.0</td>\n",
       "      <td>САО</td>\n",
       "      <td>Дмитровский район</td>\n",
       "    </tr>\n",
       "  </tbody>\n",
       "</table>\n",
       "<p>550 rows × 6 columns</p>\n",
       "</div>"
      ],
      "text/plain": [
       "             address_street  number_object              streetname  areaid  \\\n",
       "0        библиотечная улица              1      библиотечная улица    18.0   \n",
       "1           улица ращупкина              1         улица ращупкина    41.0   \n",
       "2            улица ремизова              1          улица ремизова   127.0   \n",
       "3         улица подвойского              1       улица подвойского    17.0   \n",
       "4    бескудниковский проезд              1  бескудниковский проезд    56.0   \n",
       "..                      ...            ...                     ...     ...   \n",
       "545          лечебная улица              1          лечебная улица    36.0   \n",
       "546         линейный проезд              1         линейный проезд    67.0   \n",
       "547      лонгиновская улица              1      лонгиновская улица   114.0   \n",
       "548         лосевская улица              1         лосевская улица    86.0   \n",
       "549         яхромская улица              1         яхромская улица    60.0   \n",
       "\n",
       "    okrug                   area  \n",
       "0     ЦАО        Таганский район  \n",
       "1     ЗАО        Можайский Район  \n",
       "2    ЮЗАО         Район Котловка  \n",
       "3     ЦАО      Пресненский район  \n",
       "4     САО  Бескудниковский Район  \n",
       "..    ...                    ...  \n",
       "545   ВАО   Район Соколиная Гора  \n",
       "546   САО    Тимирязевский Район  \n",
       "547  ЮВАО        Район Лефортово  \n",
       "548  СВАО      Ярославский Район  \n",
       "549   САО      Дмитровский район  \n",
       "\n",
       "[550 rows x 6 columns]"
      ]
     },
     "execution_count": 35,
     "metadata": {},
     "output_type": "execute_result"
    }
   ],
   "source": [
    "# дополниние таблицы с улицами одного заведения полем с районами Москвы\n",
    "data_street_1_area = data_street_1.merge(df_district, left_on='address_street', right_on='streetname', how='left')\n",
    "data_street_1_area"
   ]
  },
  {
   "cell_type": "code",
   "execution_count": 36,
   "metadata": {},
   "outputs": [
    {
     "data": {
      "text/html": [
       "<div>\n",
       "<style scoped>\n",
       "    .dataframe tbody tr th:only-of-type {\n",
       "        vertical-align: middle;\n",
       "    }\n",
       "\n",
       "    .dataframe tbody tr th {\n",
       "        vertical-align: top;\n",
       "    }\n",
       "\n",
       "    .dataframe thead th {\n",
       "        text-align: right;\n",
       "    }\n",
       "</style>\n",
       "<table border=\"1\" class=\"dataframe\">\n",
       "  <thead>\n",
       "    <tr style=\"text-align: right;\">\n",
       "      <th></th>\n",
       "      <th>address_street</th>\n",
       "      <th>number_object</th>\n",
       "      <th>streetname</th>\n",
       "      <th>areaid</th>\n",
       "      <th>okrug</th>\n",
       "      <th>area</th>\n",
       "    </tr>\n",
       "  </thead>\n",
       "  <tbody>\n",
       "    <tr>\n",
       "      <td>0</td>\n",
       "      <td>библиотечная улица</td>\n",
       "      <td>1</td>\n",
       "      <td>библиотечная улица</td>\n",
       "      <td>18.0</td>\n",
       "      <td>ЦАО</td>\n",
       "      <td>Таганский район</td>\n",
       "    </tr>\n",
       "    <tr>\n",
       "      <td>1</td>\n",
       "      <td>улица ращупкина</td>\n",
       "      <td>1</td>\n",
       "      <td>улица ращупкина</td>\n",
       "      <td>41.0</td>\n",
       "      <td>ЗАО</td>\n",
       "      <td>Можайский Район</td>\n",
       "    </tr>\n",
       "    <tr>\n",
       "      <td>2</td>\n",
       "      <td>улица ремизова</td>\n",
       "      <td>1</td>\n",
       "      <td>улица ремизова</td>\n",
       "      <td>127.0</td>\n",
       "      <td>ЮЗАО</td>\n",
       "      <td>Район Котловка</td>\n",
       "    </tr>\n",
       "    <tr>\n",
       "      <td>3</td>\n",
       "      <td>улица подвойского</td>\n",
       "      <td>1</td>\n",
       "      <td>улица подвойского</td>\n",
       "      <td>17.0</td>\n",
       "      <td>ЦАО</td>\n",
       "      <td>Пресненский район</td>\n",
       "    </tr>\n",
       "    <tr>\n",
       "      <td>4</td>\n",
       "      <td>бескудниковский проезд</td>\n",
       "      <td>1</td>\n",
       "      <td>бескудниковский проезд</td>\n",
       "      <td>56.0</td>\n",
       "      <td>САО</td>\n",
       "      <td>Бескудниковский Район</td>\n",
       "    </tr>\n",
       "    <tr>\n",
       "      <td>...</td>\n",
       "      <td>...</td>\n",
       "      <td>...</td>\n",
       "      <td>...</td>\n",
       "      <td>...</td>\n",
       "      <td>...</td>\n",
       "      <td>...</td>\n",
       "    </tr>\n",
       "    <tr>\n",
       "      <td>545</td>\n",
       "      <td>лечебная улица</td>\n",
       "      <td>1</td>\n",
       "      <td>лечебная улица</td>\n",
       "      <td>36.0</td>\n",
       "      <td>ВАО</td>\n",
       "      <td>Район Соколиная Гора</td>\n",
       "    </tr>\n",
       "    <tr>\n",
       "      <td>546</td>\n",
       "      <td>линейный проезд</td>\n",
       "      <td>1</td>\n",
       "      <td>линейный проезд</td>\n",
       "      <td>67.0</td>\n",
       "      <td>САО</td>\n",
       "      <td>Тимирязевский Район</td>\n",
       "    </tr>\n",
       "    <tr>\n",
       "      <td>547</td>\n",
       "      <td>лонгиновская улица</td>\n",
       "      <td>1</td>\n",
       "      <td>лонгиновская улица</td>\n",
       "      <td>114.0</td>\n",
       "      <td>ЮВАО</td>\n",
       "      <td>Район Лефортово</td>\n",
       "    </tr>\n",
       "    <tr>\n",
       "      <td>548</td>\n",
       "      <td>лосевская улица</td>\n",
       "      <td>1</td>\n",
       "      <td>лосевская улица</td>\n",
       "      <td>86.0</td>\n",
       "      <td>СВАО</td>\n",
       "      <td>Ярославский Район</td>\n",
       "    </tr>\n",
       "    <tr>\n",
       "      <td>549</td>\n",
       "      <td>яхромская улица</td>\n",
       "      <td>1</td>\n",
       "      <td>яхромская улица</td>\n",
       "      <td>60.0</td>\n",
       "      <td>САО</td>\n",
       "      <td>Дмитровский район</td>\n",
       "    </tr>\n",
       "  </tbody>\n",
       "</table>\n",
       "<p>538 rows × 6 columns</p>\n",
       "</div>"
      ],
      "text/plain": [
       "             address_street  number_object              streetname  areaid  \\\n",
       "0        библиотечная улица              1      библиотечная улица    18.0   \n",
       "1           улица ращупкина              1         улица ращупкина    41.0   \n",
       "2            улица ремизова              1          улица ремизова   127.0   \n",
       "3         улица подвойского              1       улица подвойского    17.0   \n",
       "4    бескудниковский проезд              1  бескудниковский проезд    56.0   \n",
       "..                      ...            ...                     ...     ...   \n",
       "545          лечебная улица              1          лечебная улица    36.0   \n",
       "546         линейный проезд              1         линейный проезд    67.0   \n",
       "547      лонгиновская улица              1      лонгиновская улица   114.0   \n",
       "548         лосевская улица              1         лосевская улица    86.0   \n",
       "549         яхромская улица              1         яхромская улица    60.0   \n",
       "\n",
       "    okrug                   area  \n",
       "0     ЦАО        Таганский район  \n",
       "1     ЗАО        Можайский Район  \n",
       "2    ЮЗАО         Район Котловка  \n",
       "3     ЦАО      Пресненский район  \n",
       "4     САО  Бескудниковский Район  \n",
       "..    ...                    ...  \n",
       "545   ВАО   Район Соколиная Гора  \n",
       "546   САО    Тимирязевский Район  \n",
       "547  ЮВАО        Район Лефортово  \n",
       "548  СВАО      Ярославский Район  \n",
       "549   САО      Дмитровский район  \n",
       "\n",
       "[538 rows x 6 columns]"
      ]
     },
     "execution_count": 36,
     "metadata": {},
     "output_type": "execute_result"
    }
   ],
   "source": [
    "# удаление неполных данных\n",
    "data_street_1_area.dropna(subset=['area'], inplace=True)\n",
    "data_street_1_area"
   ]
  },
  {
   "cell_type": "code",
   "execution_count": 37,
   "metadata": {},
   "outputs": [
    {
     "data": {
      "text/plain": [
       "array(['Таганский район', 'Можайский Район', 'Район Котловка',\n",
       "       'Пресненский район', 'Бескудниковский Район',\n",
       "       'Нижегородский район', 'Басманный район', 'Район Замоскворечье',\n",
       "       'Район Якиманка', 'Район Богородское', 'Мещанский район',\n",
       "       'Район Арбат', 'Район Фили-Давыдково', 'Район Южное Бутово',\n",
       "       'Район Внуково', 'Район Южное Тушино', 'Тверской район',\n",
       "       'Район Соколиная Гора', 'Район Хамовники', 'Район Раменки',\n",
       "       'Район Лефортово', 'Район Хорошево-Мневники', 'Район Ростокино',\n",
       "       'Красносельский район', 'Район Текстильщики', 'Алексеевский район',\n",
       "       'Район Дорогомилово', 'Район Очаково-Матвеевское', 'Район Люблино',\n",
       "       'Район Сокольники', 'Район Марьина роща', 'Район Аэропорт',\n",
       "       'Район Сокол', 'Хорошевский район', 'Бабушкинский район',\n",
       "       'Тимирязевский Район', 'Ярославский Район', 'Район Отрадное',\n",
       "       'Нагорный район', 'Лосиноостровский район', 'Дмитровский район',\n",
       "       'Район Метрогородок', 'Рязанский район', 'Район Беговой',\n",
       "       'Район Свиблово', 'Район Ясенево', 'Район Митино',\n",
       "       'Район Северное Измайлово', 'Район Зюзино', 'Район Щукино',\n",
       "       'Даниловский район', 'Район Печатники', 'Район Солнцево',\n",
       "       'Донской район', 'Район Выхино-Жулебино', 'Савеловский район',\n",
       "       'Район Измайлово', 'Район Преображенское', 'Район Перово',\n",
       "       'Район Филевский Парк', 'Бутырский район',\n",
       "       'Район Восточное Измайлово', 'Останкинский район',\n",
       "       'Район Чертаново Южное', 'Район Гольяново',\n",
       "       'Район Северное Бутово', 'Район Коптево', 'Район Новогиреево',\n",
       "       'Войковский Район', 'Район Кузьминки', 'Район Южное Медведково',\n",
       "       'Район Северное Медведково', 'Южнопортовый Район',\n",
       "       'Район Ново-Переделкино', 'Район Покровское-Стрешнево',\n",
       "       'Головинский район', 'Район Царицыно', 'Район Кунцево',\n",
       "       'Район Косино-Ухтомский', 'Район Восточный',\n",
       "       'Район Бирюлево Восточное', 'Район Коньково', 'Район Черемушки',\n",
       "       'Район Марфино', 'Район Гагаринский', 'Район Строгино',\n",
       "       'Обручевский район', 'Алтуфьевский район',\n",
       "       'Район Западное Дегунино', 'Район Левобережный',\n",
       "       'Молжаниновский район', 'Район Крюково', 'Район Марьино',\n",
       "       'Район Чертаново Северное', 'Район Ивановское',\n",
       "       'Район Москворечье-Сабурово', 'Район Лианозово',\n",
       "       'Район Нагатино-Садовники', 'Район Куркино'], dtype=object)"
      ]
     },
     "execution_count": 37,
     "metadata": {},
     "output_type": "execute_result"
    }
   ],
   "source": [
    "# перечень районо Москвы с улицами с одним заведением\n",
    "data_street_1_area['area'].unique()"
   ]
  },
  {
   "cell_type": "markdown",
   "metadata": {},
   "source": [
    "Вывод: определен перечень районов Москвы включающие улицы с одним заведением общественног питания."
   ]
  },
  {
   "cell_type": "code",
   "execution_count": 38,
   "metadata": {},
   "outputs": [
    {
     "data": {
      "image/png": "[encoded data removed]",
      "text/plain": [
       "<Figure size 1080x432 with 1 Axes>"
      ]
     },
     "metadata": {
      "needs_background": "light"
     },
     "output_type": "display_data"
    }
   ],
   "source": [
    "# распределение заведений в зависимости от количества посадочных мест и улицы\n",
    "data_top10_number = data_street_10.merge(data, left_on='address_street', right_on='address_street', how='left')\n",
    "\n",
    "f, ax = plt.subplots(figsize=(15, 6))\n",
    "ax = sns.scatterplot(y='address_street', x='number', hue='object_type', data=data_top10_number)\n",
    "ax.set_title('Количество мест в заведениях улиц ТОП-10')\n",
    "ax.set_xlabel('количество мест')\n",
    "ax.set_ylabel('улица')\n",
    "ax.legend(title=\"вид заведения\")\n",
    "ax.set_xlim([0, 800])\n",
    "plt.show()"
   ]
  },
  {
   "cell_type": "markdown",
   "metadata": {},
   "source": [
    "Выводы: на улицах ТОП-10 наибольшее количество объектов с небольшим количеством посадочных мест до 50 - 100. "
   ]
  },
  {
   "cell_type": "markdown",
   "metadata": {},
   "source": [
    "<a id='id_3'></a>\n",
    "## Выводы и рекомендации"
   ]
  },
  {
   "cell_type": "markdown",
   "metadata": {},
   "source": [
    "__Предобработка данных:__\n",
    "\n",
    "Предобработка данных показала, что в данных о заказах нет пропусков, форматы данных корректны. Удалены 86 полных дубликатов. Выявлены неявные дубликаты в наименовании сетевых объектов общественного питания.\n",
    "\n",
    "__Анализ данных:__\n",
    "\n",
    "Анализ данных показал, что представлены данные по городу Москве, городу Зеленоград и поселению Сосенское.\n",
    "\n",
    "Реузультаты анализа рынка общественного питания:\n",
    "\n",
    "- рынок объектов общественного питания составляет 15 тыс. ед., из них наибольшая доля приходится на кафе - 40%;\n",
    "- наибольшая доля рынка приходится на несетевые объекты - 81%, на сетевые объекты общественного питания приходится 19% рынка;\n",
    "- наибольшая доля рынка сетевых объектов приходится на кафе - 47% и предприятия быстрого питания - 27%, что охватывает 3/4 рынка сетевых объектов, однако сетевое распространение наиболее характерно для предприяти быстрого питания;\n",
    "- в сетевых заведениях в среднем 40 мест, первый квартиль 17 мест, третий квартиль 80 мест;\n",
    "-  масштабируются обычно сети с небольшим количеством мест - до 80, т.о. для сетевых заведений характерно большое количество объектов с небольшим количеством мест;\n",
    "- наибольшее количество посадочных мест у ресторанов, столовых и буфетов: среднее количество посадочных мест в столовых - 130, в ресторанах - 97, в буфетах - 51;\n",
    "- определены ТОП-10 улиц с наибольшим количеством заведений, к ним также отнесены город Зеленоград (1 место) и поселение Сосенское;\n",
    "- определены районы Москвы с улицами из ТОП-10;\n",
    "- определены районы Москвы с улицами с единственным заведением общественного питания;\n",
    "- на улицах ТОП-10 наибольшее количество объектов с небольшим количеством посадочных мест до 50 - 100.\n",
    "\n",
    "__Рекомендации:__\n",
    "\n",
    "1. Учитывая высокую конкурентность заведений общественного питания в Москве, для принятия решения об открытии нового кафе рекомендуется определить ключевые конкурентные преимущества и стратегию конкурирования.\n",
    "2. Выделим три возможные стратегии конкурирования - жесткое конкурирование в ключевых района, умеренное конкурирование в неключевых района и избегание конкурирования в районах без конкуренции. Учитывая возможные конкурентные преимущества в виде снижения расходов на оплату труда официантов, сокращение времени обслуживания, снижение ошибок обслуживания и отмену чаевых - предлагается обратить внимание на стратегию с жесткой конкуренцией - размещение заведения по списку районов ТОП-10.\n",
    "3. Для использования конкурентных преимуществ рекомендуется обратить внимание на вид заведения кафе, имеющий потенциал к масштабированию и работающий в сегменте небольшого количества посадочных мест - до 80. Нижняя граница количества посадочных мест будет определена экономикой проекта.\n",
    "4. При успешном пилотном проекте возможно дальнейшее масштабирование в соответствии с выбранной стратегией."
   ]
  }
 ],
 "metadata": {
  "ExecuteTimeLog": [
   {
    "duration": 1004,
    "start_time": "2022-02-16T15:07:11.568Z"
   },
   {
    "duration": 94,
    "start_time": "2022-02-16T15:08:49.575Z"
   },
   {
    "duration": 2640,
    "start_time": "2022-02-16T15:10:42.929Z"
   },
   {
    "duration": 52,
    "start_time": "2022-02-16T15:10:57.193Z"
   },
   {
    "duration": 113,
    "start_time": "2022-02-16T15:15:07.908Z"
   },
   {
    "duration": 127,
    "start_time": "2022-02-16T15:17:28.433Z"
   },
   {
    "duration": 337,
    "start_time": "2022-02-19T12:34:45.209Z"
   },
   {
    "duration": 296,
    "start_time": "2022-02-19T12:35:09.641Z"
   },
   {
    "duration": 290,
    "start_time": "2022-02-19T12:35:35.357Z"
   },
   {
    "duration": 1604,
    "start_time": "2022-02-19T12:36:05.149Z"
   },
   {
    "duration": 71,
    "start_time": "2022-02-19T12:36:06.756Z"
   },
   {
    "duration": 19,
    "start_time": "2022-02-19T12:36:06.831Z"
   },
   {
    "duration": 7951,
    "start_time": "2022-02-19T12:36:28.640Z"
   },
   {
    "duration": 365,
    "start_time": "2022-02-19T12:36:57.331Z"
   },
   {
    "duration": 14,
    "start_time": "2022-02-19T12:37:16.050Z"
   },
   {
    "duration": 12,
    "start_time": "2022-02-19T12:37:31.738Z"
   },
   {
    "duration": 16,
    "start_time": "2022-02-19T12:38:07.963Z"
   },
   {
    "duration": 14,
    "start_time": "2022-02-19T12:39:08.436Z"
   },
   {
    "duration": 20,
    "start_time": "2022-02-19T12:42:10.417Z"
   },
   {
    "duration": 13,
    "start_time": "2022-02-19T12:42:30.746Z"
   },
   {
    "duration": 13,
    "start_time": "2022-02-19T12:42:45.833Z"
   },
   {
    "duration": 16,
    "start_time": "2022-02-19T12:42:48.595Z"
   },
   {
    "duration": 8,
    "start_time": "2022-02-19T12:43:24.634Z"
   },
   {
    "duration": 8,
    "start_time": "2022-02-19T12:43:37.754Z"
   },
   {
    "duration": 26,
    "start_time": "2022-02-19T12:48:26.227Z"
   },
   {
    "duration": 26,
    "start_time": "2022-02-19T12:49:29.697Z"
   },
   {
    "duration": 29,
    "start_time": "2022-02-19T12:49:50.050Z"
   },
   {
    "duration": 54,
    "start_time": "2022-02-19T12:50:10.178Z"
   },
   {
    "duration": 327,
    "start_time": "2022-02-19T12:50:45.797Z"
   },
   {
    "duration": 38,
    "start_time": "2022-02-19T12:50:52.094Z"
   },
   {
    "duration": 34,
    "start_time": "2022-02-19T12:52:15.718Z"
   },
   {
    "duration": 335,
    "start_time": "2022-02-19T12:52:52.510Z"
   },
   {
    "duration": 34,
    "start_time": "2022-02-19T12:53:00.582Z"
   },
   {
    "duration": 38,
    "start_time": "2022-02-19T12:54:59.330Z"
   },
   {
    "duration": 10,
    "start_time": "2022-02-19T12:56:26.578Z"
   },
   {
    "duration": 20,
    "start_time": "2022-02-19T12:56:37.027Z"
   },
   {
    "duration": 22,
    "start_time": "2022-02-19T12:57:06.011Z"
   },
   {
    "duration": 135,
    "start_time": "2022-02-19T12:58:52.066Z"
   },
   {
    "duration": 15,
    "start_time": "2022-02-19T12:59:04.654Z"
   },
   {
    "duration": 22,
    "start_time": "2022-02-19T13:00:09.689Z"
   },
   {
    "duration": 549,
    "start_time": "2022-02-19T13:00:24.153Z"
   },
   {
    "duration": 35,
    "start_time": "2022-02-19T13:01:02.665Z"
   },
   {
    "duration": 308,
    "start_time": "2022-02-19T13:01:59.306Z"
   },
   {
    "duration": 13,
    "start_time": "2022-02-19T13:02:40.522Z"
   },
   {
    "duration": 305,
    "start_time": "2022-02-19T13:02:54.626Z"
   },
   {
    "duration": 13,
    "start_time": "2022-02-19T13:03:19.195Z"
   },
   {
    "duration": 319,
    "start_time": "2022-02-19T13:03:57.028Z"
   },
   {
    "duration": 374,
    "start_time": "2022-02-19T13:05:17.151Z"
   },
   {
    "duration": 18,
    "start_time": "2022-02-19T13:05:28.192Z"
   },
   {
    "duration": 458,
    "start_time": "2022-02-19T13:05:41.286Z"
   },
   {
    "duration": 111,
    "start_time": "2022-02-19T13:06:06.559Z"
   },
   {
    "duration": 317,
    "start_time": "2022-02-19T13:06:18.255Z"
   },
   {
    "duration": 128,
    "start_time": "2022-02-19T13:06:44.712Z"
   },
   {
    "duration": 24,
    "start_time": "2022-02-19T13:06:57.167Z"
   },
   {
    "duration": 23,
    "start_time": "2022-02-19T13:07:18.101Z"
   },
   {
    "duration": 334,
    "start_time": "2022-02-19T13:08:03.886Z"
   },
   {
    "duration": 10,
    "start_time": "2022-02-19T13:08:32.419Z"
   },
   {
    "duration": 97,
    "start_time": "2022-02-19T13:08:47.834Z"
   },
   {
    "duration": 15,
    "start_time": "2022-02-19T13:09:02.786Z"
   },
   {
    "duration": 18,
    "start_time": "2022-02-19T13:09:29.171Z"
   },
   {
    "duration": 23,
    "start_time": "2022-02-19T13:10:10.255Z"
   },
   {
    "duration": 12,
    "start_time": "2022-02-19T13:10:21.316Z"
   },
   {
    "duration": 13,
    "start_time": "2022-02-19T13:10:50.430Z"
   },
   {
    "duration": 12,
    "start_time": "2022-02-19T13:11:05.829Z"
   },
   {
    "duration": 23,
    "start_time": "2022-02-19T13:18:53.407Z"
   },
   {
    "duration": 34,
    "start_time": "2022-02-19T13:19:11.103Z"
   },
   {
    "duration": 21,
    "start_time": "2022-02-19T13:19:32.051Z"
   },
   {
    "duration": 29,
    "start_time": "2022-02-19T13:19:40.368Z"
   },
   {
    "duration": 50,
    "start_time": "2022-02-19T13:21:51.404Z"
   },
   {
    "duration": 39,
    "start_time": "2022-02-19T13:22:40.784Z"
   },
   {
    "duration": 386,
    "start_time": "2022-02-19T13:27:44.498Z"
   },
   {
    "duration": 449,
    "start_time": "2022-02-19T13:28:44.196Z"
   },
   {
    "duration": 21,
    "start_time": "2022-02-19T13:28:51.115Z"
   },
   {
    "duration": 141,
    "start_time": "2022-02-19T13:29:41.637Z"
   },
   {
    "duration": 100,
    "start_time": "2022-02-19T13:29:51.493Z"
   },
   {
    "duration": 366,
    "start_time": "2022-02-19T13:30:17.311Z"
   },
   {
    "duration": 301,
    "start_time": "2022-02-19T13:31:57.688Z"
   },
   {
    "duration": 1802,
    "start_time": "2022-02-19T13:33:49.274Z"
   },
   {
    "duration": 71,
    "start_time": "2022-02-19T13:33:51.080Z"
   },
   {
    "duration": 13,
    "start_time": "2022-02-19T13:33:51.155Z"
   },
   {
    "duration": 22,
    "start_time": "2022-02-19T13:33:51.172Z"
   },
   {
    "duration": 59,
    "start_time": "2022-02-19T13:33:51.196Z"
   },
   {
    "duration": 39,
    "start_time": "2022-02-19T13:33:51.258Z"
   },
   {
    "duration": 12,
    "start_time": "2022-02-19T13:33:51.299Z"
   },
   {
    "duration": 436,
    "start_time": "2022-02-19T13:33:51.315Z"
   },
   {
    "duration": 329,
    "start_time": "2022-02-19T13:34:30.576Z"
   },
   {
    "duration": 415,
    "start_time": "2022-02-19T13:35:18.466Z"
   },
   {
    "duration": 333,
    "start_time": "2022-02-19T13:36:03.723Z"
   },
   {
    "duration": 335,
    "start_time": "2022-02-19T13:36:22.330Z"
   },
   {
    "duration": 1103,
    "start_time": "2022-02-19T13:37:06.635Z"
   },
   {
    "duration": 316,
    "start_time": "2022-02-19T13:37:14.532Z"
   },
   {
    "duration": 1113,
    "start_time": "2022-02-19T13:37:28.892Z"
   },
   {
    "duration": 1189,
    "start_time": "2022-02-19T13:41:03.150Z"
   },
   {
    "duration": 16,
    "start_time": "2022-02-19T13:41:13.217Z"
   },
   {
    "duration": 25,
    "start_time": "2022-02-19T13:41:21.865Z"
   },
   {
    "duration": 319,
    "start_time": "2022-02-19T13:44:38.565Z"
   },
   {
    "duration": 1069,
    "start_time": "2022-02-19T13:47:32.068Z"
   },
   {
    "duration": 51,
    "start_time": "2022-02-19T13:48:03.114Z"
   },
   {
    "duration": 299,
    "start_time": "2022-02-19T13:48:46.843Z"
   },
   {
    "duration": 20,
    "start_time": "2022-02-19T13:51:18.646Z"
   },
   {
    "duration": 21,
    "start_time": "2022-02-19T13:51:28.142Z"
   },
   {
    "duration": 393,
    "start_time": "2022-02-19T13:51:31.733Z"
   },
   {
    "duration": 27,
    "start_time": "2022-02-19T13:52:48.104Z"
   },
   {
    "duration": 5403,
    "start_time": "2022-02-19T13:57:55.294Z"
   },
   {
    "duration": 11,
    "start_time": "2022-02-19T13:58:18.463Z"
   },
   {
    "duration": 71,
    "start_time": "2022-02-19T13:58:21.256Z"
   },
   {
    "duration": 13,
    "start_time": "2022-02-19T13:58:21.703Z"
   },
   {
    "duration": 17,
    "start_time": "2022-02-19T13:58:22.246Z"
   },
   {
    "duration": 27,
    "start_time": "2022-02-19T13:58:22.750Z"
   },
   {
    "duration": 37,
    "start_time": "2022-02-19T13:58:23.550Z"
   },
   {
    "duration": 43,
    "start_time": "2022-02-19T13:58:24.304Z"
   },
   {
    "duration": 405,
    "start_time": "2022-02-19T13:58:25.238Z"
   },
   {
    "duration": 34,
    "start_time": "2022-02-19T14:00:10.612Z"
   },
   {
    "duration": 3737,
    "start_time": "2022-02-19T14:00:22.251Z"
   },
   {
    "duration": 1446,
    "start_time": "2022-02-19T14:00:25.991Z"
   },
   {
    "duration": 67,
    "start_time": "2022-02-19T14:00:27.440Z"
   },
   {
    "duration": 12,
    "start_time": "2022-02-19T14:00:27.510Z"
   },
   {
    "duration": 39,
    "start_time": "2022-02-19T14:00:27.525Z"
   },
   {
    "duration": 26,
    "start_time": "2022-02-19T14:00:27.566Z"
   },
   {
    "duration": 61,
    "start_time": "2022-02-19T14:00:27.595Z"
   },
   {
    "duration": 21,
    "start_time": "2022-02-19T14:00:27.659Z"
   },
   {
    "duration": 388,
    "start_time": "2022-02-19T14:00:27.683Z"
   },
   {
    "duration": 378,
    "start_time": "2022-02-19T14:04:25.994Z"
   },
   {
    "duration": 552,
    "start_time": "2022-02-19T14:06:46.957Z"
   },
   {
    "duration": 411,
    "start_time": "2022-02-19T14:08:21.552Z"
   },
   {
    "duration": 400,
    "start_time": "2022-02-19T14:08:41.120Z"
   },
   {
    "duration": 24,
    "start_time": "2022-02-19T14:12:40.174Z"
   },
   {
    "duration": 11,
    "start_time": "2022-02-19T14:13:08.633Z"
   },
   {
    "duration": 8,
    "start_time": "2022-02-19T14:13:24.894Z"
   },
   {
    "duration": 11,
    "start_time": "2022-02-19T14:13:31.110Z"
   },
   {
    "duration": 12,
    "start_time": "2022-02-19T14:14:09.624Z"
   },
   {
    "duration": 8,
    "start_time": "2022-02-19T14:14:25.648Z"
   },
   {
    "duration": 23,
    "start_time": "2022-02-19T14:14:30.500Z"
   },
   {
    "duration": 20,
    "start_time": "2022-02-19T14:15:23.314Z"
   },
   {
    "duration": 13,
    "start_time": "2022-02-19T14:17:03.708Z"
   },
   {
    "duration": 8,
    "start_time": "2022-02-19T14:17:13.011Z"
   },
   {
    "duration": 108,
    "start_time": "2022-02-19T14:17:23.123Z"
   },
   {
    "duration": 10,
    "start_time": "2022-02-19T14:17:28.956Z"
   },
   {
    "duration": 12,
    "start_time": "2022-02-19T14:17:41.899Z"
   },
   {
    "duration": 10,
    "start_time": "2022-02-19T14:19:42.502Z"
   },
   {
    "duration": 9,
    "start_time": "2022-02-19T14:21:25.728Z"
   },
   {
    "duration": 9,
    "start_time": "2022-02-19T14:21:49.721Z"
   },
   {
    "duration": 11,
    "start_time": "2022-02-19T14:22:27.114Z"
   },
   {
    "duration": 10,
    "start_time": "2022-02-19T14:23:18.956Z"
   },
   {
    "duration": 414,
    "start_time": "2022-02-19T14:23:47.459Z"
   },
   {
    "duration": 9,
    "start_time": "2022-02-19T14:23:57.788Z"
   },
   {
    "duration": 9,
    "start_time": "2022-02-19T14:24:33.004Z"
   },
   {
    "duration": 10,
    "start_time": "2022-02-19T14:25:12.661Z"
   },
   {
    "duration": 300,
    "start_time": "2022-02-19T14:26:07.351Z"
   },
   {
    "duration": 310,
    "start_time": "2022-02-19T14:26:29.839Z"
   },
   {
    "duration": 609,
    "start_time": "2022-02-19T14:26:44.188Z"
   },
   {
    "duration": 486,
    "start_time": "2022-02-19T14:28:17.537Z"
   },
   {
    "duration": 142,
    "start_time": "2022-02-19T14:29:29.669Z"
   },
   {
    "duration": 491,
    "start_time": "2022-02-19T14:29:47.692Z"
   },
   {
    "duration": 465,
    "start_time": "2022-02-19T14:30:09.884Z"
   },
   {
    "duration": 306,
    "start_time": "2022-02-19T14:30:46.644Z"
   },
   {
    "duration": 323,
    "start_time": "2022-02-19T14:30:57.645Z"
   },
   {
    "duration": 308,
    "start_time": "2022-02-19T14:31:06.917Z"
   },
   {
    "duration": 461,
    "start_time": "2022-02-19T14:31:14.221Z"
   },
   {
    "duration": 359,
    "start_time": "2022-02-19T14:31:18.926Z"
   },
   {
    "duration": 10,
    "start_time": "2022-02-19T14:31:42.086Z"
   },
   {
    "duration": 407,
    "start_time": "2022-02-19T14:31:57.094Z"
   },
   {
    "duration": 9,
    "start_time": "2022-02-19T14:32:00.596Z"
   },
   {
    "duration": 289,
    "start_time": "2022-02-19T14:32:40.087Z"
   },
   {
    "duration": 9,
    "start_time": "2022-02-19T14:33:05.472Z"
   },
   {
    "duration": 10,
    "start_time": "2022-02-19T14:33:24.039Z"
   },
   {
    "duration": 10,
    "start_time": "2022-02-19T14:33:34.680Z"
   },
   {
    "duration": 10,
    "start_time": "2022-02-19T14:33:48.618Z"
   },
   {
    "duration": 11,
    "start_time": "2022-02-19T14:33:59.610Z"
   },
   {
    "duration": 11,
    "start_time": "2022-02-19T14:34:20.449Z"
   },
   {
    "duration": 175,
    "start_time": "2022-02-19T14:36:38.212Z"
   },
   {
    "duration": 124,
    "start_time": "2022-02-19T14:36:52.180Z"
   },
   {
    "duration": 106,
    "start_time": "2022-02-19T14:36:57.684Z"
   },
   {
    "duration": 14,
    "start_time": "2022-02-19T14:37:08.613Z"
   },
   {
    "duration": 11,
    "start_time": "2022-02-19T14:37:14.276Z"
   },
   {
    "duration": 24,
    "start_time": "2022-02-19T14:49:35.805Z"
   },
   {
    "duration": 8,
    "start_time": "2022-02-19T14:50:16.687Z"
   },
   {
    "duration": 7,
    "start_time": "2022-02-19T14:50:44.887Z"
   },
   {
    "duration": 5,
    "start_time": "2022-02-19T14:50:52.559Z"
   },
   {
    "duration": 22,
    "start_time": "2022-02-19T14:51:01.302Z"
   },
   {
    "duration": 8,
    "start_time": "2022-02-19T14:51:40.187Z"
   },
   {
    "duration": 7,
    "start_time": "2022-02-19T14:52:17.802Z"
   },
   {
    "duration": 7,
    "start_time": "2022-02-19T14:52:34.889Z"
   },
   {
    "duration": 139,
    "start_time": "2022-02-19T14:53:16.554Z"
   },
   {
    "duration": 102,
    "start_time": "2022-02-19T14:53:28.449Z"
   },
   {
    "duration": 111,
    "start_time": "2022-02-19T14:54:01.804Z"
   },
   {
    "duration": 179,
    "start_time": "2022-02-19T14:54:16.699Z"
   },
   {
    "duration": 7,
    "start_time": "2022-02-19T14:54:40.867Z"
   },
   {
    "duration": 7,
    "start_time": "2022-02-19T14:55:05.052Z"
   },
   {
    "duration": 15,
    "start_time": "2022-02-19T14:55:17.072Z"
   },
   {
    "duration": 306,
    "start_time": "2022-02-19T14:58:48.040Z"
   },
   {
    "duration": 363,
    "start_time": "2022-02-19T14:59:10.595Z"
   },
   {
    "duration": 14,
    "start_time": "2022-02-19T14:59:30.794Z"
   },
   {
    "duration": 20,
    "start_time": "2022-02-19T15:00:54.631Z"
   },
   {
    "duration": 17,
    "start_time": "2022-02-19T15:01:27.733Z"
   },
   {
    "duration": 20,
    "start_time": "2022-02-19T15:01:45.108Z"
   },
   {
    "duration": 411,
    "start_time": "2022-02-19T15:01:45.580Z"
   },
   {
    "duration": 25,
    "start_time": "2022-02-19T15:03:35.247Z"
   },
   {
    "duration": 472,
    "start_time": "2022-02-19T15:05:39.666Z"
   },
   {
    "duration": 782,
    "start_time": "2022-02-19T15:06:26.595Z"
   },
   {
    "duration": 545,
    "start_time": "2022-02-19T15:06:44.333Z"
   },
   {
    "duration": 1236,
    "start_time": "2022-02-19T15:10:16.576Z"
   },
   {
    "duration": 1070,
    "start_time": "2022-02-19T15:11:32.298Z"
   },
   {
    "duration": 1072,
    "start_time": "2022-02-19T15:11:48.218Z"
   },
   {
    "duration": 1589,
    "start_time": "2022-02-19T15:12:21.499Z"
   },
   {
    "duration": 1376,
    "start_time": "2022-02-19T15:12:49.820Z"
   },
   {
    "duration": 984,
    "start_time": "2022-02-19T15:13:06.196Z"
   },
   {
    "duration": 1396,
    "start_time": "2022-02-19T15:13:14.659Z"
   },
   {
    "duration": 1252,
    "start_time": "2022-02-19T15:13:28.396Z"
   },
   {
    "duration": 1399,
    "start_time": "2022-02-19T15:13:39.693Z"
   },
   {
    "duration": 1383,
    "start_time": "2022-02-19T15:14:19.510Z"
   },
   {
    "duration": 1059,
    "start_time": "2022-02-19T15:14:29.989Z"
   },
   {
    "duration": 1140,
    "start_time": "2022-02-19T15:15:03.631Z"
   },
   {
    "duration": 1143,
    "start_time": "2022-02-19T15:15:58.964Z"
   },
   {
    "duration": 19,
    "start_time": "2022-02-19T15:19:49.501Z"
   },
   {
    "duration": 331,
    "start_time": "2022-02-19T15:22:33.425Z"
   },
   {
    "duration": 15,
    "start_time": "2022-02-19T15:22:58.584Z"
   },
   {
    "duration": 16,
    "start_time": "2022-02-19T15:24:14.174Z"
   },
   {
    "duration": 109,
    "start_time": "2022-02-19T15:26:24.781Z"
   },
   {
    "duration": 905,
    "start_time": "2022-02-19T15:32:28.094Z"
   },
   {
    "duration": 1260,
    "start_time": "2022-02-19T15:32:47.622Z"
   },
   {
    "duration": 304,
    "start_time": "2022-02-19T15:33:51.983Z"
   },
   {
    "duration": 1368,
    "start_time": "2022-02-19T15:34:10.639Z"
   },
   {
    "duration": 917,
    "start_time": "2022-02-19T15:34:16.295Z"
   },
   {
    "duration": 723,
    "start_time": "2022-02-19T15:35:41.467Z"
   },
   {
    "duration": 356,
    "start_time": "2022-02-19T15:36:15.826Z"
   },
   {
    "duration": 1078,
    "start_time": "2022-02-19T15:36:53.779Z"
   },
   {
    "duration": 22,
    "start_time": "2022-02-19T15:43:24.172Z"
   },
   {
    "duration": 1154,
    "start_time": "2022-02-19T15:46:58.424Z"
   },
   {
    "duration": 10,
    "start_time": "2022-02-19T15:47:09.886Z"
   },
   {
    "duration": 1394,
    "start_time": "2022-02-19T15:47:11.336Z"
   },
   {
    "duration": 16,
    "start_time": "2022-02-19T15:47:48.045Z"
   },
   {
    "duration": 19,
    "start_time": "2022-02-19T15:48:29.578Z"
   },
   {
    "duration": 320,
    "start_time": "2022-02-19T15:49:00.516Z"
   },
   {
    "duration": 26,
    "start_time": "2022-02-19T15:49:15.667Z"
   },
   {
    "duration": 25,
    "start_time": "2022-02-19T15:49:46.828Z"
   },
   {
    "duration": 1019,
    "start_time": "2022-02-19T15:49:48.934Z"
   },
   {
    "duration": 1213,
    "start_time": "2022-02-19T15:50:57.206Z"
   },
   {
    "duration": 1025,
    "start_time": "2022-02-19T15:51:08.446Z"
   },
   {
    "duration": 19,
    "start_time": "2022-02-19T15:54:56.115Z"
   },
   {
    "duration": 9,
    "start_time": "2022-02-19T15:55:42.470Z"
   },
   {
    "duration": 861,
    "start_time": "2022-02-19T15:55:50.627Z"
   },
   {
    "duration": 870,
    "start_time": "2022-02-19T15:56:27.117Z"
   },
   {
    "duration": 1149,
    "start_time": "2022-02-19T15:56:51.422Z"
   },
   {
    "duration": 946,
    "start_time": "2022-02-19T15:57:47.702Z"
   },
   {
    "duration": 9,
    "start_time": "2022-02-19T15:59:41.745Z"
   },
   {
    "duration": 1109,
    "start_time": "2022-02-19T15:59:53.996Z"
   },
   {
    "duration": 321,
    "start_time": "2022-02-19T16:03:33.509Z"
   },
   {
    "duration": 376,
    "start_time": "2022-02-19T16:03:42.509Z"
   },
   {
    "duration": 1358,
    "start_time": "2022-02-19T16:04:20.175Z"
   },
   {
    "duration": 1391,
    "start_time": "2022-02-19T16:04:43.327Z"
   },
   {
    "duration": 1085,
    "start_time": "2022-02-19T16:05:53.529Z"
   },
   {
    "duration": 1346,
    "start_time": "2022-02-19T16:06:16.738Z"
   },
   {
    "duration": 1068,
    "start_time": "2022-02-19T16:09:08.325Z"
   },
   {
    "duration": 1146,
    "start_time": "2022-02-19T16:10:32.318Z"
   },
   {
    "duration": 1079,
    "start_time": "2022-02-19T16:10:39.831Z"
   },
   {
    "duration": 1133,
    "start_time": "2022-02-19T16:10:48.777Z"
   },
   {
    "duration": 1150,
    "start_time": "2022-02-19T16:10:56.482Z"
   },
   {
    "duration": 1127,
    "start_time": "2022-02-19T16:11:01.888Z"
   },
   {
    "duration": 1133,
    "start_time": "2022-02-19T16:11:22.791Z"
   },
   {
    "duration": 1156,
    "start_time": "2022-02-19T16:11:40.880Z"
   },
   {
    "duration": 1081,
    "start_time": "2022-02-19T16:11:50.439Z"
   },
   {
    "duration": 793,
    "start_time": "2022-02-19T16:12:05.576Z"
   },
   {
    "duration": 1208,
    "start_time": "2022-02-19T16:12:15.968Z"
   },
   {
    "duration": 1102,
    "start_time": "2022-02-19T16:12:31.494Z"
   },
   {
    "duration": 1329,
    "start_time": "2022-02-19T16:14:47.140Z"
   },
   {
    "duration": 1057,
    "start_time": "2022-02-19T16:16:54.343Z"
   },
   {
    "duration": 1162,
    "start_time": "2022-02-19T16:17:08.776Z"
   },
   {
    "duration": 1191,
    "start_time": "2022-02-19T16:18:16.576Z"
   },
   {
    "duration": 1389,
    "start_time": "2022-02-19T16:18:28.421Z"
   },
   {
    "duration": 1227,
    "start_time": "2022-02-19T16:18:52.361Z"
   },
   {
    "duration": 1231,
    "start_time": "2022-02-19T16:19:18.153Z"
   },
   {
    "duration": 1059,
    "start_time": "2022-02-19T16:20:25.795Z"
   },
   {
    "duration": 936,
    "start_time": "2022-02-19T16:20:55.901Z"
   },
   {
    "duration": 859,
    "start_time": "2022-02-19T16:21:54.920Z"
   },
   {
    "duration": 1146,
    "start_time": "2022-02-19T16:22:05.558Z"
   },
   {
    "duration": 1060,
    "start_time": "2022-02-19T16:23:45.367Z"
   },
   {
    "duration": 882,
    "start_time": "2022-02-19T16:24:02.492Z"
   },
   {
    "duration": 1239,
    "start_time": "2022-02-19T16:24:37.436Z"
   },
   {
    "duration": 1316,
    "start_time": "2022-02-19T16:24:48.262Z"
   },
   {
    "duration": 1207,
    "start_time": "2022-02-19T16:24:59.857Z"
   },
   {
    "duration": 10,
    "start_time": "2022-02-19T16:33:01.117Z"
   },
   {
    "duration": 11,
    "start_time": "2022-02-19T16:33:23.460Z"
   },
   {
    "duration": 317,
    "start_time": "2022-02-19T16:34:24.109Z"
   },
   {
    "duration": 3513,
    "start_time": "2022-02-19T16:34:39.204Z"
   },
   {
    "duration": 1967,
    "start_time": "2022-02-19T16:34:42.721Z"
   },
   {
    "duration": 98,
    "start_time": "2022-02-19T16:34:44.692Z"
   },
   {
    "duration": 19,
    "start_time": "2022-02-19T16:34:44.793Z"
   },
   {
    "duration": 38,
    "start_time": "2022-02-19T16:34:44.815Z"
   },
   {
    "duration": 28,
    "start_time": "2022-02-19T16:34:44.856Z"
   },
   {
    "duration": 65,
    "start_time": "2022-02-19T16:34:44.887Z"
   },
   {
    "duration": 18,
    "start_time": "2022-02-19T16:34:44.958Z"
   },
   {
    "duration": 1062,
    "start_time": "2022-02-19T16:34:44.981Z"
   },
   {
    "duration": 6,
    "start_time": "2022-02-19T16:34:46.049Z"
   },
   {
    "duration": 11,
    "start_time": "2022-02-19T16:34:46.058Z"
   },
   {
    "duration": 19,
    "start_time": "2022-02-19T16:34:46.072Z"
   },
   {
    "duration": 444,
    "start_time": "2022-02-19T16:34:46.094Z"
   },
   {
    "duration": 15,
    "start_time": "2022-02-19T16:34:46.548Z"
   },
   {
    "duration": 22,
    "start_time": "2022-02-19T16:34:46.566Z"
   },
   {
    "duration": 14,
    "start_time": "2022-02-19T16:34:46.591Z"
   },
   {
    "duration": 482,
    "start_time": "2022-02-19T16:34:46.607Z"
   },
   {
    "duration": -1070,
    "start_time": "2022-02-19T16:34:48.162Z"
   },
   {
    "duration": -1091,
    "start_time": "2022-02-19T16:34:48.185Z"
   },
   {
    "duration": -1114,
    "start_time": "2022-02-19T16:34:48.210Z"
   },
   {
    "duration": -1133,
    "start_time": "2022-02-19T16:34:48.230Z"
   },
   {
    "duration": -1147,
    "start_time": "2022-02-19T16:34:48.246Z"
   },
   {
    "duration": -1171,
    "start_time": "2022-02-19T16:34:48.271Z"
   },
   {
    "duration": -1222,
    "start_time": "2022-02-19T16:34:48.324Z"
   },
   {
    "duration": -1248,
    "start_time": "2022-02-19T16:34:48.352Z"
   },
   {
    "duration": 21,
    "start_time": "2022-02-19T16:35:11.629Z"
   },
   {
    "duration": 29,
    "start_time": "2022-02-19T16:38:02.790Z"
   },
   {
    "duration": 26,
    "start_time": "2022-02-19T16:38:32.013Z"
   },
   {
    "duration": 822,
    "start_time": "2022-02-19T16:43:36.919Z"
   },
   {
    "duration": 1104,
    "start_time": "2022-02-19T16:44:17.713Z"
   },
   {
    "duration": 919,
    "start_time": "2022-02-19T16:44:29.860Z"
   },
   {
    "duration": 817,
    "start_time": "2022-02-19T16:44:53.241Z"
   },
   {
    "duration": 886,
    "start_time": "2022-02-19T16:45:15.808Z"
   },
   {
    "duration": 1025,
    "start_time": "2022-02-19T16:45:30.673Z"
   },
   {
    "duration": 1135,
    "start_time": "2022-02-19T16:45:49.721Z"
   },
   {
    "duration": 11,
    "start_time": "2022-02-19T16:54:14.060Z"
   },
   {
    "duration": 10,
    "start_time": "2022-02-19T16:54:29.964Z"
   },
   {
    "duration": 10,
    "start_time": "2022-02-19T16:55:46.331Z"
   },
   {
    "duration": 844,
    "start_time": "2022-02-19T16:56:26.735Z"
   },
   {
    "duration": 296,
    "start_time": "2022-02-19T17:08:46.313Z"
   },
   {
    "duration": 50,
    "start_time": "2022-02-19T17:09:11.152Z"
   },
   {
    "duration": 47,
    "start_time": "2022-02-19T17:09:49.536Z"
   },
   {
    "duration": 47,
    "start_time": "2022-02-19T17:15:10.467Z"
   },
   {
    "duration": 3255,
    "start_time": "2022-02-19T17:15:24.934Z"
   },
   {
    "duration": 1433,
    "start_time": "2022-02-19T17:15:28.193Z"
   },
   {
    "duration": 66,
    "start_time": "2022-02-19T17:15:29.629Z"
   },
   {
    "duration": 12,
    "start_time": "2022-02-19T17:15:29.698Z"
   },
   {
    "duration": 42,
    "start_time": "2022-02-19T17:15:29.712Z"
   },
   {
    "duration": 24,
    "start_time": "2022-02-19T17:15:29.757Z"
   },
   {
    "duration": 33,
    "start_time": "2022-02-19T17:15:29.784Z"
   },
   {
    "duration": 42,
    "start_time": "2022-02-19T17:15:29.821Z"
   },
   {
    "duration": 1012,
    "start_time": "2022-02-19T17:15:29.866Z"
   },
   {
    "duration": 7,
    "start_time": "2022-02-19T17:15:30.880Z"
   },
   {
    "duration": 23,
    "start_time": "2022-02-19T17:15:30.889Z"
   },
   {
    "duration": 30,
    "start_time": "2022-02-19T17:15:30.914Z"
   },
   {
    "duration": 410,
    "start_time": "2022-02-19T17:15:30.949Z"
   },
   {
    "duration": 14,
    "start_time": "2022-02-19T17:15:31.361Z"
   },
   {
    "duration": 36,
    "start_time": "2022-02-19T17:15:31.378Z"
   },
   {
    "duration": 19,
    "start_time": "2022-02-19T17:15:31.417Z"
   },
   {
    "duration": 26,
    "start_time": "2022-02-19T17:15:31.438Z"
   },
   {
    "duration": 835,
    "start_time": "2022-02-19T17:15:31.467Z"
   },
   {
    "duration": 9,
    "start_time": "2022-02-19T17:15:32.304Z"
   },
   {
    "duration": 75,
    "start_time": "2022-02-19T17:15:32.316Z"
   },
   {
    "duration": 126,
    "start_time": "2022-02-19T17:15:32.395Z"
   },
   {
    "duration": -783,
    "start_time": "2022-02-19T17:15:33.308Z"
   },
   {
    "duration": -790,
    "start_time": "2022-02-19T17:15:33.317Z"
   },
   {
    "duration": -796,
    "start_time": "2022-02-19T17:15:33.326Z"
   },
   {
    "duration": -806,
    "start_time": "2022-02-19T17:15:33.338Z"
   },
   {
    "duration": -818,
    "start_time": "2022-02-19T17:15:33.352Z"
   },
   {
    "duration": -828,
    "start_time": "2022-02-19T17:15:33.364Z"
   },
   {
    "duration": -836,
    "start_time": "2022-02-19T17:15:33.373Z"
   },
   {
    "duration": -843,
    "start_time": "2022-02-19T17:15:33.382Z"
   },
   {
    "duration": 677,
    "start_time": "2022-02-19T17:17:31.263Z"
   },
   {
    "duration": 1124,
    "start_time": "2022-02-19T17:18:20.264Z"
   },
   {
    "duration": 38,
    "start_time": "2022-02-19T17:23:34.075Z"
   },
   {
    "duration": 16,
    "start_time": "2022-02-19T17:24:18.120Z"
   },
   {
    "duration": 25,
    "start_time": "2022-02-19T17:27:48.965Z"
   },
   {
    "duration": 9,
    "start_time": "2022-02-19T17:29:48.016Z"
   },
   {
    "duration": 432,
    "start_time": "2022-02-19T17:30:43.009Z"
   },
   {
    "duration": 8,
    "start_time": "2022-02-19T17:30:49.974Z"
   },
   {
    "duration": 288,
    "start_time": "2022-02-19T17:30:55.661Z"
   },
   {
    "duration": 325,
    "start_time": "2022-02-19T17:31:02.049Z"
   },
   {
    "duration": 289,
    "start_time": "2022-02-19T17:31:16.488Z"
   },
   {
    "duration": 284,
    "start_time": "2022-02-19T17:31:21.129Z"
   },
   {
    "duration": 751,
    "start_time": "2022-02-19T17:31:30.674Z"
   },
   {
    "duration": 328,
    "start_time": "2022-02-19T17:31:38.432Z"
   },
   {
    "duration": 690,
    "start_time": "2022-02-19T17:31:49.153Z"
   },
   {
    "duration": 315,
    "start_time": "2022-02-19T17:31:53.653Z"
   },
   {
    "duration": 315,
    "start_time": "2022-02-19T17:32:07.365Z"
   },
   {
    "duration": 354,
    "start_time": "2022-02-19T17:32:11.826Z"
   },
   {
    "duration": 9,
    "start_time": "2022-02-19T17:32:20.714Z"
   },
   {
    "duration": 297,
    "start_time": "2022-02-19T17:34:48.019Z"
   },
   {
    "duration": 10,
    "start_time": "2022-02-19T17:34:55.189Z"
   },
   {
    "duration": 7,
    "start_time": "2022-02-19T17:35:11.536Z"
   },
   {
    "duration": 9,
    "start_time": "2022-02-19T17:35:18.138Z"
   },
   {
    "duration": 8,
    "start_time": "2022-02-19T17:35:30.063Z"
   },
   {
    "duration": 290,
    "start_time": "2022-02-19T17:36:15.360Z"
   },
   {
    "duration": 322,
    "start_time": "2022-02-19T17:37:04.870Z"
   },
   {
    "duration": 305,
    "start_time": "2022-02-19T17:38:14.039Z"
   },
   {
    "duration": 303,
    "start_time": "2022-02-19T17:39:06.467Z"
   },
   {
    "duration": 30,
    "start_time": "2022-02-19T17:40:32.018Z"
   },
   {
    "duration": 14,
    "start_time": "2022-02-19T17:41:11.919Z"
   },
   {
    "duration": 12,
    "start_time": "2022-02-19T17:41:59.303Z"
   },
   {
    "duration": 3548,
    "start_time": "2022-02-19T17:42:17.741Z"
   },
   {
    "duration": 1432,
    "start_time": "2022-02-19T17:42:21.292Z"
   },
   {
    "duration": 71,
    "start_time": "2022-02-19T17:42:22.727Z"
   },
   {
    "duration": 15,
    "start_time": "2022-02-19T17:42:22.802Z"
   },
   {
    "duration": 41,
    "start_time": "2022-02-19T17:42:22.819Z"
   },
   {
    "duration": 20,
    "start_time": "2022-02-19T17:42:22.863Z"
   },
   {
    "duration": 24,
    "start_time": "2022-02-19T17:42:22.885Z"
   },
   {
    "duration": 64,
    "start_time": "2022-02-19T17:42:22.914Z"
   },
   {
    "duration": 20,
    "start_time": "2022-02-19T17:42:22.982Z"
   },
   {
    "duration": 1021,
    "start_time": "2022-02-19T17:42:23.004Z"
   },
   {
    "duration": 6,
    "start_time": "2022-02-19T17:42:24.028Z"
   },
   {
    "duration": 6,
    "start_time": "2022-02-19T17:42:24.048Z"
   },
   {
    "duration": 20,
    "start_time": "2022-02-19T17:42:24.057Z"
   },
   {
    "duration": 425,
    "start_time": "2022-02-19T17:42:24.079Z"
   },
   {
    "duration": 14,
    "start_time": "2022-02-19T17:42:24.507Z"
   },
   {
    "duration": 33,
    "start_time": "2022-02-19T17:42:24.523Z"
   },
   {
    "duration": 13,
    "start_time": "2022-02-19T17:42:24.558Z"
   },
   {
    "duration": 25,
    "start_time": "2022-02-19T17:42:24.574Z"
   },
   {
    "duration": 813,
    "start_time": "2022-02-19T17:42:24.601Z"
   },
   {
    "duration": 10,
    "start_time": "2022-02-19T17:42:25.417Z"
   },
   {
    "duration": 64,
    "start_time": "2022-02-19T17:42:25.429Z"
   },
   {
    "duration": 1183,
    "start_time": "2022-02-19T17:42:25.496Z"
   },
   {
    "duration": 9,
    "start_time": "2022-02-19T17:42:26.683Z"
   },
   {
    "duration": 674,
    "start_time": "2022-02-19T17:42:26.695Z"
   },
   {
    "duration": 907,
    "start_time": "2022-02-19T17:42:27.372Z"
   },
   {
    "duration": 1152,
    "start_time": "2022-02-19T17:42:28.281Z"
   },
   {
    "duration": 1212,
    "start_time": "2022-02-19T17:42:29.436Z"
   },
   {
    "duration": 19,
    "start_time": "2022-02-19T17:42:30.650Z"
   },
   {
    "duration": 981,
    "start_time": "2022-02-19T17:42:30.671Z"
   },
   {
    "duration": 100,
    "start_time": "2022-02-19T17:42:31.654Z"
   },
   {
    "duration": 26,
    "start_time": "2022-02-19T17:43:04.533Z"
   },
   {
    "duration": 13,
    "start_time": "2022-02-19T17:43:28.426Z"
   },
   {
    "duration": 13,
    "start_time": "2022-02-19T17:43:39.929Z"
   },
   {
    "duration": 17,
    "start_time": "2022-02-19T17:43:50.746Z"
   },
   {
    "duration": 27,
    "start_time": "2022-02-19T17:44:08.506Z"
   },
   {
    "duration": 446,
    "start_time": "2022-02-19T17:45:32.020Z"
   },
   {
    "duration": 19,
    "start_time": "2022-02-19T17:49:23.239Z"
   },
   {
    "duration": 7,
    "start_time": "2022-02-19T17:49:54.348Z"
   },
   {
    "duration": 20,
    "start_time": "2022-02-19T17:50:02.685Z"
   },
   {
    "duration": 3693,
    "start_time": "2022-02-20T04:15:44.299Z"
   },
   {
    "duration": 1262,
    "start_time": "2022-02-20T04:15:47.995Z"
   },
   {
    "duration": 61,
    "start_time": "2022-02-20T04:15:49.259Z"
   },
   {
    "duration": 11,
    "start_time": "2022-02-20T04:15:49.322Z"
   },
   {
    "duration": 31,
    "start_time": "2022-02-20T04:15:49.335Z"
   },
   {
    "duration": 33,
    "start_time": "2022-02-20T04:15:49.368Z"
   },
   {
    "duration": 30,
    "start_time": "2022-02-20T04:15:49.402Z"
   },
   {
    "duration": 14,
    "start_time": "2022-02-20T04:15:49.434Z"
   },
   {
    "duration": 708,
    "start_time": "2022-02-20T04:15:49.450Z"
   },
   {
    "duration": 5,
    "start_time": "2022-02-20T04:15:50.160Z"
   },
   {
    "duration": 40,
    "start_time": "2022-02-20T04:15:50.167Z"
   },
   {
    "duration": 21,
    "start_time": "2022-02-20T04:15:50.209Z"
   },
   {
    "duration": 275,
    "start_time": "2022-02-20T04:15:50.232Z"
   },
   {
    "duration": 11,
    "start_time": "2022-02-20T04:15:50.509Z"
   },
   {
    "duration": 14,
    "start_time": "2022-02-20T04:15:50.521Z"
   },
   {
    "duration": 11,
    "start_time": "2022-02-20T04:15:50.537Z"
   },
   {
    "duration": 353,
    "start_time": "2022-02-20T04:15:50.550Z"
   },
   {
    "duration": -1911,
    "start_time": "2022-02-20T04:15:52.816Z"
   },
   {
    "duration": -1926,
    "start_time": "2022-02-20T04:15:52.832Z"
   },
   {
    "duration": -1943,
    "start_time": "2022-02-20T04:15:52.851Z"
   },
   {
    "duration": -1954,
    "start_time": "2022-02-20T04:15:52.863Z"
   },
   {
    "duration": -1964,
    "start_time": "2022-02-20T04:15:52.875Z"
   },
   {
    "duration": -1973,
    "start_time": "2022-02-20T04:15:52.885Z"
   },
   {
    "duration": -1980,
    "start_time": "2022-02-20T04:15:52.893Z"
   },
   {
    "duration": -1986,
    "start_time": "2022-02-20T04:15:52.901Z"
   },
   {
    "duration": -1996,
    "start_time": "2022-02-20T04:15:52.912Z"
   },
   {
    "duration": -2004,
    "start_time": "2022-02-20T04:15:52.921Z"
   },
   {
    "duration": -2011,
    "start_time": "2022-02-20T04:15:52.930Z"
   },
   {
    "duration": -2019,
    "start_time": "2022-02-20T04:15:52.939Z"
   },
   {
    "duration": -2026,
    "start_time": "2022-02-20T04:15:52.947Z"
   },
   {
    "duration": 2515,
    "start_time": "2022-02-20T04:16:46.039Z"
   },
   {
    "duration": 1205,
    "start_time": "2022-02-20T04:16:48.557Z"
   },
   {
    "duration": 62,
    "start_time": "2022-02-20T04:16:49.765Z"
   },
   {
    "duration": 10,
    "start_time": "2022-02-20T04:16:49.829Z"
   },
   {
    "duration": 23,
    "start_time": "2022-02-20T04:16:49.841Z"
   },
   {
    "duration": 46,
    "start_time": "2022-02-20T04:16:49.866Z"
   },
   {
    "duration": 26,
    "start_time": "2022-02-20T04:16:49.914Z"
   },
   {
    "duration": 14,
    "start_time": "2022-02-20T04:16:49.943Z"
   },
   {
    "duration": 357,
    "start_time": "2022-02-20T04:16:49.959Z"
   },
   {
    "duration": 5,
    "start_time": "2022-02-20T04:16:50.318Z"
   },
   {
    "duration": 18,
    "start_time": "2022-02-20T04:16:50.324Z"
   },
   {
    "duration": 14,
    "start_time": "2022-02-20T04:16:50.344Z"
   },
   {
    "duration": 196,
    "start_time": "2022-02-20T04:16:50.360Z"
   },
   {
    "duration": 10,
    "start_time": "2022-02-20T04:16:50.558Z"
   },
   {
    "duration": 19,
    "start_time": "2022-02-20T04:16:50.570Z"
   },
   {
    "duration": 26,
    "start_time": "2022-02-20T04:16:50.591Z"
   },
   {
    "duration": 366,
    "start_time": "2022-02-20T04:16:50.619Z"
   },
   {
    "duration": -1427,
    "start_time": "2022-02-20T04:16:52.415Z"
   },
   {
    "duration": -1441,
    "start_time": "2022-02-20T04:16:52.430Z"
   },
   {
    "duration": -1453,
    "start_time": "2022-02-20T04:16:52.443Z"
   },
   {
    "duration": -1462,
    "start_time": "2022-02-20T04:16:52.454Z"
   },
   {
    "duration": -1478,
    "start_time": "2022-02-20T04:16:52.471Z"
   },
   {
    "duration": -1490,
    "start_time": "2022-02-20T04:16:52.484Z"
   },
   {
    "duration": -1499,
    "start_time": "2022-02-20T04:16:52.494Z"
   },
   {
    "duration": -1509,
    "start_time": "2022-02-20T04:16:52.505Z"
   },
   {
    "duration": -1517,
    "start_time": "2022-02-20T04:16:52.515Z"
   },
   {
    "duration": -1525,
    "start_time": "2022-02-20T04:16:52.524Z"
   },
   {
    "duration": -1548,
    "start_time": "2022-02-20T04:16:52.549Z"
   },
   {
    "duration": -1557,
    "start_time": "2022-02-20T04:16:52.559Z"
   },
   {
    "duration": -1567,
    "start_time": "2022-02-20T04:16:52.570Z"
   },
   {
    "duration": 2431,
    "start_time": "2022-02-20T04:17:32.902Z"
   },
   {
    "duration": 1214,
    "start_time": "2022-02-20T04:17:35.336Z"
   },
   {
    "duration": 62,
    "start_time": "2022-02-20T04:17:36.553Z"
   },
   {
    "duration": 12,
    "start_time": "2022-02-20T04:17:36.618Z"
   },
   {
    "duration": 16,
    "start_time": "2022-02-20T04:17:36.632Z"
   },
   {
    "duration": 41,
    "start_time": "2022-02-20T04:17:36.650Z"
   },
   {
    "duration": 40,
    "start_time": "2022-02-20T04:17:36.693Z"
   },
   {
    "duration": 13,
    "start_time": "2022-02-20T04:17:36.736Z"
   },
   {
    "duration": 350,
    "start_time": "2022-02-20T04:17:36.751Z"
   },
   {
    "duration": 5,
    "start_time": "2022-02-20T04:17:37.107Z"
   },
   {
    "duration": 11,
    "start_time": "2022-02-20T04:17:37.114Z"
   },
   {
    "duration": 17,
    "start_time": "2022-02-20T04:17:37.127Z"
   },
   {
    "duration": 299,
    "start_time": "2022-02-20T04:17:37.146Z"
   },
   {
    "duration": 11,
    "start_time": "2022-02-20T04:17:37.447Z"
   },
   {
    "duration": 20,
    "start_time": "2022-02-20T04:17:37.460Z"
   },
   {
    "duration": 35,
    "start_time": "2022-02-20T04:17:37.482Z"
   },
   {
    "duration": 352,
    "start_time": "2022-02-20T04:17:37.519Z"
   },
   {
    "duration": -1457,
    "start_time": "2022-02-20T04:17:39.331Z"
   },
   {
    "duration": -1464,
    "start_time": "2022-02-20T04:17:39.340Z"
   },
   {
    "duration": -1470,
    "start_time": "2022-02-20T04:17:39.348Z"
   },
   {
    "duration": -1478,
    "start_time": "2022-02-20T04:17:39.357Z"
   },
   {
    "duration": -1485,
    "start_time": "2022-02-20T04:17:39.366Z"
   },
   {
    "duration": -1492,
    "start_time": "2022-02-20T04:17:39.375Z"
   },
   {
    "duration": -1537,
    "start_time": "2022-02-20T04:17:39.421Z"
   },
   {
    "duration": -1543,
    "start_time": "2022-02-20T04:17:39.429Z"
   },
   {
    "duration": -1551,
    "start_time": "2022-02-20T04:17:39.438Z"
   },
   {
    "duration": -1558,
    "start_time": "2022-02-20T04:17:39.447Z"
   },
   {
    "duration": -1565,
    "start_time": "2022-02-20T04:17:39.456Z"
   },
   {
    "duration": -1573,
    "start_time": "2022-02-20T04:17:39.465Z"
   },
   {
    "duration": -1580,
    "start_time": "2022-02-20T04:17:39.474Z"
   },
   {
    "duration": 13,
    "start_time": "2022-02-20T04:18:24.276Z"
   },
   {
    "duration": 2420,
    "start_time": "2022-02-20T04:18:33.097Z"
   },
   {
    "duration": 1224,
    "start_time": "2022-02-20T04:18:35.520Z"
   },
   {
    "duration": 55,
    "start_time": "2022-02-20T04:18:36.747Z"
   },
   {
    "duration": 11,
    "start_time": "2022-02-20T04:18:36.808Z"
   },
   {
    "duration": 17,
    "start_time": "2022-02-20T04:18:36.821Z"
   },
   {
    "duration": 22,
    "start_time": "2022-02-20T04:18:36.840Z"
   },
   {
    "duration": 64,
    "start_time": "2022-02-20T04:18:36.864Z"
   },
   {
    "duration": 15,
    "start_time": "2022-02-20T04:18:36.932Z"
   },
   {
    "duration": 347,
    "start_time": "2022-02-20T04:18:36.950Z"
   },
   {
    "duration": 7,
    "start_time": "2022-02-20T04:18:37.308Z"
   },
   {
    "duration": 10,
    "start_time": "2022-02-20T04:18:37.317Z"
   },
   {
    "duration": 17,
    "start_time": "2022-02-20T04:18:37.329Z"
   },
   {
    "duration": 188,
    "start_time": "2022-02-20T04:18:37.348Z"
   },
   {
    "duration": 9,
    "start_time": "2022-02-20T04:18:37.538Z"
   },
   {
    "duration": 18,
    "start_time": "2022-02-20T04:18:37.550Z"
   },
   {
    "duration": 13,
    "start_time": "2022-02-20T04:18:37.570Z"
   },
   {
    "duration": 366,
    "start_time": "2022-02-20T04:18:37.585Z"
   },
   {
    "duration": -1691,
    "start_time": "2022-02-20T04:18:39.645Z"
   },
   {
    "duration": -1759,
    "start_time": "2022-02-20T04:18:39.714Z"
   },
   {
    "duration": -1790,
    "start_time": "2022-02-20T04:18:39.746Z"
   },
   {
    "duration": -1814,
    "start_time": "2022-02-20T04:18:39.771Z"
   },
   {
    "duration": -1883,
    "start_time": "2022-02-20T04:18:39.842Z"
   },
   {
    "duration": -1908,
    "start_time": "2022-02-20T04:18:39.868Z"
   },
   {
    "duration": -1932,
    "start_time": "2022-02-20T04:18:39.894Z"
   },
   {
    "duration": -1960,
    "start_time": "2022-02-20T04:18:39.923Z"
   },
   {
    "duration": -2002,
    "start_time": "2022-02-20T04:18:39.966Z"
   },
   {
    "duration": -2023,
    "start_time": "2022-02-20T04:18:39.988Z"
   },
   {
    "duration": -2059,
    "start_time": "2022-02-20T04:18:40.025Z"
   },
   {
    "duration": -2087,
    "start_time": "2022-02-20T04:18:40.055Z"
   },
   {
    "duration": -2123,
    "start_time": "2022-02-20T04:18:40.092Z"
   },
   {
    "duration": 8,
    "start_time": "2022-02-20T04:19:31.761Z"
   },
   {
    "duration": 19,
    "start_time": "2022-02-20T04:19:32.501Z"
   },
   {
    "duration": 14,
    "start_time": "2022-02-20T04:19:41.260Z"
   },
   {
    "duration": 219,
    "start_time": "2022-02-20T04:19:45.349Z"
   },
   {
    "duration": 8,
    "start_time": "2022-02-20T04:19:46.036Z"
   },
   {
    "duration": 34,
    "start_time": "2022-02-20T04:19:46.877Z"
   },
   {
    "duration": 472,
    "start_time": "2022-02-20T04:19:47.573Z"
   },
   {
    "duration": 7,
    "start_time": "2022-02-20T04:19:48.197Z"
   },
   {
    "duration": 323,
    "start_time": "2022-02-20T04:19:48.820Z"
   },
   {
    "duration": 347,
    "start_time": "2022-02-20T04:19:49.493Z"
   },
   {
    "duration": 611,
    "start_time": "2022-02-20T04:19:50.156Z"
   },
   {
    "duration": 658,
    "start_time": "2022-02-20T04:19:50.805Z"
   },
   {
    "duration": 17,
    "start_time": "2022-02-20T04:19:51.990Z"
   },
   {
    "duration": 306,
    "start_time": "2022-02-20T04:19:52.588Z"
   },
   {
    "duration": 94,
    "start_time": "2022-02-20T04:19:56.119Z"
   },
   {
    "duration": 8,
    "start_time": "2022-02-20T04:26:16.974Z"
   },
   {
    "duration": 11,
    "start_time": "2022-02-20T04:26:53.263Z"
   },
   {
    "duration": 103,
    "start_time": "2022-02-20T04:28:04.513Z"
   },
   {
    "duration": 377,
    "start_time": "2022-02-20T04:28:12.772Z"
   },
   {
    "duration": 4,
    "start_time": "2022-02-20T04:28:37.153Z"
   },
   {
    "duration": 7,
    "start_time": "2022-02-20T04:29:06.450Z"
   },
   {
    "duration": 10,
    "start_time": "2022-02-20T04:29:13.985Z"
   },
   {
    "duration": 326,
    "start_time": "2022-02-20T04:38:32.111Z"
   },
   {
    "duration": 10,
    "start_time": "2022-02-20T05:29:09.794Z"
   },
   {
    "duration": 91,
    "start_time": "2022-02-20T05:30:49.746Z"
   },
   {
    "duration": 300,
    "start_time": "2022-02-20T05:31:05.546Z"
   },
   {
    "duration": 2447,
    "start_time": "2022-02-20T05:32:22.845Z"
   },
   {
    "duration": 1256,
    "start_time": "2022-02-20T05:32:25.294Z"
   },
   {
    "duration": 61,
    "start_time": "2022-02-20T05:32:26.553Z"
   },
   {
    "duration": 10,
    "start_time": "2022-02-20T05:32:26.616Z"
   },
   {
    "duration": 15,
    "start_time": "2022-02-20T05:32:26.627Z"
   },
   {
    "duration": 20,
    "start_time": "2022-02-20T05:32:26.644Z"
   },
   {
    "duration": 59,
    "start_time": "2022-02-20T05:32:26.666Z"
   },
   {
    "duration": 15,
    "start_time": "2022-02-20T05:32:26.728Z"
   },
   {
    "duration": 353,
    "start_time": "2022-02-20T05:32:26.745Z"
   },
   {
    "duration": 6,
    "start_time": "2022-02-20T05:32:27.109Z"
   },
   {
    "duration": 12,
    "start_time": "2022-02-20T05:32:27.118Z"
   },
   {
    "duration": 17,
    "start_time": "2022-02-20T05:32:27.132Z"
   },
   {
    "duration": 207,
    "start_time": "2022-02-20T05:32:27.151Z"
   },
   {
    "duration": 9,
    "start_time": "2022-02-20T05:32:27.360Z"
   },
   {
    "duration": 17,
    "start_time": "2022-02-20T05:32:27.371Z"
   },
   {
    "duration": 13,
    "start_time": "2022-02-20T05:32:27.408Z"
   },
   {
    "duration": 19,
    "start_time": "2022-02-20T05:32:27.423Z"
   },
   {
    "duration": 10,
    "start_time": "2022-02-20T05:32:27.444Z"
   },
   {
    "duration": 362,
    "start_time": "2022-02-20T05:32:27.456Z"
   },
   {
    "duration": -1307,
    "start_time": "2022-02-20T05:32:29.128Z"
   },
   {
    "duration": -1314,
    "start_time": "2022-02-20T05:32:29.137Z"
   },
   {
    "duration": -1321,
    "start_time": "2022-02-20T05:32:29.145Z"
   },
   {
    "duration": -1327,
    "start_time": "2022-02-20T05:32:29.152Z"
   },
   {
    "duration": -1335,
    "start_time": "2022-02-20T05:32:29.161Z"
   },
   {
    "duration": -1342,
    "start_time": "2022-02-20T05:32:29.170Z"
   },
   {
    "duration": -1348,
    "start_time": "2022-02-20T05:32:29.177Z"
   },
   {
    "duration": -1356,
    "start_time": "2022-02-20T05:32:29.186Z"
   },
   {
    "duration": -1362,
    "start_time": "2022-02-20T05:32:29.193Z"
   },
   {
    "duration": -1370,
    "start_time": "2022-02-20T05:32:29.202Z"
   },
   {
    "duration": -1382,
    "start_time": "2022-02-20T05:32:29.215Z"
   },
   {
    "duration": -1390,
    "start_time": "2022-02-20T05:32:29.224Z"
   },
   {
    "duration": 19,
    "start_time": "2022-02-20T05:36:13.023Z"
   },
   {
    "duration": 9,
    "start_time": "2022-02-20T05:36:19.743Z"
   },
   {
    "duration": 9,
    "start_time": "2022-02-20T05:36:29.670Z"
   },
   {
    "duration": 292,
    "start_time": "2022-02-20T05:36:37.128Z"
   },
   {
    "duration": 367,
    "start_time": "2022-02-20T05:37:29.705Z"
   },
   {
    "duration": 14,
    "start_time": "2022-02-20T05:37:57.435Z"
   },
   {
    "duration": 319,
    "start_time": "2022-02-20T05:38:38.377Z"
   },
   {
    "duration": 9,
    "start_time": "2022-02-20T05:38:50.012Z"
   },
   {
    "duration": 35,
    "start_time": "2022-02-20T05:38:54.635Z"
   },
   {
    "duration": 473,
    "start_time": "2022-02-20T05:39:04.434Z"
   },
   {
    "duration": 8,
    "start_time": "2022-02-20T05:39:06.241Z"
   },
   {
    "duration": 349,
    "start_time": "2022-02-20T05:39:14.922Z"
   },
   {
    "duration": 347,
    "start_time": "2022-02-20T05:39:15.842Z"
   },
   {
    "duration": 659,
    "start_time": "2022-02-20T05:39:16.690Z"
   },
   {
    "duration": 652,
    "start_time": "2022-02-20T05:39:17.402Z"
   },
   {
    "duration": 17,
    "start_time": "2022-02-20T05:39:20.034Z"
   },
   {
    "duration": 305,
    "start_time": "2022-02-20T05:39:24.794Z"
   },
   {
    "duration": 512,
    "start_time": "2022-02-20T05:41:18.464Z"
   },
   {
    "duration": 483,
    "start_time": "2022-02-20T05:41:41.356Z"
   },
   {
    "duration": 23,
    "start_time": "2022-02-20T05:43:53.873Z"
   },
   {
    "duration": 25,
    "start_time": "2022-02-20T05:44:52.513Z"
   },
   {
    "duration": 9,
    "start_time": "2022-02-20T05:45:09.836Z"
   },
   {
    "duration": 17,
    "start_time": "2022-02-20T05:45:10.473Z"
   },
   {
    "duration": 217,
    "start_time": "2022-02-20T05:45:11.529Z"
   },
   {
    "duration": 7,
    "start_time": "2022-02-20T05:45:15.419Z"
   },
   {
    "duration": 41,
    "start_time": "2022-02-20T05:45:16.657Z"
   },
   {
    "duration": 464,
    "start_time": "2022-02-20T05:45:23.929Z"
   },
   {
    "duration": 534,
    "start_time": "2022-02-20T05:45:38.218Z"
   },
   {
    "duration": 485,
    "start_time": "2022-02-20T05:47:25.228Z"
   },
   {
    "duration": 374,
    "start_time": "2022-02-20T05:53:58.133Z"
   },
   {
    "duration": 420,
    "start_time": "2022-02-20T05:58:00.834Z"
   },
   {
    "duration": 477,
    "start_time": "2022-02-20T06:07:48.136Z"
   },
   {
    "duration": 37,
    "start_time": "2022-02-20T06:08:13.095Z"
   },
   {
    "duration": 417,
    "start_time": "2022-02-20T06:08:13.654Z"
   },
   {
    "duration": 482,
    "start_time": "2022-02-20T06:11:23.451Z"
   },
   {
    "duration": 96,
    "start_time": "2022-02-20T06:22:15.406Z"
   },
   {
    "duration": 102,
    "start_time": "2022-02-20T06:22:32.523Z"
   },
   {
    "duration": 8970,
    "start_time": "2022-02-20T06:23:00.898Z"
   },
   {
    "duration": 22,
    "start_time": "2022-02-20T06:23:47.067Z"
   },
   {
    "duration": 19,
    "start_time": "2022-02-20T06:27:04.469Z"
   },
   {
    "duration": 16,
    "start_time": "2022-02-20T06:27:17.327Z"
   },
   {
    "duration": 230,
    "start_time": "2022-02-20T06:27:18.078Z"
   },
   {
    "duration": 8,
    "start_time": "2022-02-20T06:27:19.032Z"
   },
   {
    "duration": 43,
    "start_time": "2022-02-20T06:27:20.966Z"
   },
   {
    "duration": 508,
    "start_time": "2022-02-20T06:27:25.439Z"
   },
   {
    "duration": 23,
    "start_time": "2022-02-20T06:30:16.134Z"
   },
   {
    "duration": 2867,
    "start_time": "2022-02-20T06:30:57.448Z"
   },
   {
    "duration": 1345,
    "start_time": "2022-02-20T06:31:00.318Z"
   },
   {
    "duration": 62,
    "start_time": "2022-02-20T06:31:01.666Z"
   },
   {
    "duration": 11,
    "start_time": "2022-02-20T06:31:01.731Z"
   },
   {
    "duration": 31,
    "start_time": "2022-02-20T06:31:01.744Z"
   },
   {
    "duration": 53,
    "start_time": "2022-02-20T06:31:01.777Z"
   },
   {
    "duration": 86,
    "start_time": "2022-02-20T06:31:01.832Z"
   },
   {
    "duration": 22,
    "start_time": "2022-02-20T06:31:01.921Z"
   },
   {
    "duration": 350,
    "start_time": "2022-02-20T06:31:01.946Z"
   },
   {
    "duration": 10,
    "start_time": "2022-02-20T06:31:02.299Z"
   },
   {
    "duration": 36,
    "start_time": "2022-02-20T06:31:02.311Z"
   },
   {
    "duration": 28,
    "start_time": "2022-02-20T06:31:02.349Z"
   },
   {
    "duration": 192,
    "start_time": "2022-02-20T06:31:02.379Z"
   },
   {
    "duration": 11,
    "start_time": "2022-02-20T06:31:02.574Z"
   },
   {
    "duration": 69,
    "start_time": "2022-02-20T06:31:02.586Z"
   },
   {
    "duration": 18,
    "start_time": "2022-02-20T06:31:02.657Z"
   },
   {
    "duration": 27,
    "start_time": "2022-02-20T06:31:02.678Z"
   },
   {
    "duration": 36,
    "start_time": "2022-02-20T06:31:02.707Z"
   },
   {
    "duration": 33,
    "start_time": "2022-02-20T06:31:02.746Z"
   },
   {
    "duration": 287,
    "start_time": "2022-02-20T06:31:02.782Z"
   },
   {
    "duration": 7,
    "start_time": "2022-02-20T06:31:03.071Z"
   },
   {
    "duration": 83,
    "start_time": "2022-02-20T06:31:03.080Z"
   },
   {
    "duration": 541,
    "start_time": "2022-02-20T06:31:03.169Z"
   },
   {
    "duration": 9,
    "start_time": "2022-02-20T06:31:03.713Z"
   },
   {
    "duration": 450,
    "start_time": "2022-02-20T06:31:03.725Z"
   },
   {
    "duration": 386,
    "start_time": "2022-02-20T06:31:04.178Z"
   },
   {
    "duration": 596,
    "start_time": "2022-02-20T06:31:04.567Z"
   },
   {
    "duration": 601,
    "start_time": "2022-02-20T06:31:05.166Z"
   },
   {
    "duration": 14,
    "start_time": "2022-02-20T06:31:05.769Z"
   },
   {
    "duration": 341,
    "start_time": "2022-02-20T06:31:05.785Z"
   },
   {
    "duration": 23,
    "start_time": "2022-02-20T06:31:06.127Z"
   },
   {
    "duration": 26,
    "start_time": "2022-02-20T06:31:06.152Z"
   },
   {
    "duration": 18,
    "start_time": "2022-02-20T06:31:18.313Z"
   },
   {
    "duration": 258,
    "start_time": "2022-02-20T06:33:02.916Z"
   },
   {
    "duration": 18,
    "start_time": "2022-02-20T06:33:19.403Z"
   },
   {
    "duration": 17,
    "start_time": "2022-02-20T06:33:56.543Z"
   },
   {
    "duration": 19,
    "start_time": "2022-02-20T06:34:40.843Z"
   },
   {
    "duration": 16,
    "start_time": "2022-02-20T06:35:29.258Z"
   },
   {
    "duration": 25,
    "start_time": "2022-02-20T06:36:20.324Z"
   },
   {
    "duration": 15,
    "start_time": "2022-02-20T06:36:33.116Z"
   },
   {
    "duration": 126,
    "start_time": "2022-02-20T06:42:39.482Z"
   },
   {
    "duration": 113,
    "start_time": "2022-02-20T06:44:46.149Z"
   },
   {
    "duration": 782,
    "start_time": "2022-02-20T06:49:35.275Z"
   },
   {
    "duration": 734,
    "start_time": "2022-02-20T06:52:10.273Z"
   },
   {
    "duration": 13,
    "start_time": "2022-02-20T06:54:09.570Z"
   },
   {
    "duration": 17,
    "start_time": "2022-02-20T06:54:25.042Z"
   },
   {
    "duration": 381,
    "start_time": "2022-02-20T06:54:36.652Z"
   },
   {
    "duration": 18,
    "start_time": "2022-02-20T06:54:55.283Z"
   },
   {
    "duration": 280,
    "start_time": "2022-02-20T06:55:05.627Z"
   },
   {
    "duration": 19,
    "start_time": "2022-02-20T06:55:22.803Z"
   },
   {
    "duration": 20,
    "start_time": "2022-02-20T06:56:04.797Z"
   },
   {
    "duration": 724,
    "start_time": "2022-02-20T06:57:07.590Z"
   },
   {
    "duration": 726,
    "start_time": "2022-02-20T06:57:28.138Z"
   },
   {
    "duration": 22,
    "start_time": "2022-02-20T07:03:55.784Z"
   },
   {
    "duration": 7442,
    "start_time": "2022-02-20T07:06:24.688Z"
   },
   {
    "duration": 27,
    "start_time": "2022-02-20T07:06:43.122Z"
   },
   {
    "duration": 366,
    "start_time": "2022-02-20T07:10:58.784Z"
   },
   {
    "duration": 29,
    "start_time": "2022-02-20T07:11:13.527Z"
   },
   {
    "duration": 267,
    "start_time": "2022-02-20T07:11:35.065Z"
   },
   {
    "duration": 32,
    "start_time": "2022-02-20T07:11:46.201Z"
   },
   {
    "duration": 17,
    "start_time": "2022-02-20T07:12:08.729Z"
   },
   {
    "duration": 14,
    "start_time": "2022-02-20T07:12:24.633Z"
   },
   {
    "duration": 266,
    "start_time": "2022-02-20T07:14:11.125Z"
   },
   {
    "duration": 276,
    "start_time": "2022-02-20T07:14:22.476Z"
   },
   {
    "duration": -1088,
    "start_time": "2022-02-20T07:14:35.748Z"
   },
   {
    "duration": 5,
    "start_time": "2022-02-20T07:14:59.308Z"
   },
   {
    "duration": 15,
    "start_time": "2022-02-20T07:16:41.127Z"
   },
   {
    "duration": 355,
    "start_time": "2022-02-20T07:17:29.752Z"
   },
   {
    "duration": 16,
    "start_time": "2022-02-20T07:17:53.413Z"
   },
   {
    "duration": 15,
    "start_time": "2022-02-20T07:18:19.539Z"
   },
   {
    "duration": 31,
    "start_time": "2022-02-20T07:18:24.720Z"
   },
   {
    "duration": 342,
    "start_time": "2022-02-20T07:18:44.166Z"
   },
   {
    "duration": 303,
    "start_time": "2022-02-20T07:18:53.880Z"
   },
   {
    "duration": 291,
    "start_time": "2022-02-20T07:19:07.974Z"
   },
   {
    "duration": 91,
    "start_time": "2022-02-20T07:19:40.361Z"
   },
   {
    "duration": 101,
    "start_time": "2022-02-20T07:19:51.672Z"
   },
   {
    "duration": 92,
    "start_time": "2022-02-20T07:20:05.397Z"
   },
   {
    "duration": 23,
    "start_time": "2022-02-20T07:20:17.797Z"
   },
   {
    "duration": 12,
    "start_time": "2022-02-20T07:20:28.734Z"
   },
   {
    "duration": 11,
    "start_time": "2022-02-20T07:21:32.752Z"
   },
   {
    "duration": 24,
    "start_time": "2022-02-20T07:21:39.801Z"
   },
   {
    "duration": 15,
    "start_time": "2022-02-20T07:22:11.761Z"
   },
   {
    "duration": 91,
    "start_time": "2022-02-20T07:24:12.652Z"
   },
   {
    "duration": 296,
    "start_time": "2022-02-20T07:24:21.118Z"
   },
   {
    "duration": 285,
    "start_time": "2022-02-20T07:24:36.786Z"
   },
   {
    "duration": 302,
    "start_time": "2022-02-20T07:25:01.087Z"
   },
   {
    "duration": 471,
    "start_time": "2022-02-20T07:25:12.734Z"
   },
   {
    "duration": 14,
    "start_time": "2022-02-20T07:28:38.942Z"
   },
   {
    "duration": 21,
    "start_time": "2022-02-20T07:28:57.110Z"
   },
   {
    "duration": 229,
    "start_time": "2022-02-20T07:29:52.592Z"
   },
   {
    "duration": 34,
    "start_time": "2022-02-20T07:30:03.029Z"
   },
   {
    "duration": 13,
    "start_time": "2022-02-20T07:30:12.993Z"
   },
   {
    "duration": 24,
    "start_time": "2022-02-20T07:30:21.831Z"
   },
   {
    "duration": 507,
    "start_time": "2022-02-20T07:32:43.112Z"
   },
   {
    "duration": 487,
    "start_time": "2022-02-20T07:33:59.131Z"
   },
   {
    "duration": 2573,
    "start_time": "2022-02-20T07:35:12.528Z"
   },
   {
    "duration": 1280,
    "start_time": "2022-02-20T07:35:15.103Z"
   },
   {
    "duration": 61,
    "start_time": "2022-02-20T07:35:16.385Z"
   },
   {
    "duration": 10,
    "start_time": "2022-02-20T07:35:16.449Z"
   },
   {
    "duration": 18,
    "start_time": "2022-02-20T07:35:16.462Z"
   },
   {
    "duration": 43,
    "start_time": "2022-02-20T07:35:16.482Z"
   },
   {
    "duration": 28,
    "start_time": "2022-02-20T07:35:16.527Z"
   },
   {
    "duration": 14,
    "start_time": "2022-02-20T07:35:16.558Z"
   },
   {
    "duration": 386,
    "start_time": "2022-02-20T07:35:16.574Z"
   },
   {
    "duration": 5,
    "start_time": "2022-02-20T07:35:16.962Z"
   },
   {
    "duration": 20,
    "start_time": "2022-02-20T07:35:16.968Z"
   },
   {
    "duration": 26,
    "start_time": "2022-02-20T07:35:16.990Z"
   },
   {
    "duration": 175,
    "start_time": "2022-02-20T07:35:17.018Z"
   },
   {
    "duration": 15,
    "start_time": "2022-02-20T07:35:17.196Z"
   },
   {
    "duration": 16,
    "start_time": "2022-02-20T07:35:17.212Z"
   },
   {
    "duration": 11,
    "start_time": "2022-02-20T07:35:17.230Z"
   },
   {
    "duration": 23,
    "start_time": "2022-02-20T07:35:17.243Z"
   },
   {
    "duration": 41,
    "start_time": "2022-02-20T07:35:17.268Z"
   },
   {
    "duration": 16,
    "start_time": "2022-02-20T07:35:17.311Z"
   },
   {
    "duration": 243,
    "start_time": "2022-02-20T07:35:17.329Z"
   },
   {
    "duration": 9,
    "start_time": "2022-02-20T07:35:17.574Z"
   },
   {
    "duration": 58,
    "start_time": "2022-02-20T07:35:17.585Z"
   },
   {
    "duration": 534,
    "start_time": "2022-02-20T07:35:17.648Z"
   },
   {
    "duration": 7,
    "start_time": "2022-02-20T07:35:18.184Z"
   },
   {
    "duration": 374,
    "start_time": "2022-02-20T07:35:18.193Z"
   },
   {
    "duration": 400,
    "start_time": "2022-02-20T07:35:18.569Z"
   },
   {
    "duration": 597,
    "start_time": "2022-02-20T07:35:18.971Z"
   },
   {
    "duration": 603,
    "start_time": "2022-02-20T07:35:19.570Z"
   },
   {
    "duration": 15,
    "start_time": "2022-02-20T07:35:20.175Z"
   },
   {
    "duration": 326,
    "start_time": "2022-02-20T07:35:20.192Z"
   },
   {
    "duration": 23,
    "start_time": "2022-02-20T07:35:20.521Z"
   },
   {
    "duration": 24,
    "start_time": "2022-02-20T07:35:20.546Z"
   },
   {
    "duration": 357,
    "start_time": "2022-02-20T07:35:20.571Z"
   },
   {
    "duration": 1018,
    "start_time": "2022-02-20T07:35:20.929Z"
   },
   {
    "duration": 7144,
    "start_time": "2022-02-20T07:35:21.949Z"
   },
   {
    "duration": 326,
    "start_time": "2022-02-20T07:35:38.191Z"
   },
   {
    "duration": 371,
    "start_time": "2022-02-20T07:36:16.048Z"
   },
   {
    "duration": 657,
    "start_time": "2022-02-20T07:36:34.474Z"
   },
   {
    "duration": 6794,
    "start_time": "2022-02-20T07:36:35.728Z"
   },
   {
    "duration": 695,
    "start_time": "2022-02-20T07:37:21.864Z"
   },
   {
    "duration": -1033,
    "start_time": "2022-02-20T07:37:34.605Z"
   },
   {
    "duration": 9092,
    "start_time": "2022-02-20T07:38:26.464Z"
   },
   {
    "duration": 2537,
    "start_time": "2022-02-20T07:38:40.175Z"
   },
   {
    "duration": 1255,
    "start_time": "2022-02-20T07:38:42.715Z"
   },
   {
    "duration": 63,
    "start_time": "2022-02-20T07:38:43.972Z"
   },
   {
    "duration": 10,
    "start_time": "2022-02-20T07:38:44.037Z"
   },
   {
    "duration": 23,
    "start_time": "2022-02-20T07:38:44.048Z"
   },
   {
    "duration": 44,
    "start_time": "2022-02-20T07:38:44.073Z"
   },
   {
    "duration": 25,
    "start_time": "2022-02-20T07:38:44.119Z"
   },
   {
    "duration": 76,
    "start_time": "2022-02-20T07:38:44.147Z"
   },
   {
    "duration": 321,
    "start_time": "2022-02-20T07:38:44.225Z"
   },
   {
    "duration": 5,
    "start_time": "2022-02-20T07:38:44.548Z"
   },
   {
    "duration": 13,
    "start_time": "2022-02-20T07:38:44.555Z"
   },
   {
    "duration": 18,
    "start_time": "2022-02-20T07:38:44.570Z"
   },
   {
    "duration": 181,
    "start_time": "2022-02-20T07:38:44.606Z"
   },
   {
    "duration": 19,
    "start_time": "2022-02-20T07:38:44.789Z"
   },
   {
    "duration": 12,
    "start_time": "2022-02-20T07:38:44.810Z"
   },
   {
    "duration": 14,
    "start_time": "2022-02-20T07:38:44.824Z"
   },
   {
    "duration": 22,
    "start_time": "2022-02-20T07:38:44.840Z"
   },
   {
    "duration": 8,
    "start_time": "2022-02-20T07:38:44.864Z"
   },
   {
    "duration": 16,
    "start_time": "2022-02-20T07:38:44.908Z"
   },
   {
    "duration": 244,
    "start_time": "2022-02-20T07:38:44.925Z"
   },
   {
    "duration": 9,
    "start_time": "2022-02-20T07:38:45.171Z"
   },
   {
    "duration": 59,
    "start_time": "2022-02-20T07:38:45.182Z"
   },
   {
    "duration": 482,
    "start_time": "2022-02-20T07:38:45.244Z"
   },
   {
    "duration": 7,
    "start_time": "2022-02-20T07:38:45.728Z"
   },
   {
    "duration": 344,
    "start_time": "2022-02-20T07:38:45.737Z"
   },
   {
    "duration": 382,
    "start_time": "2022-02-20T07:38:46.083Z"
   },
   {
    "duration": 572,
    "start_time": "2022-02-20T07:38:46.468Z"
   },
   {
    "duration": 613,
    "start_time": "2022-02-20T07:38:47.042Z"
   },
   {
    "duration": 16,
    "start_time": "2022-02-20T07:38:47.657Z"
   },
   {
    "duration": 330,
    "start_time": "2022-02-20T07:38:47.675Z"
   },
   {
    "duration": 23,
    "start_time": "2022-02-20T07:38:48.007Z"
   },
   {
    "duration": 27,
    "start_time": "2022-02-20T07:38:48.032Z"
   },
   {
    "duration": 346,
    "start_time": "2022-02-20T07:38:48.061Z"
   },
   {
    "duration": 866,
    "start_time": "2022-02-20T07:38:48.409Z"
   },
   {
    "duration": 6846,
    "start_time": "2022-02-20T07:38:49.277Z"
   },
   {
    "duration": 21,
    "start_time": "2022-02-20T07:39:48.611Z"
   },
   {
    "duration": 13,
    "start_time": "2022-02-20T07:40:09.692Z"
   },
   {
    "duration": 23,
    "start_time": "2022-02-20T07:42:17.861Z"
   },
   {
    "duration": 18,
    "start_time": "2022-02-20T07:42:43.492Z"
   },
   {
    "duration": 302,
    "start_time": "2022-02-20T07:43:40.880Z"
   },
   {
    "duration": 305,
    "start_time": "2022-02-20T07:43:49.648Z"
   },
   {
    "duration": 22,
    "start_time": "2022-02-20T07:44:22.842Z"
   },
   {
    "duration": 24,
    "start_time": "2022-02-20T07:44:40.281Z"
   },
   {
    "duration": 22,
    "start_time": "2022-02-20T07:44:58.385Z"
   },
   {
    "duration": 23,
    "start_time": "2022-02-20T07:45:14.702Z"
   },
   {
    "duration": 27,
    "start_time": "2022-02-20T07:46:31.156Z"
   },
   {
    "duration": 280,
    "start_time": "2022-02-20T09:01:51.321Z"
   },
   {
    "duration": 264,
    "start_time": "2022-02-20T09:02:56.873Z"
   },
   {
    "duration": 372,
    "start_time": "2022-02-20T09:04:09.462Z"
   },
   {
    "duration": 674,
    "start_time": "2022-02-20T09:04:18.221Z"
   },
   {
    "duration": 21,
    "start_time": "2022-02-20T09:04:34.877Z"
   },
   {
    "duration": 7,
    "start_time": "2022-02-20T09:05:48.731Z"
   },
   {
    "duration": 282,
    "start_time": "2022-02-20T09:06:47.317Z"
   },
   {
    "duration": 91,
    "start_time": "2022-02-20T09:07:25.714Z"
   },
   {
    "duration": 6,
    "start_time": "2022-02-20T09:08:48.856Z"
   },
   {
    "duration": 1243,
    "start_time": "2022-02-20T09:14:24.406Z"
   },
   {
    "duration": 28,
    "start_time": "2022-02-20T09:14:36.178Z"
   },
   {
    "duration": 359,
    "start_time": "2022-02-20T09:19:51.697Z"
   },
   {
    "duration": 23,
    "start_time": "2022-02-20T09:20:57.104Z"
   },
   {
    "duration": 318,
    "start_time": "2022-02-20T09:21:49.462Z"
   },
   {
    "duration": 21,
    "start_time": "2022-02-20T09:22:45.550Z"
   },
   {
    "duration": 1618,
    "start_time": "2022-02-20T09:23:45.047Z"
   },
   {
    "duration": 1460,
    "start_time": "2022-02-20T09:23:53.111Z"
   },
   {
    "duration": 1399,
    "start_time": "2022-02-20T09:23:59.046Z"
   },
   {
    "duration": 26,
    "start_time": "2022-02-20T09:24:14.168Z"
   },
   {
    "duration": 2557,
    "start_time": "2022-02-20T09:24:23.391Z"
   },
   {
    "duration": 1219,
    "start_time": "2022-02-20T09:24:25.951Z"
   },
   {
    "duration": 62,
    "start_time": "2022-02-20T09:24:27.172Z"
   },
   {
    "duration": 11,
    "start_time": "2022-02-20T09:24:27.236Z"
   },
   {
    "duration": 13,
    "start_time": "2022-02-20T09:24:27.249Z"
   },
   {
    "duration": 53,
    "start_time": "2022-02-20T09:24:27.264Z"
   },
   {
    "duration": 26,
    "start_time": "2022-02-20T09:24:27.319Z"
   },
   {
    "duration": 14,
    "start_time": "2022-02-20T09:24:27.348Z"
   },
   {
    "duration": 375,
    "start_time": "2022-02-20T09:24:27.365Z"
   },
   {
    "duration": 6,
    "start_time": "2022-02-20T09:24:27.743Z"
   },
   {
    "duration": 10,
    "start_time": "2022-02-20T09:24:27.751Z"
   },
   {
    "duration": 20,
    "start_time": "2022-02-20T09:24:27.763Z"
   },
   {
    "duration": 199,
    "start_time": "2022-02-20T09:24:27.785Z"
   },
   {
    "duration": 24,
    "start_time": "2022-02-20T09:24:27.986Z"
   },
   {
    "duration": 14,
    "start_time": "2022-02-20T09:24:28.012Z"
   },
   {
    "duration": 11,
    "start_time": "2022-02-20T09:24:28.028Z"
   },
   {
    "duration": 23,
    "start_time": "2022-02-20T09:24:28.041Z"
   },
   {
    "duration": 43,
    "start_time": "2022-02-20T09:24:28.066Z"
   },
   {
    "duration": 15,
    "start_time": "2022-02-20T09:24:28.111Z"
   },
   {
    "duration": 252,
    "start_time": "2022-02-20T09:24:28.129Z"
   },
   {
    "duration": 23,
    "start_time": "2022-02-20T09:24:28.384Z"
   },
   {
    "duration": 41,
    "start_time": "2022-02-20T09:24:28.409Z"
   },
   {
    "duration": 577,
    "start_time": "2022-02-20T09:24:28.454Z"
   },
   {
    "duration": 7,
    "start_time": "2022-02-20T09:24:29.033Z"
   },
   {
    "duration": 368,
    "start_time": "2022-02-20T09:24:29.042Z"
   },
   {
    "duration": 353,
    "start_time": "2022-02-20T09:24:29.412Z"
   },
   {
    "duration": 607,
    "start_time": "2022-02-20T09:24:29.768Z"
   },
   {
    "duration": 591,
    "start_time": "2022-02-20T09:24:30.378Z"
   },
   {
    "duration": 14,
    "start_time": "2022-02-20T09:24:30.971Z"
   },
   {
    "duration": 374,
    "start_time": "2022-02-20T09:24:30.987Z"
   },
   {
    "duration": 43,
    "start_time": "2022-02-20T09:24:31.364Z"
   },
   {
    "duration": 24,
    "start_time": "2022-02-20T09:24:31.410Z"
   },
   {
    "duration": 359,
    "start_time": "2022-02-20T09:24:31.437Z"
   },
   {
    "duration": 1118,
    "start_time": "2022-02-20T09:24:31.798Z"
   },
   {
    "duration": 14,
    "start_time": "2022-02-20T09:24:32.918Z"
   },
   {
    "duration": 25,
    "start_time": "2022-02-20T09:24:32.934Z"
   },
   {
    "duration": 54,
    "start_time": "2022-02-20T09:24:32.962Z"
   },
   {
    "duration": 19,
    "start_time": "2022-02-20T09:24:33.018Z"
   },
   {
    "duration": 6,
    "start_time": "2022-02-20T09:24:33.039Z"
   },
   {
    "duration": 61,
    "start_time": "2022-02-20T09:24:33.047Z"
   },
   {
    "duration": 426,
    "start_time": "2022-02-20T09:25:16.507Z"
   },
   {
    "duration": 477,
    "start_time": "2022-02-20T09:27:32.458Z"
   },
   {
    "duration": 845,
    "start_time": "2022-02-20T09:29:11.043Z"
   },
   {
    "duration": 601,
    "start_time": "2022-02-20T09:34:49.013Z"
   },
   {
    "duration": 1601,
    "start_time": "2022-02-20T09:37:47.187Z"
   },
   {
    "duration": 1410,
    "start_time": "2022-02-20T09:38:03.186Z"
   },
   {
    "duration": 673,
    "start_time": "2022-02-20T09:38:19.194Z"
   },
   {
    "duration": 632,
    "start_time": "2022-02-20T09:38:36.196Z"
   },
   {
    "duration": 584,
    "start_time": "2022-02-20T09:38:44.331Z"
   },
   {
    "duration": 165,
    "start_time": "2022-02-20T09:38:54.343Z"
   },
   {
    "duration": 740,
    "start_time": "2022-02-20T09:40:24.314Z"
   },
   {
    "duration": 606,
    "start_time": "2022-02-20T09:40:38.721Z"
   },
   {
    "duration": 672,
    "start_time": "2022-02-20T09:40:52.935Z"
   },
   {
    "duration": 635,
    "start_time": "2022-02-20T09:41:04.829Z"
   },
   {
    "duration": 485,
    "start_time": "2022-02-20T09:42:18.722Z"
   },
   {
    "duration": 559,
    "start_time": "2022-02-20T09:43:31.689Z"
   },
   {
    "duration": 635,
    "start_time": "2022-02-20T09:44:15.007Z"
   },
   {
    "duration": 554,
    "start_time": "2022-02-20T09:44:49.871Z"
   },
   {
    "duration": 428,
    "start_time": "2022-02-20T09:46:01.965Z"
   },
   {
    "duration": 475,
    "start_time": "2022-02-20T09:46:31.485Z"
   },
   {
    "duration": 228,
    "start_time": "2022-02-20T09:47:38.567Z"
   },
   {
    "duration": 238,
    "start_time": "2022-02-20T09:48:16.704Z"
   },
   {
    "duration": 143,
    "start_time": "2022-02-20T10:29:25.370Z"
   },
   {
    "duration": 1359,
    "start_time": "2022-02-20T10:40:53.518Z"
   },
   {
    "duration": 66,
    "start_time": "2022-02-20T10:40:54.879Z"
   },
   {
    "duration": 15,
    "start_time": "2022-02-20T10:40:54.948Z"
   },
   {
    "duration": 41,
    "start_time": "2022-02-20T10:40:54.966Z"
   },
   {
    "duration": 28,
    "start_time": "2022-02-20T10:40:55.009Z"
   },
   {
    "duration": 29,
    "start_time": "2022-02-20T10:40:55.039Z"
   },
   {
    "duration": 43,
    "start_time": "2022-02-20T10:40:55.070Z"
   },
   {
    "duration": 381,
    "start_time": "2022-02-20T10:40:55.117Z"
   },
   {
    "duration": 6,
    "start_time": "2022-02-20T10:40:55.508Z"
   },
   {
    "duration": 23,
    "start_time": "2022-02-20T10:40:55.517Z"
   },
   {
    "duration": 33,
    "start_time": "2022-02-20T10:40:55.542Z"
   },
   {
    "duration": 281,
    "start_time": "2022-02-20T10:40:55.577Z"
   },
   {
    "duration": 14,
    "start_time": "2022-02-20T10:40:55.860Z"
   },
   {
    "duration": 39,
    "start_time": "2022-02-20T10:40:55.877Z"
   },
   {
    "duration": 13,
    "start_time": "2022-02-20T10:40:55.918Z"
   },
   {
    "duration": 45,
    "start_time": "2022-02-20T10:40:55.933Z"
   },
   {
    "duration": 12,
    "start_time": "2022-02-20T10:40:55.980Z"
   },
   {
    "duration": 32,
    "start_time": "2022-02-20T10:40:55.994Z"
   },
   {
    "duration": 319,
    "start_time": "2022-02-20T10:40:56.029Z"
   },
   {
    "duration": 8,
    "start_time": "2022-02-20T10:40:56.350Z"
   },
   {
    "duration": 80,
    "start_time": "2022-02-20T10:40:56.360Z"
   },
   {
    "duration": 586,
    "start_time": "2022-02-20T10:40:56.443Z"
   },
   {
    "duration": 8,
    "start_time": "2022-02-20T10:40:57.042Z"
   },
   {
    "duration": 501,
    "start_time": "2022-02-20T10:40:57.053Z"
   },
   {
    "duration": 420,
    "start_time": "2022-02-20T10:40:57.556Z"
   },
   {
    "duration": 683,
    "start_time": "2022-02-20T10:40:57.978Z"
   },
   {
    "duration": 648,
    "start_time": "2022-02-20T10:40:58.663Z"
   },
   {
    "duration": 18,
    "start_time": "2022-02-20T10:40:59.314Z"
   },
   {
    "duration": 383,
    "start_time": "2022-02-20T10:40:59.334Z"
   },
   {
    "duration": 30,
    "start_time": "2022-02-20T10:40:59.719Z"
   },
   {
    "duration": 25,
    "start_time": "2022-02-20T10:40:59.751Z"
   },
   {
    "duration": 376,
    "start_time": "2022-02-20T10:40:59.808Z"
   },
   {
    "duration": 1141,
    "start_time": "2022-02-20T10:41:00.187Z"
   },
   {
    "duration": 15,
    "start_time": "2022-02-20T10:41:01.331Z"
   },
   {
    "duration": 29,
    "start_time": "2022-02-20T10:41:01.348Z"
   },
   {
    "duration": 43,
    "start_time": "2022-02-20T10:41:01.379Z"
   },
   {
    "duration": 23,
    "start_time": "2022-02-20T10:41:01.425Z"
   },
   {
    "duration": 8,
    "start_time": "2022-02-20T10:41:01.451Z"
   },
   {
    "duration": 748,
    "start_time": "2022-02-20T10:41:01.461Z"
   },
   {
    "duration": 344,
    "start_time": "2022-02-20T10:49:39.132Z"
   },
   {
    "duration": 593,
    "start_time": "2022-02-20T10:50:03.771Z"
   },
   {
    "duration": 622,
    "start_time": "2022-02-20T10:50:43.667Z"
   },
   {
    "duration": 709,
    "start_time": "2022-02-20T10:51:14.684Z"
   },
   {
    "duration": 575,
    "start_time": "2022-02-20T10:52:34.239Z"
   },
   {
    "duration": 580,
    "start_time": "2022-02-20T10:52:58.430Z"
   },
   {
    "duration": 636,
    "start_time": "2022-02-20T10:54:54.745Z"
   },
   {
    "duration": 585,
    "start_time": "2022-02-20T10:55:23.514Z"
   },
   {
    "duration": 633,
    "start_time": "2022-02-20T10:56:36.049Z"
   },
   {
    "duration": 677,
    "start_time": "2022-02-20T10:58:01.126Z"
   },
   {
    "duration": 646,
    "start_time": "2022-02-20T10:59:13.463Z"
   },
   {
    "duration": 599,
    "start_time": "2022-02-20T10:59:23.515Z"
   },
   {
    "duration": 718,
    "start_time": "2022-02-20T11:00:29.449Z"
   },
   {
    "duration": 688,
    "start_time": "2022-02-20T11:00:37.129Z"
   },
   {
    "duration": 590,
    "start_time": "2022-02-20T11:01:23.417Z"
   },
   {
    "duration": 689,
    "start_time": "2022-02-20T11:01:55.131Z"
   },
   {
    "duration": 94,
    "start_time": "2022-02-20T11:02:44.827Z"
   },
   {
    "duration": 963,
    "start_time": "2022-02-20T11:02:55.730Z"
   },
   {
    "duration": 648,
    "start_time": "2022-02-20T11:03:08.564Z"
   },
   {
    "duration": 641,
    "start_time": "2022-02-20T11:04:59.476Z"
   },
   {
    "duration": 592,
    "start_time": "2022-02-20T11:05:19.911Z"
   },
   {
    "duration": 575,
    "start_time": "2022-02-20T11:05:29.244Z"
   },
   {
    "duration": 829,
    "start_time": "2022-02-20T11:05:43.173Z"
   },
   {
    "duration": 628,
    "start_time": "2022-02-20T11:06:20.718Z"
   },
   {
    "duration": 548,
    "start_time": "2022-02-20T11:06:30.152Z"
   },
   {
    "duration": 580,
    "start_time": "2022-02-20T11:07:41.233Z"
   },
   {
    "duration": 660,
    "start_time": "2022-02-20T11:08:16.565Z"
   },
   {
    "duration": 700,
    "start_time": "2022-02-20T11:09:00.667Z"
   },
   {
    "duration": 704,
    "start_time": "2022-02-20T11:09:23.201Z"
   },
   {
    "duration": 654,
    "start_time": "2022-02-20T11:09:28.282Z"
   },
   {
    "duration": 580,
    "start_time": "2022-02-20T11:12:01.727Z"
   },
   {
    "duration": 596,
    "start_time": "2022-02-20T11:22:29.715Z"
   },
   {
    "duration": 567,
    "start_time": "2022-02-20T11:22:47.835Z"
   },
   {
    "duration": 777,
    "start_time": "2022-02-20T11:23:07.148Z"
   },
   {
    "duration": 658,
    "start_time": "2022-02-20T11:23:26.959Z"
   },
   {
    "duration": 614,
    "start_time": "2022-02-20T11:23:45.790Z"
   },
   {
    "duration": 762,
    "start_time": "2022-02-20T11:23:58.573Z"
   },
   {
    "duration": 648,
    "start_time": "2022-02-20T11:24:18.095Z"
   },
   {
    "duration": 634,
    "start_time": "2022-02-20T11:24:51.870Z"
   },
   {
    "duration": 594,
    "start_time": "2022-02-20T11:25:47.523Z"
   },
   {
    "duration": 664,
    "start_time": "2022-02-20T11:26:11.615Z"
   },
   {
    "duration": 366,
    "start_time": "2022-02-20T11:26:26.955Z"
   },
   {
    "duration": 12,
    "start_time": "2022-02-20T13:23:30.039Z"
   },
   {
    "duration": 31,
    "start_time": "2022-02-20T13:24:17.992Z"
   },
   {
    "duration": 15,
    "start_time": "2022-02-20T13:26:43.204Z"
   },
   {
    "duration": 14,
    "start_time": "2022-02-20T13:27:05.165Z"
   },
   {
    "duration": 418,
    "start_time": "2022-02-20T13:27:39.693Z"
   },
   {
    "duration": 412,
    "start_time": "2022-02-20T13:28:29.806Z"
   },
   {
    "duration": 6,
    "start_time": "2022-02-20T13:29:13.286Z"
   },
   {
    "duration": 82,
    "start_time": "2022-02-20T13:31:03.779Z"
   },
   {
    "duration": 334,
    "start_time": "2022-02-20T13:31:15.137Z"
   },
   {
    "duration": 12,
    "start_time": "2022-02-20T13:31:35.996Z"
   },
   {
    "duration": 8,
    "start_time": "2022-02-20T13:31:51.418Z"
   },
   {
    "duration": 8,
    "start_time": "2022-02-20T13:32:05.298Z"
   },
   {
    "duration": 9,
    "start_time": "2022-02-20T13:32:26.405Z"
   },
   {
    "duration": 8,
    "start_time": "2022-02-20T13:33:36.243Z"
   },
   {
    "duration": 332,
    "start_time": "2022-02-20T13:34:00.132Z"
   },
   {
    "duration": 8,
    "start_time": "2022-02-20T13:34:03.108Z"
   },
   {
    "duration": 344,
    "start_time": "2022-02-20T13:34:08.308Z"
   },
   {
    "duration": 6,
    "start_time": "2022-02-20T13:34:12.713Z"
   },
   {
    "duration": 7,
    "start_time": "2022-02-20T13:34:31.405Z"
   },
   {
    "duration": 8,
    "start_time": "2022-02-20T13:34:50.773Z"
   },
   {
    "duration": 11,
    "start_time": "2022-02-20T13:35:08.904Z"
   },
   {
    "duration": 7,
    "start_time": "2022-02-20T13:35:14.406Z"
   },
   {
    "duration": 6,
    "start_time": "2022-02-20T13:35:19.333Z"
   },
   {
    "duration": 83,
    "start_time": "2022-02-20T13:36:42.544Z"
   },
   {
    "duration": 10,
    "start_time": "2022-02-20T13:36:49.800Z"
   },
   {
    "duration": 13,
    "start_time": "2022-02-20T13:45:18.580Z"
   },
   {
    "duration": 11,
    "start_time": "2022-02-20T13:45:39.160Z"
   },
   {
    "duration": 378,
    "start_time": "2022-02-20T13:45:49.257Z"
   },
   {
    "duration": 13,
    "start_time": "2022-02-20T13:45:53.188Z"
   },
   {
    "duration": 101,
    "start_time": "2022-02-20T13:48:44.720Z"
   },
   {
    "duration": 91,
    "start_time": "2022-02-20T13:49:03.129Z"
   },
   {
    "duration": 14,
    "start_time": "2022-02-20T13:49:22.009Z"
   },
   {
    "duration": 11,
    "start_time": "2022-02-20T13:52:17.276Z"
   },
   {
    "duration": 13,
    "start_time": "2022-02-20T13:52:34.268Z"
   },
   {
    "duration": 16,
    "start_time": "2022-02-20T13:54:09.295Z"
   },
   {
    "duration": 12,
    "start_time": "2022-02-20T13:54:28.126Z"
   },
   {
    "duration": 13,
    "start_time": "2022-02-20T13:54:34.887Z"
   },
   {
    "duration": 12,
    "start_time": "2022-02-20T13:55:02.312Z"
   },
   {
    "duration": 16,
    "start_time": "2022-02-20T13:55:25.108Z"
   },
   {
    "duration": 10,
    "start_time": "2022-02-20T14:05:21.636Z"
   },
   {
    "duration": 17,
    "start_time": "2022-02-20T14:06:01.598Z"
   },
   {
    "duration": 1295,
    "start_time": "2022-02-20T14:12:07.394Z"
   },
   {
    "duration": 92,
    "start_time": "2022-02-20T14:12:08.692Z"
   },
   {
    "duration": 10,
    "start_time": "2022-02-20T14:12:08.786Z"
   },
   {
    "duration": 12,
    "start_time": "2022-02-20T14:12:08.799Z"
   },
   {
    "duration": 18,
    "start_time": "2022-02-20T14:12:08.813Z"
   },
   {
    "duration": 27,
    "start_time": "2022-02-20T14:12:08.833Z"
   },
   {
    "duration": 15,
    "start_time": "2022-02-20T14:12:08.862Z"
   },
   {
    "duration": 352,
    "start_time": "2022-02-20T14:12:08.880Z"
   },
   {
    "duration": 8,
    "start_time": "2022-02-20T14:12:09.235Z"
   },
   {
    "duration": 9,
    "start_time": "2022-02-20T14:12:09.245Z"
   },
   {
    "duration": 9,
    "start_time": "2022-02-20T14:12:09.256Z"
   },
   {
    "duration": 42,
    "start_time": "2022-02-20T14:12:09.267Z"
   },
   {
    "duration": 252,
    "start_time": "2022-02-20T14:12:09.311Z"
   },
   {
    "duration": 10,
    "start_time": "2022-02-20T14:12:09.565Z"
   },
   {
    "duration": 33,
    "start_time": "2022-02-20T14:12:09.577Z"
   },
   {
    "duration": 7,
    "start_time": "2022-02-20T14:12:09.612Z"
   },
   {
    "duration": 18,
    "start_time": "2022-02-20T14:12:09.621Z"
   },
   {
    "duration": 21,
    "start_time": "2022-02-20T14:12:09.641Z"
   },
   {
    "duration": 46,
    "start_time": "2022-02-20T14:12:09.665Z"
   },
   {
    "duration": 253,
    "start_time": "2022-02-20T14:12:09.714Z"
   },
   {
    "duration": 7,
    "start_time": "2022-02-20T14:12:09.969Z"
   },
   {
    "duration": 58,
    "start_time": "2022-02-20T14:12:09.978Z"
   },
   {
    "duration": 518,
    "start_time": "2022-02-20T14:12:10.039Z"
   },
   {
    "duration": 7,
    "start_time": "2022-02-20T14:12:10.560Z"
   },
   {
    "duration": 506,
    "start_time": "2022-02-20T14:12:10.569Z"
   },
   {
    "duration": 393,
    "start_time": "2022-02-20T14:12:11.077Z"
   },
   {
    "duration": 698,
    "start_time": "2022-02-20T14:12:11.472Z"
   },
   {
    "duration": 15,
    "start_time": "2022-02-20T14:12:12.171Z"
   },
   {
    "duration": 323,
    "start_time": "2022-02-20T14:12:12.188Z"
   },
   {
    "duration": 31,
    "start_time": "2022-02-20T14:12:12.513Z"
   },
   {
    "duration": 23,
    "start_time": "2022-02-20T14:12:12.546Z"
   },
   {
    "duration": 351,
    "start_time": "2022-02-20T14:12:12.571Z"
   },
   {
    "duration": 1336,
    "start_time": "2022-02-20T14:12:12.925Z"
   },
   {
    "duration": 12,
    "start_time": "2022-02-20T14:12:14.263Z"
   },
   {
    "duration": 62,
    "start_time": "2022-02-20T14:12:14.277Z"
   },
   {
    "duration": 20,
    "start_time": "2022-02-20T14:12:14.341Z"
   },
   {
    "duration": 23,
    "start_time": "2022-02-20T14:12:14.363Z"
   },
   {
    "duration": 8,
    "start_time": "2022-02-20T14:12:14.389Z"
   },
   {
    "duration": 627,
    "start_time": "2022-02-20T14:12:14.399Z"
   },
   {
    "duration": 38,
    "start_time": "2022-02-20T14:13:35.317Z"
   },
   {
    "duration": 512,
    "start_time": "2022-02-20T14:13:49.556Z"
   },
   {
    "duration": 6,
    "start_time": "2022-02-20T14:24:01.312Z"
   },
   {
    "duration": 623,
    "start_time": "2022-02-20T14:28:42.246Z"
   },
   {
    "duration": 587,
    "start_time": "2022-02-20T14:29:03.512Z"
   },
   {
    "duration": 668,
    "start_time": "2022-02-20T14:30:34.593Z"
   },
   {
    "duration": 523,
    "start_time": "2022-02-20T14:30:48.513Z"
   },
   {
    "duration": 447,
    "start_time": "2022-02-20T14:32:25.259Z"
   },
   {
    "duration": 11,
    "start_time": "2022-02-20T14:35:13.535Z"
   },
   {
    "duration": 15,
    "start_time": "2022-02-20T14:37:52.619Z"
   },
   {
    "duration": 437,
    "start_time": "2022-02-20T14:39:32.917Z"
   },
   {
    "duration": 17,
    "start_time": "2022-02-20T14:42:22.322Z"
   },
   {
    "duration": 30,
    "start_time": "2022-02-20T14:45:52.886Z"
   },
   {
    "duration": 109,
    "start_time": "2022-02-20T14:49:47.923Z"
   },
   {
    "duration": 20,
    "start_time": "2022-02-20T14:53:36.800Z"
   },
   {
    "duration": 624,
    "start_time": "2022-02-20T14:54:51.842Z"
   },
   {
    "duration": 675,
    "start_time": "2022-02-20T15:01:09.303Z"
   },
   {
    "duration": 811,
    "start_time": "2022-02-20T15:01:24.357Z"
   },
   {
    "duration": 690,
    "start_time": "2022-02-20T15:01:41.572Z"
   },
   {
    "duration": 704,
    "start_time": "2022-02-20T15:03:22.444Z"
   },
   {
    "duration": 745,
    "start_time": "2022-02-20T15:06:22.708Z"
   },
   {
    "duration": 680,
    "start_time": "2022-02-20T15:06:54.285Z"
   },
   {
    "duration": 1219,
    "start_time": "2022-02-20T15:51:17.130Z"
   },
   {
    "duration": 62,
    "start_time": "2022-02-20T15:51:18.351Z"
   },
   {
    "duration": 12,
    "start_time": "2022-02-20T15:51:18.416Z"
   },
   {
    "duration": 12,
    "start_time": "2022-02-20T15:51:18.430Z"
   },
   {
    "duration": 20,
    "start_time": "2022-02-20T15:51:18.444Z"
   },
   {
    "duration": 27,
    "start_time": "2022-02-20T15:51:18.507Z"
   },
   {
    "duration": 14,
    "start_time": "2022-02-20T15:51:18.536Z"
   },
   {
    "duration": 349,
    "start_time": "2022-02-20T15:51:18.551Z"
   },
   {
    "duration": 8,
    "start_time": "2022-02-20T15:51:18.903Z"
   },
   {
    "duration": 10,
    "start_time": "2022-02-20T15:51:18.914Z"
   },
   {
    "duration": 15,
    "start_time": "2022-02-20T15:51:18.926Z"
   },
   {
    "duration": 14,
    "start_time": "2022-02-20T15:51:18.944Z"
   },
   {
    "duration": 276,
    "start_time": "2022-02-20T15:51:18.960Z"
   },
   {
    "duration": 12,
    "start_time": "2022-02-20T15:51:19.238Z"
   },
   {
    "duration": 24,
    "start_time": "2022-02-20T15:51:19.251Z"
   },
   {
    "duration": 32,
    "start_time": "2022-02-20T15:51:19.277Z"
   },
   {
    "duration": 21,
    "start_time": "2022-02-20T15:51:19.311Z"
   },
   {
    "duration": 19,
    "start_time": "2022-02-20T15:51:19.334Z"
   },
   {
    "duration": 30,
    "start_time": "2022-02-20T15:51:19.355Z"
   },
   {
    "duration": 257,
    "start_time": "2022-02-20T15:51:19.386Z"
   },
   {
    "duration": 7,
    "start_time": "2022-02-20T15:51:19.646Z"
   },
   {
    "duration": 61,
    "start_time": "2022-02-20T15:51:19.655Z"
   },
   {
    "duration": 517,
    "start_time": "2022-02-20T15:51:19.718Z"
   },
   {
    "duration": 454,
    "start_time": "2022-02-20T15:51:20.237Z"
   },
   {
    "duration": 19,
    "start_time": "2022-02-20T15:51:20.693Z"
   },
   {
    "duration": 712,
    "start_time": "2022-02-20T15:51:20.714Z"
   },
   {
    "duration": -61,
    "start_time": "2022-02-20T15:51:21.490Z"
   },
   {
    "duration": -73,
    "start_time": "2022-02-20T15:51:21.504Z"
   },
   {
    "duration": -83,
    "start_time": "2022-02-20T15:51:21.515Z"
   },
   {
    "duration": -94,
    "start_time": "2022-02-20T15:51:21.527Z"
   },
   {
    "duration": -104,
    "start_time": "2022-02-20T15:51:21.539Z"
   },
   {
    "duration": -119,
    "start_time": "2022-02-20T15:51:21.555Z"
   },
   {
    "duration": -127,
    "start_time": "2022-02-20T15:51:21.564Z"
   },
   {
    "duration": -136,
    "start_time": "2022-02-20T15:51:21.574Z"
   },
   {
    "duration": -143,
    "start_time": "2022-02-20T15:51:21.582Z"
   },
   {
    "duration": -155,
    "start_time": "2022-02-20T15:51:21.595Z"
   },
   {
    "duration": 654,
    "start_time": "2022-02-20T15:52:52.871Z"
   },
   {
    "duration": 329,
    "start_time": "2022-02-20T15:53:18.406Z"
   },
   {
    "duration": 1376,
    "start_time": "2022-02-20T15:53:34.000Z"
   },
   {
    "duration": 67,
    "start_time": "2022-02-20T15:53:35.379Z"
   },
   {
    "duration": 12,
    "start_time": "2022-02-20T15:53:35.448Z"
   },
   {
    "duration": 14,
    "start_time": "2022-02-20T15:53:35.462Z"
   },
   {
    "duration": 46,
    "start_time": "2022-02-20T15:53:35.478Z"
   },
   {
    "duration": 30,
    "start_time": "2022-02-20T15:53:35.526Z"
   },
   {
    "duration": 17,
    "start_time": "2022-02-20T15:53:35.558Z"
   },
   {
    "duration": 347,
    "start_time": "2022-02-20T15:53:35.606Z"
   },
   {
    "duration": 7,
    "start_time": "2022-02-20T15:53:35.957Z"
   },
   {
    "duration": 43,
    "start_time": "2022-02-20T15:53:35.966Z"
   },
   {
    "duration": 47,
    "start_time": "2022-02-20T15:53:36.011Z"
   },
   {
    "duration": 47,
    "start_time": "2022-02-20T15:53:36.060Z"
   },
   {
    "duration": 273,
    "start_time": "2022-02-20T15:53:36.108Z"
   },
   {
    "duration": 10,
    "start_time": "2022-02-20T15:53:36.383Z"
   },
   {
    "duration": 37,
    "start_time": "2022-02-20T15:53:36.395Z"
   },
   {
    "duration": 7,
    "start_time": "2022-02-20T15:53:36.434Z"
   },
   {
    "duration": 18,
    "start_time": "2022-02-20T15:53:36.443Z"
   },
   {
    "duration": 44,
    "start_time": "2022-02-20T15:53:36.463Z"
   },
   {
    "duration": 34,
    "start_time": "2022-02-20T15:53:36.510Z"
   },
   {
    "duration": 264,
    "start_time": "2022-02-20T15:53:36.546Z"
   },
   {
    "duration": 9,
    "start_time": "2022-02-20T15:53:36.812Z"
   },
   {
    "duration": 55,
    "start_time": "2022-02-20T15:53:36.822Z"
   },
   {
    "duration": 563,
    "start_time": "2022-02-20T15:53:36.879Z"
   },
   {
    "duration": 484,
    "start_time": "2022-02-20T15:53:37.444Z"
   },
   {
    "duration": 20,
    "start_time": "2022-02-20T15:53:37.930Z"
   },
   {
    "duration": 427,
    "start_time": "2022-02-20T15:53:37.952Z"
   },
   {
    "duration": 40,
    "start_time": "2022-02-20T15:53:38.384Z"
   },
   {
    "duration": 25,
    "start_time": "2022-02-20T15:53:38.426Z"
   },
   {
    "duration": 354,
    "start_time": "2022-02-20T15:53:38.453Z"
   },
   {
    "duration": 1105,
    "start_time": "2022-02-20T15:53:38.809Z"
   },
   {
    "duration": 15,
    "start_time": "2022-02-20T15:53:39.916Z"
   },
   {
    "duration": 40,
    "start_time": "2022-02-20T15:53:39.933Z"
   },
   {
    "duration": 39,
    "start_time": "2022-02-20T15:53:39.975Z"
   },
   {
    "duration": 22,
    "start_time": "2022-02-20T15:53:40.016Z"
   },
   {
    "duration": 12,
    "start_time": "2022-02-20T15:53:40.040Z"
   },
   {
    "duration": 720,
    "start_time": "2022-02-20T15:53:40.055Z"
   },
   {
    "duration": 312,
    "start_time": "2022-02-20T16:28:37.774Z"
   },
   {
    "duration": 241,
    "start_time": "2022-02-20T16:33:36.246Z"
   },
   {
    "duration": 1232,
    "start_time": "2022-02-20T16:46:53.735Z"
   },
   {
    "duration": 62,
    "start_time": "2022-02-20T16:46:54.970Z"
   },
   {
    "duration": 12,
    "start_time": "2022-02-20T16:46:55.034Z"
   },
   {
    "duration": 21,
    "start_time": "2022-02-20T16:46:55.048Z"
   },
   {
    "duration": 44,
    "start_time": "2022-02-20T16:46:55.072Z"
   },
   {
    "duration": 27,
    "start_time": "2022-02-20T16:46:55.118Z"
   },
   {
    "duration": 14,
    "start_time": "2022-02-20T16:46:55.147Z"
   },
   {
    "duration": 448,
    "start_time": "2022-02-20T16:46:55.163Z"
   },
   {
    "duration": 7,
    "start_time": "2022-02-20T16:46:55.614Z"
   },
   {
    "duration": 9,
    "start_time": "2022-02-20T16:46:55.623Z"
   },
   {
    "duration": 8,
    "start_time": "2022-02-20T16:46:55.633Z"
   },
   {
    "duration": 12,
    "start_time": "2022-02-20T16:46:55.643Z"
   },
   {
    "duration": 278,
    "start_time": "2022-02-20T16:46:55.657Z"
   },
   {
    "duration": 11,
    "start_time": "2022-02-20T16:46:55.937Z"
   },
   {
    "duration": 22,
    "start_time": "2022-02-20T16:46:55.951Z"
   },
   {
    "duration": 38,
    "start_time": "2022-02-20T16:46:55.976Z"
   },
   {
    "duration": 13,
    "start_time": "2022-02-20T16:46:56.017Z"
   },
   {
    "duration": 22,
    "start_time": "2022-02-20T16:46:56.033Z"
   },
   {
    "duration": 69,
    "start_time": "2022-02-20T16:46:56.058Z"
   },
   {
    "duration": 255,
    "start_time": "2022-02-20T16:46:56.129Z"
   },
   {
    "duration": 8,
    "start_time": "2022-02-20T16:46:56.386Z"
   },
   {
    "duration": 51,
    "start_time": "2022-02-20T16:46:56.396Z"
   },
   {
    "duration": 577,
    "start_time": "2022-02-20T16:46:56.449Z"
   },
   {
    "duration": 462,
    "start_time": "2022-02-20T16:46:57.028Z"
   },
   {
    "duration": 27,
    "start_time": "2022-02-20T16:46:57.493Z"
   },
   {
    "duration": 399,
    "start_time": "2022-02-20T16:46:57.522Z"
   },
   {
    "duration": 31,
    "start_time": "2022-02-20T16:46:57.926Z"
   },
   {
    "duration": 51,
    "start_time": "2022-02-20T16:46:57.960Z"
   },
   {
    "duration": 325,
    "start_time": "2022-02-20T16:46:58.013Z"
   },
   {
    "duration": 1147,
    "start_time": "2022-02-20T16:46:58.341Z"
   },
   {
    "duration": 13,
    "start_time": "2022-02-20T16:46:59.491Z"
   },
   {
    "duration": 32,
    "start_time": "2022-02-20T16:46:59.505Z"
   },
   {
    "duration": 25,
    "start_time": "2022-02-20T16:46:59.539Z"
   },
   {
    "duration": 28,
    "start_time": "2022-02-20T16:46:59.565Z"
   },
   {
    "duration": 16,
    "start_time": "2022-02-20T16:46:59.595Z"
   },
   {
    "duration": 635,
    "start_time": "2022-02-20T16:46:59.613Z"
   },
   {
    "duration": 1559,
    "start_time": "2022-02-22T15:58:34.919Z"
   },
   {
    "duration": 321,
    "start_time": "2022-02-22T15:58:36.482Z"
   },
   {
    "duration": 13,
    "start_time": "2022-02-22T15:58:36.806Z"
   },
   {
    "duration": 18,
    "start_time": "2022-02-22T15:58:36.822Z"
   },
   {
    "duration": 26,
    "start_time": "2022-02-22T15:58:36.842Z"
   },
   {
    "duration": 58,
    "start_time": "2022-02-22T15:58:36.870Z"
   },
   {
    "duration": 18,
    "start_time": "2022-02-22T15:58:36.930Z"
   },
   {
    "duration": 519,
    "start_time": "2022-02-22T15:58:36.951Z"
   },
   {
    "duration": 9,
    "start_time": "2022-02-22T15:58:37.475Z"
   },
   {
    "duration": 11,
    "start_time": "2022-02-22T15:58:37.486Z"
   },
   {
    "duration": 31,
    "start_time": "2022-02-22T15:58:37.500Z"
   },
   {
    "duration": 17,
    "start_time": "2022-02-22T15:58:37.533Z"
   },
   {
    "duration": 368,
    "start_time": "2022-02-22T15:58:37.553Z"
   },
   {
    "duration": 15,
    "start_time": "2022-02-22T15:58:37.927Z"
   },
   {
    "duration": 25,
    "start_time": "2022-02-22T15:58:37.944Z"
   },
   {
    "duration": 10,
    "start_time": "2022-02-22T15:58:37.972Z"
   },
   {
    "duration": 49,
    "start_time": "2022-02-22T15:58:37.985Z"
   },
   {
    "duration": 28,
    "start_time": "2022-02-22T15:58:38.037Z"
   },
   {
    "duration": 60,
    "start_time": "2022-02-22T15:58:38.068Z"
   },
   {
    "duration": 376,
    "start_time": "2022-02-22T15:58:38.131Z"
   },
   {
    "duration": 19,
    "start_time": "2022-02-22T15:58:38.509Z"
   },
   {
    "duration": 58,
    "start_time": "2022-02-22T15:58:38.531Z"
   },
   {
    "duration": 740,
    "start_time": "2022-02-22T15:58:38.591Z"
   },
   {
    "duration": 674,
    "start_time": "2022-02-22T15:58:39.334Z"
   },
   {
    "duration": 29,
    "start_time": "2022-02-22T15:58:40.011Z"
   },
   {
    "duration": 553,
    "start_time": "2022-02-22T15:58:40.043Z"
   },
   {
    "duration": 50,
    "start_time": "2022-02-22T15:58:40.601Z"
   },
   {
    "duration": 30,
    "start_time": "2022-02-22T15:58:40.654Z"
   },
   {
    "duration": 601,
    "start_time": "2022-02-22T15:58:40.687Z"
   },
   {
    "duration": 1088,
    "start_time": "2022-02-22T15:58:41.290Z"
   },
   {
    "duration": 18,
    "start_time": "2022-02-22T15:58:42.380Z"
   },
   {
    "duration": 39,
    "start_time": "2022-02-22T15:58:42.401Z"
   },
   {
    "duration": 29,
    "start_time": "2022-02-22T15:58:42.442Z"
   },
   {
    "duration": 53,
    "start_time": "2022-02-22T15:58:42.473Z"
   },
   {
    "duration": 7,
    "start_time": "2022-02-22T15:58:42.529Z"
   },
   {
    "duration": 1016,
    "start_time": "2022-02-22T15:58:42.539Z"
   },
   {
    "duration": 1063,
    "start_time": "2022-02-22T19:20:40.685Z"
   },
   {
    "duration": 52,
    "start_time": "2022-02-22T19:20:41.749Z"
   },
   {
    "duration": 8,
    "start_time": "2022-02-22T19:20:41.803Z"
   },
   {
    "duration": 10,
    "start_time": "2022-02-22T19:20:41.813Z"
   },
   {
    "duration": 15,
    "start_time": "2022-02-22T19:20:41.831Z"
   },
   {
    "duration": 20,
    "start_time": "2022-02-22T19:20:41.847Z"
   },
   {
    "duration": 9,
    "start_time": "2022-02-22T19:20:41.869Z"
   },
   {
    "duration": 286,
    "start_time": "2022-02-22T19:20:41.879Z"
   },
   {
    "duration": 5,
    "start_time": "2022-02-22T19:20:42.167Z"
   },
   {
    "duration": 6,
    "start_time": "2022-02-22T19:20:42.174Z"
   },
   {
    "duration": 5,
    "start_time": "2022-02-22T19:20:42.181Z"
   },
   {
    "duration": 12,
    "start_time": "2022-02-22T19:20:42.188Z"
   },
   {
    "duration": 214,
    "start_time": "2022-02-22T19:20:42.202Z"
   },
   {
    "duration": 15,
    "start_time": "2022-02-22T19:20:42.418Z"
   },
   {
    "duration": 14,
    "start_time": "2022-02-22T19:20:42.434Z"
   },
   {
    "duration": 5,
    "start_time": "2022-02-22T19:20:42.449Z"
   },
   {
    "duration": 9,
    "start_time": "2022-02-22T19:20:42.455Z"
   },
   {
    "duration": 15,
    "start_time": "2022-02-22T19:20:42.465Z"
   },
   {
    "duration": 20,
    "start_time": "2022-02-22T19:20:42.481Z"
   },
   {
    "duration": 224,
    "start_time": "2022-02-22T19:20:42.502Z"
   },
   {
    "duration": 6,
    "start_time": "2022-02-22T19:20:42.731Z"
   },
   {
    "duration": 36,
    "start_time": "2022-02-22T19:20:42.739Z"
   },
   {
    "duration": 437,
    "start_time": "2022-02-22T19:20:42.777Z"
   },
   {
    "duration": 362,
    "start_time": "2022-02-22T19:20:43.216Z"
   },
   {
    "duration": 12,
    "start_time": "2022-02-22T19:20:43.580Z"
   },
   {
    "duration": 329,
    "start_time": "2022-02-22T19:20:43.593Z"
   },
   {
    "duration": 23,
    "start_time": "2022-02-22T19:20:43.932Z"
   },
   {
    "duration": 18,
    "start_time": "2022-02-22T19:20:43.957Z"
   },
   {
    "duration": 271,
    "start_time": "2022-02-22T19:20:43.977Z"
   },
   {
    "duration": 971,
    "start_time": "2022-02-22T19:20:44.249Z"
   },
   {
    "duration": 10,
    "start_time": "2022-02-22T19:20:45.222Z"
   },
   {
    "duration": 19,
    "start_time": "2022-02-22T19:20:45.233Z"
   },
   {
    "duration": 15,
    "start_time": "2022-02-22T19:20:45.254Z"
   },
   {
    "duration": 14,
    "start_time": "2022-02-22T19:20:45.270Z"
   },
   {
    "duration": 4,
    "start_time": "2022-02-22T19:20:45.285Z"
   },
   {
    "duration": 594,
    "start_time": "2022-02-22T19:20:45.290Z"
   },
   {
    "duration": 1281,
    "start_time": "2022-02-23T04:42:32.810Z"
   },
   {
    "duration": 96,
    "start_time": "2022-02-23T04:42:34.093Z"
   },
   {
    "duration": 12,
    "start_time": "2022-02-23T04:42:34.192Z"
   },
   {
    "duration": 26,
    "start_time": "2022-02-23T04:42:34.207Z"
   },
   {
    "duration": 32,
    "start_time": "2022-02-23T04:42:34.235Z"
   },
   {
    "duration": 40,
    "start_time": "2022-02-23T04:42:34.269Z"
   },
   {
    "duration": 14,
    "start_time": "2022-02-23T04:42:34.311Z"
   },
   {
    "duration": 382,
    "start_time": "2022-02-23T04:42:34.327Z"
   },
   {
    "duration": 7,
    "start_time": "2022-02-23T04:42:34.713Z"
   },
   {
    "duration": 19,
    "start_time": "2022-02-23T04:42:34.724Z"
   },
   {
    "duration": 24,
    "start_time": "2022-02-23T04:42:34.745Z"
   },
   {
    "duration": 20,
    "start_time": "2022-02-23T04:42:34.772Z"
   },
   {
    "duration": 254,
    "start_time": "2022-02-23T04:42:34.795Z"
   },
   {
    "duration": 12,
    "start_time": "2022-02-23T04:42:35.051Z"
   },
   {
    "duration": 36,
    "start_time": "2022-02-23T04:42:35.065Z"
   },
   {
    "duration": 9,
    "start_time": "2022-02-23T04:42:35.103Z"
   },
   {
    "duration": 68,
    "start_time": "2022-02-23T04:42:35.114Z"
   },
   {
    "duration": 21,
    "start_time": "2022-02-23T04:42:35.185Z"
   },
   {
    "duration": 30,
    "start_time": "2022-02-23T04:42:35.209Z"
   },
   {
    "duration": 249,
    "start_time": "2022-02-23T04:42:35.241Z"
   },
   {
    "duration": 16,
    "start_time": "2022-02-23T04:42:35.492Z"
   },
   {
    "duration": 37,
    "start_time": "2022-02-23T04:42:35.510Z"
   },
   {
    "duration": 520,
    "start_time": "2022-02-23T04:42:35.549Z"
   },
   {
    "duration": 544,
    "start_time": "2022-02-23T04:42:36.072Z"
   },
   {
    "duration": 14,
    "start_time": "2022-02-23T04:42:36.618Z"
   },
   {
    "duration": 391,
    "start_time": "2022-02-23T04:42:36.634Z"
   },
   {
    "duration": 29,
    "start_time": "2022-02-23T04:42:37.029Z"
   },
   {
    "duration": 9,
    "start_time": "2022-02-23T04:42:37.061Z"
   },
   {
    "duration": 357,
    "start_time": "2022-02-23T04:42:37.072Z"
   },
   {
    "duration": -8608,
    "start_time": "2022-02-23T04:42:46.039Z"
   },
   {
    "duration": -8637,
    "start_time": "2022-02-23T04:42:46.069Z"
   },
   {
    "duration": -8662,
    "start_time": "2022-02-23T04:42:46.095Z"
   },
   {
    "duration": -8670,
    "start_time": "2022-02-23T04:42:46.105Z"
   },
   {
    "duration": -8680,
    "start_time": "2022-02-23T04:42:46.116Z"
   },
   {
    "duration": -8690,
    "start_time": "2022-02-23T04:42:46.127Z"
   },
   {
    "duration": -8704,
    "start_time": "2022-02-23T04:42:46.142Z"
   },
   {
    "duration": -8712,
    "start_time": "2022-02-23T04:42:46.151Z"
   },
   {
    "duration": -8724,
    "start_time": "2022-02-23T04:42:46.164Z"
   },
   {
    "duration": 1071,
    "start_time": "2022-02-23T04:43:31.778Z"
   },
   {
    "duration": 11,
    "start_time": "2022-02-23T05:02:37.364Z"
   },
   {
    "duration": 2766,
    "start_time": "2022-02-23T05:02:55.242Z"
   },
   {
    "duration": 3,
    "start_time": "2022-02-23T05:04:14.255Z"
   },
   {
    "duration": 1156,
    "start_time": "2022-02-23T05:14:35.437Z"
   },
   {
    "duration": 1097,
    "start_time": "2022-02-23T05:15:58.867Z"
   },
   {
    "duration": 1391,
    "start_time": "2022-02-23T05:16:20.619Z"
   },
   {
    "duration": 1150,
    "start_time": "2022-02-23T05:16:31.452Z"
   },
   {
    "duration": 91,
    "start_time": "2022-02-23T05:16:39.148Z"
   },
   {
    "duration": 228,
    "start_time": "2022-02-23T05:31:58.286Z"
   },
   {
    "duration": 1196,
    "start_time": "2022-02-23T05:32:28.800Z"
   },
   {
    "duration": 67,
    "start_time": "2022-02-23T05:32:29.998Z"
   },
   {
    "duration": 12,
    "start_time": "2022-02-23T05:32:30.069Z"
   },
   {
    "duration": 30,
    "start_time": "2022-02-23T05:32:30.084Z"
   },
   {
    "duration": 34,
    "start_time": "2022-02-23T05:32:30.117Z"
   },
   {
    "duration": 41,
    "start_time": "2022-02-23T05:32:30.153Z"
   },
   {
    "duration": 17,
    "start_time": "2022-02-23T05:32:30.196Z"
   },
   {
    "duration": 317,
    "start_time": "2022-02-23T05:32:30.215Z"
   },
   {
    "duration": 7,
    "start_time": "2022-02-23T05:32:30.536Z"
   },
   {
    "duration": 16,
    "start_time": "2022-02-23T05:32:30.546Z"
   },
   {
    "duration": 14,
    "start_time": "2022-02-23T05:32:30.564Z"
   },
   {
    "duration": 24,
    "start_time": "2022-02-23T05:32:30.580Z"
   },
   {
    "duration": 303,
    "start_time": "2022-02-23T05:32:30.608Z"
   },
   {
    "duration": 15,
    "start_time": "2022-02-23T05:32:30.914Z"
   },
   {
    "duration": 32,
    "start_time": "2022-02-23T05:32:30.932Z"
   },
   {
    "duration": 8,
    "start_time": "2022-02-23T05:32:30.966Z"
   },
   {
    "duration": 41,
    "start_time": "2022-02-23T05:32:30.977Z"
   },
   {
    "duration": 23,
    "start_time": "2022-02-23T05:32:31.020Z"
   },
   {
    "duration": 39,
    "start_time": "2022-02-23T05:32:31.046Z"
   },
   {
    "duration": 248,
    "start_time": "2022-02-23T05:32:31.088Z"
   },
   {
    "duration": 7,
    "start_time": "2022-02-23T05:32:31.338Z"
   },
   {
    "duration": 56,
    "start_time": "2022-02-23T05:32:31.347Z"
   },
   {
    "duration": 523,
    "start_time": "2022-02-23T05:32:31.408Z"
   },
   {
    "duration": 428,
    "start_time": "2022-02-23T05:32:31.933Z"
   },
   {
    "duration": 14,
    "start_time": "2022-02-23T05:32:32.363Z"
   },
   {
    "duration": 405,
    "start_time": "2022-02-23T05:32:32.379Z"
   },
   {
    "duration": 3,
    "start_time": "2022-02-23T05:32:32.788Z"
   },
   {
    "duration": 402,
    "start_time": "2022-02-23T05:32:32.794Z"
   },
   {
    "duration": -64,
    "start_time": "2022-02-23T05:32:33.263Z"
   },
   {
    "duration": -72,
    "start_time": "2022-02-23T05:32:33.272Z"
   },
   {
    "duration": -79,
    "start_time": "2022-02-23T05:32:33.281Z"
   },
   {
    "duration": -88,
    "start_time": "2022-02-23T05:32:33.291Z"
   },
   {
    "duration": -95,
    "start_time": "2022-02-23T05:32:33.300Z"
   },
   {
    "duration": -102,
    "start_time": "2022-02-23T05:32:33.309Z"
   },
   {
    "duration": -111,
    "start_time": "2022-02-23T05:32:33.320Z"
   },
   {
    "duration": -119,
    "start_time": "2022-02-23T05:32:33.329Z"
   },
   {
    "duration": -127,
    "start_time": "2022-02-23T05:32:33.339Z"
   },
   {
    "duration": -137,
    "start_time": "2022-02-23T05:32:33.351Z"
   },
   {
    "duration": -145,
    "start_time": "2022-02-23T05:32:33.360Z"
   },
   {
    "duration": -151,
    "start_time": "2022-02-23T05:32:33.368Z"
   },
   {
    "duration": 435,
    "start_time": "2022-02-23T05:33:58.468Z"
   },
   {
    "duration": 247,
    "start_time": "2022-02-23T05:34:14.243Z"
   },
   {
    "duration": 26,
    "start_time": "2022-02-23T05:34:20.723Z"
   },
   {
    "duration": 27,
    "start_time": "2022-02-23T05:34:37.983Z"
   },
   {
    "duration": 24,
    "start_time": "2022-02-23T05:34:52.267Z"
   },
   {
    "duration": 27,
    "start_time": "2022-02-23T05:34:59.191Z"
   },
   {
    "duration": 61,
    "start_time": "2022-02-23T05:35:39.565Z"
   },
   {
    "duration": 133,
    "start_time": "2022-02-23T05:36:17.198Z"
   },
   {
    "duration": 6087,
    "start_time": "2022-02-23T05:39:16.369Z"
   },
   {
    "duration": 78,
    "start_time": "2022-02-23T05:48:07.240Z"
   },
   {
    "duration": 86,
    "start_time": "2022-02-23T05:48:26.149Z"
   },
   {
    "duration": 3074,
    "start_time": "2022-02-23T05:48:40.227Z"
   },
   {
    "duration": 3289,
    "start_time": "2022-02-23T05:50:16.176Z"
   },
   {
    "duration": 71,
    "start_time": "2022-02-23T05:50:59.206Z"
   },
   {
    "duration": 242,
    "start_time": "2022-02-23T05:59:08.688Z"
   },
   {
    "duration": 237,
    "start_time": "2022-02-23T05:59:47.726Z"
   },
   {
    "duration": 63,
    "start_time": "2022-02-23T06:00:05.717Z"
   },
   {
    "duration": 19687,
    "start_time": "2022-02-23T06:02:17.194Z"
   },
   {
    "duration": 19816,
    "start_time": "2022-02-23T06:03:18.632Z"
   },
   {
    "duration": 19696,
    "start_time": "2022-02-23T06:05:05.128Z"
   },
   {
    "duration": 19345,
    "start_time": "2022-02-23T06:05:46.668Z"
   },
   {
    "duration": 19980,
    "start_time": "2022-02-23T06:06:25.361Z"
   },
   {
    "duration": 19746,
    "start_time": "2022-02-23T06:08:48.198Z"
   },
   {
    "duration": 8379,
    "start_time": "2022-02-23T06:10:18.739Z"
   },
   {
    "duration": 20390,
    "start_time": "2022-02-23T06:10:27.120Z"
   },
   {
    "duration": 8487,
    "start_time": "2022-02-23T06:12:25.684Z"
   },
   {
    "duration": 18718,
    "start_time": "2022-02-23T06:12:41.406Z"
   },
   {
    "duration": 9632,
    "start_time": "2022-02-23T06:15:02.910Z"
   },
   {
    "duration": 9279,
    "start_time": "2022-02-23T06:15:49.379Z"
   },
   {
    "duration": 19626,
    "start_time": "2022-02-23T06:16:07.002Z"
   },
   {
    "duration": 1480,
    "start_time": "2022-02-23T06:17:06.119Z"
   },
   {
    "duration": 4535,
    "start_time": "2022-02-23T06:18:11.971Z"
   },
   {
    "duration": 1135,
    "start_time": "2022-02-23T06:18:37.999Z"
   },
   {
    "duration": 1051,
    "start_time": "2022-02-23T06:18:52.162Z"
   },
   {
    "duration": 1095,
    "start_time": "2022-02-23T06:19:16.420Z"
   },
   {
    "duration": 39,
    "start_time": "2022-02-23T06:21:20.642Z"
   },
   {
    "duration": 263,
    "start_time": "2022-02-23T06:22:07.065Z"
   },
   {
    "duration": 37,
    "start_time": "2022-02-23T06:22:46.306Z"
   },
   {
    "duration": 1457,
    "start_time": "2022-02-23T06:31:34.456Z"
   },
   {
    "duration": 70,
    "start_time": "2022-02-23T06:31:35.916Z"
   },
   {
    "duration": 23,
    "start_time": "2022-02-23T06:31:35.990Z"
   },
   {
    "duration": 27,
    "start_time": "2022-02-23T06:31:36.017Z"
   },
   {
    "duration": 34,
    "start_time": "2022-02-23T06:31:36.046Z"
   },
   {
    "duration": 53,
    "start_time": "2022-02-23T06:31:36.084Z"
   },
   {
    "duration": 17,
    "start_time": "2022-02-23T06:31:36.140Z"
   },
   {
    "duration": 403,
    "start_time": "2022-02-23T06:31:36.161Z"
   },
   {
    "duration": 8,
    "start_time": "2022-02-23T06:31:36.566Z"
   },
   {
    "duration": 16,
    "start_time": "2022-02-23T06:31:36.577Z"
   },
   {
    "duration": 18,
    "start_time": "2022-02-23T06:31:36.595Z"
   },
   {
    "duration": 29,
    "start_time": "2022-02-23T06:31:36.616Z"
   },
   {
    "duration": 331,
    "start_time": "2022-02-23T06:31:36.648Z"
   },
   {
    "duration": 14,
    "start_time": "2022-02-23T06:31:36.982Z"
   },
   {
    "duration": 25,
    "start_time": "2022-02-23T06:31:37.008Z"
   },
   {
    "duration": 9,
    "start_time": "2022-02-23T06:31:37.036Z"
   },
   {
    "duration": 15,
    "start_time": "2022-02-23T06:31:37.047Z"
   },
   {
    "duration": 45,
    "start_time": "2022-02-23T06:31:37.064Z"
   },
   {
    "duration": 38,
    "start_time": "2022-02-23T06:31:37.112Z"
   },
   {
    "duration": 263,
    "start_time": "2022-02-23T06:31:37.153Z"
   },
   {
    "duration": 8,
    "start_time": "2022-02-23T06:31:37.419Z"
   },
   {
    "duration": 44,
    "start_time": "2022-02-23T06:31:37.429Z"
   },
   {
    "duration": 569,
    "start_time": "2022-02-23T06:31:37.476Z"
   },
   {
    "duration": 469,
    "start_time": "2022-02-23T06:31:38.047Z"
   },
   {
    "duration": 16,
    "start_time": "2022-02-23T06:31:38.518Z"
   },
   {
    "duration": 500,
    "start_time": "2022-02-23T06:31:38.536Z"
   },
   {
    "duration": 34,
    "start_time": "2022-02-23T06:31:39.040Z"
   },
   {
    "duration": 8,
    "start_time": "2022-02-23T06:31:39.076Z"
   },
   {
    "duration": 122,
    "start_time": "2022-02-23T06:31:39.087Z"
   },
   {
    "duration": 23,
    "start_time": "2022-02-23T06:31:39.211Z"
   },
   {
    "duration": 366,
    "start_time": "2022-02-23T06:31:39.236Z"
   },
   {
    "duration": 1269,
    "start_time": "2022-02-23T06:31:39.604Z"
   },
   {
    "duration": 14,
    "start_time": "2022-02-23T06:31:40.875Z"
   },
   {
    "duration": 26,
    "start_time": "2022-02-23T06:31:40.891Z"
   },
   {
    "duration": 21,
    "start_time": "2022-02-23T06:31:40.919Z"
   },
   {
    "duration": 25,
    "start_time": "2022-02-23T06:31:40.942Z"
   },
   {
    "duration": 6,
    "start_time": "2022-02-23T06:31:40.970Z"
   },
   {
    "duration": 919,
    "start_time": "2022-02-23T06:31:40.979Z"
   },
   {
    "duration": 38,
    "start_time": "2022-02-23T06:32:47.019Z"
   },
   {
    "duration": 25,
    "start_time": "2022-02-23T06:50:56.052Z"
   },
   {
    "duration": 20,
    "start_time": "2022-02-23T06:51:55.040Z"
   },
   {
    "duration": 20,
    "start_time": "2022-02-23T06:52:09.736Z"
   },
   {
    "duration": 3,
    "start_time": "2022-02-23T07:05:37.147Z"
   },
   {
    "duration": 1269,
    "start_time": "2022-02-23T07:06:31.461Z"
   },
   {
    "duration": 59,
    "start_time": "2022-02-23T07:06:32.733Z"
   },
   {
    "duration": 20,
    "start_time": "2022-02-23T07:06:32.794Z"
   },
   {
    "duration": 14,
    "start_time": "2022-02-23T07:06:32.816Z"
   },
   {
    "duration": 22,
    "start_time": "2022-02-23T07:06:32.832Z"
   },
   {
    "duration": 2,
    "start_time": "2022-02-23T07:06:32.856Z"
   },
   {
    "duration": 48,
    "start_time": "2022-02-23T07:06:32.861Z"
   },
   {
    "duration": 335,
    "start_time": "2022-02-23T07:06:32.913Z"
   },
   {
    "duration": 7,
    "start_time": "2022-02-23T07:06:33.250Z"
   },
   {
    "duration": 10,
    "start_time": "2022-02-23T07:06:33.259Z"
   },
   {
    "duration": 9,
    "start_time": "2022-02-23T07:06:33.271Z"
   },
   {
    "duration": 32,
    "start_time": "2022-02-23T07:06:33.282Z"
   },
   {
    "duration": 248,
    "start_time": "2022-02-23T07:06:33.316Z"
   },
   {
    "duration": 11,
    "start_time": "2022-02-23T07:06:33.567Z"
   },
   {
    "duration": 46,
    "start_time": "2022-02-23T07:06:33.580Z"
   },
   {
    "duration": 6,
    "start_time": "2022-02-23T07:06:33.628Z"
   },
   {
    "duration": 22,
    "start_time": "2022-02-23T07:06:33.635Z"
   },
   {
    "duration": 20,
    "start_time": "2022-02-23T07:06:33.660Z"
   },
   {
    "duration": 44,
    "start_time": "2022-02-23T07:06:33.682Z"
   },
   {
    "duration": 245,
    "start_time": "2022-02-23T07:06:33.728Z"
   },
   {
    "duration": 7,
    "start_time": "2022-02-23T07:06:33.975Z"
   },
   {
    "duration": 58,
    "start_time": "2022-02-23T07:06:33.984Z"
   },
   {
    "duration": 535,
    "start_time": "2022-02-23T07:06:34.045Z"
   },
   {
    "duration": 436,
    "start_time": "2022-02-23T07:06:34.583Z"
   },
   {
    "duration": 15,
    "start_time": "2022-02-23T07:06:35.021Z"
   },
   {
    "duration": 398,
    "start_time": "2022-02-23T07:06:35.037Z"
   },
   {
    "duration": 35,
    "start_time": "2022-02-23T07:06:35.437Z"
   },
   {
    "duration": 7,
    "start_time": "2022-02-23T07:06:35.474Z"
   },
   {
    "duration": 118,
    "start_time": "2022-02-23T07:06:35.483Z"
   },
   {
    "duration": 21,
    "start_time": "2022-02-23T07:06:35.607Z"
   },
   {
    "duration": 343,
    "start_time": "2022-02-23T07:06:35.630Z"
   },
   {
    "duration": 1371,
    "start_time": "2022-02-23T07:06:35.975Z"
   },
   {
    "duration": 13,
    "start_time": "2022-02-23T07:06:37.347Z"
   },
   {
    "duration": 23,
    "start_time": "2022-02-23T07:06:37.362Z"
   },
   {
    "duration": 34,
    "start_time": "2022-02-23T07:06:37.387Z"
   },
   {
    "duration": 21,
    "start_time": "2022-02-23T07:06:37.424Z"
   },
   {
    "duration": 6,
    "start_time": "2022-02-23T07:06:37.447Z"
   },
   {
    "duration": 693,
    "start_time": "2022-02-23T07:06:37.455Z"
   }
  ],
  "kernelspec": {
   "display_name": "Python 3",
   "language": "python",
   "name": "python3"
  },
  "language_info": {
   "codemirror_mode": {
    "name": "ipython",
    "version": 3
   },
   "file_extension": ".py",
   "mimetype": "text/x-python",
   "name": "python",
   "nbconvert_exporter": "python",
   "pygments_lexer": "ipython3",
   "version": "3.7.13"
  },
  "toc": {
   "base_numbering": 1,
   "nav_menu": {},
   "number_sections": true,
   "sideBar": true,
   "skip_h1_title": true,
   "title_cell": "Table of Contents",
   "title_sidebar": "Contents",
   "toc_cell": false,
   "toc_position": {},
   "toc_section_display": true,
   "toc_window_display": false
  }
 },
 "nbformat": 4,
 "nbformat_minor": 2
}
