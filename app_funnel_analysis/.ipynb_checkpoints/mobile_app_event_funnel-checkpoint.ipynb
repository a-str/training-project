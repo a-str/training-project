{
 "cells": [
  {
   "cell_type": "markdown",
   "metadata": {},
   "source": [
    "# Анализ воронки событий мобильного приложения"
   ]
  },
  {
   "cell_type": "markdown",
   "metadata": {},
   "source": [
    "__Постановка задачи:__\n",
    "\n",
    "Требуется провести анализ воронки событий мобильного приложения:\n",
    "- анализ конверсии по шагам воронки\n",
    "- оценка результатов A/A/B-эксперимента\n",
    "\n",
    "__Цель проекта:__\n",
    "\n",
    "Дать рекомендации по работе с воронкой событий и изменению шрифтов мобильного приложения.\n",
    "\n",
    "__План работ:__\n",
    "\n",
    "1. [Загрузка данных](#id_1)\n",
    "2. [Подготовк аданных](#id_2)\n",
    "3. [Изучение и проверка данных](#id_3)\n",
    "4. [Изучение воронки событий](#id_4)\n",
    "5. [Изучение результата эксперимента](#id_5)\n",
    "5.1. [Сравнение контрольных выборок 246 и 247](#id_5_1)\n",
    "5.2. [Сравнение контрольной выборки 246 и тестовой 248](#id_5_2)\n",
    "5.3. [Сравнение контрольной выборки 247 и тестовой 248](#id_5_3)\n",
    "5.4. [Сравнение объединенных контрольных выборок и тестовой 248](#id_5_4)\n",
    "6. [Выводы и рекомендации](#id_6)"
   ]
  },
  {
   "cell_type": "markdown",
   "metadata": {},
   "source": [
    "<a id='id_1'></a>\n",
    "## Загрузка и предобработка данных"
   ]
  },
  {
   "cell_type": "code",
   "execution_count": 1,
   "metadata": {},
   "outputs": [],
   "source": [
    "# подключение библиотек\n",
    "import pandas as pd\n",
    "import numpy as np\n",
    "import math as mth\n",
    "\n",
    "import scipy.stats as st\n",
    "import datetime as dt\n",
    "\n",
    "import matplotlib.pyplot as plt\n",
    "\n",
    "large = 24; med = 16; small = 12\n",
    "params = {'axes.titlesize': large,\n",
    "          'legend.fontsize': med,\n",
    "          'figure.figsize': (16, 8),\n",
    "          'axes.labelsize': med,\n",
    "          'axes.titlesize': med,\n",
    "          'xtick.labelsize': small,\n",
    "          'ytick.labelsize': small,\n",
    "          'figure.titlesize': large}\n",
    "plt.rcParams.update(params)\n",
    "plt.style.use('seaborn-whitegrid')\n",
    "%matplotlib inline\n",
    "\n",
    "import warnings\n",
    "warnings.filterwarnings(\"ignore\")"
   ]
  },
  {
   "cell_type": "code",
   "execution_count": 2,
   "metadata": {},
   "outputs": [
    {
     "data": {
      "text/html": [
       "<div>\n",
       "<style scoped>\n",
       "    .dataframe tbody tr th:only-of-type {\n",
       "        vertical-align: middle;\n",
       "    }\n",
       "\n",
       "    .dataframe tbody tr th {\n",
       "        vertical-align: top;\n",
       "    }\n",
       "\n",
       "    .dataframe thead th {\n",
       "        text-align: right;\n",
       "    }\n",
       "</style>\n",
       "<table border=\"1\" class=\"dataframe\">\n",
       "  <thead>\n",
       "    <tr style=\"text-align: right;\">\n",
       "      <th></th>\n",
       "      <th>EventName</th>\n",
       "      <th>DeviceIDHash</th>\n",
       "      <th>EventTimestamp</th>\n",
       "      <th>ExpId</th>\n",
       "    </tr>\n",
       "  </thead>\n",
       "  <tbody>\n",
       "    <tr>\n",
       "      <td>0</td>\n",
       "      <td>MainScreenAppear</td>\n",
       "      <td>4575588528974610257</td>\n",
       "      <td>1564029816</td>\n",
       "      <td>246</td>\n",
       "    </tr>\n",
       "    <tr>\n",
       "      <td>1</td>\n",
       "      <td>MainScreenAppear</td>\n",
       "      <td>7416695313311560658</td>\n",
       "      <td>1564053102</td>\n",
       "      <td>246</td>\n",
       "    </tr>\n",
       "    <tr>\n",
       "      <td>2</td>\n",
       "      <td>PaymentScreenSuccessful</td>\n",
       "      <td>3518123091307005509</td>\n",
       "      <td>1564054127</td>\n",
       "      <td>248</td>\n",
       "    </tr>\n",
       "    <tr>\n",
       "      <td>3</td>\n",
       "      <td>CartScreenAppear</td>\n",
       "      <td>3518123091307005509</td>\n",
       "      <td>1564054127</td>\n",
       "      <td>248</td>\n",
       "    </tr>\n",
       "    <tr>\n",
       "      <td>4</td>\n",
       "      <td>PaymentScreenSuccessful</td>\n",
       "      <td>6217807653094995999</td>\n",
       "      <td>1564055322</td>\n",
       "      <td>248</td>\n",
       "    </tr>\n",
       "  </tbody>\n",
       "</table>\n",
       "</div>"
      ],
      "text/plain": [
       "                 EventName         DeviceIDHash  EventTimestamp  ExpId\n",
       "0         MainScreenAppear  4575588528974610257      1564029816    246\n",
       "1         MainScreenAppear  7416695313311560658      1564053102    246\n",
       "2  PaymentScreenSuccessful  3518123091307005509      1564054127    248\n",
       "3         CartScreenAppear  3518123091307005509      1564054127    248\n",
       "4  PaymentScreenSuccessful  6217807653094995999      1564055322    248"
      ]
     },
     "execution_count": 2,
     "metadata": {},
     "output_type": "execute_result"
    }
   ],
   "source": [
    "# получение данных\n",
    "data = pd.read_csv('/datasets/logs_exp.csv', sep='\\\\t')\n",
    "data.head()"
   ]
  },
  {
   "cell_type": "code",
   "execution_count": 3,
   "metadata": {},
   "outputs": [
    {
     "name": "stdout",
     "output_type": "stream",
     "text": [
      "<class 'pandas.core.frame.DataFrame'>\n",
      "RangeIndex: 244126 entries, 0 to 244125\n",
      "Data columns (total 4 columns):\n",
      "EventName         244126 non-null object\n",
      "DeviceIDHash      244126 non-null int64\n",
      "EventTimestamp    244126 non-null int64\n",
      "ExpId             244126 non-null int64\n",
      "dtypes: int64(3), object(1)\n",
      "memory usage: 7.5+ MB\n"
     ]
    }
   ],
   "source": [
    "data.info()"
   ]
  },
  {
   "cell_type": "markdown",
   "metadata": {},
   "source": [
    "__Вывод:__ Данные получены корректно, пропусков нет."
   ]
  },
  {
   "cell_type": "markdown",
   "metadata": {},
   "source": [
    "<a id='id_2'></a>\n",
    "## Подготовка данных"
   ]
  },
  {
   "cell_type": "markdown",
   "metadata": {},
   "source": [
    "Приведем наименования полей к стандарту, проверим наличие дубликатов, отформатируем поля с датой и временем."
   ]
  },
  {
   "cell_type": "code",
   "execution_count": 4,
   "metadata": {},
   "outputs": [
    {
     "data": {
      "text/plain": [
       "Index(['EventName', 'DeviceIDHash', 'EventTimestamp', 'ExpId'], dtype='object')"
      ]
     },
     "execution_count": 4,
     "metadata": {},
     "output_type": "execute_result"
    }
   ],
   "source": [
    "data.columns"
   ]
  },
  {
   "cell_type": "code",
   "execution_count": 5,
   "metadata": {},
   "outputs": [
    {
     "data": {
      "text/plain": [
       "Index(['event_name', 'device_idhash', 'event_time_stamp', 'exp_id'], dtype='object')"
      ]
     },
     "execution_count": 5,
     "metadata": {},
     "output_type": "execute_result"
    }
   ],
   "source": [
    "# переименование столбцов\n",
    "data = data.rename(columns={\n",
    "    'EventName':'event_name',\n",
    "    'DeviceIDHash':'device_idhash',\n",
    "    'EventTimestamp':'event_time_stamp',\n",
    "    'ExpId':'exp_id'\n",
    "})\n",
    "data.columns"
   ]
  },
  {
   "cell_type": "code",
   "execution_count": 6,
   "metadata": {},
   "outputs": [
    {
     "data": {
      "text/plain": [
       "413"
      ]
     },
     "execution_count": 6,
     "metadata": {},
     "output_type": "execute_result"
    }
   ],
   "source": [
    "# проверка явных дубликатов\n",
    "data.duplicated().sum()"
   ]
  },
  {
   "cell_type": "code",
   "execution_count": 7,
   "metadata": {},
   "outputs": [
    {
     "data": {
      "text/plain": [
       "0"
      ]
     },
     "execution_count": 7,
     "metadata": {},
     "output_type": "execute_result"
    }
   ],
   "source": [
    "# удаление явных дубликатов (с удалением стbарых индексов и формированием новых)\n",
    "data = data.drop_duplicates().reset_index(drop=True)\n",
    "data.duplicated().sum()"
   ]
  },
  {
   "cell_type": "code",
   "execution_count": 8,
   "metadata": {},
   "outputs": [
    {
     "data": {
      "text/html": [
       "<div>\n",
       "<style scoped>\n",
       "    .dataframe tbody tr th:only-of-type {\n",
       "        vertical-align: middle;\n",
       "    }\n",
       "\n",
       "    .dataframe tbody tr th {\n",
       "        vertical-align: top;\n",
       "    }\n",
       "\n",
       "    .dataframe thead th {\n",
       "        text-align: right;\n",
       "    }\n",
       "</style>\n",
       "<table border=\"1\" class=\"dataframe\">\n",
       "  <thead>\n",
       "    <tr style=\"text-align: right;\">\n",
       "      <th></th>\n",
       "      <th>event_name</th>\n",
       "      <th>device_idhash</th>\n",
       "      <th>event_time_stamp</th>\n",
       "      <th>exp_id</th>\n",
       "    </tr>\n",
       "  </thead>\n",
       "  <tbody>\n",
       "    <tr>\n",
       "      <td>0</td>\n",
       "      <td>MainScreenAppear</td>\n",
       "      <td>4575588528974610257</td>\n",
       "      <td>2019-07-25 04:43:36</td>\n",
       "      <td>246</td>\n",
       "    </tr>\n",
       "    <tr>\n",
       "      <td>1</td>\n",
       "      <td>MainScreenAppear</td>\n",
       "      <td>7416695313311560658</td>\n",
       "      <td>2019-07-25 11:11:42</td>\n",
       "      <td>246</td>\n",
       "    </tr>\n",
       "    <tr>\n",
       "      <td>2</td>\n",
       "      <td>PaymentScreenSuccessful</td>\n",
       "      <td>3518123091307005509</td>\n",
       "      <td>2019-07-25 11:28:47</td>\n",
       "      <td>248</td>\n",
       "    </tr>\n",
       "    <tr>\n",
       "      <td>3</td>\n",
       "      <td>CartScreenAppear</td>\n",
       "      <td>3518123091307005509</td>\n",
       "      <td>2019-07-25 11:28:47</td>\n",
       "      <td>248</td>\n",
       "    </tr>\n",
       "    <tr>\n",
       "      <td>4</td>\n",
       "      <td>PaymentScreenSuccessful</td>\n",
       "      <td>6217807653094995999</td>\n",
       "      <td>2019-07-25 11:48:42</td>\n",
       "      <td>248</td>\n",
       "    </tr>\n",
       "  </tbody>\n",
       "</table>\n",
       "</div>"
      ],
      "text/plain": [
       "                event_name        device_idhash    event_time_stamp  exp_id\n",
       "0         MainScreenAppear  4575588528974610257 2019-07-25 04:43:36     246\n",
       "1         MainScreenAppear  7416695313311560658 2019-07-25 11:11:42     246\n",
       "2  PaymentScreenSuccessful  3518123091307005509 2019-07-25 11:28:47     248\n",
       "3         CartScreenAppear  3518123091307005509 2019-07-25 11:28:47     248\n",
       "4  PaymentScreenSuccessful  6217807653094995999 2019-07-25 11:48:42     248"
      ]
     },
     "execution_count": 8,
     "metadata": {},
     "output_type": "execute_result"
    }
   ],
   "source": [
    "# приведение к формату времени\n",
    "data['event_time_stamp'] = pd.to_datetime(data['event_time_stamp'], unit='s')\n",
    "data.head()"
   ]
  },
  {
   "cell_type": "code",
   "execution_count": 9,
   "metadata": {},
   "outputs": [
    {
     "data": {
      "text/html": [
       "<div>\n",
       "<style scoped>\n",
       "    .dataframe tbody tr th:only-of-type {\n",
       "        vertical-align: middle;\n",
       "    }\n",
       "\n",
       "    .dataframe tbody tr th {\n",
       "        vertical-align: top;\n",
       "    }\n",
       "\n",
       "    .dataframe thead th {\n",
       "        text-align: right;\n",
       "    }\n",
       "</style>\n",
       "<table border=\"1\" class=\"dataframe\">\n",
       "  <thead>\n",
       "    <tr style=\"text-align: right;\">\n",
       "      <th></th>\n",
       "      <th>event_name</th>\n",
       "      <th>device_idhash</th>\n",
       "      <th>event_time_stamp</th>\n",
       "      <th>exp_id</th>\n",
       "      <th>event_date</th>\n",
       "    </tr>\n",
       "  </thead>\n",
       "  <tbody>\n",
       "    <tr>\n",
       "      <td>0</td>\n",
       "      <td>MainScreenAppear</td>\n",
       "      <td>4575588528974610257</td>\n",
       "      <td>2019-07-25 04:43:36</td>\n",
       "      <td>246</td>\n",
       "      <td>2019-07-25</td>\n",
       "    </tr>\n",
       "    <tr>\n",
       "      <td>1</td>\n",
       "      <td>MainScreenAppear</td>\n",
       "      <td>7416695313311560658</td>\n",
       "      <td>2019-07-25 11:11:42</td>\n",
       "      <td>246</td>\n",
       "      <td>2019-07-25</td>\n",
       "    </tr>\n",
       "    <tr>\n",
       "      <td>2</td>\n",
       "      <td>PaymentScreenSuccessful</td>\n",
       "      <td>3518123091307005509</td>\n",
       "      <td>2019-07-25 11:28:47</td>\n",
       "      <td>248</td>\n",
       "      <td>2019-07-25</td>\n",
       "    </tr>\n",
       "    <tr>\n",
       "      <td>3</td>\n",
       "      <td>CartScreenAppear</td>\n",
       "      <td>3518123091307005509</td>\n",
       "      <td>2019-07-25 11:28:47</td>\n",
       "      <td>248</td>\n",
       "      <td>2019-07-25</td>\n",
       "    </tr>\n",
       "    <tr>\n",
       "      <td>4</td>\n",
       "      <td>PaymentScreenSuccessful</td>\n",
       "      <td>6217807653094995999</td>\n",
       "      <td>2019-07-25 11:48:42</td>\n",
       "      <td>248</td>\n",
       "      <td>2019-07-25</td>\n",
       "    </tr>\n",
       "  </tbody>\n",
       "</table>\n",
       "</div>"
      ],
      "text/plain": [
       "                event_name        device_idhash    event_time_stamp  exp_id  \\\n",
       "0         MainScreenAppear  4575588528974610257 2019-07-25 04:43:36     246   \n",
       "1         MainScreenAppear  7416695313311560658 2019-07-25 11:11:42     246   \n",
       "2  PaymentScreenSuccessful  3518123091307005509 2019-07-25 11:28:47     248   \n",
       "3         CartScreenAppear  3518123091307005509 2019-07-25 11:28:47     248   \n",
       "4  PaymentScreenSuccessful  6217807653094995999 2019-07-25 11:48:42     248   \n",
       "\n",
       "   event_date  \n",
       "0  2019-07-25  \n",
       "1  2019-07-25  \n",
       "2  2019-07-25  \n",
       "3  2019-07-25  \n",
       "4  2019-07-25  "
      ]
     },
     "execution_count": 9,
     "metadata": {},
     "output_type": "execute_result"
    }
   ],
   "source": [
    "# добавление данных даты\n",
    "data['event_date'] = data['event_time_stamp'].dt.date\n",
    "data.head()"
   ]
  },
  {
   "cell_type": "markdown",
   "metadata": {},
   "source": [
    "__Вывод:__\n",
    "данные подготовлены - стандартизировано наименование столбцов, приведены к формату данные о дате и времени событий."
   ]
  },
  {
   "cell_type": "markdown",
   "metadata": {},
   "source": [
    "<a id='id_3'></a>\n",
    "## Изучение и проверка данных"
   ]
  },
  {
   "cell_type": "code",
   "execution_count": 10,
   "metadata": {},
   "outputs": [
    {
     "data": {
      "text/plain": [
       "243713"
      ]
     },
     "execution_count": 10,
     "metadata": {},
     "output_type": "execute_result"
    }
   ],
   "source": [
    "# расчет длины лога\n",
    "log_len = len(data.index)\n",
    "log_len"
   ]
  },
  {
   "cell_type": "markdown",
   "metadata": {},
   "source": [
    "__Вывод:__ лог содержит 243713 записей"
   ]
  },
  {
   "cell_type": "code",
   "execution_count": 11,
   "metadata": {},
   "outputs": [
    {
     "data": {
      "text/plain": [
       "7551"
      ]
     },
     "execution_count": 11,
     "metadata": {},
     "output_type": "execute_result"
    }
   ],
   "source": [
    "# количество пользователей в логе\n",
    "users = data['device_idhash'].nunique()\n",
    "users"
   ]
  },
  {
   "cell_type": "code",
   "execution_count": 12,
   "metadata": {},
   "outputs": [
    {
     "data": {
      "text/plain": [
       "32"
      ]
     },
     "execution_count": 12,
     "metadata": {},
     "output_type": "execute_result"
    }
   ],
   "source": [
    "# среднее количество событий на пользователя в логе\n",
    "log_per_user = log_len / users\n",
    "(round(log_per_user))"
   ]
  },
  {
   "cell_type": "code",
   "execution_count": 13,
   "metadata": {},
   "outputs": [
    {
     "data": {
      "text/plain": [
       "20.0"
      ]
     },
     "metadata": {},
     "output_type": "display_data"
    }
   ],
   "source": [
    "# медиана пользователей в логе\n",
    "log_median = data.groupby('device_idhash').agg({'exp_id': 'count'}).sort_values(by='exp_id')\n",
    "display(log_median['exp_id'].median())"
   ]
  },
  {
   "cell_type": "code",
   "execution_count": 14,
   "metadata": {},
   "outputs": [
    {
     "data": {
      "text/plain": [
       "0    5\n",
       "dtype: int64"
      ]
     },
     "execution_count": 14,
     "metadata": {},
     "output_type": "execute_result"
    }
   ],
   "source": [
    "# медиана событий на пользователя в логе\n",
    "log_median['exp_id'].mode()"
   ]
  },
  {
   "cell_type": "code",
   "execution_count": 15,
   "metadata": {},
   "outputs": [
    {
     "data": {
      "image/png": "[encoded data removed]",
      "text/plain": [
       "<Figure size 1080x432 with 1 Axes>"
      ]
     },
     "metadata": {
      "needs_background": "light"
     },
     "output_type": "display_data"
    }
   ],
   "source": [
    "# гистограмма по количеству событий на пользователя \n",
    "f, ax = plt.subplots(figsize=(15, 6))\n",
    "ax = plt.hist(log_median['exp_id'], bins= 300, range=(0, 400))\n",
    "plt.title(\"Гистограмма по количеству событий на пользователя\")\n",
    "plt.ylabel('Количество событий, шт.')\n",
    "plt.xlabel('Пользователь')\n",
    "plt.xticks(rotation=45)\n",
    "plt.show()"
   ]
  },
  {
   "cell_type": "code",
   "execution_count": 16,
   "metadata": {},
   "outputs": [
    {
     "data": {
      "text/plain": [
       "count    7551.000000\n",
       "mean       32.275593\n",
       "std        65.154219\n",
       "min         1.000000\n",
       "25%         9.000000\n",
       "50%        20.000000\n",
       "75%        37.000000\n",
       "max      2307.000000\n",
       "Name: exp_id, dtype: float64"
      ]
     },
     "execution_count": 16,
     "metadata": {},
     "output_type": "execute_result"
    }
   ],
   "source": [
    "# статистики распределения событий\n",
    "log_median['exp_id'].describe() "
   ]
  },
  {
   "cell_type": "code",
   "execution_count": 17,
   "metadata": {},
   "outputs": [
    {
     "name": "stdout",
     "output_type": "stream",
     "text": [
      "2019-07-25 2019-08-07 13 days, 0:00:00\n"
     ]
    }
   ],
   "source": [
    "# период лога\n",
    "date_min =data['event_date'].min()\n",
    "date_max =data['event_date'].max()\n",
    "days = (date_max - date_min)\n",
    "print(date_min, date_max, days)"
   ]
  },
  {
   "cell_type": "code",
   "execution_count": 18,
   "metadata": {},
   "outputs": [
    {
     "data": {
      "image/png": "[encoded data removed]",
      "text/plain": [
       "<Figure size 1080x432 with 1 Axes>"
      ]
     },
     "metadata": {
      "needs_background": "light"
     },
     "output_type": "display_data"
    }
   ],
   "source": [
    "# гистограмма лога по дате \n",
    "f, ax = plt.subplots(figsize=(15, 6))\n",
    "ax = plt.hist(data['event_date'], bins= 13)\n",
    "plt.title(\"Гистограмма лога по дате\")\n",
    "plt.ylabel('Количество событий, шт.')\n",
    "plt.xlabel('Дата')\n",
    "plt.xticks(rotation=45)\n",
    "plt.show()"
   ]
  },
  {
   "cell_type": "code",
   "execution_count": 19,
   "metadata": {},
   "outputs": [
    {
     "data": {
      "text/plain": [
       "'Отброшено данных: 2826, что стоставляет 1.2% данных лога.'"
      ]
     },
     "metadata": {},
     "output_type": "display_data"
    }
   ],
   "source": [
    "data = data[data['event_date'] > dt.date(2019,7,31)]\n",
    "data_miss = log_len - len(data)\n",
    "display(f'Отброшено данных: {data_miss}, что стоставляет {round(data_miss / log_len * 100, 1)}% данных лога.')"
   ]
  },
  {
   "cell_type": "code",
   "execution_count": 20,
   "metadata": {},
   "outputs": [
    {
     "data": {
      "text/plain": [
       "7534"
      ]
     },
     "execution_count": 20,
     "metadata": {},
     "output_type": "execute_result"
    }
   ],
   "source": [
    "# количество пользователей в усеченных данных\n",
    "users_new = len(data.groupby('device_idhash'))\n",
    "users_new"
   ]
  },
  {
   "cell_type": "code",
   "execution_count": 21,
   "metadata": {},
   "outputs": [
    {
     "data": {
      "text/plain": [
       "'Отброшено данных: 17, что стоставляет 0.2% от числа всех пользователей.'"
      ]
     },
     "metadata": {},
     "output_type": "display_data"
    }
   ],
   "source": [
    "# количество утерянных пользователей\n",
    "display(f'Отброшено данных: {users - users_new}, что стоставляет {round((users - users_new )/ users * 100, 1)}% от числа всех пользователей.')"
   ]
  },
  {
   "cell_type": "code",
   "execution_count": 22,
   "metadata": {},
   "outputs": [
    {
     "data": {
      "text/plain": [
       "array([246, 247, 248])"
      ]
     },
     "execution_count": 22,
     "metadata": {},
     "output_type": "execute_result"
    }
   ],
   "source": [
    "# номера экспериментов\n",
    "data['exp_id'].unique()"
   ]
  },
  {
   "cell_type": "code",
   "execution_count": 23,
   "metadata": {},
   "outputs": [
    {
     "data": {
      "text/plain": [
       "'Максимальная разница количества пользователей в группах:2.1%'"
      ]
     },
     "metadata": {},
     "output_type": "display_data"
    },
    {
     "data": {
      "text/html": [
       "<div>\n",
       "<style scoped>\n",
       "    .dataframe tbody tr th:only-of-type {\n",
       "        vertical-align: middle;\n",
       "    }\n",
       "\n",
       "    .dataframe tbody tr th {\n",
       "        vertical-align: top;\n",
       "    }\n",
       "\n",
       "    .dataframe thead th {\n",
       "        text-align: right;\n",
       "    }\n",
       "</style>\n",
       "<table border=\"1\" class=\"dataframe\">\n",
       "  <thead>\n",
       "    <tr style=\"text-align: right;\">\n",
       "      <th></th>\n",
       "      <th>device_idhash</th>\n",
       "    </tr>\n",
       "    <tr>\n",
       "      <th>exp_id</th>\n",
       "      <th></th>\n",
       "    </tr>\n",
       "  </thead>\n",
       "  <tbody>\n",
       "    <tr>\n",
       "      <td>246</td>\n",
       "      <td>2484</td>\n",
       "    </tr>\n",
       "    <tr>\n",
       "      <td>247</td>\n",
       "      <td>2513</td>\n",
       "    </tr>\n",
       "    <tr>\n",
       "      <td>248</td>\n",
       "      <td>2537</td>\n",
       "    </tr>\n",
       "  </tbody>\n",
       "</table>\n",
       "</div>"
      ],
      "text/plain": [
       "        device_idhash\n",
       "exp_id               \n",
       "246              2484\n",
       "247              2513\n",
       "248              2537"
      ]
     },
     "execution_count": 23,
     "metadata": {},
     "output_type": "execute_result"
    }
   ],
   "source": [
    "# проверка количества уникальных пользователей в каждой из групп\n",
    "uniq_users_group = data.groupby('exp_id').agg({'device_idhash': 'nunique'})\n",
    "display(f\"Максимальная разница количества пользователей в группах:\\\n",
    "{round((uniq_users_group.loc[248, 'device_idhash'] - uniq_users_group.loc[246, 'device_idhash']) / uniq_users_group.loc[246, 'device_idhash'] * 100, 1)}%\")\n",
    "uniq_users_group"
   ]
  },
  {
   "cell_type": "markdown",
   "metadata": {},
   "source": [
    "__Вывод:__ Из 13 дней период лога, существенное количество данных в логе присутствует за последние 6 дней. Сделан срез данных по дате от 1 августа - отброшено 2826 записей, что менее 0,1% и не повлияет на результаты анализа. Присутствуют записи всех трех экспериментальных групп ' 246, 247, 248 '."
   ]
  },
  {
   "cell_type": "markdown",
   "metadata": {},
   "source": [
    "<a id='id_4'></a>\n",
    "## Изучение воронки событий"
   ]
  },
  {
   "cell_type": "markdown",
   "metadata": {},
   "source": [
    "Проанализирем события лога"
   ]
  },
  {
   "cell_type": "code",
   "execution_count": 24,
   "metadata": {},
   "outputs": [
    {
     "data": {
      "text/plain": [
       "array(['Tutorial', 'MainScreenAppear', 'OffersScreenAppear',\n",
       "       'CartScreenAppear', 'PaymentScreenSuccessful'], dtype=object)"
      ]
     },
     "execution_count": 24,
     "metadata": {},
     "output_type": "execute_result"
    }
   ],
   "source": [
    "# виды событий\n",
    "data['event_name'].unique()"
   ]
  },
  {
   "cell_type": "markdown",
   "metadata": {},
   "source": [
    "Вывод: Определены  виды событий в воронке событий `MainScreenAppear', 'PaymentScreenSuccessful', 'CartScreenAppear', 'OffersScreenAppear'`"
   ]
  },
  {
   "cell_type": "code",
   "execution_count": 25,
   "metadata": {},
   "outputs": [
    {
     "data": {
      "text/plain": [
       "MainScreenAppear           117328\n",
       "OffersScreenAppear          46333\n",
       "CartScreenAppear            42303\n",
       "PaymentScreenSuccessful     33918\n",
       "Tutorial                     1005\n",
       "Name: event_name, dtype: int64"
      ]
     },
     "execution_count": 25,
     "metadata": {},
     "output_type": "execute_result"
    }
   ],
   "source": [
    "# частота событий в логе\n",
    "data['event_name'].value_counts()"
   ]
  },
  {
   "cell_type": "code",
   "execution_count": 26,
   "metadata": {},
   "outputs": [
    {
     "data": {
      "text/plain": [
       "7534"
      ]
     },
     "metadata": {},
     "output_type": "display_data"
    },
    {
     "data": {
      "text/html": [
       "<div>\n",
       "<style scoped>\n",
       "    .dataframe tbody tr th:only-of-type {\n",
       "        vertical-align: middle;\n",
       "    }\n",
       "\n",
       "    .dataframe tbody tr th {\n",
       "        vertical-align: top;\n",
       "    }\n",
       "\n",
       "    .dataframe thead th {\n",
       "        text-align: right;\n",
       "    }\n",
       "</style>\n",
       "<table border=\"1\" class=\"dataframe\">\n",
       "  <thead>\n",
       "    <tr style=\"text-align: right;\">\n",
       "      <th></th>\n",
       "      <th>device_idhash</th>\n",
       "      <th>users_share</th>\n",
       "    </tr>\n",
       "    <tr>\n",
       "      <th>event_name</th>\n",
       "      <th></th>\n",
       "      <th></th>\n",
       "    </tr>\n",
       "  </thead>\n",
       "  <tbody>\n",
       "    <tr>\n",
       "      <td>MainScreenAppear</td>\n",
       "      <td>7419</td>\n",
       "      <td>98.5</td>\n",
       "    </tr>\n",
       "    <tr>\n",
       "      <td>OffersScreenAppear</td>\n",
       "      <td>4593</td>\n",
       "      <td>61.0</td>\n",
       "    </tr>\n",
       "    <tr>\n",
       "      <td>CartScreenAppear</td>\n",
       "      <td>3734</td>\n",
       "      <td>49.6</td>\n",
       "    </tr>\n",
       "    <tr>\n",
       "      <td>PaymentScreenSuccessful</td>\n",
       "      <td>3539</td>\n",
       "      <td>47.0</td>\n",
       "    </tr>\n",
       "    <tr>\n",
       "      <td>Tutorial</td>\n",
       "      <td>840</td>\n",
       "      <td>11.1</td>\n",
       "    </tr>\n",
       "  </tbody>\n",
       "</table>\n",
       "</div>"
      ],
      "text/plain": [
       "                         device_idhash  users_share\n",
       "event_name                                         \n",
       "MainScreenAppear                  7419         98.5\n",
       "OffersScreenAppear                4593         61.0\n",
       "CartScreenAppear                  3734         49.6\n",
       "PaymentScreenSuccessful           3539         47.0\n",
       "Tutorial                           840         11.1"
      ]
     },
     "execution_count": 26,
     "metadata": {},
     "output_type": "execute_result"
    }
   ],
   "source": [
    "# анализ числа уникальных пользователей в разрезе событий\n",
    "df_device_idhash = data.groupby('event_name').agg({'device_idhash': pd.Series.nunique}).sort_values(by = 'device_idhash', ascending=False)\n",
    "\n",
    "# количество уникальных пользователей\n",
    "device_idhash_all = data.groupby('device_idhash')['event_name'].count().shape[0]\n",
    "display(device_idhash_all)\n",
    "\n",
    "# доля пользователей в разрезе событий\n",
    "df_device_idhash['users_share'] = round(df_device_idhash['device_idhash'] / device_idhash_all * 100, 1)\n",
    "df_device_idhash"
   ]
  },
  {
   "cell_type": "markdown",
   "metadata": {},
   "source": [
    "Вывод: количество уникальных пользователей 7548 чел., их них:\n",
    "\n",
    "- 98.5% увидели главный экран приложения, событие MainScreenAppear\n",
    "- 61.0% перешли на экран заказа, событие OffersScreenAppear\n",
    "- 49.6% перешли на экран оплаты, событие CartScreenAppear\n",
    "- 47.0% произвели оплату, событие PaymentScreenSuccessful\n",
    "\n",
    "В дальнейшем 11,1% пользователей успешно прошли учебный трек. Это событие не относится к воронке и его можно исключить из анализа воронки событий."
   ]
  },
  {
   "cell_type": "code",
   "execution_count": 27,
   "metadata": {},
   "outputs": [
    {
     "data": {
      "text/html": [
       "<div>\n",
       "<style scoped>\n",
       "    .dataframe tbody tr th:only-of-type {\n",
       "        vertical-align: middle;\n",
       "    }\n",
       "\n",
       "    .dataframe tbody tr th {\n",
       "        vertical-align: top;\n",
       "    }\n",
       "\n",
       "    .dataframe thead th {\n",
       "        text-align: right;\n",
       "    }\n",
       "</style>\n",
       "<table border=\"1\" class=\"dataframe\">\n",
       "  <thead>\n",
       "    <tr style=\"text-align: right;\">\n",
       "      <th></th>\n",
       "      <th>device_idhash</th>\n",
       "      <th>users_share</th>\n",
       "      <th>device_idhash_past</th>\n",
       "      <th>users_share_past</th>\n",
       "    </tr>\n",
       "    <tr>\n",
       "      <th>event_name</th>\n",
       "      <th></th>\n",
       "      <th></th>\n",
       "      <th></th>\n",
       "      <th></th>\n",
       "    </tr>\n",
       "  </thead>\n",
       "  <tbody>\n",
       "    <tr>\n",
       "      <td>MainScreenAppear</td>\n",
       "      <td>7419</td>\n",
       "      <td>98.5</td>\n",
       "      <td>NaN</td>\n",
       "      <td>NaN</td>\n",
       "    </tr>\n",
       "    <tr>\n",
       "      <td>OffersScreenAppear</td>\n",
       "      <td>4593</td>\n",
       "      <td>61.0</td>\n",
       "      <td>7419.0</td>\n",
       "      <td>61.9</td>\n",
       "    </tr>\n",
       "    <tr>\n",
       "      <td>CartScreenAppear</td>\n",
       "      <td>3734</td>\n",
       "      <td>49.6</td>\n",
       "      <td>4593.0</td>\n",
       "      <td>81.3</td>\n",
       "    </tr>\n",
       "    <tr>\n",
       "      <td>PaymentScreenSuccessful</td>\n",
       "      <td>3539</td>\n",
       "      <td>47.0</td>\n",
       "      <td>3734.0</td>\n",
       "      <td>94.8</td>\n",
       "    </tr>\n",
       "    <tr>\n",
       "      <td>Tutorial</td>\n",
       "      <td>840</td>\n",
       "      <td>11.1</td>\n",
       "      <td>3539.0</td>\n",
       "      <td>23.7</td>\n",
       "    </tr>\n",
       "  </tbody>\n",
       "</table>\n",
       "</div>"
      ],
      "text/plain": [
       "                         device_idhash  users_share  device_idhash_past  \\\n",
       "event_name                                                                \n",
       "MainScreenAppear                  7419         98.5                 NaN   \n",
       "OffersScreenAppear                4593         61.0              7419.0   \n",
       "CartScreenAppear                  3734         49.6              4593.0   \n",
       "PaymentScreenSuccessful           3539         47.0              3734.0   \n",
       "Tutorial                           840         11.1              3539.0   \n",
       "\n",
       "                         users_share_past  \n",
       "event_name                                 \n",
       "MainScreenAppear                      NaN  \n",
       "OffersScreenAppear                   61.9  \n",
       "CartScreenAppear                     81.3  \n",
       "PaymentScreenSuccessful              94.8  \n",
       "Tutorial                             23.7  "
      ]
     },
     "execution_count": 27,
     "metadata": {},
     "output_type": "execute_result"
    }
   ],
   "source": [
    "# доля пользователей переходящих на следующий шаг воронки\n",
    "df_device_idhash['device_idhash_past'] = df_device_idhash['device_idhash'].shift(1, axis=0)\n",
    "df_device_idhash['users_share_past'] = round(df_device_idhash['device_idhash'] / df_device_idhash['device_idhash_past'] *100, 1)\n",
    "df_device_idhash"
   ]
  },
  {
   "cell_type": "code",
   "execution_count": 28,
   "metadata": {},
   "outputs": [
    {
     "data": {
      "text/plain": [
       "0.48"
      ]
     },
     "execution_count": 28,
     "metadata": {},
     "output_type": "execute_result"
    }
   ],
   "source": [
    "# конверсия с первого шага в последний\n",
    "users_share_across = round(\n",
    "    df_device_idhash.loc['PaymentScreenSuccessful', 'device_idhash'] /\n",
    "    df_device_idhash.loc['MainScreenAppear', 'device_idhash'],\n",
    "    2\n",
    ")\n",
    "users_share_across"
   ]
  },
  {
   "cell_type": "markdown",
   "metadata": {},
   "source": [
    "Вывод: С каждым шагом конверсия в следующий шаг повышается:\n",
    "\n",
    "- 62% перешли на экран заказа\n",
    "- 81% с экрана заказа перешли на форму оплаты\n",
    "- 95% успешно оплатили через форму оплаты\n",
    "\n",
    "Видим, что наибольшее количество пользователей теряется между первым и вторым шагом. В целом 48% пользователей доходит от первого шага до оплаты."
   ]
  },
  {
   "cell_type": "markdown",
   "metadata": {},
   "source": [
    "<a id='id_5'></a>\n",
    "## Изучение результата эксперимента"
   ]
  },
  {
   "cell_type": "code",
   "execution_count": 29,
   "metadata": {},
   "outputs": [
    {
     "data": {
      "text/html": [
       "<div>\n",
       "<style scoped>\n",
       "    .dataframe tbody tr th:only-of-type {\n",
       "        vertical-align: middle;\n",
       "    }\n",
       "\n",
       "    .dataframe tbody tr th {\n",
       "        vertical-align: top;\n",
       "    }\n",
       "\n",
       "    .dataframe thead th {\n",
       "        text-align: right;\n",
       "    }\n",
       "</style>\n",
       "<table border=\"1\" class=\"dataframe\">\n",
       "  <thead>\n",
       "    <tr style=\"text-align: right;\">\n",
       "      <th></th>\n",
       "      <th>device_idhash</th>\n",
       "    </tr>\n",
       "    <tr>\n",
       "      <th>exp_id</th>\n",
       "      <th></th>\n",
       "    </tr>\n",
       "  </thead>\n",
       "  <tbody>\n",
       "    <tr>\n",
       "      <td>248</td>\n",
       "      <td>2537</td>\n",
       "    </tr>\n",
       "    <tr>\n",
       "      <td>247</td>\n",
       "      <td>2513</td>\n",
       "    </tr>\n",
       "    <tr>\n",
       "      <td>246</td>\n",
       "      <td>2484</td>\n",
       "    </tr>\n",
       "  </tbody>\n",
       "</table>\n",
       "</div>"
      ],
      "text/plain": [
       "        device_idhash\n",
       "exp_id               \n",
       "248              2537\n",
       "247              2513\n",
       "246              2484"
      ]
     },
     "execution_count": 29,
     "metadata": {},
     "output_type": "execute_result"
    }
   ],
   "source": [
    "# количество пользователей в экспериментальных группах\n",
    "data.groupby('exp_id').agg({'device_idhash': pd.Series.nunique}).sort_values(by='device_idhash', ascending=False)"
   ]
  },
  {
   "cell_type": "code",
   "execution_count": 30,
   "metadata": {},
   "outputs": [
    {
     "data": {
      "text/plain": [
       "0.83"
      ]
     },
     "execution_count": 30,
     "metadata": {},
     "output_type": "execute_result"
    }
   ],
   "source": [
    "# оценка различия в группах A/A-теста\n",
    "round((2541-2520)/2520*100, 2)"
   ]
  },
  {
   "cell_type": "code",
   "execution_count": 31,
   "metadata": {},
   "outputs": [
    {
     "data": {
      "text/html": [
       "<div>\n",
       "<style scoped>\n",
       "    .dataframe tbody tr th:only-of-type {\n",
       "        vertical-align: middle;\n",
       "    }\n",
       "\n",
       "    .dataframe tbody tr th {\n",
       "        vertical-align: top;\n",
       "    }\n",
       "\n",
       "    .dataframe thead th {\n",
       "        text-align: right;\n",
       "    }\n",
       "</style>\n",
       "<table border=\"1\" class=\"dataframe\">\n",
       "  <thead>\n",
       "    <tr style=\"text-align: right;\">\n",
       "      <th></th>\n",
       "      <th>exp_id</th>\n",
       "    </tr>\n",
       "    <tr>\n",
       "      <th>device_idhash</th>\n",
       "      <th></th>\n",
       "    </tr>\n",
       "  </thead>\n",
       "  <tbody>\n",
       "  </tbody>\n",
       "</table>\n",
       "</div>"
      ],
      "text/plain": [
       "Empty DataFrame\n",
       "Columns: [exp_id]\n",
       "Index: []"
      ]
     },
     "execution_count": 31,
     "metadata": {},
     "output_type": "execute_result"
    }
   ],
   "source": [
    "# количество пользователей входящих более чем в одну группц\n",
    "data.groupby('device_idhash').agg({'exp_id': pd.Series.nunique}).query('exp_id >1')"
   ]
  },
  {
   "cell_type": "markdown",
   "metadata": {},
   "source": [
    "Вывод: количество пользователей в группах почти одинковое, отличается на 0.83%, что не превышает 1%. Все пользователи учетены в рамках одной группы."
   ]
  },
  {
   "cell_type": "markdown",
   "metadata": {},
   "source": [
    "<a id='id_5_1'></a>\n",
    "### Сравнение контрольных выборок 246 и 247"
   ]
  },
  {
   "cell_type": "markdown",
   "metadata": {},
   "source": [
    "Проверим разницу между выборками 246 и 247и рассчитаем статистическую значимость :\n",
    "\n",
    "1. Нулевая гипотеза: доля пользователей на каждом шаге в тестовых группах 246 и 247 одинакова.\n",
    "2. Альтенативная гипотеза: доля пользователей на каждом шаге в тестовых группах 246 и 247 не одинакова."
   ]
  },
  {
   "cell_type": "code",
   "execution_count": 32,
   "metadata": {},
   "outputs": [
    {
     "data": {
      "text/plain": [
       "2484"
      ]
     },
     "metadata": {},
     "output_type": "display_data"
    },
    {
     "data": {
      "text/html": [
       "<div>\n",
       "<style scoped>\n",
       "    .dataframe tbody tr th:only-of-type {\n",
       "        vertical-align: middle;\n",
       "    }\n",
       "\n",
       "    .dataframe tbody tr th {\n",
       "        vertical-align: top;\n",
       "    }\n",
       "\n",
       "    .dataframe thead th {\n",
       "        text-align: right;\n",
       "    }\n",
       "</style>\n",
       "<table border=\"1\" class=\"dataframe\">\n",
       "  <thead>\n",
       "    <tr style=\"text-align: right;\">\n",
       "      <th></th>\n",
       "      <th>device_idhash</th>\n",
       "      <th>share_246</th>\n",
       "    </tr>\n",
       "    <tr>\n",
       "      <th>event_name</th>\n",
       "      <th></th>\n",
       "      <th></th>\n",
       "    </tr>\n",
       "  </thead>\n",
       "  <tbody>\n",
       "    <tr>\n",
       "      <td>MainScreenAppear</td>\n",
       "      <td>2450</td>\n",
       "      <td>0.99</td>\n",
       "    </tr>\n",
       "    <tr>\n",
       "      <td>OffersScreenAppear</td>\n",
       "      <td>1542</td>\n",
       "      <td>0.62</td>\n",
       "    </tr>\n",
       "    <tr>\n",
       "      <td>CartScreenAppear</td>\n",
       "      <td>1266</td>\n",
       "      <td>0.51</td>\n",
       "    </tr>\n",
       "    <tr>\n",
       "      <td>PaymentScreenSuccessful</td>\n",
       "      <td>1200</td>\n",
       "      <td>0.48</td>\n",
       "    </tr>\n",
       "    <tr>\n",
       "      <td>Tutorial</td>\n",
       "      <td>278</td>\n",
       "      <td>0.11</td>\n",
       "    </tr>\n",
       "  </tbody>\n",
       "</table>\n",
       "</div>"
      ],
      "text/plain": [
       "                         device_idhash  share_246\n",
       "event_name                                       \n",
       "MainScreenAppear                  2450       0.99\n",
       "OffersScreenAppear                1542       0.62\n",
       "CartScreenAppear                  1266       0.51\n",
       "PaymentScreenSuccessful           1200       0.48\n",
       "Tutorial                           278       0.11"
      ]
     },
     "execution_count": 32,
     "metadata": {},
     "output_type": "execute_result"
    }
   ],
   "source": [
    "# анализ числа уникальных пользователей в разрезе событий выборки 246\n",
    "df_device_idhash_246 = data[data['exp_id'] == 246].groupby('event_name').agg({'device_idhash': pd.Series.nunique}).sort_values(by = 'device_idhash', ascending=False)\n",
    "\n",
    "# количество уникальных пользователей  группы 246\n",
    "device_idhash_all_246 = data[data['exp_id'] == 246].groupby('device_idhash')['event_name'].count().shape[0]\n",
    "display(device_idhash_all_246)\n",
    "\n",
    "# доля пользователей в разрезе событий по группе 246\n",
    "df_device_idhash_246['share_246'] = round(df_device_idhash_246['device_idhash'] / device_idhash_all_246 , 2)\n",
    "\n",
    "df_device_idhash_246"
   ]
  },
  {
   "cell_type": "code",
   "execution_count": 33,
   "metadata": {},
   "outputs": [
    {
     "data": {
      "text/plain": [
       "2513"
      ]
     },
     "metadata": {},
     "output_type": "display_data"
    },
    {
     "data": {
      "text/html": [
       "<div>\n",
       "<style scoped>\n",
       "    .dataframe tbody tr th:only-of-type {\n",
       "        vertical-align: middle;\n",
       "    }\n",
       "\n",
       "    .dataframe tbody tr th {\n",
       "        vertical-align: top;\n",
       "    }\n",
       "\n",
       "    .dataframe thead th {\n",
       "        text-align: right;\n",
       "    }\n",
       "</style>\n",
       "<table border=\"1\" class=\"dataframe\">\n",
       "  <thead>\n",
       "    <tr style=\"text-align: right;\">\n",
       "      <th></th>\n",
       "      <th>device_idhash</th>\n",
       "      <th>share_247</th>\n",
       "    </tr>\n",
       "    <tr>\n",
       "      <th>event_name</th>\n",
       "      <th></th>\n",
       "      <th></th>\n",
       "    </tr>\n",
       "  </thead>\n",
       "  <tbody>\n",
       "    <tr>\n",
       "      <td>MainScreenAppear</td>\n",
       "      <td>2476</td>\n",
       "      <td>0.985</td>\n",
       "    </tr>\n",
       "    <tr>\n",
       "      <td>OffersScreenAppear</td>\n",
       "      <td>1520</td>\n",
       "      <td>0.605</td>\n",
       "    </tr>\n",
       "    <tr>\n",
       "      <td>CartScreenAppear</td>\n",
       "      <td>1238</td>\n",
       "      <td>0.493</td>\n",
       "    </tr>\n",
       "    <tr>\n",
       "      <td>PaymentScreenSuccessful</td>\n",
       "      <td>1158</td>\n",
       "      <td>0.461</td>\n",
       "    </tr>\n",
       "    <tr>\n",
       "      <td>Tutorial</td>\n",
       "      <td>283</td>\n",
       "      <td>0.113</td>\n",
       "    </tr>\n",
       "  </tbody>\n",
       "</table>\n",
       "</div>"
      ],
      "text/plain": [
       "                         device_idhash  share_247\n",
       "event_name                                       \n",
       "MainScreenAppear                  2476      0.985\n",
       "OffersScreenAppear                1520      0.605\n",
       "CartScreenAppear                  1238      0.493\n",
       "PaymentScreenSuccessful           1158      0.461\n",
       "Tutorial                           283      0.113"
      ]
     },
     "execution_count": 33,
     "metadata": {},
     "output_type": "execute_result"
    }
   ],
   "source": [
    "# анализ числа уникальных пользователей в разрезе событий выборки 247\n",
    "df_device_idhash_247 = data[data['exp_id'] == 247].groupby('event_name').agg({'device_idhash': pd.Series.nunique}).sort_values(by = 'device_idhash', ascending=False)\n",
    "\n",
    "# количество уникальных пользователей группы 247\n",
    "device_idhash_all_247 = data[data['exp_id'] == 247].groupby('device_idhash')['event_name'].count().shape[0]\n",
    "display(device_idhash_all_247)\n",
    "\n",
    "# доля пользователей в разрезе событий по группе 247\n",
    "df_device_idhash_247['share_247'] = round(df_device_idhash_247['device_idhash'] / device_idhash_all_247, 3)\n",
    "\n",
    "df_device_idhash_247"
   ]
  },
  {
   "cell_type": "code",
   "execution_count": 34,
   "metadata": {},
   "outputs": [
    {
     "data": {
      "text/plain": [
       "4997"
      ]
     },
     "metadata": {},
     "output_type": "display_data"
    },
    {
     "data": {
      "text/html": [
       "<div>\n",
       "<style scoped>\n",
       "    .dataframe tbody tr th:only-of-type {\n",
       "        vertical-align: middle;\n",
       "    }\n",
       "\n",
       "    .dataframe tbody tr th {\n",
       "        vertical-align: top;\n",
       "    }\n",
       "\n",
       "    .dataframe thead th {\n",
       "        text-align: right;\n",
       "    }\n",
       "</style>\n",
       "<table border=\"1\" class=\"dataframe\">\n",
       "  <thead>\n",
       "    <tr style=\"text-align: right;\">\n",
       "      <th></th>\n",
       "      <th>device_idhash</th>\n",
       "      <th>share_246_247</th>\n",
       "    </tr>\n",
       "    <tr>\n",
       "      <th>event_name</th>\n",
       "      <th></th>\n",
       "      <th></th>\n",
       "    </tr>\n",
       "  </thead>\n",
       "  <tbody>\n",
       "    <tr>\n",
       "      <td>MainScreenAppear</td>\n",
       "      <td>4926</td>\n",
       "      <td>0.986</td>\n",
       "    </tr>\n",
       "    <tr>\n",
       "      <td>OffersScreenAppear</td>\n",
       "      <td>3062</td>\n",
       "      <td>0.613</td>\n",
       "    </tr>\n",
       "    <tr>\n",
       "      <td>CartScreenAppear</td>\n",
       "      <td>2504</td>\n",
       "      <td>0.501</td>\n",
       "    </tr>\n",
       "    <tr>\n",
       "      <td>PaymentScreenSuccessful</td>\n",
       "      <td>2358</td>\n",
       "      <td>0.472</td>\n",
       "    </tr>\n",
       "    <tr>\n",
       "      <td>Tutorial</td>\n",
       "      <td>561</td>\n",
       "      <td>0.112</td>\n",
       "    </tr>\n",
       "  </tbody>\n",
       "</table>\n",
       "</div>"
      ],
      "text/plain": [
       "                         device_idhash  share_246_247\n",
       "event_name                                           \n",
       "MainScreenAppear                  4926          0.986\n",
       "OffersScreenAppear                3062          0.613\n",
       "CartScreenAppear                  2504          0.501\n",
       "PaymentScreenSuccessful           2358          0.472\n",
       "Tutorial                           561          0.112"
      ]
     },
     "execution_count": 34,
     "metadata": {},
     "output_type": "execute_result"
    }
   ],
   "source": [
    "# анализ числа уникальных пользователей в разрезе событий комбинированной выборки 246 и 247\n",
    "df_device_idhash_246_247 = data.query('exp_id in [246, 247]').groupby('event_name').agg({'device_idhash': pd.Series.nunique}).sort_values(by = 'device_idhash', ascending=False)\n",
    "\n",
    "# количество уникальных пользователей групп 246 и 247\n",
    "device_idhash_all_246_247 = data.query('exp_id in [246, 247]').groupby('device_idhash')['event_name'].count().shape[0]\n",
    "display(device_idhash_all_246_247)\n",
    "\n",
    "# доля пользователей в разрезе событий по группам 246 и 247\n",
    "df_device_idhash_246_247['share_246_247'] = round(df_device_idhash_246_247['device_idhash'] / device_idhash_all_246_247, 3)\n",
    "\n",
    "df_device_idhash_246_247"
   ]
  },
  {
   "cell_type": "code",
   "execution_count": 35,
   "metadata": {
    "scrolled": true
   },
   "outputs": [
    {
     "data": {
      "text/html": [
       "<div>\n",
       "<style scoped>\n",
       "    .dataframe tbody tr th:only-of-type {\n",
       "        vertical-align: middle;\n",
       "    }\n",
       "\n",
       "    .dataframe tbody tr th {\n",
       "        vertical-align: top;\n",
       "    }\n",
       "\n",
       "    .dataframe thead th {\n",
       "        text-align: right;\n",
       "    }\n",
       "</style>\n",
       "<table border=\"1\" class=\"dataframe\">\n",
       "  <thead>\n",
       "    <tr style=\"text-align: right;\">\n",
       "      <th></th>\n",
       "      <th>device_idhash_246</th>\n",
       "      <th>share_246</th>\n",
       "      <th>device_idhash_247</th>\n",
       "      <th>share_247</th>\n",
       "      <th>device_idhash</th>\n",
       "      <th>share_246_247</th>\n",
       "    </tr>\n",
       "    <tr>\n",
       "      <th>event_name</th>\n",
       "      <th></th>\n",
       "      <th></th>\n",
       "      <th></th>\n",
       "      <th></th>\n",
       "      <th></th>\n",
       "      <th></th>\n",
       "    </tr>\n",
       "  </thead>\n",
       "  <tbody>\n",
       "    <tr>\n",
       "      <td>MainScreenAppear</td>\n",
       "      <td>2450</td>\n",
       "      <td>0.99</td>\n",
       "      <td>2476</td>\n",
       "      <td>0.985</td>\n",
       "      <td>4926</td>\n",
       "      <td>0.986</td>\n",
       "    </tr>\n",
       "    <tr>\n",
       "      <td>OffersScreenAppear</td>\n",
       "      <td>1542</td>\n",
       "      <td>0.62</td>\n",
       "      <td>1520</td>\n",
       "      <td>0.605</td>\n",
       "      <td>3062</td>\n",
       "      <td>0.613</td>\n",
       "    </tr>\n",
       "    <tr>\n",
       "      <td>CartScreenAppear</td>\n",
       "      <td>1266</td>\n",
       "      <td>0.51</td>\n",
       "      <td>1238</td>\n",
       "      <td>0.493</td>\n",
       "      <td>2504</td>\n",
       "      <td>0.501</td>\n",
       "    </tr>\n",
       "    <tr>\n",
       "      <td>PaymentScreenSuccessful</td>\n",
       "      <td>1200</td>\n",
       "      <td>0.48</td>\n",
       "      <td>1158</td>\n",
       "      <td>0.461</td>\n",
       "      <td>2358</td>\n",
       "      <td>0.472</td>\n",
       "    </tr>\n",
       "    <tr>\n",
       "      <td>Tutorial</td>\n",
       "      <td>278</td>\n",
       "      <td>0.11</td>\n",
       "      <td>283</td>\n",
       "      <td>0.113</td>\n",
       "      <td>561</td>\n",
       "      <td>0.112</td>\n",
       "    </tr>\n",
       "  </tbody>\n",
       "</table>\n",
       "</div>"
      ],
      "text/plain": [
       "                         device_idhash_246  share_246  device_idhash_247  \\\n",
       "event_name                                                                 \n",
       "MainScreenAppear                      2450       0.99               2476   \n",
       "OffersScreenAppear                    1542       0.62               1520   \n",
       "CartScreenAppear                      1266       0.51               1238   \n",
       "PaymentScreenSuccessful               1200       0.48               1158   \n",
       "Tutorial                               278       0.11                283   \n",
       "\n",
       "                         share_247  device_idhash  share_246_247  \n",
       "event_name                                                        \n",
       "MainScreenAppear             0.985           4926          0.986  \n",
       "OffersScreenAppear           0.605           3062          0.613  \n",
       "CartScreenAppear             0.493           2504          0.501  \n",
       "PaymentScreenSuccessful      0.461           2358          0.472  \n",
       "Tutorial                     0.113            561          0.112  "
      ]
     },
     "execution_count": 35,
     "metadata": {},
     "output_type": "execute_result"
    }
   ],
   "source": [
    "# сводная таблица конверсии\n",
    "df_device_group = (\n",
    "    df_device_idhash_246.merge(df_device_idhash_247, on='event_name', suffixes=('_246', '_247')).\n",
    "    merge(df_device_idhash_246_247, on='event_name')\n",
    ")\n",
    "# копия таблицы конверсии контрольных групп\n",
    "df_device_group_a = df_device_group\n",
    "df_device_group"
   ]
  },
  {
   "cell_type": "code",
   "execution_count": 51,
   "metadata": {},
   "outputs": [
    {
     "data": {
      "text/plain": [
       "'Уровень стат. значимости: 0.31%'"
      ]
     },
     "metadata": {},
     "output_type": "display_data"
    },
    {
     "name": "stdout",
     "output_type": "stream",
     "text": [
      "p-значение MainScreenAppear:  13.53 %\n",
      "Не получилось отвергнуть нулевую гипотезу шага MainScreenAppear, нет оснований считать доли разными\n",
      "p-значение OffersScreenAppear:  39.42 %\n",
      "Не получилось отвергнуть нулевую гипотезу шага OffersScreenAppear, нет оснований считать доли разными\n",
      "p-значение CartScreenAppear:  39.5 %\n",
      "Не получилось отвергнуть нулевую гипотезу шага CartScreenAppear, нет оснований считать доли разными\n",
      "p-значение PaymentScreenSuccessful:  35.55 %\n",
      "Не получилось отвергнуть нулевую гипотезу шага PaymentScreenSuccessful, нет оснований считать доли разными\n",
      "p-значение Tutorial:  91.03 %\n",
      "Не получилось отвергнуть нулевую гипотезу шага Tutorial, нет оснований считать доли разными\n"
     ]
    }
   ],
   "source": [
    "# сравним конверсию по шагам для каждой из групп\n",
    "\n",
    "alpha = .05 / 16 # критический уровень статистической значимости, с учетом поправки Бонферони для 4 проверок по 4 группам\n",
    "display(f'Уровень стат. значимости: {round(alpha * 100, 2)}%')\n",
    "# перечень шагов воронки событий\n",
    "steps = ['MainScreenAppear', 'OffersScreenAppear', 'CartScreenAppear', 'PaymentScreenSuccessful', 'Tutorial']\n",
    "# список долей двух сравниваемых групп и суммарной доли этих групп\n",
    "share = ['share_246', 'share_247', 'share_246_247']\n",
    "# список количества пользователей в двух сравниваемых группах\n",
    "device = ['device_idhash_246', 'device_idhash_247']\n",
    "\n",
    "# функция проверки статистик\n",
    "def stat_check(df_device_group, steps, share, device):\n",
    "    for step in steps:\n",
    "        # пропорция успехов в группе A\n",
    "        p1 = df_device_group.loc[step, share[0]]\n",
    "        # пропорция успехов в группе B\n",
    "        p2 = df_device_group.loc[step, share[1]]\n",
    "        # пропорция успехов в комбинированном датасете\n",
    "        p_combined = df_device_group.loc[step, share[2]]\n",
    "        # разница пропорций в датасетах\n",
    "        difference = p1 - p2\n",
    "        n1 = df_device_group.loc[step, device[0]]\n",
    "        n2 = df_device_group.loc[step,  device[1]]\n",
    "        # считаем статистику в ст.отклонениях стандартного нормального распределения\n",
    "        z_value = difference / mth.sqrt(p_combined * (1 - p_combined) * (1 / n1 + 1 / n2))\n",
    "        # задаем стандартное нормальное распределение (среднее 0, ст.отклонение 1)\n",
    "        distr = st.norm(0, 1)\n",
    "        p_value = (1 - distr.cdf(abs(z_value))) * 2\n",
    "        print(f'p-значение {step}: ', round(p_value * 100, 2), '%')\n",
    "        if p_value < alpha:\n",
    "            print(f'Отвергаем нулевую гипотезу шага {step}: между долями есть значимая разница')\n",
    "        else:\n",
    "            print(\n",
    "            f'Не получилось отвергнуть нулевую гипотезу шага {step}, нет оснований считать доли разными'\n",
    "            )\n",
    "\n",
    "# расчет статистик для контрольных групп 246 и 247\n",
    "stat_check(df_device_group, steps, share, device)"
   ]
  },
  {
   "cell_type": "markdown",
   "metadata": {},
   "source": [
    "Вывод: p-value выше уровня статистической значимости 0,31%, следовательно нет оснований отвергнуть нулевую гипотезу что доля пользователей на каждом шаге в тестовых группах 246 и 247 одинакова. Контрольные группы для анализа воронки принимаем статистически равными, разбиение на группы работает корректно."
   ]
  },
  {
   "cell_type": "markdown",
   "metadata": {},
   "source": [
    "Далее Сравним результаты экспериментальной группы с контрольными группами."
   ]
  },
  {
   "cell_type": "markdown",
   "metadata": {},
   "source": [
    "<a id='id_5_2'></a>\n",
    "### Сравнение контрольной выборки 246 и тестовой 248"
   ]
  },
  {
   "cell_type": "markdown",
   "metadata": {},
   "source": [
    "Проверим разницу между контрольной выборки 246 и тестовой 248, для чего рассчитаем статистическую значимость :\n",
    "\n",
    "1. Нулевая гипотеза: доля пользователей на каждом шаге в  контрольной группе 246 и тестовой группе 248 одинакова.\n",
    "2. Альтенативная гипотеза: доля пользователей на каждом шаге в контрольной групп 246 и тестовой группе 248 не одинакова."
   ]
  },
  {
   "cell_type": "code",
   "execution_count": 37,
   "metadata": {},
   "outputs": [
    {
     "data": {
      "text/plain": [
       "2537"
      ]
     },
     "metadata": {},
     "output_type": "display_data"
    },
    {
     "data": {
      "text/html": [
       "<div>\n",
       "<style scoped>\n",
       "    .dataframe tbody tr th:only-of-type {\n",
       "        vertical-align: middle;\n",
       "    }\n",
       "\n",
       "    .dataframe tbody tr th {\n",
       "        vertical-align: top;\n",
       "    }\n",
       "\n",
       "    .dataframe thead th {\n",
       "        text-align: right;\n",
       "    }\n",
       "</style>\n",
       "<table border=\"1\" class=\"dataframe\">\n",
       "  <thead>\n",
       "    <tr style=\"text-align: right;\">\n",
       "      <th></th>\n",
       "      <th>device_idhash</th>\n",
       "      <th>share_248</th>\n",
       "    </tr>\n",
       "    <tr>\n",
       "      <th>event_name</th>\n",
       "      <th></th>\n",
       "      <th></th>\n",
       "    </tr>\n",
       "  </thead>\n",
       "  <tbody>\n",
       "    <tr>\n",
       "      <td>MainScreenAppear</td>\n",
       "      <td>2493</td>\n",
       "      <td>0.983</td>\n",
       "    </tr>\n",
       "    <tr>\n",
       "      <td>OffersScreenAppear</td>\n",
       "      <td>1531</td>\n",
       "      <td>0.603</td>\n",
       "    </tr>\n",
       "    <tr>\n",
       "      <td>CartScreenAppear</td>\n",
       "      <td>1230</td>\n",
       "      <td>0.485</td>\n",
       "    </tr>\n",
       "    <tr>\n",
       "      <td>PaymentScreenSuccessful</td>\n",
       "      <td>1181</td>\n",
       "      <td>0.466</td>\n",
       "    </tr>\n",
       "    <tr>\n",
       "      <td>Tutorial</td>\n",
       "      <td>279</td>\n",
       "      <td>0.110</td>\n",
       "    </tr>\n",
       "  </tbody>\n",
       "</table>\n",
       "</div>"
      ],
      "text/plain": [
       "                         device_idhash  share_248\n",
       "event_name                                       \n",
       "MainScreenAppear                  2493      0.983\n",
       "OffersScreenAppear                1531      0.603\n",
       "CartScreenAppear                  1230      0.485\n",
       "PaymentScreenSuccessful           1181      0.466\n",
       "Tutorial                           279      0.110"
      ]
     },
     "execution_count": 37,
     "metadata": {},
     "output_type": "execute_result"
    }
   ],
   "source": [
    "# анализ числа уникальных пользователей в разрезе событий выборки тестовой группы 248\n",
    "df_device_idhash_248 = data[data['exp_id'] == 248].groupby('event_name').agg({'device_idhash': pd.Series.nunique}).sort_values(by = 'device_idhash', ascending=False)\n",
    "\n",
    "# количество уникальных пользователей группы 248\n",
    "device_idhash_all_248 = data[data['exp_id'] == 248].groupby('device_idhash')['event_name'].count().shape[0]\n",
    "display(device_idhash_all_248)\n",
    "\n",
    "# доля пользователей в разрезе событий по группе 248\n",
    "df_device_idhash_248['share_248'] = round(df_device_idhash_248['device_idhash'] / device_idhash_all_248, 3)\n",
    "\n",
    "df_device_idhash_248"
   ]
  },
  {
   "cell_type": "code",
   "execution_count": 38,
   "metadata": {},
   "outputs": [
    {
     "data": {
      "text/plain": [
       "5021"
      ]
     },
     "metadata": {},
     "output_type": "display_data"
    },
    {
     "data": {
      "text/html": [
       "<div>\n",
       "<style scoped>\n",
       "    .dataframe tbody tr th:only-of-type {\n",
       "        vertical-align: middle;\n",
       "    }\n",
       "\n",
       "    .dataframe tbody tr th {\n",
       "        vertical-align: top;\n",
       "    }\n",
       "\n",
       "    .dataframe thead th {\n",
       "        text-align: right;\n",
       "    }\n",
       "</style>\n",
       "<table border=\"1\" class=\"dataframe\">\n",
       "  <thead>\n",
       "    <tr style=\"text-align: right;\">\n",
       "      <th></th>\n",
       "      <th>device_idhash</th>\n",
       "      <th>share_246_248</th>\n",
       "    </tr>\n",
       "    <tr>\n",
       "      <th>event_name</th>\n",
       "      <th></th>\n",
       "      <th></th>\n",
       "    </tr>\n",
       "  </thead>\n",
       "  <tbody>\n",
       "    <tr>\n",
       "      <td>MainScreenAppear</td>\n",
       "      <td>4943</td>\n",
       "      <td>0.984</td>\n",
       "    </tr>\n",
       "    <tr>\n",
       "      <td>OffersScreenAppear</td>\n",
       "      <td>3073</td>\n",
       "      <td>0.612</td>\n",
       "    </tr>\n",
       "    <tr>\n",
       "      <td>CartScreenAppear</td>\n",
       "      <td>2496</td>\n",
       "      <td>0.497</td>\n",
       "    </tr>\n",
       "    <tr>\n",
       "      <td>PaymentScreenSuccessful</td>\n",
       "      <td>2381</td>\n",
       "      <td>0.474</td>\n",
       "    </tr>\n",
       "    <tr>\n",
       "      <td>Tutorial</td>\n",
       "      <td>557</td>\n",
       "      <td>0.111</td>\n",
       "    </tr>\n",
       "  </tbody>\n",
       "</table>\n",
       "</div>"
      ],
      "text/plain": [
       "                         device_idhash  share_246_248\n",
       "event_name                                           \n",
       "MainScreenAppear                  4943          0.984\n",
       "OffersScreenAppear                3073          0.612\n",
       "CartScreenAppear                  2496          0.497\n",
       "PaymentScreenSuccessful           2381          0.474\n",
       "Tutorial                           557          0.111"
      ]
     },
     "execution_count": 38,
     "metadata": {},
     "output_type": "execute_result"
    }
   ],
   "source": [
    "# анализ числа уникальных пользователей в разрезе событий комбинированной выборки 246 и 248\n",
    "df_device_idhash_246_248 = data.query('exp_id in [246, 248]').groupby('event_name').agg({'device_idhash': pd.Series.nunique}).sort_values(by = 'device_idhash', ascending=False)\n",
    "\n",
    "# количество уникальных пользователей групп 246 и 248\n",
    "device_idhash_all_246_248 = data.query('exp_id in [246, 248]').groupby('device_idhash')['event_name'].count().shape[0]\n",
    "display(device_idhash_all_246_248)\n",
    "\n",
    "# доля пользователей в разрезе событий по группам 246 и 248\n",
    "df_device_idhash_246_248['share_246_248'] = round(df_device_idhash_246_248['device_idhash'] / device_idhash_all_246_248, 3)\n",
    "\n",
    "df_device_idhash_246_248"
   ]
  },
  {
   "cell_type": "code",
   "execution_count": 39,
   "metadata": {},
   "outputs": [
    {
     "data": {
      "text/html": [
       "<div>\n",
       "<style scoped>\n",
       "    .dataframe tbody tr th:only-of-type {\n",
       "        vertical-align: middle;\n",
       "    }\n",
       "\n",
       "    .dataframe tbody tr th {\n",
       "        vertical-align: top;\n",
       "    }\n",
       "\n",
       "    .dataframe thead th {\n",
       "        text-align: right;\n",
       "    }\n",
       "</style>\n",
       "<table border=\"1\" class=\"dataframe\">\n",
       "  <thead>\n",
       "    <tr style=\"text-align: right;\">\n",
       "      <th></th>\n",
       "      <th>device_idhash_246</th>\n",
       "      <th>share_246</th>\n",
       "      <th>device_idhash_248</th>\n",
       "      <th>share_248</th>\n",
       "      <th>device_idhash</th>\n",
       "      <th>share_246_248</th>\n",
       "    </tr>\n",
       "    <tr>\n",
       "      <th>event_name</th>\n",
       "      <th></th>\n",
       "      <th></th>\n",
       "      <th></th>\n",
       "      <th></th>\n",
       "      <th></th>\n",
       "      <th></th>\n",
       "    </tr>\n",
       "  </thead>\n",
       "  <tbody>\n",
       "    <tr>\n",
       "      <td>MainScreenAppear</td>\n",
       "      <td>2450</td>\n",
       "      <td>0.99</td>\n",
       "      <td>2493</td>\n",
       "      <td>0.983</td>\n",
       "      <td>4943</td>\n",
       "      <td>0.984</td>\n",
       "    </tr>\n",
       "    <tr>\n",
       "      <td>OffersScreenAppear</td>\n",
       "      <td>1542</td>\n",
       "      <td>0.62</td>\n",
       "      <td>1531</td>\n",
       "      <td>0.603</td>\n",
       "      <td>3073</td>\n",
       "      <td>0.612</td>\n",
       "    </tr>\n",
       "    <tr>\n",
       "      <td>CartScreenAppear</td>\n",
       "      <td>1266</td>\n",
       "      <td>0.51</td>\n",
       "      <td>1230</td>\n",
       "      <td>0.485</td>\n",
       "      <td>2496</td>\n",
       "      <td>0.497</td>\n",
       "    </tr>\n",
       "    <tr>\n",
       "      <td>PaymentScreenSuccessful</td>\n",
       "      <td>1200</td>\n",
       "      <td>0.48</td>\n",
       "      <td>1181</td>\n",
       "      <td>0.466</td>\n",
       "      <td>2381</td>\n",
       "      <td>0.474</td>\n",
       "    </tr>\n",
       "    <tr>\n",
       "      <td>Tutorial</td>\n",
       "      <td>278</td>\n",
       "      <td>0.11</td>\n",
       "      <td>279</td>\n",
       "      <td>0.110</td>\n",
       "      <td>557</td>\n",
       "      <td>0.111</td>\n",
       "    </tr>\n",
       "  </tbody>\n",
       "</table>\n",
       "</div>"
      ],
      "text/plain": [
       "                         device_idhash_246  share_246  device_idhash_248  \\\n",
       "event_name                                                                 \n",
       "MainScreenAppear                      2450       0.99               2493   \n",
       "OffersScreenAppear                    1542       0.62               1531   \n",
       "CartScreenAppear                      1266       0.51               1230   \n",
       "PaymentScreenSuccessful               1200       0.48               1181   \n",
       "Tutorial                               278       0.11                279   \n",
       "\n",
       "                         share_248  device_idhash  share_246_248  \n",
       "event_name                                                        \n",
       "MainScreenAppear             0.983           4943          0.984  \n",
       "OffersScreenAppear           0.603           3073          0.612  \n",
       "CartScreenAppear             0.485           2496          0.497  \n",
       "PaymentScreenSuccessful      0.466           2381          0.474  \n",
       "Tutorial                     0.110            557          0.111  "
      ]
     },
     "execution_count": 39,
     "metadata": {},
     "output_type": "execute_result"
    }
   ],
   "source": [
    "# сводная таблица конверсии тестовой и контрольной 246 групп\n",
    "\n",
    "df_device_group = (\n",
    "    df_device_idhash_246.merge(df_device_idhash_248, on='event_name', suffixes=('_246', '_248')).\n",
    "    merge(df_device_idhash_246_248, on='event_name')\n",
    ")\n",
    "df_device_group"
   ]
  },
  {
   "cell_type": "code",
   "execution_count": 40,
   "metadata": {},
   "outputs": [
    {
     "name": "stdout",
     "output_type": "stream",
     "text": [
      "0.99 0.983 2450 2493\n",
      "p-значение MainScreenAppear:  4.99 %\n",
      "Не получилось отвергнуть нулевую гипотезу шага MainScreenAppear, нет оснований считать доли разными\n",
      "0.62 0.603 1542 1531\n",
      "p-значение OffersScreenAppear:  33.36 %\n",
      "Не получилось отвергнуть нулевую гипотезу шага OffersScreenAppear, нет оснований считать доли разными\n",
      "0.51 0.485 1266 1230\n",
      "p-значение CartScreenAppear:  21.17 %\n",
      "Не получилось отвергнуть нулевую гипотезу шага CartScreenAppear, нет оснований считать доли разными\n",
      "0.48 0.466 1200 1181\n",
      "p-значение PaymentScreenSuccessful:  49.39 %\n",
      "Не получилось отвергнуть нулевую гипотезу шага PaymentScreenSuccessful, нет оснований считать доли разными\n",
      "0.11 0.11 278 279\n",
      "p-значение Tutorial:  100.0 %\n",
      "Не получилось отвергнуть нулевую гипотезу шага Tutorial, нет оснований считать доли разными\n"
     ]
    }
   ],
   "source": [
    "# сравним доли экспериментальной группы 248 с контрольной группой 246\n",
    "\n",
    "# список долей двух сравниваемых групп и суммарной доли этих групп\n",
    "share = ['share_246', 'share_248', 'share_246_248']\n",
    "# список количества пользователей в двух сравниваемых группах\n",
    "device = ['device_idhash_246', 'device_idhash_248']\n",
    "\n",
    "# расчет статистик для контрольных групп 246 и 248\n",
    "stat_check(df_device_group, steps, share, device)"
   ]
  },
  {
   "cell_type": "markdown",
   "metadata": {},
   "source": [
    "Вывод: p-value выше уровня статистической значимости 0,31%, следовательно нет оснований отвергнуть нулевую гипотезу что доля пользователей на каждом шаге в контрольной группе 246 и тестовой 248 одинакова."
   ]
  },
  {
   "cell_type": "markdown",
   "metadata": {},
   "source": [
    "<a id='id_5_3'></a>\n",
    "### Сравнение контрольной выборки 247 и тестовой 248"
   ]
  },
  {
   "cell_type": "markdown",
   "metadata": {},
   "source": [
    "Проверим разницу между контрольной выборкой 247 и тестовой 248, рассчитаем статистическую значимость :\n",
    "\n",
    "1. Нулевая гипотеза: доля пользователей на каждом шаге в  контрольной группе 247 и тестовой группе 248 одинакова.\n",
    "2. Альтенативная гипотеза: доля пользователей на каждом шаге в контрольной групп 247 и тестовой группе 248 не одинакова."
   ]
  },
  {
   "cell_type": "code",
   "execution_count": 41,
   "metadata": {},
   "outputs": [
    {
     "data": {
      "text/plain": [
       "5050"
      ]
     },
     "metadata": {},
     "output_type": "display_data"
    },
    {
     "data": {
      "text/html": [
       "<div>\n",
       "<style scoped>\n",
       "    .dataframe tbody tr th:only-of-type {\n",
       "        vertical-align: middle;\n",
       "    }\n",
       "\n",
       "    .dataframe tbody tr th {\n",
       "        vertical-align: top;\n",
       "    }\n",
       "\n",
       "    .dataframe thead th {\n",
       "        text-align: right;\n",
       "    }\n",
       "</style>\n",
       "<table border=\"1\" class=\"dataframe\">\n",
       "  <thead>\n",
       "    <tr style=\"text-align: right;\">\n",
       "      <th></th>\n",
       "      <th>device_idhash</th>\n",
       "      <th>share_247_248</th>\n",
       "    </tr>\n",
       "    <tr>\n",
       "      <th>event_name</th>\n",
       "      <th></th>\n",
       "      <th></th>\n",
       "    </tr>\n",
       "  </thead>\n",
       "  <tbody>\n",
       "    <tr>\n",
       "      <td>MainScreenAppear</td>\n",
       "      <td>4969</td>\n",
       "      <td>0.984</td>\n",
       "    </tr>\n",
       "    <tr>\n",
       "      <td>OffersScreenAppear</td>\n",
       "      <td>3051</td>\n",
       "      <td>0.604</td>\n",
       "    </tr>\n",
       "    <tr>\n",
       "      <td>CartScreenAppear</td>\n",
       "      <td>2468</td>\n",
       "      <td>0.489</td>\n",
       "    </tr>\n",
       "    <tr>\n",
       "      <td>PaymentScreenSuccessful</td>\n",
       "      <td>2339</td>\n",
       "      <td>0.463</td>\n",
       "    </tr>\n",
       "    <tr>\n",
       "      <td>Tutorial</td>\n",
       "      <td>562</td>\n",
       "      <td>0.111</td>\n",
       "    </tr>\n",
       "  </tbody>\n",
       "</table>\n",
       "</div>"
      ],
      "text/plain": [
       "                         device_idhash  share_247_248\n",
       "event_name                                           \n",
       "MainScreenAppear                  4969          0.984\n",
       "OffersScreenAppear                3051          0.604\n",
       "CartScreenAppear                  2468          0.489\n",
       "PaymentScreenSuccessful           2339          0.463\n",
       "Tutorial                           562          0.111"
      ]
     },
     "execution_count": 41,
     "metadata": {},
     "output_type": "execute_result"
    }
   ],
   "source": [
    "# анализ числа уникальных пользователей в разрезе событий комбинированной выборки 247 и 248\n",
    "df_device_idhash_247_248 = data.query('exp_id in [247, 248]').groupby('event_name').agg({'device_idhash': pd.Series.nunique}).sort_values(by = 'device_idhash', ascending=False)\n",
    "\n",
    "# количество уникальных пользователей групп 247 и 248\n",
    "device_idhash_all_247_248 = data.query('exp_id in [247, 248]').groupby('device_idhash')['event_name'].count().shape[0]\n",
    "display(device_idhash_all_247_248)\n",
    "\n",
    "# доля пользователей в разрезе событий по группам 247 и 248\n",
    "df_device_idhash_247_248['share_247_248'] = round(df_device_idhash_247_248['device_idhash'] / device_idhash_all_247_248, 3)\n",
    "\n",
    "df_device_idhash_247_248"
   ]
  },
  {
   "cell_type": "code",
   "execution_count": 42,
   "metadata": {},
   "outputs": [
    {
     "data": {
      "text/html": [
       "<div>\n",
       "<style scoped>\n",
       "    .dataframe tbody tr th:only-of-type {\n",
       "        vertical-align: middle;\n",
       "    }\n",
       "\n",
       "    .dataframe tbody tr th {\n",
       "        vertical-align: top;\n",
       "    }\n",
       "\n",
       "    .dataframe thead th {\n",
       "        text-align: right;\n",
       "    }\n",
       "</style>\n",
       "<table border=\"1\" class=\"dataframe\">\n",
       "  <thead>\n",
       "    <tr style=\"text-align: right;\">\n",
       "      <th></th>\n",
       "      <th>device_idhash_247</th>\n",
       "      <th>share_247</th>\n",
       "      <th>device_idhash_248</th>\n",
       "      <th>share_248</th>\n",
       "      <th>device_idhash</th>\n",
       "      <th>share_247_248</th>\n",
       "    </tr>\n",
       "    <tr>\n",
       "      <th>event_name</th>\n",
       "      <th></th>\n",
       "      <th></th>\n",
       "      <th></th>\n",
       "      <th></th>\n",
       "      <th></th>\n",
       "      <th></th>\n",
       "    </tr>\n",
       "  </thead>\n",
       "  <tbody>\n",
       "    <tr>\n",
       "      <td>MainScreenAppear</td>\n",
       "      <td>2476</td>\n",
       "      <td>0.985</td>\n",
       "      <td>2493</td>\n",
       "      <td>0.983</td>\n",
       "      <td>4969</td>\n",
       "      <td>0.984</td>\n",
       "    </tr>\n",
       "    <tr>\n",
       "      <td>OffersScreenAppear</td>\n",
       "      <td>1520</td>\n",
       "      <td>0.605</td>\n",
       "      <td>1531</td>\n",
       "      <td>0.603</td>\n",
       "      <td>3051</td>\n",
       "      <td>0.604</td>\n",
       "    </tr>\n",
       "    <tr>\n",
       "      <td>CartScreenAppear</td>\n",
       "      <td>1238</td>\n",
       "      <td>0.493</td>\n",
       "      <td>1230</td>\n",
       "      <td>0.485</td>\n",
       "      <td>2468</td>\n",
       "      <td>0.489</td>\n",
       "    </tr>\n",
       "    <tr>\n",
       "      <td>PaymentScreenSuccessful</td>\n",
       "      <td>1158</td>\n",
       "      <td>0.461</td>\n",
       "      <td>1181</td>\n",
       "      <td>0.466</td>\n",
       "      <td>2339</td>\n",
       "      <td>0.463</td>\n",
       "    </tr>\n",
       "    <tr>\n",
       "      <td>Tutorial</td>\n",
       "      <td>283</td>\n",
       "      <td>0.113</td>\n",
       "      <td>279</td>\n",
       "      <td>0.110</td>\n",
       "      <td>562</td>\n",
       "      <td>0.111</td>\n",
       "    </tr>\n",
       "  </tbody>\n",
       "</table>\n",
       "</div>"
      ],
      "text/plain": [
       "                         device_idhash_247  share_247  device_idhash_248  \\\n",
       "event_name                                                                 \n",
       "MainScreenAppear                      2476      0.985               2493   \n",
       "OffersScreenAppear                    1520      0.605               1531   \n",
       "CartScreenAppear                      1238      0.493               1230   \n",
       "PaymentScreenSuccessful               1158      0.461               1181   \n",
       "Tutorial                               283      0.113                279   \n",
       "\n",
       "                         share_248  device_idhash  share_247_248  \n",
       "event_name                                                        \n",
       "MainScreenAppear             0.983           4969          0.984  \n",
       "OffersScreenAppear           0.603           3051          0.604  \n",
       "CartScreenAppear             0.485           2468          0.489  \n",
       "PaymentScreenSuccessful      0.466           2339          0.463  \n",
       "Tutorial                     0.110            562          0.111  "
      ]
     },
     "execution_count": 42,
     "metadata": {},
     "output_type": "execute_result"
    }
   ],
   "source": [
    "# сводная таблица конверсии тестовой и контрольной 247 групп\n",
    "\n",
    "df_device_group = (\n",
    "    df_device_idhash_247.merge(df_device_idhash_248, on='event_name', suffixes=('_247', '_248')).\n",
    "    merge(df_device_idhash_247_248, on='event_name')\n",
    ")\n",
    "df_device_group"
   ]
  },
  {
   "cell_type": "code",
   "execution_count": 43,
   "metadata": {},
   "outputs": [
    {
     "name": "stdout",
     "output_type": "stream",
     "text": [
      "0.985 0.983 2476 2493\n",
      "p-значение MainScreenAppear:  57.43 %\n",
      "Не получилось отвергнуть нулевую гипотезу шага MainScreenAppear, нет оснований считать доли разными\n",
      "0.605 0.603 1520 1531\n",
      "p-значение OffersScreenAppear:  91.01 %\n",
      "Не получилось отвергнуть нулевую гипотезу шага OffersScreenAppear, нет оснований считать доли разными\n",
      "0.493 0.485 1238 1230\n",
      "p-значение CartScreenAppear:  69.1 %\n",
      "Не получилось отвергнуть нулевую гипотезу шага CartScreenAppear, нет оснований считать доли разными\n",
      "0.461 0.466 1158 1181\n",
      "p-значение PaymentScreenSuccessful:  80.84 %\n",
      "Не получилось отвергнуть нулевую гипотезу шага PaymentScreenSuccessful, нет оснований считать доли разными\n",
      "0.113 0.11 283 279\n",
      "p-значение Tutorial:  90.99 %\n",
      "Не получилось отвергнуть нулевую гипотезу шага Tutorial, нет оснований считать доли разными\n"
     ]
    }
   ],
   "source": [
    "# сравним конверсию экспериментальной группы по шагам с контрольной группой 247\n",
    "\n",
    "# список долей двух сравниваемых групп и суммарной доли этих групп\n",
    "share = ['share_247', 'share_248', 'share_247_248']\n",
    "# список количества пользователей в двух сравниваемых группах\n",
    "device = ['device_idhash_247', 'device_idhash_248']\n",
    "\n",
    "# расчет статистик для контрольных групп 247 и 248\n",
    "stat_check(df_device_group, steps, share, device)"
   ]
  },
  {
   "cell_type": "markdown",
   "metadata": {},
   "source": [
    "Вывод: p-value выше уровня статистической значимости 0,31%, следовательно нет оснований отвергнуть нулевую гипотезу что доля пользователей на каждом шаге в контрольной группе 246 и тестовой 248 одинакова."
   ]
  },
  {
   "cell_type": "markdown",
   "metadata": {},
   "source": [
    "<a id='id_5_4'></a>\n",
    "### Сравнение объединенных контрольных выборок и тестовой 248"
   ]
  },
  {
   "cell_type": "markdown",
   "metadata": {},
   "source": [
    "Проверим разницу между объединенной контрольной выборкой 246 и 247 групп и тестовой 248, рассчитаем статистическую значимость :\n",
    "\n",
    "1. Нулевая гипотеза: доля пользователей на каждом шаге в объединенной контрольной группе и тестовой группе 248 одинакова.\n",
    "2. Альтенативная гипотеза: доля пользователей на каждом шаге в объединенной контрольной группе и тестовой группе 248 не одинакова."
   ]
  },
  {
   "cell_type": "markdown",
   "metadata": {},
   "source": [
    "Объединим контрольные группы 246 и 247."
   ]
  },
  {
   "cell_type": "code",
   "execution_count": 44,
   "metadata": {},
   "outputs": [
    {
     "data": {
      "text/html": [
       "<div>\n",
       "<style scoped>\n",
       "    .dataframe tbody tr th:only-of-type {\n",
       "        vertical-align: middle;\n",
       "    }\n",
       "\n",
       "    .dataframe tbody tr th {\n",
       "        vertical-align: top;\n",
       "    }\n",
       "\n",
       "    .dataframe thead th {\n",
       "        text-align: right;\n",
       "    }\n",
       "</style>\n",
       "<table border=\"1\" class=\"dataframe\">\n",
       "  <thead>\n",
       "    <tr style=\"text-align: right;\">\n",
       "      <th></th>\n",
       "      <th>device_idhash_246</th>\n",
       "      <th>share_246</th>\n",
       "      <th>device_idhash_247</th>\n",
       "      <th>share_247</th>\n",
       "      <th>device_idhash</th>\n",
       "      <th>share_246_247</th>\n",
       "    </tr>\n",
       "    <tr>\n",
       "      <th>event_name</th>\n",
       "      <th></th>\n",
       "      <th></th>\n",
       "      <th></th>\n",
       "      <th></th>\n",
       "      <th></th>\n",
       "      <th></th>\n",
       "    </tr>\n",
       "  </thead>\n",
       "  <tbody>\n",
       "    <tr>\n",
       "      <td>MainScreenAppear</td>\n",
       "      <td>2450</td>\n",
       "      <td>0.99</td>\n",
       "      <td>2476</td>\n",
       "      <td>0.985</td>\n",
       "      <td>4926</td>\n",
       "      <td>0.986</td>\n",
       "    </tr>\n",
       "    <tr>\n",
       "      <td>OffersScreenAppear</td>\n",
       "      <td>1542</td>\n",
       "      <td>0.62</td>\n",
       "      <td>1520</td>\n",
       "      <td>0.605</td>\n",
       "      <td>3062</td>\n",
       "      <td>0.613</td>\n",
       "    </tr>\n",
       "    <tr>\n",
       "      <td>CartScreenAppear</td>\n",
       "      <td>1266</td>\n",
       "      <td>0.51</td>\n",
       "      <td>1238</td>\n",
       "      <td>0.493</td>\n",
       "      <td>2504</td>\n",
       "      <td>0.501</td>\n",
       "    </tr>\n",
       "    <tr>\n",
       "      <td>PaymentScreenSuccessful</td>\n",
       "      <td>1200</td>\n",
       "      <td>0.48</td>\n",
       "      <td>1158</td>\n",
       "      <td>0.461</td>\n",
       "      <td>2358</td>\n",
       "      <td>0.472</td>\n",
       "    </tr>\n",
       "    <tr>\n",
       "      <td>Tutorial</td>\n",
       "      <td>278</td>\n",
       "      <td>0.11</td>\n",
       "      <td>283</td>\n",
       "      <td>0.113</td>\n",
       "      <td>561</td>\n",
       "      <td>0.112</td>\n",
       "    </tr>\n",
       "  </tbody>\n",
       "</table>\n",
       "</div>"
      ],
      "text/plain": [
       "                         device_idhash_246  share_246  device_idhash_247  \\\n",
       "event_name                                                                 \n",
       "MainScreenAppear                      2450       0.99               2476   \n",
       "OffersScreenAppear                    1542       0.62               1520   \n",
       "CartScreenAppear                      1266       0.51               1238   \n",
       "PaymentScreenSuccessful               1200       0.48               1158   \n",
       "Tutorial                               278       0.11                283   \n",
       "\n",
       "                         share_247  device_idhash  share_246_247  \n",
       "event_name                                                        \n",
       "MainScreenAppear             0.985           4926          0.986  \n",
       "OffersScreenAppear           0.605           3062          0.613  \n",
       "CartScreenAppear             0.493           2504          0.501  \n",
       "PaymentScreenSuccessful      0.461           2358          0.472  \n",
       "Tutorial                     0.113            561          0.112  "
      ]
     },
     "execution_count": 44,
     "metadata": {},
     "output_type": "execute_result"
    }
   ],
   "source": [
    "# воронка объединенных контрольных групп\n",
    "df_device_group_a"
   ]
  },
  {
   "cell_type": "code",
   "execution_count": 45,
   "metadata": {},
   "outputs": [
    {
     "data": {
      "text/plain": [
       "7534"
      ]
     },
     "metadata": {},
     "output_type": "display_data"
    },
    {
     "data": {
      "text/html": [
       "<div>\n",
       "<style scoped>\n",
       "    .dataframe tbody tr th:only-of-type {\n",
       "        vertical-align: middle;\n",
       "    }\n",
       "\n",
       "    .dataframe tbody tr th {\n",
       "        vertical-align: top;\n",
       "    }\n",
       "\n",
       "    .dataframe thead th {\n",
       "        text-align: right;\n",
       "    }\n",
       "</style>\n",
       "<table border=\"1\" class=\"dataframe\">\n",
       "  <thead>\n",
       "    <tr style=\"text-align: right;\">\n",
       "      <th></th>\n",
       "      <th>device_idhash_a</th>\n",
       "      <th>share_a_248</th>\n",
       "    </tr>\n",
       "    <tr>\n",
       "      <th>event_name</th>\n",
       "      <th></th>\n",
       "      <th></th>\n",
       "    </tr>\n",
       "  </thead>\n",
       "  <tbody>\n",
       "    <tr>\n",
       "      <td>MainScreenAppear</td>\n",
       "      <td>7419</td>\n",
       "      <td>0.985</td>\n",
       "    </tr>\n",
       "    <tr>\n",
       "      <td>OffersScreenAppear</td>\n",
       "      <td>4593</td>\n",
       "      <td>0.610</td>\n",
       "    </tr>\n",
       "    <tr>\n",
       "      <td>CartScreenAppear</td>\n",
       "      <td>3734</td>\n",
       "      <td>0.496</td>\n",
       "    </tr>\n",
       "    <tr>\n",
       "      <td>PaymentScreenSuccessful</td>\n",
       "      <td>3539</td>\n",
       "      <td>0.470</td>\n",
       "    </tr>\n",
       "    <tr>\n",
       "      <td>Tutorial</td>\n",
       "      <td>840</td>\n",
       "      <td>0.111</td>\n",
       "    </tr>\n",
       "  </tbody>\n",
       "</table>\n",
       "</div>"
      ],
      "text/plain": [
       "                         device_idhash_a  share_a_248\n",
       "event_name                                           \n",
       "MainScreenAppear                    7419        0.985\n",
       "OffersScreenAppear                  4593        0.610\n",
       "CartScreenAppear                    3734        0.496\n",
       "PaymentScreenSuccessful             3539        0.470\n",
       "Tutorial                             840        0.111"
      ]
     },
     "execution_count": 45,
     "metadata": {},
     "output_type": "execute_result"
    }
   ],
   "source": [
    "# выборка уникальных пользователей в разрезе событий комбинированной выборки 246_247 (в имени таблиц как \"a\") и 248\n",
    "\n",
    "df_device_idhash_a_248 = data.query('exp_id in [246, 247, 248]').groupby('event_name').agg({'device_idhash': pd.Series.nunique}).sort_values(by = 'device_idhash', ascending=False)\n",
    "\n",
    "# количество уникальных пользователей групп 247 и 248\n",
    "device_idhash_all_a_248 = data.query('exp_id in [246, 247, 248]').groupby('device_idhash')['event_name'].count().shape[0]\n",
    "display(device_idhash_all_a_248)\n",
    "\n",
    "# доля пользователей в разрезе событий по группам 246, 247 и 248\n",
    "df_device_idhash_a_248['share_a_248'] = round(df_device_idhash_a_248['device_idhash'] / device_idhash_all_a_248, 3)\n",
    "df_device_idhash_a_248 = df_device_idhash_a_248.rename(columns={'device_idhash': 'device_idhash_a'})\n",
    "df_device_idhash_a_248"
   ]
  },
  {
   "cell_type": "code",
   "execution_count": 46,
   "metadata": {},
   "outputs": [
    {
     "data": {
      "text/html": [
       "<div>\n",
       "<style scoped>\n",
       "    .dataframe tbody tr th:only-of-type {\n",
       "        vertical-align: middle;\n",
       "    }\n",
       "\n",
       "    .dataframe tbody tr th {\n",
       "        vertical-align: top;\n",
       "    }\n",
       "\n",
       "    .dataframe thead th {\n",
       "        text-align: right;\n",
       "    }\n",
       "</style>\n",
       "<table border=\"1\" class=\"dataframe\">\n",
       "  <thead>\n",
       "    <tr style=\"text-align: right;\">\n",
       "      <th></th>\n",
       "      <th>device_idhash_246</th>\n",
       "      <th>share_246</th>\n",
       "      <th>device_idhash_247</th>\n",
       "      <th>share_247</th>\n",
       "      <th>device_idhash_x</th>\n",
       "      <th>share_246_247</th>\n",
       "      <th>device_idhash_y</th>\n",
       "      <th>share_248</th>\n",
       "      <th>device_idhash_a</th>\n",
       "      <th>share_a_248</th>\n",
       "    </tr>\n",
       "    <tr>\n",
       "      <th>event_name</th>\n",
       "      <th></th>\n",
       "      <th></th>\n",
       "      <th></th>\n",
       "      <th></th>\n",
       "      <th></th>\n",
       "      <th></th>\n",
       "      <th></th>\n",
       "      <th></th>\n",
       "      <th></th>\n",
       "      <th></th>\n",
       "    </tr>\n",
       "  </thead>\n",
       "  <tbody>\n",
       "    <tr>\n",
       "      <td>MainScreenAppear</td>\n",
       "      <td>2450</td>\n",
       "      <td>0.99</td>\n",
       "      <td>2476</td>\n",
       "      <td>0.985</td>\n",
       "      <td>4926</td>\n",
       "      <td>0.986</td>\n",
       "      <td>2493</td>\n",
       "      <td>0.983</td>\n",
       "      <td>7419</td>\n",
       "      <td>0.985</td>\n",
       "    </tr>\n",
       "    <tr>\n",
       "      <td>OffersScreenAppear</td>\n",
       "      <td>1542</td>\n",
       "      <td>0.62</td>\n",
       "      <td>1520</td>\n",
       "      <td>0.605</td>\n",
       "      <td>3062</td>\n",
       "      <td>0.613</td>\n",
       "      <td>1531</td>\n",
       "      <td>0.603</td>\n",
       "      <td>4593</td>\n",
       "      <td>0.610</td>\n",
       "    </tr>\n",
       "    <tr>\n",
       "      <td>CartScreenAppear</td>\n",
       "      <td>1266</td>\n",
       "      <td>0.51</td>\n",
       "      <td>1238</td>\n",
       "      <td>0.493</td>\n",
       "      <td>2504</td>\n",
       "      <td>0.501</td>\n",
       "      <td>1230</td>\n",
       "      <td>0.485</td>\n",
       "      <td>3734</td>\n",
       "      <td>0.496</td>\n",
       "    </tr>\n",
       "    <tr>\n",
       "      <td>PaymentScreenSuccessful</td>\n",
       "      <td>1200</td>\n",
       "      <td>0.48</td>\n",
       "      <td>1158</td>\n",
       "      <td>0.461</td>\n",
       "      <td>2358</td>\n",
       "      <td>0.472</td>\n",
       "      <td>1181</td>\n",
       "      <td>0.466</td>\n",
       "      <td>3539</td>\n",
       "      <td>0.470</td>\n",
       "    </tr>\n",
       "    <tr>\n",
       "      <td>Tutorial</td>\n",
       "      <td>278</td>\n",
       "      <td>0.11</td>\n",
       "      <td>283</td>\n",
       "      <td>0.113</td>\n",
       "      <td>561</td>\n",
       "      <td>0.112</td>\n",
       "      <td>279</td>\n",
       "      <td>0.110</td>\n",
       "      <td>840</td>\n",
       "      <td>0.111</td>\n",
       "    </tr>\n",
       "  </tbody>\n",
       "</table>\n",
       "</div>"
      ],
      "text/plain": [
       "                         device_idhash_246  share_246  device_idhash_247  \\\n",
       "event_name                                                                 \n",
       "MainScreenAppear                      2450       0.99               2476   \n",
       "OffersScreenAppear                    1542       0.62               1520   \n",
       "CartScreenAppear                      1266       0.51               1238   \n",
       "PaymentScreenSuccessful               1200       0.48               1158   \n",
       "Tutorial                               278       0.11                283   \n",
       "\n",
       "                         share_247  device_idhash_x  share_246_247  \\\n",
       "event_name                                                           \n",
       "MainScreenAppear             0.985             4926          0.986   \n",
       "OffersScreenAppear           0.605             3062          0.613   \n",
       "CartScreenAppear             0.493             2504          0.501   \n",
       "PaymentScreenSuccessful      0.461             2358          0.472   \n",
       "Tutorial                     0.113              561          0.112   \n",
       "\n",
       "                         device_idhash_y  share_248  device_idhash_a  \\\n",
       "event_name                                                             \n",
       "MainScreenAppear                    2493      0.983             7419   \n",
       "OffersScreenAppear                  1531      0.603             4593   \n",
       "CartScreenAppear                    1230      0.485             3734   \n",
       "PaymentScreenSuccessful             1181      0.466             3539   \n",
       "Tutorial                             279      0.110              840   \n",
       "\n",
       "                         share_a_248  \n",
       "event_name                            \n",
       "MainScreenAppear               0.985  \n",
       "OffersScreenAppear             0.610  \n",
       "CartScreenAppear               0.496  \n",
       "PaymentScreenSuccessful        0.470  \n",
       "Tutorial                       0.111  "
      ]
     },
     "execution_count": 46,
     "metadata": {},
     "output_type": "execute_result"
    }
   ],
   "source": [
    "# сводная таблица конверсии тестовой и обеих контрольных групп\n",
    "\n",
    "df_device_group = (\n",
    "    df_device_group_a.merge(df_device_idhash_248, on='event_name').\n",
    "    merge(df_device_idhash_a_248, on='event_name')\n",
    ")\n",
    "df_device_group"
   ]
  },
  {
   "cell_type": "code",
   "execution_count": 47,
   "metadata": {},
   "outputs": [
    {
     "name": "stdout",
     "output_type": "stream",
     "text": [
      "0.986 0.983 4926 7419\n",
      "p-значение MainScreenAppear:  17.93 %\n",
      "Не получилось отвергнуть нулевую гипотезу шага MainScreenAppear, нет оснований считать доли разными\n",
      "0.613 0.603 3062 4593\n",
      "p-значение OffersScreenAppear:  37.95 %\n",
      "Не получилось отвергнуть нулевую гипотезу шага OffersScreenAppear, нет оснований считать доли разными\n",
      "0.501 0.485 2504 3734\n",
      "p-значение CartScreenAppear:  21.54 %\n",
      "Не получилось отвергнуть нулевую гипотезу шага CartScreenAppear, нет оснований считать доли разными\n",
      "0.472 0.466 2358 3539\n",
      "p-значение PaymentScreenSuccessful:  65.11 %\n",
      "Не получилось отвергнуть нулевую гипотезу шага PaymentScreenSuccessful, нет оснований считать доли разными\n",
      "0.112 0.11 561 840\n",
      "p-значение Tutorial:  90.7 %\n",
      "Не получилось отвергнуть нулевую гипотезу шага Tutorial, нет оснований считать доли разными\n"
     ]
    }
   ],
   "source": [
    "# сравнение конверсии экспериментальной группы по шагам с данными обеих контрольных групп\n",
    "\n",
    "# список долей двух сравниваемых групп и суммарной доли этих групп\n",
    "share = ['share_246_247', 'share_248', 'share_a_248']\n",
    "# список количества пользователей в двух сравниваемых группах\n",
    "device = ['device_idhash_x', 'device_idhash_a']\n",
    "\n",
    "# расчет статистик для контрольных групп 247 и 248\n",
    "stat_check(df_device_group, steps, share, device)"
   ]
  },
  {
   "cell_type": "markdown",
   "metadata": {},
   "source": [
    "Вывод: p-value выше уровня статистической значимости 0,31%, следовательно нет оснований отвергнуть нулевую гипотезу что доля пользователей одинакова на всех шагах."
   ]
  },
  {
   "cell_type": "markdown",
   "metadata": {},
   "source": [
    "<a id='id_6'></a>\n",
    "## Выводы и рекомендации"
   ]
  },
  {
   "cell_type": "markdown",
   "metadata": {},
   "source": [
    "###### __Предобработка данных:__\n",
    "\n",
    "Предобработка данных показала, что в данных нет пропусков. Приведены к формату данные о дате и времени событий. Удалены 413  полных дубликата. Неявные дубликаты не выявленя.\n",
    "\n",
    "__Анализ данных:__\n",
    "\n",
    "Анализ данных показал, что лог содержит 243713 записей за период с 2019-07-25 по 2019-08-07.\n",
    "Количество пользователей в логе - 7551 чел.\n",
    "Из 13 дней период лога, существенное количество данных в логе присутствует за последние 6 дней.\n",
    "Сделан срез данных по дате от 1 августа - отброшено  2826 записей, что составляет 1,2% и существенно не повлияет на результаты анализа.\n",
    "Присутствуют записи всех трех экспериментальных групп '246, 247, 248'.\n",
    "\n",
    "__Реузультаты изучения воронки событий__:\n",
    "\n",
    "1. Воронка соделрижт 5 событий: `'MainScreenAppear', 'CartScreenAppear', 'PaymentScreenSuccessful', 'OffersScreenAppear', 'Tutorial'`;\n",
    "2. Количество уникальных пользователей в логе - 7548 чел., их них:\n",
    "  - 98.5% увидели главный экран приложения, событие MainScreenAppear\n",
    "  - 61.1% перешли на экран заказа, событие OffersScreenAppear\n",
    "  - 49.7% перешли на экран оплаты, событие CartScreenAppear\n",
    "  - 47.0% произвели оплату, событие PaymentScreenSuccessful\n",
    "  В дальнейшем 11,2% пользователей успешно прошли учебный трек. Это событие не относится к воронке и его можно исключить из анализа воронки событий.;\n",
    "3. С каждым шагом конверсия в следующий шаг повышается:\n",
    "- 62% перешли на экран заказа\n",
    "- 81% с экрана заказа перешли на форму оплаты\n",
    "- 95% успешно оплатили через форму оплаты\n",
    "  Видим, что наибольшее количество пользователей теряется между первым и вторым шагом. В целом 48% пользователей доходит от первого шага до оплаты.\n",
    "\n",
    "__Реузультаты изучения результатов эксперимента__:\n",
    "\n",
    "1. Количество пользователей в группах почти одинковое, отличается на 0.83%, что не превышает 1%.\n",
    "2. Статистические критерии не подрвердили разницу между контрольными выборками 246 и 247. Контрольные группы для анализа воронки принимаем статистически равными, разбиение на группы работает корректно.\n",
    "3. Статистические критерии не подрвердили разницу между контрольной выборкой 246 и тестовой.\n",
    "4. Статистические критерии не подрвердили разницу между контрольной выборкой 247 и тестовой.\n",
    "5. Статистические критерии не подрвердили разницу между объединенной контрольной выборкой и тестовой.\n",
    "\n",
    "__Рекомендации и выводы:__\n",
    "\n",
    "1. Рекомендуется проверить работоспособность формы оплаты во всех браузерах и платформах - 5% пользователей открывших форму оплаты не произвели оплату.\n",
    "2. Также рекомендуется обратить внимание на форму заказа - 19% пользователей не перешли с формы заказа на форму оплаты, что может быть связано с условиями оплаты.\n",
    "3. Статистические критерии не подтвердили разницу между контрольными выборками и тестовой, следовательно гипотеза о влиянии изменений шрифтов приложения на воронку событий не может быть подтверждена."
   ]
  }
 ],
 "metadata": {
  "ExecuteTimeLog": [
   {
    "duration": 102,
    "start_time": "2022-03-02T13:47:33.941Z"
   },
   {
    "duration": 85,
    "start_time": "2022-03-02T13:49:02.553Z"
   },
   {
    "duration": 310,
    "start_time": "2022-03-02T13:52:09.969Z"
   },
   {
    "duration": 1152,
    "start_time": "2022-03-02T13:52:53.670Z"
   },
   {
    "duration": 251,
    "start_time": "2022-03-02T13:52:56.350Z"
   },
   {
    "duration": 84,
    "start_time": "2022-03-02T13:53:21.050Z"
   },
   {
    "duration": 292,
    "start_time": "2022-03-02T13:53:56.511Z"
   },
   {
    "duration": 1154,
    "start_time": "2022-03-02T13:54:13.063Z"
   },
   {
    "duration": 6,
    "start_time": "2022-03-02T13:54:37.740Z"
   },
   {
    "duration": 1037,
    "start_time": "2022-03-02T13:54:38.224Z"
   },
   {
    "duration": 17,
    "start_time": "2022-03-02T13:55:19.977Z"
   },
   {
    "duration": 316,
    "start_time": "2022-03-02T14:03:29.439Z"
   },
   {
    "duration": 5,
    "start_time": "2022-03-02T14:04:28.996Z"
   },
   {
    "duration": 266,
    "start_time": "2022-03-02T14:07:23.400Z"
   },
   {
    "duration": 283,
    "start_time": "2022-03-02T14:07:34.003Z"
   },
   {
    "duration": 3,
    "start_time": "2022-03-02T14:07:39.113Z"
   },
   {
    "duration": 4,
    "start_time": "2022-03-02T14:07:56.461Z"
   },
   {
    "duration": 12,
    "start_time": "2022-03-02T14:11:07.452Z"
   },
   {
    "duration": 13,
    "start_time": "2022-03-02T14:11:24.953Z"
   },
   {
    "duration": 13,
    "start_time": "2022-03-02T14:11:30.542Z"
   },
   {
    "duration": 1219,
    "start_time": "2022-03-02T14:11:53.009Z"
   },
   {
    "duration": 1126,
    "start_time": "2022-03-02T14:11:54.230Z"
   },
   {
    "duration": 24,
    "start_time": "2022-03-02T14:11:55.358Z"
   },
   {
    "duration": 5,
    "start_time": "2022-03-02T14:11:55.384Z"
   },
   {
    "duration": 7,
    "start_time": "2022-03-02T14:11:55.390Z"
   },
   {
    "duration": 19,
    "start_time": "2022-03-02T14:11:55.398Z"
   },
   {
    "duration": 370,
    "start_time": "2022-03-02T14:11:55.419Z"
   },
   {
    "duration": 14,
    "start_time": "2022-03-02T14:13:03.811Z"
   },
   {
    "duration": 280,
    "start_time": "2022-03-02T14:13:29.325Z"
   },
   {
    "duration": 264,
    "start_time": "2022-03-02T14:13:41.651Z"
   },
   {
    "duration": 53,
    "start_time": "2022-03-02T14:14:57.181Z"
   },
   {
    "duration": 61,
    "start_time": "2022-03-02T14:16:12.470Z"
   },
   {
    "duration": 91,
    "start_time": "2022-03-02T14:16:27.135Z"
   },
   {
    "duration": 1913,
    "start_time": "2022-03-02T14:22:48.026Z"
   },
   {
    "duration": 15,
    "start_time": "2022-03-02T14:26:54.353Z"
   },
   {
    "duration": 5,
    "start_time": "2022-03-02T14:31:16.163Z"
   },
   {
    "duration": 12,
    "start_time": "2022-03-02T14:31:19.707Z"
   },
   {
    "duration": 11,
    "start_time": "2022-03-02T14:32:34.669Z"
   },
   {
    "duration": 1124,
    "start_time": "2022-03-02T14:32:59.405Z"
   },
   {
    "duration": 1233,
    "start_time": "2022-03-02T14:33:00.531Z"
   },
   {
    "duration": 25,
    "start_time": "2022-03-02T14:33:01.766Z"
   },
   {
    "duration": 5,
    "start_time": "2022-03-02T14:33:01.794Z"
   },
   {
    "duration": 30,
    "start_time": "2022-03-02T14:33:01.802Z"
   },
   {
    "duration": 83,
    "start_time": "2022-03-02T14:33:01.835Z"
   },
   {
    "duration": 133,
    "start_time": "2022-03-02T14:33:01.920Z"
   },
   {
    "duration": 1145,
    "start_time": "2022-03-02T14:33:02.055Z"
   },
   {
    "duration": -409,
    "start_time": "2022-03-02T14:33:03.611Z"
   },
   {
    "duration": 15,
    "start_time": "2022-03-02T14:33:15.754Z"
   },
   {
    "duration": 1111,
    "start_time": "2022-03-02T14:33:23.718Z"
   },
   {
    "duration": 1198,
    "start_time": "2022-03-02T14:33:24.831Z"
   },
   {
    "duration": 18,
    "start_time": "2022-03-02T14:33:26.032Z"
   },
   {
    "duration": 25,
    "start_time": "2022-03-02T14:33:26.053Z"
   },
   {
    "duration": 21,
    "start_time": "2022-03-02T14:33:26.080Z"
   },
   {
    "duration": 79,
    "start_time": "2022-03-02T14:33:26.103Z"
   },
   {
    "duration": 121,
    "start_time": "2022-03-02T14:33:26.184Z"
   },
   {
    "duration": 15,
    "start_time": "2022-03-02T14:33:26.308Z"
   },
   {
    "duration": 11,
    "start_time": "2022-03-02T14:33:26.325Z"
   },
   {
    "duration": 84,
    "start_time": "2022-03-02T14:34:25.688Z"
   },
   {
    "duration": 16,
    "start_time": "2022-03-02T14:38:02.610Z"
   },
   {
    "duration": 15,
    "start_time": "2022-03-02T14:38:28.270Z"
   },
   {
    "duration": 6874,
    "start_time": "2022-03-02T14:38:53.004Z"
   },
   {
    "duration": 5,
    "start_time": "2022-03-02T14:39:09.020Z"
   },
   {
    "duration": 7,
    "start_time": "2022-03-02T14:51:14.204Z"
   },
   {
    "duration": 265,
    "start_time": "2022-03-02T14:51:30.077Z"
   },
   {
    "duration": 6,
    "start_time": "2022-03-02T14:51:37.500Z"
   },
   {
    "duration": 7,
    "start_time": "2022-03-02T14:52:53.317Z"
   },
   {
    "duration": 7,
    "start_time": "2022-03-02T14:53:08.966Z"
   },
   {
    "duration": 1176,
    "start_time": "2022-03-02T14:54:50.226Z"
   },
   {
    "duration": 1180,
    "start_time": "2022-03-02T14:54:51.404Z"
   },
   {
    "duration": 4,
    "start_time": "2022-03-02T14:54:52.586Z"
   },
   {
    "duration": 20,
    "start_time": "2022-03-02T14:54:52.592Z"
   },
   {
    "duration": 75,
    "start_time": "2022-03-02T14:54:52.614Z"
   },
   {
    "duration": 114,
    "start_time": "2022-03-02T14:54:52.690Z"
   },
   {
    "duration": 14,
    "start_time": "2022-03-02T14:54:52.806Z"
   },
   {
    "duration": 96,
    "start_time": "2022-03-02T14:54:52.822Z"
   },
   {
    "duration": 16,
    "start_time": "2022-03-02T14:54:52.919Z"
   },
   {
    "duration": 5,
    "start_time": "2022-03-02T14:54:52.936Z"
   },
   {
    "duration": 63,
    "start_time": "2022-03-02T14:54:52.942Z"
   },
   {
    "duration": 6,
    "start_time": "2022-03-02T14:54:53.007Z"
   },
   {
    "duration": 8,
    "start_time": "2022-03-02T14:54:53.014Z"
   },
   {
    "duration": 25,
    "start_time": "2022-03-02T14:57:11.803Z"
   },
   {
    "duration": 4,
    "start_time": "2022-03-02T14:58:04.388Z"
   },
   {
    "duration": 3,
    "start_time": "2022-03-02T14:58:58.949Z"
   },
   {
    "duration": 4,
    "start_time": "2022-03-02T14:59:07.333Z"
   },
   {
    "duration": 4,
    "start_time": "2022-03-02T15:00:01.936Z"
   },
   {
    "duration": 4,
    "start_time": "2022-03-02T15:00:22.759Z"
   },
   {
    "duration": 95,
    "start_time": "2022-03-02T15:01:08.232Z"
   },
   {
    "duration": 91,
    "start_time": "2022-03-02T15:01:15.193Z"
   },
   {
    "duration": 84,
    "start_time": "2022-03-02T15:01:24.177Z"
   },
   {
    "duration": 5,
    "start_time": "2022-03-02T15:01:30.689Z"
   },
   {
    "duration": 38,
    "start_time": "2022-03-02T15:03:37.139Z"
   },
   {
    "duration": 345,
    "start_time": "2022-03-02T15:04:31.869Z"
   },
   {
    "duration": 269,
    "start_time": "2022-03-02T15:06:38.265Z"
   },
   {
    "duration": 267,
    "start_time": "2022-03-02T15:08:31.499Z"
   },
   {
    "duration": 303,
    "start_time": "2022-03-02T15:08:38.538Z"
   },
   {
    "duration": 263,
    "start_time": "2022-03-02T15:09:11.211Z"
   },
   {
    "duration": 473,
    "start_time": "2022-03-02T15:09:27.611Z"
   },
   {
    "duration": 274,
    "start_time": "2022-03-02T15:13:32.323Z"
   },
   {
    "duration": 309,
    "start_time": "2022-03-02T15:13:44.025Z"
   },
   {
    "duration": 276,
    "start_time": "2022-03-02T15:13:55.153Z"
   },
   {
    "duration": 469,
    "start_time": "2022-03-02T15:14:12.194Z"
   },
   {
    "duration": 271,
    "start_time": "2022-03-02T15:18:24.929Z"
   },
   {
    "duration": 276,
    "start_time": "2022-03-02T15:19:04.184Z"
   },
   {
    "duration": 323,
    "start_time": "2022-03-02T15:19:17.208Z"
   },
   {
    "duration": 329,
    "start_time": "2022-03-02T15:19:30.665Z"
   },
   {
    "duration": 346,
    "start_time": "2022-03-02T15:20:29.459Z"
   },
   {
    "duration": 374,
    "start_time": "2022-03-02T15:20:41.675Z"
   },
   {
    "duration": 310,
    "start_time": "2022-03-02T15:21:09.675Z"
   },
   {
    "duration": 33,
    "start_time": "2022-03-02T15:23:39.430Z"
   },
   {
    "duration": 296,
    "start_time": "2022-03-02T15:30:03.952Z"
   },
   {
    "duration": 287,
    "start_time": "2022-03-02T15:30:28.463Z"
   },
   {
    "duration": 310,
    "start_time": "2022-03-02T15:32:28.507Z"
   },
   {
    "duration": 36,
    "start_time": "2022-03-02T15:32:44.242Z"
   },
   {
    "duration": 551,
    "start_time": "2022-03-02T15:33:07.419Z"
   },
   {
    "duration": 329,
    "start_time": "2022-03-02T15:33:10.715Z"
   },
   {
    "duration": 643,
    "start_time": "2022-03-02T15:38:02.306Z"
   },
   {
    "duration": 95,
    "start_time": "2022-03-02T15:41:01.871Z"
   },
   {
    "duration": 126,
    "start_time": "2022-03-02T15:41:11.757Z"
   },
   {
    "duration": 348,
    "start_time": "2022-03-02T15:41:33.926Z"
   },
   {
    "duration": 351,
    "start_time": "2022-03-02T15:42:44.519Z"
   },
   {
    "duration": 335,
    "start_time": "2022-03-02T15:43:29.280Z"
   },
   {
    "duration": 346,
    "start_time": "2022-03-02T15:43:54.608Z"
   },
   {
    "duration": 334,
    "start_time": "2022-03-02T15:44:32.699Z"
   },
   {
    "duration": 342,
    "start_time": "2022-03-02T15:44:48.153Z"
   },
   {
    "duration": 341,
    "start_time": "2022-03-02T15:44:59.731Z"
   },
   {
    "duration": 366,
    "start_time": "2022-03-02T15:47:05.933Z"
   },
   {
    "duration": 1085,
    "start_time": "2022-03-02T15:51:51.436Z"
   },
   {
    "duration": 1055,
    "start_time": "2022-03-02T15:53:17.447Z"
   },
   {
    "duration": 254,
    "start_time": "2022-03-02T15:55:55.305Z"
   },
   {
    "duration": 30,
    "start_time": "2022-03-02T15:56:14.249Z"
   },
   {
    "duration": 34,
    "start_time": "2022-03-02T15:56:50.346Z"
   },
   {
    "duration": 1211,
    "start_time": "2022-03-02T16:12:08.680Z"
   },
   {
    "duration": 1239,
    "start_time": "2022-03-02T16:12:09.893Z"
   },
   {
    "duration": 17,
    "start_time": "2022-03-02T16:12:11.134Z"
   },
   {
    "duration": 25,
    "start_time": "2022-03-02T16:12:11.153Z"
   },
   {
    "duration": 23,
    "start_time": "2022-03-02T16:12:11.180Z"
   },
   {
    "duration": 73,
    "start_time": "2022-03-02T16:12:11.205Z"
   },
   {
    "duration": 118,
    "start_time": "2022-03-02T16:12:11.280Z"
   },
   {
    "duration": 15,
    "start_time": "2022-03-02T16:12:11.401Z"
   },
   {
    "duration": 105,
    "start_time": "2022-03-02T16:12:11.418Z"
   },
   {
    "duration": 32,
    "start_time": "2022-03-02T16:12:11.525Z"
   },
   {
    "duration": 20,
    "start_time": "2022-03-02T16:12:11.559Z"
   },
   {
    "duration": 20,
    "start_time": "2022-03-02T16:12:11.581Z"
   },
   {
    "duration": 10,
    "start_time": "2022-03-02T16:12:11.603Z"
   },
   {
    "duration": 63,
    "start_time": "2022-03-02T16:12:11.615Z"
   },
   {
    "duration": 376,
    "start_time": "2022-03-02T16:12:11.680Z"
   },
   {
    "duration": 49,
    "start_time": "2022-03-02T16:12:12.058Z"
   },
   {
    "duration": 7,
    "start_time": "2022-03-02T16:12:12.109Z"
   },
   {
    "duration": 1113,
    "start_time": "2022-03-04T14:14:34.585Z"
   },
   {
    "duration": 1166,
    "start_time": "2022-03-04T14:14:35.700Z"
   },
   {
    "duration": 15,
    "start_time": "2022-03-04T14:14:36.868Z"
   },
   {
    "duration": 4,
    "start_time": "2022-03-04T14:14:36.885Z"
   },
   {
    "duration": 18,
    "start_time": "2022-03-04T14:14:36.890Z"
   },
   {
    "duration": 96,
    "start_time": "2022-03-04T14:14:36.910Z"
   },
   {
    "duration": 137,
    "start_time": "2022-03-04T14:14:37.008Z"
   },
   {
    "duration": 25,
    "start_time": "2022-03-04T14:14:37.148Z"
   },
   {
    "duration": 118,
    "start_time": "2022-03-04T14:14:37.176Z"
   },
   {
    "duration": 19,
    "start_time": "2022-03-04T14:14:37.296Z"
   },
   {
    "duration": 4,
    "start_time": "2022-03-04T14:14:37.317Z"
   },
   {
    "duration": 8,
    "start_time": "2022-03-04T14:14:37.323Z"
   },
   {
    "duration": 32,
    "start_time": "2022-03-04T14:14:37.333Z"
   },
   {
    "duration": 40,
    "start_time": "2022-03-04T14:14:37.366Z"
   },
   {
    "duration": 328,
    "start_time": "2022-03-04T14:14:37.408Z"
   },
   {
    "duration": 50,
    "start_time": "2022-03-04T14:14:37.738Z"
   },
   {
    "duration": 5,
    "start_time": "2022-03-04T14:14:37.789Z"
   },
   {
    "duration": 2,
    "start_time": "2022-03-04T14:24:43.885Z"
   },
   {
    "duration": 14,
    "start_time": "2022-03-04T14:25:24.369Z"
   },
   {
    "duration": 21,
    "start_time": "2022-03-04T14:26:14.040Z"
   },
   {
    "duration": 17,
    "start_time": "2022-03-04T14:38:03.010Z"
   },
   {
    "duration": 20,
    "start_time": "2022-03-04T14:38:10.593Z"
   },
   {
    "duration": 20,
    "start_time": "2022-03-04T14:38:35.432Z"
   },
   {
    "duration": 21,
    "start_time": "2022-03-04T14:39:08.352Z"
   },
   {
    "duration": 19,
    "start_time": "2022-03-04T14:39:14.616Z"
   },
   {
    "duration": 20,
    "start_time": "2022-03-04T14:39:36.594Z"
   },
   {
    "duration": 25,
    "start_time": "2022-03-04T14:40:14.787Z"
   },
   {
    "duration": 19,
    "start_time": "2022-03-04T14:40:21.274Z"
   },
   {
    "duration": 20,
    "start_time": "2022-03-04T14:40:26.467Z"
   },
   {
    "duration": 20,
    "start_time": "2022-03-04T14:40:33.594Z"
   },
   {
    "duration": 1195,
    "start_time": "2022-03-04T14:40:49.250Z"
   },
   {
    "duration": 20,
    "start_time": "2022-03-04T14:40:54.995Z"
   },
   {
    "duration": 21,
    "start_time": "2022-03-04T14:42:50.126Z"
   },
   {
    "duration": 19,
    "start_time": "2022-03-04T15:00:05.287Z"
   },
   {
    "duration": 28,
    "start_time": "2022-03-04T15:03:54.513Z"
   },
   {
    "duration": 308,
    "start_time": "2022-03-04T15:04:30.286Z"
   },
   {
    "duration": 73,
    "start_time": "2022-03-04T15:04:55.635Z"
   },
   {
    "duration": 28,
    "start_time": "2022-03-04T15:05:01.044Z"
   },
   {
    "duration": 28,
    "start_time": "2022-03-04T15:05:30.851Z"
   },
   {
    "duration": 5368,
    "start_time": "2022-03-04T15:15:33.669Z"
   },
   {
    "duration": 31,
    "start_time": "2022-03-04T15:16:14.955Z"
   },
   {
    "duration": 30,
    "start_time": "2022-03-04T15:16:40.410Z"
   },
   {
    "duration": 30,
    "start_time": "2022-03-04T15:17:19.580Z"
   },
   {
    "duration": 5310,
    "start_time": "2022-03-04T15:23:34.492Z"
   },
   {
    "duration": 5247,
    "start_time": "2022-03-04T15:24:04.059Z"
   },
   {
    "duration": 5258,
    "start_time": "2022-03-04T15:24:21.187Z"
   },
   {
    "duration": 59,
    "start_time": "2022-03-04T15:24:50.206Z"
   },
   {
    "duration": 42,
    "start_time": "2022-03-04T15:25:48.175Z"
   },
   {
    "duration": 228,
    "start_time": "2022-03-04T15:26:39.316Z"
   },
   {
    "duration": 230,
    "start_time": "2022-03-04T15:27:17.214Z"
   },
   {
    "duration": 270,
    "start_time": "2022-03-04T15:27:31.654Z"
   },
   {
    "duration": 27,
    "start_time": "2022-03-04T15:28:05.423Z"
   },
   {
    "duration": 265,
    "start_time": "2022-03-04T15:28:32.839Z"
   },
   {
    "duration": 25,
    "start_time": "2022-03-04T15:28:42.951Z"
   },
   {
    "duration": 44,
    "start_time": "2022-03-04T15:29:05.592Z"
   },
   {
    "duration": 59,
    "start_time": "2022-03-04T15:29:12.888Z"
   },
   {
    "duration": 39,
    "start_time": "2022-03-04T15:29:29.804Z"
   },
   {
    "duration": 43,
    "start_time": "2022-03-04T15:29:41.737Z"
   },
   {
    "duration": 276,
    "start_time": "2022-03-04T15:30:52.050Z"
   },
   {
    "duration": 41,
    "start_time": "2022-03-04T15:31:06.322Z"
   },
   {
    "duration": 44,
    "start_time": "2022-03-04T15:31:23.810Z"
   },
   {
    "duration": 41,
    "start_time": "2022-03-04T15:32:33.472Z"
   },
   {
    "duration": 44,
    "start_time": "2022-03-04T15:33:16.397Z"
   },
   {
    "duration": 45,
    "start_time": "2022-03-04T15:42:50.564Z"
   },
   {
    "duration": 44,
    "start_time": "2022-03-04T15:42:55.305Z"
   },
   {
    "duration": 2,
    "start_time": "2022-03-04T15:46:46.374Z"
   },
   {
    "duration": 6685,
    "start_time": "2022-03-04T16:05:23.668Z"
   },
   {
    "duration": 5363,
    "start_time": "2022-03-04T16:05:33.347Z"
   },
   {
    "duration": 214,
    "start_time": "2022-03-04T16:05:48.466Z"
   },
   {
    "duration": 225,
    "start_time": "2022-03-04T16:06:02.362Z"
   },
   {
    "duration": 216,
    "start_time": "2022-03-04T16:06:38.987Z"
   },
   {
    "duration": 210,
    "start_time": "2022-03-04T16:06:46.322Z"
   },
   {
    "duration": 8,
    "start_time": "2022-03-04T16:07:45.228Z"
   },
   {
    "duration": 9,
    "start_time": "2022-03-04T16:08:23.239Z"
   },
   {
    "duration": 8,
    "start_time": "2022-03-04T16:08:36.583Z"
   },
   {
    "duration": 5,
    "start_time": "2022-03-04T16:11:29.663Z"
   },
   {
    "duration": 10,
    "start_time": "2022-03-04T16:11:40.134Z"
   },
   {
    "duration": 10,
    "start_time": "2022-03-04T16:12:13.711Z"
   },
   {
    "duration": 9,
    "start_time": "2022-03-04T16:12:43.729Z"
   },
   {
    "duration": 228,
    "start_time": "2022-03-04T16:13:41.065Z"
   },
   {
    "duration": 9,
    "start_time": "2022-03-04T16:13:46.560Z"
   },
   {
    "duration": 10,
    "start_time": "2022-03-04T16:13:57.682Z"
   },
   {
    "duration": 10,
    "start_time": "2022-03-04T16:14:04.681Z"
   },
   {
    "duration": 69,
    "start_time": "2022-03-04T16:22:43.451Z"
   },
   {
    "duration": 5503,
    "start_time": "2022-03-04T16:23:37.396Z"
   },
   {
    "duration": 5138,
    "start_time": "2022-03-04T16:26:17.968Z"
   },
   {
    "duration": 5143,
    "start_time": "2022-03-04T16:26:29.729Z"
   },
   {
    "duration": 70,
    "start_time": "2022-03-04T16:27:27.210Z"
   },
   {
    "duration": 9,
    "start_time": "2022-03-04T16:27:40.649Z"
   },
   {
    "duration": 10,
    "start_time": "2022-03-04T16:28:00.982Z"
   },
   {
    "duration": 6,
    "start_time": "2022-03-04T16:28:18.786Z"
   },
   {
    "duration": 64,
    "start_time": "2022-03-04T16:28:47.290Z"
   },
   {
    "duration": 9,
    "start_time": "2022-03-04T16:28:56.507Z"
   },
   {
    "duration": 1180,
    "start_time": "2022-03-06T04:09:08.616Z"
   },
   {
    "duration": 1054,
    "start_time": "2022-03-06T04:09:09.797Z"
   },
   {
    "duration": 14,
    "start_time": "2022-03-06T04:09:10.853Z"
   },
   {
    "duration": 3,
    "start_time": "2022-03-06T04:09:10.869Z"
   },
   {
    "duration": 38,
    "start_time": "2022-03-06T04:09:10.873Z"
   },
   {
    "duration": 46,
    "start_time": "2022-03-06T04:09:10.912Z"
   },
   {
    "duration": 102,
    "start_time": "2022-03-06T04:09:10.959Z"
   },
   {
    "duration": 12,
    "start_time": "2022-03-06T04:09:11.064Z"
   },
   {
    "duration": 85,
    "start_time": "2022-03-06T04:09:11.078Z"
   },
   {
    "duration": 3,
    "start_time": "2022-03-06T04:09:11.165Z"
   },
   {
    "duration": 11,
    "start_time": "2022-03-06T04:09:11.169Z"
   },
   {
    "duration": 20,
    "start_time": "2022-03-06T04:09:11.182Z"
   },
   {
    "duration": 28,
    "start_time": "2022-03-06T04:09:11.203Z"
   },
   {
    "duration": 306,
    "start_time": "2022-03-06T04:09:11.233Z"
   },
   {
    "duration": 35,
    "start_time": "2022-03-06T04:09:11.541Z"
   },
   {
    "duration": 4,
    "start_time": "2022-03-06T04:09:11.578Z"
   },
   {
    "duration": 25,
    "start_time": "2022-03-06T04:09:11.584Z"
   },
   {
    "duration": 19,
    "start_time": "2022-03-06T04:09:11.610Z"
   },
   {
    "duration": 71,
    "start_time": "2022-03-06T04:09:11.631Z"
   },
   {
    "duration": 10,
    "start_time": "2022-03-06T04:09:11.704Z"
   },
   {
    "duration": 10,
    "start_time": "2022-03-06T04:09:11.716Z"
   },
   {
    "duration": 5,
    "start_time": "2022-03-06T04:09:11.728Z"
   },
   {
    "duration": 4,
    "start_time": "2022-03-06T04:20:51.636Z"
   },
   {
    "duration": 4,
    "start_time": "2022-03-06T04:21:49.097Z"
   },
   {
    "duration": 5,
    "start_time": "2022-03-06T04:22:13.184Z"
   },
   {
    "duration": 5,
    "start_time": "2022-03-06T04:22:45.064Z"
   },
   {
    "duration": 388,
    "start_time": "2022-03-06T04:26:41.029Z"
   },
   {
    "duration": 283,
    "start_time": "2022-03-06T04:27:25.295Z"
   },
   {
    "duration": 298,
    "start_time": "2022-03-06T04:27:37.951Z"
   },
   {
    "duration": 4,
    "start_time": "2022-03-06T04:27:51.408Z"
   },
   {
    "duration": 3,
    "start_time": "2022-03-06T04:28:33.247Z"
   },
   {
    "duration": 123,
    "start_time": "2022-03-06T04:32:19.807Z"
   },
   {
    "duration": 17,
    "start_time": "2022-03-06T04:32:29.309Z"
   },
   {
    "duration": 102,
    "start_time": "2022-03-06T04:33:46.103Z"
   },
   {
    "duration": 4,
    "start_time": "2022-03-06T04:38:29.064Z"
   },
   {
    "duration": 4,
    "start_time": "2022-03-06T04:39:02.880Z"
   },
   {
    "duration": 4,
    "start_time": "2022-03-06T04:39:31.438Z"
   },
   {
    "duration": 4,
    "start_time": "2022-03-06T04:41:14.393Z"
   },
   {
    "duration": 21,
    "start_time": "2022-03-06T05:05:06.963Z"
   },
   {
    "duration": 21,
    "start_time": "2022-03-06T05:05:30.633Z"
   },
   {
    "duration": 20,
    "start_time": "2022-03-06T05:05:43.252Z"
   },
   {
    "duration": 33,
    "start_time": "2022-03-06T05:09:47.811Z"
   },
   {
    "duration": 32,
    "start_time": "2022-03-06T05:11:13.770Z"
   },
   {
    "duration": 33,
    "start_time": "2022-03-06T05:27:58.055Z"
   },
   {
    "duration": 32,
    "start_time": "2022-03-06T05:28:47.453Z"
   },
   {
    "duration": 371,
    "start_time": "2022-03-06T05:30:55.527Z"
   },
   {
    "duration": 351,
    "start_time": "2022-03-06T05:32:22.391Z"
   },
   {
    "duration": 60,
    "start_time": "2022-03-06T05:33:35.826Z"
   },
   {
    "duration": 11,
    "start_time": "2022-03-06T05:36:29.022Z"
   },
   {
    "duration": 15,
    "start_time": "2022-03-06T05:36:56.387Z"
   },
   {
    "duration": 94,
    "start_time": "2022-03-06T05:37:57.457Z"
   },
   {
    "duration": 98,
    "start_time": "2022-03-06T05:38:04.985Z"
   },
   {
    "duration": 89,
    "start_time": "2022-03-06T05:38:12.324Z"
   },
   {
    "duration": 95,
    "start_time": "2022-03-06T05:38:17.417Z"
   },
   {
    "duration": 100,
    "start_time": "2022-03-06T05:38:42.282Z"
   },
   {
    "duration": 1048,
    "start_time": "2022-03-06T05:38:48.648Z"
   },
   {
    "duration": 1050,
    "start_time": "2022-03-06T05:38:49.698Z"
   },
   {
    "duration": 14,
    "start_time": "2022-03-06T05:38:50.749Z"
   },
   {
    "duration": 6,
    "start_time": "2022-03-06T05:38:50.765Z"
   },
   {
    "duration": 33,
    "start_time": "2022-03-06T05:38:50.773Z"
   },
   {
    "duration": 46,
    "start_time": "2022-03-06T05:38:50.807Z"
   },
   {
    "duration": 104,
    "start_time": "2022-03-06T05:38:50.854Z"
   },
   {
    "duration": 13,
    "start_time": "2022-03-06T05:38:50.960Z"
   },
   {
    "duration": 81,
    "start_time": "2022-03-06T05:38:50.974Z"
   },
   {
    "duration": 3,
    "start_time": "2022-03-06T05:38:51.056Z"
   },
   {
    "duration": 8,
    "start_time": "2022-03-06T05:38:51.060Z"
   },
   {
    "duration": 3,
    "start_time": "2022-03-06T05:38:51.069Z"
   },
   {
    "duration": 29,
    "start_time": "2022-03-06T05:38:51.101Z"
   },
   {
    "duration": 307,
    "start_time": "2022-03-06T05:38:51.132Z"
   },
   {
    "duration": 39,
    "start_time": "2022-03-06T05:38:51.441Z"
   },
   {
    "duration": 4,
    "start_time": "2022-03-06T05:38:51.502Z"
   },
   {
    "duration": 13,
    "start_time": "2022-03-06T05:38:51.508Z"
   },
   {
    "duration": 19,
    "start_time": "2022-03-06T05:38:51.523Z"
   },
   {
    "duration": 69,
    "start_time": "2022-03-06T05:38:51.544Z"
   },
   {
    "duration": 9,
    "start_time": "2022-03-06T05:38:51.615Z"
   },
   {
    "duration": 10,
    "start_time": "2022-03-06T05:38:51.626Z"
   },
   {
    "duration": 30,
    "start_time": "2022-03-06T05:38:51.638Z"
   },
   {
    "duration": 6,
    "start_time": "2022-03-06T05:38:51.672Z"
   },
   {
    "duration": 53,
    "start_time": "2022-03-06T05:38:51.680Z"
   },
   {
    "duration": 32,
    "start_time": "2022-03-06T05:38:51.735Z"
   },
   {
    "duration": 82,
    "start_time": "2022-03-06T05:38:51.769Z"
   },
   {
    "duration": 113,
    "start_time": "2022-03-06T05:38:51.852Z"
   },
   {
    "duration": -679,
    "start_time": "2022-03-06T05:38:52.645Z"
   },
   {
    "duration": 16,
    "start_time": "2022-03-06T05:39:15.555Z"
   },
   {
    "duration": 96,
    "start_time": "2022-03-06T05:39:52.436Z"
   },
   {
    "duration": 98,
    "start_time": "2022-03-06T05:40:00.676Z"
   },
   {
    "duration": 16,
    "start_time": "2022-03-06T05:40:10.748Z"
   },
   {
    "duration": 485,
    "start_time": "2022-03-06T05:40:41.141Z"
   },
   {
    "duration": 17,
    "start_time": "2022-03-06T05:40:46.557Z"
   },
   {
    "duration": 4,
    "start_time": "2022-03-06T05:46:42.500Z"
   },
   {
    "duration": 295,
    "start_time": "2022-03-06T05:51:46.392Z"
   },
   {
    "duration": 1112,
    "start_time": "2022-03-06T05:52:25.589Z"
   },
   {
    "duration": 1056,
    "start_time": "2022-03-06T05:52:26.703Z"
   },
   {
    "duration": 14,
    "start_time": "2022-03-06T05:52:27.761Z"
   },
   {
    "duration": 4,
    "start_time": "2022-03-06T05:52:27.777Z"
   },
   {
    "duration": 14,
    "start_time": "2022-03-06T05:52:27.801Z"
   },
   {
    "duration": 49,
    "start_time": "2022-03-06T05:52:27.816Z"
   },
   {
    "duration": 124,
    "start_time": "2022-03-06T05:52:27.867Z"
   },
   {
    "duration": 18,
    "start_time": "2022-03-06T05:52:27.993Z"
   },
   {
    "duration": 90,
    "start_time": "2022-03-06T05:52:28.013Z"
   },
   {
    "duration": 4,
    "start_time": "2022-03-06T05:52:28.104Z"
   },
   {
    "duration": 7,
    "start_time": "2022-03-06T05:52:28.110Z"
   },
   {
    "duration": 3,
    "start_time": "2022-03-06T05:52:28.119Z"
   },
   {
    "duration": 29,
    "start_time": "2022-03-06T05:52:28.123Z"
   },
   {
    "duration": 316,
    "start_time": "2022-03-06T05:52:28.154Z"
   },
   {
    "duration": 48,
    "start_time": "2022-03-06T05:52:28.471Z"
   },
   {
    "duration": 5,
    "start_time": "2022-03-06T05:52:28.520Z"
   },
   {
    "duration": 13,
    "start_time": "2022-03-06T05:52:28.526Z"
   },
   {
    "duration": 19,
    "start_time": "2022-03-06T05:52:28.541Z"
   },
   {
    "duration": 81,
    "start_time": "2022-03-06T05:52:28.562Z"
   },
   {
    "duration": 10,
    "start_time": "2022-03-06T05:52:28.645Z"
   },
   {
    "duration": 5,
    "start_time": "2022-03-06T05:52:28.657Z"
   },
   {
    "duration": 40,
    "start_time": "2022-03-06T05:52:28.664Z"
   },
   {
    "duration": 3,
    "start_time": "2022-03-06T05:52:28.707Z"
   },
   {
    "duration": 34,
    "start_time": "2022-03-06T05:52:28.712Z"
   },
   {
    "duration": 57,
    "start_time": "2022-03-06T05:52:28.748Z"
   },
   {
    "duration": 53,
    "start_time": "2022-03-06T05:52:28.806Z"
   },
   {
    "duration": 13,
    "start_time": "2022-03-06T05:52:28.860Z"
   },
   {
    "duration": 363,
    "start_time": "2022-03-06T05:52:28.875Z"
   },
   {
    "duration": 307,
    "start_time": "2022-03-06T06:01:59.589Z"
   },
   {
    "duration": 6,
    "start_time": "2022-03-06T06:03:19.665Z"
   },
   {
    "duration": 1091,
    "start_time": "2022-03-06T06:05:00.611Z"
   },
   {
    "duration": 1055,
    "start_time": "2022-03-06T06:05:01.703Z"
   },
   {
    "duration": 14,
    "start_time": "2022-03-06T06:05:02.759Z"
   },
   {
    "duration": 19,
    "start_time": "2022-03-06T06:05:02.775Z"
   },
   {
    "duration": 28,
    "start_time": "2022-03-06T06:05:02.795Z"
   },
   {
    "duration": 54,
    "start_time": "2022-03-06T06:05:02.824Z"
   },
   {
    "duration": 88,
    "start_time": "2022-03-06T06:05:02.879Z"
   },
   {
    "duration": 11,
    "start_time": "2022-03-06T06:05:02.970Z"
   },
   {
    "duration": 85,
    "start_time": "2022-03-06T06:05:02.983Z"
   },
   {
    "duration": 3,
    "start_time": "2022-03-06T06:05:03.070Z"
   },
   {
    "duration": 8,
    "start_time": "2022-03-06T06:05:03.074Z"
   },
   {
    "duration": 18,
    "start_time": "2022-03-06T06:05:03.084Z"
   },
   {
    "duration": 32,
    "start_time": "2022-03-06T06:05:03.104Z"
   },
   {
    "duration": 412,
    "start_time": "2022-03-06T06:05:03.138Z"
   },
   {
    "duration": 36,
    "start_time": "2022-03-06T06:05:03.552Z"
   },
   {
    "duration": 12,
    "start_time": "2022-03-06T06:05:03.590Z"
   },
   {
    "duration": 13,
    "start_time": "2022-03-06T06:05:03.604Z"
   },
   {
    "duration": 19,
    "start_time": "2022-03-06T06:05:03.618Z"
   },
   {
    "duration": 74,
    "start_time": "2022-03-06T06:05:03.639Z"
   },
   {
    "duration": 8,
    "start_time": "2022-03-06T06:05:03.714Z"
   },
   {
    "duration": 8,
    "start_time": "2022-03-06T06:05:03.724Z"
   },
   {
    "duration": 17,
    "start_time": "2022-03-06T06:05:03.733Z"
   },
   {
    "duration": 3,
    "start_time": "2022-03-06T06:05:03.752Z"
   },
   {
    "duration": 65,
    "start_time": "2022-03-06T06:05:03.757Z"
   },
   {
    "duration": 31,
    "start_time": "2022-03-06T06:05:03.824Z"
   },
   {
    "duration": 77,
    "start_time": "2022-03-06T06:05:03.856Z"
   },
   {
    "duration": 13,
    "start_time": "2022-03-06T06:05:03.935Z"
   },
   {
    "duration": 415,
    "start_time": "2022-03-06T06:05:03.949Z"
   },
   {
    "duration": 5,
    "start_time": "2022-03-06T06:06:44.183Z"
   },
   {
    "duration": 289,
    "start_time": "2022-03-06T06:07:17.046Z"
   },
   {
    "duration": 360,
    "start_time": "2022-03-06T06:08:07.712Z"
   },
   {
    "duration": 280,
    "start_time": "2022-03-06T06:08:21.347Z"
   },
   {
    "duration": 314,
    "start_time": "2022-03-06T06:08:37.273Z"
   },
   {
    "duration": 5,
    "start_time": "2022-03-06T06:09:04.633Z"
   },
   {
    "duration": 293,
    "start_time": "2022-03-06T06:09:26.786Z"
   },
   {
    "duration": 6,
    "start_time": "2022-03-06T06:09:34.970Z"
   },
   {
    "duration": 288,
    "start_time": "2022-03-06T06:09:43.515Z"
   },
   {
    "duration": 5,
    "start_time": "2022-03-06T06:09:56.810Z"
   },
   {
    "duration": 5,
    "start_time": "2022-03-06T06:10:32.635Z"
   },
   {
    "duration": 33,
    "start_time": "2022-03-06T06:11:20.116Z"
   },
   {
    "duration": 35,
    "start_time": "2022-03-06T06:11:26.332Z"
   },
   {
    "duration": 35,
    "start_time": "2022-03-06T06:11:30.932Z"
   },
   {
    "duration": 34,
    "start_time": "2022-03-06T06:11:40.005Z"
   },
   {
    "duration": 52,
    "start_time": "2022-03-06T06:11:47.917Z"
   },
   {
    "duration": 15,
    "start_time": "2022-03-06T06:11:53.637Z"
   },
   {
    "duration": 6,
    "start_time": "2022-03-06T06:11:59.109Z"
   },
   {
    "duration": 7,
    "start_time": "2022-03-06T06:12:14.709Z"
   },
   {
    "duration": 10,
    "start_time": "2022-03-06T06:17:50.005Z"
   },
   {
    "duration": 10,
    "start_time": "2022-03-06T06:19:51.383Z"
   },
   {
    "duration": 94,
    "start_time": "2022-03-06T06:20:56.017Z"
   },
   {
    "duration": 6,
    "start_time": "2022-03-06T06:36:44.271Z"
   },
   {
    "duration": 6,
    "start_time": "2022-03-06T06:37:08.886Z"
   },
   {
    "duration": 1094,
    "start_time": "2022-03-06T06:37:46.715Z"
   },
   {
    "duration": 1057,
    "start_time": "2022-03-06T06:37:47.811Z"
   },
   {
    "duration": 14,
    "start_time": "2022-03-06T06:37:48.870Z"
   },
   {
    "duration": 3,
    "start_time": "2022-03-06T06:37:48.886Z"
   },
   {
    "duration": 22,
    "start_time": "2022-03-06T06:37:48.890Z"
   },
   {
    "duration": 43,
    "start_time": "2022-03-06T06:37:48.914Z"
   },
   {
    "duration": 114,
    "start_time": "2022-03-06T06:37:48.959Z"
   },
   {
    "duration": 12,
    "start_time": "2022-03-06T06:37:49.076Z"
   },
   {
    "duration": 81,
    "start_time": "2022-03-06T06:37:49.090Z"
   },
   {
    "duration": 3,
    "start_time": "2022-03-06T06:37:49.172Z"
   },
   {
    "duration": 25,
    "start_time": "2022-03-06T06:37:49.177Z"
   },
   {
    "duration": 3,
    "start_time": "2022-03-06T06:37:49.203Z"
   },
   {
    "duration": 28,
    "start_time": "2022-03-06T06:37:49.207Z"
   },
   {
    "duration": 336,
    "start_time": "2022-03-06T06:37:49.237Z"
   },
   {
    "duration": 46,
    "start_time": "2022-03-06T06:37:49.575Z"
   },
   {
    "duration": 4,
    "start_time": "2022-03-06T06:37:49.623Z"
   },
   {
    "duration": 13,
    "start_time": "2022-03-06T06:37:49.629Z"
   },
   {
    "duration": 19,
    "start_time": "2022-03-06T06:37:49.644Z"
   },
   {
    "duration": 77,
    "start_time": "2022-03-06T06:37:49.665Z"
   },
   {
    "duration": 9,
    "start_time": "2022-03-06T06:37:49.743Z"
   },
   {
    "duration": 5,
    "start_time": "2022-03-06T06:37:49.754Z"
   },
   {
    "duration": 43,
    "start_time": "2022-03-06T06:37:49.760Z"
   },
   {
    "duration": 3,
    "start_time": "2022-03-06T06:37:49.806Z"
   },
   {
    "duration": 40,
    "start_time": "2022-03-06T06:37:49.811Z"
   },
   {
    "duration": 53,
    "start_time": "2022-03-06T06:37:49.853Z"
   },
   {
    "duration": 54,
    "start_time": "2022-03-06T06:37:49.907Z"
   },
   {
    "duration": 13,
    "start_time": "2022-03-06T06:37:49.963Z"
   },
   {
    "duration": 26,
    "start_time": "2022-03-06T06:37:49.978Z"
   },
   {
    "duration": 5,
    "start_time": "2022-03-06T06:38:13.739Z"
   },
   {
    "duration": 5,
    "start_time": "2022-03-06T06:39:55.245Z"
   },
   {
    "duration": 5,
    "start_time": "2022-03-06T06:40:54.327Z"
   },
   {
    "duration": 9,
    "start_time": "2022-03-06T06:43:38.818Z"
   },
   {
    "duration": 9,
    "start_time": "2022-03-06T06:44:06.523Z"
   },
   {
    "duration": 97,
    "start_time": "2022-03-06T07:38:58.936Z"
   },
   {
    "duration": 9,
    "start_time": "2022-03-06T07:40:44.269Z"
   },
   {
    "duration": 7333,
    "start_time": "2022-03-06T07:42:02.046Z"
   },
   {
    "duration": 36,
    "start_time": "2022-03-06T07:43:46.295Z"
   },
   {
    "duration": 36,
    "start_time": "2022-03-06T07:44:19.683Z"
   },
   {
    "duration": 296,
    "start_time": "2022-03-06T07:45:55.562Z"
   },
   {
    "duration": 20,
    "start_time": "2022-03-06T07:46:54.419Z"
   },
   {
    "duration": 314,
    "start_time": "2022-03-06T07:47:17.114Z"
   },
   {
    "duration": 1062,
    "start_time": "2022-03-06T07:47:47.134Z"
   },
   {
    "duration": 1021,
    "start_time": "2022-03-06T07:47:48.198Z"
   },
   {
    "duration": 14,
    "start_time": "2022-03-06T07:47:49.222Z"
   },
   {
    "duration": 3,
    "start_time": "2022-03-06T07:47:49.238Z"
   },
   {
    "duration": 13,
    "start_time": "2022-03-06T07:47:49.242Z"
   },
   {
    "duration": 80,
    "start_time": "2022-03-06T07:47:49.256Z"
   },
   {
    "duration": 97,
    "start_time": "2022-03-06T07:47:49.338Z"
   },
   {
    "duration": 13,
    "start_time": "2022-03-06T07:47:49.437Z"
   },
   {
    "duration": 83,
    "start_time": "2022-03-06T07:47:49.451Z"
   },
   {
    "duration": 4,
    "start_time": "2022-03-06T07:47:49.535Z"
   },
   {
    "duration": 7,
    "start_time": "2022-03-06T07:47:49.540Z"
   },
   {
    "duration": 3,
    "start_time": "2022-03-06T07:47:49.548Z"
   },
   {
    "duration": 57,
    "start_time": "2022-03-06T07:47:49.552Z"
   },
   {
    "duration": 305,
    "start_time": "2022-03-06T07:47:49.611Z"
   },
   {
    "duration": 36,
    "start_time": "2022-03-06T07:47:49.918Z"
   },
   {
    "duration": 4,
    "start_time": "2022-03-06T07:47:49.956Z"
   },
   {
    "duration": 14,
    "start_time": "2022-03-06T07:47:49.962Z"
   },
   {
    "duration": 20,
    "start_time": "2022-03-06T07:47:50.001Z"
   },
   {
    "duration": 47,
    "start_time": "2022-03-06T07:47:50.023Z"
   },
   {
    "duration": 32,
    "start_time": "2022-03-06T07:47:50.071Z"
   },
   {
    "duration": 7,
    "start_time": "2022-03-06T07:47:50.104Z"
   },
   {
    "duration": 16,
    "start_time": "2022-03-06T07:47:50.114Z"
   },
   {
    "duration": 3,
    "start_time": "2022-03-06T07:47:50.132Z"
   },
   {
    "duration": 32,
    "start_time": "2022-03-06T07:47:50.137Z"
   },
   {
    "duration": 59,
    "start_time": "2022-03-06T07:47:50.171Z"
   },
   {
    "duration": 34,
    "start_time": "2022-03-06T07:47:50.232Z"
   },
   {
    "duration": 83,
    "start_time": "2022-03-06T07:47:50.267Z"
   },
   {
    "duration": 19,
    "start_time": "2022-03-06T07:47:50.351Z"
   },
   {
    "duration": 388,
    "start_time": "2022-03-06T07:47:50.371Z"
   },
   {
    "duration": -516,
    "start_time": "2022-03-06T07:47:51.277Z"
   },
   {
    "duration": 22,
    "start_time": "2022-03-06T07:51:47.666Z"
   },
   {
    "duration": 297,
    "start_time": "2022-03-06T07:52:16.630Z"
   },
   {
    "duration": 20,
    "start_time": "2022-03-06T07:52:22.658Z"
   },
   {
    "duration": 11,
    "start_time": "2022-03-06T07:52:24.980Z"
   },
   {
    "duration": 7312,
    "start_time": "2022-03-06T07:52:54.099Z"
   },
   {
    "duration": 20,
    "start_time": "2022-03-06T07:54:15.645Z"
   },
   {
    "duration": 10,
    "start_time": "2022-03-06T07:54:44.317Z"
   },
   {
    "duration": 7355,
    "start_time": "2022-03-06T07:54:47.022Z"
   },
   {
    "duration": 19,
    "start_time": "2022-03-06T07:55:19.774Z"
   },
   {
    "duration": 11,
    "start_time": "2022-03-06T07:55:24.526Z"
   },
   {
    "duration": 53,
    "start_time": "2022-03-06T07:58:51.019Z"
   },
   {
    "duration": 101,
    "start_time": "2022-03-06T07:59:30.997Z"
   },
   {
    "duration": 26,
    "start_time": "2022-03-06T07:59:56.662Z"
   },
   {
    "duration": 311,
    "start_time": "2022-03-06T08:01:02.086Z"
   },
   {
    "duration": 25,
    "start_time": "2022-03-06T08:01:06.744Z"
   },
   {
    "duration": 877,
    "start_time": "2022-03-06T08:01:53.489Z"
   },
   {
    "duration": 311,
    "start_time": "2022-03-06T08:02:28.072Z"
   },
   {
    "duration": 26,
    "start_time": "2022-03-06T08:02:57.552Z"
   },
   {
    "duration": 25,
    "start_time": "2022-03-06T08:03:20.977Z"
   },
   {
    "duration": 28,
    "start_time": "2022-03-06T08:03:43.722Z"
   },
   {
    "duration": 16,
    "start_time": "2022-03-06T08:06:56.862Z"
   },
   {
    "duration": 15,
    "start_time": "2022-03-06T08:06:59.157Z"
   },
   {
    "duration": 1084,
    "start_time": "2022-03-06T08:07:52.313Z"
   },
   {
    "duration": 1012,
    "start_time": "2022-03-06T08:07:53.399Z"
   },
   {
    "duration": 14,
    "start_time": "2022-03-06T08:07:54.413Z"
   },
   {
    "duration": 4,
    "start_time": "2022-03-06T08:07:54.428Z"
   },
   {
    "duration": 13,
    "start_time": "2022-03-06T08:07:54.433Z"
   },
   {
    "duration": 72,
    "start_time": "2022-03-06T08:07:54.448Z"
   },
   {
    "duration": 99,
    "start_time": "2022-03-06T08:07:54.522Z"
   },
   {
    "duration": 14,
    "start_time": "2022-03-06T08:07:54.623Z"
   },
   {
    "duration": 84,
    "start_time": "2022-03-06T08:07:54.638Z"
   },
   {
    "duration": 3,
    "start_time": "2022-03-06T08:07:54.723Z"
   },
   {
    "duration": 7,
    "start_time": "2022-03-06T08:07:54.727Z"
   },
   {
    "duration": 4,
    "start_time": "2022-03-06T08:07:54.735Z"
   },
   {
    "duration": 28,
    "start_time": "2022-03-06T08:07:54.740Z"
   },
   {
    "duration": 326,
    "start_time": "2022-03-06T08:07:54.769Z"
   },
   {
    "duration": 34,
    "start_time": "2022-03-06T08:07:55.097Z"
   },
   {
    "duration": 4,
    "start_time": "2022-03-06T08:07:55.133Z"
   },
   {
    "duration": 13,
    "start_time": "2022-03-06T08:07:55.138Z"
   },
   {
    "duration": 49,
    "start_time": "2022-03-06T08:07:55.152Z"
   },
   {
    "duration": 42,
    "start_time": "2022-03-06T08:07:55.203Z"
   },
   {
    "duration": 9,
    "start_time": "2022-03-06T08:07:55.246Z"
   },
   {
    "duration": 5,
    "start_time": "2022-03-06T08:07:55.256Z"
   },
   {
    "duration": 40,
    "start_time": "2022-03-06T08:07:55.262Z"
   },
   {
    "duration": 4,
    "start_time": "2022-03-06T08:07:55.304Z"
   },
   {
    "duration": 37,
    "start_time": "2022-03-06T08:07:55.309Z"
   },
   {
    "duration": 60,
    "start_time": "2022-03-06T08:07:55.347Z"
   },
   {
    "duration": 32,
    "start_time": "2022-03-06T08:07:55.408Z"
   },
   {
    "duration": 72,
    "start_time": "2022-03-06T08:07:55.441Z"
   },
   {
    "duration": 13,
    "start_time": "2022-03-06T08:07:55.515Z"
   },
   {
    "duration": 9,
    "start_time": "2022-03-06T08:07:55.530Z"
   },
   {
    "duration": 76,
    "start_time": "2022-03-06T08:07:55.541Z"
   },
   {
    "duration": 7513,
    "start_time": "2022-03-06T08:07:55.619Z"
   },
   {
    "duration": 23,
    "start_time": "2022-03-06T08:09:58.041Z"
   },
   {
    "duration": 289,
    "start_time": "2022-03-06T08:09:58.307Z"
   },
   {
    "duration": 14,
    "start_time": "2022-03-06T08:10:44.811Z"
   },
   {
    "duration": 16,
    "start_time": "2022-03-06T08:11:00.396Z"
   },
   {
    "duration": 11,
    "start_time": "2022-03-06T08:11:40.108Z"
   },
   {
    "duration": 52,
    "start_time": "2022-03-06T08:14:19.255Z"
   },
   {
    "duration": 53,
    "start_time": "2022-03-06T08:17:25.845Z"
   },
   {
    "duration": 15,
    "start_time": "2022-03-06T08:18:16.564Z"
   },
   {
    "duration": 9,
    "start_time": "2022-03-06T08:18:42.181Z"
   },
   {
    "duration": 103,
    "start_time": "2022-03-06T08:20:22.328Z"
   },
   {
    "duration": 7,
    "start_time": "2022-03-06T08:23:45.636Z"
   },
   {
    "duration": 13,
    "start_time": "2022-03-06T08:25:35.942Z"
   },
   {
    "duration": 51,
    "start_time": "2022-03-06T08:30:55.261Z"
   },
   {
    "duration": 133,
    "start_time": "2022-03-06T08:32:59.056Z"
   },
   {
    "duration": 122,
    "start_time": "2022-03-06T08:34:06.433Z"
   },
   {
    "duration": 514,
    "start_time": "2022-03-06T08:38:16.430Z"
   },
   {
    "duration": 506,
    "start_time": "2022-03-06T08:38:40.735Z"
   },
   {
    "duration": 512,
    "start_time": "2022-03-06T08:39:40.250Z"
   },
   {
    "duration": 16,
    "start_time": "2022-03-06T08:43:53.703Z"
   },
   {
    "duration": 8,
    "start_time": "2022-03-06T08:44:55.503Z"
   },
   {
    "duration": 65,
    "start_time": "2022-03-06T08:52:50.646Z"
   },
   {
    "duration": 20,
    "start_time": "2022-03-06T08:53:20.674Z"
   },
   {
    "duration": 1195,
    "start_time": "2022-03-06T08:57:14.674Z"
   },
   {
    "duration": 1060,
    "start_time": "2022-03-06T08:57:15.871Z"
   },
   {
    "duration": 14,
    "start_time": "2022-03-06T08:57:16.933Z"
   },
   {
    "duration": 3,
    "start_time": "2022-03-06T08:57:16.949Z"
   },
   {
    "duration": 15,
    "start_time": "2022-03-06T08:57:16.953Z"
   },
   {
    "duration": 74,
    "start_time": "2022-03-06T08:57:16.970Z"
   },
   {
    "duration": 104,
    "start_time": "2022-03-06T08:57:17.045Z"
   },
   {
    "duration": 13,
    "start_time": "2022-03-06T08:57:17.152Z"
   },
   {
    "duration": 86,
    "start_time": "2022-03-06T08:57:17.166Z"
   },
   {
    "duration": 3,
    "start_time": "2022-03-06T08:57:17.254Z"
   },
   {
    "duration": 7,
    "start_time": "2022-03-06T08:57:17.258Z"
   },
   {
    "duration": 3,
    "start_time": "2022-03-06T08:57:17.267Z"
   },
   {
    "duration": 57,
    "start_time": "2022-03-06T08:57:17.271Z"
   },
   {
    "duration": 308,
    "start_time": "2022-03-06T08:57:17.330Z"
   },
   {
    "duration": 37,
    "start_time": "2022-03-06T08:57:17.640Z"
   },
   {
    "duration": 4,
    "start_time": "2022-03-06T08:57:17.679Z"
   },
   {
    "duration": 33,
    "start_time": "2022-03-06T08:57:17.685Z"
   },
   {
    "duration": 20,
    "start_time": "2022-03-06T08:57:17.719Z"
   },
   {
    "duration": 65,
    "start_time": "2022-03-06T08:57:17.740Z"
   },
   {
    "duration": 9,
    "start_time": "2022-03-06T08:57:17.806Z"
   },
   {
    "duration": 4,
    "start_time": "2022-03-06T08:57:17.817Z"
   },
   {
    "duration": 17,
    "start_time": "2022-03-06T08:57:17.822Z"
   },
   {
    "duration": 4,
    "start_time": "2022-03-06T08:57:17.842Z"
   },
   {
    "duration": 65,
    "start_time": "2022-03-06T08:57:17.847Z"
   },
   {
    "duration": 31,
    "start_time": "2022-03-06T08:57:17.913Z"
   },
   {
    "duration": 73,
    "start_time": "2022-03-06T08:57:17.946Z"
   },
   {
    "duration": 15,
    "start_time": "2022-03-06T08:57:18.020Z"
   },
   {
    "duration": 11,
    "start_time": "2022-03-06T08:57:18.037Z"
   },
   {
    "duration": 62,
    "start_time": "2022-03-06T08:57:18.049Z"
   },
   {
    "duration": 50,
    "start_time": "2022-03-06T08:57:18.113Z"
   },
   {
    "duration": 14,
    "start_time": "2022-03-06T08:57:18.164Z"
   },
   {
    "duration": 30,
    "start_time": "2022-03-06T08:57:18.180Z"
   },
   {
    "duration": 54,
    "start_time": "2022-03-06T08:57:18.212Z"
   },
   {
    "duration": 39,
    "start_time": "2022-03-06T08:57:18.267Z"
   },
   {
    "duration": 10,
    "start_time": "2022-03-06T08:57:18.308Z"
   },
   {
    "duration": 10,
    "start_time": "2022-03-06T08:57:18.319Z"
   },
   {
    "duration": 92,
    "start_time": "2022-03-06T08:57:18.330Z"
   },
   {
    "duration": 19,
    "start_time": "2022-03-06T08:57:18.424Z"
   },
   {
    "duration": 375,
    "start_time": "2022-03-06T08:57:18.444Z"
   },
   {
    "duration": -438,
    "start_time": "2022-03-06T08:57:19.259Z"
   },
   {
    "duration": -473,
    "start_time": "2022-03-06T08:57:19.294Z"
   },
   {
    "duration": 12,
    "start_time": "2022-03-06T09:01:06.168Z"
   },
   {
    "duration": 67,
    "start_time": "2022-03-06T09:01:11.304Z"
   },
   {
    "duration": 20,
    "start_time": "2022-03-06T09:01:16.513Z"
   },
   {
    "duration": 4,
    "start_time": "2022-03-06T09:02:15.066Z"
   },
   {
    "duration": 10,
    "start_time": "2022-03-06T09:02:24.434Z"
   },
   {
    "duration": 65,
    "start_time": "2022-03-06T09:02:28.858Z"
   },
   {
    "duration": 351,
    "start_time": "2022-03-06T09:03:48.564Z"
   },
   {
    "duration": 64,
    "start_time": "2022-03-06T09:04:01.788Z"
   },
   {
    "duration": 18,
    "start_time": "2022-03-06T09:04:06.316Z"
   },
   {
    "duration": 10,
    "start_time": "2022-03-06T09:05:08.656Z"
   },
   {
    "duration": 7335,
    "start_time": "2022-03-06T09:18:28.792Z"
   },
   {
    "duration": 1115,
    "start_time": "2022-03-06T09:19:06.784Z"
   },
   {
    "duration": 1048,
    "start_time": "2022-03-06T09:19:07.901Z"
   },
   {
    "duration": 13,
    "start_time": "2022-03-06T09:19:08.951Z"
   },
   {
    "duration": 3,
    "start_time": "2022-03-06T09:19:08.966Z"
   },
   {
    "duration": 38,
    "start_time": "2022-03-06T09:19:08.971Z"
   },
   {
    "duration": 45,
    "start_time": "2022-03-06T09:19:09.011Z"
   },
   {
    "duration": 105,
    "start_time": "2022-03-06T09:19:09.057Z"
   },
   {
    "duration": 14,
    "start_time": "2022-03-06T09:19:09.164Z"
   },
   {
    "duration": 91,
    "start_time": "2022-03-06T09:19:09.179Z"
   },
   {
    "duration": 4,
    "start_time": "2022-03-06T09:19:09.271Z"
   },
   {
    "duration": 27,
    "start_time": "2022-03-06T09:19:09.277Z"
   },
   {
    "duration": 4,
    "start_time": "2022-03-06T09:19:09.305Z"
   },
   {
    "duration": 30,
    "start_time": "2022-03-06T09:19:09.310Z"
   },
   {
    "duration": 307,
    "start_time": "2022-03-06T09:19:09.341Z"
   },
   {
    "duration": 35,
    "start_time": "2022-03-06T09:19:09.650Z"
   },
   {
    "duration": 17,
    "start_time": "2022-03-06T09:19:09.687Z"
   },
   {
    "duration": 13,
    "start_time": "2022-03-06T09:19:09.705Z"
   },
   {
    "duration": 19,
    "start_time": "2022-03-06T09:19:09.719Z"
   },
   {
    "duration": 73,
    "start_time": "2022-03-06T09:19:09.739Z"
   },
   {
    "duration": 8,
    "start_time": "2022-03-06T09:19:09.814Z"
   },
   {
    "duration": 5,
    "start_time": "2022-03-06T09:19:09.824Z"
   },
   {
    "duration": 15,
    "start_time": "2022-03-06T09:19:09.830Z"
   },
   {
    "duration": 3,
    "start_time": "2022-03-06T09:19:09.848Z"
   },
   {
    "duration": 65,
    "start_time": "2022-03-06T09:19:09.852Z"
   },
   {
    "duration": 31,
    "start_time": "2022-03-06T09:19:09.919Z"
   },
   {
    "duration": 73,
    "start_time": "2022-03-06T09:19:09.951Z"
   },
   {
    "duration": 15,
    "start_time": "2022-03-06T09:19:10.026Z"
   },
   {
    "duration": 12,
    "start_time": "2022-03-06T09:19:10.042Z"
   },
   {
    "duration": 61,
    "start_time": "2022-03-06T09:19:10.056Z"
   },
   {
    "duration": 51,
    "start_time": "2022-03-06T09:19:10.119Z"
   },
   {
    "duration": 36,
    "start_time": "2022-03-06T09:19:10.172Z"
   },
   {
    "duration": 10,
    "start_time": "2022-03-06T09:19:10.210Z"
   },
   {
    "duration": 54,
    "start_time": "2022-03-06T09:19:10.221Z"
   },
   {
    "duration": 37,
    "start_time": "2022-03-06T09:19:10.276Z"
   },
   {
    "duration": 11,
    "start_time": "2022-03-06T09:19:10.314Z"
   },
   {
    "duration": 8,
    "start_time": "2022-03-06T09:19:10.327Z"
   },
   {
    "duration": 103,
    "start_time": "2022-03-06T09:19:10.337Z"
   },
   {
    "duration": 16,
    "start_time": "2022-03-06T09:19:10.442Z"
   },
   {
    "duration": 11,
    "start_time": "2022-03-06T09:19:10.459Z"
   },
   {
    "duration": 7488,
    "start_time": "2022-03-06T09:33:44.396Z"
   },
   {
    "duration": 1124,
    "start_time": "2022-03-06T09:33:58.870Z"
   },
   {
    "duration": 1116,
    "start_time": "2022-03-06T09:33:59.995Z"
   },
   {
    "duration": 14,
    "start_time": "2022-03-06T09:34:01.112Z"
   },
   {
    "duration": 4,
    "start_time": "2022-03-06T09:34:01.129Z"
   },
   {
    "duration": 17,
    "start_time": "2022-03-06T09:34:01.135Z"
   },
   {
    "duration": 77,
    "start_time": "2022-03-06T09:34:01.154Z"
   },
   {
    "duration": 105,
    "start_time": "2022-03-06T09:34:01.232Z"
   },
   {
    "duration": 14,
    "start_time": "2022-03-06T09:34:01.340Z"
   },
   {
    "duration": 88,
    "start_time": "2022-03-06T09:34:01.356Z"
   },
   {
    "duration": 3,
    "start_time": "2022-03-06T09:34:01.446Z"
   },
   {
    "duration": 12,
    "start_time": "2022-03-06T09:34:01.450Z"
   },
   {
    "duration": 9,
    "start_time": "2022-03-06T09:34:01.464Z"
   },
   {
    "duration": 46,
    "start_time": "2022-03-06T09:34:01.475Z"
   },
   {
    "duration": 405,
    "start_time": "2022-03-06T09:34:01.523Z"
   },
   {
    "duration": 36,
    "start_time": "2022-03-06T09:34:01.930Z"
   },
   {
    "duration": 4,
    "start_time": "2022-03-06T09:34:01.968Z"
   },
   {
    "duration": 35,
    "start_time": "2022-03-06T09:34:01.974Z"
   },
   {
    "duration": 20,
    "start_time": "2022-03-06T09:34:02.010Z"
   },
   {
    "duration": 70,
    "start_time": "2022-03-06T09:34:02.032Z"
   },
   {
    "duration": 10,
    "start_time": "2022-03-06T09:34:02.103Z"
   },
   {
    "duration": 6,
    "start_time": "2022-03-06T09:34:02.114Z"
   },
   {
    "duration": 18,
    "start_time": "2022-03-06T09:34:02.122Z"
   },
   {
    "duration": 3,
    "start_time": "2022-03-06T09:34:02.143Z"
   },
   {
    "duration": 61,
    "start_time": "2022-03-06T09:34:02.148Z"
   },
   {
    "duration": 34,
    "start_time": "2022-03-06T09:34:02.211Z"
   },
   {
    "duration": 79,
    "start_time": "2022-03-06T09:34:02.247Z"
   },
   {
    "duration": 15,
    "start_time": "2022-03-06T09:34:02.328Z"
   },
   {
    "duration": 13,
    "start_time": "2022-03-06T09:34:02.344Z"
   },
   {
    "duration": 58,
    "start_time": "2022-03-06T09:34:02.358Z"
   },
   {
    "duration": 54,
    "start_time": "2022-03-06T09:34:02.417Z"
   },
   {
    "duration": 35,
    "start_time": "2022-03-06T09:34:02.473Z"
   },
   {
    "duration": 11,
    "start_time": "2022-03-06T09:34:02.509Z"
   },
   {
    "duration": 58,
    "start_time": "2022-03-06T09:34:02.521Z"
   },
   {
    "duration": 32,
    "start_time": "2022-03-06T09:34:02.581Z"
   },
   {
    "duration": 11,
    "start_time": "2022-03-06T09:34:02.615Z"
   },
   {
    "duration": 12,
    "start_time": "2022-03-06T09:34:02.628Z"
   },
   {
    "duration": 104,
    "start_time": "2022-03-06T09:34:02.641Z"
   },
   {
    "duration": 17,
    "start_time": "2022-03-06T09:34:02.746Z"
   },
   {
    "duration": 10,
    "start_time": "2022-03-06T09:34:02.764Z"
   },
   {
    "duration": 11,
    "start_time": "2022-03-06T09:44:45.916Z"
   },
   {
    "duration": 1130,
    "start_time": "2022-03-06T09:50:51.494Z"
   },
   {
    "duration": 1040,
    "start_time": "2022-03-06T09:50:52.625Z"
   },
   {
    "duration": 14,
    "start_time": "2022-03-06T09:50:53.667Z"
   },
   {
    "duration": 4,
    "start_time": "2022-03-06T09:50:53.682Z"
   },
   {
    "duration": 27,
    "start_time": "2022-03-06T09:50:53.687Z"
   },
   {
    "duration": 45,
    "start_time": "2022-03-06T09:50:53.715Z"
   },
   {
    "duration": 115,
    "start_time": "2022-03-06T09:50:53.762Z"
   },
   {
    "duration": 13,
    "start_time": "2022-03-06T09:50:53.879Z"
   },
   {
    "duration": 75,
    "start_time": "2022-03-06T09:50:53.902Z"
   },
   {
    "duration": 4,
    "start_time": "2022-03-06T09:50:53.979Z"
   },
   {
    "duration": 8,
    "start_time": "2022-03-06T09:50:54.002Z"
   },
   {
    "duration": 3,
    "start_time": "2022-03-06T09:50:54.012Z"
   },
   {
    "duration": 32,
    "start_time": "2022-03-06T09:50:54.017Z"
   },
   {
    "duration": 341,
    "start_time": "2022-03-06T09:50:54.051Z"
   },
   {
    "duration": 41,
    "start_time": "2022-03-06T09:50:54.394Z"
   },
   {
    "duration": 6,
    "start_time": "2022-03-06T09:50:54.438Z"
   },
   {
    "duration": 15,
    "start_time": "2022-03-06T09:50:54.446Z"
   },
   {
    "duration": 57,
    "start_time": "2022-03-06T09:50:54.463Z"
   },
   {
    "duration": 47,
    "start_time": "2022-03-06T09:50:54.522Z"
   },
   {
    "duration": 34,
    "start_time": "2022-03-06T09:50:54.571Z"
   },
   {
    "duration": 4,
    "start_time": "2022-03-06T09:50:54.607Z"
   },
   {
    "duration": 19,
    "start_time": "2022-03-06T09:50:54.613Z"
   },
   {
    "duration": 4,
    "start_time": "2022-03-06T09:50:54.637Z"
   },
   {
    "duration": 81,
    "start_time": "2022-03-06T09:50:54.643Z"
   },
   {
    "duration": 34,
    "start_time": "2022-03-06T09:50:54.726Z"
   },
   {
    "duration": 80,
    "start_time": "2022-03-06T09:50:54.762Z"
   },
   {
    "duration": 17,
    "start_time": "2022-03-06T09:50:54.844Z"
   },
   {
    "duration": 38,
    "start_time": "2022-03-06T09:50:54.863Z"
   },
   {
    "duration": 37,
    "start_time": "2022-03-06T09:50:54.903Z"
   },
   {
    "duration": 78,
    "start_time": "2022-03-06T09:50:54.942Z"
   },
   {
    "duration": 16,
    "start_time": "2022-03-06T09:50:55.022Z"
   },
   {
    "duration": 18,
    "start_time": "2022-03-06T09:50:55.040Z"
   },
   {
    "duration": 83,
    "start_time": "2022-03-06T09:50:55.060Z"
   },
   {
    "duration": 16,
    "start_time": "2022-03-06T09:50:55.145Z"
   },
   {
    "duration": 11,
    "start_time": "2022-03-06T09:50:55.163Z"
   },
   {
    "duration": 11,
    "start_time": "2022-03-06T09:50:55.202Z"
   },
   {
    "duration": 63,
    "start_time": "2022-03-06T09:50:55.214Z"
   },
   {
    "duration": 18,
    "start_time": "2022-03-06T09:50:55.301Z"
   },
   {
    "duration": 10,
    "start_time": "2022-03-06T09:50:55.320Z"
   },
   {
    "duration": 108,
    "start_time": "2022-03-06T09:58:14.436Z"
   },
   {
    "duration": 122,
    "start_time": "2022-03-06T09:58:33.002Z"
   },
   {
    "duration": 110,
    "start_time": "2022-03-06T09:58:46.170Z"
   },
   {
    "duration": 103,
    "start_time": "2022-03-06T09:58:56.282Z"
   },
   {
    "duration": 1107,
    "start_time": "2022-03-06T10:28:15.503Z"
   },
   {
    "duration": 1063,
    "start_time": "2022-03-06T10:28:16.612Z"
   },
   {
    "duration": 26,
    "start_time": "2022-03-06T10:28:17.678Z"
   },
   {
    "duration": 4,
    "start_time": "2022-03-06T10:28:17.706Z"
   },
   {
    "duration": 15,
    "start_time": "2022-03-06T10:28:17.712Z"
   },
   {
    "duration": 84,
    "start_time": "2022-03-06T10:28:17.728Z"
   },
   {
    "duration": 110,
    "start_time": "2022-03-06T10:28:17.814Z"
   },
   {
    "duration": 15,
    "start_time": "2022-03-06T10:28:17.928Z"
   },
   {
    "duration": 101,
    "start_time": "2022-03-06T10:28:17.945Z"
   },
   {
    "duration": 4,
    "start_time": "2022-03-06T10:28:18.048Z"
   },
   {
    "duration": 8,
    "start_time": "2022-03-06T10:28:18.054Z"
   },
   {
    "duration": 4,
    "start_time": "2022-03-06T10:28:18.063Z"
   },
   {
    "duration": 64,
    "start_time": "2022-03-06T10:28:18.069Z"
   },
   {
    "duration": 326,
    "start_time": "2022-03-06T10:28:18.135Z"
   },
   {
    "duration": 59,
    "start_time": "2022-03-06T10:28:18.463Z"
   },
   {
    "duration": 7,
    "start_time": "2022-03-06T10:28:18.524Z"
   },
   {
    "duration": 17,
    "start_time": "2022-03-06T10:28:18.533Z"
   },
   {
    "duration": 56,
    "start_time": "2022-03-06T10:28:18.552Z"
   },
   {
    "duration": 44,
    "start_time": "2022-03-06T10:28:18.610Z"
   },
   {
    "duration": 9,
    "start_time": "2022-03-06T10:28:18.656Z"
   },
   {
    "duration": 36,
    "start_time": "2022-03-06T10:28:18.666Z"
   },
   {
    "duration": 16,
    "start_time": "2022-03-06T10:28:18.703Z"
   },
   {
    "duration": 3,
    "start_time": "2022-03-06T10:28:18.721Z"
   },
   {
    "duration": 33,
    "start_time": "2022-03-06T10:28:18.726Z"
   },
   {
    "duration": 71,
    "start_time": "2022-03-06T10:28:18.760Z"
   },
   {
    "duration": 76,
    "start_time": "2022-03-06T10:28:18.832Z"
   },
   {
    "duration": 15,
    "start_time": "2022-03-06T10:28:18.909Z"
   },
   {
    "duration": 11,
    "start_time": "2022-03-06T10:28:18.926Z"
   },
   {
    "duration": 69,
    "start_time": "2022-03-06T10:28:18.938Z"
   },
   {
    "duration": 53,
    "start_time": "2022-03-06T10:28:19.008Z"
   },
   {
    "duration": 40,
    "start_time": "2022-03-06T10:28:19.063Z"
   },
   {
    "duration": 13,
    "start_time": "2022-03-06T10:28:19.105Z"
   },
   {
    "duration": 56,
    "start_time": "2022-03-06T10:28:19.119Z"
   },
   {
    "duration": 36,
    "start_time": "2022-03-06T10:28:19.176Z"
   },
   {
    "duration": 11,
    "start_time": "2022-03-06T10:28:19.214Z"
   },
   {
    "duration": 12,
    "start_time": "2022-03-06T10:28:19.227Z"
   },
   {
    "duration": 119,
    "start_time": "2022-03-06T10:28:19.241Z"
   },
   {
    "duration": 20,
    "start_time": "2022-03-06T10:28:19.362Z"
   },
   {
    "duration": 26,
    "start_time": "2022-03-06T10:28:19.384Z"
   },
   {
    "duration": 1093,
    "start_time": "2022-03-06T10:29:34.502Z"
   },
   {
    "duration": 1071,
    "start_time": "2022-03-06T10:29:35.597Z"
   },
   {
    "duration": 31,
    "start_time": "2022-03-06T10:29:36.672Z"
   },
   {
    "duration": 4,
    "start_time": "2022-03-06T10:29:36.704Z"
   },
   {
    "duration": 15,
    "start_time": "2022-03-06T10:29:36.709Z"
   },
   {
    "duration": 76,
    "start_time": "2022-03-06T10:29:36.726Z"
   },
   {
    "duration": 98,
    "start_time": "2022-03-06T10:29:36.805Z"
   },
   {
    "duration": 14,
    "start_time": "2022-03-06T10:29:36.905Z"
   },
   {
    "duration": 98,
    "start_time": "2022-03-06T10:29:36.920Z"
   },
   {
    "duration": 4,
    "start_time": "2022-03-06T10:29:37.019Z"
   },
   {
    "duration": 6,
    "start_time": "2022-03-06T10:29:37.025Z"
   },
   {
    "duration": 3,
    "start_time": "2022-03-06T10:29:37.033Z"
   },
   {
    "duration": 68,
    "start_time": "2022-03-06T10:29:37.038Z"
   },
   {
    "duration": 311,
    "start_time": "2022-03-06T10:29:37.108Z"
   },
   {
    "duration": 39,
    "start_time": "2022-03-06T10:29:37.420Z"
   },
   {
    "duration": 6,
    "start_time": "2022-03-06T10:29:37.461Z"
   },
   {
    "duration": 43,
    "start_time": "2022-03-06T10:29:37.469Z"
   },
   {
    "duration": 21,
    "start_time": "2022-03-06T10:29:37.514Z"
   },
   {
    "duration": 75,
    "start_time": "2022-03-06T10:29:37.537Z"
   },
   {
    "duration": 9,
    "start_time": "2022-03-06T10:29:37.614Z"
   },
   {
    "duration": 5,
    "start_time": "2022-03-06T10:29:37.625Z"
   },
   {
    "duration": 17,
    "start_time": "2022-03-06T10:29:37.633Z"
   },
   {
    "duration": 3,
    "start_time": "2022-03-06T10:29:37.652Z"
   },
   {
    "duration": 76,
    "start_time": "2022-03-06T10:29:37.656Z"
   },
   {
    "duration": 34,
    "start_time": "2022-03-06T10:29:37.733Z"
   },
   {
    "duration": 81,
    "start_time": "2022-03-06T10:29:37.768Z"
   },
   {
    "duration": 16,
    "start_time": "2022-03-06T10:29:37.850Z"
   },
   {
    "duration": 40,
    "start_time": "2022-03-06T10:29:37.867Z"
   },
   {
    "duration": 35,
    "start_time": "2022-03-06T10:29:37.909Z"
   },
   {
    "duration": 85,
    "start_time": "2022-03-06T10:29:37.945Z"
   },
   {
    "duration": 17,
    "start_time": "2022-03-06T10:29:38.032Z"
   },
   {
    "duration": 13,
    "start_time": "2022-03-06T10:29:38.051Z"
   },
   {
    "duration": 85,
    "start_time": "2022-03-06T10:29:38.065Z"
   },
   {
    "duration": 56,
    "start_time": "2022-03-06T10:29:38.153Z"
   },
   {
    "duration": 14,
    "start_time": "2022-03-06T10:29:38.211Z"
   },
   {
    "duration": 13,
    "start_time": "2022-03-06T10:29:38.227Z"
   },
   {
    "duration": 106,
    "start_time": "2022-03-06T10:29:38.241Z"
   },
   {
    "duration": 17,
    "start_time": "2022-03-06T10:29:38.348Z"
   },
   {
    "duration": 9,
    "start_time": "2022-03-06T10:29:38.367Z"
   },
   {
    "duration": 1191,
    "start_time": "2022-03-06T10:35:19.713Z"
   },
   {
    "duration": 1038,
    "start_time": "2022-03-06T10:35:20.905Z"
   },
   {
    "duration": 17,
    "start_time": "2022-03-06T10:35:21.945Z"
   },
   {
    "duration": 4,
    "start_time": "2022-03-06T10:35:21.964Z"
   },
   {
    "duration": 40,
    "start_time": "2022-03-06T10:35:21.970Z"
   },
   {
    "duration": 49,
    "start_time": "2022-03-06T10:35:22.012Z"
   },
   {
    "duration": 129,
    "start_time": "2022-03-06T10:35:22.062Z"
   },
   {
    "duration": 20,
    "start_time": "2022-03-06T10:35:22.195Z"
   },
   {
    "duration": 90,
    "start_time": "2022-03-06T10:35:22.217Z"
   },
   {
    "duration": 4,
    "start_time": "2022-03-06T10:35:22.309Z"
   },
   {
    "duration": 8,
    "start_time": "2022-03-06T10:35:22.315Z"
   },
   {
    "duration": 5,
    "start_time": "2022-03-06T10:35:22.325Z"
   },
   {
    "duration": 77,
    "start_time": "2022-03-06T10:35:22.332Z"
   },
   {
    "duration": 304,
    "start_time": "2022-03-06T10:35:22.410Z"
   },
   {
    "duration": 35,
    "start_time": "2022-03-06T10:35:22.716Z"
   },
   {
    "duration": 4,
    "start_time": "2022-03-06T10:35:22.753Z"
   },
   {
    "duration": 13,
    "start_time": "2022-03-06T10:35:22.758Z"
   },
   {
    "duration": 43,
    "start_time": "2022-03-06T10:35:22.773Z"
   },
   {
    "duration": 43,
    "start_time": "2022-03-06T10:35:22.818Z"
   },
   {
    "duration": 8,
    "start_time": "2022-03-06T10:35:22.863Z"
   },
   {
    "duration": 30,
    "start_time": "2022-03-06T10:35:22.873Z"
   },
   {
    "duration": 15,
    "start_time": "2022-03-06T10:35:22.905Z"
   },
   {
    "duration": 3,
    "start_time": "2022-03-06T10:35:22.923Z"
   },
   {
    "duration": 32,
    "start_time": "2022-03-06T10:35:22.928Z"
   },
   {
    "duration": 65,
    "start_time": "2022-03-06T10:35:22.961Z"
   },
   {
    "duration": 54,
    "start_time": "2022-03-06T10:35:23.027Z"
   },
   {
    "duration": 31,
    "start_time": "2022-03-06T10:35:23.082Z"
   },
   {
    "duration": 11,
    "start_time": "2022-03-06T10:35:23.115Z"
   },
   {
    "duration": 34,
    "start_time": "2022-03-06T10:35:23.127Z"
   },
   {
    "duration": 83,
    "start_time": "2022-03-06T10:35:23.163Z"
   },
   {
    "duration": 14,
    "start_time": "2022-03-06T10:35:23.247Z"
   },
   {
    "duration": 10,
    "start_time": "2022-03-06T10:35:23.263Z"
   },
   {
    "duration": 51,
    "start_time": "2022-03-06T10:35:23.301Z"
   },
   {
    "duration": 15,
    "start_time": "2022-03-06T10:35:23.354Z"
   },
   {
    "duration": 37,
    "start_time": "2022-03-06T10:35:23.371Z"
   },
   {
    "duration": 9,
    "start_time": "2022-03-06T10:35:23.409Z"
   },
   {
    "duration": 83,
    "start_time": "2022-03-06T10:35:23.419Z"
   },
   {
    "duration": 17,
    "start_time": "2022-03-06T10:35:23.504Z"
   },
   {
    "duration": 10,
    "start_time": "2022-03-06T10:35:23.522Z"
   },
   {
    "duration": 1116,
    "start_time": "2022-03-06T10:37:05.419Z"
   },
   {
    "duration": 947,
    "start_time": "2022-03-06T10:37:06.537Z"
   },
   {
    "duration": 20,
    "start_time": "2022-03-06T10:37:07.486Z"
   },
   {
    "duration": 3,
    "start_time": "2022-03-06T10:37:07.508Z"
   },
   {
    "duration": 16,
    "start_time": "2022-03-06T10:37:07.513Z"
   },
   {
    "duration": 73,
    "start_time": "2022-03-06T10:37:07.530Z"
   },
   {
    "duration": 107,
    "start_time": "2022-03-06T10:37:07.605Z"
   },
   {
    "duration": 13,
    "start_time": "2022-03-06T10:37:07.715Z"
   },
   {
    "duration": 87,
    "start_time": "2022-03-06T10:37:07.730Z"
   },
   {
    "duration": 4,
    "start_time": "2022-03-06T10:37:07.819Z"
   },
   {
    "duration": 10,
    "start_time": "2022-03-06T10:37:07.825Z"
   },
   {
    "duration": 4,
    "start_time": "2022-03-06T10:37:07.836Z"
   },
   {
    "duration": 71,
    "start_time": "2022-03-06T10:37:07.842Z"
   },
   {
    "duration": 310,
    "start_time": "2022-03-06T10:37:07.915Z"
   },
   {
    "duration": 37,
    "start_time": "2022-03-06T10:37:08.226Z"
   },
   {
    "duration": 5,
    "start_time": "2022-03-06T10:37:08.265Z"
   },
   {
    "duration": 40,
    "start_time": "2022-03-06T10:37:08.271Z"
   },
   {
    "duration": 21,
    "start_time": "2022-03-06T10:37:08.313Z"
   },
   {
    "duration": 99,
    "start_time": "2022-03-06T10:37:08.335Z"
   },
   {
    "duration": 9,
    "start_time": "2022-03-06T10:37:08.436Z"
   },
   {
    "duration": 4,
    "start_time": "2022-03-06T10:37:08.447Z"
   },
   {
    "duration": 16,
    "start_time": "2022-03-06T10:37:08.453Z"
   },
   {
    "duration": 32,
    "start_time": "2022-03-06T10:37:08.472Z"
   },
   {
    "duration": 35,
    "start_time": "2022-03-06T10:37:08.506Z"
   },
   {
    "duration": 62,
    "start_time": "2022-03-06T10:37:08.542Z"
   },
   {
    "duration": 55,
    "start_time": "2022-03-06T10:37:08.606Z"
   },
   {
    "duration": 17,
    "start_time": "2022-03-06T10:37:08.662Z"
   },
   {
    "duration": 13,
    "start_time": "2022-03-06T10:37:08.702Z"
   },
   {
    "duration": 36,
    "start_time": "2022-03-06T10:37:08.717Z"
   },
   {
    "duration": 91,
    "start_time": "2022-03-06T10:37:08.755Z"
   },
   {
    "duration": 17,
    "start_time": "2022-03-06T10:37:08.848Z"
   },
   {
    "duration": 12,
    "start_time": "2022-03-06T10:37:08.866Z"
   },
   {
    "duration": 53,
    "start_time": "2022-03-06T10:37:08.902Z"
   },
   {
    "duration": 48,
    "start_time": "2022-03-06T10:37:08.957Z"
   },
   {
    "duration": 11,
    "start_time": "2022-03-06T10:37:09.007Z"
   },
   {
    "duration": 11,
    "start_time": "2022-03-06T10:37:09.020Z"
   },
   {
    "duration": 89,
    "start_time": "2022-03-06T10:37:09.033Z"
   },
   {
    "duration": 18,
    "start_time": "2022-03-06T10:37:09.123Z"
   },
   {
    "duration": 11,
    "start_time": "2022-03-06T10:37:09.142Z"
   },
   {
    "duration": 1019,
    "start_time": "2022-03-06T10:49:31.420Z"
   },
   {
    "duration": 963,
    "start_time": "2022-03-06T10:49:32.441Z"
   },
   {
    "duration": 13,
    "start_time": "2022-03-06T10:49:33.406Z"
   },
   {
    "duration": 4,
    "start_time": "2022-03-06T10:49:33.421Z"
   },
   {
    "duration": 15,
    "start_time": "2022-03-06T10:49:33.426Z"
   },
   {
    "duration": 84,
    "start_time": "2022-03-06T10:49:33.442Z"
   },
   {
    "duration": 102,
    "start_time": "2022-03-06T10:49:33.527Z"
   },
   {
    "duration": 15,
    "start_time": "2022-03-06T10:49:33.632Z"
   },
   {
    "duration": 92,
    "start_time": "2022-03-06T10:49:33.649Z"
   },
   {
    "duration": 5,
    "start_time": "2022-03-06T10:49:33.742Z"
   },
   {
    "duration": 8,
    "start_time": "2022-03-06T10:49:33.748Z"
   },
   {
    "duration": 3,
    "start_time": "2022-03-06T10:49:33.757Z"
   },
   {
    "duration": 59,
    "start_time": "2022-03-06T10:49:33.761Z"
   },
   {
    "duration": 316,
    "start_time": "2022-03-06T10:49:33.822Z"
   },
   {
    "duration": 36,
    "start_time": "2022-03-06T10:49:34.139Z"
   },
   {
    "duration": 4,
    "start_time": "2022-03-06T10:49:34.177Z"
   },
   {
    "duration": 29,
    "start_time": "2022-03-06T10:49:34.183Z"
   },
   {
    "duration": 19,
    "start_time": "2022-03-06T10:49:34.214Z"
   },
   {
    "duration": 111,
    "start_time": "2022-03-06T10:49:34.235Z"
   },
   {
    "duration": 9,
    "start_time": "2022-03-06T10:49:34.347Z"
   },
   {
    "duration": 8,
    "start_time": "2022-03-06T10:49:34.357Z"
   },
   {
    "duration": 38,
    "start_time": "2022-03-06T10:49:34.366Z"
   },
   {
    "duration": 4,
    "start_time": "2022-03-06T10:49:34.407Z"
   },
   {
    "duration": 33,
    "start_time": "2022-03-06T10:49:34.412Z"
   },
   {
    "duration": 58,
    "start_time": "2022-03-06T10:49:34.447Z"
   },
   {
    "duration": 54,
    "start_time": "2022-03-06T10:49:34.507Z"
   },
   {
    "duration": 40,
    "start_time": "2022-03-06T10:49:34.562Z"
   },
   {
    "duration": 11,
    "start_time": "2022-03-06T10:49:34.604Z"
   },
   {
    "duration": 38,
    "start_time": "2022-03-06T10:49:34.617Z"
   },
   {
    "duration": 84,
    "start_time": "2022-03-06T10:49:34.657Z"
   },
   {
    "duration": 14,
    "start_time": "2022-03-06T10:49:34.742Z"
   },
   {
    "duration": 10,
    "start_time": "2022-03-06T10:49:34.758Z"
   },
   {
    "duration": 78,
    "start_time": "2022-03-06T10:49:34.770Z"
   },
   {
    "duration": 16,
    "start_time": "2022-03-06T10:49:34.849Z"
   },
   {
    "duration": 35,
    "start_time": "2022-03-06T10:49:34.866Z"
   },
   {
    "duration": 12,
    "start_time": "2022-03-06T10:49:34.903Z"
   },
   {
    "duration": 88,
    "start_time": "2022-03-06T10:49:34.916Z"
   },
   {
    "duration": 17,
    "start_time": "2022-03-06T10:49:35.005Z"
   },
   {
    "duration": 10,
    "start_time": "2022-03-06T10:49:35.023Z"
   },
   {
    "duration": 1053,
    "start_time": "2022-03-06T16:48:00.525Z"
   },
   {
    "duration": 960,
    "start_time": "2022-03-06T16:48:01.580Z"
   },
   {
    "duration": 15,
    "start_time": "2022-03-06T16:48:02.543Z"
   },
   {
    "duration": 6,
    "start_time": "2022-03-06T16:48:02.560Z"
   },
   {
    "duration": 29,
    "start_time": "2022-03-06T16:48:02.568Z"
   },
   {
    "duration": 65,
    "start_time": "2022-03-06T16:48:02.598Z"
   },
   {
    "duration": 118,
    "start_time": "2022-03-06T16:48:02.665Z"
   },
   {
    "duration": 13,
    "start_time": "2022-03-06T16:48:02.785Z"
   },
   {
    "duration": 85,
    "start_time": "2022-03-06T16:48:02.801Z"
   },
   {
    "duration": 4,
    "start_time": "2022-03-06T16:48:02.888Z"
   },
   {
    "duration": 9,
    "start_time": "2022-03-06T16:48:02.893Z"
   },
   {
    "duration": 4,
    "start_time": "2022-03-06T16:48:02.903Z"
   },
   {
    "duration": 53,
    "start_time": "2022-03-06T16:48:02.908Z"
   },
   {
    "duration": 310,
    "start_time": "2022-03-06T16:48:02.963Z"
   },
   {
    "duration": 38,
    "start_time": "2022-03-06T16:48:03.275Z"
   },
   {
    "duration": 21,
    "start_time": "2022-03-06T16:48:03.314Z"
   },
   {
    "duration": 13,
    "start_time": "2022-03-06T16:48:03.337Z"
   },
   {
    "duration": 20,
    "start_time": "2022-03-06T16:48:03.351Z"
   },
   {
    "duration": 106,
    "start_time": "2022-03-06T16:48:03.373Z"
   },
   {
    "duration": 10,
    "start_time": "2022-03-06T16:48:03.481Z"
   },
   {
    "duration": 6,
    "start_time": "2022-03-06T16:48:03.493Z"
   },
   {
    "duration": 41,
    "start_time": "2022-03-06T16:48:03.501Z"
   },
   {
    "duration": 4,
    "start_time": "2022-03-06T16:48:03.544Z"
   },
   {
    "duration": 35,
    "start_time": "2022-03-06T16:48:03.550Z"
   },
   {
    "duration": 64,
    "start_time": "2022-03-06T16:48:03.587Z"
   },
   {
    "duration": 56,
    "start_time": "2022-03-06T16:48:03.653Z"
   },
   {
    "duration": 17,
    "start_time": "2022-03-06T16:48:03.733Z"
   },
   {
    "duration": 12,
    "start_time": "2022-03-06T16:48:03.753Z"
   },
   {
    "duration": 44,
    "start_time": "2022-03-06T16:48:03.767Z"
   },
   {
    "duration": 72,
    "start_time": "2022-03-06T16:48:03.812Z"
   },
   {
    "duration": 14,
    "start_time": "2022-03-06T16:48:03.885Z"
   },
   {
    "duration": 32,
    "start_time": "2022-03-06T16:48:03.901Z"
   },
   {
    "duration": 52,
    "start_time": "2022-03-06T16:48:03.934Z"
   },
   {
    "duration": 13,
    "start_time": "2022-03-06T16:48:03.988Z"
   },
   {
    "duration": 32,
    "start_time": "2022-03-06T16:48:04.003Z"
   },
   {
    "duration": 14,
    "start_time": "2022-03-06T16:48:04.036Z"
   },
   {
    "duration": 69,
    "start_time": "2022-03-06T16:48:04.052Z"
   },
   {
    "duration": 18,
    "start_time": "2022-03-06T16:48:04.133Z"
   },
   {
    "duration": 11,
    "start_time": "2022-03-06T16:48:04.153Z"
   },
   {
    "duration": 990,
    "start_time": "2022-03-07T03:27:40.635Z"
   },
   {
    "duration": 911,
    "start_time": "2022-03-07T03:27:41.627Z"
   },
   {
    "duration": 13,
    "start_time": "2022-03-07T03:27:42.539Z"
   },
   {
    "duration": 3,
    "start_time": "2022-03-07T03:27:42.554Z"
   },
   {
    "duration": 14,
    "start_time": "2022-03-07T03:27:42.559Z"
   },
   {
    "duration": 61,
    "start_time": "2022-03-07T03:27:42.575Z"
   },
   {
    "duration": 98,
    "start_time": "2022-03-07T03:27:42.638Z"
   },
   {
    "duration": 13,
    "start_time": "2022-03-07T03:27:42.738Z"
   },
   {
    "duration": 81,
    "start_time": "2022-03-07T03:27:42.752Z"
   },
   {
    "duration": 2,
    "start_time": "2022-03-07T03:27:42.835Z"
   },
   {
    "duration": 9,
    "start_time": "2022-03-07T03:27:42.839Z"
   },
   {
    "duration": 3,
    "start_time": "2022-03-07T03:27:42.850Z"
   },
   {
    "duration": 9,
    "start_time": "2022-03-07T03:27:42.854Z"
   },
   {
    "duration": 4,
    "start_time": "2022-03-07T03:27:42.865Z"
   },
   {
    "duration": 50,
    "start_time": "2022-03-07T03:27:42.870Z"
   },
   {
    "duration": 285,
    "start_time": "2022-03-07T03:27:42.922Z"
   },
   {
    "duration": 35,
    "start_time": "2022-03-07T03:27:43.209Z"
   },
   {
    "duration": 5,
    "start_time": "2022-03-07T03:27:43.246Z"
   },
   {
    "duration": 14,
    "start_time": "2022-03-07T03:27:43.252Z"
   },
   {
    "duration": 40,
    "start_time": "2022-03-07T03:27:43.268Z"
   },
   {
    "duration": 80,
    "start_time": "2022-03-07T03:27:43.310Z"
   },
   {
    "duration": 16,
    "start_time": "2022-03-07T03:27:43.392Z"
   },
   {
    "duration": 4,
    "start_time": "2022-03-07T03:27:43.411Z"
   },
   {
    "duration": 15,
    "start_time": "2022-03-07T03:27:43.417Z"
   },
   {
    "duration": 3,
    "start_time": "2022-03-07T03:27:43.434Z"
   },
   {
    "duration": 32,
    "start_time": "2022-03-07T03:27:43.438Z"
   },
   {
    "duration": 59,
    "start_time": "2022-03-07T03:27:43.471Z"
   },
   {
    "duration": 49,
    "start_time": "2022-03-07T03:27:43.532Z"
   },
   {
    "duration": 31,
    "start_time": "2022-03-07T03:27:43.583Z"
   },
   {
    "duration": 11,
    "start_time": "2022-03-07T03:27:43.616Z"
   },
   {
    "duration": 35,
    "start_time": "2022-03-07T03:27:43.628Z"
   },
   {
    "duration": 69,
    "start_time": "2022-03-07T03:27:43.665Z"
   },
   {
    "duration": 13,
    "start_time": "2022-03-07T03:27:43.736Z"
   },
   {
    "duration": 10,
    "start_time": "2022-03-07T03:27:43.750Z"
   },
   {
    "duration": 73,
    "start_time": "2022-03-07T03:27:43.762Z"
   },
   {
    "duration": 13,
    "start_time": "2022-03-07T03:27:43.836Z"
   },
   {
    "duration": 11,
    "start_time": "2022-03-07T03:27:43.850Z"
   },
   {
    "duration": 12,
    "start_time": "2022-03-07T03:27:43.862Z"
   },
   {
    "duration": 91,
    "start_time": "2022-03-07T03:27:43.875Z"
   },
   {
    "duration": 17,
    "start_time": "2022-03-07T03:27:43.967Z"
   },
   {
    "duration": 22,
    "start_time": "2022-03-07T03:27:43.985Z"
   },
   {
    "duration": 360,
    "start_time": "2022-03-07T03:29:06.035Z"
   },
   {
    "duration": 4,
    "start_time": "2022-03-07T03:29:35.640Z"
   },
   {
    "duration": 20,
    "start_time": "2022-03-07T03:29:56.465Z"
   },
   {
    "duration": 13,
    "start_time": "2022-03-07T03:31:51.771Z"
   },
   {
    "duration": 344,
    "start_time": "2022-03-07T03:32:21.220Z"
   },
   {
    "duration": 288,
    "start_time": "2022-03-07T03:32:33.140Z"
   },
   {
    "duration": 14,
    "start_time": "2022-03-07T03:32:49.172Z"
   },
   {
    "duration": 14,
    "start_time": "2022-03-07T03:33:16.637Z"
   },
   {
    "duration": 324,
    "start_time": "2022-03-07T03:35:32.338Z"
   },
   {
    "duration": 656,
    "start_time": "2022-03-07T03:35:43.052Z"
   },
   {
    "duration": 988,
    "start_time": "2022-03-07T03:46:18.065Z"
   },
   {
    "duration": 1208,
    "start_time": "2022-03-07T03:46:36.815Z"
   },
   {
    "duration": 661,
    "start_time": "2022-03-07T03:47:18.888Z"
   },
   {
    "duration": 16,
    "start_time": "2022-03-07T03:48:55.050Z"
   },
   {
    "duration": 17,
    "start_time": "2022-03-07T03:52:33.306Z"
   },
   {
    "duration": 16,
    "start_time": "2022-03-07T03:53:01.504Z"
   },
   {
    "duration": 4,
    "start_time": "2022-03-07T03:53:42.536Z"
   },
   {
    "duration": 8,
    "start_time": "2022-03-07T04:06:03.258Z"
   },
   {
    "duration": 12,
    "start_time": "2022-03-07T04:06:28.361Z"
   },
   {
    "duration": 7,
    "start_time": "2022-03-07T04:07:09.857Z"
   },
   {
    "duration": 20,
    "start_time": "2022-03-07T04:13:44.026Z"
   },
   {
    "duration": 6,
    "start_time": "2022-03-07T04:17:54.063Z"
   },
   {
    "duration": 13,
    "start_time": "2022-03-07T04:19:25.188Z"
   },
   {
    "duration": 11,
    "start_time": "2022-03-07T04:19:42.533Z"
   },
   {
    "duration": 11,
    "start_time": "2022-03-07T04:20:04.259Z"
   },
   {
    "duration": 80,
    "start_time": "2022-03-07T04:22:24.178Z"
   },
   {
    "duration": 18,
    "start_time": "2022-03-07T04:22:40.501Z"
   },
   {
    "duration": 250,
    "start_time": "2022-03-07T04:23:13.446Z"
   },
   {
    "duration": 177,
    "start_time": "2022-03-07T04:23:33.672Z"
   },
   {
    "duration": 3,
    "start_time": "2022-03-07T04:23:45.503Z"
   },
   {
    "duration": 105,
    "start_time": "2022-03-07T04:25:49.291Z"
   },
   {
    "duration": 21,
    "start_time": "2022-03-07T04:26:12.980Z"
   },
   {
    "duration": 20,
    "start_time": "2022-03-07T04:26:23.017Z"
   },
   {
    "duration": 21,
    "start_time": "2022-03-07T04:28:29.080Z"
   },
   {
    "duration": 25,
    "start_time": "2022-03-07T04:29:02.862Z"
   },
   {
    "duration": 22,
    "start_time": "2022-03-07T04:29:20.648Z"
   },
   {
    "duration": 21,
    "start_time": "2022-03-07T04:29:29.927Z"
   },
   {
    "duration": 298,
    "start_time": "2022-03-07T04:31:45.260Z"
   },
   {
    "duration": 4,
    "start_time": "2022-03-07T04:31:52.505Z"
   },
   {
    "duration": 4,
    "start_time": "2022-03-07T04:32:09.113Z"
   },
   {
    "duration": 3,
    "start_time": "2022-03-07T04:32:18.866Z"
   },
   {
    "duration": 3,
    "start_time": "2022-03-07T04:32:25.434Z"
   },
   {
    "duration": 21,
    "start_time": "2022-03-07T04:34:45.498Z"
   },
   {
    "duration": 177,
    "start_time": "2022-03-07T04:34:46.300Z"
   },
   {
    "duration": 3,
    "start_time": "2022-03-07T04:34:46.805Z"
   },
   {
    "duration": 27,
    "start_time": "2022-03-07T04:39:23.447Z"
   },
   {
    "duration": 5467,
    "start_time": "2022-03-07T04:43:46.860Z"
   },
   {
    "duration": 28,
    "start_time": "2022-03-07T04:44:57.876Z"
   },
   {
    "duration": 31,
    "start_time": "2022-03-07T04:45:43.780Z"
   },
   {
    "duration": 108,
    "start_time": "2022-03-07T04:46:10.436Z"
   },
   {
    "duration": 96,
    "start_time": "2022-03-07T04:46:33.893Z"
   },
   {
    "duration": 89,
    "start_time": "2022-03-07T04:47:02.199Z"
   },
   {
    "duration": 1009,
    "start_time": "2022-03-07T04:47:21.322Z"
   },
   {
    "duration": 901,
    "start_time": "2022-03-07T04:47:22.333Z"
   },
   {
    "duration": 14,
    "start_time": "2022-03-07T04:47:23.236Z"
   },
   {
    "duration": 3,
    "start_time": "2022-03-07T04:47:23.252Z"
   },
   {
    "duration": 17,
    "start_time": "2022-03-07T04:47:23.257Z"
   },
   {
    "duration": 66,
    "start_time": "2022-03-07T04:47:23.275Z"
   },
   {
    "duration": 95,
    "start_time": "2022-03-07T04:47:23.342Z"
   },
   {
    "duration": 12,
    "start_time": "2022-03-07T04:47:23.439Z"
   },
   {
    "duration": 79,
    "start_time": "2022-03-07T04:47:23.452Z"
   },
   {
    "duration": 3,
    "start_time": "2022-03-07T04:47:23.532Z"
   },
   {
    "duration": 9,
    "start_time": "2022-03-07T04:47:23.536Z"
   },
   {
    "duration": 3,
    "start_time": "2022-03-07T04:47:23.546Z"
   },
   {
    "duration": 22,
    "start_time": "2022-03-07T04:47:23.550Z"
   },
   {
    "duration": 3,
    "start_time": "2022-03-07T04:47:23.574Z"
   },
   {
    "duration": 686,
    "start_time": "2022-03-07T04:47:23.579Z"
   },
   {
    "duration": 7,
    "start_time": "2022-03-07T04:47:24.266Z"
   },
   {
    "duration": 42,
    "start_time": "2022-03-07T04:47:24.274Z"
   },
   {
    "duration": 287,
    "start_time": "2022-03-07T04:47:24.318Z"
   },
   {
    "duration": 24,
    "start_time": "2022-03-07T04:47:24.607Z"
   },
   {
    "duration": 186,
    "start_time": "2022-03-07T04:47:24.632Z"
   },
   {
    "duration": 3,
    "start_time": "2022-03-07T04:47:24.819Z"
   },
   {
    "duration": 7,
    "start_time": "2022-03-07T04:47:24.823Z"
   },
   {
    "duration": 101,
    "start_time": "2022-03-07T04:47:24.833Z"
   },
   {
    "duration": 98,
    "start_time": "2022-03-07T04:47:24.838Z"
   },
   {
    "duration": 89,
    "start_time": "2022-03-07T04:47:24.848Z"
   },
   {
    "duration": 80,
    "start_time": "2022-03-07T04:47:24.858Z"
   },
   {
    "duration": 69,
    "start_time": "2022-03-07T04:47:24.869Z"
   },
   {
    "duration": 59,
    "start_time": "2022-03-07T04:47:24.880Z"
   },
   {
    "duration": 50,
    "start_time": "2022-03-07T04:47:24.890Z"
   },
   {
    "duration": 41,
    "start_time": "2022-03-07T04:47:24.900Z"
   },
   {
    "duration": 31,
    "start_time": "2022-03-07T04:47:24.910Z"
   },
   {
    "duration": 20,
    "start_time": "2022-03-07T04:47:24.922Z"
   },
   {
    "duration": 9,
    "start_time": "2022-03-07T04:47:24.934Z"
   },
   {
    "duration": -8,
    "start_time": "2022-03-07T04:47:24.952Z"
   },
   {
    "duration": -19,
    "start_time": "2022-03-07T04:47:24.964Z"
   },
   {
    "duration": -36,
    "start_time": "2022-03-07T04:47:24.981Z"
   },
   {
    "duration": -49,
    "start_time": "2022-03-07T04:47:24.995Z"
   },
   {
    "duration": -61,
    "start_time": "2022-03-07T04:47:25.007Z"
   },
   {
    "duration": -75,
    "start_time": "2022-03-07T04:47:25.022Z"
   },
   {
    "duration": -89,
    "start_time": "2022-03-07T04:47:25.037Z"
   },
   {
    "duration": -111,
    "start_time": "2022-03-07T04:47:25.060Z"
   },
   {
    "duration": -122,
    "start_time": "2022-03-07T04:47:25.072Z"
   },
   {
    "duration": -135,
    "start_time": "2022-03-07T04:47:25.086Z"
   },
   {
    "duration": -160,
    "start_time": "2022-03-07T04:47:25.111Z"
   },
   {
    "duration": -170,
    "start_time": "2022-03-07T04:47:25.122Z"
   },
   {
    "duration": -180,
    "start_time": "2022-03-07T04:47:25.133Z"
   },
   {
    "duration": 32,
    "start_time": "2022-03-07T04:48:08.872Z"
   },
   {
    "duration": 29,
    "start_time": "2022-03-07T04:48:32.513Z"
   },
   {
    "duration": 29,
    "start_time": "2022-03-07T04:49:24.450Z"
   },
   {
    "duration": 30,
    "start_time": "2022-03-07T04:49:31.042Z"
   },
   {
    "duration": 28,
    "start_time": "2022-03-07T04:49:36.194Z"
   },
   {
    "duration": 28,
    "start_time": "2022-03-07T04:49:45.866Z"
   },
   {
    "duration": 28,
    "start_time": "2022-03-07T04:49:57.546Z"
   },
   {
    "duration": 29,
    "start_time": "2022-03-07T04:50:18.419Z"
   },
   {
    "duration": 29,
    "start_time": "2022-03-07T04:50:29.245Z"
   },
   {
    "duration": 28,
    "start_time": "2022-03-07T04:50:36.532Z"
   },
   {
    "duration": 107,
    "start_time": "2022-03-07T04:51:57.501Z"
   },
   {
    "duration": 94,
    "start_time": "2022-03-07T04:52:34.102Z"
   },
   {
    "duration": 28,
    "start_time": "2022-03-07T04:52:41.262Z"
   },
   {
    "duration": 28,
    "start_time": "2022-03-07T04:52:53.646Z"
   },
   {
    "duration": 99,
    "start_time": "2022-03-07T04:53:29.760Z"
   },
   {
    "duration": 92,
    "start_time": "2022-03-07T04:53:49.695Z"
   },
   {
    "duration": 111,
    "start_time": "2022-03-07T04:54:03.336Z"
   },
   {
    "duration": 88,
    "start_time": "2022-03-07T04:54:21.192Z"
   },
   {
    "duration": 97,
    "start_time": "2022-03-07T04:54:42.033Z"
   },
   {
    "duration": 28,
    "start_time": "2022-03-07T04:54:47.601Z"
   },
   {
    "duration": 29,
    "start_time": "2022-03-07T04:54:58.665Z"
   },
   {
    "duration": 31,
    "start_time": "2022-03-07T04:55:08.385Z"
   },
   {
    "duration": 29,
    "start_time": "2022-03-07T04:55:13.569Z"
   },
   {
    "duration": 729,
    "start_time": "2022-03-07T04:55:26.785Z"
   },
   {
    "duration": 29,
    "start_time": "2022-03-07T04:55:36.562Z"
   },
   {
    "duration": 28,
    "start_time": "2022-03-07T04:56:20.323Z"
   },
   {
    "duration": 1008,
    "start_time": "2022-03-07T06:17:08.215Z"
   },
   {
    "duration": 925,
    "start_time": "2022-03-07T06:17:09.225Z"
   },
   {
    "duration": 14,
    "start_time": "2022-03-07T06:17:10.152Z"
   },
   {
    "duration": 4,
    "start_time": "2022-03-07T06:17:10.168Z"
   },
   {
    "duration": 32,
    "start_time": "2022-03-07T06:17:10.173Z"
   },
   {
    "duration": 45,
    "start_time": "2022-03-07T06:17:10.206Z"
   },
   {
    "duration": 97,
    "start_time": "2022-03-07T06:17:10.252Z"
   },
   {
    "duration": 12,
    "start_time": "2022-03-07T06:17:10.352Z"
   },
   {
    "duration": 79,
    "start_time": "2022-03-07T06:17:10.365Z"
   },
   {
    "duration": 5,
    "start_time": "2022-03-07T06:17:10.446Z"
   },
   {
    "duration": 7,
    "start_time": "2022-03-07T06:17:10.453Z"
   },
   {
    "duration": 3,
    "start_time": "2022-03-07T06:17:10.462Z"
   },
   {
    "duration": 42,
    "start_time": "2022-03-07T06:17:10.467Z"
   },
   {
    "duration": 5,
    "start_time": "2022-03-07T06:17:10.511Z"
   },
   {
    "duration": 674,
    "start_time": "2022-03-07T06:17:10.517Z"
   },
   {
    "duration": 13,
    "start_time": "2022-03-07T06:17:11.193Z"
   },
   {
    "duration": 28,
    "start_time": "2022-03-07T06:17:11.208Z"
   },
   {
    "duration": 302,
    "start_time": "2022-03-07T06:17:11.238Z"
   },
   {
    "duration": 25,
    "start_time": "2022-03-07T06:17:11.541Z"
   },
   {
    "duration": 199,
    "start_time": "2022-03-07T06:17:11.567Z"
   },
   {
    "duration": 3,
    "start_time": "2022-03-07T06:17:11.767Z"
   },
   {
    "duration": 6,
    "start_time": "2022-03-07T06:17:11.772Z"
   },
   {
    "duration": 39,
    "start_time": "2022-03-07T06:17:11.781Z"
   },
   {
    "duration": 12,
    "start_time": "2022-03-07T06:17:11.822Z"
   },
   {
    "duration": 18,
    "start_time": "2022-03-07T06:17:11.835Z"
   },
   {
    "duration": 67,
    "start_time": "2022-03-07T06:17:11.854Z"
   },
   {
    "duration": 9,
    "start_time": "2022-03-07T06:17:11.922Z"
   },
   {
    "duration": 6,
    "start_time": "2022-03-07T06:17:11.932Z"
   },
   {
    "duration": 16,
    "start_time": "2022-03-07T06:17:11.939Z"
   },
   {
    "duration": 3,
    "start_time": "2022-03-07T06:17:11.957Z"
   },
   {
    "duration": 56,
    "start_time": "2022-03-07T06:17:11.961Z"
   },
   {
    "duration": 30,
    "start_time": "2022-03-07T06:17:12.019Z"
   },
   {
    "duration": 75,
    "start_time": "2022-03-07T06:17:12.051Z"
   },
   {
    "duration": 19,
    "start_time": "2022-03-07T06:17:12.128Z"
   },
   {
    "duration": 11,
    "start_time": "2022-03-07T06:17:12.149Z"
   },
   {
    "duration": 59,
    "start_time": "2022-03-07T06:17:12.162Z"
   },
   {
    "duration": 51,
    "start_time": "2022-03-07T06:17:12.222Z"
   },
   {
    "duration": 31,
    "start_time": "2022-03-07T06:17:12.275Z"
   },
   {
    "duration": 11,
    "start_time": "2022-03-07T06:17:12.308Z"
   },
   {
    "duration": 53,
    "start_time": "2022-03-07T06:17:12.320Z"
   },
   {
    "duration": 39,
    "start_time": "2022-03-07T06:17:12.374Z"
   },
   {
    "duration": 11,
    "start_time": "2022-03-07T06:17:12.415Z"
   },
   {
    "duration": 11,
    "start_time": "2022-03-07T06:17:12.428Z"
   },
   {
    "duration": 91,
    "start_time": "2022-03-07T06:17:12.440Z"
   },
   {
    "duration": 17,
    "start_time": "2022-03-07T06:17:12.533Z"
   },
   {
    "duration": 11,
    "start_time": "2022-03-07T06:17:12.552Z"
   },
   {
    "duration": 15,
    "start_time": "2022-03-07T06:23:42.936Z"
   },
   {
    "duration": 14,
    "start_time": "2022-03-07T06:24:25.208Z"
   },
   {
    "duration": 7549,
    "start_time": "2022-03-07T06:25:05.073Z"
   },
   {
    "duration": 11,
    "start_time": "2022-03-07T06:25:46.378Z"
   },
   {
    "duration": 11,
    "start_time": "2022-03-07T06:29:06.263Z"
   },
   {
    "duration": 11,
    "start_time": "2022-03-07T06:29:16.118Z"
   },
   {
    "duration": 14,
    "start_time": "2022-03-07T06:29:30.906Z"
   },
   {
    "duration": 11,
    "start_time": "2022-03-07T06:29:53.623Z"
   },
   {
    "duration": 11,
    "start_time": "2022-03-07T06:29:59.906Z"
   },
   {
    "duration": 13,
    "start_time": "2022-03-07T06:31:19.104Z"
   },
   {
    "duration": 13,
    "start_time": "2022-03-07T06:31:44.828Z"
   },
   {
    "duration": 13,
    "start_time": "2022-03-07T06:31:49.633Z"
   },
   {
    "duration": 17,
    "start_time": "2022-03-07T06:49:16.640Z"
   },
   {
    "duration": 11,
    "start_time": "2022-03-07T06:49:44.921Z"
   },
   {
    "duration": 11,
    "start_time": "2022-03-07T06:51:24.667Z"
   },
   {
    "duration": 14,
    "start_time": "2022-03-07T06:55:21.793Z"
   },
   {
    "duration": 10,
    "start_time": "2022-03-07T06:55:35.200Z"
   },
   {
    "duration": 11,
    "start_time": "2022-03-07T06:56:01.409Z"
   },
   {
    "duration": 314,
    "start_time": "2022-03-07T06:57:04.907Z"
   },
   {
    "duration": 105,
    "start_time": "2022-03-07T06:57:24.581Z"
   },
   {
    "duration": 7230,
    "start_time": "2022-03-07T06:57:38.707Z"
   },
   {
    "duration": 103,
    "start_time": "2022-03-07T06:57:49.374Z"
   },
   {
    "duration": 7147,
    "start_time": "2022-03-07T06:57:55.763Z"
   },
   {
    "duration": 1053,
    "start_time": "2022-03-07T06:58:26.871Z"
   },
   {
    "duration": 891,
    "start_time": "2022-03-07T06:58:27.926Z"
   },
   {
    "duration": 14,
    "start_time": "2022-03-07T06:58:28.819Z"
   },
   {
    "duration": 4,
    "start_time": "2022-03-07T06:58:28.834Z"
   },
   {
    "duration": 16,
    "start_time": "2022-03-07T06:58:28.839Z"
   },
   {
    "duration": 68,
    "start_time": "2022-03-07T06:58:28.856Z"
   },
   {
    "duration": 94,
    "start_time": "2022-03-07T06:58:28.925Z"
   },
   {
    "duration": 12,
    "start_time": "2022-03-07T06:58:29.021Z"
   },
   {
    "duration": 80,
    "start_time": "2022-03-07T06:58:29.035Z"
   },
   {
    "duration": 4,
    "start_time": "2022-03-07T06:58:29.117Z"
   },
   {
    "duration": 7,
    "start_time": "2022-03-07T06:58:29.122Z"
   },
   {
    "duration": 2,
    "start_time": "2022-03-07T06:58:29.131Z"
   },
   {
    "duration": 21,
    "start_time": "2022-03-07T06:58:29.135Z"
   },
   {
    "duration": 4,
    "start_time": "2022-03-07T06:58:29.157Z"
   },
   {
    "duration": 687,
    "start_time": "2022-03-07T06:58:29.162Z"
   },
   {
    "duration": 7,
    "start_time": "2022-03-07T06:58:29.850Z"
   },
   {
    "duration": 28,
    "start_time": "2022-03-07T06:58:29.858Z"
   },
   {
    "duration": 310,
    "start_time": "2022-03-07T06:58:29.888Z"
   },
   {
    "duration": 24,
    "start_time": "2022-03-07T06:58:30.199Z"
   },
   {
    "duration": 193,
    "start_time": "2022-03-07T06:58:30.225Z"
   },
   {
    "duration": 3,
    "start_time": "2022-03-07T06:58:30.419Z"
   },
   {
    "duration": 13,
    "start_time": "2022-03-07T06:58:30.423Z"
   },
   {
    "duration": 49,
    "start_time": "2022-03-07T06:58:30.437Z"
   },
   {
    "duration": 12,
    "start_time": "2022-03-07T06:58:30.487Z"
   },
   {
    "duration": 19,
    "start_time": "2022-03-07T06:58:30.501Z"
   },
   {
    "duration": 47,
    "start_time": "2022-03-07T06:58:30.522Z"
   },
   {
    "duration": 9,
    "start_time": "2022-03-07T06:58:30.572Z"
   },
   {
    "duration": 22,
    "start_time": "2022-03-07T06:58:30.583Z"
   },
   {
    "duration": 27,
    "start_time": "2022-03-07T06:58:30.606Z"
   },
   {
    "duration": 4,
    "start_time": "2022-03-07T06:58:30.635Z"
   },
   {
    "duration": 40,
    "start_time": "2022-03-07T06:58:30.640Z"
   },
   {
    "duration": 43,
    "start_time": "2022-03-07T06:58:30.682Z"
   },
   {
    "duration": 54,
    "start_time": "2022-03-07T06:58:30.727Z"
   },
   {
    "duration": 29,
    "start_time": "2022-03-07T06:58:30.783Z"
   },
   {
    "duration": 25,
    "start_time": "2022-03-07T06:58:30.814Z"
   },
   {
    "duration": 41,
    "start_time": "2022-03-07T06:58:30.840Z"
   },
   {
    "duration": 65,
    "start_time": "2022-03-07T06:58:30.883Z"
   },
   {
    "duration": 14,
    "start_time": "2022-03-07T06:58:30.950Z"
   },
   {
    "duration": 21,
    "start_time": "2022-03-07T06:58:30.965Z"
   },
   {
    "duration": 73,
    "start_time": "2022-03-07T06:58:30.988Z"
   },
   {
    "duration": 14,
    "start_time": "2022-03-07T06:58:31.063Z"
   },
   {
    "duration": 19,
    "start_time": "2022-03-07T06:58:31.079Z"
   },
   {
    "duration": 14,
    "start_time": "2022-03-07T06:58:31.105Z"
   },
   {
    "duration": 90,
    "start_time": "2022-03-07T06:58:31.120Z"
   },
   {
    "duration": 15,
    "start_time": "2022-03-07T06:58:31.211Z"
   },
   {
    "duration": 11,
    "start_time": "2022-03-07T06:58:31.228Z"
   },
   {
    "duration": 12,
    "start_time": "2022-03-07T06:59:32.510Z"
   },
   {
    "duration": 12,
    "start_time": "2022-03-07T06:59:47.012Z"
   },
   {
    "duration": 11,
    "start_time": "2022-03-07T07:00:05.829Z"
   },
   {
    "duration": 11,
    "start_time": "2022-03-07T07:00:23.373Z"
   },
   {
    "duration": 101,
    "start_time": "2022-03-07T07:25:14.733Z"
   },
   {
    "duration": 107,
    "start_time": "2022-03-07T07:26:29.777Z"
   },
   {
    "duration": 101,
    "start_time": "2022-03-07T07:28:30.619Z"
   },
   {
    "duration": 108,
    "start_time": "2022-03-07T07:28:53.594Z"
   },
   {
    "duration": 15,
    "start_time": "2022-03-07T07:30:00.996Z"
   },
   {
    "duration": 7587,
    "start_time": "2022-03-07T07:47:26.618Z"
   },
   {
    "duration": 7677,
    "start_time": "2022-03-07T07:47:36.084Z"
   },
   {
    "duration": 7441,
    "start_time": "2022-03-07T07:48:45.999Z"
   },
   {
    "duration": 7573,
    "start_time": "2022-03-07T07:49:59.128Z"
   },
   {
    "duration": 7477,
    "start_time": "2022-03-07T07:50:31.207Z"
   },
   {
    "duration": 1124,
    "start_time": "2022-03-07T07:52:46.111Z"
   },
   {
    "duration": 915,
    "start_time": "2022-03-07T07:52:47.237Z"
   },
   {
    "duration": 13,
    "start_time": "2022-03-07T07:52:48.154Z"
   },
   {
    "duration": 8,
    "start_time": "2022-03-07T07:52:48.169Z"
   },
   {
    "duration": 29,
    "start_time": "2022-03-07T07:52:48.179Z"
   },
   {
    "duration": 44,
    "start_time": "2022-03-07T07:52:48.210Z"
   },
   {
    "duration": 96,
    "start_time": "2022-03-07T07:52:48.256Z"
   },
   {
    "duration": 14,
    "start_time": "2022-03-07T07:52:48.354Z"
   },
   {
    "duration": 88,
    "start_time": "2022-03-07T07:52:48.371Z"
   },
   {
    "duration": 3,
    "start_time": "2022-03-07T07:52:48.462Z"
   },
   {
    "duration": 8,
    "start_time": "2022-03-07T07:52:48.467Z"
   },
   {
    "duration": 4,
    "start_time": "2022-03-07T07:52:48.477Z"
   },
   {
    "duration": 41,
    "start_time": "2022-03-07T07:52:48.482Z"
   },
   {
    "duration": 4,
    "start_time": "2022-03-07T07:52:48.525Z"
   },
   {
    "duration": 775,
    "start_time": "2022-03-07T07:52:48.530Z"
   },
   {
    "duration": 6,
    "start_time": "2022-03-07T07:52:49.307Z"
   },
   {
    "duration": 28,
    "start_time": "2022-03-07T07:52:49.315Z"
   },
   {
    "duration": 308,
    "start_time": "2022-03-07T07:52:49.345Z"
   },
   {
    "duration": 25,
    "start_time": "2022-03-07T07:52:49.654Z"
   },
   {
    "duration": 191,
    "start_time": "2022-03-07T07:52:49.680Z"
   },
   {
    "duration": 2,
    "start_time": "2022-03-07T07:52:49.873Z"
   },
   {
    "duration": 10,
    "start_time": "2022-03-07T07:52:49.877Z"
   },
   {
    "duration": 39,
    "start_time": "2022-03-07T07:52:49.888Z"
   },
   {
    "duration": 13,
    "start_time": "2022-03-07T07:52:49.929Z"
   },
   {
    "duration": 18,
    "start_time": "2022-03-07T07:52:49.944Z"
   },
   {
    "duration": 69,
    "start_time": "2022-03-07T07:52:49.964Z"
   },
   {
    "duration": 8,
    "start_time": "2022-03-07T07:52:50.037Z"
   },
   {
    "duration": 5,
    "start_time": "2022-03-07T07:52:50.048Z"
   },
   {
    "duration": 22,
    "start_time": "2022-03-07T07:52:50.055Z"
   },
   {
    "duration": 4,
    "start_time": "2022-03-07T07:52:50.079Z"
   },
   {
    "duration": 52,
    "start_time": "2022-03-07T07:52:50.084Z"
   },
   {
    "duration": 42,
    "start_time": "2022-03-07T07:52:50.138Z"
   },
   {
    "duration": 72,
    "start_time": "2022-03-07T07:52:50.182Z"
   },
   {
    "duration": 14,
    "start_time": "2022-03-07T07:52:50.255Z"
   },
   {
    "duration": 366,
    "start_time": "2022-03-07T07:52:50.270Z"
   },
   {
    "duration": 286,
    "start_time": "2022-03-07T07:52:50.352Z"
   },
   {
    "duration": 274,
    "start_time": "2022-03-07T07:52:50.365Z"
   },
   {
    "duration": 259,
    "start_time": "2022-03-07T07:52:50.381Z"
   },
   {
    "duration": 248,
    "start_time": "2022-03-07T07:52:50.393Z"
   },
   {
    "duration": 189,
    "start_time": "2022-03-07T07:52:50.453Z"
   },
   {
    "duration": 154,
    "start_time": "2022-03-07T07:52:50.488Z"
   },
   {
    "duration": 143,
    "start_time": "2022-03-07T07:52:50.500Z"
   },
   {
    "duration": 123,
    "start_time": "2022-03-07T07:52:50.521Z"
   },
   {
    "duration": 112,
    "start_time": "2022-03-07T07:52:50.533Z"
   },
   {
    "duration": 80,
    "start_time": "2022-03-07T07:52:50.566Z"
   },
   {
    "duration": 68,
    "start_time": "2022-03-07T07:52:50.579Z"
   },
   {
    "duration": 328,
    "start_time": "2022-03-07T07:53:23.051Z"
   },
   {
    "duration": 17,
    "start_time": "2022-03-07T07:54:03.196Z"
   },
   {
    "duration": 8044,
    "start_time": "2022-03-07T07:54:20.606Z"
   },
   {
    "duration": 974,
    "start_time": "2022-03-07T07:54:41.658Z"
   },
   {
    "duration": 921,
    "start_time": "2022-03-07T07:54:42.634Z"
   },
   {
    "duration": 13,
    "start_time": "2022-03-07T07:54:43.557Z"
   },
   {
    "duration": 3,
    "start_time": "2022-03-07T07:54:43.571Z"
   },
   {
    "duration": 30,
    "start_time": "2022-03-07T07:54:43.576Z"
   },
   {
    "duration": 44,
    "start_time": "2022-03-07T07:54:43.608Z"
   },
   {
    "duration": 100,
    "start_time": "2022-03-07T07:54:43.654Z"
   },
   {
    "duration": 12,
    "start_time": "2022-03-07T07:54:43.756Z"
   },
   {
    "duration": 83,
    "start_time": "2022-03-07T07:54:43.770Z"
   },
   {
    "duration": 6,
    "start_time": "2022-03-07T07:54:43.854Z"
   },
   {
    "duration": 9,
    "start_time": "2022-03-07T07:54:43.861Z"
   },
   {
    "duration": 4,
    "start_time": "2022-03-07T07:54:43.871Z"
   },
   {
    "duration": 39,
    "start_time": "2022-03-07T07:54:43.876Z"
   },
   {
    "duration": 4,
    "start_time": "2022-03-07T07:54:43.916Z"
   },
   {
    "duration": 762,
    "start_time": "2022-03-07T07:54:43.921Z"
   },
   {
    "duration": 6,
    "start_time": "2022-03-07T07:54:44.685Z"
   },
   {
    "duration": 39,
    "start_time": "2022-03-07T07:54:44.693Z"
   },
   {
    "duration": 296,
    "start_time": "2022-03-07T07:54:44.733Z"
   },
   {
    "duration": 26,
    "start_time": "2022-03-07T07:54:45.031Z"
   },
   {
    "duration": 198,
    "start_time": "2022-03-07T07:54:45.058Z"
   },
   {
    "duration": 3,
    "start_time": "2022-03-07T07:54:45.257Z"
   },
   {
    "duration": 9,
    "start_time": "2022-03-07T07:54:45.261Z"
   },
   {
    "duration": 38,
    "start_time": "2022-03-07T07:54:45.273Z"
   },
   {
    "duration": 12,
    "start_time": "2022-03-07T07:54:45.313Z"
   },
   {
    "duration": 19,
    "start_time": "2022-03-07T07:54:45.326Z"
   },
   {
    "duration": 60,
    "start_time": "2022-03-07T07:54:45.346Z"
   },
   {
    "duration": 8,
    "start_time": "2022-03-07T07:54:45.408Z"
   },
   {
    "duration": 6,
    "start_time": "2022-03-07T07:54:45.418Z"
   },
   {
    "duration": 21,
    "start_time": "2022-03-07T07:54:45.425Z"
   },
   {
    "duration": 4,
    "start_time": "2022-03-07T07:54:45.447Z"
   },
   {
    "duration": 54,
    "start_time": "2022-03-07T07:54:45.452Z"
   },
   {
    "duration": 30,
    "start_time": "2022-03-07T07:54:45.508Z"
   },
   {
    "duration": 66,
    "start_time": "2022-03-07T07:54:45.539Z"
   },
   {
    "duration": 14,
    "start_time": "2022-03-07T07:54:45.607Z"
   },
   {
    "duration": 21,
    "start_time": "2022-03-07T07:54:45.623Z"
   },
   {
    "duration": 43,
    "start_time": "2022-03-07T07:54:45.646Z"
   },
   {
    "duration": 59,
    "start_time": "2022-03-07T07:54:45.690Z"
   },
   {
    "duration": 14,
    "start_time": "2022-03-07T07:54:45.750Z"
   },
   {
    "duration": 11,
    "start_time": "2022-03-07T07:54:45.765Z"
   },
   {
    "duration": 69,
    "start_time": "2022-03-07T07:54:45.777Z"
   },
   {
    "duration": 13,
    "start_time": "2022-03-07T07:54:45.848Z"
   },
   {
    "duration": 19,
    "start_time": "2022-03-07T07:54:45.863Z"
   },
   {
    "duration": 16,
    "start_time": "2022-03-07T07:54:45.883Z"
   },
   {
    "duration": 70,
    "start_time": "2022-03-07T07:54:45.905Z"
   },
   {
    "duration": 30,
    "start_time": "2022-03-07T07:54:45.976Z"
   },
   {
    "duration": 11,
    "start_time": "2022-03-07T07:54:46.007Z"
   },
   {
    "duration": 7554,
    "start_time": "2022-03-07T07:56:26.754Z"
   },
   {
    "duration": 1015,
    "start_time": "2022-03-07T07:57:41.344Z"
   },
   {
    "duration": 934,
    "start_time": "2022-03-07T07:57:42.360Z"
   },
   {
    "duration": 17,
    "start_time": "2022-03-07T07:57:43.296Z"
   },
   {
    "duration": 4,
    "start_time": "2022-03-07T07:57:43.315Z"
   },
   {
    "duration": 16,
    "start_time": "2022-03-07T07:57:43.320Z"
   },
   {
    "duration": 44,
    "start_time": "2022-03-07T07:57:43.337Z"
   },
   {
    "duration": 106,
    "start_time": "2022-03-07T07:57:43.383Z"
   },
   {
    "duration": 20,
    "start_time": "2022-03-07T07:57:43.492Z"
   },
   {
    "duration": 71,
    "start_time": "2022-03-07T07:57:43.514Z"
   },
   {
    "duration": 3,
    "start_time": "2022-03-07T07:57:43.586Z"
   },
   {
    "duration": 7,
    "start_time": "2022-03-07T07:57:43.605Z"
   },
   {
    "duration": 4,
    "start_time": "2022-03-07T07:57:43.613Z"
   },
   {
    "duration": 20,
    "start_time": "2022-03-07T07:57:43.619Z"
   },
   {
    "duration": 5,
    "start_time": "2022-03-07T07:57:43.641Z"
   },
   {
    "duration": 703,
    "start_time": "2022-03-07T07:57:43.647Z"
   },
   {
    "duration": 7,
    "start_time": "2022-03-07T07:57:44.352Z"
   },
   {
    "duration": 46,
    "start_time": "2022-03-07T07:57:44.361Z"
   },
   {
    "duration": 288,
    "start_time": "2022-03-07T07:57:44.408Z"
   },
   {
    "duration": 25,
    "start_time": "2022-03-07T07:57:44.705Z"
   },
   {
    "duration": 190,
    "start_time": "2022-03-07T07:57:44.732Z"
   },
   {
    "duration": 4,
    "start_time": "2022-03-07T07:57:44.923Z"
   },
   {
    "duration": 6,
    "start_time": "2022-03-07T07:57:44.929Z"
   },
   {
    "duration": 32,
    "start_time": "2022-03-07T07:57:44.939Z"
   },
   {
    "duration": 33,
    "start_time": "2022-03-07T07:57:44.974Z"
   },
   {
    "duration": 20,
    "start_time": "2022-03-07T07:57:45.009Z"
   },
   {
    "duration": 45,
    "start_time": "2022-03-07T07:57:45.030Z"
   },
   {
    "duration": 28,
    "start_time": "2022-03-07T07:57:45.077Z"
   },
   {
    "duration": 4,
    "start_time": "2022-03-07T07:57:45.107Z"
   },
   {
    "duration": 19,
    "start_time": "2022-03-07T07:57:45.112Z"
   },
   {
    "duration": 3,
    "start_time": "2022-03-07T07:57:45.133Z"
   },
   {
    "duration": 33,
    "start_time": "2022-03-07T07:57:45.137Z"
   },
   {
    "duration": 56,
    "start_time": "2022-03-07T07:57:45.171Z"
   },
   {
    "duration": 50,
    "start_time": "2022-03-07T07:57:45.228Z"
   },
   {
    "duration": 31,
    "start_time": "2022-03-07T07:57:45.279Z"
   },
   {
    "duration": 12,
    "start_time": "2022-03-07T07:57:45.312Z"
   },
   {
    "duration": 34,
    "start_time": "2022-03-07T07:57:45.326Z"
   },
   {
    "duration": 72,
    "start_time": "2022-03-07T07:57:45.361Z"
   },
   {
    "duration": 14,
    "start_time": "2022-03-07T07:57:45.434Z"
   },
   {
    "duration": 11,
    "start_time": "2022-03-07T07:57:45.449Z"
   },
   {
    "duration": 72,
    "start_time": "2022-03-07T07:57:45.461Z"
   },
   {
    "duration": 15,
    "start_time": "2022-03-07T07:57:45.535Z"
   },
   {
    "duration": 10,
    "start_time": "2022-03-07T07:57:45.552Z"
   },
   {
    "duration": 11,
    "start_time": "2022-03-07T07:57:45.563Z"
   },
   {
    "duration": 94,
    "start_time": "2022-03-07T07:57:45.575Z"
   },
   {
    "duration": 16,
    "start_time": "2022-03-07T07:57:45.671Z"
   },
   {
    "duration": 23,
    "start_time": "2022-03-07T07:57:45.689Z"
   },
   {
    "duration": 10,
    "start_time": "2022-03-07T07:59:55.631Z"
   },
   {
    "duration": 995,
    "start_time": "2022-03-07T08:00:49.135Z"
   },
   {
    "duration": 940,
    "start_time": "2022-03-07T08:00:50.132Z"
   },
   {
    "duration": 14,
    "start_time": "2022-03-07T08:00:51.074Z"
   },
   {
    "duration": 16,
    "start_time": "2022-03-07T08:00:51.090Z"
   },
   {
    "duration": 16,
    "start_time": "2022-03-07T08:00:51.107Z"
   },
   {
    "duration": 46,
    "start_time": "2022-03-07T08:00:51.125Z"
   },
   {
    "duration": 107,
    "start_time": "2022-03-07T08:00:51.173Z"
   },
   {
    "duration": 12,
    "start_time": "2022-03-07T08:00:51.282Z"
   },
   {
    "duration": 79,
    "start_time": "2022-03-07T08:00:51.296Z"
   },
   {
    "duration": 4,
    "start_time": "2022-03-07T08:00:51.376Z"
   },
   {
    "duration": 7,
    "start_time": "2022-03-07T08:00:51.381Z"
   },
   {
    "duration": 5,
    "start_time": "2022-03-07T08:00:51.405Z"
   },
   {
    "duration": 25,
    "start_time": "2022-03-07T08:00:51.411Z"
   },
   {
    "duration": 5,
    "start_time": "2022-03-07T08:00:51.437Z"
   },
   {
    "duration": 688,
    "start_time": "2022-03-07T08:00:51.443Z"
   },
   {
    "duration": 7,
    "start_time": "2022-03-07T08:00:52.132Z"
   },
   {
    "duration": 28,
    "start_time": "2022-03-07T08:00:52.140Z"
   },
   {
    "duration": 299,
    "start_time": "2022-03-07T08:00:52.170Z"
   },
   {
    "duration": 34,
    "start_time": "2022-03-07T08:00:52.471Z"
   },
   {
    "duration": 183,
    "start_time": "2022-03-07T08:00:52.507Z"
   },
   {
    "duration": 3,
    "start_time": "2022-03-07T08:00:52.692Z"
   },
   {
    "duration": 12,
    "start_time": "2022-03-07T08:00:52.696Z"
   },
   {
    "duration": 31,
    "start_time": "2022-03-07T08:00:52.711Z"
   },
   {
    "duration": 11,
    "start_time": "2022-03-07T08:00:52.744Z"
   },
   {
    "duration": 17,
    "start_time": "2022-03-07T08:00:52.757Z"
   },
   {
    "duration": 63,
    "start_time": "2022-03-07T08:00:52.776Z"
   },
   {
    "duration": 9,
    "start_time": "2022-03-07T08:00:52.840Z"
   },
   {
    "duration": 5,
    "start_time": "2022-03-07T08:00:52.850Z"
   },
   {
    "duration": 15,
    "start_time": "2022-03-07T08:00:52.857Z"
   },
   {
    "duration": 3,
    "start_time": "2022-03-07T08:00:52.873Z"
   },
   {
    "duration": 57,
    "start_time": "2022-03-07T08:00:52.878Z"
   },
   {
    "duration": 30,
    "start_time": "2022-03-07T08:00:52.936Z"
   },
   {
    "duration": 73,
    "start_time": "2022-03-07T08:00:52.968Z"
   },
   {
    "duration": 14,
    "start_time": "2022-03-07T08:00:53.042Z"
   },
   {
    "duration": 15,
    "start_time": "2022-03-07T08:00:53.057Z"
   },
   {
    "duration": 53,
    "start_time": "2022-03-07T08:00:53.073Z"
   },
   {
    "duration": 51,
    "start_time": "2022-03-07T08:00:53.127Z"
   },
   {
    "duration": 26,
    "start_time": "2022-03-07T08:00:53.180Z"
   },
   {
    "duration": 11,
    "start_time": "2022-03-07T08:00:53.207Z"
   },
   {
    "duration": 52,
    "start_time": "2022-03-07T08:00:53.219Z"
   },
   {
    "duration": 34,
    "start_time": "2022-03-07T08:00:53.272Z"
   },
   {
    "duration": 8,
    "start_time": "2022-03-07T08:00:53.308Z"
   },
   {
    "duration": 27,
    "start_time": "2022-03-07T08:00:53.317Z"
   },
   {
    "duration": 78,
    "start_time": "2022-03-07T08:00:53.345Z"
   },
   {
    "duration": 17,
    "start_time": "2022-03-07T08:00:53.424Z"
   },
   {
    "duration": 21,
    "start_time": "2022-03-07T08:00:53.443Z"
   },
   {
    "duration": 9,
    "start_time": "2022-03-07T08:01:34.301Z"
   },
   {
    "duration": 7312,
    "start_time": "2022-03-07T08:11:11.347Z"
   },
   {
    "duration": 1018,
    "start_time": "2022-03-07T08:11:26.222Z"
   },
   {
    "duration": 1048,
    "start_time": "2022-03-07T08:11:27.242Z"
   },
   {
    "duration": 17,
    "start_time": "2022-03-07T08:11:28.292Z"
   },
   {
    "duration": 5,
    "start_time": "2022-03-07T08:11:28.311Z"
   },
   {
    "duration": 13,
    "start_time": "2022-03-07T08:11:28.318Z"
   },
   {
    "duration": 44,
    "start_time": "2022-03-07T08:11:28.333Z"
   },
   {
    "duration": 109,
    "start_time": "2022-03-07T08:11:28.379Z"
   },
   {
    "duration": 20,
    "start_time": "2022-03-07T08:11:28.490Z"
   },
   {
    "duration": 70,
    "start_time": "2022-03-07T08:11:28.512Z"
   },
   {
    "duration": 3,
    "start_time": "2022-03-07T08:11:28.584Z"
   },
   {
    "duration": 6,
    "start_time": "2022-03-07T08:11:28.604Z"
   },
   {
    "duration": 3,
    "start_time": "2022-03-07T08:11:28.612Z"
   },
   {
    "duration": 22,
    "start_time": "2022-03-07T08:11:28.616Z"
   },
   {
    "duration": 4,
    "start_time": "2022-03-07T08:11:28.640Z"
   },
   {
    "duration": 681,
    "start_time": "2022-03-07T08:11:28.646Z"
   },
   {
    "duration": 7,
    "start_time": "2022-03-07T08:11:29.328Z"
   },
   {
    "duration": 29,
    "start_time": "2022-03-07T08:11:29.336Z"
   },
   {
    "duration": 295,
    "start_time": "2022-03-07T08:11:29.366Z"
   },
   {
    "duration": 25,
    "start_time": "2022-03-07T08:11:29.663Z"
   },
   {
    "duration": 198,
    "start_time": "2022-03-07T08:11:29.689Z"
   },
   {
    "duration": 2,
    "start_time": "2022-03-07T08:11:29.889Z"
   },
   {
    "duration": 13,
    "start_time": "2022-03-07T08:11:29.893Z"
   },
   {
    "duration": 31,
    "start_time": "2022-03-07T08:11:29.908Z"
   },
   {
    "duration": 12,
    "start_time": "2022-03-07T08:11:29.942Z"
   },
   {
    "duration": 20,
    "start_time": "2022-03-07T08:11:29.956Z"
   },
   {
    "duration": 45,
    "start_time": "2022-03-07T08:11:30.006Z"
   },
   {
    "duration": 9,
    "start_time": "2022-03-07T08:11:30.052Z"
   },
   {
    "duration": 12,
    "start_time": "2022-03-07T08:11:30.062Z"
   },
   {
    "duration": 31,
    "start_time": "2022-03-07T08:11:30.075Z"
   },
   {
    "duration": 4,
    "start_time": "2022-03-07T08:11:30.108Z"
   },
   {
    "duration": 7320,
    "start_time": "2022-03-07T08:11:30.114Z"
   },
   {
    "duration": 269,
    "start_time": "2022-03-07T08:11:37.167Z"
   },
   {
    "duration": 256,
    "start_time": "2022-03-07T08:11:37.181Z"
   },
   {
    "duration": 244,
    "start_time": "2022-03-07T08:11:37.194Z"
   },
   {
    "duration": 232,
    "start_time": "2022-03-07T08:11:37.207Z"
   },
   {
    "duration": 220,
    "start_time": "2022-03-07T08:11:37.220Z"
   },
   {
    "duration": 176,
    "start_time": "2022-03-07T08:11:37.264Z"
   },
   {
    "duration": 156,
    "start_time": "2022-03-07T08:11:37.285Z"
   },
   {
    "duration": 143,
    "start_time": "2022-03-07T08:11:37.299Z"
   },
   {
    "duration": 131,
    "start_time": "2022-03-07T08:11:37.311Z"
   },
   {
    "duration": 119,
    "start_time": "2022-03-07T08:11:37.324Z"
   },
   {
    "duration": 105,
    "start_time": "2022-03-07T08:11:37.339Z"
   },
   {
    "duration": 93,
    "start_time": "2022-03-07T08:11:37.351Z"
   },
   {
    "duration": 73,
    "start_time": "2022-03-07T08:11:37.372Z"
   },
   {
    "duration": 61,
    "start_time": "2022-03-07T08:11:37.385Z"
   },
   {
    "duration": 44,
    "start_time": "2022-03-07T08:11:37.402Z"
   },
   {
    "duration": 32,
    "start_time": "2022-03-07T08:11:37.415Z"
   },
   {
    "duration": 659,
    "start_time": "2022-03-07T08:12:07.259Z"
   },
   {
    "duration": 590,
    "start_time": "2022-03-07T08:13:13.916Z"
   },
   {
    "duration": 1003,
    "start_time": "2022-03-07T08:17:26.241Z"
   },
   {
    "duration": 939,
    "start_time": "2022-03-07T08:17:27.246Z"
   },
   {
    "duration": 21,
    "start_time": "2022-03-07T08:17:28.187Z"
   },
   {
    "duration": 3,
    "start_time": "2022-03-07T08:17:28.210Z"
   },
   {
    "duration": 16,
    "start_time": "2022-03-07T08:17:28.214Z"
   },
   {
    "duration": 45,
    "start_time": "2022-03-07T08:17:28.231Z"
   },
   {
    "duration": 106,
    "start_time": "2022-03-07T08:17:28.278Z"
   },
   {
    "duration": 26,
    "start_time": "2022-03-07T08:17:28.386Z"
   },
   {
    "duration": 71,
    "start_time": "2022-03-07T08:17:28.414Z"
   },
   {
    "duration": 20,
    "start_time": "2022-03-07T08:17:28.487Z"
   },
   {
    "duration": 7,
    "start_time": "2022-03-07T08:17:28.508Z"
   },
   {
    "duration": 3,
    "start_time": "2022-03-07T08:17:28.516Z"
   },
   {
    "duration": 22,
    "start_time": "2022-03-07T08:17:28.521Z"
   },
   {
    "duration": 4,
    "start_time": "2022-03-07T08:17:28.545Z"
   },
   {
    "duration": 702,
    "start_time": "2022-03-07T08:17:28.551Z"
   },
   {
    "duration": 7,
    "start_time": "2022-03-07T08:17:29.255Z"
   },
   {
    "duration": 38,
    "start_time": "2022-03-07T08:17:29.263Z"
   },
   {
    "duration": 289,
    "start_time": "2022-03-07T08:17:29.302Z"
   },
   {
    "duration": 30,
    "start_time": "2022-03-07T08:17:29.593Z"
   },
   {
    "duration": 193,
    "start_time": "2022-03-07T08:17:29.624Z"
   },
   {
    "duration": 3,
    "start_time": "2022-03-07T08:17:29.818Z"
   },
   {
    "duration": 6,
    "start_time": "2022-03-07T08:17:29.822Z"
   },
   {
    "duration": 33,
    "start_time": "2022-03-07T08:17:29.831Z"
   },
   {
    "duration": 13,
    "start_time": "2022-03-07T08:17:29.866Z"
   },
   {
    "duration": 40,
    "start_time": "2022-03-07T08:17:29.881Z"
   },
   {
    "duration": 45,
    "start_time": "2022-03-07T08:17:29.922Z"
   },
   {
    "duration": 9,
    "start_time": "2022-03-07T08:17:29.968Z"
   },
   {
    "duration": 28,
    "start_time": "2022-03-07T08:17:29.978Z"
   },
   {
    "duration": 21,
    "start_time": "2022-03-07T08:17:30.008Z"
   },
   {
    "duration": 4,
    "start_time": "2022-03-07T08:17:30.030Z"
   },
   {
    "duration": 592,
    "start_time": "2022-03-07T08:17:30.035Z"
   },
   {
    "duration": 36,
    "start_time": "2022-03-07T08:17:30.629Z"
   },
   {
    "duration": 53,
    "start_time": "2022-03-07T08:17:30.667Z"
   },
   {
    "duration": 53,
    "start_time": "2022-03-07T08:17:30.722Z"
   },
   {
    "duration": 32,
    "start_time": "2022-03-07T08:17:30.776Z"
   },
   {
    "duration": 14,
    "start_time": "2022-03-07T08:17:30.810Z"
   },
   {
    "duration": 45,
    "start_time": "2022-03-07T08:17:30.826Z"
   },
   {
    "duration": 68,
    "start_time": "2022-03-07T08:17:30.872Z"
   },
   {
    "duration": 15,
    "start_time": "2022-03-07T08:17:30.942Z"
   },
   {
    "duration": 19,
    "start_time": "2022-03-07T08:17:30.958Z"
   },
   {
    "duration": 82,
    "start_time": "2022-03-07T08:17:30.979Z"
   },
   {
    "duration": 14,
    "start_time": "2022-03-07T08:17:31.063Z"
   },
   {
    "duration": 9,
    "start_time": "2022-03-07T08:17:31.079Z"
   },
   {
    "duration": 34,
    "start_time": "2022-03-07T08:17:31.090Z"
   },
   {
    "duration": 90,
    "start_time": "2022-03-07T08:17:31.125Z"
   },
   {
    "duration": 16,
    "start_time": "2022-03-07T08:17:31.217Z"
   },
   {
    "duration": 22,
    "start_time": "2022-03-07T08:17:31.235Z"
   },
   {
    "duration": 35,
    "start_time": "2022-03-07T08:20:27.451Z"
   },
   {
    "duration": 52,
    "start_time": "2022-03-07T08:20:38.696Z"
   },
   {
    "duration": 14,
    "start_time": "2022-03-07T08:20:48.078Z"
   },
   {
    "duration": 14,
    "start_time": "2022-03-07T08:20:52.711Z"
   },
   {
    "duration": 38,
    "start_time": "2022-03-07T08:21:09.004Z"
   },
   {
    "duration": 52,
    "start_time": "2022-03-07T08:21:20.597Z"
   },
   {
    "duration": 15,
    "start_time": "2022-03-07T08:21:25.301Z"
   },
   {
    "duration": 9,
    "start_time": "2022-03-07T08:21:28.829Z"
   },
   {
    "duration": 51,
    "start_time": "2022-03-07T08:21:41.421Z"
   },
   {
    "duration": 18,
    "start_time": "2022-03-07T08:21:50.069Z"
   },
   {
    "duration": 10,
    "start_time": "2022-03-07T08:21:54.815Z"
   },
   {
    "duration": 8,
    "start_time": "2022-03-07T08:23:31.516Z"
   },
   {
    "duration": 8,
    "start_time": "2022-03-07T08:24:59.842Z"
   },
   {
    "duration": 72,
    "start_time": "2022-03-07T08:32:02.635Z"
   },
   {
    "duration": 19,
    "start_time": "2022-03-07T08:37:06.073Z"
   },
   {
    "duration": 21,
    "start_time": "2022-03-07T08:38:30.235Z"
   },
   {
    "duration": 22,
    "start_time": "2022-03-07T08:38:39.987Z"
   },
   {
    "duration": 362,
    "start_time": "2022-03-07T08:38:46.215Z"
   },
   {
    "duration": 22,
    "start_time": "2022-03-07T08:39:03.156Z"
   },
   {
    "duration": 28,
    "start_time": "2022-03-07T08:41:37.507Z"
   },
   {
    "duration": 18,
    "start_time": "2022-03-07T08:42:29.993Z"
   },
   {
    "duration": 1144,
    "start_time": "2022-03-07T08:44:17.386Z"
   },
   {
    "duration": 1024,
    "start_time": "2022-03-07T08:44:18.532Z"
   },
   {
    "duration": 22,
    "start_time": "2022-03-07T08:44:19.558Z"
   },
   {
    "duration": 5,
    "start_time": "2022-03-07T08:44:19.582Z"
   },
   {
    "duration": 31,
    "start_time": "2022-03-07T08:44:19.589Z"
   },
   {
    "duration": 47,
    "start_time": "2022-03-07T08:44:19.621Z"
   },
   {
    "duration": 111,
    "start_time": "2022-03-07T08:44:19.670Z"
   },
   {
    "duration": 22,
    "start_time": "2022-03-07T08:44:19.784Z"
   },
   {
    "duration": 72,
    "start_time": "2022-03-07T08:44:19.808Z"
   },
   {
    "duration": 3,
    "start_time": "2022-03-07T08:44:19.881Z"
   },
   {
    "duration": 21,
    "start_time": "2022-03-07T08:44:19.885Z"
   },
   {
    "duration": 4,
    "start_time": "2022-03-07T08:44:19.908Z"
   },
   {
    "duration": 29,
    "start_time": "2022-03-07T08:44:19.913Z"
   },
   {
    "duration": 5,
    "start_time": "2022-03-07T08:44:19.944Z"
   },
   {
    "duration": 710,
    "start_time": "2022-03-07T08:44:19.950Z"
   },
   {
    "duration": 6,
    "start_time": "2022-03-07T08:44:20.662Z"
   },
   {
    "duration": 41,
    "start_time": "2022-03-07T08:44:20.669Z"
   },
   {
    "duration": 293,
    "start_time": "2022-03-07T08:44:20.712Z"
   },
   {
    "duration": 25,
    "start_time": "2022-03-07T08:44:21.007Z"
   },
   {
    "duration": 192,
    "start_time": "2022-03-07T08:44:21.033Z"
   },
   {
    "duration": 3,
    "start_time": "2022-03-07T08:44:21.227Z"
   },
   {
    "duration": 9,
    "start_time": "2022-03-07T08:44:21.231Z"
   },
   {
    "duration": 32,
    "start_time": "2022-03-07T08:44:21.243Z"
   },
   {
    "duration": 12,
    "start_time": "2022-03-07T08:44:21.276Z"
   },
   {
    "duration": 20,
    "start_time": "2022-03-07T08:44:21.304Z"
   },
   {
    "duration": 42,
    "start_time": "2022-03-07T08:44:21.326Z"
   },
   {
    "duration": 9,
    "start_time": "2022-03-07T08:44:21.369Z"
   },
   {
    "duration": 5,
    "start_time": "2022-03-07T08:44:21.379Z"
   },
   {
    "duration": 14,
    "start_time": "2022-03-07T08:44:21.405Z"
   },
   {
    "duration": 3,
    "start_time": "2022-03-07T08:44:21.420Z"
   },
   {
    "duration": 592,
    "start_time": "2022-03-07T08:44:21.425Z"
   },
   {
    "duration": 33,
    "start_time": "2022-03-07T08:44:22.019Z"
   },
   {
    "duration": 31,
    "start_time": "2022-03-07T08:44:22.053Z"
   },
   {
    "duration": 67,
    "start_time": "2022-03-07T08:44:22.085Z"
   },
   {
    "duration": 14,
    "start_time": "2022-03-07T08:44:22.154Z"
   },
   {
    "duration": 39,
    "start_time": "2022-03-07T08:44:22.169Z"
   },
   {
    "duration": 35,
    "start_time": "2022-03-07T08:44:22.209Z"
   },
   {
    "duration": 64,
    "start_time": "2022-03-07T08:44:22.245Z"
   },
   {
    "duration": 14,
    "start_time": "2022-03-07T08:44:22.311Z"
   },
   {
    "duration": 9,
    "start_time": "2022-03-07T08:44:22.326Z"
   },
   {
    "duration": 53,
    "start_time": "2022-03-07T08:44:22.337Z"
   },
   {
    "duration": 21,
    "start_time": "2022-03-07T08:44:22.392Z"
   },
   {
    "duration": 10,
    "start_time": "2022-03-07T08:44:22.414Z"
   },
   {
    "duration": 8,
    "start_time": "2022-03-07T08:44:22.425Z"
   },
   {
    "duration": 74,
    "start_time": "2022-03-07T08:44:22.434Z"
   },
   {
    "duration": 17,
    "start_time": "2022-03-07T08:44:22.510Z"
   },
   {
    "duration": 7810,
    "start_time": "2022-03-07T08:44:22.528Z"
   },
   {
    "duration": 9,
    "start_time": "2022-03-07T08:45:25.099Z"
   },
   {
    "duration": 1045,
    "start_time": "2022-03-07T08:58:02.922Z"
   },
   {
    "duration": 1044,
    "start_time": "2022-03-07T08:58:03.969Z"
   },
   {
    "duration": 15,
    "start_time": "2022-03-07T08:58:05.015Z"
   },
   {
    "duration": 14,
    "start_time": "2022-03-07T08:58:05.032Z"
   },
   {
    "duration": 21,
    "start_time": "2022-03-07T08:58:05.048Z"
   },
   {
    "duration": 60,
    "start_time": "2022-03-07T08:58:05.071Z"
   },
   {
    "duration": 108,
    "start_time": "2022-03-07T08:58:05.133Z"
   },
   {
    "duration": 14,
    "start_time": "2022-03-07T08:58:05.243Z"
   },
   {
    "duration": 92,
    "start_time": "2022-03-07T08:58:05.259Z"
   },
   {
    "duration": 4,
    "start_time": "2022-03-07T08:58:05.353Z"
   },
   {
    "duration": 8,
    "start_time": "2022-03-07T08:58:05.358Z"
   },
   {
    "duration": 3,
    "start_time": "2022-03-07T08:58:05.368Z"
   },
   {
    "duration": 47,
    "start_time": "2022-03-07T08:58:05.372Z"
   },
   {
    "duration": 5,
    "start_time": "2022-03-07T08:58:05.420Z"
   },
   {
    "duration": 762,
    "start_time": "2022-03-07T08:58:05.427Z"
   },
   {
    "duration": 16,
    "start_time": "2022-03-07T08:58:06.191Z"
   },
   {
    "duration": 32,
    "start_time": "2022-03-07T08:58:06.209Z"
   },
   {
    "duration": 334,
    "start_time": "2022-03-07T08:58:06.243Z"
   },
   {
    "duration": 40,
    "start_time": "2022-03-07T08:58:06.579Z"
   },
   {
    "duration": 207,
    "start_time": "2022-03-07T08:58:06.621Z"
   },
   {
    "duration": 4,
    "start_time": "2022-03-07T08:58:06.830Z"
   },
   {
    "duration": 7,
    "start_time": "2022-03-07T08:58:06.835Z"
   },
   {
    "duration": 33,
    "start_time": "2022-03-07T08:58:06.846Z"
   },
   {
    "duration": 34,
    "start_time": "2022-03-07T08:58:06.881Z"
   },
   {
    "duration": 20,
    "start_time": "2022-03-07T08:58:06.917Z"
   },
   {
    "duration": 51,
    "start_time": "2022-03-07T08:58:06.939Z"
   },
   {
    "duration": 23,
    "start_time": "2022-03-07T08:58:06.991Z"
   },
   {
    "duration": 9,
    "start_time": "2022-03-07T08:58:07.016Z"
   },
   {
    "duration": 22,
    "start_time": "2022-03-07T08:58:07.027Z"
   },
   {
    "duration": 3,
    "start_time": "2022-03-07T08:58:07.051Z"
   },
   {
    "duration": 612,
    "start_time": "2022-03-07T08:58:07.056Z"
   },
   {
    "duration": 41,
    "start_time": "2022-03-07T08:58:07.670Z"
   },
   {
    "duration": 31,
    "start_time": "2022-03-07T08:58:07.713Z"
   },
   {
    "duration": 68,
    "start_time": "2022-03-07T08:58:07.746Z"
   },
   {
    "duration": 15,
    "start_time": "2022-03-07T08:58:07.815Z"
   },
   {
    "duration": 14,
    "start_time": "2022-03-07T08:58:07.831Z"
   },
   {
    "duration": 34,
    "start_time": "2022-03-07T08:58:07.846Z"
   },
   {
    "duration": 71,
    "start_time": "2022-03-07T08:58:07.881Z"
   },
   {
    "duration": 14,
    "start_time": "2022-03-07T08:58:07.953Z"
   },
   {
    "duration": 9,
    "start_time": "2022-03-07T08:58:07.968Z"
   },
   {
    "duration": 74,
    "start_time": "2022-03-07T08:58:07.978Z"
   },
   {
    "duration": 14,
    "start_time": "2022-03-07T08:58:08.054Z"
   },
   {
    "duration": 8,
    "start_time": "2022-03-07T08:58:08.069Z"
   },
   {
    "duration": 27,
    "start_time": "2022-03-07T08:58:08.079Z"
   },
   {
    "duration": 72,
    "start_time": "2022-03-07T08:58:08.108Z"
   },
   {
    "duration": 28,
    "start_time": "2022-03-07T08:58:08.182Z"
   },
   {
    "duration": 8,
    "start_time": "2022-03-07T08:58:08.212Z"
   },
   {
    "duration": 1912,
    "start_time": "2022-03-07T10:33:16.921Z"
   },
   {
    "duration": 1145,
    "start_time": "2022-03-07T10:33:18.835Z"
   },
   {
    "duration": 22,
    "start_time": "2022-03-07T10:33:19.982Z"
   },
   {
    "duration": 5,
    "start_time": "2022-03-07T10:33:20.006Z"
   },
   {
    "duration": 22,
    "start_time": "2022-03-07T10:33:20.012Z"
   },
   {
    "duration": 55,
    "start_time": "2022-03-07T10:33:20.035Z"
   },
   {
    "duration": 97,
    "start_time": "2022-03-07T10:33:20.091Z"
   },
   {
    "duration": 21,
    "start_time": "2022-03-07T10:33:20.191Z"
   },
   {
    "duration": 90,
    "start_time": "2022-03-07T10:33:20.214Z"
   },
   {
    "duration": 3,
    "start_time": "2022-03-07T10:33:20.305Z"
   },
   {
    "duration": 8,
    "start_time": "2022-03-07T10:33:20.310Z"
   },
   {
    "duration": 4,
    "start_time": "2022-03-07T10:33:20.319Z"
   },
   {
    "duration": 37,
    "start_time": "2022-03-07T10:33:20.325Z"
   },
   {
    "duration": 13,
    "start_time": "2022-03-07T10:33:20.363Z"
   },
   {
    "duration": 717,
    "start_time": "2022-03-07T10:33:20.378Z"
   },
   {
    "duration": 10,
    "start_time": "2022-03-07T10:33:21.096Z"
   },
   {
    "duration": 43,
    "start_time": "2022-03-07T10:33:21.107Z"
   },
   {
    "duration": 298,
    "start_time": "2022-03-07T10:33:21.151Z"
   },
   {
    "duration": 26,
    "start_time": "2022-03-07T10:33:21.451Z"
   },
   {
    "duration": 203,
    "start_time": "2022-03-07T10:33:21.479Z"
   },
   {
    "duration": 3,
    "start_time": "2022-03-07T10:33:21.684Z"
   },
   {
    "duration": 22,
    "start_time": "2022-03-07T10:33:21.688Z"
   },
   {
    "duration": 57,
    "start_time": "2022-03-07T10:33:21.712Z"
   },
   {
    "duration": 13,
    "start_time": "2022-03-07T10:33:21.771Z"
   },
   {
    "duration": 32,
    "start_time": "2022-03-07T10:33:21.785Z"
   },
   {
    "duration": 57,
    "start_time": "2022-03-07T10:33:21.819Z"
   },
   {
    "duration": 11,
    "start_time": "2022-03-07T10:33:21.877Z"
   },
   {
    "duration": 17,
    "start_time": "2022-03-07T10:33:21.889Z"
   },
   {
    "duration": 33,
    "start_time": "2022-03-07T10:33:21.907Z"
   },
   {
    "duration": 9,
    "start_time": "2022-03-07T10:33:21.942Z"
   },
   {
    "duration": 618,
    "start_time": "2022-03-07T10:33:21.953Z"
   },
   {
    "duration": 41,
    "start_time": "2022-03-07T10:33:22.573Z"
   },
   {
    "duration": 32,
    "start_time": "2022-03-07T10:33:22.616Z"
   },
   {
    "duration": 69,
    "start_time": "2022-03-07T10:33:22.649Z"
   },
   {
    "duration": 16,
    "start_time": "2022-03-07T10:33:22.719Z"
   },
   {
    "duration": 20,
    "start_time": "2022-03-07T10:33:22.736Z"
   },
   {
    "duration": 49,
    "start_time": "2022-03-07T10:33:22.757Z"
   },
   {
    "duration": 52,
    "start_time": "2022-03-07T10:33:22.808Z"
   },
   {
    "duration": 15,
    "start_time": "2022-03-07T10:33:22.861Z"
   },
   {
    "duration": 32,
    "start_time": "2022-03-07T10:33:22.877Z"
   },
   {
    "duration": 65,
    "start_time": "2022-03-07T10:33:22.911Z"
   },
   {
    "duration": 13,
    "start_time": "2022-03-07T10:33:22.978Z"
   },
   {
    "duration": 16,
    "start_time": "2022-03-07T10:33:22.993Z"
   },
   {
    "duration": 24,
    "start_time": "2022-03-07T10:33:23.010Z"
   },
   {
    "duration": 84,
    "start_time": "2022-03-07T10:33:23.036Z"
   },
   {
    "duration": 17,
    "start_time": "2022-03-07T10:33:23.121Z"
   },
   {
    "duration": 28,
    "start_time": "2022-03-07T10:33:23.139Z"
   },
   {
    "duration": 18,
    "start_time": "2022-03-07T10:36:59.421Z"
   },
   {
    "duration": 14,
    "start_time": "2022-03-07T10:45:56.220Z"
   },
   {
    "duration": 17,
    "start_time": "2022-03-07T10:47:00.651Z"
   },
   {
    "duration": 14,
    "start_time": "2022-03-07T10:50:15.614Z"
   }
  ],
  "kernelspec": {
   "display_name": "Python 3",
   "language": "python",
   "name": "python3"
  },
  "language_info": {
   "codemirror_mode": {
    "name": "ipython",
    "version": 3
   },
   "file_extension": ".py",
   "mimetype": "text/x-python",
   "name": "python",
   "nbconvert_exporter": "python",
   "pygments_lexer": "ipython3",
   "version": "3.7.13"
  },
  "toc": {
   "base_numbering": 1,
   "nav_menu": {},
   "number_sections": true,
   "sideBar": true,
   "skip_h1_title": true,
   "title_cell": "Table of Contents",
   "title_sidebar": "Contents",
   "toc_cell": false,
   "toc_position": {
    "height": "calc(100% - 180px)",
    "left": "10px",
    "top": "150px",
    "width": "278.452px"
   },
   "toc_section_display": true,
   "toc_window_display": false
  }
 },
 "nbformat": 4,
 "nbformat_minor": 2
}
