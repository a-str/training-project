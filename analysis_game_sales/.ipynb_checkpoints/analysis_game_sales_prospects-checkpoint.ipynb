{
 "cells": [
  {
   "cell_type": "markdown",
   "metadata": {},
   "source": [
    "# Анализ перспектив продаж компьютерных игр"
   ]
  },
  {
   "cell_type": "markdown",
   "metadata": {},
   "source": [
    "__Постановка задачи:__ \n",
    "На основании исторических данных о продажах игр выявить определяющие успешность игры закономерности.\n",
    "\n",
    "__Цель проекта:__\n",
    "Выявить на рынке компьютерных игр потенциально популярный продукт для планирования рекламной кампании для  интернет-магазина.\n",
    "\n",
    "\n",
    "__План работ:__\n",
    "1. [Импорт библиотек и получение данных](#id_1)\n",
    "2. [Подготовка данных](#id_2)\n",
    "3. [Исследовательский анализ данных](#id_3)\n",
    "4. [Составление портрета пользователя каждого региона](#id_4)\n",
    "5. [Проверка гипотез](#id_5)\n",
    "6. [Общий вывод](#id_6)"
   ]
  },
  {
   "cell_type": "markdown",
   "metadata": {},
   "source": [
    "<a id='id_1'></a>\n",
    "## Импорт библиотек и получение данных"
   ]
  },
  {
   "cell_type": "code",
   "execution_count": 1,
   "metadata": {},
   "outputs": [],
   "source": [
    "import pandas as pd\n",
    "import matplotlib.pyplot as plt\n",
    "import numpy as np\n",
    "from scipy import stats as st\n",
    "import seaborn as sns\n",
    "sns.set()\n",
    "import warnings\n",
    "warnings.filterwarnings(\"ignore\")"
   ]
  },
  {
   "cell_type": "markdown",
   "metadata": {},
   "source": [
    "Прочитаем файл 'games.csv' и сохраним его в переменной df."
   ]
  },
  {
   "cell_type": "code",
   "execution_count": 2,
   "metadata": {},
   "outputs": [
    {
     "data": {
      "text/html": [
       "<div>\n",
       "<style scoped>\n",
       "    .dataframe tbody tr th:only-of-type {\n",
       "        vertical-align: middle;\n",
       "    }\n",
       "\n",
       "    .dataframe tbody tr th {\n",
       "        vertical-align: top;\n",
       "    }\n",
       "\n",
       "    .dataframe thead th {\n",
       "        text-align: right;\n",
       "    }\n",
       "</style>\n",
       "<table border=\"1\" class=\"dataframe\">\n",
       "  <thead>\n",
       "    <tr style=\"text-align: right;\">\n",
       "      <th></th>\n",
       "      <th>Name</th>\n",
       "      <th>Platform</th>\n",
       "      <th>Year_of_Release</th>\n",
       "      <th>Genre</th>\n",
       "      <th>NA_sales</th>\n",
       "      <th>EU_sales</th>\n",
       "      <th>JP_sales</th>\n",
       "      <th>Other_sales</th>\n",
       "      <th>Critic_Score</th>\n",
       "      <th>User_Score</th>\n",
       "      <th>Rating</th>\n",
       "    </tr>\n",
       "  </thead>\n",
       "  <tbody>\n",
       "    <tr>\n",
       "      <td>0</td>\n",
       "      <td>Wii Sports</td>\n",
       "      <td>Wii</td>\n",
       "      <td>2006.0</td>\n",
       "      <td>Sports</td>\n",
       "      <td>41.36</td>\n",
       "      <td>28.96</td>\n",
       "      <td>3.77</td>\n",
       "      <td>8.45</td>\n",
       "      <td>76.0</td>\n",
       "      <td>8</td>\n",
       "      <td>E</td>\n",
       "    </tr>\n",
       "    <tr>\n",
       "      <td>1</td>\n",
       "      <td>Super Mario Bros.</td>\n",
       "      <td>NES</td>\n",
       "      <td>1985.0</td>\n",
       "      <td>Platform</td>\n",
       "      <td>29.08</td>\n",
       "      <td>3.58</td>\n",
       "      <td>6.81</td>\n",
       "      <td>0.77</td>\n",
       "      <td>NaN</td>\n",
       "      <td>NaN</td>\n",
       "      <td>NaN</td>\n",
       "    </tr>\n",
       "    <tr>\n",
       "      <td>2</td>\n",
       "      <td>Mario Kart Wii</td>\n",
       "      <td>Wii</td>\n",
       "      <td>2008.0</td>\n",
       "      <td>Racing</td>\n",
       "      <td>15.68</td>\n",
       "      <td>12.76</td>\n",
       "      <td>3.79</td>\n",
       "      <td>3.29</td>\n",
       "      <td>82.0</td>\n",
       "      <td>8.3</td>\n",
       "      <td>E</td>\n",
       "    </tr>\n",
       "    <tr>\n",
       "      <td>3</td>\n",
       "      <td>Wii Sports Resort</td>\n",
       "      <td>Wii</td>\n",
       "      <td>2009.0</td>\n",
       "      <td>Sports</td>\n",
       "      <td>15.61</td>\n",
       "      <td>10.93</td>\n",
       "      <td>3.28</td>\n",
       "      <td>2.95</td>\n",
       "      <td>80.0</td>\n",
       "      <td>8</td>\n",
       "      <td>E</td>\n",
       "    </tr>\n",
       "    <tr>\n",
       "      <td>4</td>\n",
       "      <td>Pokemon Red/Pokemon Blue</td>\n",
       "      <td>GB</td>\n",
       "      <td>1996.0</td>\n",
       "      <td>Role-Playing</td>\n",
       "      <td>11.27</td>\n",
       "      <td>8.89</td>\n",
       "      <td>10.22</td>\n",
       "      <td>1.00</td>\n",
       "      <td>NaN</td>\n",
       "      <td>NaN</td>\n",
       "      <td>NaN</td>\n",
       "    </tr>\n",
       "  </tbody>\n",
       "</table>\n",
       "</div>"
      ],
      "text/plain": [
       "                       Name Platform  Year_of_Release         Genre  NA_sales  \\\n",
       "0                Wii Sports      Wii           2006.0        Sports     41.36   \n",
       "1         Super Mario Bros.      NES           1985.0      Platform     29.08   \n",
       "2            Mario Kart Wii      Wii           2008.0        Racing     15.68   \n",
       "3         Wii Sports Resort      Wii           2009.0        Sports     15.61   \n",
       "4  Pokemon Red/Pokemon Blue       GB           1996.0  Role-Playing     11.27   \n",
       "\n",
       "   EU_sales  JP_sales  Other_sales  Critic_Score User_Score Rating  \n",
       "0     28.96      3.77         8.45          76.0          8      E  \n",
       "1      3.58      6.81         0.77           NaN        NaN    NaN  \n",
       "2     12.76      3.79         3.29          82.0        8.3      E  \n",
       "3     10.93      3.28         2.95          80.0          8      E  \n",
       "4      8.89     10.22         1.00           NaN        NaN    NaN  "
      ]
     },
     "execution_count": 2,
     "metadata": {},
     "output_type": "execute_result"
    }
   ],
   "source": [
    "df = pd.read_csv('/datasets/games.csv')\n",
    "df.head()"
   ]
  },
  {
   "cell_type": "markdown",
   "metadata": {},
   "source": [
    "Входные данные содержат информацию об играх (Name), игровых платформах (Platform), годе выпуска (Year_of_Release), игровом жанре (Genre), объемах региональных продаж ( NA, EU, JP, Other), оценочных рейтингах критиков (Critic_Score) и пользователей (User_Score), а также присвоенном рейтинге игры (Rating)."
   ]
  },
  {
   "cell_type": "markdown",
   "metadata": {},
   "source": [
    "Общая информация о данных таблицы df."
   ]
  },
  {
   "cell_type": "code",
   "execution_count": 3,
   "metadata": {},
   "outputs": [
    {
     "name": "stdout",
     "output_type": "stream",
     "text": [
      "<class 'pandas.core.frame.DataFrame'>\n",
      "RangeIndex: 16715 entries, 0 to 16714\n",
      "Data columns (total 11 columns):\n",
      "Name               16713 non-null object\n",
      "Platform           16715 non-null object\n",
      "Year_of_Release    16446 non-null float64\n",
      "Genre              16713 non-null object\n",
      "NA_sales           16715 non-null float64\n",
      "EU_sales           16715 non-null float64\n",
      "JP_sales           16715 non-null float64\n",
      "Other_sales        16715 non-null float64\n",
      "Critic_Score       8137 non-null float64\n",
      "User_Score         10014 non-null object\n",
      "Rating             9949 non-null object\n",
      "dtypes: float64(6), object(5)\n",
      "memory usage: 1.4+ MB\n"
     ]
    }
   ],
   "source": [
    "df.info()"
   ]
  },
  {
   "cell_type": "markdown",
   "metadata": {},
   "source": [
    "Наличие большого количества пропусков может быть связано с отсутствием данных в первые годы развития игрового рынка: не фиксировался год выпуска игры, не было агрегаторов рейтинга критиков и пользователей."
   ]
  },
  {
   "cell_type": "markdown",
   "metadata": {},
   "source": [
    "<a id='id_2'></a>\n",
    "## Подготовка данных"
   ]
  },
  {
   "cell_type": "markdown",
   "metadata": {},
   "source": [
    "Замена названия столбцов (приведение к нижнему регистру)"
   ]
  },
  {
   "cell_type": "code",
   "execution_count": 4,
   "metadata": {},
   "outputs": [
    {
     "data": {
      "text/plain": [
       "Index(['Name', 'Platform', 'Year_of_Release', 'Genre', 'NA_sales', 'EU_sales',\n",
       "       'JP_sales', 'Other_sales', 'Critic_Score', 'User_Score', 'Rating'],\n",
       "      dtype='object')"
      ]
     },
     "execution_count": 4,
     "metadata": {},
     "output_type": "execute_result"
    }
   ],
   "source": [
    "df.columns"
   ]
  },
  {
   "cell_type": "code",
   "execution_count": 5,
   "metadata": {},
   "outputs": [],
   "source": [
    "df.columns =  df.columns.str.lower()\n",
    "#df = df.rename(columns={'Name': 'name', 'Platform': 'platform', 'Year_of_Release': 'year_of_release',\n",
    "#                    'Genre': 'genre', 'NA_sales': 'na_sales', 'EU_sales': 'eu_sales',\n",
    "#                    'JP_sales': 'jp_sales', 'Other_sales': 'other_sales', 'Critic_Score': 'critic_score',\n",
    "#                   'User_Score': 'user_score', 'Rating': 'rating'})"
   ]
  },
  {
   "cell_type": "code",
   "execution_count": 6,
   "metadata": {},
   "outputs": [
    {
     "data": {
      "text/plain": [
       "Index(['name', 'platform', 'year_of_release', 'genre', 'na_sales', 'eu_sales',\n",
       "       'jp_sales', 'other_sales', 'critic_score', 'user_score', 'rating'],\n",
       "      dtype='object')"
      ]
     },
     "execution_count": 6,
     "metadata": {},
     "output_type": "execute_result"
    }
   ],
   "source": [
    "df.columns"
   ]
  },
  {
   "cell_type": "markdown",
   "metadata": {},
   "source": [
    "Преобразование данных в нужные типы ('user_score' в числовой формат)"
   ]
  },
  {
   "cell_type": "code",
   "execution_count": 7,
   "metadata": {},
   "outputs": [],
   "source": [
    "df['user_score'] = pd.to_numeric(df['user_score'], errors='coerce')"
   ]
  },
  {
   "cell_type": "code",
   "execution_count": 8,
   "metadata": {},
   "outputs": [],
   "source": [
    "df['year_of_release'] =  df['year_of_release'].astype('object', errors='ignore')"
   ]
  },
  {
   "cell_type": "code",
   "execution_count": 9,
   "metadata": {
    "scrolled": true
   },
   "outputs": [
    {
     "name": "stdout",
     "output_type": "stream",
     "text": [
      "<class 'pandas.core.frame.DataFrame'>\n",
      "RangeIndex: 16715 entries, 0 to 16714\n",
      "Data columns (total 11 columns):\n",
      "name               16713 non-null object\n",
      "platform           16715 non-null object\n",
      "year_of_release    16446 non-null object\n",
      "genre              16713 non-null object\n",
      "na_sales           16715 non-null float64\n",
      "eu_sales           16715 non-null float64\n",
      "jp_sales           16715 non-null float64\n",
      "other_sales        16715 non-null float64\n",
      "critic_score       8137 non-null float64\n",
      "user_score         7590 non-null float64\n",
      "rating             9949 non-null object\n",
      "dtypes: float64(6), object(5)\n",
      "memory usage: 1.4+ MB\n"
     ]
    }
   ],
   "source": [
    "df.info()"
   ]
  },
  {
   "cell_type": "code",
   "execution_count": 10,
   "metadata": {},
   "outputs": [
    {
     "data": {
      "text/html": [
       "<div>\n",
       "<style scoped>\n",
       "    .dataframe tbody tr th:only-of-type {\n",
       "        vertical-align: middle;\n",
       "    }\n",
       "\n",
       "    .dataframe tbody tr th {\n",
       "        vertical-align: top;\n",
       "    }\n",
       "\n",
       "    .dataframe thead th {\n",
       "        text-align: right;\n",
       "    }\n",
       "</style>\n",
       "<table border=\"1\" class=\"dataframe\">\n",
       "  <thead>\n",
       "    <tr style=\"text-align: right;\">\n",
       "      <th></th>\n",
       "      <th>name</th>\n",
       "      <th>platform</th>\n",
       "      <th>year_of_release</th>\n",
       "      <th>genre</th>\n",
       "      <th>na_sales</th>\n",
       "      <th>eu_sales</th>\n",
       "      <th>jp_sales</th>\n",
       "      <th>other_sales</th>\n",
       "      <th>critic_score</th>\n",
       "      <th>user_score</th>\n",
       "      <th>rating</th>\n",
       "    </tr>\n",
       "  </thead>\n",
       "  <tbody>\n",
       "    <tr>\n",
       "      <td>0</td>\n",
       "      <td>Wii Sports</td>\n",
       "      <td>Wii</td>\n",
       "      <td>2006</td>\n",
       "      <td>Sports</td>\n",
       "      <td>41.36</td>\n",
       "      <td>28.96</td>\n",
       "      <td>3.77</td>\n",
       "      <td>8.45</td>\n",
       "      <td>76.0</td>\n",
       "      <td>8.0</td>\n",
       "      <td>E</td>\n",
       "    </tr>\n",
       "    <tr>\n",
       "      <td>1</td>\n",
       "      <td>Super Mario Bros.</td>\n",
       "      <td>NES</td>\n",
       "      <td>1985</td>\n",
       "      <td>Platform</td>\n",
       "      <td>29.08</td>\n",
       "      <td>3.58</td>\n",
       "      <td>6.81</td>\n",
       "      <td>0.77</td>\n",
       "      <td>NaN</td>\n",
       "      <td>NaN</td>\n",
       "      <td>NaN</td>\n",
       "    </tr>\n",
       "    <tr>\n",
       "      <td>2</td>\n",
       "      <td>Mario Kart Wii</td>\n",
       "      <td>Wii</td>\n",
       "      <td>2008</td>\n",
       "      <td>Racing</td>\n",
       "      <td>15.68</td>\n",
       "      <td>12.76</td>\n",
       "      <td>3.79</td>\n",
       "      <td>3.29</td>\n",
       "      <td>82.0</td>\n",
       "      <td>8.3</td>\n",
       "      <td>E</td>\n",
       "    </tr>\n",
       "    <tr>\n",
       "      <td>3</td>\n",
       "      <td>Wii Sports Resort</td>\n",
       "      <td>Wii</td>\n",
       "      <td>2009</td>\n",
       "      <td>Sports</td>\n",
       "      <td>15.61</td>\n",
       "      <td>10.93</td>\n",
       "      <td>3.28</td>\n",
       "      <td>2.95</td>\n",
       "      <td>80.0</td>\n",
       "      <td>8.0</td>\n",
       "      <td>E</td>\n",
       "    </tr>\n",
       "    <tr>\n",
       "      <td>4</td>\n",
       "      <td>Pokemon Red/Pokemon Blue</td>\n",
       "      <td>GB</td>\n",
       "      <td>1996</td>\n",
       "      <td>Role-Playing</td>\n",
       "      <td>11.27</td>\n",
       "      <td>8.89</td>\n",
       "      <td>10.22</td>\n",
       "      <td>1.00</td>\n",
       "      <td>NaN</td>\n",
       "      <td>NaN</td>\n",
       "      <td>NaN</td>\n",
       "    </tr>\n",
       "  </tbody>\n",
       "</table>\n",
       "</div>"
      ],
      "text/plain": [
       "                       name platform year_of_release         genre  na_sales  \\\n",
       "0                Wii Sports      Wii            2006        Sports     41.36   \n",
       "1         Super Mario Bros.      NES            1985      Platform     29.08   \n",
       "2            Mario Kart Wii      Wii            2008        Racing     15.68   \n",
       "3         Wii Sports Resort      Wii            2009        Sports     15.61   \n",
       "4  Pokemon Red/Pokemon Blue       GB            1996  Role-Playing     11.27   \n",
       "\n",
       "   eu_sales  jp_sales  other_sales  critic_score  user_score rating  \n",
       "0     28.96      3.77         8.45          76.0         8.0      E  \n",
       "1      3.58      6.81         0.77           NaN         NaN    NaN  \n",
       "2     12.76      3.79         3.29          82.0         8.3      E  \n",
       "3     10.93      3.28         2.95          80.0         8.0      E  \n",
       "4      8.89     10.22         1.00           NaN         NaN    NaN  "
      ]
     },
     "execution_count": 10,
     "metadata": {},
     "output_type": "execute_result"
    }
   ],
   "source": [
    "df.head()"
   ]
  },
  {
   "cell_type": "markdown",
   "metadata": {},
   "source": [
    "Обработка пропусков данных (пропуски категориальных данных 'name', 'year_of_release', 'genre', 'rating' заменяем на 'unknown', пропуски цифровых оценок пользователей и критиков оставляем, как не мешающие):"
   ]
  },
  {
   "cell_type": "code",
   "execution_count": 11,
   "metadata": {},
   "outputs": [
    {
     "data": {
      "text/plain": [
       "name                  2\n",
       "platform              0\n",
       "year_of_release     269\n",
       "genre                 2\n",
       "na_sales              0\n",
       "eu_sales              0\n",
       "jp_sales              0\n",
       "other_sales           0\n",
       "critic_score       8578\n",
       "user_score         9125\n",
       "rating             6766\n",
       "dtype: int64"
      ]
     },
     "execution_count": 11,
     "metadata": {},
     "output_type": "execute_result"
    }
   ],
   "source": [
    "df.isnull().sum()"
   ]
  },
  {
   "cell_type": "code",
   "execution_count": 12,
   "metadata": {},
   "outputs": [],
   "source": [
    "df['name'] = df['name'].fillna('unknown')\n",
    "df['year_of_release'] = df['year_of_release'].fillna('unknown')\n",
    "df.dropna(subset=['genre'], inplace = True)\n",
    "df['rating'] = df['rating'].fillna(value='unknown')"
   ]
  },
  {
   "cell_type": "code",
   "execution_count": 13,
   "metadata": {},
   "outputs": [
    {
     "data": {
      "text/plain": [
       "name                  0\n",
       "platform              0\n",
       "year_of_release       0\n",
       "genre                 0\n",
       "na_sales              0\n",
       "eu_sales              0\n",
       "jp_sales              0\n",
       "other_sales           0\n",
       "critic_score       8576\n",
       "user_score         9123\n",
       "rating                0\n",
       "dtype: int64"
      ]
     },
     "execution_count": 13,
     "metadata": {},
     "output_type": "execute_result"
    }
   ],
   "source": [
    "df.isnull().sum()"
   ]
  },
  {
   "cell_type": "code",
   "execution_count": 14,
   "metadata": {},
   "outputs": [
    {
     "name": "stdout",
     "output_type": "stream",
     "text": [
      "unknown    6764\n",
      "E          3990\n",
      "T          2961\n",
      "M          1563\n",
      "E10+       1420\n",
      "EC            8\n",
      "RP            3\n",
      "K-A           3\n",
      "AO            1\n",
      "Name: rating, dtype: int64\n"
     ]
    }
   ],
   "source": [
    "print(df['rating'].value_counts())"
   ]
  },
  {
   "cell_type": "markdown",
   "metadata": {},
   "source": [
    "Проверка дубликатов"
   ]
  },
  {
   "cell_type": "code",
   "execution_count": 15,
   "metadata": {},
   "outputs": [
    {
     "data": {
      "text/plain": [
       "0"
      ]
     },
     "execution_count": 15,
     "metadata": {},
     "output_type": "execute_result"
    }
   ],
   "source": [
    "df.duplicated().sum()"
   ]
  },
  {
   "cell_type": "markdown",
   "metadata": {},
   "source": [
    "Cуммарные продажи во всех регионах добавлены в столбец 'sum_sales'"
   ]
  },
  {
   "cell_type": "code",
   "execution_count": 16,
   "metadata": {},
   "outputs": [],
   "source": [
    "df['sum_sales'] = df['na_sales'] + df['eu_sales'] + df['jp_sales'] + df['other_sales']"
   ]
  },
  {
   "cell_type": "code",
   "execution_count": 17,
   "metadata": {
    "scrolled": true
   },
   "outputs": [
    {
     "data": {
      "text/html": [
       "<div>\n",
       "<style scoped>\n",
       "    .dataframe tbody tr th:only-of-type {\n",
       "        vertical-align: middle;\n",
       "    }\n",
       "\n",
       "    .dataframe tbody tr th {\n",
       "        vertical-align: top;\n",
       "    }\n",
       "\n",
       "    .dataframe thead th {\n",
       "        text-align: right;\n",
       "    }\n",
       "</style>\n",
       "<table border=\"1\" class=\"dataframe\">\n",
       "  <thead>\n",
       "    <tr style=\"text-align: right;\">\n",
       "      <th></th>\n",
       "      <th>name</th>\n",
       "      <th>platform</th>\n",
       "      <th>year_of_release</th>\n",
       "      <th>genre</th>\n",
       "      <th>na_sales</th>\n",
       "      <th>eu_sales</th>\n",
       "      <th>jp_sales</th>\n",
       "      <th>other_sales</th>\n",
       "      <th>critic_score</th>\n",
       "      <th>user_score</th>\n",
       "      <th>rating</th>\n",
       "      <th>sum_sales</th>\n",
       "    </tr>\n",
       "  </thead>\n",
       "  <tbody>\n",
       "    <tr>\n",
       "      <td>0</td>\n",
       "      <td>Wii Sports</td>\n",
       "      <td>Wii</td>\n",
       "      <td>2006</td>\n",
       "      <td>Sports</td>\n",
       "      <td>41.36</td>\n",
       "      <td>28.96</td>\n",
       "      <td>3.77</td>\n",
       "      <td>8.45</td>\n",
       "      <td>76.0</td>\n",
       "      <td>8.0</td>\n",
       "      <td>E</td>\n",
       "      <td>82.54</td>\n",
       "    </tr>\n",
       "    <tr>\n",
       "      <td>1</td>\n",
       "      <td>Super Mario Bros.</td>\n",
       "      <td>NES</td>\n",
       "      <td>1985</td>\n",
       "      <td>Platform</td>\n",
       "      <td>29.08</td>\n",
       "      <td>3.58</td>\n",
       "      <td>6.81</td>\n",
       "      <td>0.77</td>\n",
       "      <td>NaN</td>\n",
       "      <td>NaN</td>\n",
       "      <td>unknown</td>\n",
       "      <td>40.24</td>\n",
       "    </tr>\n",
       "    <tr>\n",
       "      <td>2</td>\n",
       "      <td>Mario Kart Wii</td>\n",
       "      <td>Wii</td>\n",
       "      <td>2008</td>\n",
       "      <td>Racing</td>\n",
       "      <td>15.68</td>\n",
       "      <td>12.76</td>\n",
       "      <td>3.79</td>\n",
       "      <td>3.29</td>\n",
       "      <td>82.0</td>\n",
       "      <td>8.3</td>\n",
       "      <td>E</td>\n",
       "      <td>35.52</td>\n",
       "    </tr>\n",
       "    <tr>\n",
       "      <td>3</td>\n",
       "      <td>Wii Sports Resort</td>\n",
       "      <td>Wii</td>\n",
       "      <td>2009</td>\n",
       "      <td>Sports</td>\n",
       "      <td>15.61</td>\n",
       "      <td>10.93</td>\n",
       "      <td>3.28</td>\n",
       "      <td>2.95</td>\n",
       "      <td>80.0</td>\n",
       "      <td>8.0</td>\n",
       "      <td>E</td>\n",
       "      <td>32.77</td>\n",
       "    </tr>\n",
       "    <tr>\n",
       "      <td>4</td>\n",
       "      <td>Pokemon Red/Pokemon Blue</td>\n",
       "      <td>GB</td>\n",
       "      <td>1996</td>\n",
       "      <td>Role-Playing</td>\n",
       "      <td>11.27</td>\n",
       "      <td>8.89</td>\n",
       "      <td>10.22</td>\n",
       "      <td>1.00</td>\n",
       "      <td>NaN</td>\n",
       "      <td>NaN</td>\n",
       "      <td>unknown</td>\n",
       "      <td>31.38</td>\n",
       "    </tr>\n",
       "  </tbody>\n",
       "</table>\n",
       "</div>"
      ],
      "text/plain": [
       "                       name platform year_of_release         genre  na_sales  \\\n",
       "0                Wii Sports      Wii            2006        Sports     41.36   \n",
       "1         Super Mario Bros.      NES            1985      Platform     29.08   \n",
       "2            Mario Kart Wii      Wii            2008        Racing     15.68   \n",
       "3         Wii Sports Resort      Wii            2009        Sports     15.61   \n",
       "4  Pokemon Red/Pokemon Blue       GB            1996  Role-Playing     11.27   \n",
       "\n",
       "   eu_sales  jp_sales  other_sales  critic_score  user_score   rating  \\\n",
       "0     28.96      3.77         8.45          76.0         8.0        E   \n",
       "1      3.58      6.81         0.77           NaN         NaN  unknown   \n",
       "2     12.76      3.79         3.29          82.0         8.3        E   \n",
       "3     10.93      3.28         2.95          80.0         8.0        E   \n",
       "4      8.89     10.22         1.00           NaN         NaN  unknown   \n",
       "\n",
       "   sum_sales  \n",
       "0      82.54  \n",
       "1      40.24  \n",
       "2      35.52  \n",
       "3      32.77  \n",
       "4      31.38  "
      ]
     },
     "execution_count": 17,
     "metadata": {},
     "output_type": "execute_result"
    }
   ],
   "source": [
    "df.head()"
   ]
  },
  {
   "cell_type": "markdown",
   "metadata": {},
   "source": [
    "<a id='id_3'></a>\n",
    "## Исследовательский анализ данных"
   ]
  },
  {
   "cell_type": "markdown",
   "metadata": {},
   "source": [
    "Выпуск игр в разные годы:"
   ]
  },
  {
   "cell_type": "code",
   "execution_count": 18,
   "metadata": {},
   "outputs": [],
   "source": [
    "games_cnt = df.groupby('year_of_release')['name'].count()"
   ]
  },
  {
   "cell_type": "markdown",
   "metadata": {},
   "source": [
    "До 1990 года количество ежегодного выпуска игр существенно не изменялось:"
   ]
  },
  {
   "cell_type": "code",
   "execution_count": 19,
   "metadata": {},
   "outputs": [
    {
     "name": "stdout",
     "output_type": "stream",
     "text": [
      "year_of_release\n",
      "1980.0        9\n",
      "1981.0       46\n",
      "1982.0       36\n",
      "1983.0       17\n",
      "1984.0       14\n",
      "1985.0       14\n",
      "1986.0       21\n",
      "1987.0       16\n",
      "1988.0       15\n",
      "1989.0       17\n",
      "1990.0       16\n",
      "1991.0       41\n",
      "1992.0       43\n",
      "1993.0       60\n",
      "1994.0      121\n",
      "1995.0      219\n",
      "1996.0      263\n",
      "1997.0      289\n",
      "1998.0      379\n",
      "1999.0      338\n",
      "2000.0      350\n",
      "2001.0      482\n",
      "2002.0      829\n",
      "2003.0      775\n",
      "2004.0      762\n",
      "2005.0      939\n",
      "2006.0     1006\n",
      "2007.0     1197\n",
      "2008.0     1427\n",
      "2009.0     1426\n",
      "2010.0     1255\n",
      "2011.0     1136\n",
      "2012.0      653\n",
      "2013.0      544\n",
      "2014.0      581\n",
      "2015.0      606\n",
      "2016.0      502\n",
      "unknown     269\n",
      "Name: name, dtype: int64\n"
     ]
    },
    {
     "data": {
      "image/png": "[encoded data removed]",
      "text/plain": [
       "<Figure size 432x288 with 1 Axes>"
      ]
     },
     "metadata": {},
     "output_type": "display_data"
    }
   ],
   "source": [
    "print(games_cnt)\n",
    "games_cnt.plot();\n",
    "plt.title('Динамика выпущенных игр по годам');"
   ]
  },
  {
   "cell_type": "markdown",
   "metadata": {},
   "source": [
    "Спад выпуска количества игр после 2010 года возможно связан с неучитываемым в настоящем исследовании развитием игр на мобильных платформах, а также с возможным с изменением структуры рынка в пользу более сложных в разработке и длительных сетевых игр."
   ]
  },
  {
   "cell_type": "markdown",
   "metadata": {},
   "source": [
    "Распределение продаж по платформам:"
   ]
  },
  {
   "cell_type": "code",
   "execution_count": 20,
   "metadata": {},
   "outputs": [],
   "source": [
    "sell_platform_sum = df.groupby('platform')['sum_sales'].sum()"
   ]
  },
  {
   "cell_type": "code",
   "execution_count": 21,
   "metadata": {},
   "outputs": [
    {
     "name": "stdout",
     "output_type": "stream",
     "text": [
      "platform\n",
      "PS2     1255.77\n",
      "X360     971.42\n",
      "PS3      939.65\n",
      "Wii      907.51\n",
      "DS       806.12\n",
      "PS       730.86\n",
      "GBA      317.85\n",
      "PS4      314.14\n",
      "PSP      294.05\n",
      "PC       259.52\n",
      "3DS      259.00\n",
      "XB       257.74\n",
      "GB       255.46\n",
      "NES      251.05\n",
      "N64      218.68\n",
      "SNES     200.04\n",
      "GC       198.93\n",
      "XOne     159.32\n",
      "2600      96.98\n",
      "WiiU      82.19\n",
      "PSV       54.07\n",
      "SAT       33.59\n",
      "GEN       28.35\n",
      "DC        15.95\n",
      "SCD        1.86\n",
      "NG         1.44\n",
      "WS         1.42\n",
      "TG16       0.16\n",
      "3DO        0.10\n",
      "GG         0.04\n",
      "PCFX       0.03\n",
      "Name: sum_sales, dtype: float64\n"
     ]
    }
   ],
   "source": [
    "print(sell_platform_sum.sort_values(ascending=False))"
   ]
  },
  {
   "cell_type": "markdown",
   "metadata": {},
   "source": [
    "Топ-5 платформ:"
   ]
  },
  {
   "cell_type": "code",
   "execution_count": 22,
   "metadata": {},
   "outputs": [
    {
     "name": "stdout",
     "output_type": "stream",
     "text": [
      "platform\n",
      "PS2     1255.77\n",
      "X360     971.42\n",
      "PS3      939.65\n",
      "Wii      907.51\n",
      "DS       806.12\n",
      "Name: sum_sales, dtype: float64\n"
     ]
    }
   ],
   "source": [
    "print(sell_platform_sum.sort_values(ascending=False).head(5))"
   ]
  },
  {
   "cell_type": "markdown",
   "metadata": {},
   "source": [
    "Распределение объема продаж по годам на топ-5 платформ:"
   ]
  },
  {
   "cell_type": "code",
   "execution_count": 23,
   "metadata": {},
   "outputs": [],
   "source": [
    "# исключение данных без указания года\n",
    "df = df[df['year_of_release'] != 'unknown']"
   ]
  },
  {
   "cell_type": "code",
   "execution_count": 24,
   "metadata": {},
   "outputs": [
    {
     "name": "stdout",
     "output_type": "stream",
     "text": [
      "                 sum_sales_PS2\n",
      "year_of_release               \n",
      "2000.0                   39.17\n",
      "2001.0                  166.43\n",
      "2002.0                  205.38\n",
      "2003.0                  184.31\n",
      "2004.0                  211.81\n",
      "2005.0                  160.66\n",
      "2006.0                  103.42\n",
      "2007.0                   75.99\n",
      "2008.0                   53.90\n",
      "2009.0                   26.40\n",
      "2010.0                    5.64\n",
      "2011.0                    0.45\n"
     ]
    }
   ],
   "source": [
    "PS2_pivot = df[df['platform'] == 'PS2'].pivot_table(index='year_of_release', values ='sum_sales', aggfunc='sum')\n",
    "PS2_pivot = PS2_pivot.rename(columns={'sum_sales': 'sum_sales_PS2'})\n",
    "print(PS2_pivot)"
   ]
  },
  {
   "cell_type": "code",
   "execution_count": 25,
   "metadata": {},
   "outputs": [
    {
     "name": "stdout",
     "output_type": "stream",
     "text": [
      "                 sum_sales_DS\n",
      "year_of_release              \n",
      "2004.0                  17.27\n",
      "2005.0                 130.14\n",
      "2006.0                 119.81\n",
      "2007.0                 146.94\n",
      "2008.0                 145.31\n",
      "2009.0                 119.54\n",
      "2010.0                  85.02\n",
      "2011.0                  26.18\n",
      "2012.0                  11.01\n",
      "2013.0                   1.54\n"
     ]
    }
   ],
   "source": [
    "DS_pivot = df[df['platform'] == 'DS'].pivot_table(index='year_of_release', values ='sum_sales', aggfunc='sum').query('year_of_release != 1985')\n",
    "DS_pivot = DS_pivot.rename(columns={'sum_sales': 'sum_sales_DS'})\n",
    "print(DS_pivot)"
   ]
  },
  {
   "cell_type": "code",
   "execution_count": 26,
   "metadata": {},
   "outputs": [
    {
     "name": "stdout",
     "output_type": "stream",
     "text": [
      "                 sum_sales_PS3\n",
      "year_of_release               \n",
      "2006.0                   20.96\n",
      "2007.0                   73.19\n",
      "2008.0                  118.52\n",
      "2009.0                  130.93\n",
      "2010.0                  142.17\n",
      "2011.0                  156.78\n",
      "2012.0                  107.36\n",
      "2013.0                  113.25\n",
      "2014.0                   47.76\n",
      "2015.0                   16.82\n",
      "2016.0                    3.60\n"
     ]
    }
   ],
   "source": [
    "PS3_pivot = df[df['platform'] == 'PS3'].pivot_table(index='year_of_release', values ='sum_sales', aggfunc='sum')\n",
    "PS3_pivot = PS3_pivot.rename(columns={'sum_sales': 'sum_sales_PS3'})\n",
    "print(PS3_pivot)"
   ]
  },
  {
   "cell_type": "code",
   "execution_count": 27,
   "metadata": {},
   "outputs": [
    {
     "name": "stdout",
     "output_type": "stream",
     "text": [
      "                 sum_sales_Wii\n",
      "year_of_release               \n",
      "2006.0                  137.15\n",
      "2007.0                  152.77\n",
      "2008.0                  171.32\n",
      "2009.0                  206.97\n",
      "2010.0                  127.95\n",
      "2011.0                   59.65\n",
      "2012.0                   21.71\n",
      "2013.0                    8.59\n",
      "2014.0                    3.75\n",
      "2015.0                    1.14\n",
      "2016.0                    0.18\n"
     ]
    }
   ],
   "source": [
    "Wii_pivot = df[df['platform'] == 'Wii'].pivot_table(index='year_of_release', values ='sum_sales', aggfunc='sum')\n",
    "Wii_pivot = Wii_pivot.rename(columns={'sum_sales': 'sum_sales_Wii'})\n",
    "print(Wii_pivot)"
   ]
  },
  {
   "cell_type": "code",
   "execution_count": 28,
   "metadata": {},
   "outputs": [
    {
     "name": "stdout",
     "output_type": "stream",
     "text": [
      "                 sum_sales_X360\n",
      "year_of_release                \n",
      "2005.0                     8.25\n",
      "2006.0                    51.62\n",
      "2007.0                    95.41\n",
      "2008.0                   135.26\n",
      "2009.0                   120.29\n",
      "2010.0                   170.03\n",
      "2011.0                   143.84\n",
      "2012.0                    99.74\n",
      "2013.0                    88.58\n",
      "2014.0                    34.74\n",
      "2015.0                    11.96\n",
      "2016.0                     1.52\n"
     ]
    }
   ],
   "source": [
    "X360_pivot = df[df['platform'] == 'X360'].pivot_table(index='year_of_release', values ='sum_sales', aggfunc='sum')\n",
    "X360_pivot = X360_pivot.rename(columns={'sum_sales': 'sum_sales_X360'})\n",
    "print(X360_pivot)"
   ]
  },
  {
   "cell_type": "markdown",
   "metadata": {},
   "source": [
    "Оценим среднее время жизни платформы, как количество лет с продажами выше 1 млн. копий:"
   ]
  },
  {
   "cell_type": "code",
   "execution_count": 29,
   "metadata": {},
   "outputs": [
    {
     "name": "stdout",
     "output_type": "stream",
     "text": [
      "sum_sales_PS2    11\n",
      "dtype: int64\n",
      "sum_sales_DS    10\n",
      "dtype: int64\n",
      "sum_sales_PS3    11\n",
      "dtype: int64\n",
      "sum_sales_Wii    10\n",
      "dtype: int64\n",
      "sum_sales_X360    12\n",
      "dtype: int64\n"
     ]
    }
   ],
   "source": [
    "print(PS2_pivot.query('sum_sales_PS2 > 1').count())\n",
    "print(DS_pivot.query('sum_sales_DS > 1').count())\n",
    "print(PS3_pivot.query('sum_sales_PS3 > 1').count())\n",
    "print(Wii_pivot.query('sum_sales_Wii > 1').count())\n",
    "print(X360_pivot.query('sum_sales_X360 > 1').count())"
   ]
  },
  {
   "cell_type": "markdown",
   "metadata": {},
   "source": [
    "Видим, что средняя продолжительность жизни игрофой платформы составляет 10-12 лет."
   ]
  },
  {
   "cell_type": "markdown",
   "metadata": {},
   "source": [
    "Сравним объемы продаж для топ-5 платформ:"
   ]
  },
  {
   "cell_type": "code",
   "execution_count": 30,
   "metadata": {},
   "outputs": [
    {
     "data": {
      "text/plain": [
       "<Figure size 432x288 with 0 Axes>"
      ]
     },
     "metadata": {},
     "output_type": "display_data"
    },
    {
     "data": {
      "image/png": "[encoded data removed]",
      "text/plain": [
       "<Figure size 1080x360 with 1 Axes>"
      ]
     },
     "metadata": {},
     "output_type": "display_data"
    }
   ],
   "source": [
    "plt.figure()\n",
    "ax = PS2_pivot.plot(kind='line', figsize=(15, 5), title='Распределение объема продаж по годам на топ-5 платформ')\n",
    "DS_pivot.plot(ax=ax)\n",
    "PS3_pivot.plot(ax=ax)\n",
    "Wii_pivot.plot(ax=ax)\n",
    "X360_pivot.plot(ax=ax)\n",
    "plt.show;"
   ]
  },
  {
   "cell_type": "markdown",
   "metadata": {},
   "source": [
    "Выводы: выручка 2016 года популярных в прошлом платформы PS2 и Wii стремится к нулю. На примере этих платформ видно что период популярности платформ составляет порядка 10 - 12 лет, а период роста - половину от данного срока.\n",
    "\n",
    "Соответственно, для исключения значимых искажений данных по платформам анализируемым за 2016 год, можно рассматривать данные начиная с 2013 года - за последние 4 года. Исключим лишние данные, что позволит улучшить дальнейший прогноз:"
   ]
  },
  {
   "cell_type": "code",
   "execution_count": 31,
   "metadata": {},
   "outputs": [],
   "source": [
    "# создание датафрейма для актуального периода\n",
    "df1 = df[df['year_of_release'].astype(int) > 2012]"
   ]
  },
  {
   "cell_type": "code",
   "execution_count": 32,
   "metadata": {},
   "outputs": [
    {
     "data": {
      "text/html": [
       "<div>\n",
       "<style scoped>\n",
       "    .dataframe tbody tr th:only-of-type {\n",
       "        vertical-align: middle;\n",
       "    }\n",
       "\n",
       "    .dataframe tbody tr th {\n",
       "        vertical-align: top;\n",
       "    }\n",
       "\n",
       "    .dataframe thead th {\n",
       "        text-align: right;\n",
       "    }\n",
       "</style>\n",
       "<table border=\"1\" class=\"dataframe\">\n",
       "  <thead>\n",
       "    <tr style=\"text-align: right;\">\n",
       "      <th></th>\n",
       "      <th>name</th>\n",
       "      <th>platform</th>\n",
       "      <th>year_of_release</th>\n",
       "      <th>genre</th>\n",
       "      <th>na_sales</th>\n",
       "      <th>eu_sales</th>\n",
       "      <th>jp_sales</th>\n",
       "      <th>other_sales</th>\n",
       "      <th>critic_score</th>\n",
       "      <th>user_score</th>\n",
       "      <th>rating</th>\n",
       "      <th>sum_sales</th>\n",
       "    </tr>\n",
       "  </thead>\n",
       "  <tbody>\n",
       "    <tr>\n",
       "      <td>16</td>\n",
       "      <td>Grand Theft Auto V</td>\n",
       "      <td>PS3</td>\n",
       "      <td>2013</td>\n",
       "      <td>Action</td>\n",
       "      <td>7.02</td>\n",
       "      <td>9.09</td>\n",
       "      <td>0.98</td>\n",
       "      <td>3.96</td>\n",
       "      <td>97.0</td>\n",
       "      <td>8.2</td>\n",
       "      <td>M</td>\n",
       "      <td>21.05</td>\n",
       "    </tr>\n",
       "    <tr>\n",
       "      <td>23</td>\n",
       "      <td>Grand Theft Auto V</td>\n",
       "      <td>X360</td>\n",
       "      <td>2013</td>\n",
       "      <td>Action</td>\n",
       "      <td>9.66</td>\n",
       "      <td>5.14</td>\n",
       "      <td>0.06</td>\n",
       "      <td>1.41</td>\n",
       "      <td>97.0</td>\n",
       "      <td>8.1</td>\n",
       "      <td>M</td>\n",
       "      <td>16.27</td>\n",
       "    </tr>\n",
       "    <tr>\n",
       "      <td>31</td>\n",
       "      <td>Call of Duty: Black Ops 3</td>\n",
       "      <td>PS4</td>\n",
       "      <td>2015</td>\n",
       "      <td>Shooter</td>\n",
       "      <td>6.03</td>\n",
       "      <td>5.86</td>\n",
       "      <td>0.36</td>\n",
       "      <td>2.38</td>\n",
       "      <td>NaN</td>\n",
       "      <td>NaN</td>\n",
       "      <td>unknown</td>\n",
       "      <td>14.63</td>\n",
       "    </tr>\n",
       "    <tr>\n",
       "      <td>33</td>\n",
       "      <td>Pokemon X/Pokemon Y</td>\n",
       "      <td>3DS</td>\n",
       "      <td>2013</td>\n",
       "      <td>Role-Playing</td>\n",
       "      <td>5.28</td>\n",
       "      <td>4.19</td>\n",
       "      <td>4.35</td>\n",
       "      <td>0.78</td>\n",
       "      <td>NaN</td>\n",
       "      <td>NaN</td>\n",
       "      <td>unknown</td>\n",
       "      <td>14.60</td>\n",
       "    </tr>\n",
       "    <tr>\n",
       "      <td>42</td>\n",
       "      <td>Grand Theft Auto V</td>\n",
       "      <td>PS4</td>\n",
       "      <td>2014</td>\n",
       "      <td>Action</td>\n",
       "      <td>3.96</td>\n",
       "      <td>6.31</td>\n",
       "      <td>0.38</td>\n",
       "      <td>1.97</td>\n",
       "      <td>97.0</td>\n",
       "      <td>8.3</td>\n",
       "      <td>M</td>\n",
       "      <td>12.62</td>\n",
       "    </tr>\n",
       "    <tr>\n",
       "      <td>...</td>\n",
       "      <td>...</td>\n",
       "      <td>...</td>\n",
       "      <td>...</td>\n",
       "      <td>...</td>\n",
       "      <td>...</td>\n",
       "      <td>...</td>\n",
       "      <td>...</td>\n",
       "      <td>...</td>\n",
       "      <td>...</td>\n",
       "      <td>...</td>\n",
       "      <td>...</td>\n",
       "      <td>...</td>\n",
       "    </tr>\n",
       "    <tr>\n",
       "      <td>16703</td>\n",
       "      <td>Strawberry Nauts</td>\n",
       "      <td>PSV</td>\n",
       "      <td>2016</td>\n",
       "      <td>Adventure</td>\n",
       "      <td>0.00</td>\n",
       "      <td>0.00</td>\n",
       "      <td>0.01</td>\n",
       "      <td>0.00</td>\n",
       "      <td>NaN</td>\n",
       "      <td>NaN</td>\n",
       "      <td>unknown</td>\n",
       "      <td>0.01</td>\n",
       "    </tr>\n",
       "    <tr>\n",
       "      <td>16707</td>\n",
       "      <td>Aiyoku no Eustia</td>\n",
       "      <td>PSV</td>\n",
       "      <td>2014</td>\n",
       "      <td>Misc</td>\n",
       "      <td>0.00</td>\n",
       "      <td>0.00</td>\n",
       "      <td>0.01</td>\n",
       "      <td>0.00</td>\n",
       "      <td>NaN</td>\n",
       "      <td>NaN</td>\n",
       "      <td>unknown</td>\n",
       "      <td>0.01</td>\n",
       "    </tr>\n",
       "    <tr>\n",
       "      <td>16710</td>\n",
       "      <td>Samurai Warriors: Sanada Maru</td>\n",
       "      <td>PS3</td>\n",
       "      <td>2016</td>\n",
       "      <td>Action</td>\n",
       "      <td>0.00</td>\n",
       "      <td>0.00</td>\n",
       "      <td>0.01</td>\n",
       "      <td>0.00</td>\n",
       "      <td>NaN</td>\n",
       "      <td>NaN</td>\n",
       "      <td>unknown</td>\n",
       "      <td>0.01</td>\n",
       "    </tr>\n",
       "    <tr>\n",
       "      <td>16712</td>\n",
       "      <td>Haitaka no Psychedelica</td>\n",
       "      <td>PSV</td>\n",
       "      <td>2016</td>\n",
       "      <td>Adventure</td>\n",
       "      <td>0.00</td>\n",
       "      <td>0.00</td>\n",
       "      <td>0.01</td>\n",
       "      <td>0.00</td>\n",
       "      <td>NaN</td>\n",
       "      <td>NaN</td>\n",
       "      <td>unknown</td>\n",
       "      <td>0.01</td>\n",
       "    </tr>\n",
       "    <tr>\n",
       "      <td>16714</td>\n",
       "      <td>Winning Post 8 2016</td>\n",
       "      <td>PSV</td>\n",
       "      <td>2016</td>\n",
       "      <td>Simulation</td>\n",
       "      <td>0.00</td>\n",
       "      <td>0.00</td>\n",
       "      <td>0.01</td>\n",
       "      <td>0.00</td>\n",
       "      <td>NaN</td>\n",
       "      <td>NaN</td>\n",
       "      <td>unknown</td>\n",
       "      <td>0.01</td>\n",
       "    </tr>\n",
       "  </tbody>\n",
       "</table>\n",
       "<p>2233 rows × 12 columns</p>\n",
       "</div>"
      ],
      "text/plain": [
       "                                name platform year_of_release         genre  \\\n",
       "16                Grand Theft Auto V      PS3            2013        Action   \n",
       "23                Grand Theft Auto V     X360            2013        Action   \n",
       "31         Call of Duty: Black Ops 3      PS4            2015       Shooter   \n",
       "33               Pokemon X/Pokemon Y      3DS            2013  Role-Playing   \n",
       "42                Grand Theft Auto V      PS4            2014        Action   \n",
       "...                              ...      ...             ...           ...   \n",
       "16703               Strawberry Nauts      PSV            2016     Adventure   \n",
       "16707               Aiyoku no Eustia      PSV            2014          Misc   \n",
       "16710  Samurai Warriors: Sanada Maru      PS3            2016        Action   \n",
       "16712        Haitaka no Psychedelica      PSV            2016     Adventure   \n",
       "16714            Winning Post 8 2016      PSV            2016    Simulation   \n",
       "\n",
       "       na_sales  eu_sales  jp_sales  other_sales  critic_score  user_score  \\\n",
       "16         7.02      9.09      0.98         3.96          97.0         8.2   \n",
       "23         9.66      5.14      0.06         1.41          97.0         8.1   \n",
       "31         6.03      5.86      0.36         2.38           NaN         NaN   \n",
       "33         5.28      4.19      4.35         0.78           NaN         NaN   \n",
       "42         3.96      6.31      0.38         1.97          97.0         8.3   \n",
       "...         ...       ...       ...          ...           ...         ...   \n",
       "16703      0.00      0.00      0.01         0.00           NaN         NaN   \n",
       "16707      0.00      0.00      0.01         0.00           NaN         NaN   \n",
       "16710      0.00      0.00      0.01         0.00           NaN         NaN   \n",
       "16712      0.00      0.00      0.01         0.00           NaN         NaN   \n",
       "16714      0.00      0.00      0.01         0.00           NaN         NaN   \n",
       "\n",
       "        rating  sum_sales  \n",
       "16           M      21.05  \n",
       "23           M      16.27  \n",
       "31     unknown      14.63  \n",
       "33     unknown      14.60  \n",
       "42           M      12.62  \n",
       "...        ...        ...  \n",
       "16703  unknown       0.01  \n",
       "16707  unknown       0.01  \n",
       "16710  unknown       0.01  \n",
       "16712  unknown       0.01  \n",
       "16714  unknown       0.01  \n",
       "\n",
       "[2233 rows x 12 columns]"
      ]
     },
     "execution_count": 32,
     "metadata": {},
     "output_type": "execute_result"
    }
   ],
   "source": [
    "df1"
   ]
  },
  {
   "cell_type": "markdown",
   "metadata": {},
   "source": [
    "__Распределение количества игр по платформам за последние 4 года:__"
   ]
  },
  {
   "cell_type": "code",
   "execution_count": 33,
   "metadata": {},
   "outputs": [
    {
     "name": "stdout",
     "output_type": "stream",
     "text": [
      "platform\n",
      "PS4     392\n",
      "PSV     358\n",
      "PS3     345\n",
      "3DS     303\n",
      "XOne    247\n",
      "PC      189\n",
      "X360    186\n",
      "WiiU    115\n",
      "PSP      67\n",
      "Wii      23\n",
      "DS        8\n",
      "Name: name, dtype: int64\n"
     ]
    }
   ],
   "source": [
    "sell_platform_cnt = df1.groupby('platform')['name'].count()\n",
    "print(sell_platform_cnt.sort_values(ascending=False))"
   ]
  },
  {
   "cell_type": "markdown",
   "metadata": {},
   "source": [
    "Распределение продаж по платформам за последние 4 года:"
   ]
  },
  {
   "cell_type": "code",
   "execution_count": 34,
   "metadata": {},
   "outputs": [
    {
     "name": "stdout",
     "output_type": "stream",
     "text": [
      "platform\n",
      "PS4     314.14\n",
      "PS3     181.43\n",
      "XOne    159.32\n",
      "3DS     143.25\n",
      "X360    136.80\n",
      "WiiU     64.63\n",
      "PC       39.43\n",
      "PSV      32.99\n",
      "Wii      13.66\n",
      "PSP       3.50\n",
      "DS        1.54\n",
      "Name: sum_sales, dtype: float64\n"
     ]
    }
   ],
   "source": [
    "sell_platform_sum = df1.groupby('platform')['sum_sales'].sum()\n",
    "print(sell_platform_sum.sort_values(ascending=False))"
   ]
  },
  {
   "cell_type": "markdown",
   "metadata": {},
   "source": [
    "Динамика продаж по платформ:"
   ]
  },
  {
   "cell_type": "code",
   "execution_count": 35,
   "metadata": {},
   "outputs": [
    {
     "name": "stdout",
     "output_type": "stream",
     "text": [
      "Продажи игр на платформе PS3 :\n"
     ]
    },
    {
     "data": {
      "text/html": [
       "<div>\n",
       "<style scoped>\n",
       "    .dataframe tbody tr th:only-of-type {\n",
       "        vertical-align: middle;\n",
       "    }\n",
       "\n",
       "    .dataframe tbody tr th {\n",
       "        vertical-align: top;\n",
       "    }\n",
       "\n",
       "    .dataframe thead th {\n",
       "        text-align: right;\n",
       "    }\n",
       "</style>\n",
       "<table border=\"1\" class=\"dataframe\">\n",
       "  <thead>\n",
       "    <tr style=\"text-align: right;\">\n",
       "      <th></th>\n",
       "      <th>sum_sales</th>\n",
       "    </tr>\n",
       "    <tr>\n",
       "      <th>year_of_release</th>\n",
       "      <th></th>\n",
       "    </tr>\n",
       "  </thead>\n",
       "  <tbody>\n",
       "    <tr>\n",
       "      <td>2013.0</td>\n",
       "      <td>113.25</td>\n",
       "    </tr>\n",
       "    <tr>\n",
       "      <td>2014.0</td>\n",
       "      <td>47.76</td>\n",
       "    </tr>\n",
       "    <tr>\n",
       "      <td>2015.0</td>\n",
       "      <td>16.82</td>\n",
       "    </tr>\n",
       "    <tr>\n",
       "      <td>2016.0</td>\n",
       "      <td>3.60</td>\n",
       "    </tr>\n",
       "  </tbody>\n",
       "</table>\n",
       "</div>"
      ],
      "text/plain": [
       "                 sum_sales\n",
       "year_of_release           \n",
       "2013.0              113.25\n",
       "2014.0               47.76\n",
       "2015.0               16.82\n",
       "2016.0                3.60"
      ]
     },
     "metadata": {},
     "output_type": "display_data"
    },
    {
     "name": "stdout",
     "output_type": "stream",
     "text": [
      "Продажи игр на платформе X360 :\n"
     ]
    },
    {
     "data": {
      "text/html": [
       "<div>\n",
       "<style scoped>\n",
       "    .dataframe tbody tr th:only-of-type {\n",
       "        vertical-align: middle;\n",
       "    }\n",
       "\n",
       "    .dataframe tbody tr th {\n",
       "        vertical-align: top;\n",
       "    }\n",
       "\n",
       "    .dataframe thead th {\n",
       "        text-align: right;\n",
       "    }\n",
       "</style>\n",
       "<table border=\"1\" class=\"dataframe\">\n",
       "  <thead>\n",
       "    <tr style=\"text-align: right;\">\n",
       "      <th></th>\n",
       "      <th>sum_sales</th>\n",
       "    </tr>\n",
       "    <tr>\n",
       "      <th>year_of_release</th>\n",
       "      <th></th>\n",
       "    </tr>\n",
       "  </thead>\n",
       "  <tbody>\n",
       "    <tr>\n",
       "      <td>2013.0</td>\n",
       "      <td>88.58</td>\n",
       "    </tr>\n",
       "    <tr>\n",
       "      <td>2014.0</td>\n",
       "      <td>34.74</td>\n",
       "    </tr>\n",
       "    <tr>\n",
       "      <td>2015.0</td>\n",
       "      <td>11.96</td>\n",
       "    </tr>\n",
       "    <tr>\n",
       "      <td>2016.0</td>\n",
       "      <td>1.52</td>\n",
       "    </tr>\n",
       "  </tbody>\n",
       "</table>\n",
       "</div>"
      ],
      "text/plain": [
       "                 sum_sales\n",
       "year_of_release           \n",
       "2013.0               88.58\n",
       "2014.0               34.74\n",
       "2015.0               11.96\n",
       "2016.0                1.52"
      ]
     },
     "metadata": {},
     "output_type": "display_data"
    },
    {
     "name": "stdout",
     "output_type": "stream",
     "text": [
      "Продажи игр на платформе PS4 :\n"
     ]
    },
    {
     "data": {
      "text/html": [
       "<div>\n",
       "<style scoped>\n",
       "    .dataframe tbody tr th:only-of-type {\n",
       "        vertical-align: middle;\n",
       "    }\n",
       "\n",
       "    .dataframe tbody tr th {\n",
       "        vertical-align: top;\n",
       "    }\n",
       "\n",
       "    .dataframe thead th {\n",
       "        text-align: right;\n",
       "    }\n",
       "</style>\n",
       "<table border=\"1\" class=\"dataframe\">\n",
       "  <thead>\n",
       "    <tr style=\"text-align: right;\">\n",
       "      <th></th>\n",
       "      <th>sum_sales</th>\n",
       "    </tr>\n",
       "    <tr>\n",
       "      <th>year_of_release</th>\n",
       "      <th></th>\n",
       "    </tr>\n",
       "  </thead>\n",
       "  <tbody>\n",
       "    <tr>\n",
       "      <td>2013.0</td>\n",
       "      <td>25.99</td>\n",
       "    </tr>\n",
       "    <tr>\n",
       "      <td>2014.0</td>\n",
       "      <td>100.00</td>\n",
       "    </tr>\n",
       "    <tr>\n",
       "      <td>2015.0</td>\n",
       "      <td>118.90</td>\n",
       "    </tr>\n",
       "    <tr>\n",
       "      <td>2016.0</td>\n",
       "      <td>69.25</td>\n",
       "    </tr>\n",
       "  </tbody>\n",
       "</table>\n",
       "</div>"
      ],
      "text/plain": [
       "                 sum_sales\n",
       "year_of_release           \n",
       "2013.0               25.99\n",
       "2014.0              100.00\n",
       "2015.0              118.90\n",
       "2016.0               69.25"
      ]
     },
     "metadata": {},
     "output_type": "display_data"
    },
    {
     "name": "stdout",
     "output_type": "stream",
     "text": [
      "Продажи игр на платформе 3DS :\n"
     ]
    },
    {
     "data": {
      "text/html": [
       "<div>\n",
       "<style scoped>\n",
       "    .dataframe tbody tr th:only-of-type {\n",
       "        vertical-align: middle;\n",
       "    }\n",
       "\n",
       "    .dataframe tbody tr th {\n",
       "        vertical-align: top;\n",
       "    }\n",
       "\n",
       "    .dataframe thead th {\n",
       "        text-align: right;\n",
       "    }\n",
       "</style>\n",
       "<table border=\"1\" class=\"dataframe\">\n",
       "  <thead>\n",
       "    <tr style=\"text-align: right;\">\n",
       "      <th></th>\n",
       "      <th>sum_sales</th>\n",
       "    </tr>\n",
       "    <tr>\n",
       "      <th>year_of_release</th>\n",
       "      <th></th>\n",
       "    </tr>\n",
       "  </thead>\n",
       "  <tbody>\n",
       "    <tr>\n",
       "      <td>2013.0</td>\n",
       "      <td>56.57</td>\n",
       "    </tr>\n",
       "    <tr>\n",
       "      <td>2014.0</td>\n",
       "      <td>43.76</td>\n",
       "    </tr>\n",
       "    <tr>\n",
       "      <td>2015.0</td>\n",
       "      <td>27.78</td>\n",
       "    </tr>\n",
       "    <tr>\n",
       "      <td>2016.0</td>\n",
       "      <td>15.14</td>\n",
       "    </tr>\n",
       "  </tbody>\n",
       "</table>\n",
       "</div>"
      ],
      "text/plain": [
       "                 sum_sales\n",
       "year_of_release           \n",
       "2013.0               56.57\n",
       "2014.0               43.76\n",
       "2015.0               27.78\n",
       "2016.0               15.14"
      ]
     },
     "metadata": {},
     "output_type": "display_data"
    },
    {
     "name": "stdout",
     "output_type": "stream",
     "text": [
      "Продажи игр на платформе XOne :\n"
     ]
    },
    {
     "data": {
      "text/html": [
       "<div>\n",
       "<style scoped>\n",
       "    .dataframe tbody tr th:only-of-type {\n",
       "        vertical-align: middle;\n",
       "    }\n",
       "\n",
       "    .dataframe tbody tr th {\n",
       "        vertical-align: top;\n",
       "    }\n",
       "\n",
       "    .dataframe thead th {\n",
       "        text-align: right;\n",
       "    }\n",
       "</style>\n",
       "<table border=\"1\" class=\"dataframe\">\n",
       "  <thead>\n",
       "    <tr style=\"text-align: right;\">\n",
       "      <th></th>\n",
       "      <th>sum_sales</th>\n",
       "    </tr>\n",
       "    <tr>\n",
       "      <th>year_of_release</th>\n",
       "      <th></th>\n",
       "    </tr>\n",
       "  </thead>\n",
       "  <tbody>\n",
       "    <tr>\n",
       "      <td>2013.0</td>\n",
       "      <td>18.96</td>\n",
       "    </tr>\n",
       "    <tr>\n",
       "      <td>2014.0</td>\n",
       "      <td>54.07</td>\n",
       "    </tr>\n",
       "    <tr>\n",
       "      <td>2015.0</td>\n",
       "      <td>60.14</td>\n",
       "    </tr>\n",
       "    <tr>\n",
       "      <td>2016.0</td>\n",
       "      <td>26.15</td>\n",
       "    </tr>\n",
       "  </tbody>\n",
       "</table>\n",
       "</div>"
      ],
      "text/plain": [
       "                 sum_sales\n",
       "year_of_release           \n",
       "2013.0               18.96\n",
       "2014.0               54.07\n",
       "2015.0               60.14\n",
       "2016.0               26.15"
      ]
     },
     "metadata": {},
     "output_type": "display_data"
    },
    {
     "name": "stdout",
     "output_type": "stream",
     "text": [
      "Продажи игр на платформе WiiU :\n"
     ]
    },
    {
     "data": {
      "text/html": [
       "<div>\n",
       "<style scoped>\n",
       "    .dataframe tbody tr th:only-of-type {\n",
       "        vertical-align: middle;\n",
       "    }\n",
       "\n",
       "    .dataframe tbody tr th {\n",
       "        vertical-align: top;\n",
       "    }\n",
       "\n",
       "    .dataframe thead th {\n",
       "        text-align: right;\n",
       "    }\n",
       "</style>\n",
       "<table border=\"1\" class=\"dataframe\">\n",
       "  <thead>\n",
       "    <tr style=\"text-align: right;\">\n",
       "      <th></th>\n",
       "      <th>sum_sales</th>\n",
       "    </tr>\n",
       "    <tr>\n",
       "      <th>year_of_release</th>\n",
       "      <th></th>\n",
       "    </tr>\n",
       "  </thead>\n",
       "  <tbody>\n",
       "    <tr>\n",
       "      <td>2013.0</td>\n",
       "      <td>21.65</td>\n",
       "    </tr>\n",
       "    <tr>\n",
       "      <td>2014.0</td>\n",
       "      <td>22.03</td>\n",
       "    </tr>\n",
       "    <tr>\n",
       "      <td>2015.0</td>\n",
       "      <td>16.35</td>\n",
       "    </tr>\n",
       "    <tr>\n",
       "      <td>2016.0</td>\n",
       "      <td>4.60</td>\n",
       "    </tr>\n",
       "  </tbody>\n",
       "</table>\n",
       "</div>"
      ],
      "text/plain": [
       "                 sum_sales\n",
       "year_of_release           \n",
       "2013.0               21.65\n",
       "2014.0               22.03\n",
       "2015.0               16.35\n",
       "2016.0                4.60"
      ]
     },
     "metadata": {},
     "output_type": "display_data"
    },
    {
     "name": "stdout",
     "output_type": "stream",
     "text": [
      "Продажи игр на платформе Wii :\n"
     ]
    },
    {
     "data": {
      "text/html": [
       "<div>\n",
       "<style scoped>\n",
       "    .dataframe tbody tr th:only-of-type {\n",
       "        vertical-align: middle;\n",
       "    }\n",
       "\n",
       "    .dataframe tbody tr th {\n",
       "        vertical-align: top;\n",
       "    }\n",
       "\n",
       "    .dataframe thead th {\n",
       "        text-align: right;\n",
       "    }\n",
       "</style>\n",
       "<table border=\"1\" class=\"dataframe\">\n",
       "  <thead>\n",
       "    <tr style=\"text-align: right;\">\n",
       "      <th></th>\n",
       "      <th>sum_sales</th>\n",
       "    </tr>\n",
       "    <tr>\n",
       "      <th>year_of_release</th>\n",
       "      <th></th>\n",
       "    </tr>\n",
       "  </thead>\n",
       "  <tbody>\n",
       "    <tr>\n",
       "      <td>2013.0</td>\n",
       "      <td>8.59</td>\n",
       "    </tr>\n",
       "    <tr>\n",
       "      <td>2014.0</td>\n",
       "      <td>3.75</td>\n",
       "    </tr>\n",
       "    <tr>\n",
       "      <td>2015.0</td>\n",
       "      <td>1.14</td>\n",
       "    </tr>\n",
       "    <tr>\n",
       "      <td>2016.0</td>\n",
       "      <td>0.18</td>\n",
       "    </tr>\n",
       "  </tbody>\n",
       "</table>\n",
       "</div>"
      ],
      "text/plain": [
       "                 sum_sales\n",
       "year_of_release           \n",
       "2013.0                8.59\n",
       "2014.0                3.75\n",
       "2015.0                1.14\n",
       "2016.0                0.18"
      ]
     },
     "metadata": {},
     "output_type": "display_data"
    },
    {
     "name": "stdout",
     "output_type": "stream",
     "text": [
      "Продажи игр на платформе PC :\n"
     ]
    },
    {
     "data": {
      "text/html": [
       "<div>\n",
       "<style scoped>\n",
       "    .dataframe tbody tr th:only-of-type {\n",
       "        vertical-align: middle;\n",
       "    }\n",
       "\n",
       "    .dataframe tbody tr th {\n",
       "        vertical-align: top;\n",
       "    }\n",
       "\n",
       "    .dataframe thead th {\n",
       "        text-align: right;\n",
       "    }\n",
       "</style>\n",
       "<table border=\"1\" class=\"dataframe\">\n",
       "  <thead>\n",
       "    <tr style=\"text-align: right;\">\n",
       "      <th></th>\n",
       "      <th>sum_sales</th>\n",
       "    </tr>\n",
       "    <tr>\n",
       "      <th>year_of_release</th>\n",
       "      <th></th>\n",
       "    </tr>\n",
       "  </thead>\n",
       "  <tbody>\n",
       "    <tr>\n",
       "      <td>2013.0</td>\n",
       "      <td>12.38</td>\n",
       "    </tr>\n",
       "    <tr>\n",
       "      <td>2014.0</td>\n",
       "      <td>13.28</td>\n",
       "    </tr>\n",
       "    <tr>\n",
       "      <td>2015.0</td>\n",
       "      <td>8.52</td>\n",
       "    </tr>\n",
       "    <tr>\n",
       "      <td>2016.0</td>\n",
       "      <td>5.25</td>\n",
       "    </tr>\n",
       "  </tbody>\n",
       "</table>\n",
       "</div>"
      ],
      "text/plain": [
       "                 sum_sales\n",
       "year_of_release           \n",
       "2013.0               12.38\n",
       "2014.0               13.28\n",
       "2015.0                8.52\n",
       "2016.0                5.25"
      ]
     },
     "metadata": {},
     "output_type": "display_data"
    },
    {
     "name": "stdout",
     "output_type": "stream",
     "text": [
      "Продажи игр на платформе PSV :\n"
     ]
    },
    {
     "data": {
      "text/html": [
       "<div>\n",
       "<style scoped>\n",
       "    .dataframe tbody tr th:only-of-type {\n",
       "        vertical-align: middle;\n",
       "    }\n",
       "\n",
       "    .dataframe tbody tr th {\n",
       "        vertical-align: top;\n",
       "    }\n",
       "\n",
       "    .dataframe thead th {\n",
       "        text-align: right;\n",
       "    }\n",
       "</style>\n",
       "<table border=\"1\" class=\"dataframe\">\n",
       "  <thead>\n",
       "    <tr style=\"text-align: right;\">\n",
       "      <th></th>\n",
       "      <th>sum_sales</th>\n",
       "    </tr>\n",
       "    <tr>\n",
       "      <th>year_of_release</th>\n",
       "      <th></th>\n",
       "    </tr>\n",
       "  </thead>\n",
       "  <tbody>\n",
       "    <tr>\n",
       "      <td>2013.0</td>\n",
       "      <td>10.59</td>\n",
       "    </tr>\n",
       "    <tr>\n",
       "      <td>2014.0</td>\n",
       "      <td>11.90</td>\n",
       "    </tr>\n",
       "    <tr>\n",
       "      <td>2015.0</td>\n",
       "      <td>6.25</td>\n",
       "    </tr>\n",
       "    <tr>\n",
       "      <td>2016.0</td>\n",
       "      <td>4.25</td>\n",
       "    </tr>\n",
       "  </tbody>\n",
       "</table>\n",
       "</div>"
      ],
      "text/plain": [
       "                 sum_sales\n",
       "year_of_release           \n",
       "2013.0               10.59\n",
       "2014.0               11.90\n",
       "2015.0                6.25\n",
       "2016.0                4.25"
      ]
     },
     "metadata": {},
     "output_type": "display_data"
    },
    {
     "name": "stdout",
     "output_type": "stream",
     "text": [
      "Продажи игр на платформе DS :\n"
     ]
    },
    {
     "data": {
      "text/html": [
       "<div>\n",
       "<style scoped>\n",
       "    .dataframe tbody tr th:only-of-type {\n",
       "        vertical-align: middle;\n",
       "    }\n",
       "\n",
       "    .dataframe tbody tr th {\n",
       "        vertical-align: top;\n",
       "    }\n",
       "\n",
       "    .dataframe thead th {\n",
       "        text-align: right;\n",
       "    }\n",
       "</style>\n",
       "<table border=\"1\" class=\"dataframe\">\n",
       "  <thead>\n",
       "    <tr style=\"text-align: right;\">\n",
       "      <th></th>\n",
       "      <th>sum_sales</th>\n",
       "    </tr>\n",
       "    <tr>\n",
       "      <th>year_of_release</th>\n",
       "      <th></th>\n",
       "    </tr>\n",
       "  </thead>\n",
       "  <tbody>\n",
       "    <tr>\n",
       "      <td>2013.0</td>\n",
       "      <td>1.54</td>\n",
       "    </tr>\n",
       "  </tbody>\n",
       "</table>\n",
       "</div>"
      ],
      "text/plain": [
       "                 sum_sales\n",
       "year_of_release           \n",
       "2013.0                1.54"
      ]
     },
     "metadata": {},
     "output_type": "display_data"
    },
    {
     "name": "stdout",
     "output_type": "stream",
     "text": [
      "Продажи игр на платформе PSP :\n"
     ]
    },
    {
     "data": {
      "text/html": [
       "<div>\n",
       "<style scoped>\n",
       "    .dataframe tbody tr th:only-of-type {\n",
       "        vertical-align: middle;\n",
       "    }\n",
       "\n",
       "    .dataframe tbody tr th {\n",
       "        vertical-align: top;\n",
       "    }\n",
       "\n",
       "    .dataframe thead th {\n",
       "        text-align: right;\n",
       "    }\n",
       "</style>\n",
       "<table border=\"1\" class=\"dataframe\">\n",
       "  <thead>\n",
       "    <tr style=\"text-align: right;\">\n",
       "      <th></th>\n",
       "      <th>sum_sales</th>\n",
       "    </tr>\n",
       "    <tr>\n",
       "      <th>year_of_release</th>\n",
       "      <th></th>\n",
       "    </tr>\n",
       "  </thead>\n",
       "  <tbody>\n",
       "    <tr>\n",
       "      <td>2013.0</td>\n",
       "      <td>3.14</td>\n",
       "    </tr>\n",
       "    <tr>\n",
       "      <td>2014.0</td>\n",
       "      <td>0.24</td>\n",
       "    </tr>\n",
       "    <tr>\n",
       "      <td>2015.0</td>\n",
       "      <td>0.12</td>\n",
       "    </tr>\n",
       "  </tbody>\n",
       "</table>\n",
       "</div>"
      ],
      "text/plain": [
       "                 sum_sales\n",
       "year_of_release           \n",
       "2013.0                3.14\n",
       "2014.0                0.24\n",
       "2015.0                0.12"
      ]
     },
     "metadata": {},
     "output_type": "display_data"
    }
   ],
   "source": [
    "for platform in df1['platform'].unique():\n",
    "    print('Продажи игр на платформе', platform, ':')\n",
    "    display(df1[df1['platform'] == platform].pivot_table(index='year_of_release', values ='sum_sales', aggfunc='sum'))"
   ]
  },
  {
   "cell_type": "code",
   "execution_count": 36,
   "metadata": {},
   "outputs": [
    {
     "data": {
      "image/png": "[encoded data removed]",
      "text/plain": [
       "<Figure size 518.975x432 with 1 Axes>"
      ]
     },
     "metadata": {},
     "output_type": "display_data"
    }
   ],
   "source": [
    "sns.relplot(\n",
    "    data=df1,\n",
    "    kind=\"line\",\n",
    "    y='sum_sales',\n",
    "    x='year_of_release',\n",
    "    hue='platform',\n",
    "    height=6,\n",
    "    ci=None);\n",
    "plt.title('Динамика продаж по платформам');"
   ]
  },
  {
   "cell_type": "markdown",
   "metadata": {},
   "source": [
    "Выводы: суммарные продажи платформ по годам имеют отрицательную динамику, максимальный объем проодаж в 2016 году у платформ PS4 и XOne - они имеют наибольший потенциал продаж."
   ]
  },
  {
   "cell_type": "markdown",
   "metadata": {},
   "source": [
    "Глобальные продажи каждой игры с разбивкой по платформам:"
   ]
  },
  {
   "cell_type": "code",
   "execution_count": 37,
   "metadata": {},
   "outputs": [
    {
     "data": {
      "image/png": "[encoded data removed]",
      "text/plain": [
       "<Figure size 864x432 with 1 Axes>"
      ]
     },
     "metadata": {},
     "output_type": "display_data"
    }
   ],
   "source": [
    "g = sns.catplot(y=\"platform\", x=\"sum_sales\", kind='box',data=df1, height=6, aspect=2);\n",
    "g.set(xlim=(0, 2))\n",
    "plt.title('Глобальные продажи каждой игры с разбивкой по платформам');"
   ]
  },
  {
   "cell_type": "markdown",
   "metadata": {},
   "source": [
    "Видим, что при сравнительно небольшой медиане игр на платформе (до 0.25), диаппазон разброса цен существенен, присутствует большое количество выбросов от наиболее успешных игр. Разные платформы работают в разных стратегиях продаж, например на платформах DS и PSP успешность игр различается меньше, чем на других платформах где присутствует большое количество суперуспешних игр. "
   ]
  },
  {
   "cell_type": "markdown",
   "metadata": {},
   "source": [
    "Средние продажи по платформам:"
   ]
  },
  {
   "cell_type": "code",
   "execution_count": 38,
   "metadata": {},
   "outputs": [
    {
     "data": {
      "text/html": [
       "<div>\n",
       "<style scoped>\n",
       "    .dataframe tbody tr th:only-of-type {\n",
       "        vertical-align: middle;\n",
       "    }\n",
       "\n",
       "    .dataframe tbody tr th {\n",
       "        vertical-align: top;\n",
       "    }\n",
       "\n",
       "    .dataframe thead th {\n",
       "        text-align: right;\n",
       "    }\n",
       "</style>\n",
       "<table border=\"1\" class=\"dataframe\">\n",
       "  <thead>\n",
       "    <tr style=\"text-align: right;\">\n",
       "      <th></th>\n",
       "      <th>sum_sales</th>\n",
       "    </tr>\n",
       "    <tr>\n",
       "      <th>platform</th>\n",
       "      <th></th>\n",
       "    </tr>\n",
       "  </thead>\n",
       "  <tbody>\n",
       "    <tr>\n",
       "      <td>PS4</td>\n",
       "      <td>0.801378</td>\n",
       "    </tr>\n",
       "    <tr>\n",
       "      <td>X360</td>\n",
       "      <td>0.735484</td>\n",
       "    </tr>\n",
       "    <tr>\n",
       "      <td>XOne</td>\n",
       "      <td>0.645020</td>\n",
       "    </tr>\n",
       "    <tr>\n",
       "      <td>Wii</td>\n",
       "      <td>0.593913</td>\n",
       "    </tr>\n",
       "    <tr>\n",
       "      <td>WiiU</td>\n",
       "      <td>0.562000</td>\n",
       "    </tr>\n",
       "    <tr>\n",
       "      <td>PS3</td>\n",
       "      <td>0.525884</td>\n",
       "    </tr>\n",
       "    <tr>\n",
       "      <td>3DS</td>\n",
       "      <td>0.472772</td>\n",
       "    </tr>\n",
       "    <tr>\n",
       "      <td>PC</td>\n",
       "      <td>0.208624</td>\n",
       "    </tr>\n",
       "    <tr>\n",
       "      <td>DS</td>\n",
       "      <td>0.192500</td>\n",
       "    </tr>\n",
       "    <tr>\n",
       "      <td>PSV</td>\n",
       "      <td>0.092151</td>\n",
       "    </tr>\n",
       "    <tr>\n",
       "      <td>PSP</td>\n",
       "      <td>0.052239</td>\n",
       "    </tr>\n",
       "  </tbody>\n",
       "</table>\n",
       "</div>"
      ],
      "text/plain": [
       "          sum_sales\n",
       "platform           \n",
       "PS4        0.801378\n",
       "X360       0.735484\n",
       "XOne       0.645020\n",
       "Wii        0.593913\n",
       "WiiU       0.562000\n",
       "PS3        0.525884\n",
       "3DS        0.472772\n",
       "PC         0.208624\n",
       "DS         0.192500\n",
       "PSV        0.092151\n",
       "PSP        0.052239"
      ]
     },
     "execution_count": 38,
     "metadata": {},
     "output_type": "execute_result"
    }
   ],
   "source": [
    "df_pivot = df1.pivot_table(index='platform', values ='sum_sales', aggfunc='mean')\n",
    "df_pivot.sort_values(('sum_sales'), ascending=False)"
   ]
  },
  {
   "cell_type": "markdown",
   "metadata": {},
   "source": [
    "Выберем популярную платформу \"PS4\" для анализа зависимости продаж от отзывов пользователей и критиков."
   ]
  },
  {
   "cell_type": "code",
   "execution_count": 39,
   "metadata": {},
   "outputs": [
    {
     "data": {
      "text/html": [
       "<div>\n",
       "<style scoped>\n",
       "    .dataframe tbody tr th:only-of-type {\n",
       "        vertical-align: middle;\n",
       "    }\n",
       "\n",
       "    .dataframe tbody tr th {\n",
       "        vertical-align: top;\n",
       "    }\n",
       "\n",
       "    .dataframe thead th {\n",
       "        text-align: right;\n",
       "    }\n",
       "</style>\n",
       "<table border=\"1\" class=\"dataframe\">\n",
       "  <thead>\n",
       "    <tr style=\"text-align: right;\">\n",
       "      <th></th>\n",
       "      <th>na_sales</th>\n",
       "      <th>eu_sales</th>\n",
       "      <th>jp_sales</th>\n",
       "      <th>other_sales</th>\n",
       "      <th>critic_score</th>\n",
       "      <th>user_score</th>\n",
       "      <th>sum_sales</th>\n",
       "    </tr>\n",
       "  </thead>\n",
       "  <tbody>\n",
       "    <tr>\n",
       "      <td>count</td>\n",
       "      <td>392.000000</td>\n",
       "      <td>392.000000</td>\n",
       "      <td>392.000000</td>\n",
       "      <td>392.000000</td>\n",
       "      <td>252.000000</td>\n",
       "      <td>257.000000</td>\n",
       "      <td>392.000000</td>\n",
       "    </tr>\n",
       "    <tr>\n",
       "      <td>mean</td>\n",
       "      <td>0.277398</td>\n",
       "      <td>0.359923</td>\n",
       "      <td>0.040714</td>\n",
       "      <td>0.123342</td>\n",
       "      <td>72.091270</td>\n",
       "      <td>6.748249</td>\n",
       "      <td>0.801378</td>\n",
       "    </tr>\n",
       "    <tr>\n",
       "      <td>std</td>\n",
       "      <td>0.583723</td>\n",
       "      <td>0.810843</td>\n",
       "      <td>0.069101</td>\n",
       "      <td>0.254825</td>\n",
       "      <td>12.485992</td>\n",
       "      <td>1.459481</td>\n",
       "      <td>1.609456</td>\n",
       "    </tr>\n",
       "    <tr>\n",
       "      <td>min</td>\n",
       "      <td>0.000000</td>\n",
       "      <td>0.000000</td>\n",
       "      <td>0.000000</td>\n",
       "      <td>0.000000</td>\n",
       "      <td>19.000000</td>\n",
       "      <td>1.500000</td>\n",
       "      <td>0.010000</td>\n",
       "    </tr>\n",
       "    <tr>\n",
       "      <td>25%</td>\n",
       "      <td>0.007500</td>\n",
       "      <td>0.000000</td>\n",
       "      <td>0.000000</td>\n",
       "      <td>0.010000</td>\n",
       "      <td>66.000000</td>\n",
       "      <td>6.100000</td>\n",
       "      <td>0.060000</td>\n",
       "    </tr>\n",
       "    <tr>\n",
       "      <td>50%</td>\n",
       "      <td>0.060000</td>\n",
       "      <td>0.080000</td>\n",
       "      <td>0.010000</td>\n",
       "      <td>0.030000</td>\n",
       "      <td>73.000000</td>\n",
       "      <td>7.000000</td>\n",
       "      <td>0.200000</td>\n",
       "    </tr>\n",
       "    <tr>\n",
       "      <td>75%</td>\n",
       "      <td>0.260000</td>\n",
       "      <td>0.300000</td>\n",
       "      <td>0.050000</td>\n",
       "      <td>0.110000</td>\n",
       "      <td>80.000000</td>\n",
       "      <td>7.800000</td>\n",
       "      <td>0.730000</td>\n",
       "    </tr>\n",
       "    <tr>\n",
       "      <td>max</td>\n",
       "      <td>6.030000</td>\n",
       "      <td>6.310000</td>\n",
       "      <td>0.490000</td>\n",
       "      <td>2.380000</td>\n",
       "      <td>97.000000</td>\n",
       "      <td>9.200000</td>\n",
       "      <td>14.630000</td>\n",
       "    </tr>\n",
       "  </tbody>\n",
       "</table>\n",
       "</div>"
      ],
      "text/plain": [
       "         na_sales    eu_sales    jp_sales  other_sales  critic_score  \\\n",
       "count  392.000000  392.000000  392.000000   392.000000    252.000000   \n",
       "mean     0.277398    0.359923    0.040714     0.123342     72.091270   \n",
       "std      0.583723    0.810843    0.069101     0.254825     12.485992   \n",
       "min      0.000000    0.000000    0.000000     0.000000     19.000000   \n",
       "25%      0.007500    0.000000    0.000000     0.010000     66.000000   \n",
       "50%      0.060000    0.080000    0.010000     0.030000     73.000000   \n",
       "75%      0.260000    0.300000    0.050000     0.110000     80.000000   \n",
       "max      6.030000    6.310000    0.490000     2.380000     97.000000   \n",
       "\n",
       "       user_score   sum_sales  \n",
       "count  257.000000  392.000000  \n",
       "mean     6.748249    0.801378  \n",
       "std      1.459481    1.609456  \n",
       "min      1.500000    0.010000  \n",
       "25%      6.100000    0.060000  \n",
       "50%      7.000000    0.200000  \n",
       "75%      7.800000    0.730000  \n",
       "max      9.200000   14.630000  "
      ]
     },
     "execution_count": 39,
     "metadata": {},
     "output_type": "execute_result"
    }
   ],
   "source": [
    "df_score = df1.query('platform == \"PS4\"')\n",
    "df_score.describe()"
   ]
  },
  {
   "cell_type": "markdown",
   "metadata": {},
   "source": [
    "При построении графика учтем средний объем продаж игр 0,79 и стандартное отклонение 1,6 для охвата 99% продаж. Посмотрим корреляцию объма продаж с отзывами критиков:"
   ]
  },
  {
   "cell_type": "code",
   "execution_count": 40,
   "metadata": {},
   "outputs": [
    {
     "name": "stderr",
     "output_type": "stream",
     "text": [
      "'c' argument looks like a single numeric RGB or RGBA sequence, which should be avoided as value-mapping will have precedence in case its length matches with 'x' & 'y'.  Please use a 2-D array with a single row if you really want to specify the same RGB or RGBA value for all points.\n"
     ]
    },
    {
     "name": "stdout",
     "output_type": "stream",
     "text": [
      "Коэффициент корреляции Пирсорна для отзывов критиков и продаж платформы PS4 = 0.41\n"
     ]
    },
    {
     "data": {
      "image/png": "[encoded data removed]",
      "text/plain": [
       "<Figure size 864x432 with 1 Axes>"
      ]
     },
     "metadata": {},
     "output_type": "display_data"
    }
   ],
   "source": [
    "df_score.plot(x='critic_score', y='sum_sales', figsize=(12, 6), kind='scatter', grid=True, ylim=(0,6))\n",
    "print('Коэффициент корреляции Пирсорна для отзывов критиков и продаж платформы PS4 = {:.2f}'.format(df_score['critic_score'].corr(df['sum_sales'])));"
   ]
  },
  {
   "cell_type": "markdown",
   "metadata": {},
   "source": [
    "Также посмотрим корреляцию объма продаж с отзывами пользователей:"
   ]
  },
  {
   "cell_type": "code",
   "execution_count": 41,
   "metadata": {},
   "outputs": [
    {
     "name": "stderr",
     "output_type": "stream",
     "text": [
      "'c' argument looks like a single numeric RGB or RGBA sequence, which should be avoided as value-mapping will have precedence in case its length matches with 'x' & 'y'.  Please use a 2-D array with a single row if you really want to specify the same RGB or RGBA value for all points.\n"
     ]
    },
    {
     "name": "stdout",
     "output_type": "stream",
     "text": [
      "Коэффициент корреляции Пирсона для отзывов пользователей и продаж платформы PS4 = -0.03\n"
     ]
    },
    {
     "data": {
      "image/png": "[encoded data removed]",
      "text/plain": [
       "<Figure size 864x432 with 1 Axes>"
      ]
     },
     "metadata": {},
     "output_type": "display_data"
    }
   ],
   "source": [
    "df_score.plot(x='user_score', y='sum_sales', figsize=(12, 6), kind='scatter', grid=True, ylim=(0,6));\n",
    "print('Коэффициент корреляции Пирсона для отзывов пользователей и продаж платформы PS4 = {:.2f}'.format(df_score['user_score'].corr(df['sum_sales'])));"
   ]
  },
  {
   "cell_type": "code",
   "execution_count": 42,
   "metadata": {},
   "outputs": [
    {
     "data": {
      "image/png": "[encoded data removed]",
      "text/plain": [
       "<Figure size 446.975x360 with 1 Axes>"
      ]
     },
     "metadata": {},
     "output_type": "display_data"
    }
   ],
   "source": [
    "sns.relplot(\n",
    "    data=df1,\n",
    "    y='sum_sales',\n",
    "    x='user_score',\n",
    "    hue='platform',\n",
    "    ci=None);\n",
    "plt.title('Коэффициент корреляции Пирсона для отзывов пользователей и продаж в разрезе платформ');"
   ]
  },
  {
   "cell_type": "code",
   "execution_count": 43,
   "metadata": {},
   "outputs": [
    {
     "data": {
      "image/png": "[encoded data removed]",
      "text/plain": [
       "<Figure size 360x3960 with 11 Axes>"
      ]
     },
     "metadata": {},
     "output_type": "display_data"
    }
   ],
   "source": [
    "sns.relplot(\n",
    "    data=df1,\n",
    "    y='sum_sales',\n",
    "    x='user_score',\n",
    "    row='platform',\n",
    "    height=5,\n",
    "    ci=None);"
   ]
  },
  {
   "cell_type": "code",
   "execution_count": 44,
   "metadata": {},
   "outputs": [
    {
     "name": "stdout",
     "output_type": "stream",
     "text": [
      "Коэффициент корреляции Пирсона для отзывов пользователей и продаж платформы PS3 = 0.00\n",
      "Коэффициент корреляции Пирсона для отзывов пользователей и продаж платформы X360 = -0.01\n",
      "Коэффициент корреляции Пирсона для отзывов пользователей и продаж платформы PS4 = -0.03\n",
      "Коэффициент корреляции Пирсона для отзывов пользователей и продаж платформы 3DS = 0.24\n",
      "Коэффициент корреляции Пирсона для отзывов пользователей и продаж платформы XOne = -0.07\n",
      "Коэффициент корреляции Пирсона для отзывов пользователей и продаж платформы WiiU = 0.42\n",
      "Коэффициент корреляции Пирсона для отзывов пользователей и продаж платформы Wii = 0.68\n",
      "Коэффициент корреляции Пирсона для отзывов пользователей и продаж платформы PC = -0.09\n",
      "Коэффициент корреляции Пирсона для отзывов пользователей и продаж платформы PSV = 0.00\n",
      "Коэффициент корреляции Пирсона для отзывов пользователей и продаж платформы DS = nan\n",
      "Коэффициент корреляции Пирсона для отзывов пользователей и продаж платформы PSP = -1.00\n"
     ]
    }
   ],
   "source": [
    "for platform in df1['platform'].unique():\n",
    "    print('Коэффициент корреляции Пирсона для отзывов пользователей и продаж платформы {} = {:.2f}'.format(platform, df1[df1['platform'] == platform]['user_score'].corr(df1['sum_sales'])));"
   ]
  },
  {
   "cell_type": "code",
   "execution_count": 45,
   "metadata": {},
   "outputs": [
    {
     "name": "stdout",
     "output_type": "stream",
     "text": [
      "Коэффициент корреляции Пирсорна для отзывов критиков и продаж платформы PS3 = 0.33\n",
      "Коэффициент корреляции Пирсорна для отзывов критиков и продаж платформы X360 = 0.35\n",
      "Коэффициент корреляции Пирсорна для отзывов критиков и продаж платформы PS4 = 0.41\n",
      "Коэффициент корреляции Пирсорна для отзывов критиков и продаж платформы 3DS = 0.36\n",
      "Коэффициент корреляции Пирсорна для отзывов критиков и продаж платформы XOne = 0.42\n",
      "Коэффициент корреляции Пирсорна для отзывов критиков и продаж платформы WiiU = 0.38\n",
      "Коэффициент корреляции Пирсорна для отзывов критиков и продаж платформы Wii = nan\n",
      "Коэффициент корреляции Пирсорна для отзывов критиков и продаж платформы PC = 0.20\n",
      "Коэффициент корреляции Пирсорна для отзывов критиков и продаж платформы PSV = 0.25\n",
      "Коэффициент корреляции Пирсорна для отзывов критиков и продаж платформы DS = nan\n",
      "Коэффициент корреляции Пирсорна для отзывов критиков и продаж платформы PSP = nan\n"
     ]
    }
   ],
   "source": [
    "for platform in df1['platform'].unique():\n",
    "    print('Коэффициент корреляции Пирсорна для отзывов критиков и продаж платформы {} = {:.2f}'.format(platform, df1[df1['platform'] == platform]['critic_score'].corr(df1['sum_sales'])));"
   ]
  },
  {
   "cell_type": "markdown",
   "metadata": {},
   "source": [
    "Отсутствует сильная корреляция Пирсона продаж от отзывов критиков и пользователей. При этом зависимость продаж от отзывов критиков более сильная чем от отзывов пользователей. Также зависимость по увеличению суммы продаж от отзывов явно просматривается на графиках, возможно продажи игр связаны с отзывами нелинейной зависимостью. Также возможно, что часть рейтингов являются завышенными и преследуют рекламные цели."
   ]
  },
  {
   "cell_type": "markdown",
   "metadata": {},
   "source": [
    "Проанализируем продажи игр в зависимости от жанра:"
   ]
  },
  {
   "cell_type": "code",
   "execution_count": 46,
   "metadata": {},
   "outputs": [
    {
     "data": {
      "text/html": [
       "<div>\n",
       "<style scoped>\n",
       "    .dataframe tbody tr th:only-of-type {\n",
       "        vertical-align: middle;\n",
       "    }\n",
       "\n",
       "    .dataframe tbody tr th {\n",
       "        vertical-align: top;\n",
       "    }\n",
       "\n",
       "    .dataframe thead th {\n",
       "        text-align: right;\n",
       "    }\n",
       "</style>\n",
       "<table border=\"1\" class=\"dataframe\">\n",
       "  <thead>\n",
       "    <tr style=\"text-align: right;\">\n",
       "      <th></th>\n",
       "      <th>sum_sales</th>\n",
       "    </tr>\n",
       "    <tr>\n",
       "      <th>genre</th>\n",
       "      <th></th>\n",
       "    </tr>\n",
       "  </thead>\n",
       "  <tbody>\n",
       "    <tr>\n",
       "      <td>Action</td>\n",
       "      <td>321.87</td>\n",
       "    </tr>\n",
       "    <tr>\n",
       "      <td>Shooter</td>\n",
       "      <td>232.98</td>\n",
       "    </tr>\n",
       "    <tr>\n",
       "      <td>Sports</td>\n",
       "      <td>150.65</td>\n",
       "    </tr>\n",
       "    <tr>\n",
       "      <td>Role-Playing</td>\n",
       "      <td>145.89</td>\n",
       "    </tr>\n",
       "    <tr>\n",
       "      <td>Misc</td>\n",
       "      <td>62.82</td>\n",
       "    </tr>\n",
       "    <tr>\n",
       "      <td>Platform</td>\n",
       "      <td>42.63</td>\n",
       "    </tr>\n",
       "    <tr>\n",
       "      <td>Racing</td>\n",
       "      <td>39.89</td>\n",
       "    </tr>\n",
       "    <tr>\n",
       "      <td>Fighting</td>\n",
       "      <td>35.31</td>\n",
       "    </tr>\n",
       "    <tr>\n",
       "      <td>Adventure</td>\n",
       "      <td>23.64</td>\n",
       "    </tr>\n",
       "    <tr>\n",
       "      <td>Simulation</td>\n",
       "      <td>21.76</td>\n",
       "    </tr>\n",
       "    <tr>\n",
       "      <td>Strategy</td>\n",
       "      <td>10.08</td>\n",
       "    </tr>\n",
       "    <tr>\n",
       "      <td>Puzzle</td>\n",
       "      <td>3.17</td>\n",
       "    </tr>\n",
       "  </tbody>\n",
       "</table>\n",
       "</div>"
      ],
      "text/plain": [
       "              sum_sales\n",
       "genre                  \n",
       "Action           321.87\n",
       "Shooter          232.98\n",
       "Sports           150.65\n",
       "Role-Playing     145.89\n",
       "Misc              62.82\n",
       "Platform          42.63\n",
       "Racing            39.89\n",
       "Fighting          35.31\n",
       "Adventure         23.64\n",
       "Simulation        21.76\n",
       "Strategy          10.08\n",
       "Puzzle             3.17"
      ]
     },
     "execution_count": 46,
     "metadata": {},
     "output_type": "execute_result"
    }
   ],
   "source": [
    "genre_pivot = df1.pivot_table(index='genre', values ='sum_sales', aggfunc='sum').sort_values('sum_sales', ascending=False)\n",
    "genre_pivot"
   ]
  },
  {
   "cell_type": "markdown",
   "metadata": {},
   "source": [
    "__Видна сильная зависимость продаж от жанра игры. Лидируют продажы жанров Action, Sports, Shooter - жанры требующие быстрой и точной реакции, а также самые сложные в разработке. Замыкают рейтинг жанры Adventure, Puzzle, Strategy - требующие вдумчивости и размышлений.__"
   ]
  },
  {
   "cell_type": "code",
   "execution_count": 47,
   "metadata": {},
   "outputs": [
    {
     "data": {
      "image/png": "[encoded data removed]",
      "text/plain": [
       "<Figure size 1440x504 with 1 Axes>"
      ]
     },
     "metadata": {},
     "output_type": "display_data"
    }
   ],
   "source": [
    "# расчет соотношения продаж и количества выпущенных игр\n",
    "genre_pivot = df1.pivot_table(index='genre', values ='sum_sales', aggfunc=['sum', 'count'])\n",
    "genre_pivot.plot(kind='bar', figsize=(20,7), title='Графики количества выпущенных игр (count) и объема продаж (sum) на платформах');"
   ]
  },
  {
   "cell_type": "markdown",
   "metadata": {},
   "source": [
    "Видим, что продажи в целом увеличиваются при увеличении количества выпущенных игр, но не для всех платформ. Так для Shooter-игр соотношение доходов к количеству игр явно больше чем у других платформ, что может говорить о наличии большого количества суперуспешних игр в этом жанре. Это также подтверждает график глобальных продаж с разбивкой по платформам,  приведенный выше."
   ]
  },
  {
   "cell_type": "markdown",
   "metadata": {},
   "source": [
    "Составим портрет пользователя в зависимости от региона проживания:"
   ]
  },
  {
   "cell_type": "markdown",
   "metadata": {},
   "source": [
    "<a id='id_4'></a>\n",
    "## Портрет пользователя каждого региона"
   ]
  },
  {
   "cell_type": "markdown",
   "metadata": {},
   "source": [
    "__Топ-5 платформ каждого региона:__"
   ]
  },
  {
   "cell_type": "markdown",
   "metadata": {},
   "source": [
    "Северная Америка"
   ]
  },
  {
   "cell_type": "code",
   "execution_count": 48,
   "metadata": {},
   "outputs": [
    {
     "name": "stdout",
     "output_type": "stream",
     "text": [
      "Топ-5 продаж: \n",
      " platform\n",
      "PS4     108.74\n",
      "XOne     93.12\n",
      "X360     81.66\n",
      "PS3      63.50\n",
      "3DS      38.20\n",
      "Name: na_sales, dtype: float64\n"
     ]
    }
   ],
   "source": [
    "# расчет топ-5 платформ по продажам в регионе и их доли продаж\n",
    "reg_na_sales = df1.groupby('platform')['na_sales'].sum().sort_values(ascending=False).head(5)\n",
    "print('Топ-5 продаж:', '\\n', reg_na_sales)"
   ]
  },
  {
   "cell_type": "code",
   "execution_count": 49,
   "metadata": {},
   "outputs": [
    {
     "data": {
      "image/png": "[encoded data removed]",
      "text/plain": [
       "<Figure size 648x648 with 1 Axes>"
      ]
     },
     "metadata": {},
     "output_type": "display_data"
    }
   ],
   "source": [
    "reg_na_sales.plot(kind='pie', figsize=(9, 9), autopct='%1.1f%%', title='Доли топ-5 платформ по продажам региона Северная Америка');"
   ]
  },
  {
   "cell_type": "markdown",
   "metadata": {},
   "source": [
    "Лидер - платформа PS4, на неё приходится 28% продаж топ-5 платформ."
   ]
  },
  {
   "cell_type": "markdown",
   "metadata": {},
   "source": [
    "Европа"
   ]
  },
  {
   "cell_type": "code",
   "execution_count": 50,
   "metadata": {},
   "outputs": [
    {
     "name": "stdout",
     "output_type": "stream",
     "text": [
      "Топ-5 продаж: \n",
      " platform\n",
      "PS4     141.09\n",
      "PS3      67.81\n",
      "XOne     51.59\n",
      "X360     42.52\n",
      "3DS      30.96\n",
      "Name: eu_sales, dtype: float64\n"
     ]
    }
   ],
   "source": [
    "# расчет топ-5 платформ по продажам в регионе и их доли продаж\n",
    "reg_eu_sales = df1.groupby('platform')['eu_sales'].sum().sort_values(ascending=False).head(5)\n",
    "print('Топ-5 продаж:', '\\n', reg_eu_sales)"
   ]
  },
  {
   "cell_type": "code",
   "execution_count": 51,
   "metadata": {},
   "outputs": [
    {
     "data": {
      "image/png": "[encoded data removed]",
      "text/plain": [
       "<Figure size 648x648 with 1 Axes>"
      ]
     },
     "metadata": {},
     "output_type": "display_data"
    }
   ],
   "source": [
    "reg_eu_sales.plot(kind='pie', figsize=(9, 9), autopct='%1.1f%%', title='Доли топ-5 платформ по продажам региона Европа');"
   ]
  },
  {
   "cell_type": "markdown",
   "metadata": {},
   "source": [
    "Лидер - также платформа PS4, на неё приходится 42% продаж топ-5 платформ."
   ]
  },
  {
   "cell_type": "markdown",
   "metadata": {},
   "source": [
    "Япония"
   ]
  },
  {
   "cell_type": "code",
   "execution_count": 52,
   "metadata": {},
   "outputs": [
    {
     "name": "stdout",
     "output_type": "stream",
     "text": [
      "Топ-5 продаж: \n",
      " platform\n",
      "3DS     67.81\n",
      "PS3     23.35\n",
      "PSV     18.59\n",
      "PS4     15.96\n",
      "WiiU    10.88\n",
      "Name: jp_sales, dtype: float64\n"
     ]
    }
   ],
   "source": [
    "# расчет топ-5 платформ по продажам в регионе и их доли продаж\n",
    "reg_jp_sales = df1.groupby('platform')['jp_sales'].sum().sort_values(ascending=False).head(5)\n",
    "print('Топ-5 продаж:', '\\n', reg_jp_sales)"
   ]
  },
  {
   "cell_type": "code",
   "execution_count": 53,
   "metadata": {},
   "outputs": [
    {
     "data": {
      "image/png": "[encoded data removed]",
      "text/plain": [
       "<Figure size 648x648 with 1 Axes>"
      ]
     },
     "metadata": {},
     "output_type": "display_data"
    }
   ],
   "source": [
    "reg_jp_sales.plot(kind='pie', figsize=(9, 9), autopct='%1.1f%%', title='Доли топ-5 платформ по продажам региона Япония');"
   ]
  },
  {
   "cell_type": "markdown",
   "metadata": {},
   "source": [
    "В Японии лидер изменился - это платформа 3DS, на неё приходится половина продаж топ-5 платформ."
   ]
  },
  {
   "cell_type": "markdown",
   "metadata": {},
   "source": [
    "Другие страны"
   ]
  },
  {
   "cell_type": "code",
   "execution_count": 54,
   "metadata": {},
   "outputs": [
    {
     "name": "stdout",
     "output_type": "stream",
     "text": [
      "Топ-5 продаж: \n",
      " platform\n",
      "PS4     48.35\n",
      "PS3     26.77\n",
      "XOne    14.27\n",
      "X360    12.11\n",
      "3DS      6.28\n",
      "Name: other_sales, dtype: float64\n"
     ]
    }
   ],
   "source": [
    "# расчет топ-5 платформ по продажам в регионе и их доли продаж\n",
    "reg_other_sales = df1.groupby('platform')['other_sales'].sum().sort_values(ascending=False).head(5)\n",
    "print('Топ-5 продаж:', '\\n', reg_other_sales)"
   ]
  },
  {
   "cell_type": "code",
   "execution_count": 55,
   "metadata": {},
   "outputs": [
    {
     "data": {
      "image/png": "[encoded data removed]",
      "text/plain": [
       "<Figure size 648x648 with 1 Axes>"
      ]
     },
     "metadata": {},
     "output_type": "display_data"
    }
   ],
   "source": [
    "reg_other_sales.plot(kind='pie', figsize=(9, 9), autopct='%1.1f%%', title='Доли топ-5 платформ по продажам в других регионах');"
   ]
  },
  {
   "cell_type": "markdown",
   "metadata": {},
   "source": [
    "Лидер остальных регионов - платформа PS4, на неё приходится 45% продаж топ-5 платформ."
   ]
  },
  {
   "cell_type": "markdown",
   "metadata": {},
   "source": [
    "__Мы видим, что основной набор популярных платформ большей частью одинаков. При этом в Европе и группе других стран популярность платформ практически идентична, лидирует платформа PS4. В Японии предпочтения отличаются сильнее - в ТОП-3 вошли платформы 3DS, DS, PSV находящиеся в других регионах ниже по рейтингу, а PS4 опустилась на четвертое место.__ "
   ]
  },
  {
   "cell_type": "markdown",
   "metadata": {},
   "source": [
    "Топ-5 жанров каждого региона:"
   ]
  },
  {
   "cell_type": "markdown",
   "metadata": {},
   "source": [
    "Северная Америка"
   ]
  },
  {
   "cell_type": "code",
   "execution_count": 56,
   "metadata": {},
   "outputs": [
    {
     "name": "stdout",
     "output_type": "stream",
     "text": [
      "genre\n",
      "Action          126.05\n",
      "Shooter         109.74\n",
      "Sports           65.27\n",
      "Role-Playing     46.40\n",
      "Misc             27.49\n",
      "Name: na_sales, dtype: float64\n"
     ]
    }
   ],
   "source": [
    "reg_na_genre = df1.groupby('genre')['na_sales'].sum()\n",
    "print(reg_na_genre.sort_values(ascending=False).head(5))"
   ]
  },
  {
   "cell_type": "markdown",
   "metadata": {},
   "source": [
    "Европа"
   ]
  },
  {
   "cell_type": "code",
   "execution_count": 57,
   "metadata": {},
   "outputs": [
    {
     "name": "stdout",
     "output_type": "stream",
     "text": [
      "genre\n",
      "Action          118.13\n",
      "Shooter          87.86\n",
      "Sports           60.52\n",
      "Role-Playing     36.97\n",
      "Racing           20.19\n",
      "Name: eu_sales, dtype: float64\n"
     ]
    }
   ],
   "source": [
    "reg_eu_genre = df1.groupby('genre')['eu_sales'].sum()\n",
    "print(reg_eu_genre.sort_values(ascending=False).head(5))"
   ]
  },
  {
   "cell_type": "markdown",
   "metadata": {},
   "source": [
    "Япония"
   ]
  },
  {
   "cell_type": "code",
   "execution_count": 58,
   "metadata": {},
   "outputs": [
    {
     "name": "stdout",
     "output_type": "stream",
     "text": [
      "genre\n",
      "Role-Playing    51.04\n",
      "Action          40.49\n",
      "Misc             9.20\n",
      "Fighting         7.65\n",
      "Shooter          6.61\n",
      "Name: jp_sales, dtype: float64\n"
     ]
    }
   ],
   "source": [
    "reg_jp_genre = df1.groupby('genre')['jp_sales'].sum()\n",
    "print(reg_jp_genre.sort_values(ascending=False).head(5))"
   ]
  },
  {
   "cell_type": "markdown",
   "metadata": {},
   "source": [
    "Другие страны"
   ]
  },
  {
   "cell_type": "code",
   "execution_count": 59,
   "metadata": {},
   "outputs": [
    {
     "name": "stdout",
     "output_type": "stream",
     "text": [
      "genre\n",
      "Action          37.20\n",
      "Shooter         28.77\n",
      "Sports          19.45\n",
      "Role-Playing    11.48\n",
      "Misc             6.09\n",
      "Name: other_sales, dtype: float64\n"
     ]
    }
   ],
   "source": [
    "reg_other_genre = df1.groupby('genre')['other_sales'].sum()\n",
    "print(reg_other_genre.sort_values(ascending=False).head(5))"
   ]
  },
  {
   "cell_type": "markdown",
   "metadata": {},
   "source": [
    "__Предпочения жанров в Северной Америке и группе других стран полностью совпадают, почти совпадают в Евроме - отличия в 5 позиции, где гоночные игры заменили ролевые игры. Наиболее сильно отличаются предпочтения жанров в Японии - лидируют ролевые игры, также в топ-5 вошли игры рукопашного боя, вытеснив гонки, что возможно обусловлено как национальной культурой, так и пополярностью игровых приставок.__"
   ]
  },
  {
   "cell_type": "markdown",
   "metadata": {},
   "source": [
    "Проверка корреляции продаж по регионам с рейтингом от организации ESRB:"
   ]
  },
  {
   "cell_type": "markdown",
   "metadata": {},
   "source": [
    "_Северная Америка_"
   ]
  },
  {
   "cell_type": "code",
   "execution_count": 60,
   "metadata": {},
   "outputs": [
    {
     "data": {
      "image/png": "[encoded data removed]",
      "text/plain": [
       "<Figure size 432x288 with 1 Axes>"
      ]
     },
     "metadata": {},
     "output_type": "display_data"
    }
   ],
   "source": [
    "reg_sa_rating = df1.groupby('rating')['na_sales'].sum()\n",
    "reg_sa_rating.sort_values(ascending=False).plot.bar();"
   ]
  },
  {
   "cell_type": "markdown",
   "metadata": {},
   "source": [
    "Европа"
   ]
  },
  {
   "cell_type": "code",
   "execution_count": 61,
   "metadata": {},
   "outputs": [
    {
     "data": {
      "image/png": "[encoded data removed]",
      "text/plain": [
       "<Figure size 432x288 with 1 Axes>"
      ]
     },
     "metadata": {},
     "output_type": "display_data"
    }
   ],
   "source": [
    "reg_eu_rating = df1.groupby('rating')['eu_sales'].sum()\n",
    "reg_eu_rating.sort_values(ascending=False).plot.bar();"
   ]
  },
  {
   "cell_type": "markdown",
   "metadata": {},
   "source": [
    "Япония"
   ]
  },
  {
   "cell_type": "code",
   "execution_count": 62,
   "metadata": {},
   "outputs": [
    {
     "data": {
      "image/png": "[encoded data removed]",
      "text/plain": [
       "<Figure size 432x288 with 1 Axes>"
      ]
     },
     "metadata": {},
     "output_type": "display_data"
    }
   ],
   "source": [
    "reg_jp_rating = df1.groupby('rating')['jp_sales'].sum()\n",
    "reg_jp_rating.sort_values(ascending=False).plot.bar();"
   ]
  },
  {
   "cell_type": "markdown",
   "metadata": {},
   "source": [
    "Другие страны"
   ]
  },
  {
   "cell_type": "code",
   "execution_count": 63,
   "metadata": {},
   "outputs": [
    {
     "data": {
      "image/png": "[encoded data removed]",
      "text/plain": [
       "<Figure size 432x288 with 1 Axes>"
      ]
     },
     "metadata": {},
     "output_type": "display_data"
    }
   ],
   "source": [
    "reg_other_rating = df1.groupby('rating')['other_sales'].sum()\n",
    "reg_other_rating.sort_values(ascending=False).plot.bar();"
   ]
  },
  {
   "cell_type": "markdown",
   "metadata": {},
   "source": [
    "__На графиках видна сильная зависимость объема продаж от рейтинга игр. В Северной Америке, Европе и других странах рейтинги имеют отрицательную корреляцию с последовательностью E-M-T-E10+. Заметные отличия есть в Японии, наибольшие продажи имеют игры без рейтинга, также продажи игр с рейтингом Т превышают продажи игр с рейтингом М. Возможно отсутствие рейтинга у большинства игр в Японии обусловлено наличием внутренней национальной системы игровых рейтингов.__"
   ]
  },
  {
   "cell_type": "markdown",
   "metadata": {},
   "source": [
    "<a id='id_5'></a>\n",
    "## Проверка гипотез"
   ]
  },
  {
   "cell_type": "markdown",
   "metadata": {},
   "source": [
    "__Гипотеза 1: Средние пользовательские рейтинги платформ Xbox One и PC одинаковые. Нулевая гипотеза - средние пользовательские рейтинги платформ Xbox One и PC равны. Альтернативная гипотеза - средние пользовательские рейтинги платформ Xbox One и PC не равны. Уровень значимости примем стандартным - 5%.__"
   ]
  },
  {
   "cell_type": "code",
   "execution_count": 64,
   "metadata": {},
   "outputs": [
    {
     "name": "stdout",
     "output_type": "stream",
     "text": [
      "p-значение Гипотезы 1: 0.14012658403611647\n",
      "Не получилось отвергнуть нулевую гипотезу\n"
     ]
    }
   ],
   "source": [
    "df_XOne = df1.query('platform == \"XOne\"')['user_score'].dropna()\n",
    "df_PC = df1.query('platform == \"PC\"')['user_score'].dropna()\n",
    "alpha = 0.05\n",
    "results_1 = st.ttest_ind(df_XOne, df_PC)\n",
    "print('p-значение Гипотезы 1:', results_1.pvalue)\n",
    "if (results_1.pvalue < alpha):\n",
    "    print(\"Отвергаем нулевую гипотезу\")\n",
    "else:\n",
    "    print(\"Не получилось отвергнуть нулевую гипотезу\") "
   ]
  },
  {
   "cell_type": "markdown",
   "metadata": {},
   "source": [
    "Вывод: проверяемая нулевая гипотеза о равенстве средних пользовательских рейтингов для платформ Xbox One и PC не может быть отвергнута. Следовательно, мы принимаем Гипотезу 1, что средние пользовательские рейтинги платформ Xbox One и PC равны."
   ]
  },
  {
   "cell_type": "markdown",
   "metadata": {},
   "source": [
    "__Гипотеза 2: Средние пользовательские рейтинги жанров Action и Sports разные. Нулевая гипотеза - средние пользовательские рейтинги жанров Action и Sports равны. Альтернативная гипотеза - средние пользовательские рейтинги жанров Action и Sports не равны. Уровень значимости примем стандартным - 5%. С учетом различия дисперсий выборок - equal_var=False.__"
   ]
  },
  {
   "cell_type": "code",
   "execution_count": 65,
   "metadata": {},
   "outputs": [
    {
     "name": "stdout",
     "output_type": "stream",
     "text": [
      "Дисперсия Action: 1.765\n",
      "Дисперсия Sports: 3.161\n",
      "p-значение Гипотезы 1: 1.4460039700704315e-20\n",
      "Отвергаем нулевую гипотезу\n"
     ]
    }
   ],
   "source": [
    "df_Action = df1.query('genre == \"Action\"')['user_score'].dropna()\n",
    "df_Sports = df1.query('genre == \"Sports\"')['user_score'].dropna()\n",
    "alpha = .05\n",
    "print('Дисперсия Action: {:.3f}'.format(np.var(df_Action), ddof=1))\n",
    "print('Дисперсия Sports: {:.3f}'.format(np.var(df_Sports), ddof=1))\n",
    "results_2 = st.ttest_ind(df_Action, df_Sports, equal_var=False)\n",
    "print('p-значение Гипотезы 1:', results_2.pvalue)\n",
    "if (results_2.pvalue < alpha):\n",
    "    print(\"Отвергаем нулевую гипотезу\")\n",
    "else:\n",
    "    print(\"Не получилось отвергнуть нулевую гипотезу\")"
   ]
  },
  {
   "cell_type": "markdown",
   "metadata": {},
   "source": [
    "Вывод: проверяемая нулевая гипотеза о равенстве средних пользовательских рейтингов жанров Action и  Sports не может быть подтверждена, следовательно мы принимаем Гипотезу 2, что средние пользовательские рейтинги жанров Action и Sports разные."
   ]
  },
  {
   "cell_type": "markdown",
   "metadata": {},
   "source": [
    "<a id='id_6'></a>\n",
    "## Общий вывод"
   ]
  },
  {
   "cell_type": "markdown",
   "metadata": {},
   "source": [
    "В результате анализа выявлены следующие определяющие успешность игры закономерности:\n",
    "- принадлежность успешной платформе (топ-5 по объему продаж за последние 10 лет: PS4, PS3, XOne, 3DS,  X360)\n",
    "- популярность платформ снижается со временем в периоде 10 лет\n",
    "- наиболее успешные по объему продаж платформы в 2016 году: PS4 и XOne\n",
    "- у наиболее успешных платформ несколько популярных игр приносят существенно доходы существенно выше средних доходов всех игр платформы\n",
    "- рейтинги критиков и пользователей имеют нелинейную положительную корреляцию с объемом прожа игры;  наибольший рейтинг у критиков и пользователей принадлежит жанру \"ролевые игры\"\n",
    "- наблюдается сильная зависимость объема продаж от жанра игры: лидируют продажы жанров Action, Sports, Shooter\n",
    "- популярность платформ различна для разных регионов, наибольшее различие в Японии - в топ вошли платформы 3DS, PS3, в то время как в остальных регионах лидирует PS4\n",
    "- существенные региональные различия существуют в жанрах игр: предпочения жанров в Северной Америке и группе других стран полностью совпадают, почти совпадают в Евроме - отличия в 5 позиции, где гоночные игры заменили ролевые игры. Наиболее сильно отличаются предпочтения жанров в Японии - лидируют ролевые игры, также в топ-5 вошли платформенные игры, вытеснив стрелялки и гонки\n",
    "- наблюдается сильная зависимость объема продаж от рейтинга игр. В Северной Америке, Европе и других странах рейтинги имеют отрицательную корреляцию с последовательностью E-M-T-E10+. Заметные отличия есть в Японии, наибольшие продажи имеют игры без рейтинга, также продажи игр с рейтингом Т превышают продажи игр с рейтингом М.\n",
    "Рекомендации:\n",
    "- при планировании рекламных компаний учесть популярность платформ и жанров для посетителей из различных регионов;\n",
    "- учитывая большое количество актуальных платформ, контролировать полноту ассортимента и новинки игр для каждой платформы;\n",
    "- приоритет в рекламных компаниях отдать лидирующим платформам."
   ]
  }
 ],
 "metadata": {
  "ExecuteTimeLog": [
   {
    "duration": 59,
    "start_time": "2021-12-13T14:57:33.015Z"
   },
   {
    "duration": 993,
    "start_time": "2021-12-13T15:11:03.954Z"
   },
   {
    "duration": 73,
    "start_time": "2021-12-13T15:11:29.496Z"
   },
   {
    "duration": 39,
    "start_time": "2021-12-13T15:11:47.249Z"
   },
   {
    "duration": 48,
    "start_time": "2021-12-13T15:12:07.777Z"
   },
   {
    "duration": 12,
    "start_time": "2021-12-13T15:13:33.862Z"
   },
   {
    "duration": 4,
    "start_time": "2021-12-13T15:55:15.868Z"
   },
   {
    "duration": 1136,
    "start_time": "2021-12-19T05:01:47.041Z"
   },
   {
    "duration": 54,
    "start_time": "2021-12-19T05:01:48.179Z"
   },
   {
    "duration": 12,
    "start_time": "2021-12-19T05:01:48.235Z"
   },
   {
    "duration": 4,
    "start_time": "2021-12-19T05:03:51.186Z"
   },
   {
    "duration": 6,
    "start_time": "2021-12-19T05:04:11.781Z"
   },
   {
    "duration": 4,
    "start_time": "2021-12-19T05:04:21.494Z"
   },
   {
    "duration": 8,
    "start_time": "2021-12-19T05:04:54.599Z"
   },
   {
    "duration": 5,
    "start_time": "2021-12-19T05:05:34.279Z"
   },
   {
    "duration": 12,
    "start_time": "2021-12-19T05:05:49.553Z"
   },
   {
    "duration": 13,
    "start_time": "2021-12-19T05:06:01.944Z"
   },
   {
    "duration": 9,
    "start_time": "2021-12-19T05:06:22.875Z"
   },
   {
    "duration": 13,
    "start_time": "2021-12-19T05:06:37.209Z"
   },
   {
    "duration": 8,
    "start_time": "2021-12-19T05:06:51.705Z"
   },
   {
    "duration": 6,
    "start_time": "2021-12-19T05:07:35.955Z"
   },
   {
    "duration": 130,
    "start_time": "2021-12-19T05:07:56.723Z"
   },
   {
    "duration": 18,
    "start_time": "2021-12-19T05:08:07.786Z"
   },
   {
    "duration": 9,
    "start_time": "2021-12-19T05:08:29.035Z"
   },
   {
    "duration": 13,
    "start_time": "2021-12-19T05:08:36.883Z"
   },
   {
    "duration": 6,
    "start_time": "2021-12-19T05:09:53.678Z"
   },
   {
    "duration": 190,
    "start_time": "2021-12-19T05:10:22.286Z"
   },
   {
    "duration": 5,
    "start_time": "2021-12-19T05:11:25.840Z"
   },
   {
    "duration": 5,
    "start_time": "2021-12-19T05:11:35.191Z"
   },
   {
    "duration": 5,
    "start_time": "2021-12-19T05:12:00.848Z"
   },
   {
    "duration": 14,
    "start_time": "2021-12-19T05:12:28.370Z"
   },
   {
    "duration": 14,
    "start_time": "2021-12-19T05:12:48.073Z"
   },
   {
    "duration": 14,
    "start_time": "2021-12-19T05:12:55.948Z"
   },
   {
    "duration": 14,
    "start_time": "2021-12-19T05:13:03.642Z"
   },
   {
    "duration": 13,
    "start_time": "2021-12-19T05:13:24.387Z"
   },
   {
    "duration": 9,
    "start_time": "2021-12-19T05:14:22.748Z"
   },
   {
    "duration": 19,
    "start_time": "2021-12-19T05:14:37.332Z"
   },
   {
    "duration": 7,
    "start_time": "2021-12-19T05:15:53.448Z"
   },
   {
    "duration": 116,
    "start_time": "2021-12-19T05:16:05.534Z"
   },
   {
    "duration": 7,
    "start_time": "2021-12-19T05:16:16.286Z"
   },
   {
    "duration": 90,
    "start_time": "2021-12-19T05:16:36.142Z"
   },
   {
    "duration": 148,
    "start_time": "2021-12-19T05:17:24.698Z"
   },
   {
    "duration": 134,
    "start_time": "2021-12-19T05:17:53.011Z"
   },
   {
    "duration": 126,
    "start_time": "2021-12-19T05:19:29.029Z"
   },
   {
    "duration": 133,
    "start_time": "2021-12-19T05:20:19.022Z"
   },
   {
    "duration": 828,
    "start_time": "2021-12-19T05:20:44.932Z"
   },
   {
    "duration": 142,
    "start_time": "2021-12-19T05:21:28.511Z"
   },
   {
    "duration": 675,
    "start_time": "2021-12-19T05:21:42.205Z"
   },
   {
    "duration": 117,
    "start_time": "2021-12-19T05:22:23.374Z"
   },
   {
    "duration": 14,
    "start_time": "2021-12-19T05:22:33.975Z"
   },
   {
    "duration": 31,
    "start_time": "2021-12-19T05:23:26.208Z"
   },
   {
    "duration": 493,
    "start_time": "2021-12-19T05:24:08.378Z"
   },
   {
    "duration": 464,
    "start_time": "2021-12-19T05:25:13.370Z"
   },
   {
    "duration": 777,
    "start_time": "2021-12-19T05:25:27.413Z"
   },
   {
    "duration": 3636,
    "start_time": "2021-12-19T05:25:40.691Z"
   },
   {
    "duration": 25,
    "start_time": "2021-12-19T05:26:16.724Z"
   },
   {
    "duration": 23,
    "start_time": "2021-12-19T05:26:40.149Z"
   },
   {
    "duration": 14,
    "start_time": "2021-12-19T05:27:26.453Z"
   },
   {
    "duration": 126,
    "start_time": "2021-12-19T05:28:43.048Z"
   },
   {
    "duration": 104,
    "start_time": "2021-12-19T05:28:47.775Z"
   },
   {
    "duration": 110,
    "start_time": "2021-12-19T05:29:04.951Z"
   },
   {
    "duration": 8,
    "start_time": "2021-12-19T05:29:16.152Z"
   },
   {
    "duration": 424,
    "start_time": "2021-12-19T05:29:24.064Z"
   },
   {
    "duration": 7,
    "start_time": "2021-12-19T05:29:38.008Z"
   },
   {
    "duration": 7,
    "start_time": "2021-12-19T05:30:03.289Z"
   },
   {
    "duration": 7,
    "start_time": "2021-12-19T05:30:22.329Z"
   },
   {
    "duration": 119,
    "start_time": "2021-12-19T05:30:55.506Z"
   },
   {
    "duration": 8,
    "start_time": "2021-12-19T05:31:08.082Z"
   },
   {
    "duration": 8,
    "start_time": "2021-12-19T05:31:26.211Z"
   },
   {
    "duration": 7,
    "start_time": "2021-12-19T05:31:44.315Z"
   },
   {
    "duration": 7,
    "start_time": "2021-12-19T05:32:00.557Z"
   },
   {
    "duration": 162,
    "start_time": "2021-12-19T05:32:44.837Z"
   },
   {
    "duration": 242,
    "start_time": "2021-12-19T05:33:20.142Z"
   },
   {
    "duration": 163,
    "start_time": "2021-12-19T05:33:38.214Z"
   },
   {
    "duration": 146,
    "start_time": "2021-12-19T05:33:55.214Z"
   },
   {
    "duration": 3,
    "start_time": "2021-12-19T05:38:54.372Z"
   },
   {
    "duration": 11,
    "start_time": "2021-12-19T05:39:28.510Z"
   },
   {
    "duration": 12,
    "start_time": "2021-12-19T05:40:07.063Z"
   },
   {
    "duration": 115,
    "start_time": "2021-12-19T05:49:03.862Z"
   },
   {
    "duration": 4,
    "start_time": "2021-12-19T05:59:51.432Z"
   },
   {
    "duration": 2998,
    "start_time": "2021-12-19T06:00:02.629Z"
   },
   {
    "duration": 55,
    "start_time": "2021-12-19T06:00:05.628Z"
   },
   {
    "duration": 11,
    "start_time": "2021-12-19T06:00:05.686Z"
   },
   {
    "duration": 8,
    "start_time": "2021-12-19T06:00:05.699Z"
   },
   {
    "duration": 6,
    "start_time": "2021-12-19T06:00:05.709Z"
   },
   {
    "duration": 6,
    "start_time": "2021-12-19T06:00:05.717Z"
   },
   {
    "duration": 9,
    "start_time": "2021-12-19T06:00:05.725Z"
   },
   {
    "duration": 5,
    "start_time": "2021-12-19T06:00:05.736Z"
   },
   {
    "duration": 12,
    "start_time": "2021-12-19T06:00:05.744Z"
   },
   {
    "duration": 50,
    "start_time": "2021-12-19T06:00:05.758Z"
   },
   {
    "duration": 11,
    "start_time": "2021-12-19T06:00:05.811Z"
   },
   {
    "duration": 16,
    "start_time": "2021-12-19T06:00:05.824Z"
   },
   {
    "duration": 10,
    "start_time": "2021-12-19T06:00:05.842Z"
   },
   {
    "duration": 7,
    "start_time": "2021-12-19T06:00:05.854Z"
   },
   {
    "duration": 65,
    "start_time": "2021-12-19T06:00:05.863Z"
   },
   {
    "duration": 7,
    "start_time": "2021-12-19T06:00:05.931Z"
   },
   {
    "duration": 14,
    "start_time": "2021-12-19T06:00:05.940Z"
   },
   {
    "duration": 11,
    "start_time": "2021-12-19T06:00:05.955Z"
   },
   {
    "duration": 241,
    "start_time": "2021-12-19T06:00:05.967Z"
   },
   {
    "duration": 5,
    "start_time": "2021-12-19T06:00:06.210Z"
   },
   {
    "duration": 6,
    "start_time": "2021-12-19T06:00:06.217Z"
   },
   {
    "duration": 8,
    "start_time": "2021-12-19T06:00:06.224Z"
   },
   {
    "duration": 16,
    "start_time": "2021-12-19T06:00:06.234Z"
   },
   {
    "duration": 20,
    "start_time": "2021-12-19T06:00:06.252Z"
   },
   {
    "duration": 16,
    "start_time": "2021-12-19T06:00:06.307Z"
   },
   {
    "duration": 13,
    "start_time": "2021-12-19T06:00:06.324Z"
   },
   {
    "duration": 12,
    "start_time": "2021-12-19T06:00:06.341Z"
   },
   {
    "duration": 9,
    "start_time": "2021-12-19T06:00:06.356Z"
   },
   {
    "duration": 52,
    "start_time": "2021-12-19T06:00:06.366Z"
   },
   {
    "duration": 7,
    "start_time": "2021-12-19T06:00:06.419Z"
   },
   {
    "duration": 7,
    "start_time": "2021-12-19T06:00:06.428Z"
   },
   {
    "duration": 183,
    "start_time": "2021-12-19T06:00:06.437Z"
   },
   {
    "duration": 889,
    "start_time": "2021-12-19T06:00:06.622Z"
   },
   {
    "duration": 687,
    "start_time": "2021-12-19T06:00:07.513Z"
   },
   {
    "duration": 15,
    "start_time": "2021-12-19T06:00:08.202Z"
   },
   {
    "duration": 31,
    "start_time": "2021-12-19T06:00:08.219Z"
   },
   {
    "duration": 524,
    "start_time": "2021-12-19T06:00:08.252Z"
   },
   {
    "duration": 487,
    "start_time": "2021-12-19T06:00:08.778Z"
   },
   {
    "duration": 904,
    "start_time": "2021-12-19T06:00:09.267Z"
   },
   {
    "duration": 4357,
    "start_time": "2021-12-19T06:00:10.172Z"
   },
   {
    "duration": 31,
    "start_time": "2021-12-19T06:00:14.531Z"
   },
   {
    "duration": 54,
    "start_time": "2021-12-19T06:00:14.564Z"
   },
   {
    "duration": 18,
    "start_time": "2021-12-19T06:00:14.621Z"
   },
   {
    "duration": 12,
    "start_time": "2021-12-19T06:00:14.641Z"
   },
   {
    "duration": 17,
    "start_time": "2021-12-19T06:00:14.655Z"
   },
   {
    "duration": 6,
    "start_time": "2021-12-19T06:00:14.674Z"
   },
   {
    "duration": 25,
    "start_time": "2021-12-19T06:00:14.682Z"
   },
   {
    "duration": 18,
    "start_time": "2021-12-19T06:00:14.709Z"
   },
   {
    "duration": 13,
    "start_time": "2021-12-19T06:00:14.728Z"
   },
   {
    "duration": 11,
    "start_time": "2021-12-19T06:00:14.743Z"
   },
   {
    "duration": 11,
    "start_time": "2021-12-19T06:00:14.755Z"
   },
   {
    "duration": 188,
    "start_time": "2021-12-19T06:00:14.768Z"
   },
   {
    "duration": 256,
    "start_time": "2021-12-19T06:00:14.957Z"
   },
   {
    "duration": 190,
    "start_time": "2021-12-19T06:00:15.215Z"
   },
   {
    "duration": 176,
    "start_time": "2021-12-19T06:00:15.407Z"
   },
   {
    "duration": 22,
    "start_time": "2021-12-19T06:00:15.585Z"
   },
   {
    "duration": 13,
    "start_time": "2021-12-19T06:00:15.609Z"
   },
   {
    "duration": 465,
    "start_time": "2021-12-19T06:01:05.190Z"
   },
   {
    "duration": 432,
    "start_time": "2021-12-19T06:03:25.324Z"
   },
   {
    "duration": 408,
    "start_time": "2021-12-20T14:05:10.888Z"
   },
   {
    "duration": 1494,
    "start_time": "2021-12-20T14:05:22.961Z"
   },
   {
    "duration": 67,
    "start_time": "2021-12-20T14:05:24.458Z"
   },
   {
    "duration": 14,
    "start_time": "2021-12-20T14:05:24.528Z"
   },
   {
    "duration": 34,
    "start_time": "2021-12-20T14:05:24.544Z"
   },
   {
    "duration": 40,
    "start_time": "2021-12-20T14:05:24.581Z"
   },
   {
    "duration": 40,
    "start_time": "2021-12-20T14:05:24.624Z"
   },
   {
    "duration": 28,
    "start_time": "2021-12-20T14:05:24.667Z"
   },
   {
    "duration": 27,
    "start_time": "2021-12-20T14:05:24.699Z"
   },
   {
    "duration": 41,
    "start_time": "2021-12-20T14:05:24.729Z"
   },
   {
    "duration": 40,
    "start_time": "2021-12-20T14:05:24.772Z"
   },
   {
    "duration": 36,
    "start_time": "2021-12-20T14:05:24.814Z"
   },
   {
    "duration": 34,
    "start_time": "2021-12-20T14:05:24.853Z"
   },
   {
    "duration": 30,
    "start_time": "2021-12-20T14:05:24.889Z"
   },
   {
    "duration": 39,
    "start_time": "2021-12-20T14:05:24.921Z"
   },
   {
    "duration": 51,
    "start_time": "2021-12-20T14:05:24.962Z"
   },
   {
    "duration": 18,
    "start_time": "2021-12-20T14:05:25.016Z"
   },
   {
    "duration": 44,
    "start_time": "2021-12-20T14:05:25.037Z"
   },
   {
    "duration": 21,
    "start_time": "2021-12-20T14:05:25.084Z"
   },
   {
    "duration": 343,
    "start_time": "2021-12-20T14:05:25.108Z"
   },
   {
    "duration": 11,
    "start_time": "2021-12-20T14:05:25.453Z"
   },
   {
    "duration": 25,
    "start_time": "2021-12-20T14:05:25.467Z"
   },
   {
    "duration": 29,
    "start_time": "2021-12-20T14:05:25.494Z"
   },
   {
    "duration": 37,
    "start_time": "2021-12-20T14:05:25.529Z"
   },
   {
    "duration": 30,
    "start_time": "2021-12-20T14:05:25.569Z"
   },
   {
    "duration": 33,
    "start_time": "2021-12-20T14:05:25.602Z"
   },
   {
    "duration": 60,
    "start_time": "2021-12-20T14:05:25.638Z"
   },
   {
    "duration": 32,
    "start_time": "2021-12-20T14:05:25.702Z"
   },
   {
    "duration": 568,
    "start_time": "2021-12-20T14:05:25.737Z"
   },
   {
    "duration": 18,
    "start_time": "2021-12-20T14:05:26.308Z"
   },
   {
    "duration": 58,
    "start_time": "2021-12-20T14:05:26.329Z"
   },
   {
    "duration": 9,
    "start_time": "2021-12-20T14:05:26.389Z"
   },
   {
    "duration": 28,
    "start_time": "2021-12-20T14:05:26.400Z"
   },
   {
    "duration": 261,
    "start_time": "2021-12-20T14:05:26.430Z"
   },
   {
    "duration": 1319,
    "start_time": "2021-12-20T14:05:26.694Z"
   },
   {
    "duration": 1064,
    "start_time": "2021-12-20T14:05:28.016Z"
   },
   {
    "duration": 20,
    "start_time": "2021-12-20T14:05:29.083Z"
   },
   {
    "duration": 64,
    "start_time": "2021-12-20T14:05:29.105Z"
   },
   {
    "duration": 683,
    "start_time": "2021-12-20T14:05:29.171Z"
   },
   {
    "duration": 744,
    "start_time": "2021-12-20T14:05:29.857Z"
   },
   {
    "duration": 1185,
    "start_time": "2021-12-20T14:05:30.603Z"
   },
   {
    "duration": 6034,
    "start_time": "2021-12-20T14:05:31.791Z"
   },
   {
    "duration": 54,
    "start_time": "2021-12-20T14:05:37.828Z"
   },
   {
    "duration": 34,
    "start_time": "2021-12-20T14:05:37.885Z"
   },
   {
    "duration": 46,
    "start_time": "2021-12-20T14:05:37.921Z"
   },
   {
    "duration": 31,
    "start_time": "2021-12-20T14:05:37.969Z"
   },
   {
    "duration": 32,
    "start_time": "2021-12-20T14:05:38.002Z"
   },
   {
    "duration": 35,
    "start_time": "2021-12-20T14:05:38.036Z"
   },
   {
    "duration": 44,
    "start_time": "2021-12-20T14:05:38.074Z"
   },
   {
    "duration": 121,
    "start_time": "2021-12-20T14:05:38.121Z"
   },
   {
    "duration": 19,
    "start_time": "2021-12-20T14:05:38.245Z"
   },
   {
    "duration": 23,
    "start_time": "2021-12-20T14:05:38.267Z"
   },
   {
    "duration": 16,
    "start_time": "2021-12-20T14:05:38.293Z"
   },
   {
    "duration": 422,
    "start_time": "2021-12-20T14:05:38.312Z"
   },
   {
    "duration": 522,
    "start_time": "2021-12-20T14:05:38.737Z"
   },
   {
    "duration": 295,
    "start_time": "2021-12-20T14:05:39.263Z"
   },
   {
    "duration": 281,
    "start_time": "2021-12-20T14:05:39.560Z"
   },
   {
    "duration": 17,
    "start_time": "2021-12-20T14:05:39.855Z"
   },
   {
    "duration": 23,
    "start_time": "2021-12-20T14:05:39.875Z"
   },
   {
    "duration": 405,
    "start_time": "2021-12-20T14:06:21.659Z"
   },
   {
    "duration": 430,
    "start_time": "2021-12-20T14:11:22.468Z"
   },
   {
    "duration": 383,
    "start_time": "2021-12-20T14:11:35.944Z"
   },
   {
    "duration": 358,
    "start_time": "2021-12-20T14:11:57.705Z"
   },
   {
    "duration": 513,
    "start_time": "2021-12-20T14:12:19.057Z"
   },
   {
    "duration": 560,
    "start_time": "2021-12-20T14:13:27.302Z"
   },
   {
    "duration": 489,
    "start_time": "2021-12-20T14:14:04.620Z"
   },
   {
    "duration": 610,
    "start_time": "2021-12-20T14:14:58.933Z"
   },
   {
    "duration": 7,
    "start_time": "2021-12-20T14:15:51.981Z"
   },
   {
    "duration": 15,
    "start_time": "2021-12-20T14:15:54.677Z"
   },
   {
    "duration": 18,
    "start_time": "2021-12-20T14:15:55.245Z"
   },
   {
    "duration": 17,
    "start_time": "2021-12-20T14:16:05.429Z"
   },
   {
    "duration": 1578,
    "start_time": "2021-12-20T14:16:26.351Z"
   },
   {
    "duration": 67,
    "start_time": "2021-12-20T14:16:27.932Z"
   },
   {
    "duration": 14,
    "start_time": "2021-12-20T14:16:28.003Z"
   },
   {
    "duration": 5,
    "start_time": "2021-12-20T14:16:28.020Z"
   },
   {
    "duration": 57,
    "start_time": "2021-12-20T14:16:28.029Z"
   },
   {
    "duration": 50,
    "start_time": "2021-12-20T14:16:28.103Z"
   },
   {
    "duration": 75,
    "start_time": "2021-12-20T14:16:28.167Z"
   },
   {
    "duration": 27,
    "start_time": "2021-12-20T14:16:28.267Z"
   },
   {
    "duration": 58,
    "start_time": "2021-12-20T14:16:28.312Z"
   },
   {
    "duration": 74,
    "start_time": "2021-12-20T14:16:28.372Z"
   },
   {
    "duration": 41,
    "start_time": "2021-12-20T14:16:28.449Z"
   },
   {
    "duration": 40,
    "start_time": "2021-12-20T14:16:28.493Z"
   },
   {
    "duration": 38,
    "start_time": "2021-12-20T14:16:28.536Z"
   },
   {
    "duration": 43,
    "start_time": "2021-12-20T14:16:28.591Z"
   },
   {
    "duration": 93,
    "start_time": "2021-12-20T14:16:28.637Z"
   },
   {
    "duration": 37,
    "start_time": "2021-12-20T14:16:28.733Z"
   },
   {
    "duration": 50,
    "start_time": "2021-12-20T14:16:28.773Z"
   },
   {
    "duration": 32,
    "start_time": "2021-12-20T14:16:28.826Z"
   },
   {
    "duration": 523,
    "start_time": "2021-12-20T14:16:28.861Z"
   },
   {
    "duration": 17,
    "start_time": "2021-12-20T14:16:29.388Z"
   },
   {
    "duration": 13,
    "start_time": "2021-12-20T14:16:29.414Z"
   },
   {
    "duration": 11,
    "start_time": "2021-12-20T14:16:29.430Z"
   },
   {
    "duration": 10,
    "start_time": "2021-12-20T14:16:29.465Z"
   },
   {
    "duration": 37,
    "start_time": "2021-12-20T14:16:29.480Z"
   },
   {
    "duration": 46,
    "start_time": "2021-12-20T14:16:29.520Z"
   },
   {
    "duration": 22,
    "start_time": "2021-12-20T14:16:29.568Z"
   },
   {
    "duration": 19,
    "start_time": "2021-12-20T14:16:29.593Z"
   },
   {
    "duration": 65,
    "start_time": "2021-12-20T14:16:29.615Z"
   },
   {
    "duration": 924,
    "start_time": "2021-12-20T14:16:29.683Z"
   },
   {
    "duration": 11,
    "start_time": "2021-12-20T14:16:30.610Z"
   },
   {
    "duration": 56,
    "start_time": "2021-12-20T14:16:30.624Z"
   },
   {
    "duration": 13,
    "start_time": "2021-12-20T14:16:30.684Z"
   },
   {
    "duration": 13,
    "start_time": "2021-12-20T14:16:30.701Z"
   },
   {
    "duration": 858,
    "start_time": "2021-12-20T14:16:30.717Z"
   },
   {
    "duration": 2751,
    "start_time": "2021-12-20T14:16:31.579Z"
   },
   {
    "duration": 1797,
    "start_time": "2021-12-20T14:16:34.334Z"
   },
   {
    "duration": 37,
    "start_time": "2021-12-20T14:16:36.134Z"
   },
   {
    "duration": 49,
    "start_time": "2021-12-20T14:16:36.173Z"
   },
   {
    "duration": 792,
    "start_time": "2021-12-20T14:16:36.225Z"
   },
   {
    "duration": 678,
    "start_time": "2021-12-20T14:16:37.020Z"
   },
   {
    "duration": 2311,
    "start_time": "2021-12-20T14:16:37.702Z"
   },
   {
    "duration": 18150,
    "start_time": "2021-12-20T14:16:40.016Z"
   },
   {
    "duration": 150,
    "start_time": "2021-12-20T14:16:58.169Z"
   },
   {
    "duration": 132,
    "start_time": "2021-12-20T14:16:58.321Z"
   },
   {
    "duration": 21,
    "start_time": "2021-12-20T14:16:58.463Z"
   },
   {
    "duration": 9,
    "start_time": "2021-12-20T14:16:58.487Z"
   },
   {
    "duration": 10,
    "start_time": "2021-12-20T14:16:58.499Z"
   },
   {
    "duration": 53,
    "start_time": "2021-12-20T14:16:58.512Z"
   },
   {
    "duration": 10,
    "start_time": "2021-12-20T14:16:58.568Z"
   },
   {
    "duration": 9,
    "start_time": "2021-12-20T14:16:58.580Z"
   },
   {
    "duration": 10,
    "start_time": "2021-12-20T14:16:58.591Z"
   },
   {
    "duration": 9,
    "start_time": "2021-12-20T14:16:58.603Z"
   },
   {
    "duration": 54,
    "start_time": "2021-12-20T14:16:58.614Z"
   },
   {
    "duration": 351,
    "start_time": "2021-12-20T14:16:58.671Z"
   },
   {
    "duration": 458,
    "start_time": "2021-12-20T14:16:59.024Z"
   },
   {
    "duration": 339,
    "start_time": "2021-12-20T14:16:59.486Z"
   },
   {
    "duration": 316,
    "start_time": "2021-12-20T14:16:59.828Z"
   },
   {
    "duration": 29,
    "start_time": "2021-12-20T14:17:00.146Z"
   },
   {
    "duration": 20,
    "start_time": "2021-12-20T14:17:00.178Z"
   },
   {
    "duration": 9,
    "start_time": "2021-12-20T14:18:35.753Z"
   },
   {
    "duration": 22,
    "start_time": "2021-12-20T14:19:27.214Z"
   },
   {
    "duration": 698,
    "start_time": "2021-12-20T14:21:58.718Z"
   },
   {
    "duration": 44,
    "start_time": "2021-12-20T14:24:55.901Z"
   },
   {
    "duration": 9,
    "start_time": "2021-12-20T14:25:05.047Z"
   },
   {
    "duration": 9,
    "start_time": "2021-12-20T14:25:09.748Z"
   },
   {
    "duration": 234,
    "start_time": "2021-12-20T14:25:28.989Z"
   },
   {
    "duration": 1268,
    "start_time": "2021-12-20T14:25:39.069Z"
   },
   {
    "duration": 1062,
    "start_time": "2021-12-20T14:25:52.521Z"
   },
   {
    "duration": 24,
    "start_time": "2021-12-20T14:26:05.170Z"
   },
   {
    "duration": 47,
    "start_time": "2021-12-20T14:26:12.009Z"
   },
   {
    "duration": 1257,
    "start_time": "2021-12-20T14:26:37.080Z"
   },
   {
    "duration": 6552,
    "start_time": "2021-12-20T14:26:47.399Z"
   },
   {
    "duration": 48,
    "start_time": "2021-12-20T14:26:55.630Z"
   },
   {
    "duration": 50,
    "start_time": "2021-12-20T14:27:05.158Z"
   },
   {
    "duration": 38,
    "start_time": "2021-12-20T14:27:32.285Z"
   },
   {
    "duration": 34,
    "start_time": "2021-12-20T14:27:41.593Z"
   },
   {
    "duration": 22,
    "start_time": "2021-12-20T14:27:52.349Z"
   },
   {
    "duration": 10,
    "start_time": "2021-12-20T14:28:00.712Z"
   },
   {
    "duration": 12,
    "start_time": "2021-12-20T14:28:07.112Z"
   },
   {
    "duration": 14,
    "start_time": "2021-12-20T14:28:13.593Z"
   },
   {
    "duration": 10,
    "start_time": "2021-12-20T14:28:17.458Z"
   },
   {
    "duration": 13,
    "start_time": "2021-12-20T14:28:23.297Z"
   },
   {
    "duration": 11,
    "start_time": "2021-12-20T14:28:28.174Z"
   },
   {
    "duration": 9,
    "start_time": "2021-12-20T14:28:35.601Z"
   },
   {
    "duration": 10,
    "start_time": "2021-12-20T14:28:39.872Z"
   },
   {
    "duration": 273,
    "start_time": "2021-12-20T14:28:47.152Z"
   },
   {
    "duration": 278,
    "start_time": "2021-12-20T14:28:55.546Z"
   },
   {
    "duration": 313,
    "start_time": "2021-12-20T14:29:02.922Z"
   },
   {
    "duration": 440,
    "start_time": "2021-12-20T14:29:06.586Z"
   },
   {
    "duration": 15,
    "start_time": "2021-12-20T14:29:32.197Z"
   },
   {
    "duration": 25,
    "start_time": "2021-12-20T14:29:55.524Z"
   },
   {
    "duration": 22,
    "start_time": "2021-12-20T14:32:08.647Z"
   },
   {
    "duration": 19,
    "start_time": "2021-12-20T14:32:13.421Z"
   },
   {
    "duration": 21,
    "start_time": "2021-12-20T14:32:13.988Z"
   },
   {
    "duration": 22,
    "start_time": "2021-12-20T14:32:14.604Z"
   },
   {
    "duration": 669,
    "start_time": "2021-12-20T14:32:15.445Z"
   },
   {
    "duration": 658,
    "start_time": "2021-12-20T14:34:13.375Z"
   },
   {
    "duration": 952,
    "start_time": "2021-12-20T14:36:21.686Z"
   },
   {
    "duration": 650,
    "start_time": "2021-12-20T14:36:30.715Z"
   },
   {
    "duration": 666,
    "start_time": "2021-12-20T14:36:50.107Z"
   },
   {
    "duration": 635,
    "start_time": "2021-12-20T14:36:56.812Z"
   },
   {
    "duration": 1263,
    "start_time": "2021-12-20T14:38:44.632Z"
   },
   {
    "duration": 942,
    "start_time": "2021-12-20T14:39:23.795Z"
   },
   {
    "duration": 731,
    "start_time": "2021-12-20T14:39:40.071Z"
   },
   {
    "duration": 876,
    "start_time": "2021-12-20T14:40:36.346Z"
   },
   {
    "duration": 199,
    "start_time": "2021-12-20T14:43:05.942Z"
   },
   {
    "duration": 21,
    "start_time": "2021-12-20T14:43:30.940Z"
   },
   {
    "duration": 23,
    "start_time": "2021-12-20T14:45:05.801Z"
   },
   {
    "duration": 24,
    "start_time": "2021-12-20T14:45:06.791Z"
   },
   {
    "duration": 21,
    "start_time": "2021-12-20T14:45:07.534Z"
   },
   {
    "duration": 19,
    "start_time": "2021-12-20T14:45:08.335Z"
   },
   {
    "duration": 23,
    "start_time": "2021-12-20T14:45:09.194Z"
   },
   {
    "duration": 885,
    "start_time": "2021-12-20T14:46:08.001Z"
   },
   {
    "duration": 1055,
    "start_time": "2021-12-20T14:46:28.193Z"
   },
   {
    "duration": 940,
    "start_time": "2021-12-20T14:47:13.730Z"
   },
   {
    "duration": 2021,
    "start_time": "2021-12-20T14:47:23.133Z"
   },
   {
    "duration": 95,
    "start_time": "2021-12-20T14:47:25.158Z"
   },
   {
    "duration": 21,
    "start_time": "2021-12-20T14:47:25.265Z"
   },
   {
    "duration": 6,
    "start_time": "2021-12-20T14:47:25.290Z"
   },
   {
    "duration": 11,
    "start_time": "2021-12-20T14:47:25.299Z"
   },
   {
    "duration": 7,
    "start_time": "2021-12-20T14:47:25.313Z"
   },
   {
    "duration": 19,
    "start_time": "2021-12-20T14:47:25.362Z"
   },
   {
    "duration": 12,
    "start_time": "2021-12-20T14:47:25.385Z"
   },
   {
    "duration": 26,
    "start_time": "2021-12-20T14:47:25.400Z"
   },
   {
    "duration": 51,
    "start_time": "2021-12-20T14:47:25.429Z"
   },
   {
    "duration": 19,
    "start_time": "2021-12-20T14:47:25.484Z"
   },
   {
    "duration": 18,
    "start_time": "2021-12-20T14:47:25.506Z"
   },
   {
    "duration": 44,
    "start_time": "2021-12-20T14:47:25.527Z"
   },
   {
    "duration": 7,
    "start_time": "2021-12-20T14:47:25.574Z"
   },
   {
    "duration": 27,
    "start_time": "2021-12-20T14:47:25.583Z"
   },
   {
    "duration": 51,
    "start_time": "2021-12-20T14:47:25.613Z"
   },
   {
    "duration": 21,
    "start_time": "2021-12-20T14:47:25.666Z"
   },
   {
    "duration": 13,
    "start_time": "2021-12-20T14:47:25.690Z"
   },
   {
    "duration": 344,
    "start_time": "2021-12-20T14:47:25.706Z"
   },
   {
    "duration": 10,
    "start_time": "2021-12-20T14:47:26.053Z"
   },
   {
    "duration": 31,
    "start_time": "2021-12-20T14:47:26.066Z"
   },
   {
    "duration": 15,
    "start_time": "2021-12-20T14:47:26.099Z"
   },
   {
    "duration": 8,
    "start_time": "2021-12-20T14:47:26.120Z"
   },
   {
    "duration": 29,
    "start_time": "2021-12-20T14:47:26.131Z"
   },
   {
    "duration": 32,
    "start_time": "2021-12-20T14:47:26.164Z"
   },
   {
    "duration": 30,
    "start_time": "2021-12-20T14:47:26.199Z"
   },
   {
    "duration": 53,
    "start_time": "2021-12-20T14:47:26.233Z"
   },
   {
    "duration": 30,
    "start_time": "2021-12-20T14:47:26.289Z"
   },
   {
    "duration": 709,
    "start_time": "2021-12-20T14:47:26.322Z"
   },
   {
    "duration": 8,
    "start_time": "2021-12-20T14:47:27.033Z"
   },
   {
    "duration": 48,
    "start_time": "2021-12-20T14:47:27.043Z"
   },
   {
    "duration": 9,
    "start_time": "2021-12-20T14:47:27.094Z"
   },
   {
    "duration": 10,
    "start_time": "2021-12-20T14:47:27.106Z"
   },
   {
    "duration": 304,
    "start_time": "2021-12-20T14:47:27.120Z"
   },
   {
    "duration": 1046,
    "start_time": "2021-12-20T14:47:27.427Z"
   },
   {
    "duration": -1253,
    "start_time": "2021-12-20T14:47:29.728Z"
   },
   {
    "duration": -1272,
    "start_time": "2021-12-20T14:47:29.748Z"
   },
   {
    "duration": -1293,
    "start_time": "2021-12-20T14:47:29.770Z"
   },
   {
    "duration": -1334,
    "start_time": "2021-12-20T14:47:29.813Z"
   },
   {
    "duration": -1357,
    "start_time": "2021-12-20T14:47:29.837Z"
   },
   {
    "duration": -1382,
    "start_time": "2021-12-20T14:47:29.863Z"
   },
   {
    "duration": -1403,
    "start_time": "2021-12-20T14:47:29.885Z"
   },
   {
    "duration": -1418,
    "start_time": "2021-12-20T14:47:29.901Z"
   },
   {
    "duration": -1427,
    "start_time": "2021-12-20T14:47:29.912Z"
   },
   {
    "duration": -1436,
    "start_time": "2021-12-20T14:47:29.922Z"
   },
   {
    "duration": -1445,
    "start_time": "2021-12-20T14:47:29.933Z"
   },
   {
    "duration": -1453,
    "start_time": "2021-12-20T14:47:29.942Z"
   },
   {
    "duration": -1463,
    "start_time": "2021-12-20T14:47:29.953Z"
   },
   {
    "duration": -1472,
    "start_time": "2021-12-20T14:47:29.963Z"
   },
   {
    "duration": -1494,
    "start_time": "2021-12-20T14:47:29.987Z"
   },
   {
    "duration": -1525,
    "start_time": "2021-12-20T14:47:30.019Z"
   },
   {
    "duration": -1569,
    "start_time": "2021-12-20T14:47:30.064Z"
   },
   {
    "duration": -1649,
    "start_time": "2021-12-20T14:47:30.145Z"
   },
   {
    "duration": -1663,
    "start_time": "2021-12-20T14:47:30.161Z"
   },
   {
    "duration": -1674,
    "start_time": "2021-12-20T14:47:30.173Z"
   },
   {
    "duration": -1684,
    "start_time": "2021-12-20T14:47:30.184Z"
   },
   {
    "duration": -1693,
    "start_time": "2021-12-20T14:47:30.194Z"
   },
   {
    "duration": -1703,
    "start_time": "2021-12-20T14:47:30.205Z"
   },
   {
    "duration": -1713,
    "start_time": "2021-12-20T14:47:30.217Z"
   },
   {
    "duration": 1265,
    "start_time": "2021-12-20T14:47:54.892Z"
   },
   {
    "duration": 10,
    "start_time": "2021-12-20T14:53:27.131Z"
   },
   {
    "duration": 37,
    "start_time": "2021-12-20T14:55:11.228Z"
   },
   {
    "duration": 23,
    "start_time": "2021-12-20T14:55:31.949Z"
   },
   {
    "duration": 111,
    "start_time": "2021-12-20T14:56:02.045Z"
   },
   {
    "duration": 34,
    "start_time": "2021-12-20T14:56:24.359Z"
   },
   {
    "duration": 25,
    "start_time": "2021-12-20T14:56:53.294Z"
   },
   {
    "duration": 24,
    "start_time": "2021-12-20T14:57:43.765Z"
   },
   {
    "duration": 37,
    "start_time": "2021-12-20T15:00:40.576Z"
   },
   {
    "duration": 34,
    "start_time": "2021-12-20T15:01:35.237Z"
   },
   {
    "duration": 36,
    "start_time": "2021-12-20T15:02:08.311Z"
   },
   {
    "duration": 26,
    "start_time": "2021-12-20T15:05:16.032Z"
   },
   {
    "duration": 8,
    "start_time": "2021-12-20T15:08:56.327Z"
   },
   {
    "duration": 1754,
    "start_time": "2021-12-20T15:10:50.612Z"
   },
   {
    "duration": 69,
    "start_time": "2021-12-20T15:10:52.369Z"
   },
   {
    "duration": 26,
    "start_time": "2021-12-20T15:10:52.443Z"
   },
   {
    "duration": 7,
    "start_time": "2021-12-20T15:10:52.472Z"
   },
   {
    "duration": 4,
    "start_time": "2021-12-20T15:10:52.482Z"
   },
   {
    "duration": 7,
    "start_time": "2021-12-20T15:10:52.489Z"
   },
   {
    "duration": 17,
    "start_time": "2021-12-20T15:10:52.499Z"
   },
   {
    "duration": 48,
    "start_time": "2021-12-20T15:10:52.521Z"
   },
   {
    "duration": 18,
    "start_time": "2021-12-20T15:10:52.573Z"
   },
   {
    "duration": 27,
    "start_time": "2021-12-20T15:10:52.594Z"
   },
   {
    "duration": 17,
    "start_time": "2021-12-20T15:10:52.663Z"
   },
   {
    "duration": 17,
    "start_time": "2021-12-20T15:10:52.684Z"
   },
   {
    "duration": 10,
    "start_time": "2021-12-20T15:10:52.704Z"
   },
   {
    "duration": 8,
    "start_time": "2021-12-20T15:10:52.718Z"
   },
   {
    "duration": 28,
    "start_time": "2021-12-20T15:10:52.763Z"
   },
   {
    "duration": 34,
    "start_time": "2021-12-20T15:10:52.794Z"
   },
   {
    "duration": 40,
    "start_time": "2021-12-20T15:10:52.831Z"
   },
   {
    "duration": 12,
    "start_time": "2021-12-20T15:10:52.874Z"
   },
   {
    "duration": 531,
    "start_time": "2021-12-20T15:10:52.888Z"
   },
   {
    "duration": 8,
    "start_time": "2021-12-20T15:10:53.422Z"
   },
   {
    "duration": 9,
    "start_time": "2021-12-20T15:10:53.433Z"
   },
   {
    "duration": 12,
    "start_time": "2021-12-20T15:10:53.464Z"
   },
   {
    "duration": 11,
    "start_time": "2021-12-20T15:10:53.485Z"
   },
   {
    "duration": 65,
    "start_time": "2021-12-20T15:10:53.501Z"
   },
   {
    "duration": 30,
    "start_time": "2021-12-20T15:10:53.569Z"
   },
   {
    "duration": 26,
    "start_time": "2021-12-20T15:10:53.602Z"
   },
   {
    "duration": 57,
    "start_time": "2021-12-20T15:10:53.631Z"
   },
   {
    "duration": 29,
    "start_time": "2021-12-20T15:10:53.691Z"
   },
   {
    "duration": 871,
    "start_time": "2021-12-20T15:10:53.723Z"
   },
   {
    "duration": 33,
    "start_time": "2021-12-20T15:10:54.598Z"
   },
   {
    "duration": 34,
    "start_time": "2021-12-20T15:10:54.635Z"
   },
   {
    "duration": 41,
    "start_time": "2021-12-20T15:10:54.673Z"
   },
   {
    "duration": 45,
    "start_time": "2021-12-20T15:10:54.718Z"
   },
   {
    "duration": 33,
    "start_time": "2021-12-20T15:10:54.766Z"
   },
   {
    "duration": 263,
    "start_time": "2021-12-20T15:10:54.802Z"
   },
   {
    "duration": 1309,
    "start_time": "2021-12-20T15:10:55.068Z"
   },
   {
    "duration": 1144,
    "start_time": "2021-12-20T15:10:56.381Z"
   },
   {
    "duration": 39,
    "start_time": "2021-12-20T15:10:57.529Z"
   },
   {
    "duration": 128,
    "start_time": "2021-12-20T15:10:57.571Z"
   },
   {
    "duration": 980,
    "start_time": "2021-12-20T15:10:57.703Z"
   },
   {
    "duration": 994,
    "start_time": "2021-12-20T15:10:58.687Z"
   },
   {
    "duration": 1760,
    "start_time": "2021-12-20T15:10:59.684Z"
   },
   {
    "duration": 7503,
    "start_time": "2021-12-20T15:11:01.447Z"
   },
   {
    "duration": 44,
    "start_time": "2021-12-20T15:11:08.953Z"
   },
   {
    "duration": 78,
    "start_time": "2021-12-20T15:11:09.000Z"
   },
   {
    "duration": 27,
    "start_time": "2021-12-20T15:11:09.081Z"
   },
   {
    "duration": 35,
    "start_time": "2021-12-20T15:11:09.111Z"
   },
   {
    "duration": 36,
    "start_time": "2021-12-20T15:11:09.149Z"
   },
   {
    "duration": 22,
    "start_time": "2021-12-20T15:11:09.188Z"
   },
   {
    "duration": 32,
    "start_time": "2021-12-20T15:11:09.214Z"
   },
   {
    "duration": 40,
    "start_time": "2021-12-20T15:11:09.249Z"
   },
   {
    "duration": 11,
    "start_time": "2021-12-20T15:11:09.292Z"
   },
   {
    "duration": 43,
    "start_time": "2021-12-20T15:11:09.311Z"
   },
   {
    "duration": 28,
    "start_time": "2021-12-20T15:11:09.358Z"
   },
   {
    "duration": 331,
    "start_time": "2021-12-20T15:11:09.389Z"
   },
   {
    "duration": 343,
    "start_time": "2021-12-20T15:11:09.723Z"
   },
   {
    "duration": 321,
    "start_time": "2021-12-20T15:11:10.071Z"
   },
   {
    "duration": 470,
    "start_time": "2021-12-20T15:11:10.395Z"
   },
   {
    "duration": 16,
    "start_time": "2021-12-20T15:11:10.868Z"
   },
   {
    "duration": 26,
    "start_time": "2021-12-20T15:11:10.887Z"
   },
   {
    "duration": 1392,
    "start_time": "2021-12-20T15:23:32.957Z"
   },
   {
    "duration": 1042,
    "start_time": "2021-12-20T15:23:54.320Z"
   },
   {
    "duration": 1059,
    "start_time": "2021-12-20T15:27:15.796Z"
   },
   {
    "duration": 1454,
    "start_time": "2021-12-20T15:31:50.665Z"
   },
   {
    "duration": 142,
    "start_time": "2021-12-20T16:04:53.576Z"
   },
   {
    "duration": 424,
    "start_time": "2021-12-20T16:05:22.270Z"
   },
   {
    "duration": 921,
    "start_time": "2021-12-20T16:06:07.501Z"
   },
   {
    "duration": 871,
    "start_time": "2021-12-20T16:06:40.639Z"
   },
   {
    "duration": 1071,
    "start_time": "2021-12-20T16:07:11.653Z"
   },
   {
    "duration": 851,
    "start_time": "2021-12-20T16:07:39.534Z"
   },
   {
    "duration": 465,
    "start_time": "2021-12-20T16:07:44.190Z"
   },
   {
    "duration": 389,
    "start_time": "2021-12-20T16:08:16.055Z"
   },
   {
    "duration": 395,
    "start_time": "2021-12-20T16:09:13.906Z"
   },
   {
    "duration": 398,
    "start_time": "2021-12-20T16:09:32.281Z"
   },
   {
    "duration": 9,
    "start_time": "2021-12-20T16:10:17.506Z"
   },
   {
    "duration": 284,
    "start_time": "2021-12-20T16:10:22.001Z"
   },
   {
    "duration": 98,
    "start_time": "2021-12-20T16:10:27.337Z"
   },
   {
    "duration": 295,
    "start_time": "2021-12-20T16:10:30.913Z"
   },
   {
    "duration": 11,
    "start_time": "2021-12-20T16:11:10.460Z"
   },
   {
    "duration": 253,
    "start_time": "2021-12-20T16:11:44.468Z"
   },
   {
    "duration": 402,
    "start_time": "2021-12-20T16:16:00.430Z"
   },
   {
    "duration": 525,
    "start_time": "2021-12-20T16:16:11.953Z"
   },
   {
    "duration": 416,
    "start_time": "2021-12-20T16:17:46.684Z"
   },
   {
    "duration": 109,
    "start_time": "2021-12-21T14:37:12.386Z"
   },
   {
    "duration": 390,
    "start_time": "2021-12-21T14:48:06.696Z"
   },
   {
    "duration": 1183,
    "start_time": "2021-12-21T14:48:28.400Z"
   },
   {
    "duration": 51,
    "start_time": "2021-12-21T14:48:29.584Z"
   },
   {
    "duration": 10,
    "start_time": "2021-12-21T14:48:29.637Z"
   },
   {
    "duration": 4,
    "start_time": "2021-12-21T14:48:29.649Z"
   },
   {
    "duration": 16,
    "start_time": "2021-12-21T14:48:29.655Z"
   },
   {
    "duration": 7,
    "start_time": "2021-12-21T14:48:29.672Z"
   },
   {
    "duration": 13,
    "start_time": "2021-12-21T14:48:29.680Z"
   },
   {
    "duration": 15,
    "start_time": "2021-12-21T14:48:29.695Z"
   },
   {
    "duration": 30,
    "start_time": "2021-12-21T14:48:29.712Z"
   },
   {
    "duration": 12,
    "start_time": "2021-12-21T14:48:29.743Z"
   },
   {
    "duration": 17,
    "start_time": "2021-12-21T14:48:29.756Z"
   },
   {
    "duration": 14,
    "start_time": "2021-12-21T14:48:29.775Z"
   },
   {
    "duration": 16,
    "start_time": "2021-12-21T14:48:29.791Z"
   },
   {
    "duration": 6,
    "start_time": "2021-12-21T14:48:29.809Z"
   },
   {
    "duration": 19,
    "start_time": "2021-12-21T14:48:29.816Z"
   },
   {
    "duration": 5,
    "start_time": "2021-12-21T14:48:29.836Z"
   },
   {
    "duration": 16,
    "start_time": "2021-12-21T14:48:29.842Z"
   },
   {
    "duration": 10,
    "start_time": "2021-12-21T14:48:29.860Z"
   },
   {
    "duration": 227,
    "start_time": "2021-12-21T14:48:29.872Z"
   },
   {
    "duration": 5,
    "start_time": "2021-12-21T14:48:30.101Z"
   },
   {
    "duration": 11,
    "start_time": "2021-12-21T14:48:30.108Z"
   },
   {
    "duration": 12,
    "start_time": "2021-12-21T14:48:30.121Z"
   },
   {
    "duration": 13,
    "start_time": "2021-12-21T14:48:30.138Z"
   },
   {
    "duration": 17,
    "start_time": "2021-12-21T14:48:30.154Z"
   },
   {
    "duration": 35,
    "start_time": "2021-12-21T14:48:30.173Z"
   },
   {
    "duration": 14,
    "start_time": "2021-12-21T14:48:30.210Z"
   },
   {
    "duration": 19,
    "start_time": "2021-12-21T14:48:30.227Z"
   },
   {
    "duration": 20,
    "start_time": "2021-12-21T14:48:30.248Z"
   },
   {
    "duration": 39,
    "start_time": "2021-12-21T14:48:30.269Z"
   },
   {
    "duration": 455,
    "start_time": "2021-12-21T14:48:30.309Z"
   },
   {
    "duration": 6,
    "start_time": "2021-12-21T14:48:30.766Z"
   },
   {
    "duration": 43,
    "start_time": "2021-12-21T14:48:30.774Z"
   },
   {
    "duration": 8,
    "start_time": "2021-12-21T14:48:30.819Z"
   },
   {
    "duration": 9,
    "start_time": "2021-12-21T14:48:30.829Z"
   },
   {
    "duration": 182,
    "start_time": "2021-12-21T14:48:30.839Z"
   },
   {
    "duration": 869,
    "start_time": "2021-12-21T14:48:31.023Z"
   },
   {
    "duration": 715,
    "start_time": "2021-12-21T14:48:31.894Z"
   },
   {
    "duration": 16,
    "start_time": "2021-12-21T14:48:32.611Z"
   },
   {
    "duration": 33,
    "start_time": "2021-12-21T14:48:32.629Z"
   },
   {
    "duration": 623,
    "start_time": "2021-12-21T14:48:32.664Z"
   },
   {
    "duration": 596,
    "start_time": "2021-12-21T14:48:33.289Z"
   },
   {
    "duration": 861,
    "start_time": "2021-12-21T14:48:33.888Z"
   },
   {
    "duration": 3963,
    "start_time": "2021-12-21T14:48:34.751Z"
   },
   {
    "duration": 26,
    "start_time": "2021-12-21T14:48:38.716Z"
   },
   {
    "duration": 25,
    "start_time": "2021-12-21T14:48:38.744Z"
   },
   {
    "duration": 45,
    "start_time": "2021-12-21T14:48:38.771Z"
   },
   {
    "duration": 7,
    "start_time": "2021-12-21T14:48:38.818Z"
   },
   {
    "duration": 202,
    "start_time": "2021-12-21T14:48:38.826Z"
   },
   {
    "duration": 6,
    "start_time": "2021-12-21T14:48:39.030Z"
   },
   {
    "duration": 7,
    "start_time": "2021-12-21T14:48:39.038Z"
   },
   {
    "duration": 6,
    "start_time": "2021-12-21T14:48:39.047Z"
   },
   {
    "duration": 6,
    "start_time": "2021-12-21T14:48:39.055Z"
   },
   {
    "duration": 7,
    "start_time": "2021-12-21T14:48:39.062Z"
   },
   {
    "duration": 38,
    "start_time": "2021-12-21T14:48:39.070Z"
   },
   {
    "duration": 7,
    "start_time": "2021-12-21T14:48:39.110Z"
   },
   {
    "duration": 180,
    "start_time": "2021-12-21T14:48:39.119Z"
   },
   {
    "duration": 170,
    "start_time": "2021-12-21T14:48:39.306Z"
   },
   {
    "duration": 165,
    "start_time": "2021-12-21T14:48:39.478Z"
   },
   {
    "duration": 164,
    "start_time": "2021-12-21T14:48:39.645Z"
   },
   {
    "duration": 10,
    "start_time": "2021-12-21T14:48:39.810Z"
   },
   {
    "duration": 29,
    "start_time": "2021-12-21T14:48:39.821Z"
   },
   {
    "duration": 111,
    "start_time": "2021-12-21T14:52:58.666Z"
   },
   {
    "duration": 8,
    "start_time": "2021-12-21T14:53:08.653Z"
   },
   {
    "duration": 8,
    "start_time": "2021-12-21T14:54:22.979Z"
   },
   {
    "duration": 7,
    "start_time": "2021-12-21T14:55:34.646Z"
   },
   {
    "duration": 8,
    "start_time": "2021-12-21T14:56:07.762Z"
   },
   {
    "duration": 9,
    "start_time": "2021-12-21T14:57:25.838Z"
   },
   {
    "duration": 137,
    "start_time": "2021-12-21T14:57:54.919Z"
   },
   {
    "duration": 108,
    "start_time": "2021-12-21T14:58:12.507Z"
   },
   {
    "duration": 9,
    "start_time": "2021-12-21T14:58:19.591Z"
   },
   {
    "duration": 9,
    "start_time": "2021-12-21T14:58:37.263Z"
   },
   {
    "duration": 9,
    "start_time": "2021-12-21T14:59:27.521Z"
   },
   {
    "duration": 923,
    "start_time": "2021-12-21T15:00:15.307Z"
   },
   {
    "duration": 9,
    "start_time": "2021-12-21T15:00:27.243Z"
   },
   {
    "duration": 10,
    "start_time": "2021-12-21T15:13:03.534Z"
   },
   {
    "duration": 9997,
    "start_time": "2021-12-21T15:13:43.376Z"
   },
   {
    "duration": 621,
    "start_time": "2021-12-21T15:14:03.676Z"
   },
   {
    "duration": 631,
    "start_time": "2021-12-21T15:14:16.001Z"
   },
   {
    "duration": 649,
    "start_time": "2021-12-21T15:14:21.128Z"
   },
   {
    "duration": 116,
    "start_time": "2021-12-21T15:15:25.462Z"
   },
   {
    "duration": 630,
    "start_time": "2021-12-21T15:15:57.978Z"
   },
   {
    "duration": 179,
    "start_time": "2021-12-21T15:16:15.240Z"
   },
   {
    "duration": 10,
    "start_time": "2021-12-21T15:16:54.515Z"
   },
   {
    "duration": 11,
    "start_time": "2021-12-21T15:17:04.826Z"
   },
   {
    "duration": 10,
    "start_time": "2021-12-21T15:22:21.586Z"
   },
   {
    "duration": 193,
    "start_time": "2021-12-21T15:22:25.911Z"
   },
   {
    "duration": 10,
    "start_time": "2021-12-21T15:23:16.808Z"
   },
   {
    "duration": 198,
    "start_time": "2021-12-21T15:24:05.691Z"
   },
   {
    "duration": 9,
    "start_time": "2021-12-21T15:25:49.819Z"
   },
   {
    "duration": 8,
    "start_time": "2021-12-21T15:27:02.151Z"
   },
   {
    "duration": 171,
    "start_time": "2021-12-21T15:27:42.590Z"
   },
   {
    "duration": 8,
    "start_time": "2021-12-21T15:31:13.939Z"
   },
   {
    "duration": 8,
    "start_time": "2021-12-21T15:31:36.308Z"
   },
   {
    "duration": 273,
    "start_time": "2021-12-21T15:32:13.588Z"
   },
   {
    "duration": 186,
    "start_time": "2021-12-21T15:32:29.443Z"
   },
   {
    "duration": 8,
    "start_time": "2021-12-21T15:40:31.771Z"
   },
   {
    "duration": 1164,
    "start_time": "2021-12-21T15:42:37.701Z"
   },
   {
    "duration": 49,
    "start_time": "2021-12-21T15:42:38.867Z"
   },
   {
    "duration": 11,
    "start_time": "2021-12-21T15:42:38.919Z"
   },
   {
    "duration": 14,
    "start_time": "2021-12-21T15:42:38.933Z"
   },
   {
    "duration": 21,
    "start_time": "2021-12-21T15:42:38.949Z"
   },
   {
    "duration": 19,
    "start_time": "2021-12-21T15:42:38.971Z"
   },
   {
    "duration": 22,
    "start_time": "2021-12-21T15:42:38.992Z"
   },
   {
    "duration": 29,
    "start_time": "2021-12-21T15:42:39.016Z"
   },
   {
    "duration": 18,
    "start_time": "2021-12-21T15:42:39.049Z"
   },
   {
    "duration": 21,
    "start_time": "2021-12-21T15:42:39.070Z"
   },
   {
    "duration": 16,
    "start_time": "2021-12-21T15:42:39.093Z"
   },
   {
    "duration": 20,
    "start_time": "2021-12-21T15:42:39.111Z"
   },
   {
    "duration": 15,
    "start_time": "2021-12-21T15:42:39.133Z"
   },
   {
    "duration": 10,
    "start_time": "2021-12-21T15:42:39.150Z"
   },
   {
    "duration": 25,
    "start_time": "2021-12-21T15:42:39.162Z"
   },
   {
    "duration": 6,
    "start_time": "2021-12-21T15:42:39.188Z"
   },
   {
    "duration": 19,
    "start_time": "2021-12-21T15:42:39.196Z"
   },
   {
    "duration": 19,
    "start_time": "2021-12-21T15:42:39.217Z"
   },
   {
    "duration": 199,
    "start_time": "2021-12-21T15:42:39.238Z"
   },
   {
    "duration": 5,
    "start_time": "2021-12-21T15:42:39.439Z"
   },
   {
    "duration": 8,
    "start_time": "2021-12-21T15:42:39.445Z"
   },
   {
    "duration": 5,
    "start_time": "2021-12-21T15:42:39.455Z"
   },
   {
    "duration": 7,
    "start_time": "2021-12-21T15:42:39.462Z"
   },
   {
    "duration": 38,
    "start_time": "2021-12-21T15:42:39.471Z"
   },
   {
    "duration": 16,
    "start_time": "2021-12-21T15:42:39.510Z"
   },
   {
    "duration": 15,
    "start_time": "2021-12-21T15:42:39.528Z"
   },
   {
    "duration": 14,
    "start_time": "2021-12-21T15:42:39.547Z"
   },
   {
    "duration": 44,
    "start_time": "2021-12-21T15:42:39.564Z"
   },
   {
    "duration": 17,
    "start_time": "2021-12-21T15:42:39.610Z"
   },
   {
    "duration": 440,
    "start_time": "2021-12-21T15:42:39.629Z"
   },
   {
    "duration": 5,
    "start_time": "2021-12-21T15:42:40.071Z"
   },
   {
    "duration": 33,
    "start_time": "2021-12-21T15:42:40.078Z"
   },
   {
    "duration": 8,
    "start_time": "2021-12-21T15:42:40.113Z"
   },
   {
    "duration": 8,
    "start_time": "2021-12-21T15:42:40.123Z"
   },
   {
    "duration": 177,
    "start_time": "2021-12-21T15:42:40.133Z"
   },
   {
    "duration": 1169,
    "start_time": "2021-12-21T15:42:40.312Z"
   },
   {
    "duration": 699,
    "start_time": "2021-12-21T15:42:41.483Z"
   },
   {
    "duration": 26,
    "start_time": "2021-12-21T15:42:42.185Z"
   },
   {
    "duration": 32,
    "start_time": "2021-12-21T15:42:42.213Z"
   },
   {
    "duration": 533,
    "start_time": "2021-12-21T15:42:42.247Z"
   },
   {
    "duration": 514,
    "start_time": "2021-12-21T15:42:42.782Z"
   },
   {
    "duration": 816,
    "start_time": "2021-12-21T15:42:43.298Z"
   },
   {
    "duration": 4318,
    "start_time": "2021-12-21T15:42:44.116Z"
   },
   {
    "duration": 26,
    "start_time": "2021-12-21T15:42:48.436Z"
   },
   {
    "duration": 47,
    "start_time": "2021-12-21T15:42:48.464Z"
   },
   {
    "duration": 14,
    "start_time": "2021-12-21T15:42:48.513Z"
   },
   {
    "duration": 21,
    "start_time": "2021-12-21T15:42:48.529Z"
   },
   {
    "duration": 186,
    "start_time": "2021-12-21T15:42:48.552Z"
   },
   {
    "duration": 8,
    "start_time": "2021-12-21T15:42:48.740Z"
   },
   {
    "duration": 193,
    "start_time": "2021-12-21T15:42:48.749Z"
   },
   {
    "duration": 8,
    "start_time": "2021-12-21T15:42:48.943Z"
   },
   {
    "duration": 186,
    "start_time": "2021-12-21T15:42:48.953Z"
   },
   {
    "duration": 7,
    "start_time": "2021-12-21T15:42:49.141Z"
   },
   {
    "duration": 200,
    "start_time": "2021-12-21T15:42:49.150Z"
   },
   {
    "duration": 7,
    "start_time": "2021-12-21T15:42:49.351Z"
   },
   {
    "duration": 8,
    "start_time": "2021-12-21T15:42:49.359Z"
   },
   {
    "duration": 6,
    "start_time": "2021-12-21T15:42:49.369Z"
   },
   {
    "duration": 32,
    "start_time": "2021-12-21T15:42:49.376Z"
   },
   {
    "duration": 176,
    "start_time": "2021-12-21T15:42:49.410Z"
   },
   {
    "duration": 181,
    "start_time": "2021-12-21T15:42:49.588Z"
   },
   {
    "duration": 171,
    "start_time": "2021-12-21T15:42:49.771Z"
   },
   {
    "duration": 164,
    "start_time": "2021-12-21T15:42:49.944Z"
   },
   {
    "duration": 11,
    "start_time": "2021-12-21T15:42:50.110Z"
   },
   {
    "duration": 15,
    "start_time": "2021-12-21T15:42:50.123Z"
   },
   {
    "duration": 114,
    "start_time": "2021-12-21T15:52:12.374Z"
   },
   {
    "duration": 513,
    "start_time": "2021-12-21T15:52:49.140Z"
   },
   {
    "duration": 126,
    "start_time": "2021-12-21T15:52:59.930Z"
   },
   {
    "duration": 597,
    "start_time": "2021-12-21T15:53:08.083Z"
   },
   {
    "duration": 737,
    "start_time": "2021-12-21T15:54:31.733Z"
   },
   {
    "duration": 22,
    "start_time": "2021-12-21T15:55:02.181Z"
   },
   {
    "duration": 352,
    "start_time": "2021-12-21T15:55:53.343Z"
   },
   {
    "duration": 379,
    "start_time": "2021-12-21T15:55:59.454Z"
   },
   {
    "duration": 374,
    "start_time": "2021-12-21T15:56:02.854Z"
   },
   {
    "duration": 372,
    "start_time": "2021-12-21T15:56:32.833Z"
   },
   {
    "duration": 23,
    "start_time": "2021-12-21T15:56:43.463Z"
   },
   {
    "duration": 22,
    "start_time": "2021-12-21T15:57:30.634Z"
   },
   {
    "duration": 21,
    "start_time": "2021-12-21T15:57:54.827Z"
   },
   {
    "duration": 112,
    "start_time": "2021-12-21T15:58:50.363Z"
   },
   {
    "duration": 411,
    "start_time": "2021-12-21T15:59:00.058Z"
   },
   {
    "duration": 21,
    "start_time": "2021-12-21T15:59:45.963Z"
   },
   {
    "duration": 359,
    "start_time": "2021-12-21T16:00:19.084Z"
   },
   {
    "duration": 362,
    "start_time": "2021-12-21T16:00:55.933Z"
   },
   {
    "duration": 364,
    "start_time": "2021-12-21T16:01:06.438Z"
   },
   {
    "duration": 351,
    "start_time": "2021-12-21T16:01:11.949Z"
   },
   {
    "duration": 28,
    "start_time": "2021-12-21T16:01:21.165Z"
   },
   {
    "duration": 360,
    "start_time": "2021-12-21T16:03:26.560Z"
   },
   {
    "duration": 8858,
    "start_time": "2021-12-21T16:03:50.792Z"
   },
   {
    "duration": 368,
    "start_time": "2021-12-21T16:04:03.873Z"
   },
   {
    "duration": 357,
    "start_time": "2021-12-21T16:04:19.089Z"
   },
   {
    "duration": 118,
    "start_time": "2021-12-21T16:04:28.032Z"
   },
   {
    "duration": 20,
    "start_time": "2021-12-21T16:04:34.848Z"
   },
   {
    "duration": 15,
    "start_time": "2021-12-21T16:05:17.852Z"
   },
   {
    "duration": 367,
    "start_time": "2021-12-21T16:06:03.869Z"
   },
   {
    "duration": 15,
    "start_time": "2021-12-21T16:06:16.819Z"
   },
   {
    "duration": 16,
    "start_time": "2021-12-21T16:06:25.773Z"
   },
   {
    "duration": 210,
    "start_time": "2021-12-21T16:06:56.822Z"
   },
   {
    "duration": 250,
    "start_time": "2021-12-21T16:07:50.902Z"
   },
   {
    "duration": 276,
    "start_time": "2021-12-21T16:08:05.350Z"
   },
   {
    "duration": 331,
    "start_time": "2021-12-21T16:08:17.169Z"
   },
   {
    "duration": 393,
    "start_time": "2021-12-21T16:08:24.646Z"
   },
   {
    "duration": 283,
    "start_time": "2021-12-21T16:08:34.126Z"
   },
   {
    "duration": 282,
    "start_time": "2021-12-21T16:08:40.814Z"
   },
   {
    "duration": 371,
    "start_time": "2021-12-21T16:09:54.944Z"
   },
   {
    "duration": 327,
    "start_time": "2021-12-21T16:12:27.397Z"
   },
   {
    "duration": 316,
    "start_time": "2021-12-21T16:19:44.895Z"
   },
   {
    "duration": 330,
    "start_time": "2021-12-21T16:20:27.094Z"
   },
   {
    "duration": 1274,
    "start_time": "2021-12-22T08:02:46.145Z"
   },
   {
    "duration": 51,
    "start_time": "2021-12-22T08:02:47.421Z"
   },
   {
    "duration": 12,
    "start_time": "2021-12-22T08:02:47.474Z"
   },
   {
    "duration": 7,
    "start_time": "2021-12-22T08:02:47.488Z"
   },
   {
    "duration": 7,
    "start_time": "2021-12-22T08:02:47.496Z"
   },
   {
    "duration": 8,
    "start_time": "2021-12-22T08:02:47.505Z"
   },
   {
    "duration": 20,
    "start_time": "2021-12-22T08:02:47.515Z"
   },
   {
    "duration": 8,
    "start_time": "2021-12-22T08:02:47.537Z"
   },
   {
    "duration": 12,
    "start_time": "2021-12-22T08:02:47.562Z"
   },
   {
    "duration": 12,
    "start_time": "2021-12-22T08:02:47.576Z"
   },
   {
    "duration": 10,
    "start_time": "2021-12-22T08:02:47.590Z"
   },
   {
    "duration": 13,
    "start_time": "2021-12-22T08:02:47.602Z"
   },
   {
    "duration": 44,
    "start_time": "2021-12-22T08:02:47.617Z"
   },
   {
    "duration": 7,
    "start_time": "2021-12-22T08:02:47.663Z"
   },
   {
    "duration": 19,
    "start_time": "2021-12-22T08:02:47.672Z"
   },
   {
    "duration": 5,
    "start_time": "2021-12-22T08:02:47.693Z"
   },
   {
    "duration": 31,
    "start_time": "2021-12-22T08:02:47.700Z"
   },
   {
    "duration": 33,
    "start_time": "2021-12-22T08:02:47.733Z"
   },
   {
    "duration": 200,
    "start_time": "2021-12-22T08:02:47.769Z"
   },
   {
    "duration": 5,
    "start_time": "2021-12-22T08:02:47.971Z"
   },
   {
    "duration": 11,
    "start_time": "2021-12-22T08:02:47.977Z"
   },
   {
    "duration": 11,
    "start_time": "2021-12-22T08:02:47.989Z"
   },
   {
    "duration": 7,
    "start_time": "2021-12-22T08:02:48.004Z"
   },
   {
    "duration": 18,
    "start_time": "2021-12-22T08:02:48.013Z"
   },
   {
    "duration": 47,
    "start_time": "2021-12-22T08:02:48.033Z"
   },
   {
    "duration": 18,
    "start_time": "2021-12-22T08:02:48.083Z"
   },
   {
    "duration": 21,
    "start_time": "2021-12-22T08:02:48.103Z"
   },
   {
    "duration": 42,
    "start_time": "2021-12-22T08:02:48.126Z"
   },
   {
    "duration": 16,
    "start_time": "2021-12-22T08:02:48.169Z"
   },
   {
    "duration": 442,
    "start_time": "2021-12-22T08:02:48.186Z"
   },
   {
    "duration": 6,
    "start_time": "2021-12-22T08:02:48.630Z"
   },
   {
    "duration": 36,
    "start_time": "2021-12-22T08:02:48.637Z"
   },
   {
    "duration": 20,
    "start_time": "2021-12-22T08:02:48.675Z"
   },
   {
    "duration": 20,
    "start_time": "2021-12-22T08:02:48.696Z"
   },
   {
    "duration": 171,
    "start_time": "2021-12-22T08:02:48.718Z"
   },
   {
    "duration": 829,
    "start_time": "2021-12-22T08:02:48.891Z"
   },
   {
    "duration": -24550,
    "start_time": "2021-12-22T08:03:14.272Z"
   },
   {
    "duration": -24554,
    "start_time": "2021-12-22T08:03:14.277Z"
   },
   {
    "duration": -24556,
    "start_time": "2021-12-22T08:03:14.281Z"
   },
   {
    "duration": -24558,
    "start_time": "2021-12-22T08:03:14.284Z"
   },
   {
    "duration": -24560,
    "start_time": "2021-12-22T08:03:14.287Z"
   },
   {
    "duration": -24562,
    "start_time": "2021-12-22T08:03:14.290Z"
   },
   {
    "duration": -24564,
    "start_time": "2021-12-22T08:03:14.293Z"
   },
   {
    "duration": -24565,
    "start_time": "2021-12-22T08:03:14.295Z"
   },
   {
    "duration": -24566,
    "start_time": "2021-12-22T08:03:14.297Z"
   },
   {
    "duration": -24568,
    "start_time": "2021-12-22T08:03:14.300Z"
   },
   {
    "duration": -24576,
    "start_time": "2021-12-22T08:03:14.309Z"
   },
   {
    "duration": -24578,
    "start_time": "2021-12-22T08:03:14.311Z"
   },
   {
    "duration": -24555,
    "start_time": "2021-12-22T08:03:14.314Z"
   },
   {
    "duration": -24556,
    "start_time": "2021-12-22T08:03:14.317Z"
   },
   {
    "duration": -26258,
    "start_time": "2021-12-22T08:03:16.019Z"
   },
   {
    "duration": -26260,
    "start_time": "2021-12-22T08:03:16.022Z"
   },
   {
    "duration": -26268,
    "start_time": "2021-12-22T08:03:16.031Z"
   },
   {
    "duration": -26270,
    "start_time": "2021-12-22T08:03:16.034Z"
   },
   {
    "duration": -26274,
    "start_time": "2021-12-22T08:03:16.038Z"
   },
   {
    "duration": -26276,
    "start_time": "2021-12-22T08:03:16.041Z"
   },
   {
    "duration": -26278,
    "start_time": "2021-12-22T08:03:16.044Z"
   },
   {
    "duration": -26280,
    "start_time": "2021-12-22T08:03:16.046Z"
   },
   {
    "duration": -26282,
    "start_time": "2021-12-22T08:03:16.049Z"
   },
   {
    "duration": -26283,
    "start_time": "2021-12-22T08:03:16.051Z"
   },
   {
    "duration": -26291,
    "start_time": "2021-12-22T08:03:16.060Z"
   },
   {
    "duration": -26295,
    "start_time": "2021-12-22T08:03:16.064Z"
   },
   {
    "duration": -26297,
    "start_time": "2021-12-22T08:03:16.067Z"
   },
   {
    "duration": -26299,
    "start_time": "2021-12-22T08:03:16.070Z"
   },
   {
    "duration": -26301,
    "start_time": "2021-12-22T08:03:16.072Z"
   },
   {
    "duration": 858,
    "start_time": "2021-12-22T08:03:11.829Z"
   },
   {
    "duration": 947,
    "start_time": "2021-12-22T08:03:23.668Z"
   },
   {
    "duration": 872,
    "start_time": "2021-12-22T08:03:31.117Z"
   },
   {
    "duration": 824,
    "start_time": "2021-12-22T08:03:57.943Z"
   },
   {
    "duration": 871,
    "start_time": "2021-12-22T08:04:32.601Z"
   },
   {
    "duration": 1081,
    "start_time": "2021-12-22T08:04:38.847Z"
   },
   {
    "duration": 92,
    "start_time": "2021-12-22T08:04:51.294Z"
   },
   {
    "duration": 841,
    "start_time": "2021-12-22T08:05:02.952Z"
   },
   {
    "duration": 1165,
    "start_time": "2021-12-22T08:05:11.401Z"
   },
   {
    "duration": 50,
    "start_time": "2021-12-22T08:05:12.568Z"
   },
   {
    "duration": 10,
    "start_time": "2021-12-22T08:05:12.620Z"
   },
   {
    "duration": 4,
    "start_time": "2021-12-22T08:05:12.632Z"
   },
   {
    "duration": 7,
    "start_time": "2021-12-22T08:05:12.637Z"
   },
   {
    "duration": 26,
    "start_time": "2021-12-22T08:05:12.645Z"
   },
   {
    "duration": 16,
    "start_time": "2021-12-22T08:05:12.673Z"
   },
   {
    "duration": 8,
    "start_time": "2021-12-22T08:05:12.691Z"
   },
   {
    "duration": 16,
    "start_time": "2021-12-22T08:05:12.702Z"
   },
   {
    "duration": 13,
    "start_time": "2021-12-22T08:05:12.720Z"
   },
   {
    "duration": 28,
    "start_time": "2021-12-22T08:05:12.735Z"
   },
   {
    "duration": 15,
    "start_time": "2021-12-22T08:05:12.765Z"
   },
   {
    "duration": 11,
    "start_time": "2021-12-22T08:05:12.782Z"
   },
   {
    "duration": 10,
    "start_time": "2021-12-22T08:05:12.794Z"
   },
   {
    "duration": 22,
    "start_time": "2021-12-22T08:05:12.806Z"
   },
   {
    "duration": 38,
    "start_time": "2021-12-22T08:05:12.829Z"
   },
   {
    "duration": 15,
    "start_time": "2021-12-22T08:05:12.869Z"
   },
   {
    "duration": 13,
    "start_time": "2021-12-22T08:05:12.885Z"
   },
   {
    "duration": 217,
    "start_time": "2021-12-22T08:05:12.900Z"
   },
   {
    "duration": 5,
    "start_time": "2021-12-22T08:05:13.119Z"
   },
   {
    "duration": 13,
    "start_time": "2021-12-22T08:05:13.126Z"
   },
   {
    "duration": 21,
    "start_time": "2021-12-22T08:05:13.141Z"
   },
   {
    "duration": 10,
    "start_time": "2021-12-22T08:05:13.166Z"
   },
   {
    "duration": 15,
    "start_time": "2021-12-22T08:05:13.178Z"
   },
   {
    "duration": 24,
    "start_time": "2021-12-22T08:05:13.194Z"
   },
   {
    "duration": 24,
    "start_time": "2021-12-22T08:05:13.220Z"
   },
   {
    "duration": 24,
    "start_time": "2021-12-22T08:05:13.246Z"
   },
   {
    "duration": 14,
    "start_time": "2021-12-22T08:05:13.272Z"
   },
   {
    "duration": 18,
    "start_time": "2021-12-22T08:05:13.287Z"
   },
   {
    "duration": 439,
    "start_time": "2021-12-22T08:05:13.307Z"
   },
   {
    "duration": 13,
    "start_time": "2021-12-22T08:05:13.748Z"
   },
   {
    "duration": 21,
    "start_time": "2021-12-22T08:05:13.763Z"
   },
   {
    "duration": 12,
    "start_time": "2021-12-22T08:05:13.786Z"
   },
   {
    "duration": 8,
    "start_time": "2021-12-22T08:05:13.800Z"
   },
   {
    "duration": 182,
    "start_time": "2021-12-22T08:05:13.810Z"
   },
   {
    "duration": 1323,
    "start_time": "2021-12-22T08:05:13.993Z"
   },
   {
    "duration": 726,
    "start_time": "2021-12-22T08:05:15.318Z"
   },
   {
    "duration": 19,
    "start_time": "2021-12-22T08:05:16.046Z"
   },
   {
    "duration": 31,
    "start_time": "2021-12-22T08:05:16.067Z"
   },
   {
    "duration": 540,
    "start_time": "2021-12-22T08:05:16.100Z"
   },
   {
    "duration": 492,
    "start_time": "2021-12-22T08:05:16.642Z"
   },
   {
    "duration": 844,
    "start_time": "2021-12-22T08:05:17.136Z"
   },
   {
    "duration": 4666,
    "start_time": "2021-12-22T08:05:17.982Z"
   },
   {
    "duration": 34,
    "start_time": "2021-12-22T08:05:22.650Z"
   },
   {
    "duration": 24,
    "start_time": "2021-12-22T08:05:22.686Z"
   },
   {
    "duration": 15,
    "start_time": "2021-12-22T08:05:22.711Z"
   },
   {
    "duration": 373,
    "start_time": "2021-12-22T08:05:22.728Z"
   },
   {
    "duration": 8,
    "start_time": "2021-12-22T08:05:23.103Z"
   },
   {
    "duration": 195,
    "start_time": "2021-12-22T08:05:23.113Z"
   },
   {
    "duration": 18,
    "start_time": "2021-12-22T08:05:23.310Z"
   },
   {
    "duration": 193,
    "start_time": "2021-12-22T08:05:23.329Z"
   },
   {
    "duration": 9,
    "start_time": "2021-12-22T08:05:23.523Z"
   },
   {
    "duration": 197,
    "start_time": "2021-12-22T08:05:23.534Z"
   },
   {
    "duration": 9,
    "start_time": "2021-12-22T08:05:23.733Z"
   },
   {
    "duration": 210,
    "start_time": "2021-12-22T08:05:23.744Z"
   },
   {
    "duration": 8,
    "start_time": "2021-12-22T08:05:23.956Z"
   },
   {
    "duration": 8,
    "start_time": "2021-12-22T08:05:23.966Z"
   },
   {
    "duration": 5,
    "start_time": "2021-12-22T08:05:23.976Z"
   },
   {
    "duration": 8,
    "start_time": "2021-12-22T08:05:23.983Z"
   },
   {
    "duration": 199,
    "start_time": "2021-12-22T08:05:23.993Z"
   },
   {
    "duration": 179,
    "start_time": "2021-12-22T08:05:24.193Z"
   },
   {
    "duration": 194,
    "start_time": "2021-12-22T08:05:24.374Z"
   },
   {
    "duration": 174,
    "start_time": "2021-12-22T08:05:24.570Z"
   },
   {
    "duration": 21,
    "start_time": "2021-12-22T08:05:24.747Z"
   },
   {
    "duration": 38,
    "start_time": "2021-12-22T08:05:24.771Z"
   },
   {
    "duration": 613,
    "start_time": "2021-12-22T08:05:47.960Z"
   },
   {
    "duration": 332,
    "start_time": "2021-12-22T08:05:52.439Z"
   },
   {
    "duration": 400,
    "start_time": "2021-12-22T13:16:54.760Z"
   },
   {
    "duration": 502,
    "start_time": "2021-12-22T13:16:59.862Z"
   },
   {
    "duration": 254,
    "start_time": "2021-12-22T13:17:07.651Z"
   },
   {
    "duration": 1724,
    "start_time": "2021-12-22T13:17:23.584Z"
   },
   {
    "duration": 900,
    "start_time": "2021-12-22T13:17:25.311Z"
   },
   {
    "duration": 14,
    "start_time": "2021-12-22T13:17:26.214Z"
   },
   {
    "duration": 5,
    "start_time": "2021-12-22T13:17:26.231Z"
   },
   {
    "duration": 28,
    "start_time": "2021-12-22T13:17:26.239Z"
   },
   {
    "duration": 8,
    "start_time": "2021-12-22T13:17:26.269Z"
   },
   {
    "duration": 13,
    "start_time": "2021-12-22T13:17:26.280Z"
   },
   {
    "duration": 6,
    "start_time": "2021-12-22T13:17:26.298Z"
   },
   {
    "duration": 59,
    "start_time": "2021-12-22T13:17:26.308Z"
   },
   {
    "duration": 20,
    "start_time": "2021-12-22T13:17:26.370Z"
   },
   {
    "duration": 16,
    "start_time": "2021-12-22T13:17:26.393Z"
   },
   {
    "duration": 18,
    "start_time": "2021-12-22T13:17:26.412Z"
   },
   {
    "duration": 45,
    "start_time": "2021-12-22T13:17:26.433Z"
   },
   {
    "duration": 8,
    "start_time": "2021-12-22T13:17:26.481Z"
   },
   {
    "duration": 28,
    "start_time": "2021-12-22T13:17:26.492Z"
   },
   {
    "duration": 47,
    "start_time": "2021-12-22T13:17:26.522Z"
   },
   {
    "duration": 22,
    "start_time": "2021-12-22T13:17:26.572Z"
   },
   {
    "duration": 9,
    "start_time": "2021-12-22T13:17:26.597Z"
   },
   {
    "duration": 398,
    "start_time": "2021-12-22T13:17:26.609Z"
   },
   {
    "duration": 9,
    "start_time": "2021-12-22T13:17:27.010Z"
   },
   {
    "duration": 8,
    "start_time": "2021-12-22T13:17:27.022Z"
   },
   {
    "duration": 40,
    "start_time": "2021-12-22T13:17:27.033Z"
   },
   {
    "duration": 10,
    "start_time": "2021-12-22T13:17:27.082Z"
   },
   {
    "duration": 24,
    "start_time": "2021-12-22T13:17:27.096Z"
   },
   {
    "duration": 62,
    "start_time": "2021-12-22T13:17:27.123Z"
   },
   {
    "duration": 22,
    "start_time": "2021-12-22T13:17:27.188Z"
   },
   {
    "duration": 54,
    "start_time": "2021-12-22T13:17:27.213Z"
   },
   {
    "duration": 31,
    "start_time": "2021-12-22T13:17:27.270Z"
   },
   {
    "duration": 25,
    "start_time": "2021-12-22T13:17:27.303Z"
   },
   {
    "duration": 775,
    "start_time": "2021-12-22T13:17:27.331Z"
   },
   {
    "duration": 7,
    "start_time": "2021-12-22T13:17:28.109Z"
   },
   {
    "duration": 69,
    "start_time": "2021-12-22T13:17:28.119Z"
   },
   {
    "duration": 8,
    "start_time": "2021-12-22T13:17:28.191Z"
   },
   {
    "duration": 12,
    "start_time": "2021-12-22T13:17:28.202Z"
   },
   {
    "duration": 291,
    "start_time": "2021-12-22T13:17:28.217Z"
   },
   {
    "duration": 1418,
    "start_time": "2021-12-22T13:17:28.510Z"
   },
   {
    "duration": 1183,
    "start_time": "2021-12-22T13:17:29.931Z"
   },
   {
    "duration": 21,
    "start_time": "2021-12-22T13:17:31.116Z"
   },
   {
    "duration": 71,
    "start_time": "2021-12-22T13:17:31.140Z"
   },
   {
    "duration": 905,
    "start_time": "2021-12-22T13:17:31.215Z"
   },
   {
    "duration": 835,
    "start_time": "2021-12-22T13:17:32.123Z"
   },
   {
    "duration": 1261,
    "start_time": "2021-12-22T13:17:32.968Z"
   },
   {
    "duration": 6785,
    "start_time": "2021-12-22T13:17:34.232Z"
   },
   {
    "duration": 63,
    "start_time": "2021-12-22T13:17:41.020Z"
   },
   {
    "duration": 36,
    "start_time": "2021-12-22T13:17:41.086Z"
   },
   {
    "duration": 42,
    "start_time": "2021-12-22T13:17:41.125Z"
   },
   {
    "duration": 1022,
    "start_time": "2021-12-22T13:17:41.171Z"
   },
   {
    "duration": 10,
    "start_time": "2021-12-22T13:17:42.196Z"
   },
   {
    "duration": 357,
    "start_time": "2021-12-22T13:17:42.209Z"
   },
   {
    "duration": 11,
    "start_time": "2021-12-22T13:17:42.569Z"
   },
   {
    "duration": 347,
    "start_time": "2021-12-22T13:17:42.583Z"
   },
   {
    "duration": 13,
    "start_time": "2021-12-22T13:17:42.933Z"
   },
   {
    "duration": 388,
    "start_time": "2021-12-22T13:17:42.949Z"
   },
   {
    "duration": 28,
    "start_time": "2021-12-22T13:17:43.339Z"
   },
   {
    "duration": 318,
    "start_time": "2021-12-22T13:17:43.371Z"
   },
   {
    "duration": 10,
    "start_time": "2021-12-22T13:17:43.693Z"
   },
   {
    "duration": 21,
    "start_time": "2021-12-22T13:17:43.705Z"
   },
   {
    "duration": 53,
    "start_time": "2021-12-22T13:17:43.729Z"
   },
   {
    "duration": 9,
    "start_time": "2021-12-22T13:17:43.785Z"
   },
   {
    "duration": 300,
    "start_time": "2021-12-22T13:17:43.797Z"
   },
   {
    "duration": 306,
    "start_time": "2021-12-22T13:17:44.100Z"
   },
   {
    "duration": 306,
    "start_time": "2021-12-22T13:17:44.409Z"
   },
   {
    "duration": 305,
    "start_time": "2021-12-22T13:17:44.718Z"
   },
   {
    "duration": 17,
    "start_time": "2021-12-22T13:17:45.026Z"
   },
   {
    "duration": 33,
    "start_time": "2021-12-22T13:17:45.046Z"
   },
   {
    "duration": 999,
    "start_time": "2021-12-22T13:18:35.989Z"
   },
   {
    "duration": 529,
    "start_time": "2021-12-22T13:19:16.190Z"
   },
   {
    "duration": 864,
    "start_time": "2021-12-22T13:19:39.013Z"
   },
   {
    "duration": 14,
    "start_time": "2021-12-22T13:22:28.929Z"
   },
   {
    "duration": 265,
    "start_time": "2021-12-22T13:22:33.056Z"
   },
   {
    "duration": 12,
    "start_time": "2021-12-22T13:23:18.117Z"
   },
   {
    "duration": 274,
    "start_time": "2021-12-22T13:23:57.771Z"
   },
   {
    "duration": 375,
    "start_time": "2021-12-22T13:24:56.260Z"
   },
   {
    "duration": 11,
    "start_time": "2021-12-22T13:27:55.678Z"
   },
   {
    "duration": 10,
    "start_time": "2021-12-22T13:28:12.241Z"
   },
   {
    "duration": 335,
    "start_time": "2021-12-22T13:28:38.345Z"
   },
   {
    "duration": 261,
    "start_time": "2021-12-22T13:29:08.706Z"
   },
   {
    "duration": 313,
    "start_time": "2021-12-22T13:29:36.402Z"
   },
   {
    "duration": 13,
    "start_time": "2021-12-22T13:32:32.278Z"
   },
   {
    "duration": 272,
    "start_time": "2021-12-22T13:32:35.157Z"
   },
   {
    "duration": 10,
    "start_time": "2021-12-22T13:33:57.945Z"
   },
   {
    "duration": 12,
    "start_time": "2021-12-22T13:34:05.625Z"
   },
   {
    "duration": 269,
    "start_time": "2021-12-22T13:34:40.874Z"
   },
   {
    "duration": 314,
    "start_time": "2021-12-22T13:34:50.958Z"
   },
   {
    "duration": 267,
    "start_time": "2021-12-22T13:35:01.449Z"
   },
   {
    "duration": 17,
    "start_time": "2021-12-22T13:57:59.615Z"
   },
   {
    "duration": 1576,
    "start_time": "2021-12-22T14:11:20.236Z"
   },
   {
    "duration": 82,
    "start_time": "2021-12-22T14:11:21.815Z"
   },
   {
    "duration": 16,
    "start_time": "2021-12-22T14:11:21.900Z"
   },
   {
    "duration": 7,
    "start_time": "2021-12-22T14:11:21.920Z"
   },
   {
    "duration": 46,
    "start_time": "2021-12-22T14:11:21.929Z"
   },
   {
    "duration": 7,
    "start_time": "2021-12-22T14:11:21.979Z"
   },
   {
    "duration": 14,
    "start_time": "2021-12-22T14:11:21.989Z"
   },
   {
    "duration": 9,
    "start_time": "2021-12-22T14:11:22.007Z"
   },
   {
    "duration": 20,
    "start_time": "2021-12-22T14:11:22.019Z"
   },
   {
    "duration": 56,
    "start_time": "2021-12-22T14:11:22.041Z"
   },
   {
    "duration": 14,
    "start_time": "2021-12-22T14:11:22.100Z"
   },
   {
    "duration": 21,
    "start_time": "2021-12-22T14:11:22.117Z"
   },
   {
    "duration": 17,
    "start_time": "2021-12-22T14:11:22.168Z"
   },
   {
    "duration": 8,
    "start_time": "2021-12-22T14:11:22.188Z"
   },
   {
    "duration": 28,
    "start_time": "2021-12-22T14:11:22.199Z"
   },
   {
    "duration": 47,
    "start_time": "2021-12-22T14:11:22.229Z"
   },
   {
    "duration": 28,
    "start_time": "2021-12-22T14:11:22.280Z"
   },
   {
    "duration": 12,
    "start_time": "2021-12-22T14:11:22.311Z"
   },
   {
    "duration": 403,
    "start_time": "2021-12-22T14:11:22.326Z"
   },
   {
    "duration": 8,
    "start_time": "2021-12-22T14:11:22.731Z"
   },
   {
    "duration": 26,
    "start_time": "2021-12-22T14:11:22.741Z"
   },
   {
    "duration": 16,
    "start_time": "2021-12-22T14:11:22.770Z"
   },
   {
    "duration": 8,
    "start_time": "2021-12-22T14:11:22.793Z"
   },
   {
    "duration": 25,
    "start_time": "2021-12-22T14:11:22.806Z"
   },
   {
    "duration": 55,
    "start_time": "2021-12-22T14:11:22.833Z"
   },
   {
    "duration": 22,
    "start_time": "2021-12-22T14:11:22.891Z"
   },
   {
    "duration": 55,
    "start_time": "2021-12-22T14:11:22.915Z"
   },
   {
    "duration": 22,
    "start_time": "2021-12-22T14:11:22.973Z"
   },
   {
    "duration": 27,
    "start_time": "2021-12-22T14:11:22.998Z"
   },
   {
    "duration": 777,
    "start_time": "2021-12-22T14:11:23.028Z"
   },
   {
    "duration": 8,
    "start_time": "2021-12-22T14:11:23.808Z"
   },
   {
    "duration": 64,
    "start_time": "2021-12-22T14:11:23.819Z"
   },
   {
    "duration": 11,
    "start_time": "2021-12-22T14:11:23.887Z"
   },
   {
    "duration": 12,
    "start_time": "2021-12-22T14:11:23.901Z"
   },
   {
    "duration": 316,
    "start_time": "2021-12-22T14:11:23.915Z"
   },
   {
    "duration": 1461,
    "start_time": "2021-12-22T14:11:24.234Z"
   },
   {
    "duration": 1344,
    "start_time": "2021-12-22T14:11:25.699Z"
   },
   {
    "duration": 32,
    "start_time": "2021-12-22T14:11:27.045Z"
   },
   {
    "duration": 51,
    "start_time": "2021-12-22T14:11:27.079Z"
   },
   {
    "duration": 841,
    "start_time": "2021-12-22T14:11:27.132Z"
   },
   {
    "duration": 720,
    "start_time": "2021-12-22T14:11:27.977Z"
   },
   {
    "duration": 1385,
    "start_time": "2021-12-22T14:11:28.701Z"
   },
   {
    "duration": 6802,
    "start_time": "2021-12-22T14:11:30.088Z"
   },
   {
    "duration": 37,
    "start_time": "2021-12-22T14:11:36.893Z"
   },
   {
    "duration": 63,
    "start_time": "2021-12-22T14:11:36.933Z"
   },
   {
    "duration": 21,
    "start_time": "2021-12-22T14:11:36.998Z"
   },
   {
    "duration": 793,
    "start_time": "2021-12-22T14:11:37.022Z"
   },
   {
    "duration": 98,
    "start_time": "2021-12-22T14:11:37.819Z"
   },
   {
    "duration": 10,
    "start_time": "2021-12-22T14:11:37.911Z"
   },
   {
    "duration": -1,
    "start_time": "2021-12-22T14:11:37.924Z"
   },
   {
    "duration": -10,
    "start_time": "2021-12-22T14:11:37.936Z"
   },
   {
    "duration": -18,
    "start_time": "2021-12-22T14:11:37.946Z"
   },
   {
    "duration": -27,
    "start_time": "2021-12-22T14:11:37.958Z"
   },
   {
    "duration": -44,
    "start_time": "2021-12-22T14:11:37.977Z"
   },
   {
    "duration": -55,
    "start_time": "2021-12-22T14:11:37.990Z"
   },
   {
    "duration": -63,
    "start_time": "2021-12-22T14:11:38.001Z"
   },
   {
    "duration": -73,
    "start_time": "2021-12-22T14:11:38.013Z"
   },
   {
    "duration": -81,
    "start_time": "2021-12-22T14:11:38.023Z"
   },
   {
    "duration": -91,
    "start_time": "2021-12-22T14:11:38.035Z"
   },
   {
    "duration": -98,
    "start_time": "2021-12-22T14:11:38.045Z"
   },
   {
    "duration": -108,
    "start_time": "2021-12-22T14:11:38.057Z"
   },
   {
    "duration": -117,
    "start_time": "2021-12-22T14:11:38.068Z"
   },
   {
    "duration": -132,
    "start_time": "2021-12-22T14:11:38.085Z"
   },
   {
    "duration": -141,
    "start_time": "2021-12-22T14:11:38.096Z"
   },
   {
    "duration": -155,
    "start_time": "2021-12-22T14:11:38.113Z"
   },
   {
    "duration": 1687,
    "start_time": "2021-12-22T14:12:40.585Z"
   },
   {
    "duration": 98,
    "start_time": "2021-12-22T14:12:42.276Z"
   },
   {
    "duration": 22,
    "start_time": "2021-12-22T14:12:42.378Z"
   },
   {
    "duration": 7,
    "start_time": "2021-12-22T14:12:42.404Z"
   },
   {
    "duration": 5,
    "start_time": "2021-12-22T14:12:42.414Z"
   },
   {
    "duration": 47,
    "start_time": "2021-12-22T14:12:42.422Z"
   },
   {
    "duration": 14,
    "start_time": "2021-12-22T14:12:42.472Z"
   },
   {
    "duration": 10,
    "start_time": "2021-12-22T14:12:42.489Z"
   },
   {
    "duration": 29,
    "start_time": "2021-12-22T14:12:42.503Z"
   },
   {
    "duration": 48,
    "start_time": "2021-12-22T14:12:42.535Z"
   },
   {
    "duration": 15,
    "start_time": "2021-12-22T14:12:42.586Z"
   },
   {
    "duration": 18,
    "start_time": "2021-12-22T14:12:42.603Z"
   },
   {
    "duration": 45,
    "start_time": "2021-12-22T14:12:42.624Z"
   },
   {
    "duration": 9,
    "start_time": "2021-12-22T14:12:42.671Z"
   },
   {
    "duration": 28,
    "start_time": "2021-12-22T14:12:42.683Z"
   },
   {
    "duration": 12,
    "start_time": "2021-12-22T14:12:42.714Z"
   },
   {
    "duration": 56,
    "start_time": "2021-12-22T14:12:42.729Z"
   },
   {
    "duration": 11,
    "start_time": "2021-12-22T14:12:42.788Z"
   },
   {
    "duration": 382,
    "start_time": "2021-12-22T14:12:42.802Z"
   },
   {
    "duration": 6,
    "start_time": "2021-12-22T14:12:43.187Z"
   },
   {
    "duration": 11,
    "start_time": "2021-12-22T14:12:43.196Z"
   },
   {
    "duration": 9,
    "start_time": "2021-12-22T14:12:43.209Z"
   },
   {
    "duration": 12,
    "start_time": "2021-12-22T14:12:43.220Z"
   },
   {
    "duration": 57,
    "start_time": "2021-12-22T14:12:43.235Z"
   },
   {
    "duration": 24,
    "start_time": "2021-12-22T14:12:43.295Z"
   },
   {
    "duration": 49,
    "start_time": "2021-12-22T14:12:43.321Z"
   },
   {
    "duration": 23,
    "start_time": "2021-12-22T14:12:43.378Z"
   },
   {
    "duration": 21,
    "start_time": "2021-12-22T14:12:43.405Z"
   },
   {
    "duration": 60,
    "start_time": "2021-12-22T14:12:43.428Z"
   },
   {
    "duration": 743,
    "start_time": "2021-12-22T14:12:43.490Z"
   },
   {
    "duration": 9,
    "start_time": "2021-12-22T14:12:44.235Z"
   },
   {
    "duration": 46,
    "start_time": "2021-12-22T14:12:44.246Z"
   },
   {
    "duration": 44,
    "start_time": "2021-12-22T14:12:44.294Z"
   },
   {
    "duration": 65,
    "start_time": "2021-12-22T14:12:44.341Z"
   },
   {
    "duration": 274,
    "start_time": "2021-12-22T14:12:44.410Z"
   },
   {
    "duration": 1408,
    "start_time": "2021-12-22T14:12:44.687Z"
   },
   {
    "duration": 1116,
    "start_time": "2021-12-22T14:12:46.098Z"
   },
   {
    "duration": 22,
    "start_time": "2021-12-22T14:12:47.217Z"
   },
   {
    "duration": 68,
    "start_time": "2021-12-22T14:12:47.241Z"
   },
   {
    "duration": 775,
    "start_time": "2021-12-22T14:12:47.311Z"
   },
   {
    "duration": 657,
    "start_time": "2021-12-22T14:12:48.088Z"
   },
   {
    "duration": 1200,
    "start_time": "2021-12-22T14:12:48.748Z"
   },
   {
    "duration": 6723,
    "start_time": "2021-12-22T14:12:49.951Z"
   },
   {
    "duration": 36,
    "start_time": "2021-12-22T14:12:56.676Z"
   },
   {
    "duration": 68,
    "start_time": "2021-12-22T14:12:56.714Z"
   },
   {
    "duration": 21,
    "start_time": "2021-12-22T14:12:56.784Z"
   },
   {
    "duration": 1076,
    "start_time": "2021-12-22T14:12:56.808Z"
   },
   {
    "duration": 10,
    "start_time": "2021-12-22T14:12:57.888Z"
   },
   {
    "duration": 296,
    "start_time": "2021-12-22T14:12:57.901Z"
   },
   {
    "duration": 10,
    "start_time": "2021-12-22T14:12:58.200Z"
   },
   {
    "duration": 279,
    "start_time": "2021-12-22T14:12:58.213Z"
   },
   {
    "duration": 10,
    "start_time": "2021-12-22T14:12:58.495Z"
   },
   {
    "duration": 289,
    "start_time": "2021-12-22T14:12:58.507Z"
   },
   {
    "duration": 10,
    "start_time": "2021-12-22T14:12:58.799Z"
   },
   {
    "duration": 279,
    "start_time": "2021-12-22T14:12:58.811Z"
   },
   {
    "duration": 8,
    "start_time": "2021-12-22T14:12:59.093Z"
   },
   {
    "duration": 16,
    "start_time": "2021-12-22T14:12:59.104Z"
   },
   {
    "duration": 8,
    "start_time": "2021-12-22T14:12:59.123Z"
   },
   {
    "duration": 39,
    "start_time": "2021-12-22T14:12:59.134Z"
   },
   {
    "duration": 310,
    "start_time": "2021-12-22T14:12:59.176Z"
   },
   {
    "duration": 304,
    "start_time": "2021-12-22T14:12:59.488Z"
   },
   {
    "duration": 302,
    "start_time": "2021-12-22T14:12:59.794Z"
   },
   {
    "duration": 419,
    "start_time": "2021-12-22T14:13:00.099Z"
   },
   {
    "duration": 22,
    "start_time": "2021-12-22T14:13:00.521Z"
   },
   {
    "duration": 36,
    "start_time": "2021-12-22T14:13:00.545Z"
   }
  ],
  "kernelspec": {
   "display_name": "Python 3",
   "language": "python",
   "name": "python3"
  },
  "language_info": {
   "codemirror_mode": {
    "name": "ipython",
    "version": 3
   },
   "file_extension": ".py",
   "mimetype": "text/x-python",
   "name": "python",
   "nbconvert_exporter": "python",
   "pygments_lexer": "ipython3",
   "version": "3.7.13"
  },
  "toc": {
   "base_numbering": 1,
   "nav_menu": {},
   "number_sections": true,
   "sideBar": true,
   "skip_h1_title": true,
   "title_cell": "Table of Contents",
   "title_sidebar": "Contents",
   "toc_cell": false,
   "toc_position": {
    "height": "calc(100% - 180px)",
    "left": "10px",
    "top": "150px",
    "width": "409px"
   },
   "toc_section_display": true,
   "toc_window_display": false
  }
 },
 "nbformat": 4,
 "nbformat_minor": 2
}
